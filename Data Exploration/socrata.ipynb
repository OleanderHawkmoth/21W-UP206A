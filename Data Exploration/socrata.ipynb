{
 "cells": [
  {
   "cell_type": "markdown",
   "metadata": {},
   "source": [
    "# Getting data from a Socrata API\n",
    "\n",
    "Many governments use socrata as their platform to serve data to the public. The Socrata API allows direct and real-time access to open data.\n",
    "\n",
    "https://github.com/xmunoz/sodapy\n",
    "\n",
    "For this tutorial, we will use traffic collision data:\n",
    "\n",
    "https://data.lacity.org/A-Safe-City/Traffic-Collision-Data-from-2010-to-Present/d5tf-ez2w\n"
   ]
  },
  {
   "cell_type": "code",
   "execution_count": 1,
   "metadata": {},
   "outputs": [
    {
     "name": "stderr",
     "output_type": "stream",
     "text": [
      "WARNING:root:Requests made without an app_token will be subject to strict throttling limits.\n"
     ]
    }
   ],
   "source": [
    "#!/usr/bin/env python\n",
    "\n",
    "# make sure to install these packages before running:\n",
    "# pip install pandas\n",
    "# pip install sodapy\n",
    "\n",
    "import pandas as pd\n",
    "from sodapy import Socrata\n",
    "\n",
    "# Unauthenticated client only works with public data sets. Note 'None'\n",
    "# in place of application token, and no username or password:\n",
    "client = Socrata(\"data.lacity.org\", None)\n",
    "\n",
    "# Example authenticated client (needed for non-public datasets):\n",
    "# client = Socrata(data.lacity.org,\n",
    "#                  MyAppToken,\n",
    "#                  userame=\"user@example.com\",\n",
    "#                  password=\"AFakePassword\")\n",
    "\n",
    "# First 2000 results, returned as JSON from API / converted to Python list of\n",
    "# dictionaries by sodapy.\n",
    "results = client.get(\"d5tf-ez2w\", limit=2000,)\n",
    "\n",
    "# Convert to pandas DataFrame\n",
    "results_df = pd.DataFrame.from_records(results)"
   ]
  },
  {
   "cell_type": "raw",
   "metadata": {},
   "source": [
    "results_df"
   ]
  },
  {
   "cell_type": "code",
   "execution_count": 2,
   "metadata": {},
   "outputs": [
    {
     "data": {
      "text/plain": [
       "2000"
      ]
     },
     "execution_count": 2,
     "metadata": {},
     "output_type": "execute_result"
    }
   ],
   "source": [
    "len(results)"
   ]
  },
  {
   "cell_type": "code",
   "execution_count": 3,
   "metadata": {},
   "outputs": [],
   "source": [
    "# put it in a dataframe\n",
    "results_df = pd.DataFrame.from_records(results)"
   ]
  },
  {
   "cell_type": "code",
   "execution_count": 4,
   "metadata": {},
   "outputs": [
    {
     "data": {
      "text/html": [
       "<div>\n",
       "<style scoped>\n",
       "    .dataframe tbody tr th:only-of-type {\n",
       "        vertical-align: middle;\n",
       "    }\n",
       "\n",
       "    .dataframe tbody tr th {\n",
       "        vertical-align: top;\n",
       "    }\n",
       "\n",
       "    .dataframe thead th {\n",
       "        text-align: right;\n",
       "    }\n",
       "</style>\n",
       "<table border=\"1\" class=\"dataframe\">\n",
       "  <thead>\n",
       "    <tr style=\"text-align: right;\">\n",
       "      <th></th>\n",
       "      <th>dr_no</th>\n",
       "      <th>date_rptd</th>\n",
       "      <th>date_occ</th>\n",
       "      <th>time_occ</th>\n",
       "      <th>area</th>\n",
       "      <th>area_name</th>\n",
       "      <th>rpt_dist_no</th>\n",
       "      <th>crm_cd</th>\n",
       "      <th>crm_cd_desc</th>\n",
       "      <th>mocodes</th>\n",
       "      <th>...</th>\n",
       "      <th>premis_desc</th>\n",
       "      <th>location</th>\n",
       "      <th>cross_street</th>\n",
       "      <th>location_1</th>\n",
       "      <th>:@computed_region_qz3q_ghft</th>\n",
       "      <th>:@computed_region_k96s_3jcv</th>\n",
       "      <th>:@computed_region_tatf_ua23</th>\n",
       "      <th>:@computed_region_kqwf_mjcx</th>\n",
       "      <th>:@computed_region_2dna_qi2s</th>\n",
       "      <th>:@computed_region_ur2y_g4cx</th>\n",
       "    </tr>\n",
       "  </thead>\n",
       "  <tbody>\n",
       "    <tr>\n",
       "      <th>0</th>\n",
       "      <td>190211527</td>\n",
       "      <td>2019-05-18T00:00:00.000</td>\n",
       "      <td>2019-05-18T00:00:00.000</td>\n",
       "      <td>0110</td>\n",
       "      <td>02</td>\n",
       "      <td>Rampart</td>\n",
       "      <td>0279</td>\n",
       "      <td>997</td>\n",
       "      <td>TRAFFIC COLLISION</td>\n",
       "      <td>3101 3401 3701 3004 3030</td>\n",
       "      <td>...</td>\n",
       "      <td>STREET</td>\n",
       "      <td>UNION</td>\n",
       "      <td>JAMES M WOOD</td>\n",
       "      <td>{'latitude': '34.0508', 'longitude': '-118.273...</td>\n",
       "      <td>23076</td>\n",
       "      <td>576</td>\n",
       "      <td>1378</td>\n",
       "      <td>11</td>\n",
       "      <td>68</td>\n",
       "      <td>NaN</td>\n",
       "    </tr>\n",
       "    <tr>\n",
       "      <th>1</th>\n",
       "      <td>110518459</td>\n",
       "      <td>2011-10-11T00:00:00.000</td>\n",
       "      <td>2011-10-11T00:00:00.000</td>\n",
       "      <td>1735</td>\n",
       "      <td>05</td>\n",
       "      <td>Harbor</td>\n",
       "      <td>0505</td>\n",
       "      <td>997</td>\n",
       "      <td>TRAFFIC COLLISION</td>\n",
       "      <td>0506</td>\n",
       "      <td>...</td>\n",
       "      <td>STREET</td>\n",
       "      <td>VERMONT</td>\n",
       "      <td>KNOX</td>\n",
       "      <td>{'latitude': '33.8542', 'longitude': '-118.290...</td>\n",
       "      <td>25716</td>\n",
       "      <td>944</td>\n",
       "      <td>798</td>\n",
       "      <td>NaN</td>\n",
       "      <td>NaN</td>\n",
       "      <td>NaN</td>\n",
       "    </tr>\n",
       "    <tr>\n",
       "      <th>2</th>\n",
       "      <td>180618348</td>\n",
       "      <td>2018-08-09T00:00:00.000</td>\n",
       "      <td>2018-08-09T00:00:00.000</td>\n",
       "      <td>1830</td>\n",
       "      <td>06</td>\n",
       "      <td>Hollywood</td>\n",
       "      <td>0665</td>\n",
       "      <td>997</td>\n",
       "      <td>TRAFFIC COLLISION</td>\n",
       "      <td>3004 3028 3030 3035 3036 3101 3401 3701 4006</td>\n",
       "      <td>...</td>\n",
       "      <td>STREET</td>\n",
       "      <td>FRANKLIN                     AV</td>\n",
       "      <td>ARGYLE</td>\n",
       "      <td>{'latitude': '34.1052', 'longitude': '-118.325...</td>\n",
       "      <td>23446</td>\n",
       "      <td>417</td>\n",
       "      <td>485</td>\n",
       "      <td>8</td>\n",
       "      <td>64</td>\n",
       "      <td>NaN</td>\n",
       "    </tr>\n",
       "    <tr>\n",
       "      <th>3</th>\n",
       "      <td>120312271</td>\n",
       "      <td>2012-05-09T00:00:00.000</td>\n",
       "      <td>2012-05-09T00:00:00.000</td>\n",
       "      <td>0845</td>\n",
       "      <td>03</td>\n",
       "      <td>Southwest</td>\n",
       "      <td>0331</td>\n",
       "      <td>997</td>\n",
       "      <td>TRAFFIC COLLISION</td>\n",
       "      <td>NaN</td>\n",
       "      <td>...</td>\n",
       "      <td>STREET</td>\n",
       "      <td>LA BREA                      AV</td>\n",
       "      <td>JEFFERSON                    BL</td>\n",
       "      <td>{'latitude': '34.0255', 'longitude': '-118.354...</td>\n",
       "      <td>23077</td>\n",
       "      <td>664</td>\n",
       "      <td>924</td>\n",
       "      <td>12</td>\n",
       "      <td>17</td>\n",
       "      <td>7</td>\n",
       "    </tr>\n",
       "    <tr>\n",
       "      <th>4</th>\n",
       "      <td>121215287</td>\n",
       "      <td>2012-06-13T00:00:00.000</td>\n",
       "      <td>2012-06-13T00:00:00.000</td>\n",
       "      <td>0745</td>\n",
       "      <td>12</td>\n",
       "      <td>77th Street</td>\n",
       "      <td>1208</td>\n",
       "      <td>997</td>\n",
       "      <td>TRAFFIC COLLISION</td>\n",
       "      <td>0605</td>\n",
       "      <td>...</td>\n",
       "      <td>STREET</td>\n",
       "      <td>48TH                         ST</td>\n",
       "      <td>FIGUEROA</td>\n",
       "      <td>{'latitude': '33.9997', 'longitude': '-118.282...</td>\n",
       "      <td>23668</td>\n",
       "      <td>739</td>\n",
       "      <td>896</td>\n",
       "      <td>13</td>\n",
       "      <td>2</td>\n",
       "      <td>7</td>\n",
       "    </tr>\n",
       "  </tbody>\n",
       "</table>\n",
       "<p>5 rows × 24 columns</p>\n",
       "</div>"
      ],
      "text/plain": [
       "       dr_no                date_rptd                 date_occ time_occ area  \\\n",
       "0  190211527  2019-05-18T00:00:00.000  2019-05-18T00:00:00.000     0110   02   \n",
       "1  110518459  2011-10-11T00:00:00.000  2011-10-11T00:00:00.000     1735   05   \n",
       "2  180618348  2018-08-09T00:00:00.000  2018-08-09T00:00:00.000     1830   06   \n",
       "3  120312271  2012-05-09T00:00:00.000  2012-05-09T00:00:00.000     0845   03   \n",
       "4  121215287  2012-06-13T00:00:00.000  2012-06-13T00:00:00.000     0745   12   \n",
       "\n",
       "     area_name rpt_dist_no crm_cd        crm_cd_desc  \\\n",
       "0      Rampart        0279    997  TRAFFIC COLLISION   \n",
       "1       Harbor        0505    997  TRAFFIC COLLISION   \n",
       "2    Hollywood        0665    997  TRAFFIC COLLISION   \n",
       "3    Southwest        0331    997  TRAFFIC COLLISION   \n",
       "4  77th Street        1208    997  TRAFFIC COLLISION   \n",
       "\n",
       "                                        mocodes  ... premis_desc  \\\n",
       "0                      3101 3401 3701 3004 3030  ...      STREET   \n",
       "1                                          0506  ...      STREET   \n",
       "2  3004 3028 3030 3035 3036 3101 3401 3701 4006  ...      STREET   \n",
       "3                                           NaN  ...      STREET   \n",
       "4                                          0605  ...      STREET   \n",
       "\n",
       "                          location                     cross_street  \\\n",
       "0                            UNION                     JAMES M WOOD   \n",
       "1                          VERMONT                             KNOX   \n",
       "2  FRANKLIN                     AV                           ARGYLE   \n",
       "3  LA BREA                      AV  JEFFERSON                    BL   \n",
       "4  48TH                         ST                         FIGUEROA   \n",
       "\n",
       "                                          location_1  \\\n",
       "0  {'latitude': '34.0508', 'longitude': '-118.273...   \n",
       "1  {'latitude': '33.8542', 'longitude': '-118.290...   \n",
       "2  {'latitude': '34.1052', 'longitude': '-118.325...   \n",
       "3  {'latitude': '34.0255', 'longitude': '-118.354...   \n",
       "4  {'latitude': '33.9997', 'longitude': '-118.282...   \n",
       "\n",
       "  :@computed_region_qz3q_ghft :@computed_region_k96s_3jcv  \\\n",
       "0                       23076                         576   \n",
       "1                       25716                         944   \n",
       "2                       23446                         417   \n",
       "3                       23077                         664   \n",
       "4                       23668                         739   \n",
       "\n",
       "  :@computed_region_tatf_ua23 :@computed_region_kqwf_mjcx  \\\n",
       "0                        1378                          11   \n",
       "1                         798                         NaN   \n",
       "2                         485                           8   \n",
       "3                         924                          12   \n",
       "4                         896                          13   \n",
       "\n",
       "  :@computed_region_2dna_qi2s :@computed_region_ur2y_g4cx  \n",
       "0                          68                         NaN  \n",
       "1                         NaN                         NaN  \n",
       "2                          64                         NaN  \n",
       "3                          17                           7  \n",
       "4                           2                           7  \n",
       "\n",
       "[5 rows x 24 columns]"
      ]
     },
     "execution_count": 4,
     "metadata": {},
     "output_type": "execute_result"
    }
   ],
   "source": [
    "results_df.head()"
   ]
  },
  {
   "cell_type": "markdown",
   "metadata": {},
   "source": [
    "That's pretty random. You can use other arguments to filter down what you import. For example, get the last 2000 records and order it by date:\n",
    "- `where`\n",
    "- `order`"
   ]
  },
  {
   "cell_type": "code",
   "execution_count": 5,
   "metadata": {},
   "outputs": [],
   "source": [
    "results = client.get(\"d5tf-ez2w\", \n",
    "                     limit = 2000,\n",
    "                     order = \"date_rptd desc\")\n",
    "\n",
    "# Convert to pandas DataFrame\n",
    "results_df = pd.DataFrame.from_records(results)"
   ]
  },
  {
   "cell_type": "code",
   "execution_count": 6,
   "metadata": {},
   "outputs": [
    {
     "data": {
      "text/html": [
       "<div>\n",
       "<style scoped>\n",
       "    .dataframe tbody tr th:only-of-type {\n",
       "        vertical-align: middle;\n",
       "    }\n",
       "\n",
       "    .dataframe tbody tr th {\n",
       "        vertical-align: top;\n",
       "    }\n",
       "\n",
       "    .dataframe thead th {\n",
       "        text-align: right;\n",
       "    }\n",
       "</style>\n",
       "<table border=\"1\" class=\"dataframe\">\n",
       "  <thead>\n",
       "    <tr style=\"text-align: right;\">\n",
       "      <th></th>\n",
       "      <th>dr_no</th>\n",
       "      <th>date_rptd</th>\n",
       "      <th>date_occ</th>\n",
       "      <th>time_occ</th>\n",
       "      <th>area</th>\n",
       "      <th>area_name</th>\n",
       "      <th>rpt_dist_no</th>\n",
       "      <th>crm_cd</th>\n",
       "      <th>crm_cd_desc</th>\n",
       "      <th>vict_age</th>\n",
       "      <th>vict_sex</th>\n",
       "      <th>vict_descent</th>\n",
       "      <th>premis_cd</th>\n",
       "      <th>premis_desc</th>\n",
       "      <th>location</th>\n",
       "      <th>cross_street</th>\n",
       "      <th>location_1</th>\n",
       "      <th>mocodes</th>\n",
       "    </tr>\n",
       "  </thead>\n",
       "  <tbody>\n",
       "    <tr>\n",
       "      <th>1073</th>\n",
       "      <td>201216776</td>\n",
       "      <td>2020-07-20T00:00:00.000</td>\n",
       "      <td>2020-07-20T00:00:00.000</td>\n",
       "      <td>1530</td>\n",
       "      <td>12</td>\n",
       "      <td>77th Street</td>\n",
       "      <td>1267</td>\n",
       "      <td>997</td>\n",
       "      <td>TRAFFIC COLLISION</td>\n",
       "      <td>25</td>\n",
       "      <td>M</td>\n",
       "      <td>A</td>\n",
       "      <td>101</td>\n",
       "      <td>STREET</td>\n",
       "      <td>MANCHESTER</td>\n",
       "      <td>DENVER</td>\n",
       "      <td>{'latitude': '33.9601', 'longitude': '-118.283...</td>\n",
       "      <td>4025 3036 3004 3028 3030 3101</td>\n",
       "    </tr>\n",
       "  </tbody>\n",
       "</table>\n",
       "</div>"
      ],
      "text/plain": [
       "          dr_no                date_rptd                 date_occ time_occ  \\\n",
       "1073  201216776  2020-07-20T00:00:00.000  2020-07-20T00:00:00.000     1530   \n",
       "\n",
       "     area    area_name rpt_dist_no crm_cd        crm_cd_desc vict_age  \\\n",
       "1073   12  77th Street        1267    997  TRAFFIC COLLISION       25   \n",
       "\n",
       "     vict_sex vict_descent premis_cd premis_desc    location cross_street  \\\n",
       "1073        M            A       101      STREET  MANCHESTER       DENVER   \n",
       "\n",
       "                                             location_1  \\\n",
       "1073  {'latitude': '33.9601', 'longitude': '-118.283...   \n",
       "\n",
       "                            mocodes  \n",
       "1073  4025 3036 3004 3028 3030 3101  "
      ]
     },
     "execution_count": 6,
     "metadata": {},
     "output_type": "execute_result"
    }
   ],
   "source": [
    "results_df.sample()"
   ]
  },
  {
   "cell_type": "markdown",
   "metadata": {},
   "source": [
    "## Make some simple plots\n",
    "\n",
    "Create a subset of the database.\n",
    "\n",
    "https://pandas.pydata.org/docs/getting_started/intro_tutorials/03_subset_data.html"
   ]
  },
  {
   "cell_type": "code",
   "execution_count": 7,
   "metadata": {},
   "outputs": [
    {
     "data": {
      "text/html": [
       "<div>\n",
       "<style scoped>\n",
       "    .dataframe tbody tr th:only-of-type {\n",
       "        vertical-align: middle;\n",
       "    }\n",
       "\n",
       "    .dataframe tbody tr th {\n",
       "        vertical-align: top;\n",
       "    }\n",
       "\n",
       "    .dataframe thead th {\n",
       "        text-align: right;\n",
       "    }\n",
       "</style>\n",
       "<table border=\"1\" class=\"dataframe\">\n",
       "  <thead>\n",
       "    <tr style=\"text-align: right;\">\n",
       "      <th></th>\n",
       "      <th>date_rptd</th>\n",
       "      <th>vict_descent</th>\n",
       "    </tr>\n",
       "  </thead>\n",
       "  <tbody>\n",
       "    <tr>\n",
       "      <th>0</th>\n",
       "      <td>2020-08-01T00:00:00.000</td>\n",
       "      <td>B</td>\n",
       "    </tr>\n",
       "    <tr>\n",
       "      <th>1</th>\n",
       "      <td>2020-08-01T00:00:00.000</td>\n",
       "      <td>W</td>\n",
       "    </tr>\n",
       "    <tr>\n",
       "      <th>2</th>\n",
       "      <td>2020-08-01T00:00:00.000</td>\n",
       "      <td>B</td>\n",
       "    </tr>\n",
       "    <tr>\n",
       "      <th>3</th>\n",
       "      <td>2020-08-01T00:00:00.000</td>\n",
       "      <td>H</td>\n",
       "    </tr>\n",
       "    <tr>\n",
       "      <th>4</th>\n",
       "      <td>2020-08-01T00:00:00.000</td>\n",
       "      <td>H</td>\n",
       "    </tr>\n",
       "    <tr>\n",
       "      <th>...</th>\n",
       "      <td>...</td>\n",
       "      <td>...</td>\n",
       "    </tr>\n",
       "    <tr>\n",
       "      <th>1995</th>\n",
       "      <td>2020-07-12T00:00:00.000</td>\n",
       "      <td>O</td>\n",
       "    </tr>\n",
       "    <tr>\n",
       "      <th>1996</th>\n",
       "      <td>2020-07-12T00:00:00.000</td>\n",
       "      <td>H</td>\n",
       "    </tr>\n",
       "    <tr>\n",
       "      <th>1997</th>\n",
       "      <td>2020-07-12T00:00:00.000</td>\n",
       "      <td>X</td>\n",
       "    </tr>\n",
       "    <tr>\n",
       "      <th>1998</th>\n",
       "      <td>2020-07-12T00:00:00.000</td>\n",
       "      <td>X</td>\n",
       "    </tr>\n",
       "    <tr>\n",
       "      <th>1999</th>\n",
       "      <td>2020-07-11T00:00:00.000</td>\n",
       "      <td>H</td>\n",
       "    </tr>\n",
       "  </tbody>\n",
       "</table>\n",
       "<p>2000 rows × 2 columns</p>\n",
       "</div>"
      ],
      "text/plain": [
       "                    date_rptd vict_descent\n",
       "0     2020-08-01T00:00:00.000            B\n",
       "1     2020-08-01T00:00:00.000            W\n",
       "2     2020-08-01T00:00:00.000            B\n",
       "3     2020-08-01T00:00:00.000            H\n",
       "4     2020-08-01T00:00:00.000            H\n",
       "...                       ...          ...\n",
       "1995  2020-07-12T00:00:00.000            O\n",
       "1996  2020-07-12T00:00:00.000            H\n",
       "1997  2020-07-12T00:00:00.000            X\n",
       "1998  2020-07-12T00:00:00.000            X\n",
       "1999  2020-07-11T00:00:00.000            H\n",
       "\n",
       "[2000 rows x 2 columns]"
      ]
     },
     "execution_count": 7,
     "metadata": {},
     "output_type": "execute_result"
    }
   ],
   "source": [
    "import plotly.express as px\n",
    "\n",
    "df = results_df[[\"date_rptd\",\"vict_descent\"]]\n",
    "df"
   ]
  },
  {
   "cell_type": "code",
   "execution_count": 40,
   "metadata": {},
   "outputs": [
    {
     "data": {
      "text/plain": [
       "date_rptd                vict_descent\n",
       "2020-07-11T00:00:00.000  H                1\n",
       "2020-07-12T00:00:00.000  A                1\n",
       "                         B               18\n",
       "                         F                1\n",
       "                         H               53\n",
       "                                         ..\n",
       "2020-08-01T00:00:00.000  B                5\n",
       "                         H               10\n",
       "                         O                3\n",
       "                         W                4\n",
       "                         X                1\n",
       "Length: 160, dtype: int64"
      ]
     },
     "execution_count": 40,
     "metadata": {},
     "output_type": "execute_result"
    }
   ],
   "source": [
    "# let's find: how many incidents per day per ethnic group?\n",
    "group1 = df.groupby(['date_rptd','vict_descent'], as_index=False).size()\n",
    "group1"
   ]
  },
  {
   "cell_type": "code",
   "execution_count": 41,
   "metadata": {},
   "outputs": [],
   "source": [
    "# how to chart?"
   ]
  },
  {
   "cell_type": "code",
   "execution_count": 42,
   "metadata": {},
   "outputs": [
    {
     "data": {
      "text/plain": [
       "<matplotlib.axes._subplots.AxesSubplot at 0x1f347df2b88>"
      ]
     },
     "execution_count": 42,
     "metadata": {},
     "output_type": "execute_result"
    },
    {
     "data": {
      "image/png": "[encoded data removed]",
      "text/plain": [
       "<Figure size 432x288 with 1 Axes>"
      ]
     },
     "metadata": {
      "needs_background": "light"
     },
     "output_type": "display_data"
    }
   ],
   "source": [
    "group1.unstack(level=1).plot(kind='bar',stacked=True)"
   ]
  },
  {
   "cell_type": "code",
   "execution_count": 13,
   "metadata": {},
   "outputs": [
    {
     "data": {
      "text/html": [
       "<div>\n",
       "<style scoped>\n",
       "    .dataframe tbody tr th:only-of-type {\n",
       "        vertical-align: middle;\n",
       "    }\n",
       "\n",
       "    .dataframe tbody tr th {\n",
       "        vertical-align: top;\n",
       "    }\n",
       "\n",
       "    .dataframe thead th {\n",
       "        text-align: right;\n",
       "    }\n",
       "</style>\n",
       "<table border=\"1\" class=\"dataframe\">\n",
       "  <thead>\n",
       "    <tr style=\"text-align: right;\">\n",
       "      <th>vict_descent</th>\n",
       "      <th>A</th>\n",
       "      <th>B</th>\n",
       "      <th>C</th>\n",
       "      <th>F</th>\n",
       "      <th>H</th>\n",
       "      <th>I</th>\n",
       "      <th>J</th>\n",
       "      <th>K</th>\n",
       "      <th>O</th>\n",
       "      <th>P</th>\n",
       "      <th>U</th>\n",
       "      <th>V</th>\n",
       "      <th>W</th>\n",
       "      <th>X</th>\n",
       "      <th>Z</th>\n",
       "    </tr>\n",
       "    <tr>\n",
       "      <th>date_rptd</th>\n",
       "      <th></th>\n",
       "      <th></th>\n",
       "      <th></th>\n",
       "      <th></th>\n",
       "      <th></th>\n",
       "      <th></th>\n",
       "      <th></th>\n",
       "      <th></th>\n",
       "      <th></th>\n",
       "      <th></th>\n",
       "      <th></th>\n",
       "      <th></th>\n",
       "      <th></th>\n",
       "      <th></th>\n",
       "      <th></th>\n",
       "    </tr>\n",
       "  </thead>\n",
       "  <tbody>\n",
       "    <tr>\n",
       "      <th>2020-07-11T00:00:00.000</th>\n",
       "      <td>NaN</td>\n",
       "      <td>NaN</td>\n",
       "      <td>NaN</td>\n",
       "      <td>NaN</td>\n",
       "      <td>1.0</td>\n",
       "      <td>NaN</td>\n",
       "      <td>NaN</td>\n",
       "      <td>NaN</td>\n",
       "      <td>NaN</td>\n",
       "      <td>NaN</td>\n",
       "      <td>NaN</td>\n",
       "      <td>NaN</td>\n",
       "      <td>NaN</td>\n",
       "      <td>NaN</td>\n",
       "      <td>NaN</td>\n",
       "    </tr>\n",
       "    <tr>\n",
       "      <th>2020-07-12T00:00:00.000</th>\n",
       "      <td>1.0</td>\n",
       "      <td>18.0</td>\n",
       "      <td>NaN</td>\n",
       "      <td>1.0</td>\n",
       "      <td>53.0</td>\n",
       "      <td>NaN</td>\n",
       "      <td>NaN</td>\n",
       "      <td>1.0</td>\n",
       "      <td>10.0</td>\n",
       "      <td>NaN</td>\n",
       "      <td>NaN</td>\n",
       "      <td>NaN</td>\n",
       "      <td>18.0</td>\n",
       "      <td>9.0</td>\n",
       "      <td>NaN</td>\n",
       "    </tr>\n",
       "    <tr>\n",
       "      <th>2020-07-13T00:00:00.000</th>\n",
       "      <td>4.0</td>\n",
       "      <td>20.0</td>\n",
       "      <td>NaN</td>\n",
       "      <td>NaN</td>\n",
       "      <td>39.0</td>\n",
       "      <td>1.0</td>\n",
       "      <td>NaN</td>\n",
       "      <td>1.0</td>\n",
       "      <td>18.0</td>\n",
       "      <td>NaN</td>\n",
       "      <td>NaN</td>\n",
       "      <td>NaN</td>\n",
       "      <td>23.0</td>\n",
       "      <td>7.0</td>\n",
       "      <td>1.0</td>\n",
       "    </tr>\n",
       "    <tr>\n",
       "      <th>2020-07-14T00:00:00.000</th>\n",
       "      <td>1.0</td>\n",
       "      <td>11.0</td>\n",
       "      <td>1.0</td>\n",
       "      <td>3.0</td>\n",
       "      <td>43.0</td>\n",
       "      <td>NaN</td>\n",
       "      <td>NaN</td>\n",
       "      <td>1.0</td>\n",
       "      <td>17.0</td>\n",
       "      <td>1.0</td>\n",
       "      <td>NaN</td>\n",
       "      <td>NaN</td>\n",
       "      <td>18.0</td>\n",
       "      <td>8.0</td>\n",
       "      <td>NaN</td>\n",
       "    </tr>\n",
       "    <tr>\n",
       "      <th>2020-07-15T00:00:00.000</th>\n",
       "      <td>NaN</td>\n",
       "      <td>15.0</td>\n",
       "      <td>NaN</td>\n",
       "      <td>NaN</td>\n",
       "      <td>53.0</td>\n",
       "      <td>NaN</td>\n",
       "      <td>NaN</td>\n",
       "      <td>1.0</td>\n",
       "      <td>16.0</td>\n",
       "      <td>NaN</td>\n",
       "      <td>NaN</td>\n",
       "      <td>NaN</td>\n",
       "      <td>21.0</td>\n",
       "      <td>7.0</td>\n",
       "      <td>NaN</td>\n",
       "    </tr>\n",
       "    <tr>\n",
       "      <th>2020-07-16T00:00:00.000</th>\n",
       "      <td>8.0</td>\n",
       "      <td>14.0</td>\n",
       "      <td>NaN</td>\n",
       "      <td>2.0</td>\n",
       "      <td>34.0</td>\n",
       "      <td>NaN</td>\n",
       "      <td>NaN</td>\n",
       "      <td>2.0</td>\n",
       "      <td>23.0</td>\n",
       "      <td>NaN</td>\n",
       "      <td>1.0</td>\n",
       "      <td>NaN</td>\n",
       "      <td>20.0</td>\n",
       "      <td>10.0</td>\n",
       "      <td>NaN</td>\n",
       "    </tr>\n",
       "    <tr>\n",
       "      <th>2020-07-17T00:00:00.000</th>\n",
       "      <td>2.0</td>\n",
       "      <td>15.0</td>\n",
       "      <td>NaN</td>\n",
       "      <td>1.0</td>\n",
       "      <td>46.0</td>\n",
       "      <td>NaN</td>\n",
       "      <td>NaN</td>\n",
       "      <td>1.0</td>\n",
       "      <td>11.0</td>\n",
       "      <td>NaN</td>\n",
       "      <td>NaN</td>\n",
       "      <td>NaN</td>\n",
       "      <td>23.0</td>\n",
       "      <td>7.0</td>\n",
       "      <td>NaN</td>\n",
       "    </tr>\n",
       "    <tr>\n",
       "      <th>2020-07-18T00:00:00.000</th>\n",
       "      <td>3.0</td>\n",
       "      <td>13.0</td>\n",
       "      <td>1.0</td>\n",
       "      <td>NaN</td>\n",
       "      <td>54.0</td>\n",
       "      <td>NaN</td>\n",
       "      <td>NaN</td>\n",
       "      <td>NaN</td>\n",
       "      <td>10.0</td>\n",
       "      <td>NaN</td>\n",
       "      <td>NaN</td>\n",
       "      <td>1.0</td>\n",
       "      <td>18.0</td>\n",
       "      <td>3.0</td>\n",
       "      <td>NaN</td>\n",
       "    </tr>\n",
       "    <tr>\n",
       "      <th>2020-07-19T00:00:00.000</th>\n",
       "      <td>1.0</td>\n",
       "      <td>26.0</td>\n",
       "      <td>NaN</td>\n",
       "      <td>NaN</td>\n",
       "      <td>49.0</td>\n",
       "      <td>NaN</td>\n",
       "      <td>NaN</td>\n",
       "      <td>NaN</td>\n",
       "      <td>15.0</td>\n",
       "      <td>NaN</td>\n",
       "      <td>NaN</td>\n",
       "      <td>NaN</td>\n",
       "      <td>12.0</td>\n",
       "      <td>11.0</td>\n",
       "      <td>NaN</td>\n",
       "    </tr>\n",
       "    <tr>\n",
       "      <th>2020-07-20T00:00:00.000</th>\n",
       "      <td>3.0</td>\n",
       "      <td>21.0</td>\n",
       "      <td>NaN</td>\n",
       "      <td>NaN</td>\n",
       "      <td>42.0</td>\n",
       "      <td>NaN</td>\n",
       "      <td>NaN</td>\n",
       "      <td>NaN</td>\n",
       "      <td>7.0</td>\n",
       "      <td>NaN</td>\n",
       "      <td>NaN</td>\n",
       "      <td>NaN</td>\n",
       "      <td>17.0</td>\n",
       "      <td>10.0</td>\n",
       "      <td>NaN</td>\n",
       "    </tr>\n",
       "    <tr>\n",
       "      <th>2020-07-21T00:00:00.000</th>\n",
       "      <td>3.0</td>\n",
       "      <td>10.0</td>\n",
       "      <td>NaN</td>\n",
       "      <td>NaN</td>\n",
       "      <td>40.0</td>\n",
       "      <td>NaN</td>\n",
       "      <td>NaN</td>\n",
       "      <td>1.0</td>\n",
       "      <td>19.0</td>\n",
       "      <td>NaN</td>\n",
       "      <td>NaN</td>\n",
       "      <td>NaN</td>\n",
       "      <td>28.0</td>\n",
       "      <td>3.0</td>\n",
       "      <td>1.0</td>\n",
       "    </tr>\n",
       "    <tr>\n",
       "      <th>2020-07-22T00:00:00.000</th>\n",
       "      <td>4.0</td>\n",
       "      <td>16.0</td>\n",
       "      <td>NaN</td>\n",
       "      <td>NaN</td>\n",
       "      <td>37.0</td>\n",
       "      <td>1.0</td>\n",
       "      <td>NaN</td>\n",
       "      <td>NaN</td>\n",
       "      <td>16.0</td>\n",
       "      <td>NaN</td>\n",
       "      <td>NaN</td>\n",
       "      <td>NaN</td>\n",
       "      <td>17.0</td>\n",
       "      <td>2.0</td>\n",
       "      <td>NaN</td>\n",
       "    </tr>\n",
       "    <tr>\n",
       "      <th>2020-07-23T00:00:00.000</th>\n",
       "      <td>2.0</td>\n",
       "      <td>17.0</td>\n",
       "      <td>NaN</td>\n",
       "      <td>NaN</td>\n",
       "      <td>36.0</td>\n",
       "      <td>NaN</td>\n",
       "      <td>NaN</td>\n",
       "      <td>NaN</td>\n",
       "      <td>13.0</td>\n",
       "      <td>NaN</td>\n",
       "      <td>NaN</td>\n",
       "      <td>NaN</td>\n",
       "      <td>23.0</td>\n",
       "      <td>9.0</td>\n",
       "      <td>NaN</td>\n",
       "    </tr>\n",
       "    <tr>\n",
       "      <th>2020-07-24T00:00:00.000</th>\n",
       "      <td>3.0</td>\n",
       "      <td>15.0</td>\n",
       "      <td>NaN</td>\n",
       "      <td>NaN</td>\n",
       "      <td>55.0</td>\n",
       "      <td>1.0</td>\n",
       "      <td>NaN</td>\n",
       "      <td>1.0</td>\n",
       "      <td>13.0</td>\n",
       "      <td>NaN</td>\n",
       "      <td>NaN</td>\n",
       "      <td>NaN</td>\n",
       "      <td>28.0</td>\n",
       "      <td>9.0</td>\n",
       "      <td>NaN</td>\n",
       "    </tr>\n",
       "    <tr>\n",
       "      <th>2020-07-25T00:00:00.000</th>\n",
       "      <td>2.0</td>\n",
       "      <td>14.0</td>\n",
       "      <td>NaN</td>\n",
       "      <td>NaN</td>\n",
       "      <td>38.0</td>\n",
       "      <td>NaN</td>\n",
       "      <td>NaN</td>\n",
       "      <td>NaN</td>\n",
       "      <td>13.0</td>\n",
       "      <td>NaN</td>\n",
       "      <td>NaN</td>\n",
       "      <td>NaN</td>\n",
       "      <td>18.0</td>\n",
       "      <td>2.0</td>\n",
       "      <td>NaN</td>\n",
       "    </tr>\n",
       "    <tr>\n",
       "      <th>2020-07-26T00:00:00.000</th>\n",
       "      <td>1.0</td>\n",
       "      <td>7.0</td>\n",
       "      <td>NaN</td>\n",
       "      <td>NaN</td>\n",
       "      <td>37.0</td>\n",
       "      <td>NaN</td>\n",
       "      <td>NaN</td>\n",
       "      <td>3.0</td>\n",
       "      <td>14.0</td>\n",
       "      <td>1.0</td>\n",
       "      <td>NaN</td>\n",
       "      <td>1.0</td>\n",
       "      <td>12.0</td>\n",
       "      <td>8.0</td>\n",
       "      <td>NaN</td>\n",
       "    </tr>\n",
       "    <tr>\n",
       "      <th>2020-07-27T00:00:00.000</th>\n",
       "      <td>1.0</td>\n",
       "      <td>9.0</td>\n",
       "      <td>NaN</td>\n",
       "      <td>NaN</td>\n",
       "      <td>37.0</td>\n",
       "      <td>NaN</td>\n",
       "      <td>1.0</td>\n",
       "      <td>1.0</td>\n",
       "      <td>12.0</td>\n",
       "      <td>NaN</td>\n",
       "      <td>NaN</td>\n",
       "      <td>NaN</td>\n",
       "      <td>23.0</td>\n",
       "      <td>3.0</td>\n",
       "      <td>NaN</td>\n",
       "    </tr>\n",
       "    <tr>\n",
       "      <th>2020-07-28T00:00:00.000</th>\n",
       "      <td>4.0</td>\n",
       "      <td>7.0</td>\n",
       "      <td>NaN</td>\n",
       "      <td>NaN</td>\n",
       "      <td>17.0</td>\n",
       "      <td>NaN</td>\n",
       "      <td>NaN</td>\n",
       "      <td>2.0</td>\n",
       "      <td>10.0</td>\n",
       "      <td>NaN</td>\n",
       "      <td>1.0</td>\n",
       "      <td>1.0</td>\n",
       "      <td>14.0</td>\n",
       "      <td>6.0</td>\n",
       "      <td>1.0</td>\n",
       "    </tr>\n",
       "    <tr>\n",
       "      <th>2020-07-29T00:00:00.000</th>\n",
       "      <td>3.0</td>\n",
       "      <td>14.0</td>\n",
       "      <td>NaN</td>\n",
       "      <td>NaN</td>\n",
       "      <td>29.0</td>\n",
       "      <td>NaN</td>\n",
       "      <td>NaN</td>\n",
       "      <td>1.0</td>\n",
       "      <td>11.0</td>\n",
       "      <td>NaN</td>\n",
       "      <td>NaN</td>\n",
       "      <td>NaN</td>\n",
       "      <td>15.0</td>\n",
       "      <td>4.0</td>\n",
       "      <td>NaN</td>\n",
       "    </tr>\n",
       "    <tr>\n",
       "      <th>2020-07-30T00:00:00.000</th>\n",
       "      <td>1.0</td>\n",
       "      <td>10.0</td>\n",
       "      <td>NaN</td>\n",
       "      <td>NaN</td>\n",
       "      <td>28.0</td>\n",
       "      <td>NaN</td>\n",
       "      <td>NaN</td>\n",
       "      <td>1.0</td>\n",
       "      <td>9.0</td>\n",
       "      <td>NaN</td>\n",
       "      <td>NaN</td>\n",
       "      <td>NaN</td>\n",
       "      <td>7.0</td>\n",
       "      <td>1.0</td>\n",
       "      <td>NaN</td>\n",
       "    </tr>\n",
       "    <tr>\n",
       "      <th>2020-07-31T00:00:00.000</th>\n",
       "      <td>3.0</td>\n",
       "      <td>9.0</td>\n",
       "      <td>1.0</td>\n",
       "      <td>NaN</td>\n",
       "      <td>29.0</td>\n",
       "      <td>NaN</td>\n",
       "      <td>NaN</td>\n",
       "      <td>NaN</td>\n",
       "      <td>13.0</td>\n",
       "      <td>NaN</td>\n",
       "      <td>NaN</td>\n",
       "      <td>NaN</td>\n",
       "      <td>11.0</td>\n",
       "      <td>9.0</td>\n",
       "      <td>NaN</td>\n",
       "    </tr>\n",
       "    <tr>\n",
       "      <th>2020-08-01T00:00:00.000</th>\n",
       "      <td>1.0</td>\n",
       "      <td>5.0</td>\n",
       "      <td>NaN</td>\n",
       "      <td>NaN</td>\n",
       "      <td>10.0</td>\n",
       "      <td>NaN</td>\n",
       "      <td>NaN</td>\n",
       "      <td>NaN</td>\n",
       "      <td>3.0</td>\n",
       "      <td>NaN</td>\n",
       "      <td>NaN</td>\n",
       "      <td>NaN</td>\n",
       "      <td>4.0</td>\n",
       "      <td>1.0</td>\n",
       "      <td>NaN</td>\n",
       "    </tr>\n",
       "  </tbody>\n",
       "</table>\n",
       "</div>"
      ],
      "text/plain": [
       "vict_descent               A     B    C    F     H    I    J    K     O    P  \\\n",
       "date_rptd                                                                      \n",
       "2020-07-11T00:00:00.000  NaN   NaN  NaN  NaN   1.0  NaN  NaN  NaN   NaN  NaN   \n",
       "2020-07-12T00:00:00.000  1.0  18.0  NaN  1.0  53.0  NaN  NaN  1.0  10.0  NaN   \n",
       "2020-07-13T00:00:00.000  4.0  20.0  NaN  NaN  39.0  1.0  NaN  1.0  18.0  NaN   \n",
       "2020-07-14T00:00:00.000  1.0  11.0  1.0  3.0  43.0  NaN  NaN  1.0  17.0  1.0   \n",
       "2020-07-15T00:00:00.000  NaN  15.0  NaN  NaN  53.0  NaN  NaN  1.0  16.0  NaN   \n",
       "2020-07-16T00:00:00.000  8.0  14.0  NaN  2.0  34.0  NaN  NaN  2.0  23.0  NaN   \n",
       "2020-07-17T00:00:00.000  2.0  15.0  NaN  1.0  46.0  NaN  NaN  1.0  11.0  NaN   \n",
       "2020-07-18T00:00:00.000  3.0  13.0  1.0  NaN  54.0  NaN  NaN  NaN  10.0  NaN   \n",
       "2020-07-19T00:00:00.000  1.0  26.0  NaN  NaN  49.0  NaN  NaN  NaN  15.0  NaN   \n",
       "2020-07-20T00:00:00.000  3.0  21.0  NaN  NaN  42.0  NaN  NaN  NaN   7.0  NaN   \n",
       "2020-07-21T00:00:00.000  3.0  10.0  NaN  NaN  40.0  NaN  NaN  1.0  19.0  NaN   \n",
       "2020-07-22T00:00:00.000  4.0  16.0  NaN  NaN  37.0  1.0  NaN  NaN  16.0  NaN   \n",
       "2020-07-23T00:00:00.000  2.0  17.0  NaN  NaN  36.0  NaN  NaN  NaN  13.0  NaN   \n",
       "2020-07-24T00:00:00.000  3.0  15.0  NaN  NaN  55.0  1.0  NaN  1.0  13.0  NaN   \n",
       "2020-07-25T00:00:00.000  2.0  14.0  NaN  NaN  38.0  NaN  NaN  NaN  13.0  NaN   \n",
       "2020-07-26T00:00:00.000  1.0   7.0  NaN  NaN  37.0  NaN  NaN  3.0  14.0  1.0   \n",
       "2020-07-27T00:00:00.000  1.0   9.0  NaN  NaN  37.0  NaN  1.0  1.0  12.0  NaN   \n",
       "2020-07-28T00:00:00.000  4.0   7.0  NaN  NaN  17.0  NaN  NaN  2.0  10.0  NaN   \n",
       "2020-07-29T00:00:00.000  3.0  14.0  NaN  NaN  29.0  NaN  NaN  1.0  11.0  NaN   \n",
       "2020-07-30T00:00:00.000  1.0  10.0  NaN  NaN  28.0  NaN  NaN  1.0   9.0  NaN   \n",
       "2020-07-31T00:00:00.000  3.0   9.0  1.0  NaN  29.0  NaN  NaN  NaN  13.0  NaN   \n",
       "2020-08-01T00:00:00.000  1.0   5.0  NaN  NaN  10.0  NaN  NaN  NaN   3.0  NaN   \n",
       "\n",
       "vict_descent               U    V     W     X    Z  \n",
       "date_rptd                                           \n",
       "2020-07-11T00:00:00.000  NaN  NaN   NaN   NaN  NaN  \n",
       "2020-07-12T00:00:00.000  NaN  NaN  18.0   9.0  NaN  \n",
       "2020-07-13T00:00:00.000  NaN  NaN  23.0   7.0  1.0  \n",
       "2020-07-14T00:00:00.000  NaN  NaN  18.0   8.0  NaN  \n",
       "2020-07-15T00:00:00.000  NaN  NaN  21.0   7.0  NaN  \n",
       "2020-07-16T00:00:00.000  1.0  NaN  20.0  10.0  NaN  \n",
       "2020-07-17T00:00:00.000  NaN  NaN  23.0   7.0  NaN  \n",
       "2020-07-18T00:00:00.000  NaN  1.0  18.0   3.0  NaN  \n",
       "2020-07-19T00:00:00.000  NaN  NaN  12.0  11.0  NaN  \n",
       "2020-07-20T00:00:00.000  NaN  NaN  17.0  10.0  NaN  \n",
       "2020-07-21T00:00:00.000  NaN  NaN  28.0   3.0  1.0  \n",
       "2020-07-22T00:00:00.000  NaN  NaN  17.0   2.0  NaN  \n",
       "2020-07-23T00:00:00.000  NaN  NaN  23.0   9.0  NaN  \n",
       "2020-07-24T00:00:00.000  NaN  NaN  28.0   9.0  NaN  \n",
       "2020-07-25T00:00:00.000  NaN  NaN  18.0   2.0  NaN  \n",
       "2020-07-26T00:00:00.000  NaN  1.0  12.0   8.0  NaN  \n",
       "2020-07-27T00:00:00.000  NaN  NaN  23.0   3.0  NaN  \n",
       "2020-07-28T00:00:00.000  1.0  1.0  14.0   6.0  1.0  \n",
       "2020-07-29T00:00:00.000  NaN  NaN  15.0   4.0  NaN  \n",
       "2020-07-30T00:00:00.000  NaN  NaN   7.0   1.0  NaN  \n",
       "2020-07-31T00:00:00.000  NaN  NaN  11.0   9.0  NaN  \n",
       "2020-08-01T00:00:00.000  NaN  NaN   4.0   1.0  NaN  "
      ]
     },
     "execution_count": 13,
     "metadata": {},
     "output_type": "execute_result"
    }
   ],
   "source": [
    "datesdata = group1.unstack(level=1)\n",
    "datesdata\n"
   ]
  },
  {
   "cell_type": "code",
   "execution_count": 17,
   "metadata": {},
   "outputs": [
    {
     "data": {
      "application/vnd.plotly.v1+json": {
       "config": {
        "plotlyServerURL": "https://plot.ly"
       },
       "data": [
        {
         "alignmentgroup": "True",
         "hovertemplate": "variable=W<br>date_rptd=%{x}<br>value=%{y}<extra></extra>",
         "legendgroup": "W",
         "marker": {
          "color": "#636efa"
         },
         "name": "W",
         "offsetgroup": "W",
         "orientation": "v",
         "showlegend": true,
         "textposition": "auto",
         "type": "bar",
         "x": [
          "2020-07-11T00:00:00.000",
          "2020-07-12T00:00:00.000",
          "2020-07-13T00:00:00.000",
          "2020-07-14T00:00:00.000",
          "2020-07-15T00:00:00.000",
          "2020-07-16T00:00:00.000",
          "2020-07-17T00:00:00.000",
          "2020-07-18T00:00:00.000",
          "2020-07-19T00:00:00.000",
          "2020-07-20T00:00:00.000",
          "2020-07-21T00:00:00.000",
          "2020-07-22T00:00:00.000",
          "2020-07-23T00:00:00.000",
          "2020-07-24T00:00:00.000",
          "2020-07-25T00:00:00.000",
          "2020-07-26T00:00:00.000",
          "2020-07-27T00:00:00.000",
          "2020-07-28T00:00:00.000",
          "2020-07-29T00:00:00.000",
          "2020-07-30T00:00:00.000",
          "2020-07-31T00:00:00.000",
          "2020-08-01T00:00:00.000"
         ],
         "xaxis": "x",
         "y": [
          null,
          18,
          23,
          18,
          21,
          20,
          23,
          18,
          12,
          17,
          28,
          17,
          23,
          28,
          18,
          12,
          23,
          14,
          15,
          7,
          11,
          4
         ],
         "yaxis": "y"
        },
        {
         "alignmentgroup": "True",
         "hovertemplate": "variable=B<br>date_rptd=%{x}<br>value=%{y}<extra></extra>",
         "legendgroup": "B",
         "marker": {
          "color": "#EF553B"
         },
         "name": "B",
         "offsetgroup": "B",
         "orientation": "v",
         "showlegend": true,
         "textposition": "auto",
         "type": "bar",
         "x": [
          "2020-07-11T00:00:00.000",
          "2020-07-12T00:00:00.000",
          "2020-07-13T00:00:00.000",
          "2020-07-14T00:00:00.000",
          "2020-07-15T00:00:00.000",
          "2020-07-16T00:00:00.000",
          "2020-07-17T00:00:00.000",
          "2020-07-18T00:00:00.000",
          "2020-07-19T00:00:00.000",
          "2020-07-20T00:00:00.000",
          "2020-07-21T00:00:00.000",
          "2020-07-22T00:00:00.000",
          "2020-07-23T00:00:00.000",
          "2020-07-24T00:00:00.000",
          "2020-07-25T00:00:00.000",
          "2020-07-26T00:00:00.000",
          "2020-07-27T00:00:00.000",
          "2020-07-28T00:00:00.000",
          "2020-07-29T00:00:00.000",
          "2020-07-30T00:00:00.000",
          "2020-07-31T00:00:00.000",
          "2020-08-01T00:00:00.000"
         ],
         "xaxis": "x",
         "y": [
          null,
          18,
          20,
          11,
          15,
          14,
          15,
          13,
          26,
          21,
          10,
          16,
          17,
          15,
          14,
          7,
          9,
          7,
          14,
          10,
          9,
          5
         ],
         "yaxis": "y"
        }
       ],
       "layout": {
        "autosize": true,
        "barmode": "relative",
        "legend": {
         "title": {
          "text": "variable"
         },
         "tracegroupgap": 0
        },
        "margin": {
         "t": 60
        },
        "template": {
         "data": {
          "bar": [
           {
            "error_x": {
             "color": "#2a3f5f"
            },
            "error_y": {
             "color": "#2a3f5f"
            },
            "marker": {
             "line": {
              "color": "#E5ECF6",
              "width": 0.5
             }
            },
            "type": "bar"
           }
          ],
          "barpolar": [
           {
            "marker": {
             "line": {
              "color": "#E5ECF6",
              "width": 0.5
             }
            },
            "type": "barpolar"
           }
          ],
          "carpet": [
           {
            "aaxis": {
             "endlinecolor": "#2a3f5f",
             "gridcolor": "white",
             "linecolor": "white",
             "minorgridcolor": "white",
             "startlinecolor": "#2a3f5f"
            },
            "baxis": {
             "endlinecolor": "#2a3f5f",
             "gridcolor": "white",
             "linecolor": "white",
             "minorgridcolor": "white",
             "startlinecolor": "#2a3f5f"
            },
            "type": "carpet"
           }
          ],
          "choropleth": [
           {
            "colorbar": {
             "outlinewidth": 0,
             "ticks": ""
            },
            "type": "choropleth"
           }
          ],
          "contour": [
           {
            "colorbar": {
             "outlinewidth": 0,
             "ticks": ""
            },
            "colorscale": [
             [
              0,
              "#0d0887"
             ],
             [
              0.1111111111111111,
              "#46039f"
             ],
             [
              0.2222222222222222,
              "#7201a8"
             ],
             [
              0.3333333333333333,
              "#9c179e"
             ],
             [
              0.4444444444444444,
              "#bd3786"
             ],
             [
              0.5555555555555556,
              "#d8576b"
             ],
             [
              0.6666666666666666,
              "#ed7953"
             ],
             [
              0.7777777777777778,
              "#fb9f3a"
             ],
             [
              0.8888888888888888,
              "#fdca26"
             ],
             [
              1,
              "#f0f921"
             ]
            ],
            "type": "contour"
           }
          ],
          "contourcarpet": [
           {
            "colorbar": {
             "outlinewidth": 0,
             "ticks": ""
            },
            "type": "contourcarpet"
           }
          ],
          "heatmap": [
           {
            "colorbar": {
             "outlinewidth": 0,
             "ticks": ""
            },
            "colorscale": [
             [
              0,
              "#0d0887"
             ],
             [
              0.1111111111111111,
              "#46039f"
             ],
             [
              0.2222222222222222,
              "#7201a8"
             ],
             [
              0.3333333333333333,
              "#9c179e"
             ],
             [
              0.4444444444444444,
              "#bd3786"
             ],
             [
              0.5555555555555556,
              "#d8576b"
             ],
             [
              0.6666666666666666,
              "#ed7953"
             ],
             [
              0.7777777777777778,
              "#fb9f3a"
             ],
             [
              0.8888888888888888,
              "#fdca26"
             ],
             [
              1,
              "#f0f921"
             ]
            ],
            "type": "heatmap"
           }
          ],
          "heatmapgl": [
           {
            "colorbar": {
             "outlinewidth": 0,
             "ticks": ""
            },
            "colorscale": [
             [
              0,
              "#0d0887"
             ],
             [
              0.1111111111111111,
              "#46039f"
             ],
             [
              0.2222222222222222,
              "#7201a8"
             ],
             [
              0.3333333333333333,
              "#9c179e"
             ],
             [
              0.4444444444444444,
              "#bd3786"
             ],
             [
              0.5555555555555556,
              "#d8576b"
             ],
             [
              0.6666666666666666,
              "#ed7953"
             ],
             [
              0.7777777777777778,
              "#fb9f3a"
             ],
             [
              0.8888888888888888,
              "#fdca26"
             ],
             [
              1,
              "#f0f921"
             ]
            ],
            "type": "heatmapgl"
           }
          ],
          "histogram": [
           {
            "marker": {
             "colorbar": {
              "outlinewidth": 0,
              "ticks": ""
             }
            },
            "type": "histogram"
           }
          ],
          "histogram2d": [
           {
            "colorbar": {
             "outlinewidth": 0,
             "ticks": ""
            },
            "colorscale": [
             [
              0,
              "#0d0887"
             ],
             [
              0.1111111111111111,
              "#46039f"
             ],
             [
              0.2222222222222222,
              "#7201a8"
             ],
             [
              0.3333333333333333,
              "#9c179e"
             ],
             [
              0.4444444444444444,
              "#bd3786"
             ],
             [
              0.5555555555555556,
              "#d8576b"
             ],
             [
              0.6666666666666666,
              "#ed7953"
             ],
             [
              0.7777777777777778,
              "#fb9f3a"
             ],
             [
              0.8888888888888888,
              "#fdca26"
             ],
             [
              1,
              "#f0f921"
             ]
            ],
            "type": "histogram2d"
           }
          ],
          "histogram2dcontour": [
           {
            "colorbar": {
             "outlinewidth": 0,
             "ticks": ""
            },
            "colorscale": [
             [
              0,
              "#0d0887"
             ],
             [
              0.1111111111111111,
              "#46039f"
             ],
             [
              0.2222222222222222,
              "#7201a8"
             ],
             [
              0.3333333333333333,
              "#9c179e"
             ],
             [
              0.4444444444444444,
              "#bd3786"
             ],
             [
              0.5555555555555556,
              "#d8576b"
             ],
             [
              0.6666666666666666,
              "#ed7953"
             ],
             [
              0.7777777777777778,
              "#fb9f3a"
             ],
             [
              0.8888888888888888,
              "#fdca26"
             ],
             [
              1,
              "#f0f921"
             ]
            ],
            "type": "histogram2dcontour"
           }
          ],
          "mesh3d": [
           {
            "colorbar": {
             "outlinewidth": 0,
             "ticks": ""
            },
            "type": "mesh3d"
           }
          ],
          "parcoords": [
           {
            "line": {
             "colorbar": {
              "outlinewidth": 0,
              "ticks": ""
             }
            },
            "type": "parcoords"
           }
          ],
          "pie": [
           {
            "automargin": true,
            "type": "pie"
           }
          ],
          "scatter": [
           {
            "marker": {
             "colorbar": {
              "outlinewidth": 0,
              "ticks": ""
             }
            },
            "type": "scatter"
           }
          ],
          "scatter3d": [
           {
            "line": {
             "colorbar": {
              "outlinewidth": 0,
              "ticks": ""
             }
            },
            "marker": {
             "colorbar": {
              "outlinewidth": 0,
              "ticks": ""
             }
            },
            "type": "scatter3d"
           }
          ],
          "scattercarpet": [
           {
            "marker": {
             "colorbar": {
              "outlinewidth": 0,
              "ticks": ""
             }
            },
            "type": "scattercarpet"
           }
          ],
          "scattergeo": [
           {
            "marker": {
             "colorbar": {
              "outlinewidth": 0,
              "ticks": ""
             }
            },
            "type": "scattergeo"
           }
          ],
          "scattergl": [
           {
            "marker": {
             "colorbar": {
              "outlinewidth": 0,
              "ticks": ""
             }
            },
            "type": "scattergl"
           }
          ],
          "scattermapbox": [
           {
            "marker": {
             "colorbar": {
              "outlinewidth": 0,
              "ticks": ""
             }
            },
            "type": "scattermapbox"
           }
          ],
          "scatterpolar": [
           {
            "marker": {
             "colorbar": {
              "outlinewidth": 0,
              "ticks": ""
             }
            },
            "type": "scatterpolar"
           }
          ],
          "scatterpolargl": [
           {
            "marker": {
             "colorbar": {
              "outlinewidth": 0,
              "ticks": ""
             }
            },
            "type": "scatterpolargl"
           }
          ],
          "scatterternary": [
           {
            "marker": {
             "colorbar": {
              "outlinewidth": 0,
              "ticks": ""
             }
            },
            "type": "scatterternary"
           }
          ],
          "surface": [
           {
            "colorbar": {
             "outlinewidth": 0,
             "ticks": ""
            },
            "colorscale": [
             [
              0,
              "#0d0887"
             ],
             [
              0.1111111111111111,
              "#46039f"
             ],
             [
              0.2222222222222222,
              "#7201a8"
             ],
             [
              0.3333333333333333,
              "#9c179e"
             ],
             [
              0.4444444444444444,
              "#bd3786"
             ],
             [
              0.5555555555555556,
              "#d8576b"
             ],
             [
              0.6666666666666666,
              "#ed7953"
             ],
             [
              0.7777777777777778,
              "#fb9f3a"
             ],
             [
              0.8888888888888888,
              "#fdca26"
             ],
             [
              1,
              "#f0f921"
             ]
            ],
            "type": "surface"
           }
          ],
          "table": [
           {
            "cells": {
             "fill": {
              "color": "#EBF0F8"
             },
             "line": {
              "color": "white"
             }
            },
            "header": {
             "fill": {
              "color": "#C8D4E3"
             },
             "line": {
              "color": "white"
             }
            },
            "type": "table"
           }
          ]
         },
         "layout": {
          "annotationdefaults": {
           "arrowcolor": "#2a3f5f",
           "arrowhead": 0,
           "arrowwidth": 1
          },
          "coloraxis": {
           "colorbar": {
            "outlinewidth": 0,
            "ticks": ""
           }
          },
          "colorscale": {
           "diverging": [
            [
             0,
             "#8e0152"
            ],
            [
             0.1,
             "#c51b7d"
            ],
            [
             0.2,
             "#de77ae"
            ],
            [
             0.3,
             "#f1b6da"
            ],
            [
             0.4,
             "#fde0ef"
            ],
            [
             0.5,
             "#f7f7f7"
            ],
            [
             0.6,
             "#e6f5d0"
            ],
            [
             0.7,
             "#b8e186"
            ],
            [
             0.8,
             "#7fbc41"
            ],
            [
             0.9,
             "#4d9221"
            ],
            [
             1,
             "#276419"
            ]
           ],
           "sequential": [
            [
             0,
             "#0d0887"
            ],
            [
             0.1111111111111111,
             "#46039f"
            ],
            [
             0.2222222222222222,
             "#7201a8"
            ],
            [
             0.3333333333333333,
             "#9c179e"
            ],
            [
             0.4444444444444444,
             "#bd3786"
            ],
            [
             0.5555555555555556,
             "#d8576b"
            ],
            [
             0.6666666666666666,
             "#ed7953"
            ],
            [
             0.7777777777777778,
             "#fb9f3a"
            ],
            [
             0.8888888888888888,
             "#fdca26"
            ],
            [
             1,
             "#f0f921"
            ]
           ],
           "sequentialminus": [
            [
             0,
             "#0d0887"
            ],
            [
             0.1111111111111111,
             "#46039f"
            ],
            [
             0.2222222222222222,
             "#7201a8"
            ],
            [
             0.3333333333333333,
             "#9c179e"
            ],
            [
             0.4444444444444444,
             "#bd3786"
            ],
            [
             0.5555555555555556,
             "#d8576b"
            ],
            [
             0.6666666666666666,
             "#ed7953"
            ],
            [
             0.7777777777777778,
             "#fb9f3a"
            ],
            [
             0.8888888888888888,
             "#fdca26"
            ],
            [
             1,
             "#f0f921"
            ]
           ]
          },
          "colorway": [
           "#636efa",
           "#EF553B",
           "#00cc96",
           "#ab63fa",
           "#FFA15A",
           "#19d3f3",
           "#FF6692",
           "#B6E880",
           "#FF97FF",
           "#FECB52"
          ],
          "font": {
           "color": "#2a3f5f"
          },
          "geo": {
           "bgcolor": "white",
           "lakecolor": "white",
           "landcolor": "#E5ECF6",
           "showlakes": true,
           "showland": true,
           "subunitcolor": "white"
          },
          "hoverlabel": {
           "align": "left"
          },
          "hovermode": "closest",
          "mapbox": {
           "style": "light"
          },
          "paper_bgcolor": "white",
          "plot_bgcolor": "#E5ECF6",
          "polar": {
           "angularaxis": {
            "gridcolor": "white",
            "linecolor": "white",
            "ticks": ""
           },
           "bgcolor": "#E5ECF6",
           "radialaxis": {
            "gridcolor": "white",
            "linecolor": "white",
            "ticks": ""
           }
          },
          "scene": {
           "xaxis": {
            "backgroundcolor": "#E5ECF6",
            "gridcolor": "white",
            "gridwidth": 2,
            "linecolor": "white",
            "showbackground": true,
            "ticks": "",
            "zerolinecolor": "white"
           },
           "yaxis": {
            "backgroundcolor": "#E5ECF6",
            "gridcolor": "white",
            "gridwidth": 2,
            "linecolor": "white",
            "showbackground": true,
            "ticks": "",
            "zerolinecolor": "white"
           },
           "zaxis": {
            "backgroundcolor": "#E5ECF6",
            "gridcolor": "white",
            "gridwidth": 2,
            "linecolor": "white",
            "showbackground": true,
            "ticks": "",
            "zerolinecolor": "white"
           }
          },
          "shapedefaults": {
           "line": {
            "color": "#2a3f5f"
           }
          },
          "ternary": {
           "aaxis": {
            "gridcolor": "white",
            "linecolor": "white",
            "ticks": ""
           },
           "baxis": {
            "gridcolor": "white",
            "linecolor": "white",
            "ticks": ""
           },
           "bgcolor": "#E5ECF6",
           "caxis": {
            "gridcolor": "white",
            "linecolor": "white",
            "ticks": ""
           }
          },
          "title": {
           "x": 0.05
          },
          "xaxis": {
           "automargin": true,
           "gridcolor": "white",
           "linecolor": "white",
           "ticks": "",
           "title": {
            "standoff": 15
           },
           "zerolinecolor": "white",
           "zerolinewidth": 2
          },
          "yaxis": {
           "automargin": true,
           "gridcolor": "white",
           "linecolor": "white",
           "ticks": "",
           "title": {
            "standoff": 15
           },
           "zerolinecolor": "white",
           "zerolinewidth": 2
          }
         }
        },
        "xaxis": {
         "anchor": "y",
         "autorange": true,
         "domain": [
          0,
          1
         ],
         "range": [
          "2020-07-10 12:00",
          "2020-08-01 12:00"
         ],
         "title": {
          "text": "date_rptd"
         },
         "type": "date"
        },
        "yaxis": {
         "anchor": "x",
         "autorange": true,
         "domain": [
          0,
          1
         ],
         "range": [
          0,
          45.26315789473684
         ],
         "title": {
          "text": "value"
         },
         "type": "linear"
        }
       }
      },
      "image/png": "[encoded data removed]",
      "text/html": [
       "<div>\n",
       "        \n",
       "        \n",
       "            <div id=\"263f6898-ffc4-4e9c-be08-c76181255925\" class=\"plotly-graph-div\" style=\"height:525px; width:100%;\"></div>\n",
       "            <script type=\"text/javascript\">\n",
       "                require([\"plotly\"], function(Plotly) {\n",
       "                    window.PLOTLYENV=window.PLOTLYENV || {};\n",
       "                    \n",
       "                if (document.getElementById(\"263f6898-ffc4-4e9c-be08-c76181255925\")) {\n",
       "                    Plotly.newPlot(\n",
       "                        '263f6898-ffc4-4e9c-be08-c76181255925',\n",
       "                        [{\"alignmentgroup\": \"True\", \"hovertemplate\": \"variable=W<br>date_rptd=%{x}<br>value=%{y}<extra></extra>\", \"legendgroup\": \"W\", \"marker\": {\"color\": \"#636efa\"}, \"name\": \"W\", \"offsetgroup\": \"W\", \"orientation\": \"v\", \"showlegend\": true, \"textposition\": \"auto\", \"type\": \"bar\", \"x\": [\"2020-07-11T00:00:00.000\", \"2020-07-12T00:00:00.000\", \"2020-07-13T00:00:00.000\", \"2020-07-14T00:00:00.000\", \"2020-07-15T00:00:00.000\", \"2020-07-16T00:00:00.000\", \"2020-07-17T00:00:00.000\", \"2020-07-18T00:00:00.000\", \"2020-07-19T00:00:00.000\", \"2020-07-20T00:00:00.000\", \"2020-07-21T00:00:00.000\", \"2020-07-22T00:00:00.000\", \"2020-07-23T00:00:00.000\", \"2020-07-24T00:00:00.000\", \"2020-07-25T00:00:00.000\", \"2020-07-26T00:00:00.000\", \"2020-07-27T00:00:00.000\", \"2020-07-28T00:00:00.000\", \"2020-07-29T00:00:00.000\", \"2020-07-30T00:00:00.000\", \"2020-07-31T00:00:00.000\", \"2020-08-01T00:00:00.000\"], \"xaxis\": \"x\", \"y\": [null, 18.0, 23.0, 18.0, 21.0, 20.0, 23.0, 18.0, 12.0, 17.0, 28.0, 17.0, 23.0, 28.0, 18.0, 12.0, 23.0, 14.0, 15.0, 7.0, 11.0, 4.0], \"yaxis\": \"y\"}, {\"alignmentgroup\": \"True\", \"hovertemplate\": \"variable=B<br>date_rptd=%{x}<br>value=%{y}<extra></extra>\", \"legendgroup\": \"B\", \"marker\": {\"color\": \"#EF553B\"}, \"name\": \"B\", \"offsetgroup\": \"B\", \"orientation\": \"v\", \"showlegend\": true, \"textposition\": \"auto\", \"type\": \"bar\", \"x\": [\"2020-07-11T00:00:00.000\", \"2020-07-12T00:00:00.000\", \"2020-07-13T00:00:00.000\", \"2020-07-14T00:00:00.000\", \"2020-07-15T00:00:00.000\", \"2020-07-16T00:00:00.000\", \"2020-07-17T00:00:00.000\", \"2020-07-18T00:00:00.000\", \"2020-07-19T00:00:00.000\", \"2020-07-20T00:00:00.000\", \"2020-07-21T00:00:00.000\", \"2020-07-22T00:00:00.000\", \"2020-07-23T00:00:00.000\", \"2020-07-24T00:00:00.000\", \"2020-07-25T00:00:00.000\", \"2020-07-26T00:00:00.000\", \"2020-07-27T00:00:00.000\", \"2020-07-28T00:00:00.000\", \"2020-07-29T00:00:00.000\", \"2020-07-30T00:00:00.000\", \"2020-07-31T00:00:00.000\", \"2020-08-01T00:00:00.000\"], \"xaxis\": \"x\", \"y\": [null, 18.0, 20.0, 11.0, 15.0, 14.0, 15.0, 13.0, 26.0, 21.0, 10.0, 16.0, 17.0, 15.0, 14.0, 7.0, 9.0, 7.0, 14.0, 10.0, 9.0, 5.0], \"yaxis\": \"y\"}],\n",
       "                        {\"barmode\": \"relative\", \"legend\": {\"title\": {\"text\": \"variable\"}, \"tracegroupgap\": 0}, \"margin\": {\"t\": 60}, \"template\": {\"data\": {\"bar\": [{\"error_x\": {\"color\": \"#2a3f5f\"}, \"error_y\": {\"color\": \"#2a3f5f\"}, \"marker\": {\"line\": {\"color\": \"#E5ECF6\", \"width\": 0.5}}, \"type\": \"bar\"}], \"barpolar\": [{\"marker\": {\"line\": {\"color\": \"#E5ECF6\", \"width\": 0.5}}, \"type\": \"barpolar\"}], \"carpet\": [{\"aaxis\": {\"endlinecolor\": \"#2a3f5f\", \"gridcolor\": \"white\", \"linecolor\": \"white\", \"minorgridcolor\": \"white\", \"startlinecolor\": \"#2a3f5f\"}, \"baxis\": {\"endlinecolor\": \"#2a3f5f\", \"gridcolor\": \"white\", \"linecolor\": \"white\", \"minorgridcolor\": \"white\", \"startlinecolor\": \"#2a3f5f\"}, \"type\": \"carpet\"}], \"choropleth\": [{\"colorbar\": {\"outlinewidth\": 0, \"ticks\": \"\"}, \"type\": \"choropleth\"}], \"contour\": [{\"colorbar\": {\"outlinewidth\": 0, \"ticks\": \"\"}, \"colorscale\": [[0.0, \"#0d0887\"], [0.1111111111111111, \"#46039f\"], [0.2222222222222222, \"#7201a8\"], [0.3333333333333333, \"#9c179e\"], [0.4444444444444444, \"#bd3786\"], [0.5555555555555556, \"#d8576b\"], [0.6666666666666666, \"#ed7953\"], [0.7777777777777778, \"#fb9f3a\"], [0.8888888888888888, \"#fdca26\"], [1.0, \"#f0f921\"]], \"type\": \"contour\"}], \"contourcarpet\": [{\"colorbar\": {\"outlinewidth\": 0, \"ticks\": \"\"}, \"type\": \"contourcarpet\"}], \"heatmap\": [{\"colorbar\": {\"outlinewidth\": 0, \"ticks\": \"\"}, \"colorscale\": [[0.0, \"#0d0887\"], [0.1111111111111111, \"#46039f\"], [0.2222222222222222, \"#7201a8\"], [0.3333333333333333, \"#9c179e\"], [0.4444444444444444, \"#bd3786\"], [0.5555555555555556, \"#d8576b\"], [0.6666666666666666, \"#ed7953\"], [0.7777777777777778, \"#fb9f3a\"], [0.8888888888888888, \"#fdca26\"], [1.0, \"#f0f921\"]], \"type\": \"heatmap\"}], \"heatmapgl\": [{\"colorbar\": {\"outlinewidth\": 0, \"ticks\": \"\"}, \"colorscale\": [[0.0, \"#0d0887\"], [0.1111111111111111, \"#46039f\"], [0.2222222222222222, \"#7201a8\"], [0.3333333333333333, \"#9c179e\"], [0.4444444444444444, \"#bd3786\"], [0.5555555555555556, \"#d8576b\"], [0.6666666666666666, \"#ed7953\"], [0.7777777777777778, \"#fb9f3a\"], [0.8888888888888888, \"#fdca26\"], [1.0, \"#f0f921\"]], \"type\": \"heatmapgl\"}], \"histogram\": [{\"marker\": {\"colorbar\": {\"outlinewidth\": 0, \"ticks\": \"\"}}, \"type\": \"histogram\"}], \"histogram2d\": [{\"colorbar\": {\"outlinewidth\": 0, \"ticks\": \"\"}, \"colorscale\": [[0.0, \"#0d0887\"], [0.1111111111111111, \"#46039f\"], [0.2222222222222222, \"#7201a8\"], [0.3333333333333333, \"#9c179e\"], [0.4444444444444444, \"#bd3786\"], [0.5555555555555556, \"#d8576b\"], [0.6666666666666666, \"#ed7953\"], [0.7777777777777778, \"#fb9f3a\"], [0.8888888888888888, \"#fdca26\"], [1.0, \"#f0f921\"]], \"type\": \"histogram2d\"}], \"histogram2dcontour\": [{\"colorbar\": {\"outlinewidth\": 0, \"ticks\": \"\"}, \"colorscale\": [[0.0, \"#0d0887\"], [0.1111111111111111, \"#46039f\"], [0.2222222222222222, \"#7201a8\"], [0.3333333333333333, \"#9c179e\"], [0.4444444444444444, \"#bd3786\"], [0.5555555555555556, \"#d8576b\"], [0.6666666666666666, \"#ed7953\"], [0.7777777777777778, \"#fb9f3a\"], [0.8888888888888888, \"#fdca26\"], [1.0, \"#f0f921\"]], \"type\": \"histogram2dcontour\"}], \"mesh3d\": [{\"colorbar\": {\"outlinewidth\": 0, \"ticks\": \"\"}, \"type\": \"mesh3d\"}], \"parcoords\": [{\"line\": {\"colorbar\": {\"outlinewidth\": 0, \"ticks\": \"\"}}, \"type\": \"parcoords\"}], \"pie\": [{\"automargin\": true, \"type\": \"pie\"}], \"scatter\": [{\"marker\": {\"colorbar\": {\"outlinewidth\": 0, \"ticks\": \"\"}}, \"type\": \"scatter\"}], \"scatter3d\": [{\"line\": {\"colorbar\": {\"outlinewidth\": 0, \"ticks\": \"\"}}, \"marker\": {\"colorbar\": {\"outlinewidth\": 0, \"ticks\": \"\"}}, \"type\": \"scatter3d\"}], \"scattercarpet\": [{\"marker\": {\"colorbar\": {\"outlinewidth\": 0, \"ticks\": \"\"}}, \"type\": \"scattercarpet\"}], \"scattergeo\": [{\"marker\": {\"colorbar\": {\"outlinewidth\": 0, \"ticks\": \"\"}}, \"type\": \"scattergeo\"}], \"scattergl\": [{\"marker\": {\"colorbar\": {\"outlinewidth\": 0, \"ticks\": \"\"}}, \"type\": \"scattergl\"}], \"scattermapbox\": [{\"marker\": {\"colorbar\": {\"outlinewidth\": 0, \"ticks\": \"\"}}, \"type\": \"scattermapbox\"}], \"scatterpolar\": [{\"marker\": {\"colorbar\": {\"outlinewidth\": 0, \"ticks\": \"\"}}, \"type\": \"scatterpolar\"}], \"scatterpolargl\": [{\"marker\": {\"colorbar\": {\"outlinewidth\": 0, \"ticks\": \"\"}}, \"type\": \"scatterpolargl\"}], \"scatterternary\": [{\"marker\": {\"colorbar\": {\"outlinewidth\": 0, \"ticks\": \"\"}}, \"type\": \"scatterternary\"}], \"surface\": [{\"colorbar\": {\"outlinewidth\": 0, \"ticks\": \"\"}, \"colorscale\": [[0.0, \"#0d0887\"], [0.1111111111111111, \"#46039f\"], [0.2222222222222222, \"#7201a8\"], [0.3333333333333333, \"#9c179e\"], [0.4444444444444444, \"#bd3786\"], [0.5555555555555556, \"#d8576b\"], [0.6666666666666666, \"#ed7953\"], [0.7777777777777778, \"#fb9f3a\"], [0.8888888888888888, \"#fdca26\"], [1.0, \"#f0f921\"]], \"type\": \"surface\"}], \"table\": [{\"cells\": {\"fill\": {\"color\": \"#EBF0F8\"}, \"line\": {\"color\": \"white\"}}, \"header\": {\"fill\": {\"color\": \"#C8D4E3\"}, \"line\": {\"color\": \"white\"}}, \"type\": \"table\"}]}, \"layout\": {\"annotationdefaults\": {\"arrowcolor\": \"#2a3f5f\", \"arrowhead\": 0, \"arrowwidth\": 1}, \"coloraxis\": {\"colorbar\": {\"outlinewidth\": 0, \"ticks\": \"\"}}, \"colorscale\": {\"diverging\": [[0, \"#8e0152\"], [0.1, \"#c51b7d\"], [0.2, \"#de77ae\"], [0.3, \"#f1b6da\"], [0.4, \"#fde0ef\"], [0.5, \"#f7f7f7\"], [0.6, \"#e6f5d0\"], [0.7, \"#b8e186\"], [0.8, \"#7fbc41\"], [0.9, \"#4d9221\"], [1, \"#276419\"]], \"sequential\": [[0.0, \"#0d0887\"], [0.1111111111111111, \"#46039f\"], [0.2222222222222222, \"#7201a8\"], [0.3333333333333333, \"#9c179e\"], [0.4444444444444444, \"#bd3786\"], [0.5555555555555556, \"#d8576b\"], [0.6666666666666666, \"#ed7953\"], [0.7777777777777778, \"#fb9f3a\"], [0.8888888888888888, \"#fdca26\"], [1.0, \"#f0f921\"]], \"sequentialminus\": [[0.0, \"#0d0887\"], [0.1111111111111111, \"#46039f\"], [0.2222222222222222, \"#7201a8\"], [0.3333333333333333, \"#9c179e\"], [0.4444444444444444, \"#bd3786\"], [0.5555555555555556, \"#d8576b\"], [0.6666666666666666, \"#ed7953\"], [0.7777777777777778, \"#fb9f3a\"], [0.8888888888888888, \"#fdca26\"], [1.0, \"#f0f921\"]]}, \"colorway\": [\"#636efa\", \"#EF553B\", \"#00cc96\", \"#ab63fa\", \"#FFA15A\", \"#19d3f3\", \"#FF6692\", \"#B6E880\", \"#FF97FF\", \"#FECB52\"], \"font\": {\"color\": \"#2a3f5f\"}, \"geo\": {\"bgcolor\": \"white\", \"lakecolor\": \"white\", \"landcolor\": \"#E5ECF6\", \"showlakes\": true, \"showland\": true, \"subunitcolor\": \"white\"}, \"hoverlabel\": {\"align\": \"left\"}, \"hovermode\": \"closest\", \"mapbox\": {\"style\": \"light\"}, \"paper_bgcolor\": \"white\", \"plot_bgcolor\": \"#E5ECF6\", \"polar\": {\"angularaxis\": {\"gridcolor\": \"white\", \"linecolor\": \"white\", \"ticks\": \"\"}, \"bgcolor\": \"#E5ECF6\", \"radialaxis\": {\"gridcolor\": \"white\", \"linecolor\": \"white\", \"ticks\": \"\"}}, \"scene\": {\"xaxis\": {\"backgroundcolor\": \"#E5ECF6\", \"gridcolor\": \"white\", \"gridwidth\": 2, \"linecolor\": \"white\", \"showbackground\": true, \"ticks\": \"\", \"zerolinecolor\": \"white\"}, \"yaxis\": {\"backgroundcolor\": \"#E5ECF6\", \"gridcolor\": \"white\", \"gridwidth\": 2, \"linecolor\": \"white\", \"showbackground\": true, \"ticks\": \"\", \"zerolinecolor\": \"white\"}, \"zaxis\": {\"backgroundcolor\": \"#E5ECF6\", \"gridcolor\": \"white\", \"gridwidth\": 2, \"linecolor\": \"white\", \"showbackground\": true, \"ticks\": \"\", \"zerolinecolor\": \"white\"}}, \"shapedefaults\": {\"line\": {\"color\": \"#2a3f5f\"}}, \"ternary\": {\"aaxis\": {\"gridcolor\": \"white\", \"linecolor\": \"white\", \"ticks\": \"\"}, \"baxis\": {\"gridcolor\": \"white\", \"linecolor\": \"white\", \"ticks\": \"\"}, \"bgcolor\": \"#E5ECF6\", \"caxis\": {\"gridcolor\": \"white\", \"linecolor\": \"white\", \"ticks\": \"\"}}, \"title\": {\"x\": 0.05}, \"xaxis\": {\"automargin\": true, \"gridcolor\": \"white\", \"linecolor\": \"white\", \"ticks\": \"\", \"title\": {\"standoff\": 15}, \"zerolinecolor\": \"white\", \"zerolinewidth\": 2}, \"yaxis\": {\"automargin\": true, \"gridcolor\": \"white\", \"linecolor\": \"white\", \"ticks\": \"\", \"title\": {\"standoff\": 15}, \"zerolinecolor\": \"white\", \"zerolinewidth\": 2}}}, \"xaxis\": {\"anchor\": \"y\", \"domain\": [0.0, 1.0], \"title\": {\"text\": \"date_rptd\"}}, \"yaxis\": {\"anchor\": \"x\", \"domain\": [0.0, 1.0], \"title\": {\"text\": \"value\"}}},\n",
       "                        {\"responsive\": true}\n",
       "                    ).then(function(){\n",
       "                            \n",
       "var gd = document.getElementById('263f6898-ffc4-4e9c-be08-c76181255925');\n",
       "var x = new MutationObserver(function (mutations, observer) {{\n",
       "        var display = window.getComputedStyle(gd).display;\n",
       "        if (!display || display === 'none') {{\n",
       "            console.log([gd, 'removed!']);\n",
       "            Plotly.purge(gd);\n",
       "            observer.disconnect();\n",
       "        }}\n",
       "}});\n",
       "\n",
       "// Listen for the removal of the full notebook cells\n",
       "var notebookContainer = gd.closest('#notebook-container');\n",
       "if (notebookContainer) {{\n",
       "    x.observe(notebookContainer, {childList: true});\n",
       "}}\n",
       "\n",
       "// Listen for the clearing of the current output cell\n",
       "var outputEl = gd.closest('.output');\n",
       "if (outputEl) {{\n",
       "    x.observe(outputEl, {childList: true});\n",
       "}}\n",
       "\n",
       "                        })\n",
       "                };\n",
       "                });\n",
       "            </script>\n",
       "        </div>"
      ]
     },
     "metadata": {},
     "output_type": "display_data"
    }
   ],
   "source": [
    "px.bar(datesdata,x=datesdata.index,y=['W','B'])"
   ]
  },
  {
   "cell_type": "code",
   "execution_count": null,
   "metadata": {},
   "outputs": [],
   "source": [
    "import plotly\n",
    "plotly.__version__"
   ]
  },
  {
   "cell_type": "code",
   "execution_count": 15,
   "metadata": {},
   "outputs": [
    {
     "data": {
      "application/vnd.plotly.v1+json": {
       "config": {
        "plotlyServerURL": "https://plot.ly"
       },
       "data": [
        {
         "alignmentgroup": "True",
         "hovertemplate": "vict_descent=A<br>date_rptd=%{x}<br>value=%{y}<extra></extra>",
         "legendgroup": "A",
         "marker": {
          "color": "#636efa"
         },
         "name": "A",
         "offsetgroup": "A",
         "orientation": "v",
         "showlegend": true,
         "textposition": "auto",
         "type": "bar",
         "x": [
          "2020-07-11T00:00:00.000",
          "2020-07-12T00:00:00.000",
          "2020-07-13T00:00:00.000",
          "2020-07-14T00:00:00.000",
          "2020-07-15T00:00:00.000",
          "2020-07-16T00:00:00.000",
          "2020-07-17T00:00:00.000",
          "2020-07-18T00:00:00.000",
          "2020-07-19T00:00:00.000",
          "2020-07-20T00:00:00.000",
          "2020-07-21T00:00:00.000",
          "2020-07-22T00:00:00.000",
          "2020-07-23T00:00:00.000",
          "2020-07-24T00:00:00.000",
          "2020-07-25T00:00:00.000",
          "2020-07-26T00:00:00.000",
          "2020-07-27T00:00:00.000",
          "2020-07-28T00:00:00.000",
          "2020-07-29T00:00:00.000",
          "2020-07-30T00:00:00.000",
          "2020-07-31T00:00:00.000",
          "2020-08-01T00:00:00.000"
         ],
         "xaxis": "x",
         "y": [
          null,
          1,
          4,
          1,
          null,
          8,
          2,
          3,
          1,
          3,
          3,
          4,
          2,
          3,
          2,
          1,
          1,
          4,
          3,
          1,
          3,
          1
         ],
         "yaxis": "y"
        },
        {
         "alignmentgroup": "True",
         "hovertemplate": "vict_descent=B<br>date_rptd=%{x}<br>value=%{y}<extra></extra>",
         "legendgroup": "B",
         "marker": {
          "color": "#EF553B"
         },
         "name": "B",
         "offsetgroup": "B",
         "orientation": "v",
         "showlegend": true,
         "textposition": "auto",
         "type": "bar",
         "x": [
          "2020-07-11T00:00:00.000",
          "2020-07-12T00:00:00.000",
          "2020-07-13T00:00:00.000",
          "2020-07-14T00:00:00.000",
          "2020-07-15T00:00:00.000",
          "2020-07-16T00:00:00.000",
          "2020-07-17T00:00:00.000",
          "2020-07-18T00:00:00.000",
          "2020-07-19T00:00:00.000",
          "2020-07-20T00:00:00.000",
          "2020-07-21T00:00:00.000",
          "2020-07-22T00:00:00.000",
          "2020-07-23T00:00:00.000",
          "2020-07-24T00:00:00.000",
          "2020-07-25T00:00:00.000",
          "2020-07-26T00:00:00.000",
          "2020-07-27T00:00:00.000",
          "2020-07-28T00:00:00.000",
          "2020-07-29T00:00:00.000",
          "2020-07-30T00:00:00.000",
          "2020-07-31T00:00:00.000",
          "2020-08-01T00:00:00.000"
         ],
         "xaxis": "x",
         "y": [
          null,
          18,
          20,
          11,
          15,
          14,
          15,
          13,
          26,
          21,
          10,
          16,
          17,
          15,
          14,
          7,
          9,
          7,
          14,
          10,
          9,
          5
         ],
         "yaxis": "y"
        },
        {
         "alignmentgroup": "True",
         "hovertemplate": "vict_descent=C<br>date_rptd=%{x}<br>value=%{y}<extra></extra>",
         "legendgroup": "C",
         "marker": {
          "color": "#00cc96"
         },
         "name": "C",
         "offsetgroup": "C",
         "orientation": "v",
         "showlegend": true,
         "textposition": "auto",
         "type": "bar",
         "x": [
          "2020-07-11T00:00:00.000",
          "2020-07-12T00:00:00.000",
          "2020-07-13T00:00:00.000",
          "2020-07-14T00:00:00.000",
          "2020-07-15T00:00:00.000",
          "2020-07-16T00:00:00.000",
          "2020-07-17T00:00:00.000",
          "2020-07-18T00:00:00.000",
          "2020-07-19T00:00:00.000",
          "2020-07-20T00:00:00.000",
          "2020-07-21T00:00:00.000",
          "2020-07-22T00:00:00.000",
          "2020-07-23T00:00:00.000",
          "2020-07-24T00:00:00.000",
          "2020-07-25T00:00:00.000",
          "2020-07-26T00:00:00.000",
          "2020-07-27T00:00:00.000",
          "2020-07-28T00:00:00.000",
          "2020-07-29T00:00:00.000",
          "2020-07-30T00:00:00.000",
          "2020-07-31T00:00:00.000",
          "2020-08-01T00:00:00.000"
         ],
         "xaxis": "x",
         "y": [
          null,
          null,
          null,
          1,
          null,
          null,
          null,
          1,
          null,
          null,
          null,
          null,
          null,
          null,
          null,
          null,
          null,
          null,
          null,
          null,
          1,
          null
         ],
         "yaxis": "y"
        },
        {
         "alignmentgroup": "True",
         "hovertemplate": "vict_descent=F<br>date_rptd=%{x}<br>value=%{y}<extra></extra>",
         "legendgroup": "F",
         "marker": {
          "color": "#ab63fa"
         },
         "name": "F",
         "offsetgroup": "F",
         "orientation": "v",
         "showlegend": true,
         "textposition": "auto",
         "type": "bar",
         "x": [
          "2020-07-11T00:00:00.000",
          "2020-07-12T00:00:00.000",
          "2020-07-13T00:00:00.000",
          "2020-07-14T00:00:00.000",
          "2020-07-15T00:00:00.000",
          "2020-07-16T00:00:00.000",
          "2020-07-17T00:00:00.000",
          "2020-07-18T00:00:00.000",
          "2020-07-19T00:00:00.000",
          "2020-07-20T00:00:00.000",
          "2020-07-21T00:00:00.000",
          "2020-07-22T00:00:00.000",
          "2020-07-23T00:00:00.000",
          "2020-07-24T00:00:00.000",
          "2020-07-25T00:00:00.000",
          "2020-07-26T00:00:00.000",
          "2020-07-27T00:00:00.000",
          "2020-07-28T00:00:00.000",
          "2020-07-29T00:00:00.000",
          "2020-07-30T00:00:00.000",
          "2020-07-31T00:00:00.000",
          "2020-08-01T00:00:00.000"
         ],
         "xaxis": "x",
         "y": [
          null,
          1,
          null,
          3,
          null,
          2,
          1,
          null,
          null,
          null,
          null,
          null,
          null,
          null,
          null,
          null,
          null,
          null,
          null,
          null,
          null,
          null
         ],
         "yaxis": "y"
        },
        {
         "alignmentgroup": "True",
         "hovertemplate": "vict_descent=H<br>date_rptd=%{x}<br>value=%{y}<extra></extra>",
         "legendgroup": "H",
         "marker": {
          "color": "#FFA15A"
         },
         "name": "H",
         "offsetgroup": "H",
         "orientation": "v",
         "showlegend": true,
         "textposition": "auto",
         "type": "bar",
         "x": [
          "2020-07-11T00:00:00.000",
          "2020-07-12T00:00:00.000",
          "2020-07-13T00:00:00.000",
          "2020-07-14T00:00:00.000",
          "2020-07-15T00:00:00.000",
          "2020-07-16T00:00:00.000",
          "2020-07-17T00:00:00.000",
          "2020-07-18T00:00:00.000",
          "2020-07-19T00:00:00.000",
          "2020-07-20T00:00:00.000",
          "2020-07-21T00:00:00.000",
          "2020-07-22T00:00:00.000",
          "2020-07-23T00:00:00.000",
          "2020-07-24T00:00:00.000",
          "2020-07-25T00:00:00.000",
          "2020-07-26T00:00:00.000",
          "2020-07-27T00:00:00.000",
          "2020-07-28T00:00:00.000",
          "2020-07-29T00:00:00.000",
          "2020-07-30T00:00:00.000",
          "2020-07-31T00:00:00.000",
          "2020-08-01T00:00:00.000"
         ],
         "xaxis": "x",
         "y": [
          1,
          53,
          39,
          43,
          53,
          34,
          46,
          54,
          49,
          42,
          40,
          37,
          36,
          55,
          38,
          37,
          37,
          17,
          29,
          28,
          29,
          10
         ],
         "yaxis": "y"
        },
        {
         "alignmentgroup": "True",
         "hovertemplate": "vict_descent=I<br>date_rptd=%{x}<br>value=%{y}<extra></extra>",
         "legendgroup": "I",
         "marker": {
          "color": "#19d3f3"
         },
         "name": "I",
         "offsetgroup": "I",
         "orientation": "v",
         "showlegend": true,
         "textposition": "auto",
         "type": "bar",
         "x": [
          "2020-07-11T00:00:00.000",
          "2020-07-12T00:00:00.000",
          "2020-07-13T00:00:00.000",
          "2020-07-14T00:00:00.000",
          "2020-07-15T00:00:00.000",
          "2020-07-16T00:00:00.000",
          "2020-07-17T00:00:00.000",
          "2020-07-18T00:00:00.000",
          "2020-07-19T00:00:00.000",
          "2020-07-20T00:00:00.000",
          "2020-07-21T00:00:00.000",
          "2020-07-22T00:00:00.000",
          "2020-07-23T00:00:00.000",
          "2020-07-24T00:00:00.000",
          "2020-07-25T00:00:00.000",
          "2020-07-26T00:00:00.000",
          "2020-07-27T00:00:00.000",
          "2020-07-28T00:00:00.000",
          "2020-07-29T00:00:00.000",
          "2020-07-30T00:00:00.000",
          "2020-07-31T00:00:00.000",
          "2020-08-01T00:00:00.000"
         ],
         "xaxis": "x",
         "y": [
          null,
          null,
          1,
          null,
          null,
          null,
          null,
          null,
          null,
          null,
          null,
          1,
          null,
          1,
          null,
          null,
          null,
          null,
          null,
          null,
          null,
          null
         ],
         "yaxis": "y"
        },
        {
         "alignmentgroup": "True",
         "hovertemplate": "vict_descent=J<br>date_rptd=%{x}<br>value=%{y}<extra></extra>",
         "legendgroup": "J",
         "marker": {
          "color": "#FF6692"
         },
         "name": "J",
         "offsetgroup": "J",
         "orientation": "v",
         "showlegend": true,
         "textposition": "auto",
         "type": "bar",
         "x": [
          "2020-07-11T00:00:00.000",
          "2020-07-12T00:00:00.000",
          "2020-07-13T00:00:00.000",
          "2020-07-14T00:00:00.000",
          "2020-07-15T00:00:00.000",
          "2020-07-16T00:00:00.000",
          "2020-07-17T00:00:00.000",
          "2020-07-18T00:00:00.000",
          "2020-07-19T00:00:00.000",
          "2020-07-20T00:00:00.000",
          "2020-07-21T00:00:00.000",
          "2020-07-22T00:00:00.000",
          "2020-07-23T00:00:00.000",
          "2020-07-24T00:00:00.000",
          "2020-07-25T00:00:00.000",
          "2020-07-26T00:00:00.000",
          "2020-07-27T00:00:00.000",
          "2020-07-28T00:00:00.000",
          "2020-07-29T00:00:00.000",
          "2020-07-30T00:00:00.000",
          "2020-07-31T00:00:00.000",
          "2020-08-01T00:00:00.000"
         ],
         "xaxis": "x",
         "y": [
          null,
          null,
          null,
          null,
          null,
          null,
          null,
          null,
          null,
          null,
          null,
          null,
          null,
          null,
          null,
          null,
          1,
          null,
          null,
          null,
          null,
          null
         ],
         "yaxis": "y"
        },
        {
         "alignmentgroup": "True",
         "hovertemplate": "vict_descent=K<br>date_rptd=%{x}<br>value=%{y}<extra></extra>",
         "legendgroup": "K",
         "marker": {
          "color": "#B6E880"
         },
         "name": "K",
         "offsetgroup": "K",
         "orientation": "v",
         "showlegend": true,
         "textposition": "auto",
         "type": "bar",
         "x": [
          "2020-07-11T00:00:00.000",
          "2020-07-12T00:00:00.000",
          "2020-07-13T00:00:00.000",
          "2020-07-14T00:00:00.000",
          "2020-07-15T00:00:00.000",
          "2020-07-16T00:00:00.000",
          "2020-07-17T00:00:00.000",
          "2020-07-18T00:00:00.000",
          "2020-07-19T00:00:00.000",
          "2020-07-20T00:00:00.000",
          "2020-07-21T00:00:00.000",
          "2020-07-22T00:00:00.000",
          "2020-07-23T00:00:00.000",
          "2020-07-24T00:00:00.000",
          "2020-07-25T00:00:00.000",
          "2020-07-26T00:00:00.000",
          "2020-07-27T00:00:00.000",
          "2020-07-28T00:00:00.000",
          "2020-07-29T00:00:00.000",
          "2020-07-30T00:00:00.000",
          "2020-07-31T00:00:00.000",
          "2020-08-01T00:00:00.000"
         ],
         "xaxis": "x",
         "y": [
          null,
          1,
          1,
          1,
          1,
          2,
          1,
          null,
          null,
          null,
          1,
          null,
          null,
          1,
          null,
          3,
          1,
          2,
          1,
          1,
          null,
          null
         ],
         "yaxis": "y"
        },
        {
         "alignmentgroup": "True",
         "hovertemplate": "vict_descent=O<br>date_rptd=%{x}<br>value=%{y}<extra></extra>",
         "legendgroup": "O",
         "marker": {
          "color": "#FF97FF"
         },
         "name": "O",
         "offsetgroup": "O",
         "orientation": "v",
         "showlegend": true,
         "textposition": "auto",
         "type": "bar",
         "x": [
          "2020-07-11T00:00:00.000",
          "2020-07-12T00:00:00.000",
          "2020-07-13T00:00:00.000",
          "2020-07-14T00:00:00.000",
          "2020-07-15T00:00:00.000",
          "2020-07-16T00:00:00.000",
          "2020-07-17T00:00:00.000",
          "2020-07-18T00:00:00.000",
          "2020-07-19T00:00:00.000",
          "2020-07-20T00:00:00.000",
          "2020-07-21T00:00:00.000",
          "2020-07-22T00:00:00.000",
          "2020-07-23T00:00:00.000",
          "2020-07-24T00:00:00.000",
          "2020-07-25T00:00:00.000",
          "2020-07-26T00:00:00.000",
          "2020-07-27T00:00:00.000",
          "2020-07-28T00:00:00.000",
          "2020-07-29T00:00:00.000",
          "2020-07-30T00:00:00.000",
          "2020-07-31T00:00:00.000",
          "2020-08-01T00:00:00.000"
         ],
         "xaxis": "x",
         "y": [
          null,
          10,
          18,
          17,
          16,
          23,
          11,
          10,
          15,
          7,
          19,
          16,
          13,
          13,
          13,
          14,
          12,
          10,
          11,
          9,
          13,
          3
         ],
         "yaxis": "y"
        },
        {
         "alignmentgroup": "True",
         "hovertemplate": "vict_descent=P<br>date_rptd=%{x}<br>value=%{y}<extra></extra>",
         "legendgroup": "P",
         "marker": {
          "color": "#FECB52"
         },
         "name": "P",
         "offsetgroup": "P",
         "orientation": "v",
         "showlegend": true,
         "textposition": "auto",
         "type": "bar",
         "x": [
          "2020-07-11T00:00:00.000",
          "2020-07-12T00:00:00.000",
          "2020-07-13T00:00:00.000",
          "2020-07-14T00:00:00.000",
          "2020-07-15T00:00:00.000",
          "2020-07-16T00:00:00.000",
          "2020-07-17T00:00:00.000",
          "2020-07-18T00:00:00.000",
          "2020-07-19T00:00:00.000",
          "2020-07-20T00:00:00.000",
          "2020-07-21T00:00:00.000",
          "2020-07-22T00:00:00.000",
          "2020-07-23T00:00:00.000",
          "2020-07-24T00:00:00.000",
          "2020-07-25T00:00:00.000",
          "2020-07-26T00:00:00.000",
          "2020-07-27T00:00:00.000",
          "2020-07-28T00:00:00.000",
          "2020-07-29T00:00:00.000",
          "2020-07-30T00:00:00.000",
          "2020-07-31T00:00:00.000",
          "2020-08-01T00:00:00.000"
         ],
         "xaxis": "x",
         "y": [
          null,
          null,
          null,
          1,
          null,
          null,
          null,
          null,
          null,
          null,
          null,
          null,
          null,
          null,
          null,
          1,
          null,
          null,
          null,
          null,
          null,
          null
         ],
         "yaxis": "y"
        },
        {
         "alignmentgroup": "True",
         "hovertemplate": "vict_descent=U<br>date_rptd=%{x}<br>value=%{y}<extra></extra>",
         "legendgroup": "U",
         "marker": {
          "color": "#636efa"
         },
         "name": "U",
         "offsetgroup": "U",
         "orientation": "v",
         "showlegend": true,
         "textposition": "auto",
         "type": "bar",
         "x": [
          "2020-07-11T00:00:00.000",
          "2020-07-12T00:00:00.000",
          "2020-07-13T00:00:00.000",
          "2020-07-14T00:00:00.000",
          "2020-07-15T00:00:00.000",
          "2020-07-16T00:00:00.000",
          "2020-07-17T00:00:00.000",
          "2020-07-18T00:00:00.000",
          "2020-07-19T00:00:00.000",
          "2020-07-20T00:00:00.000",
          "2020-07-21T00:00:00.000",
          "2020-07-22T00:00:00.000",
          "2020-07-23T00:00:00.000",
          "2020-07-24T00:00:00.000",
          "2020-07-25T00:00:00.000",
          "2020-07-26T00:00:00.000",
          "2020-07-27T00:00:00.000",
          "2020-07-28T00:00:00.000",
          "2020-07-29T00:00:00.000",
          "2020-07-30T00:00:00.000",
          "2020-07-31T00:00:00.000",
          "2020-08-01T00:00:00.000"
         ],
         "xaxis": "x",
         "y": [
          null,
          null,
          null,
          null,
          null,
          1,
          null,
          null,
          null,
          null,
          null,
          null,
          null,
          null,
          null,
          null,
          null,
          1,
          null,
          null,
          null,
          null
         ],
         "yaxis": "y"
        },
        {
         "alignmentgroup": "True",
         "hovertemplate": "vict_descent=V<br>date_rptd=%{x}<br>value=%{y}<extra></extra>",
         "legendgroup": "V",
         "marker": {
          "color": "#EF553B"
         },
         "name": "V",
         "offsetgroup": "V",
         "orientation": "v",
         "showlegend": true,
         "textposition": "auto",
         "type": "bar",
         "x": [
          "2020-07-11T00:00:00.000",
          "2020-07-12T00:00:00.000",
          "2020-07-13T00:00:00.000",
          "2020-07-14T00:00:00.000",
          "2020-07-15T00:00:00.000",
          "2020-07-16T00:00:00.000",
          "2020-07-17T00:00:00.000",
          "2020-07-18T00:00:00.000",
          "2020-07-19T00:00:00.000",
          "2020-07-20T00:00:00.000",
          "2020-07-21T00:00:00.000",
          "2020-07-22T00:00:00.000",
          "2020-07-23T00:00:00.000",
          "2020-07-24T00:00:00.000",
          "2020-07-25T00:00:00.000",
          "2020-07-26T00:00:00.000",
          "2020-07-27T00:00:00.000",
          "2020-07-28T00:00:00.000",
          "2020-07-29T00:00:00.000",
          "2020-07-30T00:00:00.000",
          "2020-07-31T00:00:00.000",
          "2020-08-01T00:00:00.000"
         ],
         "xaxis": "x",
         "y": [
          null,
          null,
          null,
          null,
          null,
          null,
          null,
          1,
          null,
          null,
          null,
          null,
          null,
          null,
          null,
          1,
          null,
          1,
          null,
          null,
          null,
          null
         ],
         "yaxis": "y"
        },
        {
         "alignmentgroup": "True",
         "hovertemplate": "vict_descent=W<br>date_rptd=%{x}<br>value=%{y}<extra></extra>",
         "legendgroup": "W",
         "marker": {
          "color": "#00cc96"
         },
         "name": "W",
         "offsetgroup": "W",
         "orientation": "v",
         "showlegend": true,
         "textposition": "auto",
         "type": "bar",
         "x": [
          "2020-07-11T00:00:00.000",
          "2020-07-12T00:00:00.000",
          "2020-07-13T00:00:00.000",
          "2020-07-14T00:00:00.000",
          "2020-07-15T00:00:00.000",
          "2020-07-16T00:00:00.000",
          "2020-07-17T00:00:00.000",
          "2020-07-18T00:00:00.000",
          "2020-07-19T00:00:00.000",
          "2020-07-20T00:00:00.000",
          "2020-07-21T00:00:00.000",
          "2020-07-22T00:00:00.000",
          "2020-07-23T00:00:00.000",
          "2020-07-24T00:00:00.000",
          "2020-07-25T00:00:00.000",
          "2020-07-26T00:00:00.000",
          "2020-07-27T00:00:00.000",
          "2020-07-28T00:00:00.000",
          "2020-07-29T00:00:00.000",
          "2020-07-30T00:00:00.000",
          "2020-07-31T00:00:00.000",
          "2020-08-01T00:00:00.000"
         ],
         "xaxis": "x",
         "y": [
          null,
          18,
          23,
          18,
          21,
          20,
          23,
          18,
          12,
          17,
          28,
          17,
          23,
          28,
          18,
          12,
          23,
          14,
          15,
          7,
          11,
          4
         ],
         "yaxis": "y"
        },
        {
         "alignmentgroup": "True",
         "hovertemplate": "vict_descent=X<br>date_rptd=%{x}<br>value=%{y}<extra></extra>",
         "legendgroup": "X",
         "marker": {
          "color": "#ab63fa"
         },
         "name": "X",
         "offsetgroup": "X",
         "orientation": "v",
         "showlegend": true,
         "textposition": "auto",
         "type": "bar",
         "x": [
          "2020-07-11T00:00:00.000",
          "2020-07-12T00:00:00.000",
          "2020-07-13T00:00:00.000",
          "2020-07-14T00:00:00.000",
          "2020-07-15T00:00:00.000",
          "2020-07-16T00:00:00.000",
          "2020-07-17T00:00:00.000",
          "2020-07-18T00:00:00.000",
          "2020-07-19T00:00:00.000",
          "2020-07-20T00:00:00.000",
          "2020-07-21T00:00:00.000",
          "2020-07-22T00:00:00.000",
          "2020-07-23T00:00:00.000",
          "2020-07-24T00:00:00.000",
          "2020-07-25T00:00:00.000",
          "2020-07-26T00:00:00.000",
          "2020-07-27T00:00:00.000",
          "2020-07-28T00:00:00.000",
          "2020-07-29T00:00:00.000",
          "2020-07-30T00:00:00.000",
          "2020-07-31T00:00:00.000",
          "2020-08-01T00:00:00.000"
         ],
         "xaxis": "x",
         "y": [
          null,
          9,
          7,
          8,
          7,
          10,
          7,
          3,
          11,
          10,
          3,
          2,
          9,
          9,
          2,
          8,
          3,
          6,
          4,
          1,
          9,
          1
         ],
         "yaxis": "y"
        },
        {
         "alignmentgroup": "True",
         "hovertemplate": "vict_descent=Z<br>date_rptd=%{x}<br>value=%{y}<extra></extra>",
         "legendgroup": "Z",
         "marker": {
          "color": "#FFA15A"
         },
         "name": "Z",
         "offsetgroup": "Z",
         "orientation": "v",
         "showlegend": true,
         "textposition": "auto",
         "type": "bar",
         "x": [
          "2020-07-11T00:00:00.000",
          "2020-07-12T00:00:00.000",
          "2020-07-13T00:00:00.000",
          "2020-07-14T00:00:00.000",
          "2020-07-15T00:00:00.000",
          "2020-07-16T00:00:00.000",
          "2020-07-17T00:00:00.000",
          "2020-07-18T00:00:00.000",
          "2020-07-19T00:00:00.000",
          "2020-07-20T00:00:00.000",
          "2020-07-21T00:00:00.000",
          "2020-07-22T00:00:00.000",
          "2020-07-23T00:00:00.000",
          "2020-07-24T00:00:00.000",
          "2020-07-25T00:00:00.000",
          "2020-07-26T00:00:00.000",
          "2020-07-27T00:00:00.000",
          "2020-07-28T00:00:00.000",
          "2020-07-29T00:00:00.000",
          "2020-07-30T00:00:00.000",
          "2020-07-31T00:00:00.000",
          "2020-08-01T00:00:00.000"
         ],
         "xaxis": "x",
         "y": [
          null,
          null,
          1,
          null,
          null,
          null,
          null,
          null,
          null,
          null,
          1,
          null,
          null,
          null,
          null,
          null,
          null,
          1,
          null,
          null,
          null,
          null
         ],
         "yaxis": "y"
        }
       ],
       "layout": {
        "autosize": true,
        "barmode": "relative",
        "legend": {
         "title": {
          "text": "vict_descent"
         },
         "tracegroupgap": 0
        },
        "margin": {
         "t": 60
        },
        "template": {
         "data": {
          "bar": [
           {
            "error_x": {
             "color": "#2a3f5f"
            },
            "error_y": {
             "color": "#2a3f5f"
            },
            "marker": {
             "line": {
              "color": "#E5ECF6",
              "width": 0.5
             }
            },
            "type": "bar"
           }
          ],
          "barpolar": [
           {
            "marker": {
             "line": {
              "color": "#E5ECF6",
              "width": 0.5
             }
            },
            "type": "barpolar"
           }
          ],
          "carpet": [
           {
            "aaxis": {
             "endlinecolor": "#2a3f5f",
             "gridcolor": "white",
             "linecolor": "white",
             "minorgridcolor": "white",
             "startlinecolor": "#2a3f5f"
            },
            "baxis": {
             "endlinecolor": "#2a3f5f",
             "gridcolor": "white",
             "linecolor": "white",
             "minorgridcolor": "white",
             "startlinecolor": "#2a3f5f"
            },
            "type": "carpet"
           }
          ],
          "choropleth": [
           {
            "colorbar": {
             "outlinewidth": 0,
             "ticks": ""
            },
            "type": "choropleth"
           }
          ],
          "contour": [
           {
            "colorbar": {
             "outlinewidth": 0,
             "ticks": ""
            },
            "colorscale": [
             [
              0,
              "#0d0887"
             ],
             [
              0.1111111111111111,
              "#46039f"
             ],
             [
              0.2222222222222222,
              "#7201a8"
             ],
             [
              0.3333333333333333,
              "#9c179e"
             ],
             [
              0.4444444444444444,
              "#bd3786"
             ],
             [
              0.5555555555555556,
              "#d8576b"
             ],
             [
              0.6666666666666666,
              "#ed7953"
             ],
             [
              0.7777777777777778,
              "#fb9f3a"
             ],
             [
              0.8888888888888888,
              "#fdca26"
             ],
             [
              1,
              "#f0f921"
             ]
            ],
            "type": "contour"
           }
          ],
          "contourcarpet": [
           {
            "colorbar": {
             "outlinewidth": 0,
             "ticks": ""
            },
            "type": "contourcarpet"
           }
          ],
          "heatmap": [
           {
            "colorbar": {
             "outlinewidth": 0,
             "ticks": ""
            },
            "colorscale": [
             [
              0,
              "#0d0887"
             ],
             [
              0.1111111111111111,
              "#46039f"
             ],
             [
              0.2222222222222222,
              "#7201a8"
             ],
             [
              0.3333333333333333,
              "#9c179e"
             ],
             [
              0.4444444444444444,
              "#bd3786"
             ],
             [
              0.5555555555555556,
              "#d8576b"
             ],
             [
              0.6666666666666666,
              "#ed7953"
             ],
             [
              0.7777777777777778,
              "#fb9f3a"
             ],
             [
              0.8888888888888888,
              "#fdca26"
             ],
             [
              1,
              "#f0f921"
             ]
            ],
            "type": "heatmap"
           }
          ],
          "heatmapgl": [
           {
            "colorbar": {
             "outlinewidth": 0,
             "ticks": ""
            },
            "colorscale": [
             [
              0,
              "#0d0887"
             ],
             [
              0.1111111111111111,
              "#46039f"
             ],
             [
              0.2222222222222222,
              "#7201a8"
             ],
             [
              0.3333333333333333,
              "#9c179e"
             ],
             [
              0.4444444444444444,
              "#bd3786"
             ],
             [
              0.5555555555555556,
              "#d8576b"
             ],
             [
              0.6666666666666666,
              "#ed7953"
             ],
             [
              0.7777777777777778,
              "#fb9f3a"
             ],
             [
              0.8888888888888888,
              "#fdca26"
             ],
             [
              1,
              "#f0f921"
             ]
            ],
            "type": "heatmapgl"
           }
          ],
          "histogram": [
           {
            "marker": {
             "colorbar": {
              "outlinewidth": 0,
              "ticks": ""
             }
            },
            "type": "histogram"
           }
          ],
          "histogram2d": [
           {
            "colorbar": {
             "outlinewidth": 0,
             "ticks": ""
            },
            "colorscale": [
             [
              0,
              "#0d0887"
             ],
             [
              0.1111111111111111,
              "#46039f"
             ],
             [
              0.2222222222222222,
              "#7201a8"
             ],
             [
              0.3333333333333333,
              "#9c179e"
             ],
             [
              0.4444444444444444,
              "#bd3786"
             ],
             [
              0.5555555555555556,
              "#d8576b"
             ],
             [
              0.6666666666666666,
              "#ed7953"
             ],
             [
              0.7777777777777778,
              "#fb9f3a"
             ],
             [
              0.8888888888888888,
              "#fdca26"
             ],
             [
              1,
              "#f0f921"
             ]
            ],
            "type": "histogram2d"
           }
          ],
          "histogram2dcontour": [
           {
            "colorbar": {
             "outlinewidth": 0,
             "ticks": ""
            },
            "colorscale": [
             [
              0,
              "#0d0887"
             ],
             [
              0.1111111111111111,
              "#46039f"
             ],
             [
              0.2222222222222222,
              "#7201a8"
             ],
             [
              0.3333333333333333,
              "#9c179e"
             ],
             [
              0.4444444444444444,
              "#bd3786"
             ],
             [
              0.5555555555555556,
              "#d8576b"
             ],
             [
              0.6666666666666666,
              "#ed7953"
             ],
             [
              0.7777777777777778,
              "#fb9f3a"
             ],
             [
              0.8888888888888888,
              "#fdca26"
             ],
             [
              1,
              "#f0f921"
             ]
            ],
            "type": "histogram2dcontour"
           }
          ],
          "mesh3d": [
           {
            "colorbar": {
             "outlinewidth": 0,
             "ticks": ""
            },
            "type": "mesh3d"
           }
          ],
          "parcoords": [
           {
            "line": {
             "colorbar": {
              "outlinewidth": 0,
              "ticks": ""
             }
            },
            "type": "parcoords"
           }
          ],
          "pie": [
           {
            "automargin": true,
            "type": "pie"
           }
          ],
          "scatter": [
           {
            "marker": {
             "colorbar": {
              "outlinewidth": 0,
              "ticks": ""
             }
            },
            "type": "scatter"
           }
          ],
          "scatter3d": [
           {
            "line": {
             "colorbar": {
              "outlinewidth": 0,
              "ticks": ""
             }
            },
            "marker": {
             "colorbar": {
              "outlinewidth": 0,
              "ticks": ""
             }
            },
            "type": "scatter3d"
           }
          ],
          "scattercarpet": [
           {
            "marker": {
             "colorbar": {
              "outlinewidth": 0,
              "ticks": ""
             }
            },
            "type": "scattercarpet"
           }
          ],
          "scattergeo": [
           {
            "marker": {
             "colorbar": {
              "outlinewidth": 0,
              "ticks": ""
             }
            },
            "type": "scattergeo"
           }
          ],
          "scattergl": [
           {
            "marker": {
             "colorbar": {
              "outlinewidth": 0,
              "ticks": ""
             }
            },
            "type": "scattergl"
           }
          ],
          "scattermapbox": [
           {
            "marker": {
             "colorbar": {
              "outlinewidth": 0,
              "ticks": ""
             }
            },
            "type": "scattermapbox"
           }
          ],
          "scatterpolar": [
           {
            "marker": {
             "colorbar": {
              "outlinewidth": 0,
              "ticks": ""
             }
            },
            "type": "scatterpolar"
           }
          ],
          "scatterpolargl": [
           {
            "marker": {
             "colorbar": {
              "outlinewidth": 0,
              "ticks": ""
             }
            },
            "type": "scatterpolargl"
           }
          ],
          "scatterternary": [
           {
            "marker": {
             "colorbar": {
              "outlinewidth": 0,
              "ticks": ""
             }
            },
            "type": "scatterternary"
           }
          ],
          "surface": [
           {
            "colorbar": {
             "outlinewidth": 0,
             "ticks": ""
            },
            "colorscale": [
             [
              0,
              "#0d0887"
             ],
             [
              0.1111111111111111,
              "#46039f"
             ],
             [
              0.2222222222222222,
              "#7201a8"
             ],
             [
              0.3333333333333333,
              "#9c179e"
             ],
             [
              0.4444444444444444,
              "#bd3786"
             ],
             [
              0.5555555555555556,
              "#d8576b"
             ],
             [
              0.6666666666666666,
              "#ed7953"
             ],
             [
              0.7777777777777778,
              "#fb9f3a"
             ],
             [
              0.8888888888888888,
              "#fdca26"
             ],
             [
              1,
              "#f0f921"
             ]
            ],
            "type": "surface"
           }
          ],
          "table": [
           {
            "cells": {
             "fill": {
              "color": "#EBF0F8"
             },
             "line": {
              "color": "white"
             }
            },
            "header": {
             "fill": {
              "color": "#C8D4E3"
             },
             "line": {
              "color": "white"
             }
            },
            "type": "table"
           }
          ]
         },
         "layout": {
          "annotationdefaults": {
           "arrowcolor": "#2a3f5f",
           "arrowhead": 0,
           "arrowwidth": 1
          },
          "coloraxis": {
           "colorbar": {
            "outlinewidth": 0,
            "ticks": ""
           }
          },
          "colorscale": {
           "diverging": [
            [
             0,
             "#8e0152"
            ],
            [
             0.1,
             "#c51b7d"
            ],
            [
             0.2,
             "#de77ae"
            ],
            [
             0.3,
             "#f1b6da"
            ],
            [
             0.4,
             "#fde0ef"
            ],
            [
             0.5,
             "#f7f7f7"
            ],
            [
             0.6,
             "#e6f5d0"
            ],
            [
             0.7,
             "#b8e186"
            ],
            [
             0.8,
             "#7fbc41"
            ],
            [
             0.9,
             "#4d9221"
            ],
            [
             1,
             "#276419"
            ]
           ],
           "sequential": [
            [
             0,
             "#0d0887"
            ],
            [
             0.1111111111111111,
             "#46039f"
            ],
            [
             0.2222222222222222,
             "#7201a8"
            ],
            [
             0.3333333333333333,
             "#9c179e"
            ],
            [
             0.4444444444444444,
             "#bd3786"
            ],
            [
             0.5555555555555556,
             "#d8576b"
            ],
            [
             0.6666666666666666,
             "#ed7953"
            ],
            [
             0.7777777777777778,
             "#fb9f3a"
            ],
            [
             0.8888888888888888,
             "#fdca26"
            ],
            [
             1,
             "#f0f921"
            ]
           ],
           "sequentialminus": [
            [
             0,
             "#0d0887"
            ],
            [
             0.1111111111111111,
             "#46039f"
            ],
            [
             0.2222222222222222,
             "#7201a8"
            ],
            [
             0.3333333333333333,
             "#9c179e"
            ],
            [
             0.4444444444444444,
             "#bd3786"
            ],
            [
             0.5555555555555556,
             "#d8576b"
            ],
            [
             0.6666666666666666,
             "#ed7953"
            ],
            [
             0.7777777777777778,
             "#fb9f3a"
            ],
            [
             0.8888888888888888,
             "#fdca26"
            ],
            [
             1,
             "#f0f921"
            ]
           ]
          },
          "colorway": [
           "#636efa",
           "#EF553B",
           "#00cc96",
           "#ab63fa",
           "#FFA15A",
           "#19d3f3",
           "#FF6692",
           "#B6E880",
           "#FF97FF",
           "#FECB52"
          ],
          "font": {
           "color": "#2a3f5f"
          },
          "geo": {
           "bgcolor": "white",
           "lakecolor": "white",
           "landcolor": "#E5ECF6",
           "showlakes": true,
           "showland": true,
           "subunitcolor": "white"
          },
          "hoverlabel": {
           "align": "left"
          },
          "hovermode": "closest",
          "mapbox": {
           "style": "light"
          },
          "paper_bgcolor": "white",
          "plot_bgcolor": "#E5ECF6",
          "polar": {
           "angularaxis": {
            "gridcolor": "white",
            "linecolor": "white",
            "ticks": ""
           },
           "bgcolor": "#E5ECF6",
           "radialaxis": {
            "gridcolor": "white",
            "linecolor": "white",
            "ticks": ""
           }
          },
          "scene": {
           "xaxis": {
            "backgroundcolor": "#E5ECF6",
            "gridcolor": "white",
            "gridwidth": 2,
            "linecolor": "white",
            "showbackground": true,
            "ticks": "",
            "zerolinecolor": "white"
           },
           "yaxis": {
            "backgroundcolor": "#E5ECF6",
            "gridcolor": "white",
            "gridwidth": 2,
            "linecolor": "white",
            "showbackground": true,
            "ticks": "",
            "zerolinecolor": "white"
           },
           "zaxis": {
            "backgroundcolor": "#E5ECF6",
            "gridcolor": "white",
            "gridwidth": 2,
            "linecolor": "white",
            "showbackground": true,
            "ticks": "",
            "zerolinecolor": "white"
           }
          },
          "shapedefaults": {
           "line": {
            "color": "#2a3f5f"
           }
          },
          "ternary": {
           "aaxis": {
            "gridcolor": "white",
            "linecolor": "white",
            "ticks": ""
           },
           "baxis": {
            "gridcolor": "white",
            "linecolor": "white",
            "ticks": ""
           },
           "bgcolor": "#E5ECF6",
           "caxis": {
            "gridcolor": "white",
            "linecolor": "white",
            "ticks": ""
           }
          },
          "title": {
           "x": 0.05
          },
          "xaxis": {
           "automargin": true,
           "gridcolor": "white",
           "linecolor": "white",
           "ticks": "",
           "title": {
            "standoff": 15
           },
           "zerolinecolor": "white",
           "zerolinewidth": 2
          },
          "yaxis": {
           "automargin": true,
           "gridcolor": "white",
           "linecolor": "white",
           "ticks": "",
           "title": {
            "standoff": 15
           },
           "zerolinecolor": "white",
           "zerolinewidth": 2
          }
         }
        },
        "xaxis": {
         "anchor": "y",
         "autorange": true,
         "domain": [
          0,
          1
         ],
         "range": [
          "2020-07-10 12:00",
          "2020-08-01 12:00"
         ],
         "title": {
          "text": "date_rptd"
         },
         "type": "date"
        },
        "yaxis": {
         "anchor": "x",
         "autorange": true,
         "domain": [
          0,
          1
         ],
         "range": [
          0,
          131.57894736842104
         ],
         "title": {
          "text": "value"
         },
         "type": "linear"
        }
       }
      },
      "image/png": "[encoded data removed]",
      "text/html": [
       "<div>\n",
       "        \n",
       "        \n",
       "            <div id=\"97c3e8a0-e59c-4786-8814-1354e587495e\" class=\"plotly-graph-div\" style=\"height:525px; width:100%;\"></div>\n",
       "            <script type=\"text/javascript\">\n",
       "                require([\"plotly\"], function(Plotly) {\n",
       "                    window.PLOTLYENV=window.PLOTLYENV || {};\n",
       "                    \n",
       "                if (document.getElementById(\"97c3e8a0-e59c-4786-8814-1354e587495e\")) {\n",
       "                    Plotly.newPlot(\n",
       "                        '97c3e8a0-e59c-4786-8814-1354e587495e',\n",
       "                        [{\"alignmentgroup\": \"True\", \"hovertemplate\": \"vict_descent=A<br>date_rptd=%{x}<br>value=%{y}<extra></extra>\", \"legendgroup\": \"A\", \"marker\": {\"color\": \"#636efa\"}, \"name\": \"A\", \"offsetgroup\": \"A\", \"orientation\": \"v\", \"showlegend\": true, \"textposition\": \"auto\", \"type\": \"bar\", \"x\": [\"2020-07-11T00:00:00.000\", \"2020-07-12T00:00:00.000\", \"2020-07-13T00:00:00.000\", \"2020-07-14T00:00:00.000\", \"2020-07-15T00:00:00.000\", \"2020-07-16T00:00:00.000\", \"2020-07-17T00:00:00.000\", \"2020-07-18T00:00:00.000\", \"2020-07-19T00:00:00.000\", \"2020-07-20T00:00:00.000\", \"2020-07-21T00:00:00.000\", \"2020-07-22T00:00:00.000\", \"2020-07-23T00:00:00.000\", \"2020-07-24T00:00:00.000\", \"2020-07-25T00:00:00.000\", \"2020-07-26T00:00:00.000\", \"2020-07-27T00:00:00.000\", \"2020-07-28T00:00:00.000\", \"2020-07-29T00:00:00.000\", \"2020-07-30T00:00:00.000\", \"2020-07-31T00:00:00.000\", \"2020-08-01T00:00:00.000\"], \"xaxis\": \"x\", \"y\": [null, 1.0, 4.0, 1.0, null, 8.0, 2.0, 3.0, 1.0, 3.0, 3.0, 4.0, 2.0, 3.0, 2.0, 1.0, 1.0, 4.0, 3.0, 1.0, 3.0, 1.0], \"yaxis\": \"y\"}, {\"alignmentgroup\": \"True\", \"hovertemplate\": \"vict_descent=B<br>date_rptd=%{x}<br>value=%{y}<extra></extra>\", \"legendgroup\": \"B\", \"marker\": {\"color\": \"#EF553B\"}, \"name\": \"B\", \"offsetgroup\": \"B\", \"orientation\": \"v\", \"showlegend\": true, \"textposition\": \"auto\", \"type\": \"bar\", \"x\": [\"2020-07-11T00:00:00.000\", \"2020-07-12T00:00:00.000\", \"2020-07-13T00:00:00.000\", \"2020-07-14T00:00:00.000\", \"2020-07-15T00:00:00.000\", \"2020-07-16T00:00:00.000\", \"2020-07-17T00:00:00.000\", \"2020-07-18T00:00:00.000\", \"2020-07-19T00:00:00.000\", \"2020-07-20T00:00:00.000\", \"2020-07-21T00:00:00.000\", \"2020-07-22T00:00:00.000\", \"2020-07-23T00:00:00.000\", \"2020-07-24T00:00:00.000\", \"2020-07-25T00:00:00.000\", \"2020-07-26T00:00:00.000\", \"2020-07-27T00:00:00.000\", \"2020-07-28T00:00:00.000\", \"2020-07-29T00:00:00.000\", \"2020-07-30T00:00:00.000\", \"2020-07-31T00:00:00.000\", \"2020-08-01T00:00:00.000\"], \"xaxis\": \"x\", \"y\": [null, 18.0, 20.0, 11.0, 15.0, 14.0, 15.0, 13.0, 26.0, 21.0, 10.0, 16.0, 17.0, 15.0, 14.0, 7.0, 9.0, 7.0, 14.0, 10.0, 9.0, 5.0], \"yaxis\": \"y\"}, {\"alignmentgroup\": \"True\", \"hovertemplate\": \"vict_descent=C<br>date_rptd=%{x}<br>value=%{y}<extra></extra>\", \"legendgroup\": \"C\", \"marker\": {\"color\": \"#00cc96\"}, \"name\": \"C\", \"offsetgroup\": \"C\", \"orientation\": \"v\", \"showlegend\": true, \"textposition\": \"auto\", \"type\": \"bar\", \"x\": [\"2020-07-11T00:00:00.000\", \"2020-07-12T00:00:00.000\", \"2020-07-13T00:00:00.000\", \"2020-07-14T00:00:00.000\", \"2020-07-15T00:00:00.000\", \"2020-07-16T00:00:00.000\", \"2020-07-17T00:00:00.000\", \"2020-07-18T00:00:00.000\", \"2020-07-19T00:00:00.000\", \"2020-07-20T00:00:00.000\", \"2020-07-21T00:00:00.000\", \"2020-07-22T00:00:00.000\", \"2020-07-23T00:00:00.000\", \"2020-07-24T00:00:00.000\", \"2020-07-25T00:00:00.000\", \"2020-07-26T00:00:00.000\", \"2020-07-27T00:00:00.000\", \"2020-07-28T00:00:00.000\", \"2020-07-29T00:00:00.000\", \"2020-07-30T00:00:00.000\", \"2020-07-31T00:00:00.000\", \"2020-08-01T00:00:00.000\"], \"xaxis\": \"x\", \"y\": [null, null, null, 1.0, null, null, null, 1.0, null, null, null, null, null, null, null, null, null, null, null, null, 1.0, null], \"yaxis\": \"y\"}, {\"alignmentgroup\": \"True\", \"hovertemplate\": \"vict_descent=F<br>date_rptd=%{x}<br>value=%{y}<extra></extra>\", \"legendgroup\": \"F\", \"marker\": {\"color\": \"#ab63fa\"}, \"name\": \"F\", \"offsetgroup\": \"F\", \"orientation\": \"v\", \"showlegend\": true, \"textposition\": \"auto\", \"type\": \"bar\", \"x\": [\"2020-07-11T00:00:00.000\", \"2020-07-12T00:00:00.000\", \"2020-07-13T00:00:00.000\", \"2020-07-14T00:00:00.000\", \"2020-07-15T00:00:00.000\", \"2020-07-16T00:00:00.000\", \"2020-07-17T00:00:00.000\", \"2020-07-18T00:00:00.000\", \"2020-07-19T00:00:00.000\", \"2020-07-20T00:00:00.000\", \"2020-07-21T00:00:00.000\", \"2020-07-22T00:00:00.000\", \"2020-07-23T00:00:00.000\", \"2020-07-24T00:00:00.000\", \"2020-07-25T00:00:00.000\", \"2020-07-26T00:00:00.000\", \"2020-07-27T00:00:00.000\", \"2020-07-28T00:00:00.000\", \"2020-07-29T00:00:00.000\", \"2020-07-30T00:00:00.000\", \"2020-07-31T00:00:00.000\", \"2020-08-01T00:00:00.000\"], \"xaxis\": \"x\", \"y\": [null, 1.0, null, 3.0, null, 2.0, 1.0, null, null, null, null, null, null, null, null, null, null, null, null, null, null, null], \"yaxis\": \"y\"}, {\"alignmentgroup\": \"True\", \"hovertemplate\": \"vict_descent=H<br>date_rptd=%{x}<br>value=%{y}<extra></extra>\", \"legendgroup\": \"H\", \"marker\": {\"color\": \"#FFA15A\"}, \"name\": \"H\", \"offsetgroup\": \"H\", \"orientation\": \"v\", \"showlegend\": true, \"textposition\": \"auto\", \"type\": \"bar\", \"x\": [\"2020-07-11T00:00:00.000\", \"2020-07-12T00:00:00.000\", \"2020-07-13T00:00:00.000\", \"2020-07-14T00:00:00.000\", \"2020-07-15T00:00:00.000\", \"2020-07-16T00:00:00.000\", \"2020-07-17T00:00:00.000\", \"2020-07-18T00:00:00.000\", \"2020-07-19T00:00:00.000\", \"2020-07-20T00:00:00.000\", \"2020-07-21T00:00:00.000\", \"2020-07-22T00:00:00.000\", \"2020-07-23T00:00:00.000\", \"2020-07-24T00:00:00.000\", \"2020-07-25T00:00:00.000\", \"2020-07-26T00:00:00.000\", \"2020-07-27T00:00:00.000\", \"2020-07-28T00:00:00.000\", \"2020-07-29T00:00:00.000\", \"2020-07-30T00:00:00.000\", \"2020-07-31T00:00:00.000\", \"2020-08-01T00:00:00.000\"], \"xaxis\": \"x\", \"y\": [1.0, 53.0, 39.0, 43.0, 53.0, 34.0, 46.0, 54.0, 49.0, 42.0, 40.0, 37.0, 36.0, 55.0, 38.0, 37.0, 37.0, 17.0, 29.0, 28.0, 29.0, 10.0], \"yaxis\": \"y\"}, {\"alignmentgroup\": \"True\", \"hovertemplate\": \"vict_descent=I<br>date_rptd=%{x}<br>value=%{y}<extra></extra>\", \"legendgroup\": \"I\", \"marker\": {\"color\": \"#19d3f3\"}, \"name\": \"I\", \"offsetgroup\": \"I\", \"orientation\": \"v\", \"showlegend\": true, \"textposition\": \"auto\", \"type\": \"bar\", \"x\": [\"2020-07-11T00:00:00.000\", \"2020-07-12T00:00:00.000\", \"2020-07-13T00:00:00.000\", \"2020-07-14T00:00:00.000\", \"2020-07-15T00:00:00.000\", \"2020-07-16T00:00:00.000\", \"2020-07-17T00:00:00.000\", \"2020-07-18T00:00:00.000\", \"2020-07-19T00:00:00.000\", \"2020-07-20T00:00:00.000\", \"2020-07-21T00:00:00.000\", \"2020-07-22T00:00:00.000\", \"2020-07-23T00:00:00.000\", \"2020-07-24T00:00:00.000\", \"2020-07-25T00:00:00.000\", \"2020-07-26T00:00:00.000\", \"2020-07-27T00:00:00.000\", \"2020-07-28T00:00:00.000\", \"2020-07-29T00:00:00.000\", \"2020-07-30T00:00:00.000\", \"2020-07-31T00:00:00.000\", \"2020-08-01T00:00:00.000\"], \"xaxis\": \"x\", \"y\": [null, null, 1.0, null, null, null, null, null, null, null, null, 1.0, null, 1.0, null, null, null, null, null, null, null, null], \"yaxis\": \"y\"}, {\"alignmentgroup\": \"True\", \"hovertemplate\": \"vict_descent=J<br>date_rptd=%{x}<br>value=%{y}<extra></extra>\", \"legendgroup\": \"J\", \"marker\": {\"color\": \"#FF6692\"}, \"name\": \"J\", \"offsetgroup\": \"J\", \"orientation\": \"v\", \"showlegend\": true, \"textposition\": \"auto\", \"type\": \"bar\", \"x\": [\"2020-07-11T00:00:00.000\", \"2020-07-12T00:00:00.000\", \"2020-07-13T00:00:00.000\", \"2020-07-14T00:00:00.000\", \"2020-07-15T00:00:00.000\", \"2020-07-16T00:00:00.000\", \"2020-07-17T00:00:00.000\", \"2020-07-18T00:00:00.000\", \"2020-07-19T00:00:00.000\", \"2020-07-20T00:00:00.000\", \"2020-07-21T00:00:00.000\", \"2020-07-22T00:00:00.000\", \"2020-07-23T00:00:00.000\", \"2020-07-24T00:00:00.000\", \"2020-07-25T00:00:00.000\", \"2020-07-26T00:00:00.000\", \"2020-07-27T00:00:00.000\", \"2020-07-28T00:00:00.000\", \"2020-07-29T00:00:00.000\", \"2020-07-30T00:00:00.000\", \"2020-07-31T00:00:00.000\", \"2020-08-01T00:00:00.000\"], \"xaxis\": \"x\", \"y\": [null, null, null, null, null, null, null, null, null, null, null, null, null, null, null, null, 1.0, null, null, null, null, null], \"yaxis\": \"y\"}, {\"alignmentgroup\": \"True\", \"hovertemplate\": \"vict_descent=K<br>date_rptd=%{x}<br>value=%{y}<extra></extra>\", \"legendgroup\": \"K\", \"marker\": {\"color\": \"#B6E880\"}, \"name\": \"K\", \"offsetgroup\": \"K\", \"orientation\": \"v\", \"showlegend\": true, \"textposition\": \"auto\", \"type\": \"bar\", \"x\": [\"2020-07-11T00:00:00.000\", \"2020-07-12T00:00:00.000\", \"2020-07-13T00:00:00.000\", \"2020-07-14T00:00:00.000\", \"2020-07-15T00:00:00.000\", \"2020-07-16T00:00:00.000\", \"2020-07-17T00:00:00.000\", \"2020-07-18T00:00:00.000\", \"2020-07-19T00:00:00.000\", \"2020-07-20T00:00:00.000\", \"2020-07-21T00:00:00.000\", \"2020-07-22T00:00:00.000\", \"2020-07-23T00:00:00.000\", \"2020-07-24T00:00:00.000\", \"2020-07-25T00:00:00.000\", \"2020-07-26T00:00:00.000\", \"2020-07-27T00:00:00.000\", \"2020-07-28T00:00:00.000\", \"2020-07-29T00:00:00.000\", \"2020-07-30T00:00:00.000\", \"2020-07-31T00:00:00.000\", \"2020-08-01T00:00:00.000\"], \"xaxis\": \"x\", \"y\": [null, 1.0, 1.0, 1.0, 1.0, 2.0, 1.0, null, null, null, 1.0, null, null, 1.0, null, 3.0, 1.0, 2.0, 1.0, 1.0, null, null], \"yaxis\": \"y\"}, {\"alignmentgroup\": \"True\", \"hovertemplate\": \"vict_descent=O<br>date_rptd=%{x}<br>value=%{y}<extra></extra>\", \"legendgroup\": \"O\", \"marker\": {\"color\": \"#FF97FF\"}, \"name\": \"O\", \"offsetgroup\": \"O\", \"orientation\": \"v\", \"showlegend\": true, \"textposition\": \"auto\", \"type\": \"bar\", \"x\": [\"2020-07-11T00:00:00.000\", \"2020-07-12T00:00:00.000\", \"2020-07-13T00:00:00.000\", \"2020-07-14T00:00:00.000\", \"2020-07-15T00:00:00.000\", \"2020-07-16T00:00:00.000\", \"2020-07-17T00:00:00.000\", \"2020-07-18T00:00:00.000\", \"2020-07-19T00:00:00.000\", \"2020-07-20T00:00:00.000\", \"2020-07-21T00:00:00.000\", \"2020-07-22T00:00:00.000\", \"2020-07-23T00:00:00.000\", \"2020-07-24T00:00:00.000\", \"2020-07-25T00:00:00.000\", \"2020-07-26T00:00:00.000\", \"2020-07-27T00:00:00.000\", \"2020-07-28T00:00:00.000\", \"2020-07-29T00:00:00.000\", \"2020-07-30T00:00:00.000\", \"2020-07-31T00:00:00.000\", \"2020-08-01T00:00:00.000\"], \"xaxis\": \"x\", \"y\": [null, 10.0, 18.0, 17.0, 16.0, 23.0, 11.0, 10.0, 15.0, 7.0, 19.0, 16.0, 13.0, 13.0, 13.0, 14.0, 12.0, 10.0, 11.0, 9.0, 13.0, 3.0], \"yaxis\": \"y\"}, {\"alignmentgroup\": \"True\", \"hovertemplate\": \"vict_descent=P<br>date_rptd=%{x}<br>value=%{y}<extra></extra>\", \"legendgroup\": \"P\", \"marker\": {\"color\": \"#FECB52\"}, \"name\": \"P\", \"offsetgroup\": \"P\", \"orientation\": \"v\", \"showlegend\": true, \"textposition\": \"auto\", \"type\": \"bar\", \"x\": [\"2020-07-11T00:00:00.000\", \"2020-07-12T00:00:00.000\", \"2020-07-13T00:00:00.000\", \"2020-07-14T00:00:00.000\", \"2020-07-15T00:00:00.000\", \"2020-07-16T00:00:00.000\", \"2020-07-17T00:00:00.000\", \"2020-07-18T00:00:00.000\", \"2020-07-19T00:00:00.000\", \"2020-07-20T00:00:00.000\", \"2020-07-21T00:00:00.000\", \"2020-07-22T00:00:00.000\", \"2020-07-23T00:00:00.000\", \"2020-07-24T00:00:00.000\", \"2020-07-25T00:00:00.000\", \"2020-07-26T00:00:00.000\", \"2020-07-27T00:00:00.000\", \"2020-07-28T00:00:00.000\", \"2020-07-29T00:00:00.000\", \"2020-07-30T00:00:00.000\", \"2020-07-31T00:00:00.000\", \"2020-08-01T00:00:00.000\"], \"xaxis\": \"x\", \"y\": [null, null, null, 1.0, null, null, null, null, null, null, null, null, null, null, null, 1.0, null, null, null, null, null, null], \"yaxis\": \"y\"}, {\"alignmentgroup\": \"True\", \"hovertemplate\": \"vict_descent=U<br>date_rptd=%{x}<br>value=%{y}<extra></extra>\", \"legendgroup\": \"U\", \"marker\": {\"color\": \"#636efa\"}, \"name\": \"U\", \"offsetgroup\": \"U\", \"orientation\": \"v\", \"showlegend\": true, \"textposition\": \"auto\", \"type\": \"bar\", \"x\": [\"2020-07-11T00:00:00.000\", \"2020-07-12T00:00:00.000\", \"2020-07-13T00:00:00.000\", \"2020-07-14T00:00:00.000\", \"2020-07-15T00:00:00.000\", \"2020-07-16T00:00:00.000\", \"2020-07-17T00:00:00.000\", \"2020-07-18T00:00:00.000\", \"2020-07-19T00:00:00.000\", \"2020-07-20T00:00:00.000\", \"2020-07-21T00:00:00.000\", \"2020-07-22T00:00:00.000\", \"2020-07-23T00:00:00.000\", \"2020-07-24T00:00:00.000\", \"2020-07-25T00:00:00.000\", \"2020-07-26T00:00:00.000\", \"2020-07-27T00:00:00.000\", \"2020-07-28T00:00:00.000\", \"2020-07-29T00:00:00.000\", \"2020-07-30T00:00:00.000\", \"2020-07-31T00:00:00.000\", \"2020-08-01T00:00:00.000\"], \"xaxis\": \"x\", \"y\": [null, null, null, null, null, 1.0, null, null, null, null, null, null, null, null, null, null, null, 1.0, null, null, null, null], \"yaxis\": \"y\"}, {\"alignmentgroup\": \"True\", \"hovertemplate\": \"vict_descent=V<br>date_rptd=%{x}<br>value=%{y}<extra></extra>\", \"legendgroup\": \"V\", \"marker\": {\"color\": \"#EF553B\"}, \"name\": \"V\", \"offsetgroup\": \"V\", \"orientation\": \"v\", \"showlegend\": true, \"textposition\": \"auto\", \"type\": \"bar\", \"x\": [\"2020-07-11T00:00:00.000\", \"2020-07-12T00:00:00.000\", \"2020-07-13T00:00:00.000\", \"2020-07-14T00:00:00.000\", \"2020-07-15T00:00:00.000\", \"2020-07-16T00:00:00.000\", \"2020-07-17T00:00:00.000\", \"2020-07-18T00:00:00.000\", \"2020-07-19T00:00:00.000\", \"2020-07-20T00:00:00.000\", \"2020-07-21T00:00:00.000\", \"2020-07-22T00:00:00.000\", \"2020-07-23T00:00:00.000\", \"2020-07-24T00:00:00.000\", \"2020-07-25T00:00:00.000\", \"2020-07-26T00:00:00.000\", \"2020-07-27T00:00:00.000\", \"2020-07-28T00:00:00.000\", \"2020-07-29T00:00:00.000\", \"2020-07-30T00:00:00.000\", \"2020-07-31T00:00:00.000\", \"2020-08-01T00:00:00.000\"], \"xaxis\": \"x\", \"y\": [null, null, null, null, null, null, null, 1.0, null, null, null, null, null, null, null, 1.0, null, 1.0, null, null, null, null], \"yaxis\": \"y\"}, {\"alignmentgroup\": \"True\", \"hovertemplate\": \"vict_descent=W<br>date_rptd=%{x}<br>value=%{y}<extra></extra>\", \"legendgroup\": \"W\", \"marker\": {\"color\": \"#00cc96\"}, \"name\": \"W\", \"offsetgroup\": \"W\", \"orientation\": \"v\", \"showlegend\": true, \"textposition\": \"auto\", \"type\": \"bar\", \"x\": [\"2020-07-11T00:00:00.000\", \"2020-07-12T00:00:00.000\", \"2020-07-13T00:00:00.000\", \"2020-07-14T00:00:00.000\", \"2020-07-15T00:00:00.000\", \"2020-07-16T00:00:00.000\", \"2020-07-17T00:00:00.000\", \"2020-07-18T00:00:00.000\", \"2020-07-19T00:00:00.000\", \"2020-07-20T00:00:00.000\", \"2020-07-21T00:00:00.000\", \"2020-07-22T00:00:00.000\", \"2020-07-23T00:00:00.000\", \"2020-07-24T00:00:00.000\", \"2020-07-25T00:00:00.000\", \"2020-07-26T00:00:00.000\", \"2020-07-27T00:00:00.000\", \"2020-07-28T00:00:00.000\", \"2020-07-29T00:00:00.000\", \"2020-07-30T00:00:00.000\", \"2020-07-31T00:00:00.000\", \"2020-08-01T00:00:00.000\"], \"xaxis\": \"x\", \"y\": [null, 18.0, 23.0, 18.0, 21.0, 20.0, 23.0, 18.0, 12.0, 17.0, 28.0, 17.0, 23.0, 28.0, 18.0, 12.0, 23.0, 14.0, 15.0, 7.0, 11.0, 4.0], \"yaxis\": \"y\"}, {\"alignmentgroup\": \"True\", \"hovertemplate\": \"vict_descent=X<br>date_rptd=%{x}<br>value=%{y}<extra></extra>\", \"legendgroup\": \"X\", \"marker\": {\"color\": \"#ab63fa\"}, \"name\": \"X\", \"offsetgroup\": \"X\", \"orientation\": \"v\", \"showlegend\": true, \"textposition\": \"auto\", \"type\": \"bar\", \"x\": [\"2020-07-11T00:00:00.000\", \"2020-07-12T00:00:00.000\", \"2020-07-13T00:00:00.000\", \"2020-07-14T00:00:00.000\", \"2020-07-15T00:00:00.000\", \"2020-07-16T00:00:00.000\", \"2020-07-17T00:00:00.000\", \"2020-07-18T00:00:00.000\", \"2020-07-19T00:00:00.000\", \"2020-07-20T00:00:00.000\", \"2020-07-21T00:00:00.000\", \"2020-07-22T00:00:00.000\", \"2020-07-23T00:00:00.000\", \"2020-07-24T00:00:00.000\", \"2020-07-25T00:00:00.000\", \"2020-07-26T00:00:00.000\", \"2020-07-27T00:00:00.000\", \"2020-07-28T00:00:00.000\", \"2020-07-29T00:00:00.000\", \"2020-07-30T00:00:00.000\", \"2020-07-31T00:00:00.000\", \"2020-08-01T00:00:00.000\"], \"xaxis\": \"x\", \"y\": [null, 9.0, 7.0, 8.0, 7.0, 10.0, 7.0, 3.0, 11.0, 10.0, 3.0, 2.0, 9.0, 9.0, 2.0, 8.0, 3.0, 6.0, 4.0, 1.0, 9.0, 1.0], \"yaxis\": \"y\"}, {\"alignmentgroup\": \"True\", \"hovertemplate\": \"vict_descent=Z<br>date_rptd=%{x}<br>value=%{y}<extra></extra>\", \"legendgroup\": \"Z\", \"marker\": {\"color\": \"#FFA15A\"}, \"name\": \"Z\", \"offsetgroup\": \"Z\", \"orientation\": \"v\", \"showlegend\": true, \"textposition\": \"auto\", \"type\": \"bar\", \"x\": [\"2020-07-11T00:00:00.000\", \"2020-07-12T00:00:00.000\", \"2020-07-13T00:00:00.000\", \"2020-07-14T00:00:00.000\", \"2020-07-15T00:00:00.000\", \"2020-07-16T00:00:00.000\", \"2020-07-17T00:00:00.000\", \"2020-07-18T00:00:00.000\", \"2020-07-19T00:00:00.000\", \"2020-07-20T00:00:00.000\", \"2020-07-21T00:00:00.000\", \"2020-07-22T00:00:00.000\", \"2020-07-23T00:00:00.000\", \"2020-07-24T00:00:00.000\", \"2020-07-25T00:00:00.000\", \"2020-07-26T00:00:00.000\", \"2020-07-27T00:00:00.000\", \"2020-07-28T00:00:00.000\", \"2020-07-29T00:00:00.000\", \"2020-07-30T00:00:00.000\", \"2020-07-31T00:00:00.000\", \"2020-08-01T00:00:00.000\"], \"xaxis\": \"x\", \"y\": [null, null, 1.0, null, null, null, null, null, null, null, 1.0, null, null, null, null, null, null, 1.0, null, null, null, null], \"yaxis\": \"y\"}],\n",
       "                        {\"barmode\": \"relative\", \"legend\": {\"title\": {\"text\": \"vict_descent\"}, \"tracegroupgap\": 0}, \"margin\": {\"t\": 60}, \"template\": {\"data\": {\"bar\": [{\"error_x\": {\"color\": \"#2a3f5f\"}, \"error_y\": {\"color\": \"#2a3f5f\"}, \"marker\": {\"line\": {\"color\": \"#E5ECF6\", \"width\": 0.5}}, \"type\": \"bar\"}], \"barpolar\": [{\"marker\": {\"line\": {\"color\": \"#E5ECF6\", \"width\": 0.5}}, \"type\": \"barpolar\"}], \"carpet\": [{\"aaxis\": {\"endlinecolor\": \"#2a3f5f\", \"gridcolor\": \"white\", \"linecolor\": \"white\", \"minorgridcolor\": \"white\", \"startlinecolor\": \"#2a3f5f\"}, \"baxis\": {\"endlinecolor\": \"#2a3f5f\", \"gridcolor\": \"white\", \"linecolor\": \"white\", \"minorgridcolor\": \"white\", \"startlinecolor\": \"#2a3f5f\"}, \"type\": \"carpet\"}], \"choropleth\": [{\"colorbar\": {\"outlinewidth\": 0, \"ticks\": \"\"}, \"type\": \"choropleth\"}], \"contour\": [{\"colorbar\": {\"outlinewidth\": 0, \"ticks\": \"\"}, \"colorscale\": [[0.0, \"#0d0887\"], [0.1111111111111111, \"#46039f\"], [0.2222222222222222, \"#7201a8\"], [0.3333333333333333, \"#9c179e\"], [0.4444444444444444, \"#bd3786\"], [0.5555555555555556, \"#d8576b\"], [0.6666666666666666, \"#ed7953\"], [0.7777777777777778, \"#fb9f3a\"], [0.8888888888888888, \"#fdca26\"], [1.0, \"#f0f921\"]], \"type\": \"contour\"}], \"contourcarpet\": [{\"colorbar\": {\"outlinewidth\": 0, \"ticks\": \"\"}, \"type\": \"contourcarpet\"}], \"heatmap\": [{\"colorbar\": {\"outlinewidth\": 0, \"ticks\": \"\"}, \"colorscale\": [[0.0, \"#0d0887\"], [0.1111111111111111, \"#46039f\"], [0.2222222222222222, \"#7201a8\"], [0.3333333333333333, \"#9c179e\"], [0.4444444444444444, \"#bd3786\"], [0.5555555555555556, \"#d8576b\"], [0.6666666666666666, \"#ed7953\"], [0.7777777777777778, \"#fb9f3a\"], [0.8888888888888888, \"#fdca26\"], [1.0, \"#f0f921\"]], \"type\": \"heatmap\"}], \"heatmapgl\": [{\"colorbar\": {\"outlinewidth\": 0, \"ticks\": \"\"}, \"colorscale\": [[0.0, \"#0d0887\"], [0.1111111111111111, \"#46039f\"], [0.2222222222222222, \"#7201a8\"], [0.3333333333333333, \"#9c179e\"], [0.4444444444444444, \"#bd3786\"], [0.5555555555555556, \"#d8576b\"], [0.6666666666666666, \"#ed7953\"], [0.7777777777777778, \"#fb9f3a\"], [0.8888888888888888, \"#fdca26\"], [1.0, \"#f0f921\"]], \"type\": \"heatmapgl\"}], \"histogram\": [{\"marker\": {\"colorbar\": {\"outlinewidth\": 0, \"ticks\": \"\"}}, \"type\": \"histogram\"}], \"histogram2d\": [{\"colorbar\": {\"outlinewidth\": 0, \"ticks\": \"\"}, \"colorscale\": [[0.0, \"#0d0887\"], [0.1111111111111111, \"#46039f\"], [0.2222222222222222, \"#7201a8\"], [0.3333333333333333, \"#9c179e\"], [0.4444444444444444, \"#bd3786\"], [0.5555555555555556, \"#d8576b\"], [0.6666666666666666, \"#ed7953\"], [0.7777777777777778, \"#fb9f3a\"], [0.8888888888888888, \"#fdca26\"], [1.0, \"#f0f921\"]], \"type\": \"histogram2d\"}], \"histogram2dcontour\": [{\"colorbar\": {\"outlinewidth\": 0, \"ticks\": \"\"}, \"colorscale\": [[0.0, \"#0d0887\"], [0.1111111111111111, \"#46039f\"], [0.2222222222222222, \"#7201a8\"], [0.3333333333333333, \"#9c179e\"], [0.4444444444444444, \"#bd3786\"], [0.5555555555555556, \"#d8576b\"], [0.6666666666666666, \"#ed7953\"], [0.7777777777777778, \"#fb9f3a\"], [0.8888888888888888, \"#fdca26\"], [1.0, \"#f0f921\"]], \"type\": \"histogram2dcontour\"}], \"mesh3d\": [{\"colorbar\": {\"outlinewidth\": 0, \"ticks\": \"\"}, \"type\": \"mesh3d\"}], \"parcoords\": [{\"line\": {\"colorbar\": {\"outlinewidth\": 0, \"ticks\": \"\"}}, \"type\": \"parcoords\"}], \"pie\": [{\"automargin\": true, \"type\": \"pie\"}], \"scatter\": [{\"marker\": {\"colorbar\": {\"outlinewidth\": 0, \"ticks\": \"\"}}, \"type\": \"scatter\"}], \"scatter3d\": [{\"line\": {\"colorbar\": {\"outlinewidth\": 0, \"ticks\": \"\"}}, \"marker\": {\"colorbar\": {\"outlinewidth\": 0, \"ticks\": \"\"}}, \"type\": \"scatter3d\"}], \"scattercarpet\": [{\"marker\": {\"colorbar\": {\"outlinewidth\": 0, \"ticks\": \"\"}}, \"type\": \"scattercarpet\"}], \"scattergeo\": [{\"marker\": {\"colorbar\": {\"outlinewidth\": 0, \"ticks\": \"\"}}, \"type\": \"scattergeo\"}], \"scattergl\": [{\"marker\": {\"colorbar\": {\"outlinewidth\": 0, \"ticks\": \"\"}}, \"type\": \"scattergl\"}], \"scattermapbox\": [{\"marker\": {\"colorbar\": {\"outlinewidth\": 0, \"ticks\": \"\"}}, \"type\": \"scattermapbox\"}], \"scatterpolar\": [{\"marker\": {\"colorbar\": {\"outlinewidth\": 0, \"ticks\": \"\"}}, \"type\": \"scatterpolar\"}], \"scatterpolargl\": [{\"marker\": {\"colorbar\": {\"outlinewidth\": 0, \"ticks\": \"\"}}, \"type\": \"scatterpolargl\"}], \"scatterternary\": [{\"marker\": {\"colorbar\": {\"outlinewidth\": 0, \"ticks\": \"\"}}, \"type\": \"scatterternary\"}], \"surface\": [{\"colorbar\": {\"outlinewidth\": 0, \"ticks\": \"\"}, \"colorscale\": [[0.0, \"#0d0887\"], [0.1111111111111111, \"#46039f\"], [0.2222222222222222, \"#7201a8\"], [0.3333333333333333, \"#9c179e\"], [0.4444444444444444, \"#bd3786\"], [0.5555555555555556, \"#d8576b\"], [0.6666666666666666, \"#ed7953\"], [0.7777777777777778, \"#fb9f3a\"], [0.8888888888888888, \"#fdca26\"], [1.0, \"#f0f921\"]], \"type\": \"surface\"}], \"table\": [{\"cells\": {\"fill\": {\"color\": \"#EBF0F8\"}, \"line\": {\"color\": \"white\"}}, \"header\": {\"fill\": {\"color\": \"#C8D4E3\"}, \"line\": {\"color\": \"white\"}}, \"type\": \"table\"}]}, \"layout\": {\"annotationdefaults\": {\"arrowcolor\": \"#2a3f5f\", \"arrowhead\": 0, \"arrowwidth\": 1}, \"coloraxis\": {\"colorbar\": {\"outlinewidth\": 0, \"ticks\": \"\"}}, \"colorscale\": {\"diverging\": [[0, \"#8e0152\"], [0.1, \"#c51b7d\"], [0.2, \"#de77ae\"], [0.3, \"#f1b6da\"], [0.4, \"#fde0ef\"], [0.5, \"#f7f7f7\"], [0.6, \"#e6f5d0\"], [0.7, \"#b8e186\"], [0.8, \"#7fbc41\"], [0.9, \"#4d9221\"], [1, \"#276419\"]], \"sequential\": [[0.0, \"#0d0887\"], [0.1111111111111111, \"#46039f\"], [0.2222222222222222, \"#7201a8\"], [0.3333333333333333, \"#9c179e\"], [0.4444444444444444, \"#bd3786\"], [0.5555555555555556, \"#d8576b\"], [0.6666666666666666, \"#ed7953\"], [0.7777777777777778, \"#fb9f3a\"], [0.8888888888888888, \"#fdca26\"], [1.0, \"#f0f921\"]], \"sequentialminus\": [[0.0, \"#0d0887\"], [0.1111111111111111, \"#46039f\"], [0.2222222222222222, \"#7201a8\"], [0.3333333333333333, \"#9c179e\"], [0.4444444444444444, \"#bd3786\"], [0.5555555555555556, \"#d8576b\"], [0.6666666666666666, \"#ed7953\"], [0.7777777777777778, \"#fb9f3a\"], [0.8888888888888888, \"#fdca26\"], [1.0, \"#f0f921\"]]}, \"colorway\": [\"#636efa\", \"#EF553B\", \"#00cc96\", \"#ab63fa\", \"#FFA15A\", \"#19d3f3\", \"#FF6692\", \"#B6E880\", \"#FF97FF\", \"#FECB52\"], \"font\": {\"color\": \"#2a3f5f\"}, \"geo\": {\"bgcolor\": \"white\", \"lakecolor\": \"white\", \"landcolor\": \"#E5ECF6\", \"showlakes\": true, \"showland\": true, \"subunitcolor\": \"white\"}, \"hoverlabel\": {\"align\": \"left\"}, \"hovermode\": \"closest\", \"mapbox\": {\"style\": \"light\"}, \"paper_bgcolor\": \"white\", \"plot_bgcolor\": \"#E5ECF6\", \"polar\": {\"angularaxis\": {\"gridcolor\": \"white\", \"linecolor\": \"white\", \"ticks\": \"\"}, \"bgcolor\": \"#E5ECF6\", \"radialaxis\": {\"gridcolor\": \"white\", \"linecolor\": \"white\", \"ticks\": \"\"}}, \"scene\": {\"xaxis\": {\"backgroundcolor\": \"#E5ECF6\", \"gridcolor\": \"white\", \"gridwidth\": 2, \"linecolor\": \"white\", \"showbackground\": true, \"ticks\": \"\", \"zerolinecolor\": \"white\"}, \"yaxis\": {\"backgroundcolor\": \"#E5ECF6\", \"gridcolor\": \"white\", \"gridwidth\": 2, \"linecolor\": \"white\", \"showbackground\": true, \"ticks\": \"\", \"zerolinecolor\": \"white\"}, \"zaxis\": {\"backgroundcolor\": \"#E5ECF6\", \"gridcolor\": \"white\", \"gridwidth\": 2, \"linecolor\": \"white\", \"showbackground\": true, \"ticks\": \"\", \"zerolinecolor\": \"white\"}}, \"shapedefaults\": {\"line\": {\"color\": \"#2a3f5f\"}}, \"ternary\": {\"aaxis\": {\"gridcolor\": \"white\", \"linecolor\": \"white\", \"ticks\": \"\"}, \"baxis\": {\"gridcolor\": \"white\", \"linecolor\": \"white\", \"ticks\": \"\"}, \"bgcolor\": \"#E5ECF6\", \"caxis\": {\"gridcolor\": \"white\", \"linecolor\": \"white\", \"ticks\": \"\"}}, \"title\": {\"x\": 0.05}, \"xaxis\": {\"automargin\": true, \"gridcolor\": \"white\", \"linecolor\": \"white\", \"ticks\": \"\", \"title\": {\"standoff\": 15}, \"zerolinecolor\": \"white\", \"zerolinewidth\": 2}, \"yaxis\": {\"automargin\": true, \"gridcolor\": \"white\", \"linecolor\": \"white\", \"ticks\": \"\", \"title\": {\"standoff\": 15}, \"zerolinecolor\": \"white\", \"zerolinewidth\": 2}}}, \"xaxis\": {\"anchor\": \"y\", \"domain\": [0.0, 1.0], \"title\": {\"text\": \"date_rptd\"}}, \"yaxis\": {\"anchor\": \"x\", \"domain\": [0.0, 1.0], \"title\": {\"text\": \"value\"}}},\n",
       "                        {\"responsive\": true}\n",
       "                    ).then(function(){\n",
       "                            \n",
       "var gd = document.getElementById('97c3e8a0-e59c-4786-8814-1354e587495e');\n",
       "var x = new MutationObserver(function (mutations, observer) {{\n",
       "        var display = window.getComputedStyle(gd).display;\n",
       "        if (!display || display === 'none') {{\n",
       "            console.log([gd, 'removed!']);\n",
       "            Plotly.purge(gd);\n",
       "            observer.disconnect();\n",
       "        }}\n",
       "}});\n",
       "\n",
       "// Listen for the removal of the full notebook cells\n",
       "var notebookContainer = gd.closest('#notebook-container');\n",
       "if (notebookContainer) {{\n",
       "    x.observe(notebookContainer, {childList: true});\n",
       "}}\n",
       "\n",
       "// Listen for the clearing of the current output cell\n",
       "var outputEl = gd.closest('.output');\n",
       "if (outputEl) {{\n",
       "    x.observe(outputEl, {childList: true});\n",
       "}}\n",
       "\n",
       "                        })\n",
       "                };\n",
       "                });\n",
       "            </script>\n",
       "        </div>"
      ]
     },
     "metadata": {},
     "output_type": "display_data"
    }
   ],
   "source": [
    "px.bar(group1.unstack(level=1))"
   ]
  },
  {
   "cell_type": "markdown",
   "metadata": {},
   "source": [
    "# Mapping"
   ]
  },
  {
   "cell_type": "code",
   "execution_count": 35,
   "metadata": {},
   "outputs": [
    {
     "name": "stdout",
     "output_type": "stream",
     "text": [
      "<class 'pandas.core.frame.DataFrame'>\n",
      "RangeIndex: 2000 entries, 0 to 1999\n",
      "Data columns (total 18 columns):\n",
      " #   Column        Non-Null Count  Dtype \n",
      "---  ------        --------------  ----- \n",
      " 0   dr_no         2000 non-null   object\n",
      " 1   date_rptd     2000 non-null   object\n",
      " 2   date_occ      2000 non-null   object\n",
      " 3   time_occ      2000 non-null   object\n",
      " 4   area          2000 non-null   object\n",
      " 5   area_name     2000 non-null   object\n",
      " 6   rpt_dist_no   2000 non-null   object\n",
      " 7   crm_cd        2000 non-null   object\n",
      " 8   crm_cd_desc   2000 non-null   object\n",
      " 9   vict_age      1890 non-null   object\n",
      " 10  vict_sex      1957 non-null   object\n",
      " 11  vict_descent  1957 non-null   object\n",
      " 12  premis_cd     2000 non-null   object\n",
      " 13  premis_desc   2000 non-null   object\n",
      " 14  location      2000 non-null   object\n",
      " 15  cross_street  1854 non-null   object\n",
      " 16  location_1    2000 non-null   object\n",
      " 17  mocodes       1575 non-null   object\n",
      "dtypes: object(18)\n",
      "memory usage: 281.4+ KB\n"
     ]
    }
   ],
   "source": [
    "results_df.info()"
   ]
  },
  {
   "cell_type": "code",
   "execution_count": 39,
   "metadata": {},
   "outputs": [
    {
     "ename": "KeyError",
     "evalue": "'latitude'",
     "output_type": "error",
     "traceback": [
      "\u001b[1;31m---------------------------------------------------------------------------\u001b[0m",
      "\u001b[1;31mKeyError\u001b[0m                                  Traceback (most recent call last)",
      "\u001b[1;32m<ipython-input-39-e8551ad05a66>\u001b[0m in \u001b[0;36m<module>\u001b[1;34m\u001b[0m\n\u001b[1;32m----> 1\u001b[1;33m \u001b[0mresults_df\u001b[0m\u001b[1;33m.\u001b[0m\u001b[0mlocation_1\u001b[0m\u001b[1;33m[\u001b[0m\u001b[1;34m'latitude'\u001b[0m\u001b[1;33m]\u001b[0m\u001b[1;33m\u001b[0m\u001b[1;33m\u001b[0m\u001b[0m\n\u001b[0m",
      "\u001b[1;32m~\\anaconda3\\lib\\site-packages\\pandas\\core\\series.py\u001b[0m in \u001b[0;36m__getitem__\u001b[1;34m(self, key)\u001b[0m\n\u001b[0;32m    869\u001b[0m         \u001b[0mkey\u001b[0m \u001b[1;33m=\u001b[0m \u001b[0mcom\u001b[0m\u001b[1;33m.\u001b[0m\u001b[0mapply_if_callable\u001b[0m\u001b[1;33m(\u001b[0m\u001b[0mkey\u001b[0m\u001b[1;33m,\u001b[0m \u001b[0mself\u001b[0m\u001b[1;33m)\u001b[0m\u001b[1;33m\u001b[0m\u001b[1;33m\u001b[0m\u001b[0m\n\u001b[0;32m    870\u001b[0m         \u001b[1;32mtry\u001b[0m\u001b[1;33m:\u001b[0m\u001b[1;33m\u001b[0m\u001b[1;33m\u001b[0m\u001b[0m\n\u001b[1;32m--> 871\u001b[1;33m             \u001b[0mresult\u001b[0m \u001b[1;33m=\u001b[0m \u001b[0mself\u001b[0m\u001b[1;33m.\u001b[0m\u001b[0mindex\u001b[0m\u001b[1;33m.\u001b[0m\u001b[0mget_value\u001b[0m\u001b[1;33m(\u001b[0m\u001b[0mself\u001b[0m\u001b[1;33m,\u001b[0m \u001b[0mkey\u001b[0m\u001b[1;33m)\u001b[0m\u001b[1;33m\u001b[0m\u001b[1;33m\u001b[0m\u001b[0m\n\u001b[0m\u001b[0;32m    872\u001b[0m \u001b[1;33m\u001b[0m\u001b[0m\n\u001b[0;32m    873\u001b[0m             \u001b[1;32mif\u001b[0m \u001b[1;32mnot\u001b[0m \u001b[0mis_scalar\u001b[0m\u001b[1;33m(\u001b[0m\u001b[0mresult\u001b[0m\u001b[1;33m)\u001b[0m\u001b[1;33m:\u001b[0m\u001b[1;33m\u001b[0m\u001b[1;33m\u001b[0m\u001b[0m\n",
      "\u001b[1;32m~\\anaconda3\\lib\\site-packages\\pandas\\core\\indexes\\base.py\u001b[0m in \u001b[0;36mget_value\u001b[1;34m(self, series, key)\u001b[0m\n\u001b[0;32m   4403\u001b[0m         \u001b[0mk\u001b[0m \u001b[1;33m=\u001b[0m \u001b[0mself\u001b[0m\u001b[1;33m.\u001b[0m\u001b[0m_convert_scalar_indexer\u001b[0m\u001b[1;33m(\u001b[0m\u001b[0mk\u001b[0m\u001b[1;33m,\u001b[0m \u001b[0mkind\u001b[0m\u001b[1;33m=\u001b[0m\u001b[1;34m\"getitem\"\u001b[0m\u001b[1;33m)\u001b[0m\u001b[1;33m\u001b[0m\u001b[1;33m\u001b[0m\u001b[0m\n\u001b[0;32m   4404\u001b[0m         \u001b[1;32mtry\u001b[0m\u001b[1;33m:\u001b[0m\u001b[1;33m\u001b[0m\u001b[1;33m\u001b[0m\u001b[0m\n\u001b[1;32m-> 4405\u001b[1;33m             \u001b[1;32mreturn\u001b[0m \u001b[0mself\u001b[0m\u001b[1;33m.\u001b[0m\u001b[0m_engine\u001b[0m\u001b[1;33m.\u001b[0m\u001b[0mget_value\u001b[0m\u001b[1;33m(\u001b[0m\u001b[0ms\u001b[0m\u001b[1;33m,\u001b[0m \u001b[0mk\u001b[0m\u001b[1;33m,\u001b[0m \u001b[0mtz\u001b[0m\u001b[1;33m=\u001b[0m\u001b[0mgetattr\u001b[0m\u001b[1;33m(\u001b[0m\u001b[0mseries\u001b[0m\u001b[1;33m.\u001b[0m\u001b[0mdtype\u001b[0m\u001b[1;33m,\u001b[0m \u001b[1;34m\"tz\"\u001b[0m\u001b[1;33m,\u001b[0m \u001b[1;32mNone\u001b[0m\u001b[1;33m)\u001b[0m\u001b[1;33m)\u001b[0m\u001b[1;33m\u001b[0m\u001b[1;33m\u001b[0m\u001b[0m\n\u001b[0m\u001b[0;32m   4406\u001b[0m         \u001b[1;32mexcept\u001b[0m \u001b[0mKeyError\u001b[0m \u001b[1;32mas\u001b[0m \u001b[0me1\u001b[0m\u001b[1;33m:\u001b[0m\u001b[1;33m\u001b[0m\u001b[1;33m\u001b[0m\u001b[0m\n\u001b[0;32m   4407\u001b[0m             \u001b[1;32mif\u001b[0m \u001b[0mlen\u001b[0m\u001b[1;33m(\u001b[0m\u001b[0mself\u001b[0m\u001b[1;33m)\u001b[0m \u001b[1;33m>\u001b[0m \u001b[1;36m0\u001b[0m \u001b[1;32mand\u001b[0m \u001b[1;33m(\u001b[0m\u001b[0mself\u001b[0m\u001b[1;33m.\u001b[0m\u001b[0mholds_integer\u001b[0m\u001b[1;33m(\u001b[0m\u001b[1;33m)\u001b[0m \u001b[1;32mor\u001b[0m \u001b[0mself\u001b[0m\u001b[1;33m.\u001b[0m\u001b[0mis_boolean\u001b[0m\u001b[1;33m(\u001b[0m\u001b[1;33m)\u001b[0m\u001b[1;33m)\u001b[0m\u001b[1;33m:\u001b[0m\u001b[1;33m\u001b[0m\u001b[1;33m\u001b[0m\u001b[0m\n",
      "\u001b[1;32mpandas\\_libs\\index.pyx\u001b[0m in \u001b[0;36mpandas._libs.index.IndexEngine.get_value\u001b[1;34m()\u001b[0m\n",
      "\u001b[1;32mpandas\\_libs\\index.pyx\u001b[0m in \u001b[0;36mpandas._libs.index.IndexEngine.get_value\u001b[1;34m()\u001b[0m\n",
      "\u001b[1;32mpandas\\_libs\\index.pyx\u001b[0m in \u001b[0;36mpandas._libs.index.IndexEngine.get_loc\u001b[1;34m()\u001b[0m\n",
      "\u001b[1;32mpandas\\_libs\\index_class_helper.pxi\u001b[0m in \u001b[0;36mpandas._libs.index.Int64Engine._check_type\u001b[1;34m()\u001b[0m\n",
      "\u001b[1;31mKeyError\u001b[0m: 'latitude'"
     ]
    }
   ],
   "source": [
    "results_df.location_1['latitude']"
   ]
  },
  {
   "cell_type": "code",
   "execution_count": null,
   "metadata": {},
   "outputs": [],
   "source": []
  }
 ],
 "metadata": {
  "kernelspec": {
   "display_name": "Python 3",
   "language": "python",
   "name": "python3"
  },
  "language_info": {
   "codemirror_mode": {
    "name": "ipython",
    "version": 3
   },
   "file_extension": ".py",
   "mimetype": "text/x-python",
   "name": "python",
   "nbconvert_exporter": "python",
   "pygments_lexer": "ipython3",
   "version": "3.7.6"
  }
 },
 "nbformat": 4,
 "nbformat_minor": 4
}
