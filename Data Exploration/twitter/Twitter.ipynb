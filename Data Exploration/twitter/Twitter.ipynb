{
 "cells": [
  {
   "cell_type": "markdown",
   "metadata": {},
   "source": [
    "## Using Tweepy for Twitter Analysis"
   ]
  },
  {
   "cell_type": "markdown",
   "metadata": {},
   "source": [
    "http://docs.tweepy.org/en/v3.9.0/getting_started.html"
   ]
  },
  {
   "cell_type": "code",
   "execution_count": 4,
   "metadata": {},
   "outputs": [],
   "source": [
    "import os\n",
    "\n",
    "import pandas as pd"
   ]
  },
  {
   "cell_type": "code",
   "execution_count": 5,
   "metadata": {},
   "outputs": [],
   "source": [
    "import tweepy as tw"
   ]
  },
  {
   "cell_type": "markdown",
   "metadata": {},
   "source": [
    "API key:jkAoLtO2238Dg1kiHAjALOplJ\n",
    "\n",
    "API key secret:ex2geCJQWrkeQbkoHXoOgKvfZQvMUGgo3GkYS6yk0w8M4VNjJ7\n",
    "\n",
    "Bearer token:AAAAAAAAAAAAAAAAAAAAANBlGgEAAAAAJijQK8935XihKt9HH3Ea9CuPNYI%3DThy7GZNO7l85EmnY3w0bekVqCMMz5C97tf5w5rvWemx3pbYtIf\n",
    "\n",
    "Access token:14411456-nsXO3zipKcNl3Ol42nXYfLtgLMAHu0N9SUdF6yXyJ\n",
    "\n",
    "Access token secret:wHuibwZwLNCQJAUS3Q8xP2sehloaXxlCi9DYPmmjkeuXS\n"
   ]
  },
  {
   "cell_type": "code",
   "execution_count": 6,
   "metadata": {},
   "outputs": [],
   "source": [
    "consumer_key= 'jkAoLtO2238Dg1kiHAjALOplJ'\n",
    "consumer_secret= 'ex2geCJQWrkeQbkoHXoOgKvfZQvMUGgo3GkYS6yk0w8M4VNjJ7'\n",
    "access_token= '14411456-nsXO3zipKcNl3Ol42nXYfLtgLMAHu0N9SUdF6yXyJ'\n",
    "access_token_secret= 'wHuibwZwLNCQJAUS3Q8xP2sehloaXxlCi9DYPmmjkeuXS'"
   ]
  },
  {
   "cell_type": "code",
   "execution_count": 7,
   "metadata": {},
   "outputs": [],
   "source": [
    "auth = tw.OAuthHandler(consumer_key, consumer_secret)\n",
    "auth.set_access_token(access_token, access_token_secret)\n",
    "api = tw.API(auth, wait_on_rate_limit=True)"
   ]
  },
  {
   "cell_type": "code",
   "execution_count": 62,
   "metadata": {},
   "outputs": [],
   "source": [
    "# Define the search term and the date_since date as variables\n",
    "search_words = \"fire\"\n",
    "date_since = \"2018-11-16\""
   ]
  },
  {
   "cell_type": "code",
   "execution_count": 63,
   "metadata": {},
   "outputs": [
    {
     "data": {
      "text/plain": [
       "<tweepy.cursor.ItemIterator at 0x22832b18e48>"
      ]
     },
     "execution_count": 63,
     "metadata": {},
     "output_type": "execute_result"
    }
   ],
   "source": [
    "# Collect tweets\n",
    "tweets = tw.Cursor(api.search,\n",
    "              q=search_words,\n",
    "              lang=\"en\",\n",
    "              since=date_since).items(5)\n",
    "tweets"
   ]
  },
  {
   "cell_type": "code",
   "execution_count": 64,
   "metadata": {},
   "outputs": [
    {
     "name": "stdout",
     "output_type": "stream",
     "text": [
      "RT @suukuuuu: Niggas be like “relax” after pouring gasoline on you and setting you on fire\n",
      "Can we just talk about how fire Shinsuke Nakamura's njpw theme is 🔥🔥🔥 https://t.co/El8KIvt0sH\n",
      "RT @FarahShoucair: The last photo of the firefighters from the #Beirut Fire Department. They all lost their lives trying to save us all fro…\n",
      "RT @Breaking911: DEVELOPING: Massive fire breaks out at market in Ajman, United Arab Emirates; no word yet on cause or injuries \n",
      "\n",
      " https://…\n",
      "i’m glad no one was hurt. my god that fire is horrible. https://t.co/m86HnTJ84j\n"
     ]
    }
   ],
   "source": [
    "# Iterate and print tweets\n",
    "for tweet in tweets:\n",
    "    print(tweet.text)\n",
    "    "
   ]
  },
  {
   "cell_type": "markdown",
   "metadata": {},
   "source": [
    "## The tweet object\n",
    "\n",
    "Here are a list of available parameters for a tweet:\n",
    "https://developer.twitter.com/en/docs/tweets/data-dictionary/overview/tweet-object"
   ]
  },
  {
   "cell_type": "markdown",
   "metadata": {},
   "source": [
    "## To Keep or Remove Retweets\n",
    "A retweet is when someone shares someone else’s tweet. It is similar to sharing in Facebook. Sometimes you may want to remove retweets as they contain duplicate content that might skew your analysis if you are only looking at word frequency. Other times, you may want to keep retweets.\n",
    "\n",
    "Below you ignore all retweets by adding `-filter:retweets` to your query. The Twitter API documentation has information on other ways to customize your queries."
   ]
  },
  {
   "cell_type": "code",
   "execution_count": 65,
   "metadata": {},
   "outputs": [
    {
     "data": {
      "text/plain": [
       "'fire -filter:retweets'"
      ]
     },
     "execution_count": 65,
     "metadata": {},
     "output_type": "execute_result"
    }
   ],
   "source": [
    "new_search = search_words + \" -filter:retweets\"\n",
    "new_search"
   ]
  },
  {
   "cell_type": "markdown",
   "metadata": {},
   "source": [
    "## Who is tweeting about wildfires?\n",
    "\n",
    "* search parameters: http://docs.tweepy.org/en/latest/api.html#search-methods"
   ]
  },
  {
   "cell_type": "code",
   "execution_count": 87,
   "metadata": {},
   "outputs": [
    {
     "name": "stdout",
     "output_type": "stream",
     "text": [
      "@latinforsnow \"they didnt deserve to die\" correct! m*n deserve less than the release of death but I think lighting… https://t.co/worxeuB0hR\n",
      "@france24_en You French have your own Cancel Culture.  Your immigrants are setting fire to your artifacts.  First N… https://t.co/JYDJn7osuA\n",
      "Vehicle on fire following crash near Chichester https://t.co/jyBq27jLKU\n",
      "@jon__bay That Phoenix album is fire. I got to meet them that year and talk to them about their proxies.\n",
      "To handle #stella u need all the back up team available. @muthonithiongo yaani lady on fire.\n"
     ]
    }
   ],
   "source": [
    "tweets = tw.Cursor(api.search, \n",
    "                           q=new_search,\n",
    "                           lang=\"en\",\n",
    "                           since=date_since).items(5)\n",
    "\n",
    "for tweet in tweets:\n",
    "    print(tweet.text)\n",
    "# users_locs = [[tweet.user.screen_name, tweet.user.location,tweet.coordinates,tweet.text] for tweet in tweets]\n",
    "# users_locs"
   ]
  },
  {
   "cell_type": "code",
   "execution_count": 69,
   "metadata": {},
   "outputs": [
    {
     "data": {
      "text/plain": [
       "'fire -filter:retweets'"
      ]
     },
     "execution_count": 69,
     "metadata": {},
     "output_type": "execute_result"
    }
   ],
   "source": [
    "new_search"
   ]
  },
  {
   "cell_type": "code",
   "execution_count": 100,
   "metadata": {},
   "outputs": [
    {
     "name": "stdout",
     "output_type": "stream",
     "text": [
      "{'type': 'Point', 'coordinates': [33.8362, -117.89]}\n"
     ]
    }
   ],
   "source": [
    "# tweets from a specific user\n",
    "tweets = api.search(q = 'BrushFire -filter:retweets',\n",
    "                   geocode = '34.068921,-118.4473751,500km',\n",
    "                   count=2000)\n",
    "\n",
    "\n",
    "for tweet in tweets:\n",
    "    if tweet.geo != None:\n",
    "        print(tweet.geo)"
   ]
  },
  {
   "cell_type": "code",
   "execution_count": 80,
   "metadata": {},
   "outputs": [],
   "source": [
    "# fuction to extract data from tweet object\n",
    "def extract_tweet_attributes(tweet_object):\n",
    "    # create empty list\n",
    "    tweet_list =[]\n",
    "    # loop through tweet objects\n",
    "    for tweet in tweet_object:\n",
    "        tweet_id = tweet.id # unique integer identifier for tweet\n",
    "        text = tweet.text # utf-8 text of tweet\n",
    "        favorite_count = tweet.favorite_count\n",
    "        retweet_count = tweet.retweet_count\n",
    "        created_at = tweet.created_at # utc time tweet created\n",
    "        source = tweet.source # utility used to post tweet\n",
    "        reply_to_status = tweet.in_reply_to_status_id # if reply int of orginal tweet id\n",
    "        reply_to_user = tweet.in_reply_to_screen_name # if reply original tweetes screenname\n",
    "        retweets = tweet.retweet_count # number of times this tweet retweeted\n",
    "        favorites = tweet.favorite_count # number of time this tweet liked\n",
    "        # append attributes to list\n",
    "        tweet_list.append({'tweet_id':tweet_id, \n",
    "                          'text':text, \n",
    "                          'favorite_count':favorite_count,\n",
    "                          'retweet_count':retweet_count,\n",
    "                          'created_at':created_at, \n",
    "                          'source':source, \n",
    "                          'reply_to_status':reply_to_status, \n",
    "                          'reply_to_user':reply_to_user,\n",
    "                          'retweets':retweets,\n",
    "                          'favorites':favorites})\n",
    "    # create dataframe   \n",
    "    df = pd.DataFrame(tweet_list, columns=['tweet_id',\n",
    "                                           'text',\n",
    "                                           'favorite_count',\n",
    "                                           'retweet_count',\n",
    "                                           'created_at',\n",
    "                                           'source',\n",
    "                                           'reply_to_status',\n",
    "                                           'reply_to_user',\n",
    "                                           'retweets',\n",
    "                                           'favorites'])\n",
    "    return df\n",
    "\n",
    "\n",
    "df = extract_tweet_attributes(tweets)"
   ]
  },
  {
   "cell_type": "code",
   "execution_count": 81,
   "metadata": {},
   "outputs": [
    {
     "data": {
      "text/html": [
       "<div>\n",
       "<style scoped>\n",
       "    .dataframe tbody tr th:only-of-type {\n",
       "        vertical-align: middle;\n",
       "    }\n",
       "\n",
       "    .dataframe tbody tr th {\n",
       "        vertical-align: top;\n",
       "    }\n",
       "\n",
       "    .dataframe thead th {\n",
       "        text-align: right;\n",
       "    }\n",
       "</style>\n",
       "<table border=\"1\" class=\"dataframe\">\n",
       "  <thead>\n",
       "    <tr style=\"text-align: right;\">\n",
       "      <th></th>\n",
       "      <th>tweet_id</th>\n",
       "      <th>text</th>\n",
       "      <th>favorite_count</th>\n",
       "      <th>retweet_count</th>\n",
       "      <th>created_at</th>\n",
       "      <th>source</th>\n",
       "      <th>reply_to_status</th>\n",
       "      <th>reply_to_user</th>\n",
       "      <th>retweets</th>\n",
       "      <th>favorites</th>\n",
       "    </tr>\n",
       "  </thead>\n",
       "  <tbody>\n",
       "    <tr>\n",
       "      <th>0</th>\n",
       "      <td>1291067052854255616</td>\n",
       "      <td>Portland is a city out of control with crime.\\...</td>\n",
       "      <td>0</td>\n",
       "      <td>0</td>\n",
       "      <td>2020-08-05 17:42:26</td>\n",
       "      <td>Hootsuite Inc.</td>\n",
       "      <td>NaN</td>\n",
       "      <td>None</td>\n",
       "      <td>0</td>\n",
       "      <td>0</td>\n",
       "    </tr>\n",
       "    <tr>\n",
       "      <th>1</th>\n",
       "      <td>1291067035732946944</td>\n",
       "      <td>#LAFD on a quarter-acre brush fire at the top ...</td>\n",
       "      <td>0</td>\n",
       "      <td>0</td>\n",
       "      <td>2020-08-05 17:42:22</td>\n",
       "      <td>Twitter Web App</td>\n",
       "      <td>NaN</td>\n",
       "      <td>None</td>\n",
       "      <td>0</td>\n",
       "      <td>0</td>\n",
       "    </tr>\n",
       "    <tr>\n",
       "      <th>2</th>\n",
       "      <td>1291066611013578753</td>\n",
       "      <td>@BlakelyMara I’ll go fire up the grill.</td>\n",
       "      <td>0</td>\n",
       "      <td>0</td>\n",
       "      <td>2020-08-05 17:40:41</td>\n",
       "      <td>Twitter for iPhone</td>\n",
       "      <td>1.291066e+18</td>\n",
       "      <td>BlakelyMara</td>\n",
       "      <td>0</td>\n",
       "      <td>0</td>\n",
       "    </tr>\n",
       "    <tr>\n",
       "      <th>3</th>\n",
       "      <td>1291066463340593153</td>\n",
       "      <td>@allanldsantos Eyes on fire / Blue Foundation ...</td>\n",
       "      <td>0</td>\n",
       "      <td>0</td>\n",
       "      <td>2020-08-05 17:40:06</td>\n",
       "      <td>Twitter for iPhone</td>\n",
       "      <td>1.291058e+18</td>\n",
       "      <td>allanldsantos</td>\n",
       "      <td>0</td>\n",
       "      <td>0</td>\n",
       "    </tr>\n",
       "    <tr>\n",
       "      <th>4</th>\n",
       "      <td>1291066273841864705</td>\n",
       "      <td>#Resisters, it's time to...Take the pledge to ...</td>\n",
       "      <td>2</td>\n",
       "      <td>2</td>\n",
       "      <td>2020-08-05 17:39:21</td>\n",
       "      <td>Twitter for Android</td>\n",
       "      <td>NaN</td>\n",
       "      <td>None</td>\n",
       "      <td>2</td>\n",
       "      <td>2</td>\n",
       "    </tr>\n",
       "    <tr>\n",
       "      <th>5</th>\n",
       "      <td>1291066185887281152</td>\n",
       "      <td>If you'd asked me in March where I thought we'...</td>\n",
       "      <td>5</td>\n",
       "      <td>0</td>\n",
       "      <td>2020-08-05 17:39:00</td>\n",
       "      <td>Twitter Web App</td>\n",
       "      <td>NaN</td>\n",
       "      <td>None</td>\n",
       "      <td>0</td>\n",
       "      <td>5</td>\n",
       "    </tr>\n",
       "    <tr>\n",
       "      <th>6</th>\n",
       "      <td>1291066170099957760</td>\n",
       "      <td>Volcano Finder Map - Find Volcanoes. #Volcano ...</td>\n",
       "      <td>0</td>\n",
       "      <td>0</td>\n",
       "      <td>2020-08-05 17:38:56</td>\n",
       "      <td>TweetDeck</td>\n",
       "      <td>NaN</td>\n",
       "      <td>None</td>\n",
       "      <td>0</td>\n",
       "      <td>0</td>\n",
       "    </tr>\n",
       "    <tr>\n",
       "      <th>7</th>\n",
       "      <td>1291066071168892928</td>\n",
       "      <td>Oil rig a fire map</td>\n",
       "      <td>0</td>\n",
       "      <td>0</td>\n",
       "      <td>2020-08-05 17:38:32</td>\n",
       "      <td>Twitter for Android</td>\n",
       "      <td>NaN</td>\n",
       "      <td>None</td>\n",
       "      <td>0</td>\n",
       "      <td>0</td>\n",
       "    </tr>\n",
       "    <tr>\n",
       "      <th>8</th>\n",
       "      <td>1291065842491248641</td>\n",
       "      <td>*garbage fire intensifies \\n\\nMe: okay alright...</td>\n",
       "      <td>0</td>\n",
       "      <td>0</td>\n",
       "      <td>2020-08-05 17:37:38</td>\n",
       "      <td>Twitter for iPhone</td>\n",
       "      <td>NaN</td>\n",
       "      <td>None</td>\n",
       "      <td>0</td>\n",
       "      <td>0</td>\n",
       "    </tr>\n",
       "    <tr>\n",
       "      <th>9</th>\n",
       "      <td>1291065802272043008</td>\n",
       "      <td>@ZeroUtopia @kimlet @srichdiet YES SISTERS OF ...</td>\n",
       "      <td>1</td>\n",
       "      <td>0</td>\n",
       "      <td>2020-08-05 17:37:28</td>\n",
       "      <td>Twitter for iPhone</td>\n",
       "      <td>1.291049e+18</td>\n",
       "      <td>ZeroUtopia</td>\n",
       "      <td>0</td>\n",
       "      <td>1</td>\n",
       "    </tr>\n",
       "    <tr>\n",
       "      <th>10</th>\n",
       "      <td>1291065701889912832</td>\n",
       "      <td>NEW VIDEO ALERT 🚨🚨🚨\\n\\nNIKE SNKRS RESTOCK AIR ...</td>\n",
       "      <td>1</td>\n",
       "      <td>0</td>\n",
       "      <td>2020-08-05 17:37:04</td>\n",
       "      <td>Twitter for iPhone</td>\n",
       "      <td>NaN</td>\n",
       "      <td>None</td>\n",
       "      <td>0</td>\n",
       "      <td>1</td>\n",
       "    </tr>\n",
       "    <tr>\n",
       "      <th>11</th>\n",
       "      <td>1291065633203838976</td>\n",
       "      <td>that rap battle between Soul and Day still fir...</td>\n",
       "      <td>0</td>\n",
       "      <td>0</td>\n",
       "      <td>2020-08-05 17:36:48</td>\n",
       "      <td>Twitter for iPhone</td>\n",
       "      <td>NaN</td>\n",
       "      <td>None</td>\n",
       "      <td>0</td>\n",
       "      <td>0</td>\n",
       "    </tr>\n",
       "    <tr>\n",
       "      <th>12</th>\n",
       "      <td>1291065500600946688</td>\n",
       "      <td>Altadena Sr134 W / Cahuenga Blvd **Report of F...</td>\n",
       "      <td>0</td>\n",
       "      <td>0</td>\n",
       "      <td>2020-08-05 17:36:16</td>\n",
       "      <td>CHP Traffic Bot</td>\n",
       "      <td>NaN</td>\n",
       "      <td>None</td>\n",
       "      <td>0</td>\n",
       "      <td>0</td>\n",
       "    </tr>\n",
       "    <tr>\n",
       "      <th>13</th>\n",
       "      <td>1291065436935565312</td>\n",
       "      <td>Central LA Barham Blvd Ofr / Us101 N **Report ...</td>\n",
       "      <td>0</td>\n",
       "      <td>0</td>\n",
       "      <td>2020-08-05 17:36:01</td>\n",
       "      <td>CHP Traffic Bot</td>\n",
       "      <td>NaN</td>\n",
       "      <td>None</td>\n",
       "      <td>0</td>\n",
       "      <td>0</td>\n",
       "    </tr>\n",
       "    <tr>\n",
       "      <th>14</th>\n",
       "      <td>1291065325195124736</td>\n",
       "      <td>this strawberry chicken sandwich was hella fire🔥</td>\n",
       "      <td>0</td>\n",
       "      <td>0</td>\n",
       "      <td>2020-08-05 17:35:35</td>\n",
       "      <td>Twitter for iPhone</td>\n",
       "      <td>NaN</td>\n",
       "      <td>None</td>\n",
       "      <td>0</td>\n",
       "      <td>0</td>\n",
       "    </tr>\n",
       "  </tbody>\n",
       "</table>\n",
       "</div>"
      ],
      "text/plain": [
       "               tweet_id                                               text  \\\n",
       "0   1291067052854255616  Portland is a city out of control with crime.\\...   \n",
       "1   1291067035732946944  #LAFD on a quarter-acre brush fire at the top ...   \n",
       "2   1291066611013578753            @BlakelyMara I’ll go fire up the grill.   \n",
       "3   1291066463340593153  @allanldsantos Eyes on fire / Blue Foundation ...   \n",
       "4   1291066273841864705  #Resisters, it's time to...Take the pledge to ...   \n",
       "5   1291066185887281152  If you'd asked me in March where I thought we'...   \n",
       "6   1291066170099957760  Volcano Finder Map - Find Volcanoes. #Volcano ...   \n",
       "7   1291066071168892928                                 Oil rig a fire map   \n",
       "8   1291065842491248641  *garbage fire intensifies \\n\\nMe: okay alright...   \n",
       "9   1291065802272043008  @ZeroUtopia @kimlet @srichdiet YES SISTERS OF ...   \n",
       "10  1291065701889912832  NEW VIDEO ALERT 🚨🚨🚨\\n\\nNIKE SNKRS RESTOCK AIR ...   \n",
       "11  1291065633203838976  that rap battle between Soul and Day still fir...   \n",
       "12  1291065500600946688  Altadena Sr134 W / Cahuenga Blvd **Report of F...   \n",
       "13  1291065436935565312  Central LA Barham Blvd Ofr / Us101 N **Report ...   \n",
       "14  1291065325195124736   this strawberry chicken sandwich was hella fire🔥   \n",
       "\n",
       "    favorite_count  retweet_count          created_at               source  \\\n",
       "0                0              0 2020-08-05 17:42:26       Hootsuite Inc.   \n",
       "1                0              0 2020-08-05 17:42:22      Twitter Web App   \n",
       "2                0              0 2020-08-05 17:40:41   Twitter for iPhone   \n",
       "3                0              0 2020-08-05 17:40:06   Twitter for iPhone   \n",
       "4                2              2 2020-08-05 17:39:21  Twitter for Android   \n",
       "5                5              0 2020-08-05 17:39:00      Twitter Web App   \n",
       "6                0              0 2020-08-05 17:38:56            TweetDeck   \n",
       "7                0              0 2020-08-05 17:38:32  Twitter for Android   \n",
       "8                0              0 2020-08-05 17:37:38   Twitter for iPhone   \n",
       "9                1              0 2020-08-05 17:37:28   Twitter for iPhone   \n",
       "10               1              0 2020-08-05 17:37:04   Twitter for iPhone   \n",
       "11               0              0 2020-08-05 17:36:48   Twitter for iPhone   \n",
       "12               0              0 2020-08-05 17:36:16      CHP Traffic Bot   \n",
       "13               0              0 2020-08-05 17:36:01      CHP Traffic Bot   \n",
       "14               0              0 2020-08-05 17:35:35   Twitter for iPhone   \n",
       "\n",
       "    reply_to_status  reply_to_user  retweets  favorites  \n",
       "0               NaN           None         0          0  \n",
       "1               NaN           None         0          0  \n",
       "2      1.291066e+18    BlakelyMara         0          0  \n",
       "3      1.291058e+18  allanldsantos         0          0  \n",
       "4               NaN           None         2          2  \n",
       "5               NaN           None         0          5  \n",
       "6               NaN           None         0          0  \n",
       "7               NaN           None         0          0  \n",
       "8               NaN           None         0          0  \n",
       "9      1.291049e+18     ZeroUtopia         0          1  \n",
       "10              NaN           None         0          1  \n",
       "11              NaN           None         0          0  \n",
       "12              NaN           None         0          0  \n",
       "13              NaN           None         0          0  \n",
       "14              NaN           None         0          0  "
      ]
     },
     "execution_count": 81,
     "metadata": {},
     "output_type": "execute_result"
    }
   ],
   "source": [
    "df"
   ]
  },
  {
   "cell_type": "code",
   "execution_count": null,
   "metadata": {},
   "outputs": [],
   "source": []
  }
 ],
 "metadata": {
  "kernelspec": {
   "display_name": "Python 3",
   "language": "python",
   "name": "python3"
  },
  "language_info": {
   "codemirror_mode": {
    "name": "ipython",
    "version": 3
   },
   "file_extension": ".py",
   "mimetype": "text/x-python",
   "name": "python",
   "nbconvert_exporter": "python",
   "pygments_lexer": "ipython3",
   "version": "3.7.6"
  }
 },
 "nbformat": 4,
 "nbformat_minor": 4
}
