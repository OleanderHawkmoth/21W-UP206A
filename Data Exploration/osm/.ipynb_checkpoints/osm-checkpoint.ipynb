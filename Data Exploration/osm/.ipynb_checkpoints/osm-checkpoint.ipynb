{
 "cells": [
  {
   "cell_type": "markdown",
   "metadata": {},
   "source": [
    "# Open Street Map\n",
    "\n",
    "What is open street map?\n",
    "- https://www.openstreetmap.org/\n",
    "\n",
    "OSMnx\n",
    "- library documentation (https://osmnx.readthedocs.io)\n",
    "- github (https://github.com/gboeing/osmnx)\n",
    "- Examples and demos are available at: https://github.com/gboeing/osmnx-examples\n",
    "\n",
    "Lesson flow inspiration:\n",
    "- https://youtu.be/QQmvq1cQHrk"
   ]
  },
  {
   "cell_type": "code",
   "execution_count": null,
   "metadata": {},
   "outputs": [],
   "source": [
    "import osmnx as ox\n",
    "import geopandas as gpd"
   ]
  },
  {
   "cell_type": "markdown",
   "metadata": {},
   "source": [
    "## Finding a place"
   ]
  },
  {
   "cell_type": "markdown",
   "metadata": {},
   "source": [
    "<div class=\"alert alert-info\">\n",
    "    osmnx uses nominatim to geocode and find places\n",
    "    https://nominatim.openstreetmap.org/ui/search.html\n",
    "</div>"
   ]
  },
  {
   "cell_type": "code",
   "execution_count": null,
   "metadata": {},
   "outputs": [],
   "source": [
    "# find a place\n",
    "place = 'Boyle Heights, California'"
   ]
  },
  {
   "cell_type": "code",
   "execution_count": null,
   "metadata": {},
   "outputs": [],
   "source": [
    "# get it\n",
    "graph = ox.graph_from_place(place)"
   ]
  },
  {
   "cell_type": "code",
   "execution_count": null,
   "metadata": {
    "scrolled": false
   },
   "outputs": [],
   "source": [
    "# plot it\n",
    "ox.plot_graph(graph,\n",
    "             bgcolor='#fff',\n",
    "             edge_color='#aaa',\n",
    "             node_color='#888',\n",
    "             node_size=10)"
   ]
  },
  {
   "cell_type": "markdown",
   "metadata": {},
   "source": [
    "<div class=\"alert alert-info\">\n",
    "    Try it yourself! Choose a city anywhere in the world, and display a map of its street network.\n",
    "</div>"
   ]
  },
  {
   "cell_type": "code",
   "execution_count": null,
   "metadata": {},
   "outputs": [],
   "source": []
  },
  {
   "cell_type": "code",
   "execution_count": null,
   "metadata": {},
   "outputs": [],
   "source": [
    "# convert this graph, networkx, to geodataframe\n",
    "# it has two objects, nodes and edges\n",
    "nodes, edges = ox.graph_to_gdfs(graph)"
   ]
  },
  {
   "cell_type": "markdown",
   "metadata": {},
   "source": [
    "## Nodes\n",
    "\n",
    "Nodes are street intersections"
   ]
  },
  {
   "cell_type": "code",
   "execution_count": null,
   "metadata": {
    "scrolled": true
   },
   "outputs": [],
   "source": [
    "nodes.head()"
   ]
  },
  {
   "cell_type": "code",
   "execution_count": null,
   "metadata": {},
   "outputs": [],
   "source": [
    "nodes.plot()"
   ]
  },
  {
   "cell_type": "markdown",
   "metadata": {},
   "source": [
    "## Edges\n",
    "Edges are street segments"
   ]
  },
  {
   "cell_type": "code",
   "execution_count": null,
   "metadata": {},
   "outputs": [],
   "source": [
    "edges.head()"
   ]
  },
  {
   "cell_type": "code",
   "execution_count": null,
   "metadata": {},
   "outputs": [],
   "source": [
    "edges.plot()"
   ]
  },
  {
   "cell_type": "markdown",
   "metadata": {},
   "source": [
    "## Areas\n",
    "Areas are place boundary polygons"
   ]
  },
  {
   "cell_type": "code",
   "execution_count": null,
   "metadata": {},
   "outputs": [],
   "source": [
    "# get the place polygon\n",
    "area = ox.geocode_to_gdf(place)"
   ]
  },
  {
   "cell_type": "code",
   "execution_count": null,
   "metadata": {},
   "outputs": [],
   "source": [
    "area"
   ]
  },
  {
   "cell_type": "code",
   "execution_count": null,
   "metadata": {},
   "outputs": [],
   "source": [
    "area.plot()"
   ]
  },
  {
   "cell_type": "markdown",
   "metadata": {},
   "source": [
    "## Buildings"
   ]
  },
  {
   "cell_type": "code",
   "execution_count": null,
   "metadata": {
    "scrolled": true
   },
   "outputs": [],
   "source": [
    "buildings = ox.geometries_from_place(place, tags={'building':True})"
   ]
  },
  {
   "cell_type": "code",
   "execution_count": null,
   "metadata": {
    "scrolled": true
   },
   "outputs": [],
   "source": [
    "type(buildings)"
   ]
  },
  {
   "cell_type": "code",
   "execution_count": null,
   "metadata": {},
   "outputs": [],
   "source": [
    "buildings.sample(3)"
   ]
  },
  {
   "cell_type": "code",
   "execution_count": null,
   "metadata": {},
   "outputs": [],
   "source": [
    "buildings.plot(figsize=(12,10))"
   ]
  },
  {
   "cell_type": "code",
   "execution_count": null,
   "metadata": {},
   "outputs": [],
   "source": [
    "# spice it up a bit\n",
    "buildings.plot(figsize=(12,10),column='building',legend=True)"
   ]
  },
  {
   "cell_type": "code",
   "execution_count": null,
   "metadata": {},
   "outputs": [],
   "source": [
    "type(buildings)"
   ]
  },
  {
   "cell_type": "markdown",
   "metadata": {},
   "source": [
    "## Kepler\n",
    "Documentation: https://docs.kepler.gl/docs/keplergl-jupyter"
   ]
  },
  {
   "cell_type": "code",
   "execution_count": null,
   "metadata": {},
   "outputs": [],
   "source": [
    "# how many buildings?\n",
    "len(buildings)"
   ]
  },
  {
   "cell_type": "markdown",
   "metadata": {},
   "source": [
    "Whoa, that's a lot. Kepler is a javascript library, meaning that you are limited to the ability of your computer power. Buildings are primarily represented as polygons, and rendering more than 5000 polygons could bog down your system. Let's try a different approach."
   ]
  },
  {
   "cell_type": "code",
   "execution_count": null,
   "metadata": {},
   "outputs": [],
   "source": [
    "buildings = ox.geometries_from_address(place,  tags={'building':True}, dist=1000)"
   ]
  },
  {
   "cell_type": "code",
   "execution_count": null,
   "metadata": {},
   "outputs": [],
   "source": [
    "len(buildings)"
   ]
  },
  {
   "cell_type": "code",
   "execution_count": null,
   "metadata": {},
   "outputs": [],
   "source": [
    "buildings.plot()"
   ]
  },
  {
   "cell_type": "code",
   "execution_count": null,
   "metadata": {},
   "outputs": [],
   "source": [
    "buildings = ox.geometries_from_point(center_point=(34.0360304,-118.2078525),tags={'building':True}, dist=1000)"
   ]
  },
  {
   "cell_type": "code",
   "execution_count": null,
   "metadata": {},
   "outputs": [],
   "source": [
    "buildings.plot()"
   ]
  },
  {
   "cell_type": "code",
   "execution_count": null,
   "metadata": {
    "scrolled": true
   },
   "outputs": [],
   "source": [
    "# Load an empty map\n",
    "from keplergl import KeplerGl \n",
    "map_1 = KeplerGl(height=500)\n",
    "map_1.add_data(data=buildings)\n",
    "map_1\n"
   ]
  },
  {
   "cell_type": "code",
   "execution_count": null,
   "metadata": {
    "scrolled": true
   },
   "outputs": [],
   "source": [
    "buildings.sample(50)"
   ]
  },
  {
   "cell_type": "code",
   "execution_count": null,
   "metadata": {},
   "outputs": [],
   "source": [
    "b = buildings[['osmid','building','geometry']]"
   ]
  },
  {
   "cell_type": "code",
   "execution_count": null,
   "metadata": {},
   "outputs": [],
   "source": [
    "type(b)"
   ]
  },
  {
   "cell_type": "code",
   "execution_count": null,
   "metadata": {
    "scrolled": true
   },
   "outputs": [],
   "source": [
    "b.query('geometry.str.contains(\"POINT\")', engine='python')"
   ]
  },
  {
   "cell_type": "code",
   "execution_count": null,
   "metadata": {},
   "outputs": [],
   "source": [
    "b.isna().sum()"
   ]
  },
  {
   "cell_type": "code",
   "execution_count": null,
   "metadata": {},
   "outputs": [],
   "source": [
    "m = folium.Map(location=[34.0360304,-118.2078525],zoom_start=14,tiles = 'CartoDB positron')\n",
    "# plot chorpleth over the base map\n",
    "folium.Choropleth(geo_data=b,                                # geo data\n",
    "                  data=b, \n",
    "#                   key_on='feature.properties.FIPS',# data\n",
    "#                   key_on='feature.properties.osmid', # feature.properties.key\n",
    "                  columns=['osmid', 'building'],   # [key, value]\n",
    "                  fill_color='RdPu',                     # cmap\n",
    "                  line_weight=0.1,                       # line wight (of the border)\n",
    "                  line_opacity=0.5,                      # line opacity (of the border)\n",
    "                  legend_name='White').add_to(m)    # name on the legend color bar\n",
    "\n",
    "m"
   ]
  },
  {
   "cell_type": "code",
   "execution_count": null,
   "metadata": {},
   "outputs": [],
   "source": [
    "print(buildings.iloc[10].geometry)"
   ]
  },
  {
   "cell_type": "code",
   "execution_count": null,
   "metadata": {
    "scrolled": true
   },
   "outputs": [],
   "source": [
    "graph_map = ox.plot_graph_folium(buildings)"
   ]
  },
  {
   "cell_type": "markdown",
   "metadata": {},
   "source": [
    "## Points of interest"
   ]
  },
  {
   "cell_type": "markdown",
   "metadata": {},
   "source": [
    "Points of interest\n",
    "- https://osmnx.readthedocs.io/en/stable/osmnx.html#module-osmnx.pois\n",
    "\n",
    "List of tags, or \"amenities\"\n",
    "- https://wiki.openstreetmap.org/wiki/Key:amenity"
   ]
  },
  {
   "cell_type": "code",
   "execution_count": null,
   "metadata": {},
   "outputs": [],
   "source": [
    "# retrieve restaurants\n",
    "restaurants = ox.pois_from_place(place, tags = {'amenity': ['restaurant']})\n",
    "schools = ox.pois_from_place(place, tags = {'amenity': ['school']})"
   ]
  },
  {
   "cell_type": "code",
   "execution_count": null,
   "metadata": {},
   "outputs": [],
   "source": [
    "# get all parks and bus stops in some neighborhood\n",
    "tags = {'leisure': 'park',\n",
    "        'highway': 'bus_stop'}\n",
    "gdf = ox.geometries_from_place(place_name, tags)\n",
    "gdf.shape"
   ]
  },
  {
   "cell_type": "code",
   "execution_count": null,
   "metadata": {},
   "outputs": [],
   "source": [
    "len(schools)"
   ]
  },
  {
   "cell_type": "markdown",
   "metadata": {},
   "source": [
    "## Plotting all this data"
   ]
  },
  {
   "cell_type": "code",
   "execution_count": null,
   "metadata": {},
   "outputs": [],
   "source": [
    "import matplotlib.pyplot as plt\n",
    "\n",
    "fig, ax = plt.subplots(figsize=(20,20))\n",
    "\n",
    "# plot the area polygon\n",
    "area.plot(ax=ax, facecolor='gainsboro')\n",
    "\n",
    "# plot the street edges\n",
    "edges.plot(ax=ax, edgecolor='gray', linewidth=0.5, alpha=0.7)\n",
    "\n",
    "# plot building footprints\n",
    "buildings.plot(ax=ax)\n",
    "\n",
    "# plot restaurants\n",
    "restaurants.plot(ax=ax,color='darkred',markersize=150)\n",
    "\n",
    "# plot schools\n",
    "schools.plot(ax=ax,color='orange',markersize=50)"
   ]
  },
  {
   "cell_type": "code",
   "execution_count": null,
   "metadata": {},
   "outputs": [],
   "source": [
    "# what about parks?\n",
    "leisure = ox.footprints_from_place(place_name, footprint_type='leisure')"
   ]
  },
  {
   "cell_type": "code",
   "execution_count": null,
   "metadata": {},
   "outputs": [],
   "source": [
    "leisure.head()"
   ]
  },
  {
   "cell_type": "code",
   "execution_count": null,
   "metadata": {
    "scrolled": true
   },
   "outputs": [],
   "source": [
    "# distinct count?\n",
    "leisure[\"leisure\"].value_counts()"
   ]
  },
  {
   "cell_type": "code",
   "execution_count": null,
   "metadata": {},
   "outputs": [],
   "source": [
    "fig, ax = plt.subplots(figsize=(20,20))\n",
    "\n",
    "# plot the area polygon\n",
    "area.plot(ax=ax, facecolor='gainsboro')\n",
    "\n",
    "# plot the street edges\n",
    "edges.plot(ax=ax, edgecolor='gray', linewidth=0.5, alpha=0.7)\n",
    "\n",
    "# plot building footprints\n",
    "buildings.plot(ax=ax)\n",
    "\n",
    "# plot restaurants\n",
    "restaurants.plot(ax=ax,color='darkred',markersize=50)\n",
    "\n",
    "# plot schools\n",
    "schools.plot(ax=ax,color='orange',markersize=50)\n",
    "\n",
    "# plot green areas\n",
    "leisure.plot(ax=ax,color='green')"
   ]
  },
  {
   "cell_type": "code",
   "execution_count": null,
   "metadata": {},
   "outputs": [],
   "source": [
    "# neighborhoods or boroughs\n",
    "\n",
    "\n",
    "gdf = ox.geocode_to_gdf('Los Angeles, Los Angeles, California, USA')\n"
   ]
  },
  {
   "cell_type": "code",
   "execution_count": null,
   "metadata": {},
   "outputs": [],
   "source": [
    "# get the boundary polygon for manhattan, project it, and plot it\n",
    "city = ox.geocode_to_gdf('Los Angeles, California, USA')"
   ]
  },
  {
   "cell_type": "code",
   "execution_count": null,
   "metadata": {},
   "outputs": [],
   "source": [
    "city_proj = ox.project_gdf(city)\n",
    "ax = city_proj.plot(fc='gray', ec='none',figsize=(10,10))\n",
    "# ax = ax.axis('off')"
   ]
  },
  {
   "cell_type": "code",
   "execution_count": null,
   "metadata": {},
   "outputs": [],
   "source": [
    "# define a bounding box in Culver City\n",
    "north, south, east, west = 34.03, 33.99, -118.37, -118.42\n",
    "\n",
    "# create network from that bounding box\n",
    "G = ox.graph_from_bbox(north, south, east, west)\n",
    "fig, ax = ox.plot_graph(G)"
   ]
  },
  {
   "cell_type": "code",
   "execution_count": null,
   "metadata": {},
   "outputs": [],
   "source": [
    "ox.plot_graph_folium(G, edge_color='r')"
   ]
  },
  {
   "cell_type": "code",
   "execution_count": null,
   "metadata": {
    "scrolled": true
   },
   "outputs": [],
   "source": [
    "# define a point at UCLA\n",
    "location_point = (34.069624774724886, -118.44500631093979)\n",
    "\n",
    "# create network from point, inside bounding box of N, S, E, W each 750m from point\n",
    "G = ox.graph_from_point(location_point, dist=750,\n",
    "                        dist_type='bbox', network_type='all') # try \"drive\" and \"walk\"\n",
    "fig, ax = ox.plot_graph(G)"
   ]
  },
  {
   "cell_type": "code",
   "execution_count": null,
   "metadata": {
    "scrolled": true
   },
   "outputs": [],
   "source": [
    "ox.plot_graph_folium(G,  edge_linewidth=1, edge_color='r')\n",
    "# ox.plot_graph_folium(G)"
   ]
  },
  {
   "cell_type": "code",
   "execution_count": null,
   "metadata": {},
   "outputs": [],
   "source": [
    "ox.basic_stats(G)"
   ]
  },
  {
   "cell_type": "code",
   "execution_count": null,
   "metadata": {},
   "outputs": [],
   "source": [
    "# same point again, but create network only of nodes within 750m along the network from point\n",
    "G = ox.graph_from_point(location_point, dist=750, \n",
    "                        dist_type='network')\n",
    "fig, ax = ox.plot_graph(G, node_color='r')"
   ]
  },
  {
   "cell_type": "code",
   "execution_count": null,
   "metadata": {},
   "outputs": [],
   "source": [
    "# network from address, including only nodes within 1km along the network from the address\n",
    "G = ox.graph_from_address(address='UCLA, Los Angeles, CA', dist=1000,\n",
    "                          dist_type='network', network_type='all')\n",
    "\n",
    "fig, ax = ox.plot_graph(G, node_color='r')\n"
   ]
  },
  {
   "cell_type": "code",
   "execution_count": null,
   "metadata": {},
   "outputs": [],
   "source": [
    "%%time\n",
    "gdf = ox.footprints.footprints_from_place(place='UCLA, California, USA')\n",
    "gdf_proj = ox.project_gdf(gdf)\n",
    "fig, ax = ox.plot_footprints(gdf_proj)\n",
    "# Image(fp, height=size, width=size)"
   ]
  },
  {
   "cell_type": "code",
   "execution_count": null,
   "metadata": {},
   "outputs": [],
   "source": [
    "fig, ax = ox.plot_graph(G,\n",
    "    ax=None,               #optionally draw on pre-existing axis\n",
    "    figsize=(8, 8),        #figure size to create if ax is None\n",
    "    bgcolor=\"#111111\",     #background color of the plot\n",
    "    node_color=\"w\",        #color of the nodes\n",
    "    node_size=15,          #size of the nodes: if 0, skip plotting them\n",
    "    node_alpha=None,       #opacity of the nodes\n",
    "    node_edgecolor=\"none\", #color of the nodes' markers' borders\n",
    "    node_zorder=1,         #zorder to plot nodes: edges are always 1, so set node_zorder=0 to plot nodes below edges\n",
    "    edge_color=\"#999999\",  #color of the edges\n",
    "    edge_linewidth=1,      #width of the edges: if 0, skip plotting them\n",
    "    edge_alpha=None,       #opacity of the edges\n",
    "    show=True,             #if True, call pyplot.show() to show the figure\n",
    "    close=False,           #if True, call pyplot.close() to close the figure: useful if plotting/saving many in a loop\n",
    "    save=False,            #if True, save figure to disk at filepath\n",
    "    filepath=None,         #if save is True, the path to the file\n",
    "    dpi=300,               #if save is True, the resolution of saved file\n",
    "    bbox=None)             #bounding box to constrain plot: if None, will calculate from spatial extents of graphＢ"
   ]
  },
  {
   "cell_type": "code",
   "execution_count": null,
   "metadata": {},
   "outputs": [],
   "source": [
    "# get everything tagged amenity,\n",
    "# and everything with landuse = retail or commercial,\n",
    "# and everything with highway = bus_stop\n",
    "tags = {'amenity' : True,\n",
    "#         'landuse' : ['retail', 'commercial'],\n",
    "#         'highway' : 'bus_stop'\n",
    "       }\n",
    "poi = ox.pois_from_place('Culver City, California, USA', tags)\n",
    "poi.shape"
   ]
  },
  {
   "cell_type": "code",
   "execution_count": null,
   "metadata": {},
   "outputs": [],
   "source": [
    "poi.head()"
   ]
  },
  {
   "cell_type": "code",
   "execution_count": null,
   "metadata": {},
   "outputs": [],
   "source": [
    "poi.amenity.unique()"
   ]
  },
  {
   "cell_type": "code",
   "execution_count": null,
   "metadata": {},
   "outputs": [],
   "source": [
    "poi.groupby(['amenity']).count()['osmid'].reset_index(name='count').sort_values(['count'], ascending=False)"
   ]
  },
  {
   "cell_type": "code",
   "execution_count": null,
   "metadata": {},
   "outputs": [],
   "source": [
    "poi[poi.amenity=='school']"
   ]
  },
  {
   "cell_type": "code",
   "execution_count": null,
   "metadata": {},
   "outputs": [],
   "source": [
    "poi[poi.amenity=='school'].plot(figsize=(10,10))"
   ]
  },
  {
   "cell_type": "code",
   "execution_count": null,
   "metadata": {},
   "outputs": [],
   "source": [
    "# elevation. street nodes susceptible to flooding?\n"
   ]
  }
 ],
 "metadata": {
  "kernelspec": {
   "display_name": "Python 3",
   "language": "python",
   "name": "python3"
  },
  "language_info": {
   "codemirror_mode": {
    "name": "ipython",
    "version": 3
   },
   "file_extension": ".py",
   "mimetype": "text/x-python",
   "name": "python",
   "nbconvert_exporter": "python",
   "pygments_lexer": "ipython3",
   "version": "3.8.5"
  },
  "toc": {
   "base_numbering": 1,
   "nav_menu": {},
   "number_sections": true,
   "sideBar": true,
   "skip_h1_title": false,
   "title_cell": "Table of Contents",
   "title_sidebar": "Contents",
   "toc_cell": false,
   "toc_position": {},
   "toc_section_display": true,
   "toc_window_display": true
  }
 },
 "nbformat": 4,
 "nbformat_minor": 4
}
