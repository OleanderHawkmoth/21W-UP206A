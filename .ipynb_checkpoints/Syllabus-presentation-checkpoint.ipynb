{
 "cells": [
  {
   "cell_type": "markdown",
   "metadata": {
    "slideshow": {
     "slide_type": "slide"
    }
   },
   "source": [
    "# UP206A: Introduction to GIS and Spatial Data Science\n",
    "\n",
    "Fall 2020\n",
    "\n",
    "Mondays 2pm - 5pm\n",
    "\n",
    "## Instructor: \n",
    "\n",
    "Yoh Kawano (yohman@gmail.com)\n",
    "\n",
    "\n",
    "## Teaching Assistants:\n",
    "\n",
    "Bo Liu (bliu17@g.ucla.edu)\n",
    "\n",
    "Chris Giamarino (cgiamarino@g.ucla.edu)\n",
    "\n",
    "\n",
    "## Office Hours: \n",
    "\n",
    "_Please email in advance for appointments._\n",
    "\n",
    "* Yoh: Thursdays 1PM - 3PM and by appointment\n",
    "* Bo: Thursday 5PM -6PM and by appointment\n",
    "* Chris: Thursdays 10AM-12PM and by appointment\n"
   ]
  },
  {
   "cell_type": "markdown",
   "metadata": {
    "slideshow": {
     "slide_type": "slide"
    }
   },
   "source": [
    "## Course Description\n",
    "\n",
    "Welcome to the world of planning and spatial thinking. In recent years, our relationship with maps and map-making has changed dramatically. No longer are we limited to a mode of map-making that is dominated by industry giants like Google and ESRI. Instead, a suite of data-science tools have matured to a point where they can produce similar, if not, more powerful and creative ways that advance spatial exploration. \n",
    "\n",
    "Our understanding of social phenomena through spatial constructs in urban data allows us to address questions on social justice, the environment, transportation, community development and design, amongst many other themes, and how these factors may affect different population groups in different ways. This course prepares  you for challenges in urban data beyond off-the-shelf cartographic approaches. It looks at the various components of data’s journey—acquisition, exploration, modeling, and communication through visualization—and how it enables and advances your research from a data science perspective."
   ]
  },
  {
   "cell_type": "markdown",
   "metadata": {
    "slideshow": {
     "slide_type": "slide"
    }
   },
   "source": [
    "The goal for this course is to expose you to the foundations of spatial data science. Where once there was a dearth of available digital information, we now live in a world of too much data. How can these data be transformed to human expressions and narratives that are utilized in planning? We begin with an introduction to various data science tools, and review the basics of programming with Python. Once a foundation of Python programming and data wrangling is achieved, spatial analysis through Python Libraries, and subsequently, through advanced geoprocessing will be introduced. All lessons will be based on “real” data with analytical methods addressing relevant and contemporary urban problems. At the conclusion of this course, students will be able to critically describe, analyze, and visualize spatial data for planning practices and research.\n",
    "\n",
    "While there are no prerequisites for taking this course, people who are approaching programming for the first time will admittedly find the course to be intense and challenging."
   ]
  },
  {
   "cell_type": "markdown",
   "metadata": {
    "slideshow": {
     "slide_type": "slide"
    }
   },
   "source": [
    "## Learning Objectives for UP206A\n",
    "\n",
    "At the conclusion of this course, students will be able to critically describe, analyze, and visualize spatial data for planning practices and research.\n",
    "\n",
    "Specifically, students will learn to:\n",
    "\n",
    "- Demonstrate the value of data for planning purposes through discovery, exploration, and analysis\n",
    "- Critically evaluate data and create frameworks to prepare data for research\n",
    "- Apply data science programming techniques to produce relevant visualizations that inform urban policy\n",
    "- Learn to visualize data spatially to communicate the importance of place-based informatics\n",
    "- Learn to produce publication-ready scholarly materials in the form of tables, charts, and maps"
   ]
  },
  {
   "cell_type": "markdown",
   "metadata": {
    "slideshow": {
     "slide_type": "slide"
    }
   },
   "source": [
    "## Inspirations\n",
    "\n",
    "I would be remiss if I do not mention various inspirations that have led to the creation of this course. First and foremost, the late and great [Leo Estrada](https://luskin.ucla.edu/in-memoriam-leo-estrada-urban-planning-scholar-and-champion-of-diversity), my mentor and confidant over the years (sorry, decades!), who taught GIS at our department for many decades. Leo and I spoke extensively about modifying this course to a more “modern” approach, and I am delighted and honored to uphold his legacy moving forward.\n",
    "\n",
    "Second, I have taken the liberty (with permission) to borrow ideas and materials from other courses. I specifically took inspiration from [Paul Waddell](https://ced.berkeley.edu/ced/faculty-staff/paul-waddell)’s “[Urban Informatics and Visualization](https://github.com/waddell/CP255)” course at UC Berkeley, and [Geoff Boeing](https://geoffboeing.com/about/)’s “[Data, Evidence, and Communication for the Public Good](https://github.com/gboeing/ppd534)” at the Department of Urban Planning and Spatial Analysis at USC’s Sol Price School of Public Policy."
   ]
  },
  {
   "cell_type": "markdown",
   "metadata": {
    "slideshow": {
     "slide_type": "slide"
    }
   },
   "source": [
    "## Course materials\n",
    "\n",
    "The course will almost entirely be conducted on Jupyter Notebooks. A [JupyterHub](https://jupyter.idre.ucla.edu), a web-based Jupyter Notebook environment, has been set up specifically for this class, and is available at the following [URL](https://jupyter.idre.ucla.edu). Note that you will need multi-factored authentication to login:\n",
    "\n",
    "*   [JupyterHub](https://jupyter.idre.ucla.edu) (choose UCLA)\n",
    "\n",
    "Weekly course materials, including presentations, interactive notebooks (.ipynb), and data will be made available through a course github repository (TBD) that you will interact with through your JupyterHub account."
   ]
  },
  {
   "cell_type": "markdown",
   "metadata": {
    "slideshow": {
     "slide_type": "slide"
    }
   },
   "source": [
    "## Assignments and Evaluation\n",
    "\n",
    "All assignments, unless otherwise specified, must be posted on your individual GitHub accounts or on CCLE by midnight of the Sunday prior to our class on Monday. Assignments are posted in each week's page, so make sure to read them carefully. \n",
    "\n",
    "- Participation, individual progress, coding and reading assignments 10%\n",
    "- Group assignments 40%\n",
    "   - There will be four group assignments throughout the quarter. Each assignment will be worth 25% of the total group assignment grade.\n",
    "- Mid-term 20%\n",
    "- Final report 30%"
   ]
  },
  {
   "cell_type": "markdown",
   "metadata": {
    "slideshow": {
     "slide_type": "slide"
    }
   },
   "source": [
    "## Remote zoom learning expectations\n",
    "\n",
    "Welcome to the new normal. It is expected that the 2020 Fall quarter will be conducted remotely and via zoom in its entirety. The good news is that this course—coding, data, maps!—is situated perfectly for remote learning. Nevertheless, there are some expectations and guidelines I would like to enforce in order to make this experience as fruitful and productive for all of us. First, make sure that your Internet connection and equipment are set up to use Zoom and able to share audio and video during class meetings. Let me know if there is a gap in your technology set-up as soon as possible, and we can see about finding solutions."
   ]
  },
  {
   "cell_type": "markdown",
   "metadata": {
    "slideshow": {
     "slide_type": "slide"
    }
   },
   "source": [
    "### Recording of class sessions\n",
    "\n",
    "All synchronous classes will be recorded via Zoom so that students in this course (and only students in this course) can watch or re-watch past class sessions. Please note that breakout rooms will not be recorded. I will make the recordings available on CCLE as soon as possible after each class session (usually the day after the class meeting). Recordings will live in our CCLE website. \n",
    "\n",
    "Please note that you are not allowed to record the class yourself or share the class recordings. This is to protect your FERPA rights and those of your fellow students."
   ]
  },
  {
   "cell_type": "markdown",
   "metadata": {
    "slideshow": {
     "slide_type": "slide"
    }
   },
   "source": [
    "### Sharing video\n",
    "\n",
    "In this course, being able to see one another helps to facilitate a better learning environment and promote more engaging discussions. Therefore, our default will be to expect students to have their cameras on during lectures and discussions. However, I also completely understand there may be reasons students would not want to have their cameras on. If you have any concerns about sharing your video, please email me as soon as possible and we can discuss possible adjustments. \n",
    "\n",
    "Note: You may use a background image in your video if you wish; just check in advance that this works with your device(s) and internet bandwidth.  Also, having a profile picture on your Zoom account helps humanize your presence in the course at times when you need to shut the camera off."
   ]
  },
  {
   "cell_type": "markdown",
   "metadata": {
    "slideshow": {
     "slide_type": "slide"
    }
   },
   "source": [
    "### Parents\n",
    "\n",
    "Parents deserve access to education. At all times, I strive to be inclusive to parents, and now, in our virtual learning space, with many children learning from home or schools facing sudden closures, we can expect children to be present in class from time to time.\n",
    "\n",
    "- All breastfeeding babies are welcome in our synchronous sessions as often as is necessary to support the breastfeeding relationship. I'd never want students to feel like they have to choose between feeding their baby or continuing their education.\n",
    "- Children may be visible onscreen during class sessions, either in your lap or playing in the background. Alternatively, you may turn your camera off if more privacy is required.\n",
    "- Parents or caregivers who anticipate having a child(ren) with them during class sessi ons are encouraged to wear a headset to help minimize background noise. You may mute your microphone and communicate through the chat feature at any point necessary.\n",
    "- Stepping away momentarily for childcare reasons is completely understandable and expected. Simply mute and/or turn off your camera as necessary, and rejoin us when you are able.\n",
    "- I ask that all students work with me to create a welcoming environment that is respectful of all forms of diversity, including diversity in parenting status.\n",
    "- I hope that you will feel comfortable disclosing your student-parent status to me. This is the first step in my being able to accommodate any special needs that arise. While I maintain the same high expectations for all student in my classes regardless of parenting status, I am happy to problem solve with you in a way that makes you feel supported as you strive for school-parenting balance."
   ]
  },
  {
   "cell_type": "markdown",
   "metadata": {
    "slideshow": {
     "slide_type": "slide"
    }
   },
   "source": [
    "## How to ask a technical question\n",
    "\n",
    "Given the nature of the course, you will have many, many questions along the way. However, we ask that you adhere to the following guidelines in order to make consultations as productive as possible. Students who do not follow these guidelines will be asked to reschedule.\n",
    "\n",
    "Before asking a question:\n",
    "\n",
    "1. Close all open programs, restart your computer, then try your task again\n",
    "2. Search google and stackoverflow for the topic/problem (for example, the name of the function you're struggling with or the error message you are seeing)\n",
    "3. Go back through the relevant lecture materials to look for any insights\n",
    "4. Go back through the assigned reading materials to look for any insights"
   ]
  },
  {
   "cell_type": "markdown",
   "metadata": {
    "slideshow": {
     "slide_type": "slide"
    }
   },
   "source": [
    "If the above steps haven't solved your problem, send an email (or attend office hours) and include the following information:\n",
    "\n",
    "1. A detailed description of what you're trying to do, why, and how\n",
    "2. A complete [minimal reproducible example](https://stackoverflow.com/help/minimal-reproducible-example) of your code so far (never send screenshots of code)\n",
    "3. What you've already tried to do to solve your problem and what you have learned from it (specifically, explain the results of steps 1-4 above, including relevant links from stackoverflow etc)"
   ]
  },
  {
   "cell_type": "markdown",
   "metadata": {
    "slideshow": {
     "slide_type": "slide"
    }
   },
   "source": [
    "## Readings and Resources\n",
    "\n",
    "*   Think Python 2nd Edition by Allen B. Downey\n",
    "    *   [https://greenteapress.com/wp/think-python-2e/](https://greenteapress.com/wp/think-python-2e/)\n",
    "*   Jupyter Notebooks\n",
    "    *   [https://jupyter.readthedocs.io/en/latest/index.html](https://jupyter.readthedocs.io/en/latest/index.html) "
   ]
  },
  {
   "cell_type": "markdown",
   "metadata": {
    "slideshow": {
     "slide_type": "slide"
    }
   },
   "source": [
    "## Weekly Schedule\n",
    "Weekly content is subject to change, and will be modified as needed based on class discussions, needs, and progress.\n",
    "\n",
    "### Preparation\n",
    "\n",
    "*   Fill out the [pre-class survey](https://forms.gle/KLXYXiaHef1ABNcx8)\n",
    "*   If you do not have a GitHub account, create one for the class\n",
    "    *   [https://github.com/](https://github.com/)\n",
    "*   Make sure you can log into the class JupyterHub\n",
    "    *   [JupyterHub](https://jupyter.idre.ucla.edu) (choose UCLA)"
   ]
  },
  {
   "cell_type": "markdown",
   "metadata": {
    "slideshow": {
     "slide_type": "slide"
    }
   },
   "source": [
    "### [Week 1 (10/5): Introduction to spatial data science](https://github.com/yohman/up206a/tree/master/Weeks/Week1)\n",
    "\n",
    "### [Week 2 (10/12): Data in Urban Studies: The challenge in data acquisition](https://github.com/yohman/up206a/tree/master/Weeks/Week2)\n",
    "- [Group assignment #1: Project Proposal](https://github.com/yohman/up206a/blob/master/Group%20Assignments/GroupAssignment1.md)\n",
    "\n",
    "### [Week 3 (10/19): Understanding communities: Census data profiles](https://github.com/yohman/up206a/tree/master/Weeks/Week3)\n",
    "- [Group assignment #2: Census Data Exploration](https://github.com/yohman/up206a/blob/master/Group%20Assignments/GroupAssignment2.md)\n",
    "\n",
    "### [Week 4 (10/26): Open Street Maps](https://github.com/yohman/up206a/tree/master/Weeks/Week4)\n",
    "- [4th Annual Humanitarian Mapathon with USC](https://sites.google.com/view/lamapathon/)\n",
    "\n",
    "### [Week 5 (11/2): Open data and APIs](https://github.com/yohman/up206a/tree/master/Weeks/Week5)"
   ]
  },
  {
   "cell_type": "markdown",
   "metadata": {
    "slideshow": {
     "slide_type": "slide"
    }
   },
   "source": [
    "### [Week 6 (11/9): Mid-terms](https://github.com/yohman/up206a/tree/master/Weeks/Week6)\n",
    "- [Midterms](https://github.com/yohman/up206a/tree/master/Midterm%20and%20Finals)\n",
    "\n",
    "### [Week 7 (11/16): Geo-processing with geopandas](https://github.com/yohman/up206a/tree/master/Weeks/Week7)\n",
    "- [Group assignment #3: Data Visualization](https://github.com/yohman/up206a/blob/master/Group%20Assignments/GroupAssignment3.md)\n",
    "\n",
    "### [Week 8 (11/23): Advanced methods in spatial analysis](https://github.com/yohman/up206a/tree/master/Weeks/Week8)\n",
    "\n",
    "### [Week 9 (11/30): Spatial Data Science: R to the “r”escue](https://github.com/yohman/up206a/tree/master/Weeks/Week9)\n",
    "- [Group assignment #4: Spatial Analysis](https://github.com/yohman/up206a/blob/master/Group%20Assignments/GroupAssignment4.md)\n",
    "\n",
    "### [Week 10 (12/7): Final Project Preparation](https://github.com/yohman/up206a/tree/master/Weeks/Week10)"
   ]
  },
  {
   "cell_type": "markdown",
   "metadata": {
    "slideshow": {
     "slide_type": "slide"
    }
   },
   "source": [
    "## Resources:\n",
    "\n",
    "*   [gboeing/ppd534: USC PPD534: Data, Evidence, and Communication for the Public Good](https://github.com/gboeing/ppd534)\n",
    "    *   University of Southern California\n",
    "    *   Professor: Geoff Boeing\n",
    "*   [CP255: Urban Informatics and Visualization](https://github.com/waddell/CP255)\n",
    "    *   University of California, Berkeley Department of City and Regional Planning\n",
    "    *   Professor: Paul Waddell\n",
    "*   [Automating GIS-processes 2019](https://automating-gis-processes.github.io/site/)\n",
    "    *   University of Helsinki, Finland\n",
    "*   [Computing for the Social Sciences](https://cfss.uchicago.edu/notes/) (R focused)\n",
    "    *   University of Chicago"
   ]
  },
  {
   "cell_type": "markdown",
   "metadata": {
    "slideshow": {
     "slide_type": "slide"
    }
   },
   "source": [
    "## Statement of Affirmation\n",
    "\n",
    "I intend to make this classroom a space that affirms all identities and perspectives, including your race, color, national origin, ethnic origin, ancestry, marital status, religion, age, sex, gender, gender expression, gender identity, transgender status, pregnancy, physical or mental disability, medical condition, genetic information (including family medical history), sexual orientation, political ideology and affiliations, citizenship, or service in the uniformed services. Regardless of background, all students have a right to an equitable education. Because of the multi-faceted and complex nature of our identities, it is imperative that we are committed to affirming one another’s perspectives as a community for all enrolled in this course. I encourage all members to embrace and learn from the diversity in this classroom, school, and university. I want to highlight that discrimination, harassment, or forms of hateful transgressions will not be tolerated in our learning environment. If you have any recommendations about how to make our environment more inclusive please feel free to let me know. "
   ]
  },
  {
   "cell_type": "markdown",
   "metadata": {
    "slideshow": {
     "slide_type": "slide"
    }
   },
   "source": [
    "## Accommodations based on disability\n",
    "\n",
    "If you are already registered with the Center for Accessible Education (CAE), please request your Letter of Accommodation on the Student Portal. If you are seeking registration with the CAE, please submit your request for accommodations via the CAE website. Please note that the CAE does not send accommodations letters to instructors--you must request that I view the letter in the online Faculty Portal. Once you have requested your accommodations via the Student Portal, please notify me immediately so I can view your letter.\n",
    "\n",
    "Students with disabilities requiring academic accommodations should submit their request for accommodations as soon as possible, as it may take up to two weeks to review the request. For more information, please visit the CAE website (www.cae.ucla.edu), visit the CAE at A255 Murphy Hall, or contact by phone at (310) 825-1501.\n",
    "\n",
    "\n",
    "## Covid-19 information \n",
    "The Luskin School has a Covid-19 FAQ resource page compiling information relevant to Covid-19 and its impacts.  The page is updated periodically."
   ]
  },
  {
   "cell_type": "code",
   "execution_count": null,
   "metadata": {},
   "outputs": [],
   "source": []
  }
 ],
 "metadata": {
  "celltoolbar": "Slideshow",
  "kernelspec": {
   "display_name": "Python 3",
   "language": "python",
   "name": "python3"
  },
  "language_info": {
   "codemirror_mode": {
    "name": "ipython",
    "version": 3
   },
   "file_extension": ".py",
   "mimetype": "text/x-python",
   "name": "python",
   "nbconvert_exporter": "python",
   "pygments_lexer": "ipython3",
   "version": "3.8.5"
  },
  "toc": {
   "base_numbering": 1,
   "nav_menu": {},
   "number_sections": true,
   "sideBar": true,
   "skip_h1_title": false,
   "title_cell": "Table of Contents",
   "title_sidebar": "Contents",
   "toc_cell": false,
   "toc_position": {},
   "toc_section_display": true,
   "toc_window_display": false
  }
 },
 "nbformat": 4,
 "nbformat_minor": 4
}
