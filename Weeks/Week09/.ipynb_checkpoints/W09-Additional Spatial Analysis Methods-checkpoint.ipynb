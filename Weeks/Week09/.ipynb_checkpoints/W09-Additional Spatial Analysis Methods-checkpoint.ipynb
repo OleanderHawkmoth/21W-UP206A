{
 "cells": [
  {
   "cell_type": "markdown",
   "metadata": {},
   "source": [
    "\n",
    "# Point Pattern Analysis\n",
    "\n",
    "In our previous lab, we looked at spatial autocorrelation as a means to extract statistical significance in our datas spatial clustering tendencies. We did so by summarizing point data by small geographic boundaries, spatially joining arrest data to census block groups. But what if we did not care to summarize data by geographic boundaries, but rather simply look at the the location of points to deduct statistical spatial patterns? In this lab, we look at various methods to conduct point pattern analysis, while also introducing interactive notebook widgets to explore our data."
   ]
  },
  {
   "cell_type": "markdown",
   "metadata": {},
   "source": [
    "## Libraries"
   ]
  },
  {
   "cell_type": "code",
   "execution_count": null,
   "metadata": {},
   "outputs": [],
   "source": [
    "# !pip install pysal"
   ]
  },
  {
   "cell_type": "code",
   "execution_count": null,
   "metadata": {},
   "outputs": [],
   "source": [
    "import geopandas as gpd\n",
    "import matplotlib.pyplot as plt\n",
    "import pandas as pd\n",
    "\n",
    "# for basemaps\n",
    "import contextily as ctx\n",
    "\n",
    "# to import data from LA Data portal\n",
    "from sodapy import Socrata\n",
    "\n",
    "# data viz!\n",
    "import seaborn as sns\n",
    "\n",
    "import plotly.express as px\n",
    "\n",
    "# to explore point patterns\n",
    "from pointpats import centrography"
   ]
  },
  {
   "cell_type": "markdown",
   "metadata": {},
   "source": [
    "## Arrest Data"
   ]
  },
  {
   "cell_type": "code",
   "execution_count": null,
   "metadata": {
    "cell_id": "00009-684c0663-6a05-4f66-82c3-63b259473b81",
    "deepnote_cell_type": "code",
    "execution_millis": 4626,
    "execution_start": 1605804430393,
    "output_cleared": false,
    "scrolled": true,
    "slideshow": {
     "slide_type": "fragment"
    },
    "source_hash": "a077b4d5"
   },
   "outputs": [],
   "source": [
    "# connect to the data portal\n",
    "client = Socrata(\"data.lacity.org\", None)\n",
    "\n",
    "results = client.get(\"amvf-fr72\", \n",
    "                     limit=50000,\n",
    "                     where = \"arst_date between '2020-03-01T00:00:00' and '2020-10-30T00:00:00'\",\n",
    "                     order='arst_date desc')\n",
    "\n",
    "# Convert to pandas DataFrame\n",
    "arrests = pd.DataFrame.from_records(results)\n"
   ]
  },
  {
   "cell_type": "code",
   "execution_count": null,
   "metadata": {
    "cell_id": "00009-684c0663-6a05-4f66-82c3-63b259473b81",
    "deepnote_cell_type": "code",
    "execution_millis": 4626,
    "execution_start": 1605804430393,
    "output_cleared": false,
    "scrolled": true,
    "slideshow": {
     "slide_type": "fragment"
    },
    "source_hash": "a077b4d5"
   },
   "outputs": [],
   "source": [
    "# connect to the data portal\n",
    "client = Socrata(\"data.lacity.org\", None)\n",
    "\n",
    "results = client.get(\"2nrs-mtv8\", \n",
    "                     limit=50000,\n",
    "                     where = \"date_rptd >= '2020-09-01T00:00:00'\",\n",
    "                     order='date_rptd desc')\n",
    "\n",
    "# Convert to pandas DataFrame\n",
    "df = pd.DataFrame.from_records(results)\n"
   ]
  },
  {
   "cell_type": "code",
   "execution_count": null,
   "metadata": {},
   "outputs": [],
   "source": [
    "df.shape"
   ]
  },
  {
   "cell_type": "code",
   "execution_count": null,
   "metadata": {
    "cell_id": "00012-11bd538c-28c8-4c61-9994-e819c3feb7e8",
    "deepnote_cell_type": "code",
    "execution_millis": 409,
    "execution_start": 1605804442578,
    "output_cleared": false,
    "slideshow": {
     "slide_type": "fragment"
    },
    "source_hash": "dcfb7ede"
   },
   "outputs": [],
   "source": [
    "# convert pandas dataframe to geodataframe\n",
    "df = gpd.GeoDataFrame(df, \n",
    "                     crs='EPSG:4326',\n",
    "                     geometry=gpd.points_from_xy(df.lon, df.lat))"
   ]
  },
  {
   "cell_type": "code",
   "execution_count": null,
   "metadata": {
    "cell_id": "00014-5b46baf9-e870-4232-a425-28f0d65fb571",
    "deepnote_cell_type": "code",
    "execution_millis": 60,
    "execution_start": 1605804598151,
    "output_cleared": false,
    "slideshow": {
     "slide_type": "fragment"
    },
    "source_hash": "ced73d7"
   },
   "outputs": [],
   "source": [
    "# convert lat/lon to floats\n",
    "df.lon = df.lon.astype('float')\n",
    "df.lat = df.lat.astype('float')\n",
    "df.vict_age = df.vict_age.astype('int')"
   ]
  },
  {
   "cell_type": "code",
   "execution_count": null,
   "metadata": {
    "cell_id": "00018-524c230d-9024-4849-9613-1d93d45b8d1b",
    "deepnote_cell_type": "code",
    "execution_millis": 37,
    "execution_start": 1605804635603,
    "output_cleared": false,
    "slideshow": {
     "slide_type": "slide"
    },
    "source_hash": "49d5551e"
   },
   "outputs": [],
   "source": [
    "# drop the unmapped rows\n",
    "df.drop(df[df.lon==0].index,inplace=True)"
   ]
  },
  {
   "cell_type": "code",
   "execution_count": null,
   "metadata": {},
   "outputs": [],
   "source": [
    "# filter columns\n",
    "df=df[['date_rptd','area_name','vict_age','vict_sex','vict_descent','crm_cd_desc','geometry']]"
   ]
  },
  {
   "cell_type": "code",
   "execution_count": null,
   "metadata": {},
   "outputs": [],
   "source": [
    "# rename columns\n",
    "df.columns = ['date','area','age','sex','race','crime','geometry']"
   ]
  },
  {
   "cell_type": "code",
   "execution_count": null,
   "metadata": {},
   "outputs": [],
   "source": [
    "# project to web mercator\n",
    "df=df.to_crs('EPSG:3857')"
   ]
  },
  {
   "cell_type": "code",
   "execution_count": null,
   "metadata": {},
   "outputs": [],
   "source": [
    "# drop rows with null values\n",
    "df = df.dropna()"
   ]
  },
  {
   "cell_type": "code",
   "execution_count": null,
   "metadata": {},
   "outputs": [],
   "source": [
    "# drop rows where age == 0\n",
    "df = df[df.age!=0]"
   ]
  },
  {
   "cell_type": "code",
   "execution_count": null,
   "metadata": {},
   "outputs": [],
   "source": [
    "df.shape"
   ]
  },
  {
   "cell_type": "code",
   "execution_count": null,
   "metadata": {},
   "outputs": [],
   "source": [
    "df.sample(20)"
   ]
  },
  {
   "cell_type": "markdown",
   "metadata": {},
   "source": [
    "## Heat maps\n",
    "This lab will focus on visualing point densities in a variety of ways. Before we begin, let's have a look at the arrest data in its \"raw\" format, by simply creating a point map: a single point for its given location on a grid."
   ]
  },
  {
   "cell_type": "code",
   "execution_count": null,
   "metadata": {},
   "outputs": [],
   "source": [
    "df.plot(figsize=(12,12),\n",
    "             markersize=0.5)"
   ]
  },
  {
   "cell_type": "markdown",
   "metadata": {},
   "source": [
    "The resulting plot tells us a lot about the data we have imported into the notebook. The overall shape, if you are familiar with Los Angeles, gives a sense of the physical space that is defined by its city boundary. Even in the absence of basemaps, satellite imagery, and other layers of information, the divided city of angels comes to life: from the \"valley\" in the northwest, the Santa Monica Mountains that divide that north with the Westside, highlighted by the empty rectangle that is Santa Monica, and the blob in center right that defines the contours of downtown Los Angeles, accentuated by the pathway to the port heading south towards Long Beach. And through this cacophony of points, we can begin to detect point patterns that delineate streets and certain neighborhoods appear to be more concentrated than others. As much as the blue dots represent actual data points, the absence of their presence also informs\n",
    "\n",
    "To begin with our exploration on point patterns,"
   ]
  },
  {
   "cell_type": "markdown",
   "metadata": {},
   "source": [
    "## Interactive exploration\n",
    "\n",
    "Jupyter notebooks is a unique coding platform that allows you to mix documentation (markdown cells) with interactive code cells. There is, however, another level of interactivity that can be developed. By \"interactive\" we mean to say that it utilizes the interactive features of the web, allowing users to use dropdowns and sliders to manipulate the output.\n",
    "\n",
    "The presence of these interactive widgets allows us to explore the data without the need to consistently modify code cells to change parameters. It is, in a sense, a snazzy and useful utility to your notebook.\n",
    "\n",
    "To add interactivity to your cell output, the following steps are required:\n",
    "\n",
    "- import the interact library\n",
    "- create a function with at least one argument\n",
    "- if the argument is numeric, a slider will be generated\n",
    "- if the argument is categorical, provide a list of values to generate a dropdown menu"
   ]
  },
  {
   "cell_type": "markdown",
   "metadata": {},
   "source": [
    "For this section, we will build an interactive map of Los Angeles showing the location of arrests by arrest type. A dropdown menu will allow you to change the crime type and update the map."
   ]
  },
  {
   "cell_type": "code",
   "execution_count": null,
   "metadata": {},
   "outputs": [],
   "source": [
    "# import that interact library\n",
    "import ipywidgets as widgets\n",
    "from ipywidgets import interact, interact_manual"
   ]
  },
  {
   "cell_type": "code",
   "execution_count": null,
   "metadata": {
    "scrolled": false
   },
   "outputs": [],
   "source": [
    "# get the top 50 crime types into a list\n",
    "top_50_crimes = df.crime.value_counts().head(50).index.tolist()\n",
    "top_50_crimes"
   ]
  },
  {
   "cell_type": "code",
   "execution_count": null,
   "metadata": {},
   "outputs": [],
   "source": [
    "df[df.crime == 'BATTERY - SIMPLE ASSAULT'].head()"
   ]
  },
  {
   "cell_type": "code",
   "execution_count": null,
   "metadata": {},
   "outputs": [],
   "source": [
    "# use display instead of print if it is not the last output in a cell\n",
    "display(df[df.crime == 'BATTERY - SIMPLE ASSAULT'].head()) \n",
    "\n",
    "# a regular filtered data output\n",
    "ax = df[df.crime == 'BATTERY - SIMPLE ASSAULT'].plot(figsize=(9,9), markersize=1)\n",
    "ax.axis('off')\n",
    "\n",
    "# add a basemap\n",
    "ctx.add_basemap(ax,source=ctx.providers.CartoDB.DarkMatter)"
   ]
  },
  {
   "cell_type": "code",
   "execution_count": null,
   "metadata": {},
   "outputs": [],
   "source": [
    "# create a function\n",
    "def crime_by(crime='BATTERY - SIMPLE ASSAULT'):\n",
    "    # use display instead of print if it is not the last output in a cell\n",
    "    display(df[df.crime == crime].head()) \n",
    "\n",
    "    # a regular filtered data output\n",
    "    ax = df[df.crime == crime].plot(figsize=(9,9), markersize=2)\n",
    "    ax.axis('off')\n",
    "    \n",
    "    # add a basemap\n",
    "    ctx.add_basemap(ax,source=ctx.providers.CartoDB.DarkMatter)"
   ]
  },
  {
   "cell_type": "code",
   "execution_count": null,
   "metadata": {},
   "outputs": [],
   "source": [
    "crime_by(crime = 'BURGLARY')"
   ]
  },
  {
   "cell_type": "markdown",
   "metadata": {},
   "source": [
    "Next, we use an interactive feature to create a drop down for our function."
   ]
  },
  {
   "cell_type": "code",
   "execution_count": null,
   "metadata": {},
   "outputs": [],
   "source": [
    "@interact\n",
    "def arrests_by(crime=top_50_crimes):\n",
    "    # use display instead of print if it is not the last output in a cell\n",
    "    display(df[df.crime == crime].head()) \n",
    "\n",
    "    # a regular filtered data output\n",
    "    ax = df[df.crime == crime].plot(figsize=(9,9), markersize=10)\n",
    "    ax.axis('off')\n",
    "    # add a basemap\n",
    "    ctx.add_basemap(ax,source=ctx.providers.CartoDB.DarkMatter)"
   ]
  },
  {
   "cell_type": "code",
   "execution_count": null,
   "metadata": {},
   "outputs": [],
   "source": [
    "@interact\n",
    "def arrests_by(crime=top_50_crimes,\n",
    "               area=df['area'].unique().tolist()):\n",
    "    # use display instead of print if it is not the last output in a cell\n",
    "    display(df[(df.crime == crime) & (df['area'] == area)].head()) \n",
    "\n",
    "    # a regular filtered data output\n",
    "    ax = df[(df.crime == crime) & (df['area'] == area)].plot(figsize=(9,9), markersize=10)\n",
    "    ax.axis('off')\n",
    "    # add a basemap\n",
    "    ctx.add_basemap(ax,source=ctx.providers.CartoDB.DarkMatter)"
   ]
  },
  {
   "cell_type": "markdown",
   "metadata": {},
   "source": [
    "## Seaborn Plots\n",
    "> Seaborn is a Python data visualization library based on matplotlib. It provides a high-level interface for drawing attractive and informative statistical graphics.\n",
    "\n",
    "-https://seaborn.pydata.org/"
   ]
  },
  {
   "cell_type": "code",
   "execution_count": null,
   "metadata": {},
   "outputs": [],
   "source": [
    "# we'll work in Web Mercator\n",
    "df = df.to_crs('EPSG:3857')"
   ]
  },
  {
   "cell_type": "code",
   "execution_count": null,
   "metadata": {},
   "outputs": [],
   "source": [
    "# seaborn needs an x and y column so let's extract it from the geometry field\n",
    "df['x'] = df.geometry.x\n",
    "df['y'] = df.geometry.y"
   ]
  },
  {
   "cell_type": "code",
   "execution_count": null,
   "metadata": {},
   "outputs": [],
   "source": [
    "df.head()"
   ]
  },
  {
   "cell_type": "code",
   "execution_count": null,
   "metadata": {},
   "outputs": [],
   "source": [
    "sns.relplot(data=df,\n",
    "            x='x', \n",
    "            y='y',\n",
    "            hue='area')"
   ]
  },
  {
   "cell_type": "code",
   "execution_count": null,
   "metadata": {},
   "outputs": [],
   "source": [
    "sns.relplot(data=df[df['area']=='Hollywood'],\n",
    "            x='x', \n",
    "            y='y')"
   ]
  },
  {
   "cell_type": "code",
   "execution_count": null,
   "metadata": {},
   "outputs": [],
   "source": [
    "sns.relplot(data=df,\n",
    "            x='x', \n",
    "            y='y',\n",
    "            hue='sex')"
   ]
  },
  {
   "cell_type": "code",
   "execution_count": null,
   "metadata": {},
   "outputs": [],
   "source": [
    "sns.relplot(data=df,\n",
    "            x='x', \n",
    "            y='y',\n",
    "            hue='sex',\n",
    "            style='sex')"
   ]
  },
  {
   "cell_type": "code",
   "execution_count": null,
   "metadata": {},
   "outputs": [],
   "source": [
    "sns.relplot(data=df,\n",
    "            x='x', \n",
    "            y='y',\n",
    "            hue='sex',\n",
    "            style='sex',\n",
    "            col='race',\n",
    "            col_wrap=4)"
   ]
  },
  {
   "cell_type": "markdown",
   "metadata": {},
   "source": [
    "## Distribution plots"
   ]
  },
  {
   "cell_type": "code",
   "execution_count": null,
   "metadata": {},
   "outputs": [],
   "source": [
    "# create a subset\n",
    "data_mini = df[df.race.isin(['H','B'])]"
   ]
  },
  {
   "cell_type": "code",
   "execution_count": null,
   "metadata": {
    "scrolled": false
   },
   "outputs": [],
   "source": [
    "g = sns.jointplot(data = data_mini,\n",
    "                  x='x', \n",
    "                  y='y',\n",
    "                  s=10)"
   ]
  },
  {
   "cell_type": "code",
   "execution_count": null,
   "metadata": {
    "scrolled": false
   },
   "outputs": [],
   "source": [
    "g = sns.jointplot(data = data_mini,\n",
    "                  x='x', \n",
    "                  y='y',\n",
    "                  hue='race',\n",
    "                  s=10)"
   ]
  },
  {
   "cell_type": "code",
   "execution_count": null,
   "metadata": {},
   "outputs": [],
   "source": [
    "sns.jointplot(data = data_mini,\n",
    "              x='x', \n",
    "              y='y', \n",
    "              kind=\"hist\",\n",
    "              hue='race')"
   ]
  },
  {
   "cell_type": "code",
   "execution_count": null,
   "metadata": {},
   "outputs": [],
   "source": [
    "sns.jointplot(data = data_mini,\n",
    "              x='x', \n",
    "              y='y', \n",
    "              kind='kde')"
   ]
  },
  {
   "cell_type": "code",
   "execution_count": null,
   "metadata": {},
   "outputs": [],
   "source": [
    "sns.jointplot(data = data_mini,\n",
    "              x='x', \n",
    "              y='y', \n",
    "              kind='kde',\n",
    "              hue='race')"
   ]
  },
  {
   "cell_type": "code",
   "execution_count": null,
   "metadata": {},
   "outputs": [],
   "source": [
    "# combining seaborn charts\n",
    "g = sns.jointplot(data = data_mini,\n",
    "                  x='x', \n",
    "                  y='y', \n",
    "                  hue='race',\n",
    "                  s=10,\n",
    "                  alpha=0.5)\n",
    "g.plot_joint(sns.kdeplot, \n",
    "             hue='race')"
   ]
  },
  {
   "cell_type": "markdown",
   "metadata": {},
   "source": [
    "## Heatmap\n",
    "\n",
    "The `kde` jointplot c"
   ]
  },
  {
   "cell_type": "code",
   "execution_count": null,
   "metadata": {},
   "outputs": [],
   "source": [
    "# Set up figure and axis\n",
    "f, ax = plt.subplots(1, figsize=(9, 9))\n",
    "\n",
    "# Generate and add KDE with a shading of 50 gradients \n",
    "# coloured contours, 75% of transparency,\n",
    "# and the reverse viridis colormap\n",
    "sns.kdeplot(x = df[df.race=='H'].x, \n",
    "                y=df[df.race=='H'].y,\n",
    "                n_levels=20, \n",
    "                shade=False,\n",
    "#                 shade_lowest=False,\n",
    "#                 thresh=0.1,    \n",
    "                alpha=0.5, \n",
    "                cmap='Reds')\n",
    "\n",
    "# Remove axes\n",
    "ax.set_axis_off()\n",
    "\n",
    "# add a basemap\n",
    "ctx.add_basemap(ax,source=ctx.providers.CartoDB.DarkMatter)"
   ]
  },
  {
   "cell_type": "markdown",
   "metadata": {},
   "source": [
    "## Centrography"
   ]
  },
  {
   "cell_type": "code",
   "execution_count": null,
   "metadata": {},
   "outputs": [],
   "source": [
    "# create new columns for x and y values from the geometry column\n",
    "df['x'] = df.geometry.x\n",
    "df['y'] = df.geometry.y"
   ]
  },
  {
   "cell_type": "code",
   "execution_count": null,
   "metadata": {},
   "outputs": [],
   "source": [
    "# compute the mean and median centers\n",
    "mean_center = centrography.mean_center(df[['x','y']])\n",
    "med_center = centrography.euclidean_median(df[['x','y']])"
   ]
  },
  {
   "cell_type": "code",
   "execution_count": null,
   "metadata": {},
   "outputs": [],
   "source": [
    "print(mean_center[1])"
   ]
  },
  {
   "cell_type": "code",
   "execution_count": null,
   "metadata": {},
   "outputs": [],
   "source": [
    "# Set up figure and axis\n",
    "f, ax = plt.subplots(1, figsize=(9, 9))\n",
    "\n",
    "# Plot points\n",
    "ax.scatter(df['x'], df['y'], s=0.75)\n",
    "ax.scatter(*mean_center, color='red', marker='x', label='Mean Center')\n",
    "ax.scatter(*med_center, color='limegreen', marker='o', label='Median Center')\n",
    "\n",
    "ax.legend()\n",
    "\n",
    "# add a basemap\n",
    "ctx.add_basemap(ax,source=ctx.providers.CartoDB.DarkMatter)\n",
    "# Display\n",
    "plt.show()"
   ]
  },
  {
   "cell_type": "code",
   "execution_count": null,
   "metadata": {},
   "outputs": [],
   "source": [
    "centrography.std_distance(df[['x','y']])"
   ]
  },
  {
   "cell_type": "code",
   "execution_count": null,
   "metadata": {},
   "outputs": [],
   "source": [
    "major, minor, rotation = centrography.ellipse(df[['x','y']])"
   ]
  },
  {
   "cell_type": "code",
   "execution_count": null,
   "metadata": {},
   "outputs": [],
   "source": [
    "from matplotlib.patches import Ellipse\n",
    "import numpy"
   ]
  },
  {
   "cell_type": "code",
   "execution_count": null,
   "metadata": {},
   "outputs": [],
   "source": [
    "# filter the data by race\n",
    "race = 'W'\n",
    "crime_filtered = df[df.race == race]\n",
    "\n",
    "# mean center and median\n",
    "mean_center = centrography.mean_center(crime_filtered[['x','y']])\n",
    "med_center = centrography.euclidean_median(crime_filtered[['x','y']])\n",
    "\n",
    "# standard ellipse\n",
    "major, minor, rotation = centrography.ellipse(crime_filtered[['x','y']])\n",
    "\n",
    "# Set up figure and axis\n",
    "f, ax = plt.subplots(1, figsize=(9, 9))\n",
    "\n",
    "# plot arrest points\n",
    "ax.scatter(crime_filtered['x'], crime_filtered['y'], s=0.75)\n",
    "\n",
    "# add the mean and median center points\n",
    "ax.scatter(*mean_center, color='red', marker='x', label='Mean Center')\n",
    "ax.scatter(*med_center, color='limegreen', marker='o', label='Median Center')\n",
    "\n",
    "# heatmap\n",
    "sns.kdeplot(x = crime_filtered.geometry.x, \n",
    "            y = crime_filtered.geometry.y,\n",
    "            n_levels=20, \n",
    "            shade=False,\n",
    "            thresh=0.1,\n",
    "            alpha=0.3, \n",
    "            cmap='Reds', \n",
    "            ax=ax)\n",
    "\n",
    "# Construct the standard ellipse using matplotlib\n",
    "ellipse = Ellipse(xy=mean_center, # center the ellipse on our mean center\n",
    "                  width=major*2, # centrography.ellipse db_filtered\n",
    "                  height=minor*2, \n",
    "                  angle = numpy.rad2deg(rotation), # Angles for this are in degrees, not radians\n",
    "                  facecolor='none', \n",
    "                  edgecolor='red', linestyle='--',\n",
    "                  label='Std. Ellipse')\n",
    "\n",
    "ax.add_patch(ellipse)\n",
    "\n",
    "ax.legend()\n",
    "\n",
    "ax.axis('Off')\n",
    "\n",
    "ax.set_title(str(len(crime_filtered)) + ' incidents of crime with reported victim descent \"' + race + '\"')\n",
    "\n",
    "# add a basemap\n",
    "ctx.add_basemap(ax,source=ctx.providers.CartoDB.DarkMatter)\n",
    "# Display\n",
    "plt.show()"
   ]
  },
  {
   "cell_type": "code",
   "execution_count": null,
   "metadata": {},
   "outputs": [],
   "source": [
    "@interact\n",
    "def crime_ellipse(race=df.race.unique().tolist()):\n",
    "    # filter the data by race\n",
    "    crime_filtered = df[df.race == race]\n",
    "\n",
    "    # mean center and median\n",
    "    mean_center = centrography.mean_center(crime_filtered[['x','y']])\n",
    "    med_center = centrography.euclidean_median(crime_filtered[['x','y']])\n",
    "\n",
    "    # standard ellipse\n",
    "    major, minor, rotation = centrography.ellipse(crime_filtered[['x','y']])\n",
    "\n",
    "    # Set up figure and axis\n",
    "    f, ax = plt.subplots(1, figsize=(9, 9))\n",
    "\n",
    "    # plot arrest points\n",
    "    ax.scatter(crime_filtered['x'], crime_filtered['y'], s=0.75)\n",
    "\n",
    "    # add the mean and median center points\n",
    "    ax.scatter(*mean_center, color='red', marker='x', label='Mean Center')\n",
    "    ax.scatter(*med_center, color='limegreen', marker='o', label='Median Center')\n",
    "\n",
    "    # heatmap\n",
    "    sns.kdeplot(x = crime_filtered.geometry.x, \n",
    "                y = crime_filtered.geometry.y,\n",
    "                n_levels=20, \n",
    "                shade=False,\n",
    "                thresh=0.1,\n",
    "                alpha=0.3, \n",
    "                cmap='Reds', \n",
    "                ax=ax)\n",
    "\n",
    "    # Construct the standard ellipse using matplotlib\n",
    "    ellipse = Ellipse(xy=mean_center, # center the ellipse on our mean center\n",
    "                      width=major*2, # centrography.ellipse db_filtered\n",
    "                      height=minor*2, \n",
    "                      angle = numpy.rad2deg(rotation), # Angles for this are in degrees, not radians\n",
    "                      facecolor='none', \n",
    "                      edgecolor='red', linestyle='--',\n",
    "                      label='Std. Ellipse')\n",
    "\n",
    "    ax.add_patch(ellipse)\n",
    "\n",
    "    ax.legend()\n",
    "\n",
    "    ax.axis('Off')\n",
    "\n",
    "    ax.set_title(str(len(crime_filtered)) + ' incidents of crime with reported victim descent \"' + race + '\"')\n",
    "\n",
    "    # add a basemap\n",
    "    ctx.add_basemap(ax,source=ctx.providers.CartoDB.DarkMatter)\n",
    "    # Display\n",
    "    plt.show()"
   ]
  },
  {
   "cell_type": "code",
   "execution_count": null,
   "metadata": {
    "scrolled": false
   },
   "outputs": [],
   "source": [
    "races=df.race.unique().tolist()\n",
    "for race in races:\n",
    "    crime_ellipse(race)"
   ]
  },
  {
   "cell_type": "code",
   "execution_count": null,
   "metadata": {},
   "outputs": [],
   "source": []
  }
 ],
 "metadata": {
  "kernelspec": {
   "display_name": "Python 3",
   "language": "python",
   "name": "python3"
  },
  "language_info": {
   "codemirror_mode": {
    "name": "ipython",
    "version": 3
   },
   "file_extension": ".py",
   "mimetype": "text/x-python",
   "name": "python",
   "nbconvert_exporter": "python",
   "pygments_lexer": "ipython3",
   "version": "3.8.5"
  },
  "toc": {
   "base_numbering": 1,
   "nav_menu": {},
   "number_sections": true,
   "sideBar": true,
   "skip_h1_title": false,
   "title_cell": "Table of Contents",
   "title_sidebar": "Contents",
   "toc_cell": false,
   "toc_position": {},
   "toc_section_display": true,
   "toc_window_display": true
  }
 },
 "nbformat": 4,
 "nbformat_minor": 4
}
