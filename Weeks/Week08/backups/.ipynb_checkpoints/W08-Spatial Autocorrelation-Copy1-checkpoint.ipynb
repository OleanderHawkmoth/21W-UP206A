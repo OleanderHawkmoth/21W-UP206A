{
 "cells": [
  {
   "cell_type": "markdown",
   "metadata": {
    "cell_id": "00000-df0628a5-dfb4-4e7c-ac45-e80b52c54132",
    "deepnote_cell_type": "markdown"
   },
   "source": [
    "# Spatial Autocorrelation\n",
    "\n",
    "<img src=\"images/sa.png\" width=600>\n",
    "\n",
    "Visual interpretations are meaningful ways to determine spatial trends in our data. However, underlying factors—such as inconsistent geographies, scale, data gaps, overlapping data—have the potential to produce incorrect assumptions, as valuable information may be conveniently hidden from the visual output.\n",
    "\n",
    "One way to address this issue is to amend your visual output with geo-statistical validation. In this lab, we will look at one such approach: Spatial Autocorrelation. Spatial autocorrelation addresses the so-called \"First Law of Geography\":\n",
    "\n",
    "> “Everything is related to everything else. But near things are more related than distant things”. Waldo Tobler’s (1969) First Law of Geography\n",
    "\n",
    "In other words, things that happen somewhere are likely to also happen at nearby locations.\n",
    "\n",
    "In this lab, we take on the controversial topic of policing in Los Angeles, specifically looking at arrest records from the LAPD. Do arrest locations have a statistical significant tendency to cluster in certain communities? To answer this question, we not only look at the location of recorded arrests in the city, but compare these locations with other arrests. In short, we are seeking to see where spatial correlations occur based on the data. Our approach is:\n",
    "\n",
    "1. import census block group boundaries for Los Angeles\n",
    "1. import arrest data from the LA Open Data Portal\n",
    "1. spatially join the two datasets\n",
    "1. create a census block group geodataframe with a column for number of arrests\n",
    "1. conduct [global spatial autocorrelation](https://geographicdata.science/book/notebooks/06_spatial_autocorrelation.html) using Moran's I\n",
    "1. conduct [local spatial autocorrelation](https://geographicdata.science/book/notebooks/07_local_autocorrelation.html) using Local Indicators of Spatial Association (LISAs)"
   ]
  },
  {
   "cell_type": "markdown",
   "metadata": {},
   "source": [
    "## Libraries to use"
   ]
  },
  {
   "cell_type": "code",
   "execution_count": null,
   "metadata": {
    "cell_id": "00001-85a84e8b-13d6-4356-8656-408ce2a2630c",
    "deepnote_cell_type": "code",
    "execution_millis": 1181,
    "execution_start": 1605804400268,
    "output_cleared": false,
    "source_hash": "bc3fef15"
   },
   "outputs": [],
   "source": [
    "# to read and wrangle data\n",
    "import pandas as pd\n",
    "\n",
    "# to import data from LA Data portal\n",
    "from sodapy import Socrata\n",
    "\n",
    "# to create spatial data\n",
    "import geopandas as gpd\n",
    "\n",
    "# for basemaps\n",
    "import contextily as ctx\n",
    "\n",
    "# For spatial statistics\n",
    "import esda\n",
    "from esda.moran import Moran, Moran_Local\n",
    "\n",
    "import splot\n",
    "from splot.esda import moran_scatterplot, plot_moran, lisa_cluster,plot_moran_simulation\n",
    "\n",
    "import libpysal as lps\n",
    "\n",
    "# Graphics\n",
    "import matplotlib.pyplot as plt\n",
    "import plotly.express as px"
   ]
  },
  {
   "cell_type": "markdown",
   "metadata": {
    "cell_id": "00002-8c57606b-b800-4154-99ce-86d0e45b3499",
    "deepnote_cell_type": "markdown",
    "slideshow": {
     "slide_type": "slide"
    }
   },
   "source": [
    "## Block Groups\n",
    "\n",
    "Our first task is to bring in a geography that will allow us to summarize the location of arrests. The smaller the geography, the better our spatial correlation results will be. Short of creating our own grid, the census block groups provides an easily accessible boundary layer at a human scale. Additionally, working with census geographies will allow for future analyses that may include census data.\n",
    "\n",
    "* Date source: https://geohub.lacity.org/datasets/9c040508fab24953b74921356fd94b1d_2"
   ]
  },
  {
   "cell_type": "code",
   "execution_count": null,
   "metadata": {
    "cell_id": "00003-27a9c38f-0d55-4f36-9268-f26b88e2ae29",
    "deepnote_cell_type": "code",
    "execution_millis": 3186,
    "execution_start": 1605804403202,
    "output_cleared": false,
    "slideshow": {
     "slide_type": "fragment"
    },
    "source_hash": "b8c3febb"
   },
   "outputs": [],
   "source": [
    "# get census tract boundaries from the LA City's GeoHub\n",
    "gdf = gpd.read_file('https://opendata.arcgis.com/datasets/9c040508fab24953b74921356fd94b1d_2.geojson')"
   ]
  },
  {
   "cell_type": "code",
   "execution_count": null,
   "metadata": {
    "cell_id": "00004-e26db948-08d3-46f9-b0ce-1da8563c02d9",
    "deepnote_cell_type": "code",
    "execution_millis": 7,
    "execution_start": 1605804407207,
    "output_cleared": false,
    "source_hash": "494d51a4"
   },
   "outputs": [],
   "source": [
    "gdf.info()"
   ]
  },
  {
   "cell_type": "code",
   "execution_count": null,
   "metadata": {
    "cell_id": "00005-65875226-9284-44aa-b62e-3a1e2212d84b",
    "deepnote_cell_type": "code",
    "execution_millis": 13,
    "execution_start": 1605804409430,
    "output_cleared": false,
    "slideshow": {
     "slide_type": "slide"
    },
    "source_hash": "7c13ef85"
   },
   "outputs": [],
   "source": [
    "# trim the data to the bare minimum columns\n",
    "gdf = gdf[['GEOID10','geometry']]\n",
    "\n",
    "# rename the columns\n",
    "gdf.columns = ['FIPS','geometry']\n",
    "gdf.head()"
   ]
  },
  {
   "cell_type": "code",
   "execution_count": null,
   "metadata": {
    "cell_id": "00006-c7db2dde-5f71-47f2-bfc2-0a0d94f1a03d",
    "deepnote_cell_type": "code",
    "execution_millis": 930,
    "execution_start": 1605804413958,
    "output_cleared": false,
    "source_hash": "e699b335"
   },
   "outputs": [],
   "source": [
    "# get the layers into a web mercator projection\n",
    "# reproject to web mercator\n",
    "gdf = gdf.to_crs(epsg=3857)"
   ]
  },
  {
   "cell_type": "code",
   "execution_count": null,
   "metadata": {
    "cell_id": "00007-ffa16cca-a0b5-4e66-9a4c-73d90565821d",
    "deepnote_cell_type": "code",
    "execution_millis": 2725,
    "execution_start": 1605804417356,
    "output_cleared": false,
    "slideshow": {
     "slide_type": "slide"
    },
    "source_hash": "93ebb39"
   },
   "outputs": [],
   "source": [
    "# plot it!\n",
    "ax=gdf.plot(figsize=(12,12),\n",
    "                      color='gray', \n",
    "                      edgecolor='white',\n",
    "                      alpha=0.5)\n",
    "\n",
    "# no axis\n",
    "ax.axis('off')\n",
    "\n",
    "# add a basemap\n",
    "ctx.add_basemap(ax,source=ctx.providers.CartoDB.Positron)"
   ]
  },
  {
   "cell_type": "markdown",
   "metadata": {
    "cell_id": "00008-5ca674be-a4a5-4476-b7bd-3c86722b0246",
    "deepnote_cell_type": "markdown",
    "slideshow": {
     "slide_type": "slide"
    }
   },
   "source": [
    "## Get Arrest Data from LA Open Data Portal\n",
    "Next, we acquire the data using the socrata API. Use the socrata documentation to grab the code syntax for our arrests data.\n",
    "- https://dev.socrata.com/foundry/data.lacity.org/amvf-fr72"
   ]
  },
  {
   "cell_type": "code",
   "execution_count": null,
   "metadata": {
    "cell_id": "00009-684c0663-6a05-4f66-82c3-63b259473b81",
    "deepnote_cell_type": "code",
    "execution_millis": 4626,
    "execution_start": 1605804430393,
    "output_cleared": false,
    "scrolled": true,
    "slideshow": {
     "slide_type": "slide"
    },
    "source_hash": "a077b4d5"
   },
   "outputs": [],
   "source": [
    "# connect to the data portal\n",
    "client = Socrata(\"data.lacity.org\", None)\n",
    "\n",
    "results = client.get(\"amvf-fr72\", \n",
    "                     limit=50000,\n",
    "                     where = \"arst_date between '2020-03-01T00:00:00' and '2020-10-30T00:00:00'\",\n",
    "                     order='arst_date desc')\n",
    "\n",
    "# Convert to pandas DataFrame\n",
    "arrests = pd.DataFrame.from_records(results)\n"
   ]
  },
  {
   "cell_type": "code",
   "execution_count": null,
   "metadata": {
    "cell_id": "00010-edd31267-0772-400b-9220-b4c2af28281d",
    "deepnote_cell_type": "code",
    "execution_millis": 2,
    "execution_start": 1605804438759,
    "output_cleared": false,
    "slideshow": {
     "slide_type": "slide"
    },
    "source_hash": "d8a3f800"
   },
   "outputs": [],
   "source": [
    "arrests.shape"
   ]
  },
  {
   "cell_type": "markdown",
   "metadata": {
    "cell_id": "00011-87e77a3f-36e6-48db-bc94-ae8b2747e411",
    "deepnote_cell_type": "markdown",
    "slideshow": {
     "slide_type": "slide"
    }
   },
   "source": [
    "### Convert data to a geodataframe\n",
    "\n",
    "Geopandas allows us to convert different types of data into a spatial format.\n",
    "- https://geopandas.org/gallery/create_geopandas_from_pandas.html"
   ]
  },
  {
   "cell_type": "code",
   "execution_count": null,
   "metadata": {
    "cell_id": "00012-11bd538c-28c8-4c61-9994-e819c3feb7e8",
    "deepnote_cell_type": "code",
    "execution_millis": 409,
    "execution_start": 1605804442578,
    "output_cleared": false,
    "slideshow": {
     "slide_type": "fragment"
    },
    "source_hash": "dcfb7ede"
   },
   "outputs": [],
   "source": [
    "# convert pandas dataframe to geodataframe\n",
    "arrests = gpd.GeoDataFrame(arrests, \n",
    "                         crs='EPSG:4326',\n",
    "                         geometry=gpd.points_from_xy(arrests.lon, arrests.lat))"
   ]
  },
  {
   "cell_type": "code",
   "execution_count": null,
   "metadata": {
    "cell_id": "00013-9c89a5ae-ae0f-4844-89e8-3b9105d30b6e",
    "deepnote_cell_type": "code",
    "execution_millis": 1327,
    "execution_start": 1605804596814,
    "output_cleared": false,
    "source_hash": "8eb5f93e"
   },
   "outputs": [],
   "source": [
    "# get the layers into a web mercator projection\n",
    "# reproject to web mercator\n",
    "arrests = arrests.to_crs(epsg=3857)"
   ]
  },
  {
   "cell_type": "code",
   "execution_count": null,
   "metadata": {
    "cell_id": "00014-5b46baf9-e870-4232-a425-28f0d65fb571",
    "deepnote_cell_type": "code",
    "execution_millis": 60,
    "execution_start": 1605804598151,
    "output_cleared": false,
    "source_hash": "ced73d7"
   },
   "outputs": [],
   "source": [
    "# convert lat/lon to floats\n",
    "arrests.lon = arrests.lon.astype('float')\n",
    "arrests.lat = arrests.lat.astype('float')"
   ]
  },
  {
   "cell_type": "code",
   "execution_count": null,
   "metadata": {
    "cell_id": "00015-37008c4f-0307-455b-b316-da6e65f084c5",
    "deepnote_cell_type": "code",
    "execution_millis": 3485,
    "execution_start": 1605804600104,
    "output_cleared": false,
    "scrolled": true,
    "slideshow": {
     "slide_type": "slide"
    },
    "source_hash": "ec9920c6"
   },
   "outputs": [],
   "source": [
    "# map it!\n",
    "ax = arrests.plot(figsize=(12,12),\n",
    "                  color='red',\n",
    "                  markersize=1)\n",
    "\n",
    "# no axis\n",
    "ax.axis('off')\n",
    "\n",
    "# add a basemap\n",
    "ctx.add_basemap(ax,source=ctx.providers.CartoDB.Positron)\n"
   ]
  },
  {
   "cell_type": "markdown",
   "metadata": {
    "cell_id": "00016-7294ac05-aa91-433c-aefd-bb0ee45e7ef5",
    "deepnote_cell_type": "markdown"
   },
   "source": [
    "### The 0,0 conundrum\n",
    "What is that red dot off the coast of Africa? Yes, that is the infamous spatial black hole, the [0,0] coordinate. There can be many reasons why those red dots get lost and find themselves there. No data may default to 0's, null values may be converted to 0's, or a human may have inadvertently entered 0's for unknown locations. Either which way, since these records do not have valid locations, they need to be deleted from our dataframe in order to proceed."
   ]
  },
  {
   "cell_type": "code",
   "execution_count": null,
   "metadata": {
    "cell_id": "00017-7d512d29-36e2-4a73-80ec-1a49b1845f1d",
    "deepnote_cell_type": "code",
    "execution_millis": 11,
    "execution_start": 1605804631750,
    "output_cleared": false,
    "source_hash": "dc9df796"
   },
   "outputs": [],
   "source": [
    "# subset the zero coordinate records\n",
    "arrests[arrests.lon==0]"
   ]
  },
  {
   "cell_type": "code",
   "execution_count": null,
   "metadata": {
    "cell_id": "00018-524c230d-9024-4849-9613-1d93d45b8d1b",
    "deepnote_cell_type": "code",
    "execution_millis": 37,
    "execution_start": 1605804635603,
    "output_cleared": false,
    "source_hash": "49d5551e"
   },
   "outputs": [],
   "source": [
    "# drop the unmapped rows\n",
    "arrests.drop(arrests[arrests.lon==0].index,inplace=True)"
   ]
  },
  {
   "cell_type": "code",
   "execution_count": null,
   "metadata": {
    "cell_id": "00019-34d49a3f-f7b5-40fe-bf18-2e529c139e03",
    "deepnote_cell_type": "code",
    "execution_millis": 2263,
    "execution_start": 1605804636652,
    "output_cleared": false,
    "scrolled": false,
    "slideshow": {
     "slide_type": "slide"
    },
    "source_hash": "870c1255"
   },
   "outputs": [],
   "source": [
    "# map it again\n",
    "ax = arrests.plot(figsize=(12,12),\n",
    "                  color='red',\n",
    "                  markersize=1,\n",
    "                  alpha=0.5)\n",
    "\n",
    "# no axis\n",
    "ax.axis('off')\n",
    "\n",
    "# add a basemap\n",
    "ctx.add_basemap(ax,source=ctx.providers.CartoDB.Positron)"
   ]
  },
  {
   "cell_type": "markdown",
   "metadata": {
    "cell_id": "00020-c58096aa-ccb6-44c8-a710-06b464722ea2",
    "deepnote_cell_type": "markdown",
    "slideshow": {
     "slide_type": "slide"
    }
   },
   "source": [
    "## Create a two layer map\n",
    "\n",
    "- https://geopandas.org/mapping.html"
   ]
  },
  {
   "cell_type": "markdown",
   "metadata": {
    "cell_id": "00021-54ac341c-54f2-4549-b9fd-97ba8c8f9628",
    "deepnote_cell_type": "markdown",
    "slideshow": {
     "slide_type": "slide"
    }
   },
   "source": [
    "Since we want to zoom to the extent of the arrests layer (and not the block groups), get the bounding coordinates for our axis."
   ]
  },
  {
   "cell_type": "code",
   "execution_count": null,
   "metadata": {
    "cell_id": "00022-530381e9-7db1-4821-bcee-a66b1b5983f4",
    "deepnote_cell_type": "code",
    "execution_millis": 489,
    "execution_start": 1605804643081,
    "output_cleared": false,
    "source_hash": "2933d808"
   },
   "outputs": [],
   "source": [
    "# get the bounding box coordinates for the arrest data\n",
    "minx, miny, maxx, maxy = arrests.geometry.total_bounds\n",
    "print(minx)\n",
    "print(maxx)\n",
    "print(miny)\n",
    "print(maxy)"
   ]
  },
  {
   "cell_type": "markdown",
   "metadata": {},
   "source": [
    "## Subplots for multi-layered maps\n",
    "\n",
    "For our multi-layered maps, we are taking it one step further from our previous lab using matplotlib's `subplots`. `subplots` allows the creation of multiple plots on a gridded canvas. For our map, we only need a single subplot, but we are layered multiple datasets *on top of one another* on that subplot. To specify which subplot to put the layer on, you use the `ax` argument."
   ]
  },
  {
   "cell_type": "code",
   "execution_count": null,
   "metadata": {
    "cell_id": "00023-de1f44e5-dc3e-4a90-9423-884b716cdfa7",
    "deepnote_cell_type": "code",
    "execution_millis": 4318,
    "execution_start": 1605804911562,
    "output_cleared": false,
    "scrolled": false,
    "slideshow": {
     "slide_type": "slide"
    },
    "source_hash": "75d2d69a"
   },
   "outputs": [],
   "source": [
    "# set up the plot canvas with plt.subplots\n",
    "fig, ax = plt.subplots(figsize=(15, 15))\n",
    "\n",
    "# block groups\n",
    "gdf.plot(ax=ax, # this puts it in the ax plot\n",
    "        color='gray', \n",
    "        edgecolor='white',\n",
    "        alpha=0.5)\n",
    "\n",
    "# arrests\n",
    "arrests.plot(ax=ax, # this also puts it in the same ax plot\n",
    "            color='red',\n",
    "            markersize=1,\n",
    "            alpha=0.2)\n",
    "\n",
    "# use the bounding box coordinates to set the x and y limits\n",
    "ax.set_xlim(minx - 1000, maxx + 1000) # added/substracted value is to give some margin around total bounds\n",
    "ax.set_ylim(miny - 1000, maxy + 1000)\n",
    "\n",
    "# no axis\n",
    "ax.axis('off')\n",
    "\n",
    "# add a basemap\n",
    "ctx.add_basemap(ax,source=ctx.providers.CartoDB.Positron)"
   ]
  },
  {
   "cell_type": "markdown",
   "metadata": {
    "cell_id": "00024-350b1c6f-5d68-4f37-841d-9b832e497dfe",
    "deepnote_cell_type": "markdown",
    "slideshow": {
     "slide_type": "slide"
    }
   },
   "source": [
    "## The spatial join\n",
    "\n",
    "* https://geopandas.org/mergingdata.html?highlight=spatial%20join\n",
    "\n",
    "In a Spatial Join, two geometry objects are merged based on their spatial relationship to one another.\n",
    "\n",
    "The how argument specifies the type of join that will occur and which geometry is retained in the resultant geodataframe. It accepts the following options:\n",
    "\n",
    "`left`: use the index from the first (or left_df) geodataframe that you provide to sjoin; retain only the left_df geometry column\n",
    "\n",
    "`right`: use index from second (or right_df); retain only the right_df geometry column\n",
    "\n",
    "`inner`: use intersection of index values from both geodataframes; retain only the left_df geometry column\n",
    "\n"
   ]
  },
  {
   "cell_type": "markdown",
   "metadata": {},
   "source": [
    "While the official documentation may seem confusing, consider the following as a rule of thumb. When you do a spatial join with `gpd.sjoin()`, you feed it three arguments: a left dataframe, a right dataframe, and a how statement.\n",
    "\n",
    "- **Left dataframe**: identify the layer that you want to get information *from* to attach to the other layer\n",
    "- **Right dataframe**: identify the layer you want *to* attach infomation that will come from the other layer\n",
    "\n",
    "Once you identify your left and right dataframes, use `how=\"right\"` to spatially join the two layers (think: \"I'm sending data from the left to the right\"). Note that this will result in a dataframe with the same number of rows as the RIGHT layer."
   ]
  },
  {
   "cell_type": "code",
   "execution_count": null,
   "metadata": {
    "cell_id": "00025-83617000-2144-45cb-9145-3e070dc1da7e",
    "deepnote_cell_type": "code",
    "execution_millis": 1339,
    "execution_start": 1605806117634,
    "output_cleared": false,
    "slideshow": {
     "slide_type": "slide"
    },
    "source_hash": "8c53b4a0"
   },
   "outputs": [],
   "source": [
    "# Do the spatial join\n",
    "join = gpd.sjoin(gdf, arrests, how='right')"
   ]
  },
  {
   "cell_type": "markdown",
   "metadata": {
    "cell_id": "00026-a88db1eb-74f2-4c08-9db8-e964326dc862",
    "deepnote_cell_type": "markdown",
    "slideshow": {
     "slide_type": "slide"
    }
   },
   "source": [
    "This created a dataframe that has every arrest record with the corresponding FIPS code.\n",
    "\n",
    "Next, we create another dataframe that counts crime by their corresponding block group:"
   ]
  },
  {
   "cell_type": "code",
   "execution_count": null,
   "metadata": {
    "cell_id": "00027-ca714a55-7276-4cd5-8cfd-64ed87c51b47",
    "deepnote_cell_type": "code",
    "execution_millis": 0,
    "execution_start": 1605806144598,
    "output_cleared": false,
    "slideshow": {
     "slide_type": "fragment"
    },
    "source_hash": "bbec6db9"
   },
   "outputs": [],
   "source": [
    "arrests_by_gdf = join.FIPS.value_counts().rename_axis('FIPS').reset_index(name='arrests_count')"
   ]
  },
  {
   "cell_type": "code",
   "execution_count": null,
   "metadata": {
    "cell_id": "00028-0edb1f2f-bf0d-464e-91a5-8e00178c2fc7",
    "deepnote_cell_type": "code",
    "execution_millis": 1,
    "execution_start": 1605806249414,
    "output_cleared": false,
    "scrolled": true,
    "slideshow": {
     "slide_type": "fragment"
    },
    "source_hash": "1a26c77d"
   },
   "outputs": [],
   "source": [
    "arrests_by_gdf.head()"
   ]
  },
  {
   "cell_type": "code",
   "execution_count": null,
   "metadata": {
    "cell_id": "00029-c703c03b-ae27-4935-85ae-6f32896bcd05",
    "deepnote_cell_type": "code",
    "execution_millis": 256,
    "execution_start": 1605806267816,
    "output_cleared": false,
    "scrolled": false,
    "slideshow": {
     "slide_type": "slide"
    },
    "source_hash": "a09e3e30"
   },
   "outputs": [],
   "source": [
    "# make a bar chart of top 20 geographies\n",
    "arrests_by_gdf[:20].plot.bar(figsize=(20,4),\n",
    "                             x='FIPS',\n",
    "                             y='arrests_count')"
   ]
  },
  {
   "cell_type": "markdown",
   "metadata": {
    "cell_id": "00030-23e15688-b87f-4d89-8e04-78e98f59d8ce",
    "deepnote_cell_type": "markdown",
    "slideshow": {
     "slide_type": "slide"
    }
   },
   "source": [
    "## Join the value counts back to the gdf\n",
    "\n",
    "How many people know their census block number? The bar chart is nice, but it is not informative at all. Without spatial awareness, the data chart does little to convey knowledge. What we want is a choropleth map to accompany it. To do so, we merge the counts back to the block group gdf."
   ]
  },
  {
   "cell_type": "code",
   "execution_count": null,
   "metadata": {
    "cell_id": "00031-ef0c1b84-f54e-464b-9183-d7b6952c93ad",
    "deepnote_cell_type": "code",
    "execution_millis": 0,
    "execution_start": 1605806281114,
    "output_cleared": false,
    "slideshow": {
     "slide_type": "fragment"
    },
    "source_hash": "6918564f"
   },
   "outputs": [],
   "source": [
    "# join the summary table back to the gdf\n",
    "gdf=gdf.merge(arrests_by_gdf,on='FIPS')"
   ]
  },
  {
   "cell_type": "markdown",
   "metadata": {
    "cell_id": "00032-de630962-35a2-45c8-a028-ad929bebbff7",
    "deepnote_cell_type": "markdown"
   },
   "source": [
    "Now the block group gdf has a new column for arrest counts:"
   ]
  },
  {
   "cell_type": "code",
   "execution_count": null,
   "metadata": {
    "cell_id": "00033-4405a8bc-92cd-44dc-9f79-e1756818d28f",
    "deepnote_cell_type": "code",
    "execution_millis": 10,
    "execution_start": 1605806285885,
    "output_cleared": false,
    "slideshow": {
     "slide_type": "fragment"
    },
    "source_hash": "436bb116"
   },
   "outputs": [],
   "source": [
    "# our neighborhood table now has a count column\n",
    "gdf.head()"
   ]
  },
  {
   "cell_type": "markdown",
   "metadata": {},
   "source": [
    "And if you are curious, we can map a slice of the data. Here, we sort the values by descending arrest counts, and only show a slice of the data, the top 20 geographies using the handy `[:20]`."
   ]
  },
  {
   "cell_type": "code",
   "execution_count": null,
   "metadata": {
    "cell_id": "00034-d60cf7ed-32db-4b0e-ac55-6dc3119c40c9",
    "deepnote_cell_type": "code",
    "execution_millis": 455,
    "execution_start": 1605806413842,
    "output_cleared": false,
    "source_hash": "c70d7036"
   },
   "outputs": [],
   "source": [
    "# map the top 20 geographies\n",
    "ax = gdf.sort_values(by='arrests_count',ascending=False)[:20].plot(figsize=(12,10),\n",
    "                                                             color='red',\n",
    "                                                             edgecolor='white',\n",
    "                                                             alpha=0.5,legend=True)\n",
    "\n",
    "\n",
    "# title\n",
    "ax.set_title('Top 20 locations of LAPD arrests (March-September 2020)')\n",
    "\n",
    "# no axis\n",
    "ax.axis('off')\n",
    "\n",
    "# add a basemap\n",
    "ctx.add_basemap(ax,source=ctx.providers.CartoDB.Positron)"
   ]
  },
  {
   "cell_type": "markdown",
   "metadata": {
    "cell_id": "00035-452962c1-1d0a-4b6e-9f25-bf2bac2eb75e",
    "deepnote_cell_type": "markdown",
    "slideshow": {
     "slide_type": "slide"
    }
   },
   "source": [
    "## Choropleth map of arrests\n",
    "\n",
    "Finally, we are ready to generate a choropleth map of arrests. "
   ]
  },
  {
   "cell_type": "code",
   "execution_count": null,
   "metadata": {
    "cell_id": "00040-751a6cac-f335-4b67-b470-3e240904a0cf",
    "deepnote_cell_type": "code",
    "execution_millis": 1290,
    "execution_start": 1605806440098,
    "output_cleared": false,
    "scrolled": false,
    "slideshow": {
     "slide_type": "slide"
    },
    "source_hash": "cf9722a3"
   },
   "outputs": [],
   "source": [
    "ax = gdf.plot(figsize=(15,15),\n",
    "                        column='arrests_count',\n",
    "                        legend=True,\n",
    "                        alpha=0.8,\n",
    "                        cmap='RdYlGn_r',\n",
    "                        scheme='quantiles')\n",
    "\n",
    "ax.axis('off')\n",
    "ax.set_title('2020 March to September Arrests by the LAPD',fontsize=22)\n",
    "ctx.add_basemap(ax,source=ctx.providers.CartoDB.Positron)"
   ]
  },
  {
   "cell_type": "markdown",
   "metadata": {
    "cell_id": "00041-1c2e4521-6cae-4ca5-9731-1b9c505d6077",
    "deepnote_cell_type": "markdown"
   },
   "source": [
    "<div class=\"alert alert-info\">\n",
    "The map above is a good way to begin exploring spatial patterns in our data. What does this map tell you? Is it informative? Do you notice any significant clusters? What if you change the map? Notice the `scheme` argument is set to `naturalbreaks`. Experiment with other map classfications such as `equalinterval`, `quantiles`. How does each classification change the map? \n",
    "</div>"
   ]
  },
  {
   "cell_type": "markdown",
   "metadata": {
    "cell_id": "00042-b24787d4-0ab3-44d5-ac9e-91f78dd286e3",
    "deepnote_cell_type": "markdown",
    "slideshow": {
     "slide_type": "slide"
    }
   },
   "source": [
    "# Global Moran's I\n",
    "We have imported two datasets. Cleaned them up, spatialized them, and connected them spatially. We successfully mapped them to show the location of arrests by census blocks. The resulting map intuitively and visually tells us that there does appear to be spatial clusters of where arrests are more prevalent, but to what degree of certainty can we say so? Actually, very little, without statitistically backing up our determinations. Could this exact pattern be a matter of chance? Or is the pattern so distinct that there is no way it could have happened randomly?\n",
    "\n",
    "In order to answer this question, we conduct spatial autocorrelation, a process that determines to what degree an existing pattern is or is not random.\n",
    "\n",
    "Global Moran's I statistic is a way to *quantify* the degree to which similar geographies are clustered. To do so, we compare each geography based on a given value (in this case arrest counts) with that of its neighbors. The first step of this process is to define a \"spatial weight.\" "
   ]
  },
  {
   "cell_type": "markdown",
   "metadata": {
    "cell_id": "00043-8ff210ab-9ca8-4ba3-a467-3b94e460e0d1",
    "deepnote_cell_type": "markdown",
    "slideshow": {
     "slide_type": "slide"
    }
   },
   "source": [
    "### Spatial Weights\n",
    "Spatial weights are how we determine the area’s neighborhood. There are different statistical methods that are used for determining spatial weights. Some use a contiguity model, assigning neighbors based on boundaries that touch each other. Others are based on distance, finding the closest neighbors based on the centroid of each geography. So which method should we use? The City of Los Angeles has an unusual shape. Case in point:why does it have the long narrow tail that leads to Long Beach?\n",
    "\n",
    "<img src=\"https://lavenuesproject.files.wordpress.com/2015/02/detail-homer-hamlin-map-from-loc.jpg\" width=400>\n",
    "\n",
    "[Source: LA Venues Project](https://lavenuesproject.com/2015/02/01/the-shoestring-strip-los-angeles-goes-out-on-a-limb/)\n",
    "\n",
    "For this lab, we will use the KNN weight, where `k` is the number of \"nearest neighbors\" to count in the calculations. Let's proceed with `k=8` for our KNN spatial weights.\n",
    "\n",
    "- https://geographicdata.science/book/notebooks/04_spatial_weights.html#distance-based-weights\n"
   ]
  },
  {
   "cell_type": "code",
   "execution_count": null,
   "metadata": {
    "cell_id": "00044-c20d9e6b-953d-44f8-8f15-51052303c063",
    "deepnote_cell_type": "code",
    "execution_millis": 111,
    "execution_start": 1605806657728,
    "output_cleared": false,
    "source_hash": "3ee158c7"
   },
   "outputs": [],
   "source": [
    "# calculate spatial weight\n",
    "wq =  lps.weights.KNN.from_dataframe(gdf,k=8)\n",
    "wq.transform = 'r'"
   ]
  },
  {
   "cell_type": "markdown",
   "metadata": {
    "cell_id": "00045-109ded14-a0b2-4c8c-a0a0-8454c76c230d",
    "deepnote_cell_type": "markdown"
   },
   "source": [
    "### Spatial lag\n",
    "\n",
    "Now that we have our spatial weights assigned, we use it to calculate the spatial lag. While the mathematical operations are beyond the scope of this lab, you are welcome to check it out [here](https://geographicdata.science/book/notebooks/06_spatial_autocorrelation.html#spatial-lag). Simply put, the spatial lag is a calculated assignment to each geography in your data, which takes into account the data values from others in their  \"neighborhood\" as defined by the spatial weight. This operation can be done with a single line of code which is part of the pysal module, but the underlying calculations are not that difficult to understand: it takes the average of all the neighbors as defined by the spatial weight to come up with a single associated value."
   ]
  },
  {
   "cell_type": "code",
   "execution_count": null,
   "metadata": {
    "cell_id": "00046-020e64b9-d823-45ea-bdfd-6950215f410d",
    "deepnote_cell_type": "code",
    "execution_millis": 4,
    "execution_start": 1605806659021,
    "output_cleared": false,
    "source_hash": "dd2f79d2"
   },
   "outputs": [],
   "source": [
    "# create a new column for the spatial lag\n",
    "gdf['arrests_count_lag'] = lps.weights.lag_spatial(wq, gdf['arrests_count'])"
   ]
  },
  {
   "cell_type": "code",
   "execution_count": null,
   "metadata": {
    "cell_id": "00047-80344eb5-7c68-4523-80fb-88e94e5ce690",
    "deepnote_cell_type": "code",
    "execution_millis": 0,
    "execution_start": 1605806663078,
    "output_cleared": false,
    "source_hash": "7aafb24b"
   },
   "outputs": [],
   "source": [
    "gdf.sort_values(by='arrests_count',ascending=False).head()"
   ]
  },
  {
   "cell_type": "markdown",
   "metadata": {},
   "source": [
    "### The diamond and the donut"
   ]
  },
  {
   "cell_type": "markdown",
   "metadata": {
    "cell_id": "00048-88965640-7413-4991-a51d-6abf7e886e78",
    "deepnote_cell_type": "markdown"
   },
   "source": [
    "In order to better understand the significance of the spatial lag values, consider the following two geographies:"
   ]
  },
  {
   "cell_type": "code",
   "execution_count": null,
   "metadata": {
    "cell_id": "00050-cda68b81-cf95-4909-bd3d-fc77a26d3aba",
    "deepnote_cell_type": "code",
    "execution_millis": 9,
    "execution_start": 1605806802120,
    "output_cleared": false,
    "source_hash": "301f371b",
    "tags": []
   },
   "outputs": [],
   "source": [
    "gdf[gdf['FIPS'].isin(['060379800281', '060372073011'])]"
   ]
  },
  {
   "cell_type": "markdown",
   "metadata": {},
   "source": [
    "The first row, FIPS code `060379800281` is the census block that represents LAX. It is *the* outlier of our data, recording 709 arrests where the median is a paltry 8 arrests based on 2410 records. It's spatial lag? Just 6.\n",
    "\n",
    "The second row, FIPS code `060372062001` is located in the heart of downtown with an arrest count of 15. It's spatial lag? 113! \n",
    "\n",
    "What these numbers tell us is that LAX is a diamond in the rough. A super high valued geography surrounded by super low values. Contrast that with the downtown block, which is more like a donut. An average geography surrounded by super high valued neighbors. It's like a rent-controlled unit in a gentrified community!\n",
    "\n",
    "To better illustrate our discovery, let's display these locations using satellite imagery. To do so, we use Plotly Express and its Mapbox Satellite basemap (which provides high quality and up to date imagery). Note that the use of Mapbox satellite image tiles require a user token. "
   ]
  },
  {
   "cell_type": "code",
   "execution_count": null,
   "metadata": {},
   "outputs": [],
   "source": [
    "# set the mapbox access token\n",
    "token = 'pk.eyJ1IjoieW9obWFuIiwiYSI6IkxuRThfNFkifQ.u2xRJMiChx914U7mOZMiZw'\n",
    "px.set_mapbox_access_token(token)"
   ]
  },
  {
   "cell_type": "code",
   "execution_count": null,
   "metadata": {},
   "outputs": [],
   "source": [
    "# subset lax, project to WGS84, and get its centroid\n",
    "gdf_lax = gdf[gdf.FIPS=='060379800281']\n",
    "gdf_lax = gdf_lax.to_crs('epsg:4326')\n",
    "\n",
    "# what's the centroid?\n",
    "minx, miny, maxx, maxy = gdf_lax.geometry.total_bounds\n",
    "center_lat_lax = (maxy-miny)/2+miny\n",
    "center_lon_lax = (maxx-minx)/2+minx"
   ]
  },
  {
   "cell_type": "code",
   "execution_count": null,
   "metadata": {},
   "outputs": [],
   "source": [
    "# subset downtown, project to WGS84, and get its centroid\n",
    "gdf_downtown = gdf[gdf.FIPS=='060372073011']\n",
    "gdf_downtown = gdf_downtown.to_crs('epsg:4326')\n",
    "\n",
    "# what's the centroid?\n",
    "minx, miny, maxx, maxy = gdf_downtown.geometry.total_bounds\n",
    "center_lat_downtown = (maxy-miny)/2+miny\n",
    "center_lon_downtown = (maxx-minx)/2+minx"
   ]
  },
  {
   "cell_type": "code",
   "execution_count": null,
   "metadata": {
    "scrolled": false
   },
   "outputs": [],
   "source": [
    "px.choropleth_mapbox(gdf_lax, \n",
    "                     geojson=gdf_lax.geometry, \n",
    "                     locations=gdf_lax.index, \n",
    "                     mapbox_style=\"satellite-streets\",\n",
    "                     zoom=12, center = {\"lat\": center_lat_lax, \"lon\": center_lon_lax},\n",
    "                     opacity=0.4)"
   ]
  },
  {
   "cell_type": "code",
   "execution_count": null,
   "metadata": {
    "scrolled": false
   },
   "outputs": [],
   "source": [
    "px.choropleth_mapbox(gdf_downtown, \n",
    "                     geojson=gdf_downtown.geometry, \n",
    "                     locations=gdf_downtown.index, \n",
    "                     mapbox_style=\"satellite-streets\",\n",
    "                     zoom=14, center = {\"lat\": center_lat_downtown, \"lon\": center_lon_downtown},\n",
    "                     opacity=0.4)"
   ]
  },
  {
   "cell_type": "markdown",
   "metadata": {},
   "source": [
    "## Spatial lag map\n",
    "But we digress. Let's map the entire dataframe by the newly created spatial lag column."
   ]
  },
  {
   "cell_type": "code",
   "execution_count": null,
   "metadata": {},
   "outputs": [],
   "source": [
    "gdf.head()"
   ]
  },
  {
   "cell_type": "code",
   "execution_count": null,
   "metadata": {
    "cell_id": "00051-c11fcc2b-df8f-420c-9365-3812f835d6ce",
    "deepnote_cell_type": "code",
    "execution_millis": 1107,
    "execution_start": 1605807561410,
    "output_cleared": false,
    "scrolled": false,
    "slideshow": {
     "slide_type": "slide"
    },
    "source_hash": "51b90aba"
   },
   "outputs": [],
   "source": [
    "# use subplots that make it easier to create multiple layered maps\n",
    "fig, ax = plt.subplots(figsize=(15, 15))\n",
    "\n",
    "# spatial lag choropleth\n",
    "gdf.plot(ax=ax,\n",
    "         figsize=(15,15),\n",
    "         column='arrests_count_lag',\n",
    "         legend=True,\n",
    "         alpha=0.8,\n",
    "         cmap='RdYlGn_r',\n",
    "         scheme='quantiles')\n",
    "\n",
    "# uncomment this to see the actual point locations of arrests\n",
    "# arrests.plot(ax=ax, \n",
    "#              color='blue',\n",
    "#              markersize =1,\n",
    "#              alpha=0.2, \n",
    "#              legend=True)\n",
    "\n",
    "ax.axis('off')\n",
    "ax.set_title('March-September 2020 Arrests by the LAPD',fontsize=22)\n",
    "\n",
    "ctx.add_basemap(ax,source=ctx.providers.CartoDB.Positron)"
   ]
  },
  {
   "cell_type": "markdown",
   "metadata": {},
   "source": [
    "## Interactive spatial lag map\n",
    "Buidling the equivalent map as an interactive javascript map is a bit more challenging. While there are several options to choose from, this lab will use plotly express's choropleth_mapbox feature.\n",
    "- https://plotly.com/python/mapbox-county-choropleth/#"
   ]
  },
  {
   "cell_type": "code",
   "execution_count": null,
   "metadata": {},
   "outputs": [],
   "source": [
    "# interactive version needs to be in WGS84\n",
    "gdf_web = gdf.to_crs('EPSG:4326')"
   ]
  },
  {
   "cell_type": "code",
   "execution_count": null,
   "metadata": {},
   "outputs": [],
   "source": [
    "# what's the centroid?\n",
    "minx, miny, maxx, maxy = gdf_lax.geometry.total_bounds\n",
    "center_lat_gdf_web = (maxy-miny)/2+miny\n",
    "center_lon_gdf_web = (maxx-minx)/2+minx"
   ]
  },
  {
   "cell_type": "markdown",
   "metadata": {},
   "source": [
    "Unlike the matplotlib map, plotly's mapbox map only gives us a continuous scale option. To produce a similar quantile map, we need to calculate the values manually."
   ]
  },
  {
   "cell_type": "code",
   "execution_count": null,
   "metadata": {},
   "outputs": [],
   "source": [
    "# grab the median\n",
    "median = gdf_web.arrests_count_lag.median()"
   ]
  },
  {
   "cell_type": "code",
   "execution_count": null,
   "metadata": {
    "scrolled": false
   },
   "outputs": [],
   "source": [
    "fig = px.choropleth_mapbox(gdf_web, \n",
    "                     geojson=gdf_web.geometry, \n",
    "                     locations=gdf_web.index, \n",
    "                     mapbox_style=\"satellite-streets\",\n",
    "                     zoom=8, \n",
    "                     color='arrests_count_lag',\n",
    "                     color_continuous_scale='RdYlGn_r',\n",
    "                     color_continuous_midpoint =median,\n",
    "                     range_color =(0,median*2),\n",
    "                     center = {\"lat\": center_lat_gdf_web, \"lon\": center_lon_gdf_web},\n",
    "                     opacity=0.8)\n",
    "fig.update_traces(marker_line_width=0)"
   ]
  },
  {
   "cell_type": "markdown",
   "metadata": {
    "cell_id": "00052-7673144c-5be9-47cd-9e0c-46d5b9fe324b",
    "deepnote_cell_type": "markdown"
   },
   "source": [
    "We can now compare these two map outputs side by side. Notice that the syntax is a bit different from past labs where we have only worked with one figure at a time. This output produces 1 row, and 2 columns of figures in `subplots`.\n",
    "- [subplots documentation](https://matplotlib.org/3.3.0/gallery/subplots_axes_and_figures/subplots_demo.html)"
   ]
  },
  {
   "cell_type": "code",
   "execution_count": null,
   "metadata": {
    "cell_id": "00053-3d2f883f-e36b-42a8-b0e4-8d46ac893d67",
    "deepnote_cell_type": "code",
    "execution_millis": 1427,
    "execution_start": 1605807604042,
    "output_cleared": false,
    "source_hash": "26dd2021"
   },
   "outputs": [],
   "source": [
    "# create the 1x2 subplots\n",
    "fig, axs = plt.subplots(1, 2, figsize=(15, 8))\n",
    "\n",
    "# name each subplot\n",
    "ax1, ax2 = axs\n",
    "\n",
    "# regular count map on the left\n",
    "gdf.plot(column='arrests_count', \n",
    "            cmap='RdYlGn_r', \n",
    "            scheme='quantiles',\n",
    "            k=5, \n",
    "            edgecolor='white', \n",
    "            linewidth=0., \n",
    "            alpha=0.75, \n",
    "#             legend=True, \n",
    "            ax=ax1 # this assigns the map to the subplot\n",
    "           )\n",
    "\n",
    "\n",
    "ax1.axis(\"off\")\n",
    "ax1.set_title(\"Arrests count\")\n",
    "\n",
    "# spatial lag map on the right\n",
    "gdf.plot(column='arrests_count_lag', \n",
    "            cmap='RdYlGn_r', \n",
    "            scheme='quantiles',\n",
    "            k=5, \n",
    "            edgecolor='white', \n",
    "            linewidth=0., \n",
    "            alpha=0.75, \n",
    "#             legend=True, \n",
    "            ax=ax2 # this assigns the map to the subplot\n",
    "           )\n",
    "\n",
    "ax2.axis(\"off\")\n",
    "ax2.set_title(\"Arrests count - Spatial Lag\")\n",
    "\n",
    "plt.show()"
   ]
  },
  {
   "cell_type": "markdown",
   "metadata": {
    "cell_id": "00054-cde72154-74e9-492d-9384-f438d860221d",
    "deepnote_cell_type": "markdown"
   },
   "source": [
    "## Moran's Plot\n",
    "\n",
    "We now have a spatial lag map: a map that displays geographies weighted against the values of its neighbors. The clusters are much clearer and cleaner than the original arrest count map. Downtown, South LA,  But we still have not *quantified* the degree of the spatial correlations. To begin this process, we test for global autocorrelation for a continuous attribute (arrest counts)."
   ]
  },
  {
   "cell_type": "code",
   "execution_count": null,
   "metadata": {},
   "outputs": [],
   "source": [
    "y = gdf.arrests_count\n",
    "moran = Moran(y, wq)\n",
    "moran.I"
   ]
  },
  {
   "cell_type": "markdown",
   "metadata": {},
   "source": [
    "The moran's I value is nothing more than the calculated slope of the scatterplot of our arrests and arrests spatial lag columns. It does indicate whether or not you have a positive or negative autocorrelation. Values will range from positive one, to negative one. \n",
    "\n",
    "- **Positive** spatial autocorrelation: high values are close to high values, and/or low values are close to low values\n",
    "- **Negative** spatial autocorrelation (less common): similar values are far from each other; high values are next to low values, low values are next to high values\n",
    "\n",
    "You can output a scatterplot:"
   ]
  },
  {
   "cell_type": "code",
   "execution_count": null,
   "metadata": {},
   "outputs": [],
   "source": [
    "fig, ax = moran_scatterplot(moran, aspect_equal=True)\n",
    "plt.show()"
   ]
  },
  {
   "cell_type": "markdown",
   "metadata": {},
   "source": [
    "Thanks to the splot visualisation module in PySAL, we can obtain a quick representation of the statistic that combines the Moran Plot (right) with a graphic of the empirical test that we carry out to obtain p_sim (left):"
   ]
  },
  {
   "cell_type": "code",
   "execution_count": null,
   "metadata": {
    "cell_id": "00055-489abd0d-4dfc-4a43-ab07-631157aaea0d",
    "deepnote_cell_type": "code",
    "execution_millis": 47,
    "execution_start": 1605807625694,
    "output_cleared": false,
    "source_hash": "707e03ac"
   },
   "outputs": [],
   "source": [
    "fig,ax = plot_moran_simulation(moran)\n",
    "fig.figsize(12,12)"
   ]
  },
  {
   "cell_type": "code",
   "execution_count": null,
   "metadata": {},
   "outputs": [],
   "source": [
    "type(fig)"
   ]
  },
  {
   "cell_type": "code",
   "execution_count": null,
   "metadata": {
    "cell_id": "00055-489abd0d-4dfc-4a43-ab07-631157aaea0d",
    "deepnote_cell_type": "code",
    "execution_millis": 47,
    "execution_start": 1605807625694,
    "output_cleared": false,
    "source_hash": "707e03ac"
   },
   "outputs": [],
   "source": [
    "plot_moran(moran)"
   ]
  },
  {
   "cell_type": "markdown",
   "metadata": {
    "cell_id": "00056-8d12869d-48fa-468e-9cb5-1babfcbf3bf9",
    "deepnote_cell_type": "markdown"
   },
   "source": [
    "The other bit of information we will extract from Moran’s I relates to statistical inference: how likely is the pattern we observe in the map and Moran’s I captures in its value to be generated by an entirely random process? If we considered the same variable but shuffled its locations randomly, would we obtain a map with similar characteristics? To obtain insight into these questions, PySAL performs a simulation and returns a measure of certainty about how likely it is the pattern we observe in our dataset came from a spatially random process. This is summarised in the p_sim attribute:"
   ]
  },
  {
   "cell_type": "code",
   "execution_count": null,
   "metadata": {
    "cell_id": "00057-90a65e59-c521-42fa-bc23-4141b9369225",
    "deepnote_cell_type": "code",
    "output_cleared": true
   },
   "outputs": [],
   "source": [
    "moran.p_sim"
   ]
  },
  {
   "cell_type": "markdown",
   "metadata": {
    "cell_id": "00058-368e0922-3062-4b2a-9155-27c2332200fd",
    "deepnote_cell_type": "markdown"
   },
   "source": [
    "The value is calculated as an empirical P-value that represents the proportion of realisations in the simulation under spatial randomness that are more extreme than the observed value. A small enough p-value associated with the Moran’s I of a map allows to reject the hypothesis that the map is random. In other words, we can conclude that the map displays more spatial pattern than we would expect if the values had been randomly allocated to a locations.\n",
    "\n",
    "That is a very low value, particularly considering it is actually the minimum value we could have obtained given the simulation behind it used 999 permutations (default in PySAL) and, by standard terms, it would be deemed statistically significant. We can ellaborate a bit further on the intuition behind the value of p_sim. If we generated a large number of maps with the same values but randomly allocated over space, and calculated the Moran’s I statistic for each of those maps, only 0.01% of them would display a larger (absolute) value than the one we obtain from the observed data, and the other 99.99% of the random maps would receive a smaller (absolute) value of Moran’s I. If we remember again that the value of Moran’s I can also be interpreted as the slope of the Moran Plot, what we have is that, in this case, the particular spatial arrangement of values over space we observe for the number of arrest counts is more concentrated than if we were to randomly shuffle the arrest numbers among the map, hence the statistical significance. As a first step, the global autocorrelation analysis can teach us that observations do seem to be positively autocorrelated over space. "
   ]
  },
  {
   "cell_type": "markdown",
   "metadata": {},
   "source": [
    "## Local autocorrelation"
   ]
  },
  {
   "cell_type": "code",
   "execution_count": null,
   "metadata": {
    "cell_id": "00060-4a2f2b79-53f9-44b4-ae86-31cc8fdce2bd",
    "deepnote_cell_type": "code",
    "execution_millis": 3398,
    "execution_start": 1605807811791,
    "output_cleared": false,
    "source_hash": "bf84c31e"
   },
   "outputs": [],
   "source": [
    "lisa = esda.moran.Moran_Local(y, wq)"
   ]
  },
  {
   "cell_type": "markdown",
   "metadata": {
    "cell_id": "00061-934f1866-b480-4b67-9449-678df3a01d31",
    "deepnote_cell_type": "markdown"
   },
   "source": [
    "- https://pysal.org/esda/generated/esda.Moran_Local.html"
   ]
  },
  {
   "cell_type": "code",
   "execution_count": null,
   "metadata": {
    "cell_id": "00062-7503c595-b2a8-4dea-9cca-37cf3a62e741",
    "deepnote_cell_type": "code",
    "execution_millis": 3,
    "execution_start": 1605807817779,
    "output_cleared": false,
    "source_hash": "57268d90"
   },
   "outputs": [],
   "source": [
    "# how many per quadrant?\n",
    "counts = [(j,(lisa.q==j).sum()) for j in range(1,5)]\n",
    "counts"
   ]
  },
  {
   "cell_type": "code",
   "execution_count": null,
   "metadata": {
    "cell_id": "00063-d9fc9212-bf39-4525-90db-ff4cbcfd7783",
    "deepnote_cell_type": "code",
    "execution_millis": 214,
    "execution_start": 1605807831354,
    "output_cleared": false,
    "scrolled": true,
    "source_hash": "2b643"
   },
   "outputs": [],
   "source": [
    "# Plot\n",
    "fig, ax = moran_scatterplot(lisa, p=0.05)\n",
    "ax.set_xlabel(\"Arrests\")\n",
    "ax.set_ylabel('Spatial Lag of Arrests')\n",
    "plt.text(1.95, 0.5, \"HH\", fontsize=25)\n",
    "plt.text(1.95, -1.5, \"HL\", fontsize=25)\n",
    "plt.text(-2, 1, \"LH\", fontsize=25)\n",
    "plt.text(-1, -1, \"LL\", fontsize=25)\n",
    "plt.show()"
   ]
  },
  {
   "cell_type": "code",
   "execution_count": null,
   "metadata": {
    "cell_id": "00064-5038673d-0806-4e6c-a49e-9938454eedd4",
    "deepnote_cell_type": "code",
    "execution_millis": 819,
    "execution_start": 1605807832811,
    "output_cleared": false,
    "source_hash": "4f4bbffa"
   },
   "outputs": [],
   "source": [
    "fig, ax = plt.subplots(figsize=(14,12))\n",
    "lisa_cluster(lisa, gdf, p=0.05, figsize = (16,12),ax=ax)\n",
    "plt.show()"
   ]
  },
  {
   "cell_type": "markdown",
   "metadata": {
    "cell_id": "00065-628200f5-de2b-4664-9e16-8e3fb931b6cd",
    "deepnote_cell_type": "markdown"
   },
   "source": [
    "## Identifying significant rows\n",
    "\n",
    "The correspondence between the numbers in the q attribute and the actual quadrants is as follows:\n",
    "\n",
    "1: HH\n",
    "\n",
    "2: LH\n",
    "\n",
    "3: LL\n",
    "\n",
    "4: HL"
   ]
  },
  {
   "cell_type": "code",
   "execution_count": null,
   "metadata": {
    "cell_id": "00066-eaa260ae-d244-4cf0-bfc2-48129d373e88",
    "deepnote_cell_type": "code",
    "output_cleared": true
   },
   "outputs": [],
   "source": [
    "# original df... how many rows?\n",
    "len(gdf)"
   ]
  },
  {
   "cell_type": "code",
   "execution_count": null,
   "metadata": {
    "cell_id": "00067-2699b411-1bd2-4d36-a896-4d8ff9ce70ef",
    "deepnote_cell_type": "code",
    "output_cleared": true
   },
   "outputs": [],
   "source": [
    "# original value list\n",
    "lisa.y[:5]"
   ]
  },
  {
   "cell_type": "code",
   "execution_count": null,
   "metadata": {
    "cell_id": "00068-1539e147-d1ff-4ec7-9397-38a8810bac5d",
    "deepnote_cell_type": "code",
    "output_cleared": true
   },
   "outputs": [],
   "source": [
    "# quadrant list\n",
    "lisa.q[:5]"
   ]
  },
  {
   "cell_type": "code",
   "execution_count": null,
   "metadata": {
    "cell_id": "00069-9dbad7bb-8dfb-4dce-8e07-442dfba38f50",
    "deepnote_cell_type": "code",
    "output_cleared": true
   },
   "outputs": [],
   "source": [
    "# p sim list\n",
    "lisa.p_sim[:5]"
   ]
  },
  {
   "cell_type": "code",
   "execution_count": null,
   "metadata": {
    "cell_id": "00070-06e5e784-7f67-4943-b15b-05b1a40b12b9",
    "deepnote_cell_type": "code",
    "output_cleared": true
   },
   "outputs": [],
   "source": [
    "# add it to the dataframe\n",
    "gdf['q'] = lisa.q.tolist()"
   ]
  },
  {
   "cell_type": "code",
   "execution_count": null,
   "metadata": {
    "cell_id": "00071-f962c890-e9dc-498a-931e-224827d65803",
    "deepnote_cell_type": "code",
    "output_cleared": true
   },
   "outputs": [],
   "source": [
    "# add it to the dataframe\n",
    "gdf['p_sim'] = lisa.p_sim.tolist()"
   ]
  },
  {
   "cell_type": "code",
   "execution_count": null,
   "metadata": {
    "cell_id": "00072-ec4640af-0c06-4a0b-bd5e-c87858d411df",
    "deepnote_cell_type": "code",
    "output_cleared": true
   },
   "outputs": [],
   "source": [
    "gdf[gdf.p_sim < 0.05].plot(figsize=(12,12),column='q',legend=True,categorical=True,cmap='RdYlBu')"
   ]
  },
  {
   "cell_type": "markdown",
   "metadata": {
    "cell_id": "00073-51e53eb0-0154-43e8-835d-ce181f9c7186",
    "deepnote_cell_type": "markdown"
   },
   "source": [
    "# Resources\n",
    "\n",
    "- https://geographicdata.science/book/notebooks/06_spatial_autocorrelation.html\n",
    "- https://pysal.org/esda/notebooks/spatialautocorrelation.html\n",
    "- https://towardsdatascience.com/what-is-exploratory-spatial-data-analysis-esda-335da79026ee"
   ]
  }
 ],
 "metadata": {
  "deepnote_execution_queue": [],
  "deepnote_notebook_id": "e3ee145c-1ca6-4b9e-9637-f285c2264264",
  "kernelspec": {
   "display_name": "Python 3",
   "language": "python",
   "name": "python3"
  },
  "language_info": {
   "codemirror_mode": {
    "name": "ipython",
    "version": 3
   },
   "file_extension": ".py",
   "mimetype": "text/x-python",
   "name": "python",
   "nbconvert_exporter": "python",
   "pygments_lexer": "ipython3",
   "version": "3.8.5"
  },
  "toc": {
   "base_numbering": 1,
   "nav_menu": {},
   "number_sections": true,
   "sideBar": true,
   "skip_h1_title": false,
   "title_cell": "Table of Contents",
   "title_sidebar": "Contents",
   "toc_cell": false,
   "toc_position": {
    "height": "calc(100% - 180px)",
    "left": "10px",
    "top": "150px",
    "width": "349.078px"
   },
   "toc_section_display": true,
   "toc_window_display": true
  }
 },
 "nbformat": 4,
 "nbformat_minor": 4
}
