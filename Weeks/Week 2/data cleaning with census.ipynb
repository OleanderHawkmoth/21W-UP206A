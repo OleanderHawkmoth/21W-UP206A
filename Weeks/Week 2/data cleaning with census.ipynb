{
 "cells": [
  {
   "cell_type": "markdown",
   "metadata": {},
   "source": [
    "## Module 5: Data cleaning and descriptive stats\n",
    "\n",
    "Overview of today's learning goals:\n",
    "\n",
    "  1. Introduce pandas\n",
    "  2. Load data files\n",
    "  3. Clean and process data\n",
    "  4. Select, filter, and slice data from a dataset\n",
    "  5. Descriptive stats: central tendency and dispersion\n",
    "  6. Merging and concatenating datasets\n",
    "  7. Grouping and summarizing data"
   ]
  },
  {
   "cell_type": "code",
   "execution_count": 1,
   "metadata": {},
   "outputs": [],
   "source": [
    "# something new: import these packages to work with data\n",
    "import numpy as np\n",
    "import pandas as pd"
   ]
  },
  {
   "cell_type": "markdown",
   "metadata": {},
   "source": [
    "## 1. Introducing pandas\n",
    "\n",
    "https://pandas.pydata.org/"
   ]
  },
  {
   "cell_type": "code",
   "execution_count": 2,
   "metadata": {},
   "outputs": [
    {
     "data": {
      "text/plain": [
       "[8, 6, 4, 2]"
      ]
     },
     "execution_count": 2,
     "metadata": {},
     "output_type": "execute_result"
    }
   ],
   "source": [
    "# review: a python list is a built-in data type\n",
    "my_list = [8, 6, 4, 2]\n",
    "my_list"
   ]
  },
  {
   "cell_type": "code",
   "execution_count": 3,
   "metadata": {},
   "outputs": [
    {
     "data": {
      "text/plain": [
       "array([8, 6, 4, 2])"
      ]
     },
     "execution_count": 3,
     "metadata": {},
     "output_type": "execute_result"
    }
   ],
   "source": [
    "# a numpy array is like a list\n",
    "# but faster, more compact, and lots more features\n",
    "my_array = np.array(my_list)\n",
    "my_array"
   ]
  },
  {
   "cell_type": "markdown",
   "metadata": {},
   "source": [
    "pandas has two primary data structures we will work with: Series and DataFrames\n",
    "\n",
    "### 1a. pandas Series"
   ]
  },
  {
   "cell_type": "code",
   "execution_count": 4,
   "metadata": {},
   "outputs": [
    {
     "data": {
      "text/plain": [
       "0    8\n",
       "1    6\n",
       "2    4\n",
       "3    2\n",
       "dtype: int64"
      ]
     },
     "execution_count": 4,
     "metadata": {},
     "output_type": "execute_result"
    }
   ],
   "source": [
    "# a pandas series is based on a numpy array: it's fast, compact, and has more functionality\n",
    "# perhaps most notably, it has an index which allows you to work naturally with tabular data\n",
    "my_series = pd.Series(my_list)\n",
    "my_series"
   ]
  },
  {
   "cell_type": "code",
   "execution_count": 5,
   "metadata": {},
   "outputs": [
    {
     "data": {
      "text/plain": [
       "[0, 1, 2, 3]"
      ]
     },
     "execution_count": 5,
     "metadata": {},
     "output_type": "execute_result"
    }
   ],
   "source": [
    "# look at a list-representation of the index\n",
    "my_series.index.tolist()"
   ]
  },
  {
   "cell_type": "code",
   "execution_count": 6,
   "metadata": {},
   "outputs": [
    {
     "data": {
      "text/plain": [
       "array([8, 6, 4, 2])"
      ]
     },
     "execution_count": 6,
     "metadata": {},
     "output_type": "execute_result"
    }
   ],
   "source": [
    "# look at the series' values themselves\n",
    "my_series.values"
   ]
  },
  {
   "cell_type": "code",
   "execution_count": 7,
   "metadata": {},
   "outputs": [
    {
     "data": {
      "text/plain": [
       "numpy.ndarray"
      ]
     },
     "execution_count": 7,
     "metadata": {},
     "output_type": "execute_result"
    }
   ],
   "source": [
    "# what's the data type of the series' values?\n",
    "type(my_series.values)"
   ]
  },
  {
   "cell_type": "code",
   "execution_count": 8,
   "metadata": {},
   "outputs": [
    {
     "data": {
      "text/plain": [
       "dtype('int64')"
      ]
     },
     "execution_count": 8,
     "metadata": {},
     "output_type": "execute_result"
    }
   ],
   "source": [
    "# what's the data type of the individual values themselves?\n",
    "my_series.dtype"
   ]
  },
  {
   "cell_type": "markdown",
   "metadata": {},
   "source": [
    "### 1b. pandas DataFrames"
   ]
  },
  {
   "cell_type": "code",
   "execution_count": 9,
   "metadata": {},
   "outputs": [
    {
     "data": {
      "text/plain": [
       "{'hh_income': [75125, 22075, 31950, 115400],\n",
       " 'home_value': [525000, 275000, 395000, 985000]}"
      ]
     },
     "execution_count": 9,
     "metadata": {},
     "output_type": "execute_result"
    }
   ],
   "source": [
    "# a dict can contain multiple lists and label them\n",
    "my_dict = {'hh_income'  : [75125, 22075, 31950, 115400],\n",
    "           'home_value' : [525000, 275000, 395000, 985000]}\n",
    "my_dict"
   ]
  },
  {
   "cell_type": "code",
   "execution_count": 10,
   "metadata": {},
   "outputs": [
    {
     "data": {
      "text/html": [
       "<div>\n",
       "<style scoped>\n",
       "    .dataframe tbody tr th:only-of-type {\n",
       "        vertical-align: middle;\n",
       "    }\n",
       "\n",
       "    .dataframe tbody tr th {\n",
       "        vertical-align: top;\n",
       "    }\n",
       "\n",
       "    .dataframe thead th {\n",
       "        text-align: right;\n",
       "    }\n",
       "</style>\n",
       "<table border=\"1\" class=\"dataframe\">\n",
       "  <thead>\n",
       "    <tr style=\"text-align: right;\">\n",
       "      <th></th>\n",
       "      <th>hh_income</th>\n",
       "      <th>home_value</th>\n",
       "    </tr>\n",
       "  </thead>\n",
       "  <tbody>\n",
       "    <tr>\n",
       "      <th>0</th>\n",
       "      <td>75125</td>\n",
       "      <td>525000</td>\n",
       "    </tr>\n",
       "    <tr>\n",
       "      <th>1</th>\n",
       "      <td>22075</td>\n",
       "      <td>275000</td>\n",
       "    </tr>\n",
       "    <tr>\n",
       "      <th>2</th>\n",
       "      <td>31950</td>\n",
       "      <td>395000</td>\n",
       "    </tr>\n",
       "    <tr>\n",
       "      <th>3</th>\n",
       "      <td>115400</td>\n",
       "      <td>985000</td>\n",
       "    </tr>\n",
       "  </tbody>\n",
       "</table>\n",
       "</div>"
      ],
      "text/plain": [
       "   hh_income  home_value\n",
       "0      75125      525000\n",
       "1      22075      275000\n",
       "2      31950      395000\n",
       "3     115400      985000"
      ]
     },
     "execution_count": 10,
     "metadata": {},
     "output_type": "execute_result"
    }
   ],
   "source": [
    "# a pandas dataframe can contain one or more columns\n",
    "# each column is a pandas series\n",
    "# each row is a pandas series\n",
    "# you can create a dataframe by passing in a list, array, series, or dict\n",
    "df = pd.DataFrame(my_dict)\n",
    "df"
   ]
  },
  {
   "cell_type": "code",
   "execution_count": 11,
   "metadata": {},
   "outputs": [
    {
     "data": {
      "text/plain": [
       "[0, 1, 2, 3]"
      ]
     },
     "execution_count": 11,
     "metadata": {},
     "output_type": "execute_result"
    }
   ],
   "source": [
    "# the row labels in the index are accessed by the .index attribute of the DataFrame object\n",
    "df.index.tolist()"
   ]
  },
  {
   "cell_type": "code",
   "execution_count": 12,
   "metadata": {},
   "outputs": [
    {
     "data": {
      "text/plain": [
       "Index(['hh_income', 'home_value'], dtype='object')"
      ]
     },
     "execution_count": 12,
     "metadata": {},
     "output_type": "execute_result"
    }
   ],
   "source": [
    "# the column labels are accessed by the .columns attribute of the DataFrame object\n",
    "df.columns"
   ]
  },
  {
   "cell_type": "code",
   "execution_count": 13,
   "metadata": {},
   "outputs": [
    {
     "data": {
      "text/plain": [
       "array([[ 75125, 525000],\n",
       "       [ 22075, 275000],\n",
       "       [ 31950, 395000],\n",
       "       [115400, 985000]])"
      ]
     },
     "execution_count": 13,
     "metadata": {},
     "output_type": "execute_result"
    }
   ],
   "source": [
    "# the data values are accessed by the .values attribute of the DataFrame object\n",
    "# this is a numpy (two-dimensional) array\n",
    "df.values"
   ]
  },
  {
   "cell_type": "markdown",
   "metadata": {},
   "source": [
    "## 2. Loading data\n",
    "\n",
    "In practice, you'll work with data by loading a dataset file into pandas. CSV is the most common format. But pandas can also ingest tab-separated data, JSON, and proprietary file formats like Excel .xlsx files, Stata, SAS, and SPSS.\n",
    "\n",
    "Below, notice what pandas's `read_csv` function does:\n",
    "\n",
    "1. recognize the header row and get its variable names\n",
    "1. read all the rows and construct a pandas DataFrame (an assembly of pandas Series rows and columns)\n",
    "1. construct a unique index, beginning with zero\n",
    "1. infer the data type of each variable (ie, column)"
   ]
  },
  {
   "cell_type": "code",
   "execution_count": 14,
   "metadata": {},
   "outputs": [],
   "source": [
    "# load a data file\n",
    "# note the relative filepath! where is this file located?\n",
    "# note the dtype argument! always specify that fips codes are strings, otherwise pandas guesses int\n",
    "df = pd.read_csv('../data/census_tracts_data_la.csv', dtype={'GEOID10':str})"
   ]
  },
  {
   "cell_type": "code",
   "execution_count": 15,
   "metadata": {},
   "outputs": [
    {
     "data": {
      "text/plain": [
       "(2346, 25)"
      ]
     },
     "execution_count": 15,
     "metadata": {},
     "output_type": "execute_result"
    }
   ],
   "source": [
    "# dataframe shape as rows, columns\n",
    "df.shape"
   ]
  },
  {
   "cell_type": "code",
   "execution_count": 16,
   "metadata": {},
   "outputs": [
    {
     "data": {
      "text/plain": [
       "2346"
      ]
     },
     "execution_count": 16,
     "metadata": {},
     "output_type": "execute_result"
    }
   ],
   "source": [
    "# or use len to just see the number of rows\n",
    "len(df)"
   ]
  },
  {
   "cell_type": "code",
   "execution_count": 17,
   "metadata": {},
   "outputs": [
    {
     "data": {
      "text/html": [
       "<div>\n",
       "<style scoped>\n",
       "    .dataframe tbody tr th:only-of-type {\n",
       "        vertical-align: middle;\n",
       "    }\n",
       "\n",
       "    .dataframe tbody tr th {\n",
       "        vertical-align: top;\n",
       "    }\n",
       "\n",
       "    .dataframe thead th {\n",
       "        text-align: right;\n",
       "    }\n",
       "</style>\n",
       "<table border=\"1\" class=\"dataframe\">\n",
       "  <thead>\n",
       "    <tr style=\"text-align: right;\">\n",
       "      <th></th>\n",
       "      <th>GEOID10</th>\n",
       "      <th>total_pop</th>\n",
       "      <th>median_age</th>\n",
       "      <th>pct_hispanic</th>\n",
       "      <th>pct_white</th>\n",
       "      <th>pct_black</th>\n",
       "      <th>pct_asian</th>\n",
       "      <th>pct_male</th>\n",
       "      <th>pct_single_family_home</th>\n",
       "      <th>med_home_value</th>\n",
       "      <th>...</th>\n",
       "      <th>med_gross_rent</th>\n",
       "      <th>med_household_income</th>\n",
       "      <th>mean_commute_time</th>\n",
       "      <th>pct_commute_drive_alone</th>\n",
       "      <th>pct_below_poverty</th>\n",
       "      <th>pct_college_grad_student</th>\n",
       "      <th>pct_same_residence_year_ago</th>\n",
       "      <th>pct_bachelors_degree</th>\n",
       "      <th>pct_english_only</th>\n",
       "      <th>pct_foreign_born</th>\n",
       "    </tr>\n",
       "  </thead>\n",
       "  <tbody>\n",
       "    <tr>\n",
       "      <th>0</th>\n",
       "      <td>06037106010</td>\n",
       "      <td>3342.0</td>\n",
       "      <td>38.2</td>\n",
       "      <td>73.6</td>\n",
       "      <td>14.8</td>\n",
       "      <td>3.6</td>\n",
       "      <td>145.0</td>\n",
       "      <td>47.0</td>\n",
       "      <td>77.2</td>\n",
       "      <td>460800.0</td>\n",
       "      <td>...</td>\n",
       "      <td>1471 (USD)</td>\n",
       "      <td>$73650</td>\n",
       "      <td>31.5</td>\n",
       "      <td>76.2</td>\n",
       "      <td>21.3</td>\n",
       "      <td>23.8</td>\n",
       "      <td>87.9</td>\n",
       "      <td>20.4</td>\n",
       "      <td>42.1</td>\n",
       "      <td>28.1</td>\n",
       "    </tr>\n",
       "    <tr>\n",
       "      <th>1</th>\n",
       "      <td>06037106020</td>\n",
       "      <td>5937.0</td>\n",
       "      <td>37.9</td>\n",
       "      <td>81.1</td>\n",
       "      <td>15.4</td>\n",
       "      <td>1.0</td>\n",
       "      <td>92.0</td>\n",
       "      <td>51.9</td>\n",
       "      <td>95.8</td>\n",
       "      <td>441100.0</td>\n",
       "      <td>...</td>\n",
       "      <td>1924 (USD)</td>\n",
       "      <td>$74286</td>\n",
       "      <td>32.6</td>\n",
       "      <td>82.5</td>\n",
       "      <td>11.4</td>\n",
       "      <td>36.9</td>\n",
       "      <td>95.1</td>\n",
       "      <td>15.5</td>\n",
       "      <td>29.0</td>\n",
       "      <td>37.5</td>\n",
       "    </tr>\n",
       "    <tr>\n",
       "      <th>2</th>\n",
       "      <td>06037134720</td>\n",
       "      <td>4645.0</td>\n",
       "      <td>33.6</td>\n",
       "      <td>46.9</td>\n",
       "      <td>23.2</td>\n",
       "      <td>5.0</td>\n",
       "      <td>991.0</td>\n",
       "      <td>49.9</td>\n",
       "      <td>40.2</td>\n",
       "      <td>450600.0</td>\n",
       "      <td>...</td>\n",
       "      <td>1418 (USD)</td>\n",
       "      <td>$61372</td>\n",
       "      <td>28.0</td>\n",
       "      <td>73.6</td>\n",
       "      <td>13.0</td>\n",
       "      <td>32.6</td>\n",
       "      <td>87.4</td>\n",
       "      <td>25.0</td>\n",
       "      <td>32.6</td>\n",
       "      <td>42.2</td>\n",
       "    </tr>\n",
       "    <tr>\n",
       "      <th>3</th>\n",
       "      <td>06037137201</td>\n",
       "      <td>6226.0</td>\n",
       "      <td>33.4</td>\n",
       "      <td>19.2</td>\n",
       "      <td>53.6</td>\n",
       "      <td>4.9</td>\n",
       "      <td>1315.0</td>\n",
       "      <td>50.8</td>\n",
       "      <td>34.9</td>\n",
       "      <td>605300.0</td>\n",
       "      <td>...</td>\n",
       "      <td>1763 (USD)</td>\n",
       "      <td>$74936</td>\n",
       "      <td>29.3</td>\n",
       "      <td>71.3</td>\n",
       "      <td>7.1</td>\n",
       "      <td>29.9</td>\n",
       "      <td>86.0</td>\n",
       "      <td>51.0</td>\n",
       "      <td>54.5</td>\n",
       "      <td>39.2</td>\n",
       "    </tr>\n",
       "    <tr>\n",
       "      <th>4</th>\n",
       "      <td>06037137502</td>\n",
       "      <td>4627.0</td>\n",
       "      <td>41.9</td>\n",
       "      <td>13.2</td>\n",
       "      <td>67.2</td>\n",
       "      <td>10.8</td>\n",
       "      <td>174.0</td>\n",
       "      <td>47.1</td>\n",
       "      <td>77.0</td>\n",
       "      <td>668400.0</td>\n",
       "      <td>...</td>\n",
       "      <td>2325 (USD)</td>\n",
       "      <td>$96964</td>\n",
       "      <td>32.0</td>\n",
       "      <td>84.9</td>\n",
       "      <td>5.7</td>\n",
       "      <td>22.9</td>\n",
       "      <td>80.8</td>\n",
       "      <td>54.9</td>\n",
       "      <td>77.9</td>\n",
       "      <td>20.1</td>\n",
       "    </tr>\n",
       "  </tbody>\n",
       "</table>\n",
       "<p>5 rows × 25 columns</p>\n",
       "</div>"
      ],
      "text/plain": [
       "       GEOID10  total_pop  median_age  pct_hispanic  pct_white  pct_black  \\\n",
       "0  06037106010     3342.0        38.2          73.6       14.8        3.6   \n",
       "1  06037106020     5937.0        37.9          81.1       15.4        1.0   \n",
       "2  06037134720     4645.0        33.6          46.9       23.2        5.0   \n",
       "3  06037137201     6226.0        33.4          19.2       53.6        4.9   \n",
       "4  06037137502     4627.0        41.9          13.2       67.2       10.8   \n",
       "\n",
       "   pct_asian  pct_male  pct_single_family_home  med_home_value  ...  \\\n",
       "0      145.0      47.0                    77.2        460800.0  ...   \n",
       "1       92.0      51.9                    95.8        441100.0  ...   \n",
       "2      991.0      49.9                    40.2        450600.0  ...   \n",
       "3     1315.0      50.8                    34.9        605300.0  ...   \n",
       "4      174.0      47.1                    77.0        668400.0  ...   \n",
       "\n",
       "   med_gross_rent  med_household_income  mean_commute_time  \\\n",
       "0      1471 (USD)                $73650               31.5   \n",
       "1      1924 (USD)                $74286               32.6   \n",
       "2      1418 (USD)                $61372               28.0   \n",
       "3      1763 (USD)                $74936               29.3   \n",
       "4      2325 (USD)                $96964               32.0   \n",
       "\n",
       "   pct_commute_drive_alone  pct_below_poverty pct_college_grad_student  \\\n",
       "0                     76.2               21.3                     23.8   \n",
       "1                     82.5               11.4                     36.9   \n",
       "2                     73.6               13.0                     32.6   \n",
       "3                     71.3                7.1                     29.9   \n",
       "4                     84.9                5.7                     22.9   \n",
       "\n",
       "  pct_same_residence_year_ago  pct_bachelors_degree  pct_english_only  \\\n",
       "0                        87.9                  20.4              42.1   \n",
       "1                        95.1                  15.5              29.0   \n",
       "2                        87.4                  25.0              32.6   \n",
       "3                        86.0                  51.0              54.5   \n",
       "4                        80.8                  54.9              77.9   \n",
       "\n",
       "   pct_foreign_born  \n",
       "0              28.1  \n",
       "1              37.5  \n",
       "2              42.2  \n",
       "3              39.2  \n",
       "4              20.1  \n",
       "\n",
       "[5 rows x 25 columns]"
      ]
     },
     "execution_count": 17,
     "metadata": {},
     "output_type": "execute_result"
    }
   ],
   "source": [
    "# view the dataframe's \"head\"\n",
    "df.head()"
   ]
  },
  {
   "cell_type": "code",
   "execution_count": 18,
   "metadata": {},
   "outputs": [
    {
     "data": {
      "text/html": [
       "<div>\n",
       "<style scoped>\n",
       "    .dataframe tbody tr th:only-of-type {\n",
       "        vertical-align: middle;\n",
       "    }\n",
       "\n",
       "    .dataframe tbody tr th {\n",
       "        vertical-align: top;\n",
       "    }\n",
       "\n",
       "    .dataframe thead th {\n",
       "        text-align: right;\n",
       "    }\n",
       "</style>\n",
       "<table border=\"1\" class=\"dataframe\">\n",
       "  <thead>\n",
       "    <tr style=\"text-align: right;\">\n",
       "      <th></th>\n",
       "      <th>GEOID10</th>\n",
       "      <th>total_pop</th>\n",
       "      <th>median_age</th>\n",
       "      <th>pct_hispanic</th>\n",
       "      <th>pct_white</th>\n",
       "      <th>pct_black</th>\n",
       "      <th>pct_asian</th>\n",
       "      <th>pct_male</th>\n",
       "      <th>pct_single_family_home</th>\n",
       "      <th>med_home_value</th>\n",
       "      <th>...</th>\n",
       "      <th>med_gross_rent</th>\n",
       "      <th>med_household_income</th>\n",
       "      <th>mean_commute_time</th>\n",
       "      <th>pct_commute_drive_alone</th>\n",
       "      <th>pct_below_poverty</th>\n",
       "      <th>pct_college_grad_student</th>\n",
       "      <th>pct_same_residence_year_ago</th>\n",
       "      <th>pct_bachelors_degree</th>\n",
       "      <th>pct_english_only</th>\n",
       "      <th>pct_foreign_born</th>\n",
       "    </tr>\n",
       "  </thead>\n",
       "  <tbody>\n",
       "    <tr>\n",
       "      <th>2341</th>\n",
       "      <td>06037670326</td>\n",
       "      <td>3488.0</td>\n",
       "      <td>52.6</td>\n",
       "      <td>6.2</td>\n",
       "      <td>56.4</td>\n",
       "      <td>1.4</td>\n",
       "      <td>1040.0</td>\n",
       "      <td>51.7</td>\n",
       "      <td>98.2</td>\n",
       "      <td>1869400.0</td>\n",
       "      <td>...</td>\n",
       "      <td>3501 (USD)</td>\n",
       "      <td>$155000</td>\n",
       "      <td>36.4</td>\n",
       "      <td>81.2</td>\n",
       "      <td>6.3</td>\n",
       "      <td>18.3</td>\n",
       "      <td>87.8</td>\n",
       "      <td>77.5</td>\n",
       "      <td>69.6</td>\n",
       "      <td>25.0</td>\n",
       "    </tr>\n",
       "    <tr>\n",
       "      <th>2342</th>\n",
       "      <td>06037670324</td>\n",
       "      <td>5167.0</td>\n",
       "      <td>48.4</td>\n",
       "      <td>9.9</td>\n",
       "      <td>71.4</td>\n",
       "      <td>0.4</td>\n",
       "      <td>740.0</td>\n",
       "      <td>44.7</td>\n",
       "      <td>89.4</td>\n",
       "      <td>1541100.0</td>\n",
       "      <td>...</td>\n",
       "      <td>2756 (USD)</td>\n",
       "      <td>$207679</td>\n",
       "      <td>30.5</td>\n",
       "      <td>81.0</td>\n",
       "      <td>5.1</td>\n",
       "      <td>19.7</td>\n",
       "      <td>89.7</td>\n",
       "      <td>71.4</td>\n",
       "      <td>80.1</td>\n",
       "      <td>15.0</td>\n",
       "    </tr>\n",
       "    <tr>\n",
       "      <th>2343</th>\n",
       "      <td>06037651402</td>\n",
       "      <td>6259.0</td>\n",
       "      <td>41.8</td>\n",
       "      <td>12.1</td>\n",
       "      <td>35.8</td>\n",
       "      <td>0.0</td>\n",
       "      <td>2931.0</td>\n",
       "      <td>50.2</td>\n",
       "      <td>66.4</td>\n",
       "      <td>804200.0</td>\n",
       "      <td>...</td>\n",
       "      <td>1421 (USD)</td>\n",
       "      <td>$113616</td>\n",
       "      <td>31.9</td>\n",
       "      <td>87.3</td>\n",
       "      <td>4.6</td>\n",
       "      <td>23.8</td>\n",
       "      <td>88.1</td>\n",
       "      <td>58.8</td>\n",
       "      <td>53.2</td>\n",
       "      <td>37.7</td>\n",
       "    </tr>\n",
       "    <tr>\n",
       "      <th>2344</th>\n",
       "      <td>06037800203</td>\n",
       "      <td>5586.0</td>\n",
       "      <td>42.1</td>\n",
       "      <td>8.8</td>\n",
       "      <td>78.8</td>\n",
       "      <td>0.0</td>\n",
       "      <td>507.0</td>\n",
       "      <td>49.6</td>\n",
       "      <td>67.9</td>\n",
       "      <td>1595800.0</td>\n",
       "      <td>...</td>\n",
       "      <td>2332 (USD)</td>\n",
       "      <td>$123224</td>\n",
       "      <td>30.8</td>\n",
       "      <td>75.3</td>\n",
       "      <td>7.6</td>\n",
       "      <td>21.0</td>\n",
       "      <td>78.8</td>\n",
       "      <td>59.4</td>\n",
       "      <td>75.5</td>\n",
       "      <td>20.7</td>\n",
       "    </tr>\n",
       "    <tr>\n",
       "      <th>2345</th>\n",
       "      <td>06037700102</td>\n",
       "      <td>3915.0</td>\n",
       "      <td>41.3</td>\n",
       "      <td>13.1</td>\n",
       "      <td>70.2</td>\n",
       "      <td>8.7</td>\n",
       "      <td>157.0</td>\n",
       "      <td>54.6</td>\n",
       "      <td>9.6</td>\n",
       "      <td>562500.0</td>\n",
       "      <td>...</td>\n",
       "      <td>1297 (USD)</td>\n",
       "      <td>$36356</td>\n",
       "      <td>27.7</td>\n",
       "      <td>74.5</td>\n",
       "      <td>19.7</td>\n",
       "      <td>68.1</td>\n",
       "      <td>93.1</td>\n",
       "      <td>48.7</td>\n",
       "      <td>53.0</td>\n",
       "      <td>34.5</td>\n",
       "    </tr>\n",
       "  </tbody>\n",
       "</table>\n",
       "<p>5 rows × 25 columns</p>\n",
       "</div>"
      ],
      "text/plain": [
       "          GEOID10  total_pop  median_age  pct_hispanic  pct_white  pct_black  \\\n",
       "2341  06037670326     3488.0        52.6           6.2       56.4        1.4   \n",
       "2342  06037670324     5167.0        48.4           9.9       71.4        0.4   \n",
       "2343  06037651402     6259.0        41.8          12.1       35.8        0.0   \n",
       "2344  06037800203     5586.0        42.1           8.8       78.8        0.0   \n",
       "2345  06037700102     3915.0        41.3          13.1       70.2        8.7   \n",
       "\n",
       "      pct_asian  pct_male  pct_single_family_home  med_home_value  ...  \\\n",
       "2341     1040.0      51.7                    98.2       1869400.0  ...   \n",
       "2342      740.0      44.7                    89.4       1541100.0  ...   \n",
       "2343     2931.0      50.2                    66.4        804200.0  ...   \n",
       "2344      507.0      49.6                    67.9       1595800.0  ...   \n",
       "2345      157.0      54.6                     9.6        562500.0  ...   \n",
       "\n",
       "      med_gross_rent  med_household_income  mean_commute_time  \\\n",
       "2341      3501 (USD)               $155000               36.4   \n",
       "2342      2756 (USD)               $207679               30.5   \n",
       "2343      1421 (USD)               $113616               31.9   \n",
       "2344      2332 (USD)               $123224               30.8   \n",
       "2345      1297 (USD)                $36356               27.7   \n",
       "\n",
       "      pct_commute_drive_alone  pct_below_poverty pct_college_grad_student  \\\n",
       "2341                     81.2                6.3                     18.3   \n",
       "2342                     81.0                5.1                     19.7   \n",
       "2343                     87.3                4.6                     23.8   \n",
       "2344                     75.3                7.6                     21.0   \n",
       "2345                     74.5               19.7                     68.1   \n",
       "\n",
       "     pct_same_residence_year_ago  pct_bachelors_degree  pct_english_only  \\\n",
       "2341                        87.8                  77.5              69.6   \n",
       "2342                        89.7                  71.4              80.1   \n",
       "2343                        88.1                  58.8              53.2   \n",
       "2344                        78.8                  59.4              75.5   \n",
       "2345                        93.1                  48.7              53.0   \n",
       "\n",
       "      pct_foreign_born  \n",
       "2341              25.0  \n",
       "2342              15.0  \n",
       "2343              37.7  \n",
       "2344              20.7  \n",
       "2345              34.5  \n",
       "\n",
       "[5 rows x 25 columns]"
      ]
     },
     "execution_count": 18,
     "metadata": {},
     "output_type": "execute_result"
    }
   ],
   "source": [
    "# view the dataframe's \"tail\"\n",
    "df.tail()"
   ]
  },
  {
   "cell_type": "markdown",
   "metadata": {},
   "source": [
    "#### What are these data?\n",
    "\n",
    "I gathered them from the census bureau (2017 5-year tract-level ACS) for you, then gave them meangingful variable names. It's a set of socioeconomic variables across all LA County census tracts:\n",
    "\n",
    "|column|description|\n",
    "|------|-----------|\n",
    "|total_pop|Estimate!!SEX AND AGE!!Total population|\n",
    "|median_age|Estimate!!SEX AND AGE!!Total population!!Median age (years)|\n",
    "|pct_hispanic|Percent Estimate!!HISPANIC OR LATINO AND RACE!!Total population!!Hispanic or Latino (of any race)|\n",
    "|pct_white|Percent Estimate!!HISPANIC OR LATINO AND RACE!!Total population!!Not Hispanic or Latino!!White alone|\n",
    "|pct_black|Percent Estimate!!HISPANIC OR LATINO AND RACE!!Total population!!Not Hispanic or Latino!!Black or African American alone|\n",
    "|pct_asian|Estimate!!HISPANIC OR LATINO AND RACE!!Total population!!Not Hispanic or Latino!!Asian alone|\n",
    "|pct_male|Percent Estimate!!SEX AND AGE!!Total population!!Male|\n",
    "|pct_single_family_home|Percent Estimate!!UNITS IN STRUCTURE!!Total housing units!!1-unit detached|\n",
    "|med_home_value|Estimate!!VALUE!!Owner-occupied units!!Median (dollars)|\n",
    "|med_rooms_per_home|Estimate!!ROOMS!!Total housing units!!Median rooms|\n",
    "|pct_built_before_1940|Percent Estimate!!YEAR STRUCTURE BUILT!!Total housing units!!Built 1939 or earlier|\n",
    "|pct_renting|Percent Estimate!!HOUSING TENURE!!Occupied housing units!!Renter-occupied|\n",
    "|rental_vacancy_rate|Estimate!!HOUSING OCCUPANCY!!Total housing units!!Rental vacancy rate|\n",
    "|avg_renter_household_size|Estimate!!HOUSING TENURE!!Occupied housing units!!Average household size of renter-occupied unit|\n",
    "|med_gross_rent|Estimate!!GROSS RENT!!Occupied units paying rent!!Median (dollars)|\n",
    "|med_household_income|Estimate!!INCOME AND BENEFITS (IN 2017 INFLATION-ADJUSTED DOLLARS)!!Total households!!Median household income (dollars)|\n",
    "|mean_commute_time|Estimate!!COMMUTING TO WORK!!Workers 16 years and over!!Mean travel time to work (minutes)|\n",
    "|pct_commute_drive_alone|Percent Estimate!!COMMUTING TO WORK!!Workers 16 years and over!!Car truck or van drove alone|\n",
    "|pct_below_poverty|Percent Estimate!!PERCENTAGE OF FAMILIES AND PEOPLE WHOSE INCOME IN THE PAST 12 MONTHS IS BELOW THE POVERTY LEVEL!!All people|\n",
    "|pct_college_grad_student|Percent Estimate!!SCHOOL ENROLLMENT!!Population 3 years and over enrolled in school!!College or graduate school|\n",
    "|pct_same_residence_year_ago|Percent Estimate!!RESIDENCE 1 YEAR AGO!!Population 1 year and over!!Same house|\n",
    "|pct_bachelors_degree|Percent Estimate!!EDUCATIONAL ATTAINMENT!!Population 25 years and over!!Percent bachelor's degree or higher|\n",
    "|pct_english_only|Percent Estimate!!LANGUAGE SPOKEN AT HOME!!Population 5 years and over!!English only|\n",
    "|pct_foreign_born|Percent Estimate!!PLACE OF BIRTH!!Total population!!Foreign born|"
   ]
  },
  {
   "cell_type": "markdown",
   "metadata": {},
   "source": [
    "## 3. Clean and process data"
   ]
  },
  {
   "cell_type": "code",
   "execution_count": 19,
   "metadata": {},
   "outputs": [
    {
     "data": {
      "text/html": [
       "<div>\n",
       "<style scoped>\n",
       "    .dataframe tbody tr th:only-of-type {\n",
       "        vertical-align: middle;\n",
       "    }\n",
       "\n",
       "    .dataframe tbody tr th {\n",
       "        vertical-align: top;\n",
       "    }\n",
       "\n",
       "    .dataframe thead th {\n",
       "        text-align: right;\n",
       "    }\n",
       "</style>\n",
       "<table border=\"1\" class=\"dataframe\">\n",
       "  <thead>\n",
       "    <tr style=\"text-align: right;\">\n",
       "      <th></th>\n",
       "      <th>GEOID10</th>\n",
       "      <th>total_pop</th>\n",
       "      <th>median_age</th>\n",
       "      <th>pct_hispanic</th>\n",
       "      <th>pct_white</th>\n",
       "      <th>pct_black</th>\n",
       "      <th>pct_asian</th>\n",
       "      <th>pct_male</th>\n",
       "      <th>pct_single_family_home</th>\n",
       "      <th>med_home_value</th>\n",
       "      <th>...</th>\n",
       "      <th>med_gross_rent</th>\n",
       "      <th>med_household_income</th>\n",
       "      <th>mean_commute_time</th>\n",
       "      <th>pct_commute_drive_alone</th>\n",
       "      <th>pct_below_poverty</th>\n",
       "      <th>pct_college_grad_student</th>\n",
       "      <th>pct_same_residence_year_ago</th>\n",
       "      <th>pct_bachelors_degree</th>\n",
       "      <th>pct_english_only</th>\n",
       "      <th>pct_foreign_born</th>\n",
       "    </tr>\n",
       "  </thead>\n",
       "  <tbody>\n",
       "    <tr>\n",
       "      <th>0</th>\n",
       "      <td>06037106010</td>\n",
       "      <td>3342.0</td>\n",
       "      <td>38.2</td>\n",
       "      <td>73.6</td>\n",
       "      <td>14.8</td>\n",
       "      <td>3.6</td>\n",
       "      <td>145.0</td>\n",
       "      <td>47.0</td>\n",
       "      <td>77.2</td>\n",
       "      <td>460800.0</td>\n",
       "      <td>...</td>\n",
       "      <td>1471 (USD)</td>\n",
       "      <td>$73650</td>\n",
       "      <td>31.5</td>\n",
       "      <td>76.2</td>\n",
       "      <td>21.3</td>\n",
       "      <td>23.8</td>\n",
       "      <td>87.9</td>\n",
       "      <td>20.4</td>\n",
       "      <td>42.1</td>\n",
       "      <td>28.1</td>\n",
       "    </tr>\n",
       "    <tr>\n",
       "      <th>1</th>\n",
       "      <td>06037106020</td>\n",
       "      <td>5937.0</td>\n",
       "      <td>37.9</td>\n",
       "      <td>81.1</td>\n",
       "      <td>15.4</td>\n",
       "      <td>1.0</td>\n",
       "      <td>92.0</td>\n",
       "      <td>51.9</td>\n",
       "      <td>95.8</td>\n",
       "      <td>441100.0</td>\n",
       "      <td>...</td>\n",
       "      <td>1924 (USD)</td>\n",
       "      <td>$74286</td>\n",
       "      <td>32.6</td>\n",
       "      <td>82.5</td>\n",
       "      <td>11.4</td>\n",
       "      <td>36.9</td>\n",
       "      <td>95.1</td>\n",
       "      <td>15.5</td>\n",
       "      <td>29.0</td>\n",
       "      <td>37.5</td>\n",
       "    </tr>\n",
       "    <tr>\n",
       "      <th>2</th>\n",
       "      <td>06037134720</td>\n",
       "      <td>4645.0</td>\n",
       "      <td>33.6</td>\n",
       "      <td>46.9</td>\n",
       "      <td>23.2</td>\n",
       "      <td>5.0</td>\n",
       "      <td>991.0</td>\n",
       "      <td>49.9</td>\n",
       "      <td>40.2</td>\n",
       "      <td>450600.0</td>\n",
       "      <td>...</td>\n",
       "      <td>1418 (USD)</td>\n",
       "      <td>$61372</td>\n",
       "      <td>28.0</td>\n",
       "      <td>73.6</td>\n",
       "      <td>13.0</td>\n",
       "      <td>32.6</td>\n",
       "      <td>87.4</td>\n",
       "      <td>25.0</td>\n",
       "      <td>32.6</td>\n",
       "      <td>42.2</td>\n",
       "    </tr>\n",
       "    <tr>\n",
       "      <th>3</th>\n",
       "      <td>06037137201</td>\n",
       "      <td>6226.0</td>\n",
       "      <td>33.4</td>\n",
       "      <td>19.2</td>\n",
       "      <td>53.6</td>\n",
       "      <td>4.9</td>\n",
       "      <td>1315.0</td>\n",
       "      <td>50.8</td>\n",
       "      <td>34.9</td>\n",
       "      <td>605300.0</td>\n",
       "      <td>...</td>\n",
       "      <td>1763 (USD)</td>\n",
       "      <td>$74936</td>\n",
       "      <td>29.3</td>\n",
       "      <td>71.3</td>\n",
       "      <td>7.1</td>\n",
       "      <td>29.9</td>\n",
       "      <td>86.0</td>\n",
       "      <td>51.0</td>\n",
       "      <td>54.5</td>\n",
       "      <td>39.2</td>\n",
       "    </tr>\n",
       "    <tr>\n",
       "      <th>4</th>\n",
       "      <td>06037137502</td>\n",
       "      <td>4627.0</td>\n",
       "      <td>41.9</td>\n",
       "      <td>13.2</td>\n",
       "      <td>67.2</td>\n",
       "      <td>10.8</td>\n",
       "      <td>174.0</td>\n",
       "      <td>47.1</td>\n",
       "      <td>77.0</td>\n",
       "      <td>668400.0</td>\n",
       "      <td>...</td>\n",
       "      <td>2325 (USD)</td>\n",
       "      <td>$96964</td>\n",
       "      <td>32.0</td>\n",
       "      <td>84.9</td>\n",
       "      <td>5.7</td>\n",
       "      <td>22.9</td>\n",
       "      <td>80.8</td>\n",
       "      <td>54.9</td>\n",
       "      <td>77.9</td>\n",
       "      <td>20.1</td>\n",
       "    </tr>\n",
       "    <tr>\n",
       "      <th>5</th>\n",
       "      <td>06037137504</td>\n",
       "      <td>1960.0</td>\n",
       "      <td>52.0</td>\n",
       "      <td>3.3</td>\n",
       "      <td>91.6</td>\n",
       "      <td>1.4</td>\n",
       "      <td>39.0</td>\n",
       "      <td>51.4</td>\n",
       "      <td>96.9</td>\n",
       "      <td>1101700.0</td>\n",
       "      <td>...</td>\n",
       "      <td>NaN</td>\n",
       "      <td>$175313</td>\n",
       "      <td>32.1</td>\n",
       "      <td>72.9</td>\n",
       "      <td>2.3</td>\n",
       "      <td>21.1</td>\n",
       "      <td>87.4</td>\n",
       "      <td>58.8</td>\n",
       "      <td>72.3</td>\n",
       "      <td>24.7</td>\n",
       "    </tr>\n",
       "    <tr>\n",
       "      <th>6</th>\n",
       "      <td>06037139702</td>\n",
       "      <td>5985.0</td>\n",
       "      <td>50.1</td>\n",
       "      <td>3.0</td>\n",
       "      <td>86.3</td>\n",
       "      <td>3.3</td>\n",
       "      <td>340.0</td>\n",
       "      <td>48.6</td>\n",
       "      <td>100.0</td>\n",
       "      <td>1247600.0</td>\n",
       "      <td>...</td>\n",
       "      <td>2934 (USD)</td>\n",
       "      <td>$187891</td>\n",
       "      <td>31.9</td>\n",
       "      <td>83.4</td>\n",
       "      <td>4.7</td>\n",
       "      <td>9.1</td>\n",
       "      <td>94.1</td>\n",
       "      <td>69.0</td>\n",
       "      <td>58.3</td>\n",
       "      <td>34.2</td>\n",
       "    </tr>\n",
       "    <tr>\n",
       "      <th>7</th>\n",
       "      <td>06037143500</td>\n",
       "      <td>4977.0</td>\n",
       "      <td>41.4</td>\n",
       "      <td>9.4</td>\n",
       "      <td>69.7</td>\n",
       "      <td>11.8</td>\n",
       "      <td>281.0</td>\n",
       "      <td>46.9</td>\n",
       "      <td>37.5</td>\n",
       "      <td>908000.0</td>\n",
       "      <td>...</td>\n",
       "      <td>1795 (USD)</td>\n",
       "      <td>$87464</td>\n",
       "      <td>32.2</td>\n",
       "      <td>69.5</td>\n",
       "      <td>10.3</td>\n",
       "      <td>11.1</td>\n",
       "      <td>86.2</td>\n",
       "      <td>64.2</td>\n",
       "      <td>82.6</td>\n",
       "      <td>11.9</td>\n",
       "    </tr>\n",
       "    <tr>\n",
       "      <th>8</th>\n",
       "      <td>06037181400</td>\n",
       "      <td>4511.0</td>\n",
       "      <td>40.6</td>\n",
       "      <td>37.9</td>\n",
       "      <td>24.9</td>\n",
       "      <td>1.3</td>\n",
       "      <td>1518.0</td>\n",
       "      <td>47.5</td>\n",
       "      <td>38.7</td>\n",
       "      <td>643300.0</td>\n",
       "      <td>...</td>\n",
       "      <td>1401 (USD)</td>\n",
       "      <td>$55208</td>\n",
       "      <td>27.7</td>\n",
       "      <td>75.9</td>\n",
       "      <td>12.1</td>\n",
       "      <td>34.1</td>\n",
       "      <td>89.3</td>\n",
       "      <td>40.6</td>\n",
       "      <td>48.3</td>\n",
       "      <td>40.6</td>\n",
       "    </tr>\n",
       "    <tr>\n",
       "      <th>9</th>\n",
       "      <td>06037189400</td>\n",
       "      <td>3497.0</td>\n",
       "      <td>42.4</td>\n",
       "      <td>6.7</td>\n",
       "      <td>79.0</td>\n",
       "      <td>3.6</td>\n",
       "      <td>210.0</td>\n",
       "      <td>49.6</td>\n",
       "      <td>66.7</td>\n",
       "      <td>1131200.0</td>\n",
       "      <td>...</td>\n",
       "      <td>1825 (USD)</td>\n",
       "      <td>$123500</td>\n",
       "      <td>31.2</td>\n",
       "      <td>70.1</td>\n",
       "      <td>8.3</td>\n",
       "      <td>27.2</td>\n",
       "      <td>89.0</td>\n",
       "      <td>70.4</td>\n",
       "      <td>86.1</td>\n",
       "      <td>13.2</td>\n",
       "    </tr>\n",
       "  </tbody>\n",
       "</table>\n",
       "<p>10 rows × 25 columns</p>\n",
       "</div>"
      ],
      "text/plain": [
       "       GEOID10  total_pop  median_age  pct_hispanic  pct_white  pct_black  \\\n",
       "0  06037106010     3342.0        38.2          73.6       14.8        3.6   \n",
       "1  06037106020     5937.0        37.9          81.1       15.4        1.0   \n",
       "2  06037134720     4645.0        33.6          46.9       23.2        5.0   \n",
       "3  06037137201     6226.0        33.4          19.2       53.6        4.9   \n",
       "4  06037137502     4627.0        41.9          13.2       67.2       10.8   \n",
       "5  06037137504     1960.0        52.0           3.3       91.6        1.4   \n",
       "6  06037139702     5985.0        50.1           3.0       86.3        3.3   \n",
       "7  06037143500     4977.0        41.4           9.4       69.7       11.8   \n",
       "8  06037181400     4511.0        40.6          37.9       24.9        1.3   \n",
       "9  06037189400     3497.0        42.4           6.7       79.0        3.6   \n",
       "\n",
       "   pct_asian  pct_male  pct_single_family_home  med_home_value  ...  \\\n",
       "0      145.0      47.0                    77.2        460800.0  ...   \n",
       "1       92.0      51.9                    95.8        441100.0  ...   \n",
       "2      991.0      49.9                    40.2        450600.0  ...   \n",
       "3     1315.0      50.8                    34.9        605300.0  ...   \n",
       "4      174.0      47.1                    77.0        668400.0  ...   \n",
       "5       39.0      51.4                    96.9       1101700.0  ...   \n",
       "6      340.0      48.6                   100.0       1247600.0  ...   \n",
       "7      281.0      46.9                    37.5        908000.0  ...   \n",
       "8     1518.0      47.5                    38.7        643300.0  ...   \n",
       "9      210.0      49.6                    66.7       1131200.0  ...   \n",
       "\n",
       "   med_gross_rent  med_household_income  mean_commute_time  \\\n",
       "0      1471 (USD)                $73650               31.5   \n",
       "1      1924 (USD)                $74286               32.6   \n",
       "2      1418 (USD)                $61372               28.0   \n",
       "3      1763 (USD)                $74936               29.3   \n",
       "4      2325 (USD)                $96964               32.0   \n",
       "5             NaN               $175313               32.1   \n",
       "6      2934 (USD)               $187891               31.9   \n",
       "7      1795 (USD)                $87464               32.2   \n",
       "8      1401 (USD)                $55208               27.7   \n",
       "9      1825 (USD)               $123500               31.2   \n",
       "\n",
       "   pct_commute_drive_alone  pct_below_poverty pct_college_grad_student  \\\n",
       "0                     76.2               21.3                     23.8   \n",
       "1                     82.5               11.4                     36.9   \n",
       "2                     73.6               13.0                     32.6   \n",
       "3                     71.3                7.1                     29.9   \n",
       "4                     84.9                5.7                     22.9   \n",
       "5                     72.9                2.3                     21.1   \n",
       "6                     83.4                4.7                      9.1   \n",
       "7                     69.5               10.3                     11.1   \n",
       "8                     75.9               12.1                     34.1   \n",
       "9                     70.1                8.3                     27.2   \n",
       "\n",
       "  pct_same_residence_year_ago  pct_bachelors_degree  pct_english_only  \\\n",
       "0                        87.9                  20.4              42.1   \n",
       "1                        95.1                  15.5              29.0   \n",
       "2                        87.4                  25.0              32.6   \n",
       "3                        86.0                  51.0              54.5   \n",
       "4                        80.8                  54.9              77.9   \n",
       "5                        87.4                  58.8              72.3   \n",
       "6                        94.1                  69.0              58.3   \n",
       "7                        86.2                  64.2              82.6   \n",
       "8                        89.3                  40.6              48.3   \n",
       "9                        89.0                  70.4              86.1   \n",
       "\n",
       "   pct_foreign_born  \n",
       "0              28.1  \n",
       "1              37.5  \n",
       "2              42.2  \n",
       "3              39.2  \n",
       "4              20.1  \n",
       "5              24.7  \n",
       "6              34.2  \n",
       "7              11.9  \n",
       "8              40.6  \n",
       "9              13.2  \n",
       "\n",
       "[10 rows x 25 columns]"
      ]
     },
     "execution_count": 19,
     "metadata": {},
     "output_type": "execute_result"
    }
   ],
   "source": [
    "df.head(10)"
   ]
  },
  {
   "cell_type": "code",
   "execution_count": 20,
   "metadata": {},
   "outputs": [
    {
     "data": {
      "text/plain": [
       "GEOID10                         object\n",
       "total_pop                      float64\n",
       "median_age                     float64\n",
       "pct_hispanic                   float64\n",
       "pct_white                      float64\n",
       "pct_black                      float64\n",
       "pct_asian                      float64\n",
       "pct_male                       float64\n",
       "pct_single_family_home         float64\n",
       "med_home_value                 float64\n",
       "med_rooms_per_home             float64\n",
       "pct_built_before_1940          float64\n",
       "pct_renting                    float64\n",
       "rental_vacancy_rate            float64\n",
       "avg_renter_household_size      float64\n",
       "med_gross_rent                  object\n",
       "med_household_income            object\n",
       "mean_commute_time              float64\n",
       "pct_commute_drive_alone        float64\n",
       "pct_below_poverty              float64\n",
       "pct_college_grad_student       float64\n",
       "pct_same_residence_year_ago    float64\n",
       "pct_bachelors_degree           float64\n",
       "pct_english_only               float64\n",
       "pct_foreign_born               float64\n",
       "dtype: object"
      ]
     },
     "execution_count": 20,
     "metadata": {},
     "output_type": "execute_result"
    }
   ],
   "source": [
    "# data types of the columns\n",
    "df.dtypes"
   ]
  },
  {
   "cell_type": "code",
   "execution_count": 21,
   "metadata": {},
   "outputs": [
    {
     "data": {
      "text/plain": [
       "0    1471 (USD)\n",
       "1    1924 (USD)\n",
       "2    1418 (USD)\n",
       "3    1763 (USD)\n",
       "4    2325 (USD)\n",
       "5           NaN\n",
       "6    2934 (USD)\n",
       "7    1795 (USD)\n",
       "8    1401 (USD)\n",
       "9    1825 (USD)\n",
       "Name: med_gross_rent, dtype: object"
      ]
     },
     "execution_count": 21,
     "metadata": {},
     "output_type": "execute_result"
    }
   ],
   "source": [
    "# access a single column like df['col_name']\n",
    "df['med_gross_rent'].head(10)"
   ]
  },
  {
   "cell_type": "code",
   "execution_count": 22,
   "metadata": {},
   "outputs": [
    {
     "name": "stdout",
     "output_type": "stream",
     "text": [
      "nan\n",
      "<class 'float'>\n"
     ]
    }
   ],
   "source": [
    "# pandas v0.25 uses numpy's nan to represent null (missing) values\n",
    "print(np.nan)\n",
    "print(type(np.nan))"
   ]
  },
  {
   "cell_type": "code",
   "execution_count": 23,
   "metadata": {},
   "outputs": [
    {
     "ename": "ValueError",
     "evalue": "could not convert string to float: '1471 (USD)'",
     "output_type": "error",
     "traceback": [
      "\u001b[0;31m---------------------------------------------------------------------------\u001b[0m",
      "\u001b[0;31mValueError\u001b[0m                                Traceback (most recent call last)",
      "\u001b[0;32m<ipython-input-23-7de0b849bfe7>\u001b[0m in \u001b[0;36m<module>\u001b[0;34m\u001b[0m\n\u001b[1;32m      1\u001b[0m \u001b[0;31m# convert rent from string -> float\u001b[0m\u001b[0;34m\u001b[0m\u001b[0;34m\u001b[0m\u001b[0;34m\u001b[0m\u001b[0m\n\u001b[0;32m----> 2\u001b[0;31m \u001b[0mdf\u001b[0m\u001b[0;34m[\u001b[0m\u001b[0;34m'med_gross_rent'\u001b[0m\u001b[0;34m]\u001b[0m\u001b[0;34m.\u001b[0m\u001b[0mastype\u001b[0m\u001b[0;34m(\u001b[0m\u001b[0mfloat\u001b[0m\u001b[0;34m)\u001b[0m\u001b[0;34m\u001b[0m\u001b[0;34m\u001b[0m\u001b[0m\n\u001b[0m",
      "\u001b[0;32m~/opt/anaconda3/envs/geo/lib/python3.8/site-packages/pandas/core/generic.py\u001b[0m in \u001b[0;36mastype\u001b[0;34m(self, dtype, copy, errors)\u001b[0m\n\u001b[1;32m   5535\u001b[0m         \u001b[0;32melse\u001b[0m\u001b[0;34m:\u001b[0m\u001b[0;34m\u001b[0m\u001b[0;34m\u001b[0m\u001b[0m\n\u001b[1;32m   5536\u001b[0m             \u001b[0;31m# else, only a single dtype is given\u001b[0m\u001b[0;34m\u001b[0m\u001b[0;34m\u001b[0m\u001b[0;34m\u001b[0m\u001b[0m\n\u001b[0;32m-> 5537\u001b[0;31m             \u001b[0mnew_data\u001b[0m \u001b[0;34m=\u001b[0m \u001b[0mself\u001b[0m\u001b[0;34m.\u001b[0m\u001b[0m_mgr\u001b[0m\u001b[0;34m.\u001b[0m\u001b[0mastype\u001b[0m\u001b[0;34m(\u001b[0m\u001b[0mdtype\u001b[0m\u001b[0;34m=\u001b[0m\u001b[0mdtype\u001b[0m\u001b[0;34m,\u001b[0m \u001b[0mcopy\u001b[0m\u001b[0;34m=\u001b[0m\u001b[0mcopy\u001b[0m\u001b[0;34m,\u001b[0m \u001b[0merrors\u001b[0m\u001b[0;34m=\u001b[0m\u001b[0merrors\u001b[0m\u001b[0;34m,\u001b[0m\u001b[0;34m)\u001b[0m\u001b[0;34m\u001b[0m\u001b[0;34m\u001b[0m\u001b[0m\n\u001b[0m\u001b[1;32m   5538\u001b[0m             \u001b[0;32mreturn\u001b[0m \u001b[0mself\u001b[0m\u001b[0;34m.\u001b[0m\u001b[0m_constructor\u001b[0m\u001b[0;34m(\u001b[0m\u001b[0mnew_data\u001b[0m\u001b[0;34m)\u001b[0m\u001b[0;34m.\u001b[0m\u001b[0m__finalize__\u001b[0m\u001b[0;34m(\u001b[0m\u001b[0mself\u001b[0m\u001b[0;34m,\u001b[0m \u001b[0mmethod\u001b[0m\u001b[0;34m=\u001b[0m\u001b[0;34m\"astype\"\u001b[0m\u001b[0;34m)\u001b[0m\u001b[0;34m\u001b[0m\u001b[0;34m\u001b[0m\u001b[0m\n\u001b[1;32m   5539\u001b[0m \u001b[0;34m\u001b[0m\u001b[0m\n",
      "\u001b[0;32m~/opt/anaconda3/envs/geo/lib/python3.8/site-packages/pandas/core/internals/managers.py\u001b[0m in \u001b[0;36mastype\u001b[0;34m(self, dtype, copy, errors)\u001b[0m\n\u001b[1;32m    565\u001b[0m         \u001b[0mself\u001b[0m\u001b[0;34m,\u001b[0m \u001b[0mdtype\u001b[0m\u001b[0;34m,\u001b[0m \u001b[0mcopy\u001b[0m\u001b[0;34m:\u001b[0m \u001b[0mbool\u001b[0m \u001b[0;34m=\u001b[0m \u001b[0;32mFalse\u001b[0m\u001b[0;34m,\u001b[0m \u001b[0merrors\u001b[0m\u001b[0;34m:\u001b[0m \u001b[0mstr\u001b[0m \u001b[0;34m=\u001b[0m \u001b[0;34m\"raise\"\u001b[0m\u001b[0;34m\u001b[0m\u001b[0;34m\u001b[0m\u001b[0m\n\u001b[1;32m    566\u001b[0m     ) -> \"BlockManager\":\n\u001b[0;32m--> 567\u001b[0;31m         \u001b[0;32mreturn\u001b[0m \u001b[0mself\u001b[0m\u001b[0;34m.\u001b[0m\u001b[0mapply\u001b[0m\u001b[0;34m(\u001b[0m\u001b[0;34m\"astype\"\u001b[0m\u001b[0;34m,\u001b[0m \u001b[0mdtype\u001b[0m\u001b[0;34m=\u001b[0m\u001b[0mdtype\u001b[0m\u001b[0;34m,\u001b[0m \u001b[0mcopy\u001b[0m\u001b[0;34m=\u001b[0m\u001b[0mcopy\u001b[0m\u001b[0;34m,\u001b[0m \u001b[0merrors\u001b[0m\u001b[0;34m=\u001b[0m\u001b[0merrors\u001b[0m\u001b[0;34m)\u001b[0m\u001b[0;34m\u001b[0m\u001b[0;34m\u001b[0m\u001b[0m\n\u001b[0m\u001b[1;32m    568\u001b[0m \u001b[0;34m\u001b[0m\u001b[0m\n\u001b[1;32m    569\u001b[0m     def convert(\n",
      "\u001b[0;32m~/opt/anaconda3/envs/geo/lib/python3.8/site-packages/pandas/core/internals/managers.py\u001b[0m in \u001b[0;36mapply\u001b[0;34m(self, f, align_keys, **kwargs)\u001b[0m\n\u001b[1;32m    394\u001b[0m                 \u001b[0mapplied\u001b[0m \u001b[0;34m=\u001b[0m \u001b[0mb\u001b[0m\u001b[0;34m.\u001b[0m\u001b[0mapply\u001b[0m\u001b[0;34m(\u001b[0m\u001b[0mf\u001b[0m\u001b[0;34m,\u001b[0m \u001b[0;34m**\u001b[0m\u001b[0mkwargs\u001b[0m\u001b[0;34m)\u001b[0m\u001b[0;34m\u001b[0m\u001b[0;34m\u001b[0m\u001b[0m\n\u001b[1;32m    395\u001b[0m             \u001b[0;32melse\u001b[0m\u001b[0;34m:\u001b[0m\u001b[0;34m\u001b[0m\u001b[0;34m\u001b[0m\u001b[0m\n\u001b[0;32m--> 396\u001b[0;31m                 \u001b[0mapplied\u001b[0m \u001b[0;34m=\u001b[0m \u001b[0mgetattr\u001b[0m\u001b[0;34m(\u001b[0m\u001b[0mb\u001b[0m\u001b[0;34m,\u001b[0m \u001b[0mf\u001b[0m\u001b[0;34m)\u001b[0m\u001b[0;34m(\u001b[0m\u001b[0;34m**\u001b[0m\u001b[0mkwargs\u001b[0m\u001b[0;34m)\u001b[0m\u001b[0;34m\u001b[0m\u001b[0;34m\u001b[0m\u001b[0m\n\u001b[0m\u001b[1;32m    397\u001b[0m             \u001b[0mresult_blocks\u001b[0m \u001b[0;34m=\u001b[0m \u001b[0m_extend_blocks\u001b[0m\u001b[0;34m(\u001b[0m\u001b[0mapplied\u001b[0m\u001b[0;34m,\u001b[0m \u001b[0mresult_blocks\u001b[0m\u001b[0;34m)\u001b[0m\u001b[0;34m\u001b[0m\u001b[0;34m\u001b[0m\u001b[0m\n\u001b[1;32m    398\u001b[0m \u001b[0;34m\u001b[0m\u001b[0m\n",
      "\u001b[0;32m~/opt/anaconda3/envs/geo/lib/python3.8/site-packages/pandas/core/internals/blocks.py\u001b[0m in \u001b[0;36mastype\u001b[0;34m(self, dtype, copy, errors)\u001b[0m\n\u001b[1;32m    588\u001b[0m             \u001b[0mvals1d\u001b[0m \u001b[0;34m=\u001b[0m \u001b[0mvalues\u001b[0m\u001b[0;34m.\u001b[0m\u001b[0mravel\u001b[0m\u001b[0;34m(\u001b[0m\u001b[0;34m)\u001b[0m\u001b[0;34m\u001b[0m\u001b[0;34m\u001b[0m\u001b[0m\n\u001b[1;32m    589\u001b[0m             \u001b[0;32mtry\u001b[0m\u001b[0;34m:\u001b[0m\u001b[0;34m\u001b[0m\u001b[0;34m\u001b[0m\u001b[0m\n\u001b[0;32m--> 590\u001b[0;31m                 \u001b[0mvalues\u001b[0m \u001b[0;34m=\u001b[0m \u001b[0mastype_nansafe\u001b[0m\u001b[0;34m(\u001b[0m\u001b[0mvals1d\u001b[0m\u001b[0;34m,\u001b[0m \u001b[0mdtype\u001b[0m\u001b[0;34m,\u001b[0m \u001b[0mcopy\u001b[0m\u001b[0;34m=\u001b[0m\u001b[0;32mTrue\u001b[0m\u001b[0;34m)\u001b[0m\u001b[0;34m\u001b[0m\u001b[0;34m\u001b[0m\u001b[0m\n\u001b[0m\u001b[1;32m    591\u001b[0m             \u001b[0;32mexcept\u001b[0m \u001b[0;34m(\u001b[0m\u001b[0mValueError\u001b[0m\u001b[0;34m,\u001b[0m \u001b[0mTypeError\u001b[0m\u001b[0;34m)\u001b[0m\u001b[0;34m:\u001b[0m\u001b[0;34m\u001b[0m\u001b[0;34m\u001b[0m\u001b[0m\n\u001b[1;32m    592\u001b[0m                 \u001b[0;31m# e.g. astype_nansafe can fail on object-dtype of strings\u001b[0m\u001b[0;34m\u001b[0m\u001b[0;34m\u001b[0m\u001b[0;34m\u001b[0m\u001b[0m\n",
      "\u001b[0;32m~/opt/anaconda3/envs/geo/lib/python3.8/site-packages/pandas/core/dtypes/cast.py\u001b[0m in \u001b[0;36mastype_nansafe\u001b[0;34m(arr, dtype, copy, skipna)\u001b[0m\n\u001b[1;32m    987\u001b[0m     \u001b[0;32mif\u001b[0m \u001b[0mcopy\u001b[0m \u001b[0;32mor\u001b[0m \u001b[0mis_object_dtype\u001b[0m\u001b[0;34m(\u001b[0m\u001b[0marr\u001b[0m\u001b[0;34m)\u001b[0m \u001b[0;32mor\u001b[0m \u001b[0mis_object_dtype\u001b[0m\u001b[0;34m(\u001b[0m\u001b[0mdtype\u001b[0m\u001b[0;34m)\u001b[0m\u001b[0;34m:\u001b[0m\u001b[0;34m\u001b[0m\u001b[0;34m\u001b[0m\u001b[0m\n\u001b[1;32m    988\u001b[0m         \u001b[0;31m# Explicit copy, or required since NumPy can't view from / to object.\u001b[0m\u001b[0;34m\u001b[0m\u001b[0;34m\u001b[0m\u001b[0;34m\u001b[0m\u001b[0m\n\u001b[0;32m--> 989\u001b[0;31m         \u001b[0;32mreturn\u001b[0m \u001b[0marr\u001b[0m\u001b[0;34m.\u001b[0m\u001b[0mastype\u001b[0m\u001b[0;34m(\u001b[0m\u001b[0mdtype\u001b[0m\u001b[0;34m,\u001b[0m \u001b[0mcopy\u001b[0m\u001b[0;34m=\u001b[0m\u001b[0;32mTrue\u001b[0m\u001b[0;34m)\u001b[0m\u001b[0;34m\u001b[0m\u001b[0;34m\u001b[0m\u001b[0m\n\u001b[0m\u001b[1;32m    990\u001b[0m \u001b[0;34m\u001b[0m\u001b[0m\n\u001b[1;32m    991\u001b[0m     \u001b[0;32mreturn\u001b[0m \u001b[0marr\u001b[0m\u001b[0;34m.\u001b[0m\u001b[0mview\u001b[0m\u001b[0;34m(\u001b[0m\u001b[0mdtype\u001b[0m\u001b[0;34m)\u001b[0m\u001b[0;34m\u001b[0m\u001b[0;34m\u001b[0m\u001b[0m\n",
      "\u001b[0;31mValueError\u001b[0m: could not convert string to float: '1471 (USD)'"
     ]
    }
   ],
   "source": [
    "# convert rent from string -> float\n",
    "df['med_gross_rent'].astype(float)"
   ]
  },
  {
   "cell_type": "markdown",
   "metadata": {},
   "source": [
    "You can do string operations on pandas Series to clean up their values"
   ]
  },
  {
   "cell_type": "code",
   "execution_count": 24,
   "metadata": {},
   "outputs": [],
   "source": [
    "# do a string replace and assign back to that column, then change type to float\n",
    "df['med_gross_rent'] = df['med_gross_rent'].str.replace(' (USD)', '', regex=False)\n",
    "df['med_gross_rent'] = df['med_gross_rent'].astype(float)"
   ]
  },
  {
   "cell_type": "code",
   "execution_count": 25,
   "metadata": {},
   "outputs": [],
   "source": [
    "# now clean up the income column then convert it from string -> float\n",
    "# do a string replace and assign back to that column\n",
    "df['med_household_income'] = df['med_household_income'].str.replace('$', '', regex=False)\n",
    "df['med_household_income'] = df['med_household_income'].astype(float)"
   ]
  },
  {
   "cell_type": "code",
   "execution_count": 26,
   "metadata": {},
   "outputs": [
    {
     "ename": "ValueError",
     "evalue": "Cannot convert non-finite values (NA or inf) to integer",
     "output_type": "error",
     "traceback": [
      "\u001b[0;31m---------------------------------------------------------------------------\u001b[0m",
      "\u001b[0;31mValueError\u001b[0m                                Traceback (most recent call last)",
      "\u001b[0;32m<ipython-input-26-537c33bd53d2>\u001b[0m in \u001b[0;36m<module>\u001b[0;34m\u001b[0m\n\u001b[1;32m      1\u001b[0m \u001b[0;31m# convert rent from float -> int\u001b[0m\u001b[0;34m\u001b[0m\u001b[0;34m\u001b[0m\u001b[0;34m\u001b[0m\u001b[0m\n\u001b[0;32m----> 2\u001b[0;31m \u001b[0mdf\u001b[0m\u001b[0;34m[\u001b[0m\u001b[0;34m'med_gross_rent'\u001b[0m\u001b[0;34m]\u001b[0m\u001b[0;34m.\u001b[0m\u001b[0mastype\u001b[0m\u001b[0;34m(\u001b[0m\u001b[0mint\u001b[0m\u001b[0;34m)\u001b[0m\u001b[0;34m\u001b[0m\u001b[0;34m\u001b[0m\u001b[0m\n\u001b[0m",
      "\u001b[0;32m~/opt/anaconda3/envs/geo/lib/python3.8/site-packages/pandas/core/generic.py\u001b[0m in \u001b[0;36mastype\u001b[0;34m(self, dtype, copy, errors)\u001b[0m\n\u001b[1;32m   5535\u001b[0m         \u001b[0;32melse\u001b[0m\u001b[0;34m:\u001b[0m\u001b[0;34m\u001b[0m\u001b[0;34m\u001b[0m\u001b[0m\n\u001b[1;32m   5536\u001b[0m             \u001b[0;31m# else, only a single dtype is given\u001b[0m\u001b[0;34m\u001b[0m\u001b[0;34m\u001b[0m\u001b[0;34m\u001b[0m\u001b[0m\n\u001b[0;32m-> 5537\u001b[0;31m             \u001b[0mnew_data\u001b[0m \u001b[0;34m=\u001b[0m \u001b[0mself\u001b[0m\u001b[0;34m.\u001b[0m\u001b[0m_mgr\u001b[0m\u001b[0;34m.\u001b[0m\u001b[0mastype\u001b[0m\u001b[0;34m(\u001b[0m\u001b[0mdtype\u001b[0m\u001b[0;34m=\u001b[0m\u001b[0mdtype\u001b[0m\u001b[0;34m,\u001b[0m \u001b[0mcopy\u001b[0m\u001b[0;34m=\u001b[0m\u001b[0mcopy\u001b[0m\u001b[0;34m,\u001b[0m \u001b[0merrors\u001b[0m\u001b[0;34m=\u001b[0m\u001b[0merrors\u001b[0m\u001b[0;34m,\u001b[0m\u001b[0;34m)\u001b[0m\u001b[0;34m\u001b[0m\u001b[0;34m\u001b[0m\u001b[0m\n\u001b[0m\u001b[1;32m   5538\u001b[0m             \u001b[0;32mreturn\u001b[0m \u001b[0mself\u001b[0m\u001b[0;34m.\u001b[0m\u001b[0m_constructor\u001b[0m\u001b[0;34m(\u001b[0m\u001b[0mnew_data\u001b[0m\u001b[0;34m)\u001b[0m\u001b[0;34m.\u001b[0m\u001b[0m__finalize__\u001b[0m\u001b[0;34m(\u001b[0m\u001b[0mself\u001b[0m\u001b[0;34m,\u001b[0m \u001b[0mmethod\u001b[0m\u001b[0;34m=\u001b[0m\u001b[0;34m\"astype\"\u001b[0m\u001b[0;34m)\u001b[0m\u001b[0;34m\u001b[0m\u001b[0;34m\u001b[0m\u001b[0m\n\u001b[1;32m   5539\u001b[0m \u001b[0;34m\u001b[0m\u001b[0m\n",
      "\u001b[0;32m~/opt/anaconda3/envs/geo/lib/python3.8/site-packages/pandas/core/internals/managers.py\u001b[0m in \u001b[0;36mastype\u001b[0;34m(self, dtype, copy, errors)\u001b[0m\n\u001b[1;32m    565\u001b[0m         \u001b[0mself\u001b[0m\u001b[0;34m,\u001b[0m \u001b[0mdtype\u001b[0m\u001b[0;34m,\u001b[0m \u001b[0mcopy\u001b[0m\u001b[0;34m:\u001b[0m \u001b[0mbool\u001b[0m \u001b[0;34m=\u001b[0m \u001b[0;32mFalse\u001b[0m\u001b[0;34m,\u001b[0m \u001b[0merrors\u001b[0m\u001b[0;34m:\u001b[0m \u001b[0mstr\u001b[0m \u001b[0;34m=\u001b[0m \u001b[0;34m\"raise\"\u001b[0m\u001b[0;34m\u001b[0m\u001b[0;34m\u001b[0m\u001b[0m\n\u001b[1;32m    566\u001b[0m     ) -> \"BlockManager\":\n\u001b[0;32m--> 567\u001b[0;31m         \u001b[0;32mreturn\u001b[0m \u001b[0mself\u001b[0m\u001b[0;34m.\u001b[0m\u001b[0mapply\u001b[0m\u001b[0;34m(\u001b[0m\u001b[0;34m\"astype\"\u001b[0m\u001b[0;34m,\u001b[0m \u001b[0mdtype\u001b[0m\u001b[0;34m=\u001b[0m\u001b[0mdtype\u001b[0m\u001b[0;34m,\u001b[0m \u001b[0mcopy\u001b[0m\u001b[0;34m=\u001b[0m\u001b[0mcopy\u001b[0m\u001b[0;34m,\u001b[0m \u001b[0merrors\u001b[0m\u001b[0;34m=\u001b[0m\u001b[0merrors\u001b[0m\u001b[0;34m)\u001b[0m\u001b[0;34m\u001b[0m\u001b[0;34m\u001b[0m\u001b[0m\n\u001b[0m\u001b[1;32m    568\u001b[0m \u001b[0;34m\u001b[0m\u001b[0m\n\u001b[1;32m    569\u001b[0m     def convert(\n",
      "\u001b[0;32m~/opt/anaconda3/envs/geo/lib/python3.8/site-packages/pandas/core/internals/managers.py\u001b[0m in \u001b[0;36mapply\u001b[0;34m(self, f, align_keys, **kwargs)\u001b[0m\n\u001b[1;32m    394\u001b[0m                 \u001b[0mapplied\u001b[0m \u001b[0;34m=\u001b[0m \u001b[0mb\u001b[0m\u001b[0;34m.\u001b[0m\u001b[0mapply\u001b[0m\u001b[0;34m(\u001b[0m\u001b[0mf\u001b[0m\u001b[0;34m,\u001b[0m \u001b[0;34m**\u001b[0m\u001b[0mkwargs\u001b[0m\u001b[0;34m)\u001b[0m\u001b[0;34m\u001b[0m\u001b[0;34m\u001b[0m\u001b[0m\n\u001b[1;32m    395\u001b[0m             \u001b[0;32melse\u001b[0m\u001b[0;34m:\u001b[0m\u001b[0;34m\u001b[0m\u001b[0;34m\u001b[0m\u001b[0m\n\u001b[0;32m--> 396\u001b[0;31m                 \u001b[0mapplied\u001b[0m \u001b[0;34m=\u001b[0m \u001b[0mgetattr\u001b[0m\u001b[0;34m(\u001b[0m\u001b[0mb\u001b[0m\u001b[0;34m,\u001b[0m \u001b[0mf\u001b[0m\u001b[0;34m)\u001b[0m\u001b[0;34m(\u001b[0m\u001b[0;34m**\u001b[0m\u001b[0mkwargs\u001b[0m\u001b[0;34m)\u001b[0m\u001b[0;34m\u001b[0m\u001b[0;34m\u001b[0m\u001b[0m\n\u001b[0m\u001b[1;32m    397\u001b[0m             \u001b[0mresult_blocks\u001b[0m \u001b[0;34m=\u001b[0m \u001b[0m_extend_blocks\u001b[0m\u001b[0;34m(\u001b[0m\u001b[0mapplied\u001b[0m\u001b[0;34m,\u001b[0m \u001b[0mresult_blocks\u001b[0m\u001b[0;34m)\u001b[0m\u001b[0;34m\u001b[0m\u001b[0;34m\u001b[0m\u001b[0m\n\u001b[1;32m    398\u001b[0m \u001b[0;34m\u001b[0m\u001b[0m\n",
      "\u001b[0;32m~/opt/anaconda3/envs/geo/lib/python3.8/site-packages/pandas/core/internals/blocks.py\u001b[0m in \u001b[0;36mastype\u001b[0;34m(self, dtype, copy, errors)\u001b[0m\n\u001b[1;32m    588\u001b[0m             \u001b[0mvals1d\u001b[0m \u001b[0;34m=\u001b[0m \u001b[0mvalues\u001b[0m\u001b[0;34m.\u001b[0m\u001b[0mravel\u001b[0m\u001b[0;34m(\u001b[0m\u001b[0;34m)\u001b[0m\u001b[0;34m\u001b[0m\u001b[0;34m\u001b[0m\u001b[0m\n\u001b[1;32m    589\u001b[0m             \u001b[0;32mtry\u001b[0m\u001b[0;34m:\u001b[0m\u001b[0;34m\u001b[0m\u001b[0;34m\u001b[0m\u001b[0m\n\u001b[0;32m--> 590\u001b[0;31m                 \u001b[0mvalues\u001b[0m \u001b[0;34m=\u001b[0m \u001b[0mastype_nansafe\u001b[0m\u001b[0;34m(\u001b[0m\u001b[0mvals1d\u001b[0m\u001b[0;34m,\u001b[0m \u001b[0mdtype\u001b[0m\u001b[0;34m,\u001b[0m \u001b[0mcopy\u001b[0m\u001b[0;34m=\u001b[0m\u001b[0;32mTrue\u001b[0m\u001b[0;34m)\u001b[0m\u001b[0;34m\u001b[0m\u001b[0;34m\u001b[0m\u001b[0m\n\u001b[0m\u001b[1;32m    591\u001b[0m             \u001b[0;32mexcept\u001b[0m \u001b[0;34m(\u001b[0m\u001b[0mValueError\u001b[0m\u001b[0;34m,\u001b[0m \u001b[0mTypeError\u001b[0m\u001b[0;34m)\u001b[0m\u001b[0;34m:\u001b[0m\u001b[0;34m\u001b[0m\u001b[0;34m\u001b[0m\u001b[0m\n\u001b[1;32m    592\u001b[0m                 \u001b[0;31m# e.g. astype_nansafe can fail on object-dtype of strings\u001b[0m\u001b[0;34m\u001b[0m\u001b[0;34m\u001b[0m\u001b[0;34m\u001b[0m\u001b[0m\n",
      "\u001b[0;32m~/opt/anaconda3/envs/geo/lib/python3.8/site-packages/pandas/core/dtypes/cast.py\u001b[0m in \u001b[0;36mastype_nansafe\u001b[0;34m(arr, dtype, copy, skipna)\u001b[0m\n\u001b[1;32m    958\u001b[0m \u001b[0;34m\u001b[0m\u001b[0m\n\u001b[1;32m    959\u001b[0m         \u001b[0;32mif\u001b[0m \u001b[0;32mnot\u001b[0m \u001b[0mnp\u001b[0m\u001b[0;34m.\u001b[0m\u001b[0misfinite\u001b[0m\u001b[0;34m(\u001b[0m\u001b[0marr\u001b[0m\u001b[0;34m)\u001b[0m\u001b[0;34m.\u001b[0m\u001b[0mall\u001b[0m\u001b[0;34m(\u001b[0m\u001b[0;34m)\u001b[0m\u001b[0;34m:\u001b[0m\u001b[0;34m\u001b[0m\u001b[0;34m\u001b[0m\u001b[0m\n\u001b[0;32m--> 960\u001b[0;31m             \u001b[0;32mraise\u001b[0m \u001b[0mValueError\u001b[0m\u001b[0;34m(\u001b[0m\u001b[0;34m\"Cannot convert non-finite values (NA or inf) to integer\"\u001b[0m\u001b[0;34m)\u001b[0m\u001b[0;34m\u001b[0m\u001b[0;34m\u001b[0m\u001b[0m\n\u001b[0m\u001b[1;32m    961\u001b[0m \u001b[0;34m\u001b[0m\u001b[0m\n\u001b[1;32m    962\u001b[0m     \u001b[0;32melif\u001b[0m \u001b[0mis_object_dtype\u001b[0m\u001b[0;34m(\u001b[0m\u001b[0marr\u001b[0m\u001b[0;34m)\u001b[0m\u001b[0;34m:\u001b[0m\u001b[0;34m\u001b[0m\u001b[0;34m\u001b[0m\u001b[0m\n",
      "\u001b[0;31mValueError\u001b[0m: Cannot convert non-finite values (NA or inf) to integer"
     ]
    }
   ],
   "source": [
    "# convert rent from float -> int\n",
    "df['med_gross_rent'].astype(int)"
   ]
  },
  {
   "cell_type": "markdown",
   "metadata": {},
   "source": [
    "You cannot store null values as type `int`, only as type `float`. You have three basic options:\n",
    "\n",
    "  1. Keep the column as float to retain the nulls - they are often important!\n",
    "  2. Drop all the rows that contain nulls if we need non-null data for our analysis\n",
    "  3. Fill in all the nulls with another value if we know a reliable default value"
   ]
  },
  {
   "cell_type": "code",
   "execution_count": 27,
   "metadata": {},
   "outputs": [
    {
     "data": {
      "text/plain": [
       "(2346, 25)"
      ]
     },
     "execution_count": 27,
     "metadata": {},
     "output_type": "execute_result"
    }
   ],
   "source": [
    "df.shape"
   ]
  },
  {
   "cell_type": "code",
   "execution_count": 28,
   "metadata": {},
   "outputs": [
    {
     "data": {
      "text/plain": [
       "(2298, 25)"
      ]
     },
     "execution_count": 28,
     "metadata": {},
     "output_type": "execute_result"
    }
   ],
   "source": [
    "# drop rows that contain nulls\n",
    "# this doesn't save the result, because we didn't reassign! (in reality, want to keep the nulls here)\n",
    "df.dropna(subset=['med_gross_rent']).shape"
   ]
  },
  {
   "cell_type": "code",
   "execution_count": 29,
   "metadata": {},
   "outputs": [
    {
     "data": {
      "text/plain": [
       "0    1471.0\n",
       "1    1924.0\n",
       "2    1418.0\n",
       "3    1763.0\n",
       "4    2325.0\n",
       "5       0.0\n",
       "6    2934.0\n",
       "7    1795.0\n",
       "8    1401.0\n",
       "9    1825.0\n",
       "Name: med_gross_rent, dtype: float64"
      ]
     },
     "execution_count": 29,
     "metadata": {},
     "output_type": "execute_result"
    }
   ],
   "source": [
    "# fill in rows that contain nulls\n",
    "# this doesn't save the result, because we didn't reassign! (in reality, want to keep the nulls here)\n",
    "df['med_gross_rent'].fillna(value=0).head(10)"
   ]
  },
  {
   "cell_type": "code",
   "execution_count": 30,
   "metadata": {},
   "outputs": [
    {
     "data": {
      "text/html": [
       "<div>\n",
       "<style scoped>\n",
       "    .dataframe tbody tr th:only-of-type {\n",
       "        vertical-align: middle;\n",
       "    }\n",
       "\n",
       "    .dataframe tbody tr th {\n",
       "        vertical-align: top;\n",
       "    }\n",
       "\n",
       "    .dataframe thead th {\n",
       "        text-align: right;\n",
       "    }\n",
       "</style>\n",
       "<table border=\"1\" class=\"dataframe\">\n",
       "  <thead>\n",
       "    <tr style=\"text-align: right;\">\n",
       "      <th></th>\n",
       "      <th>GEOID10</th>\n",
       "      <th>total_pop</th>\n",
       "      <th>median_age</th>\n",
       "      <th>pct_hispanic</th>\n",
       "      <th>pct_white</th>\n",
       "      <th>pct_black</th>\n",
       "      <th>pct_asian</th>\n",
       "      <th>pct_male</th>\n",
       "      <th>pct_single_family_home</th>\n",
       "      <th>med_home_value</th>\n",
       "      <th>...</th>\n",
       "      <th>mean_commute_time</th>\n",
       "      <th>pct_commute_drive_alone</th>\n",
       "      <th>pct_below_poverty</th>\n",
       "      <th>pct_college_grad_student</th>\n",
       "      <th>pct_same_residence_year_ago</th>\n",
       "      <th>pct_bachelors_degree</th>\n",
       "      <th>pct_english_only</th>\n",
       "      <th>pct_foreign_born</th>\n",
       "      <th>state</th>\n",
       "      <th>county</th>\n",
       "    </tr>\n",
       "  </thead>\n",
       "  <tbody>\n",
       "    <tr>\n",
       "      <th>0</th>\n",
       "      <td>06037106010</td>\n",
       "      <td>3342.0</td>\n",
       "      <td>38.2</td>\n",
       "      <td>73.6</td>\n",
       "      <td>14.8</td>\n",
       "      <td>3.6</td>\n",
       "      <td>145.0</td>\n",
       "      <td>47.0</td>\n",
       "      <td>77.2</td>\n",
       "      <td>460800.0</td>\n",
       "      <td>...</td>\n",
       "      <td>31.5</td>\n",
       "      <td>76.2</td>\n",
       "      <td>21.3</td>\n",
       "      <td>23.8</td>\n",
       "      <td>87.9</td>\n",
       "      <td>20.4</td>\n",
       "      <td>42.1</td>\n",
       "      <td>28.1</td>\n",
       "      <td>06</td>\n",
       "      <td>037</td>\n",
       "    </tr>\n",
       "    <tr>\n",
       "      <th>1</th>\n",
       "      <td>06037106020</td>\n",
       "      <td>5937.0</td>\n",
       "      <td>37.9</td>\n",
       "      <td>81.1</td>\n",
       "      <td>15.4</td>\n",
       "      <td>1.0</td>\n",
       "      <td>92.0</td>\n",
       "      <td>51.9</td>\n",
       "      <td>95.8</td>\n",
       "      <td>441100.0</td>\n",
       "      <td>...</td>\n",
       "      <td>32.6</td>\n",
       "      <td>82.5</td>\n",
       "      <td>11.4</td>\n",
       "      <td>36.9</td>\n",
       "      <td>95.1</td>\n",
       "      <td>15.5</td>\n",
       "      <td>29.0</td>\n",
       "      <td>37.5</td>\n",
       "      <td>06</td>\n",
       "      <td>037</td>\n",
       "    </tr>\n",
       "    <tr>\n",
       "      <th>2</th>\n",
       "      <td>06037134720</td>\n",
       "      <td>4645.0</td>\n",
       "      <td>33.6</td>\n",
       "      <td>46.9</td>\n",
       "      <td>23.2</td>\n",
       "      <td>5.0</td>\n",
       "      <td>991.0</td>\n",
       "      <td>49.9</td>\n",
       "      <td>40.2</td>\n",
       "      <td>450600.0</td>\n",
       "      <td>...</td>\n",
       "      <td>28.0</td>\n",
       "      <td>73.6</td>\n",
       "      <td>13.0</td>\n",
       "      <td>32.6</td>\n",
       "      <td>87.4</td>\n",
       "      <td>25.0</td>\n",
       "      <td>32.6</td>\n",
       "      <td>42.2</td>\n",
       "      <td>06</td>\n",
       "      <td>037</td>\n",
       "    </tr>\n",
       "    <tr>\n",
       "      <th>3</th>\n",
       "      <td>06037137201</td>\n",
       "      <td>6226.0</td>\n",
       "      <td>33.4</td>\n",
       "      <td>19.2</td>\n",
       "      <td>53.6</td>\n",
       "      <td>4.9</td>\n",
       "      <td>1315.0</td>\n",
       "      <td>50.8</td>\n",
       "      <td>34.9</td>\n",
       "      <td>605300.0</td>\n",
       "      <td>...</td>\n",
       "      <td>29.3</td>\n",
       "      <td>71.3</td>\n",
       "      <td>7.1</td>\n",
       "      <td>29.9</td>\n",
       "      <td>86.0</td>\n",
       "      <td>51.0</td>\n",
       "      <td>54.5</td>\n",
       "      <td>39.2</td>\n",
       "      <td>06</td>\n",
       "      <td>037</td>\n",
       "    </tr>\n",
       "    <tr>\n",
       "      <th>4</th>\n",
       "      <td>06037137502</td>\n",
       "      <td>4627.0</td>\n",
       "      <td>41.9</td>\n",
       "      <td>13.2</td>\n",
       "      <td>67.2</td>\n",
       "      <td>10.8</td>\n",
       "      <td>174.0</td>\n",
       "      <td>47.1</td>\n",
       "      <td>77.0</td>\n",
       "      <td>668400.0</td>\n",
       "      <td>...</td>\n",
       "      <td>32.0</td>\n",
       "      <td>84.9</td>\n",
       "      <td>5.7</td>\n",
       "      <td>22.9</td>\n",
       "      <td>80.8</td>\n",
       "      <td>54.9</td>\n",
       "      <td>77.9</td>\n",
       "      <td>20.1</td>\n",
       "      <td>06</td>\n",
       "      <td>037</td>\n",
       "    </tr>\n",
       "  </tbody>\n",
       "</table>\n",
       "<p>5 rows × 27 columns</p>\n",
       "</div>"
      ],
      "text/plain": [
       "       GEOID10  total_pop  median_age  pct_hispanic  pct_white  pct_black  \\\n",
       "0  06037106010     3342.0        38.2          73.6       14.8        3.6   \n",
       "1  06037106020     5937.0        37.9          81.1       15.4        1.0   \n",
       "2  06037134720     4645.0        33.6          46.9       23.2        5.0   \n",
       "3  06037137201     6226.0        33.4          19.2       53.6        4.9   \n",
       "4  06037137502     4627.0        41.9          13.2       67.2       10.8   \n",
       "\n",
       "   pct_asian  pct_male  pct_single_family_home  med_home_value  ...  \\\n",
       "0      145.0      47.0                    77.2        460800.0  ...   \n",
       "1       92.0      51.9                    95.8        441100.0  ...   \n",
       "2      991.0      49.9                    40.2        450600.0  ...   \n",
       "3     1315.0      50.8                    34.9        605300.0  ...   \n",
       "4      174.0      47.1                    77.0        668400.0  ...   \n",
       "\n",
       "   mean_commute_time  pct_commute_drive_alone  pct_below_poverty  \\\n",
       "0               31.5                     76.2               21.3   \n",
       "1               32.6                     82.5               11.4   \n",
       "2               28.0                     73.6               13.0   \n",
       "3               29.3                     71.3                7.1   \n",
       "4               32.0                     84.9                5.7   \n",
       "\n",
       "   pct_college_grad_student  pct_same_residence_year_ago  \\\n",
       "0                      23.8                         87.9   \n",
       "1                      36.9                         95.1   \n",
       "2                      32.6                         87.4   \n",
       "3                      29.9                         86.0   \n",
       "4                      22.9                         80.8   \n",
       "\n",
       "   pct_bachelors_degree  pct_english_only  pct_foreign_born  state  county  \n",
       "0                  20.4              42.1              28.1     06     037  \n",
       "1                  15.5              29.0              37.5     06     037  \n",
       "2                  25.0              32.6              42.2     06     037  \n",
       "3                  51.0              54.5              39.2     06     037  \n",
       "4                  54.9              77.9              20.1     06     037  \n",
       "\n",
       "[5 rows x 27 columns]"
      ]
     },
     "execution_count": 30,
     "metadata": {},
     "output_type": "execute_result"
    }
   ],
   "source": [
    "# more string operations: slice state fips and county fips out of the tract fips string\n",
    "# assign them to new dataframe columns\n",
    "df['state'] = df['GEOID10'].str.slice(0, 2)\n",
    "df['county'] = df['GEOID10'].str.slice(2, 5)\n",
    "df.head()"
   ]
  },
  {
   "cell_type": "code",
   "execution_count": null,
   "metadata": {},
   "outputs": [],
   "source": [
    "# dict that maps state fips code -> state name\n",
    "fips = {'04' : 'Arizona',\n",
    "        '06' : 'California',\n",
    "        '41' : 'Oregon'}\n",
    "\n",
    "# replace fips code with state name with the replace() method\n",
    "df['state'] = df['state'].replace(fips)"
   ]
  },
  {
   "cell_type": "code",
   "execution_count": null,
   "metadata": {},
   "outputs": [],
   "source": [
    "# you can rename columns with the rename() method\n",
    "# remember to reassign to save the result\n",
    "df = df.rename(columns={'state' : 'state_name'})"
   ]
  },
  {
   "cell_type": "code",
   "execution_count": null,
   "metadata": {},
   "outputs": [],
   "source": [
    "# you can drop columns you don't need with the drop() method\n",
    "# remember to reassign to save the result\n",
    "df = df.drop(columns=['county'])"
   ]
  },
  {
   "cell_type": "code",
   "execution_count": null,
   "metadata": {},
   "outputs": [],
   "source": [
    "# inspect the cleaned-up dataframe\n",
    "df.head()"
   ]
  },
  {
   "cell_type": "code",
   "execution_count": null,
   "metadata": {},
   "outputs": [],
   "source": [
    "# save it to disk as a \"clean\" copy\n",
    "# note the relative filepath\n",
    "df.to_csv('../data/census_tracts_data_la-clean.csv', index=False, encoding='utf-8')"
   ]
  },
  {
   "cell_type": "markdown",
   "metadata": {},
   "source": [
    "## 4. Selecting and slicing data from a DataFrame"
   ]
  },
  {
   "cell_type": "code",
   "execution_count": null,
   "metadata": {},
   "outputs": [],
   "source": [
    "# CHEAT SHEET OF COMMON TASKS\n",
    "# Operation                       Syntax           Result\n",
    "#------------------------------------------------------------\n",
    "# Select column by name           df[col]          Series\n",
    "# Select columns by name          df[col_list]     DataFrame\n",
    "# Select row by label             df.loc[label]    Series\n",
    "# Select row by integer location  df.iloc[loc]     Series\n",
    "# Slice rows by label             df.loc[a:c]      DataFrame\n",
    "# Select rows by boolean vector   df[mask]         DataFrame"
   ]
  },
  {
   "cell_type": "markdown",
   "metadata": {},
   "source": [
    "### 4a. Select DataFrame's column(s) by name\n",
    "\n",
    "We saw some of this a minute ago. Let's look in a bit more detail and break down what's happening."
   ]
  },
  {
   "cell_type": "code",
   "execution_count": null,
   "metadata": {},
   "outputs": [],
   "source": [
    "# select a single column by column name\n",
    "# this is a pandas series\n",
    "df['total_pop']"
   ]
  },
  {
   "cell_type": "code",
   "execution_count": null,
   "metadata": {},
   "outputs": [],
   "source": [
    "# select multiple columns by a list of column names\n",
    "# this is a pandas dataframe that is a subset of the original\n",
    "df[['total_pop', 'median_age']]"
   ]
  },
  {
   "cell_type": "code",
   "execution_count": null,
   "metadata": {},
   "outputs": [],
   "source": [
    "# create a new column by assigning df['new_col'] to some set of values\n",
    "# you can do math operations on any numeric columns\n",
    "df['monthly_income'] = df['med_household_income'] / 12\n",
    "df['rent_burden'] = df['med_gross_rent'] / df['monthly_income']\n",
    "\n",
    "# inspect the results\n",
    "df[['med_household_income', 'monthly_income', 'med_gross_rent', 'rent_burden']].head()"
   ]
  },
  {
   "cell_type": "markdown",
   "metadata": {},
   "source": [
    "### 4b. Select row(s) by label"
   ]
  },
  {
   "cell_type": "code",
   "execution_count": null,
   "metadata": {},
   "outputs": [],
   "source": [
    "# use .loc to select by row label\n",
    "# returns the row as a series whose index is the dataframe column names\n",
    "df.loc[0]"
   ]
  },
  {
   "cell_type": "code",
   "execution_count": null,
   "metadata": {},
   "outputs": [],
   "source": [
    "# use .loc to select single value by row label, column name\n",
    "df.loc[0, 'pct_below_poverty']"
   ]
  },
  {
   "cell_type": "code",
   "execution_count": null,
   "metadata": {},
   "outputs": [],
   "source": [
    "# slice of rows from label 5 to label 7, inclusive\n",
    "# this returns a pandas dataframe\n",
    "df.loc[5:7]"
   ]
  },
  {
   "cell_type": "code",
   "execution_count": null,
   "metadata": {},
   "outputs": [],
   "source": [
    "# slice of rows from label 5 to label 7, inclusive\n",
    "# slice of columns from pct_hispanic to pct_asian, inclusive\n",
    "df.loc[1:3, 'pct_hispanic':'pct_asian']"
   ]
  },
  {
   "cell_type": "code",
   "execution_count": null,
   "metadata": {},
   "outputs": [],
   "source": [
    "# subset of rows from with labels in list\n",
    "# subset of columns with names in list\n",
    "df.loc[[1, 3], ['pct_hispanic', 'pct_asian']]"
   ]
  },
  {
   "cell_type": "code",
   "execution_count": null,
   "metadata": {},
   "outputs": [],
   "source": [
    "# you can use a column of unique identifiers as the index\n",
    "# fips codes uniquely identify each row (but verify!)\n",
    "df = df.set_index('GEOID10')\n",
    "df.index.is_unique"
   ]
  },
  {
   "cell_type": "code",
   "execution_count": null,
   "metadata": {},
   "outputs": [],
   "source": [
    "df.head()"
   ]
  },
  {
   "cell_type": "code",
   "execution_count": null,
   "metadata": {},
   "outputs": [],
   "source": [
    "# .loc works by label, not by position in the dataframe\n",
    "df.loc[0]"
   ]
  },
  {
   "cell_type": "code",
   "execution_count": null,
   "metadata": {},
   "outputs": [],
   "source": [
    "# the index now contains fips codes, so you have to use .loc accordingly to select by row label\n",
    "df.loc['06037137201']"
   ]
  },
  {
   "cell_type": "markdown",
   "metadata": {},
   "source": [
    "### 4c. Select by (integer) position"
   ]
  },
  {
   "cell_type": "code",
   "execution_count": null,
   "metadata": {},
   "outputs": [],
   "source": [
    "# get the row in the zero-th position in the dataframe\n",
    "df.iloc[0]"
   ]
  },
  {
   "cell_type": "code",
   "execution_count": null,
   "metadata": {},
   "outputs": [],
   "source": [
    "# you can slice as well\n",
    "# note, while .loc[] is inclusive, .iloc[] is not\n",
    "# get the rows from position 0 up to but not including position 3 (ie, rows 0, 1, and 2)\n",
    "df.iloc[0:3]"
   ]
  },
  {
   "cell_type": "code",
   "execution_count": null,
   "metadata": {},
   "outputs": [],
   "source": [
    "# get the value from the row in position 3 and the column in position 2 (zero-indexed)\n",
    "df.iloc[3, 2]"
   ]
  },
  {
   "cell_type": "markdown",
   "metadata": {},
   "source": [
    "### 4d. Select/filter by value\n",
    "\n",
    "You can subset or filter a dataframe for based on the values in its rows/columns."
   ]
  },
  {
   "cell_type": "code",
   "execution_count": null,
   "metadata": {},
   "outputs": [],
   "source": [
    "# filter the dataframe by rows with 30%+ rent burden\n",
    "df[df['rent_burden'] > 0.3]"
   ]
  },
  {
   "cell_type": "code",
   "execution_count": null,
   "metadata": {},
   "outputs": [],
   "source": [
    "# what exactly did that do? let's break it out.\n",
    "df['rent_burden'] > 0.3"
   ]
  },
  {
   "cell_type": "code",
   "execution_count": null,
   "metadata": {},
   "outputs": [],
   "source": [
    "# essentially a true/false mask that filters by value\n",
    "mask = df['rent_burden'] > 0.3\n",
    "df[mask]"
   ]
  },
  {
   "cell_type": "code",
   "execution_count": null,
   "metadata": {},
   "outputs": [],
   "source": [
    "# you can chain multiple conditions together\n",
    "# pandas logical operators are: | for or, & for and, ~ for not\n",
    "# these must be grouped by using parentheses due to order of operations\n",
    "# question: which tracts are both rent-burdened and majority-Black?\n",
    "mask = (df['rent_burden'] > 0.3) & (df['pct_black'] > 50)\n",
    "df[mask].shape"
   ]
  },
  {
   "cell_type": "code",
   "execution_count": null,
   "metadata": {},
   "outputs": [],
   "source": [
    "# which tracts are both rent-burdened and either majority-Black or majority-Hispanic?\n",
    "mask1 = df['rent_burden'] > 0.3\n",
    "mask2 = df['pct_black'] > 50\n",
    "mask3 = df['pct_hispanic'] > 50\n",
    "mask = mask1 & (mask2 | mask3)\n",
    "df[mask].shape"
   ]
  },
  {
   "cell_type": "code",
   "execution_count": null,
   "metadata": {},
   "outputs": [],
   "source": [
    "# see the mask\n",
    "mask"
   ]
  },
  {
   "cell_type": "code",
   "execution_count": null,
   "metadata": {},
   "outputs": [],
   "source": [
    "# ~ means not... it essentially flips trues to falses and vice-versa\n",
    "~mask"
   ]
  },
  {
   "cell_type": "code",
   "execution_count": null,
   "metadata": {},
   "outputs": [],
   "source": [
    "# which rows are in a state that begins with \"Cal\"?\n",
    "# all of them... because we're looking only at LA county\n",
    "mask = df['state_name'].str.startswith('Cal')\n",
    "df[mask].shape"
   ]
  },
  {
   "cell_type": "code",
   "execution_count": null,
   "metadata": {},
   "outputs": [],
   "source": [
    "# now it's your turn\n",
    "# create a new subset dataframe containing all the rows with median home values above $800,000 and percent-White above 60%\n",
    "# how many rows did you get?\n"
   ]
  },
  {
   "cell_type": "markdown",
   "metadata": {},
   "source": [
    "## 5. Descriptive stats"
   ]
  },
  {
   "cell_type": "code",
   "execution_count": null,
   "metadata": {},
   "outputs": [],
   "source": [
    "# what share of majority-White tracts are rent burdened?\n",
    "mask1 = df['pct_white'] > 50\n",
    "mask2 = mask1 & (df['rent_burden'] > 0.3)\n",
    "len(df[mask2]) / len(df[mask1])"
   ]
  },
  {
   "cell_type": "code",
   "execution_count": null,
   "metadata": {},
   "outputs": [],
   "source": [
    "# what share of majority-Hispanic tracts are rent burdened?\n",
    "mask1 = df['pct_hispanic'] > 50\n",
    "mask2 = mask1 & (df['rent_burden'] > 0.3)\n",
    "len(df[mask2]) / len(df[mask1])"
   ]
  },
  {
   "cell_type": "code",
   "execution_count": null,
   "metadata": {},
   "outputs": [],
   "source": [
    "# you can sort the dataframe by values in some column\n",
    "df.sort_values('pct_below_poverty', ascending=False).dropna().head()"
   ]
  },
  {
   "cell_type": "code",
   "execution_count": null,
   "metadata": {},
   "outputs": [],
   "source": [
    "# use the describe() method to pull basic descriptive stats for some column\n",
    "df['med_household_income'].describe()"
   ]
  },
  {
   "cell_type": "markdown",
   "metadata": {},
   "source": [
    "#### Or if you need the value of a single stat, call it directly\n",
    "\n",
    "Key measures of central tendency: mean and median"
   ]
  },
  {
   "cell_type": "code",
   "execution_count": null,
   "metadata": {},
   "outputs": [],
   "source": [
    "# the mean, or \"average\" value\n",
    "df['med_household_income'].mean()"
   ]
  },
  {
   "cell_type": "code",
   "execution_count": null,
   "metadata": {},
   "outputs": [],
   "source": [
    "# the median, or \"typical\" (ie, 50th percentile) value\n",
    "df['med_household_income'].median()"
   ]
  },
  {
   "cell_type": "code",
   "execution_count": null,
   "metadata": {},
   "outputs": [],
   "source": [
    "# now it's your turn\n",
    "# create a new subset dataframe containing rows with median household income above the (tract) average in LA county\n",
    "# what is the median median home value across this subset of tracts?\n"
   ]
  },
  {
   "cell_type": "markdown",
   "metadata": {},
   "source": [
    "Key measures of dispersion or variability: range, IQR, variance, standard deviation"
   ]
  },
  {
   "cell_type": "code",
   "execution_count": null,
   "metadata": {},
   "outputs": [],
   "source": [
    "df['med_household_income'].min()"
   ]
  },
  {
   "cell_type": "code",
   "execution_count": null,
   "metadata": {},
   "outputs": [],
   "source": [
    "# which tract has the lowest median household income?\n",
    "df['med_household_income'].idxmin()"
   ]
  },
  {
   "cell_type": "code",
   "execution_count": null,
   "metadata": {},
   "outputs": [],
   "source": [
    "df['med_household_income'].max()"
   ]
  },
  {
   "cell_type": "code",
   "execution_count": null,
   "metadata": {},
   "outputs": [],
   "source": [
    "# what is the 90th-percentile value?\n",
    "df['med_household_income'].quantile(0.90)"
   ]
  },
  {
   "cell_type": "code",
   "execution_count": null,
   "metadata": {},
   "outputs": [],
   "source": [
    "# calculate the distribution's range\n",
    "df['med_household_income'].max() - df['med_household_income'].min()"
   ]
  },
  {
   "cell_type": "code",
   "execution_count": null,
   "metadata": {},
   "outputs": [],
   "source": [
    "# calculate its IQR\n",
    "df['med_household_income'].quantile(0.75) - df['med_household_income'].quantile(0.25)"
   ]
  },
  {
   "cell_type": "code",
   "execution_count": null,
   "metadata": {},
   "outputs": [],
   "source": [
    "# calculate its variance... rarely used in practice\n",
    "df['med_household_income'].var()"
   ]
  },
  {
   "cell_type": "code",
   "execution_count": null,
   "metadata": {},
   "outputs": [],
   "source": [
    "# calculate its standard deviation\n",
    "# this is the sqrt of the variance... putting it into same units as the variable itself\n",
    "df['med_household_income'].std()"
   ]
  },
  {
   "cell_type": "code",
   "execution_count": null,
   "metadata": {},
   "outputs": [],
   "source": [
    "# now it's your turn\n",
    "# what's the average (mean) median home value across majority-White tracts? And across majority-Black tracts?\n"
   ]
  },
  {
   "cell_type": "markdown",
   "metadata": {},
   "source": [
    "## 6. Merge and concatenate"
   ]
  },
  {
   "cell_type": "markdown",
   "metadata": {},
   "source": [
    "### 6a. Merging DataFrames"
   ]
  },
  {
   "cell_type": "code",
   "execution_count": null,
   "metadata": {},
   "outputs": [],
   "source": [
    "# create a subset dataframe with only race/ethnicity variables\n",
    "race_cols = ['pct_asian', 'pct_black', 'pct_hispanic', 'pct_white']\n",
    "df_race = df[race_cols]\n",
    "df_race.head()"
   ]
  },
  {
   "cell_type": "code",
   "execution_count": null,
   "metadata": {},
   "outputs": [],
   "source": [
    "# create a subset dataframe with only economic variables\n",
    "econ_cols = ['med_home_value', 'med_household_income']\n",
    "df_econ = df[econ_cols].sort_values('med_household_income')\n",
    "df_econ.head()"
   ]
  },
  {
   "cell_type": "code",
   "execution_count": null,
   "metadata": {},
   "outputs": [],
   "source": [
    "# merge them together, aligning rows based on their labels in the index\n",
    "df_merged = pd.merge(left=df_econ, right=df_race, how='inner', left_index=True, right_index=True)\n",
    "df_merged.head()"
   ]
  },
  {
   "cell_type": "code",
   "execution_count": null,
   "metadata": {},
   "outputs": [],
   "source": [
    "# reset df_econ's index\n",
    "df_econ = df_econ.reset_index()\n",
    "df_econ.head()"
   ]
  },
  {
   "cell_type": "code",
   "execution_count": null,
   "metadata": {},
   "outputs": [],
   "source": [
    "# merge them together, aligning rows based on their labels in the index\n",
    "# doesn't work! their indexes do not share any labels to match/align the rows\n",
    "df_merged = pd.merge(left=df_econ, right=df_race, how='inner', left_index=True, right_index=True)\n",
    "df_merged"
   ]
  },
  {
   "cell_type": "code",
   "execution_count": null,
   "metadata": {},
   "outputs": [],
   "source": [
    "# now it's your turn\n",
    "# change the \"how\" argument: what happens if you try an \"outer\" join? or a \"left\" join? or a \"right\" join?\n"
   ]
  },
  {
   "cell_type": "code",
   "execution_count": null,
   "metadata": {},
   "outputs": [],
   "source": [
    "# instead merge where df_race index matches df_econ GEOID10 column\n",
    "df_merged = pd.merge(left=df_econ, right=df_race, how='inner', left_on='GEOID10', right_index=True)\n",
    "df_merged.head()"
   ]
  },
  {
   "cell_type": "markdown",
   "metadata": {},
   "source": [
    "### 6b. Concatenating DataFrames"
   ]
  },
  {
   "cell_type": "code",
   "execution_count": null,
   "metadata": {},
   "outputs": [],
   "source": [
    "# load the orange county tracts data\n",
    "oc = pd.read_csv('../data/census_tracts_data_oc.csv', dtype={'GEOID10':str})\n",
    "oc = oc.set_index('GEOID10')\n",
    "oc.shape"
   ]
  },
  {
   "cell_type": "code",
   "execution_count": null,
   "metadata": {},
   "outputs": [],
   "source": [
    "oc.head()"
   ]
  },
  {
   "cell_type": "code",
   "execution_count": null,
   "metadata": {},
   "outputs": [],
   "source": [
    "# merging joins data together aligned by the index, but concatenating just smushes it together along some axis\n",
    "df_all = pd.concat([df, oc], sort=False)\n",
    "df_all"
   ]
  },
  {
   "cell_type": "markdown",
   "metadata": {},
   "source": [
    "## 7. Grouping and summarizing"
   ]
  },
  {
   "cell_type": "code",
   "execution_count": null,
   "metadata": {},
   "outputs": [],
   "source": [
    "# extract county fips from index then replace with friendly name\n",
    "df_all['county'] = df_all.index.str.slice(2, 5)\n",
    "df_all['county'] = df_all['county'].replace({'037':'LA', '059':'OC'})\n",
    "df_all['county']"
   ]
  },
  {
   "cell_type": "code",
   "execution_count": null,
   "metadata": {},
   "outputs": [],
   "source": [
    "# group the rows by county\n",
    "counties = df_all.groupby('county')"
   ]
  },
  {
   "cell_type": "code",
   "execution_count": null,
   "metadata": {},
   "outputs": [],
   "source": [
    "# what is the median pct_white across the tracts in each county?\n",
    "counties['pct_white'].median()"
   ]
  },
  {
   "cell_type": "code",
   "execution_count": null,
   "metadata": {},
   "outputs": [],
   "source": [
    "# look at several columns' medians by county\n",
    "counties[['pct_bachelors_degree', 'pct_foreign_born', 'pct_commute_drive_alone']].median()"
   ]
  },
  {
   "cell_type": "code",
   "execution_count": null,
   "metadata": {},
   "outputs": [],
   "source": [
    "# now it's your turn\n",
    "# group the tracts by county and find the highest/lowest tract percentages that speak English-only\n"
   ]
  },
  {
   "cell_type": "code",
   "execution_count": null,
   "metadata": {},
   "outputs": [],
   "source": []
  }
 ],
 "metadata": {
  "kernelspec": {
   "display_name": "Python 3",
   "language": "python",
   "name": "python3"
  },
  "language_info": {
   "codemirror_mode": {
    "name": "ipython",
    "version": 3
   },
   "file_extension": ".py",
   "mimetype": "text/x-python",
   "name": "python",
   "nbconvert_exporter": "python",
   "pygments_lexer": "ipython3",
   "version": "3.8.3"
  },
  "toc": {
   "base_numbering": 1,
   "nav_menu": {},
   "number_sections": true,
   "sideBar": true,
   "skip_h1_title": false,
   "title_cell": "Table of Contents",
   "title_sidebar": "Contents",
   "toc_cell": false,
   "toc_position": {},
   "toc_section_display": true,
   "toc_window_display": false
  }
 },
 "nbformat": 4,
 "nbformat_minor": 4
}
