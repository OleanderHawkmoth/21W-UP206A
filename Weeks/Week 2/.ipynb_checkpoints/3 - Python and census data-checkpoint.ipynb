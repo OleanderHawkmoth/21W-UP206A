{
 "cells": [
  {
   "cell_type": "markdown",
   "metadata": {},
   "source": [
    "# Pandas and census data\n",
    "Overview of this week's notebook:\n",
    "\n",
    "- how and where to find and download census data\n",
    "- use pandas to read a csv file\n",
    "- learn how to delete rows"
   ]
  },
  {
   "cell_type": "markdown",
   "metadata": {},
   "source": [
    "## Importing data"
   ]
  },
  {
   "cell_type": "code",
   "execution_count": 1,
   "metadata": {},
   "outputs": [],
   "source": [
    "import pandas as pd"
   ]
  },
  {
   "cell_type": "code",
   "execution_count": 2,
   "metadata": {},
   "outputs": [],
   "source": [
    "# load a data file\n",
    "# note the relative filepath! where is this file located?\n",
    "# note the dtype argument! always specify that fips codes are strings, otherwise pandas guesses int\n",
    "# df = pd.read_csv('data/social_explorer.csv', dtype={'GEOID10':str})\n",
    "# df = pd.read_csv('data/social_explorer.csv')\n",
    "df = pd.read_csv('../../data/se_ca.csv')\n",
    "# df = pd.read_csv('../../data/se_la_or.csv')\n"
   ]
  },
  {
   "cell_type": "code",
   "execution_count": 3,
   "metadata": {},
   "outputs": [
    {
     "data": {
      "text/plain": [
       "(3754, 140)"
      ]
     },
     "execution_count": 3,
     "metadata": {},
     "output_type": "execute_result"
    }
   ],
   "source": [
    "df.shape"
   ]
  },
  {
   "cell_type": "code",
   "execution_count": 4,
   "metadata": {
    "scrolled": true
   },
   "outputs": [
    {
     "data": {
      "text/html": [
       "<div>\n",
       "<style scoped>\n",
       "    .dataframe tbody tr th:only-of-type {\n",
       "        vertical-align: middle;\n",
       "    }\n",
       "\n",
       "    .dataframe tbody tr th {\n",
       "        vertical-align: top;\n",
       "    }\n",
       "\n",
       "    .dataframe thead th {\n",
       "        text-align: right;\n",
       "    }\n",
       "</style>\n",
       "<table border=\"1\" class=\"dataframe\">\n",
       "  <thead>\n",
       "    <tr style=\"text-align: right;\">\n",
       "      <th></th>\n",
       "      <th>Geo_FIPS</th>\n",
       "      <th>Geo_GEOID</th>\n",
       "      <th>Geo_NAME</th>\n",
       "      <th>Geo_QName</th>\n",
       "      <th>Geo_STUSAB</th>\n",
       "      <th>Geo_SUMLEV</th>\n",
       "      <th>Geo_GEOCOMP</th>\n",
       "      <th>Geo_FILEID</th>\n",
       "      <th>Geo_LOGRECNO</th>\n",
       "      <th>Geo_US</th>\n",
       "      <th>...</th>\n",
       "      <th>SE_A09001_010</th>\n",
       "      <th>PCT_SE_A09001_002</th>\n",
       "      <th>PCT_SE_A09001_003</th>\n",
       "      <th>PCT_SE_A09001_004</th>\n",
       "      <th>PCT_SE_A09001_005</th>\n",
       "      <th>PCT_SE_A09001_006</th>\n",
       "      <th>PCT_SE_A09001_007</th>\n",
       "      <th>PCT_SE_A09001_008</th>\n",
       "      <th>PCT_SE_A09001_009</th>\n",
       "      <th>PCT_SE_A09001_010</th>\n",
       "    </tr>\n",
       "  </thead>\n",
       "  <tbody>\n",
       "    <tr>\n",
       "      <th>0</th>\n",
       "      <td>6037101110</td>\n",
       "      <td>14000US06037101110</td>\n",
       "      <td>Census Tract 1011.10</td>\n",
       "      <td>Census Tract 1011.10, Los Angeles County, Cali...</td>\n",
       "      <td>ca</td>\n",
       "      <td>140</td>\n",
       "      <td>0</td>\n",
       "      <td>ACSSF</td>\n",
       "      <td>3870</td>\n",
       "      <td>NaN</td>\n",
       "      <td>...</td>\n",
       "      <td>98</td>\n",
       "      <td>94.91</td>\n",
       "      <td>5.50</td>\n",
       "      <td>7.47</td>\n",
       "      <td>28.02</td>\n",
       "      <td>25.12</td>\n",
       "      <td>13.54</td>\n",
       "      <td>11.00</td>\n",
       "      <td>4.26</td>\n",
       "      <td>5.09</td>\n",
       "    </tr>\n",
       "    <tr>\n",
       "      <th>1</th>\n",
       "      <td>6037101122</td>\n",
       "      <td>14000US06037101122</td>\n",
       "      <td>Census Tract 1011.22</td>\n",
       "      <td>Census Tract 1011.22, Los Angeles County, Cali...</td>\n",
       "      <td>ca</td>\n",
       "      <td>140</td>\n",
       "      <td>0</td>\n",
       "      <td>ACSSF</td>\n",
       "      <td>3871</td>\n",
       "      <td>NaN</td>\n",
       "      <td>...</td>\n",
       "      <td>73</td>\n",
       "      <td>96.17</td>\n",
       "      <td>1.10</td>\n",
       "      <td>3.04</td>\n",
       "      <td>15.05</td>\n",
       "      <td>24.12</td>\n",
       "      <td>35.08</td>\n",
       "      <td>11.64</td>\n",
       "      <td>6.14</td>\n",
       "      <td>3.83</td>\n",
       "    </tr>\n",
       "    <tr>\n",
       "      <th>2</th>\n",
       "      <td>6037101210</td>\n",
       "      <td>14000US06037101210</td>\n",
       "      <td>Census Tract 1012.10</td>\n",
       "      <td>Census Tract 1012.10, Los Angeles County, Cali...</td>\n",
       "      <td>ca</td>\n",
       "      <td>140</td>\n",
       "      <td>0</td>\n",
       "      <td>ACSSF</td>\n",
       "      <td>3872</td>\n",
       "      <td>NaN</td>\n",
       "      <td>...</td>\n",
       "      <td>106</td>\n",
       "      <td>96.17</td>\n",
       "      <td>10.90</td>\n",
       "      <td>19.13</td>\n",
       "      <td>17.51</td>\n",
       "      <td>26.53</td>\n",
       "      <td>12.35</td>\n",
       "      <td>7.98</td>\n",
       "      <td>1.77</td>\n",
       "      <td>3.83</td>\n",
       "    </tr>\n",
       "    <tr>\n",
       "      <th>3</th>\n",
       "      <td>6037101220</td>\n",
       "      <td>14000US06037101220</td>\n",
       "      <td>Census Tract 1012.20</td>\n",
       "      <td>Census Tract 1012.20, Los Angeles County, Cali...</td>\n",
       "      <td>ca</td>\n",
       "      <td>140</td>\n",
       "      <td>0</td>\n",
       "      <td>ACSSF</td>\n",
       "      <td>3873</td>\n",
       "      <td>NaN</td>\n",
       "      <td>...</td>\n",
       "      <td>75</td>\n",
       "      <td>95.04</td>\n",
       "      <td>5.22</td>\n",
       "      <td>21.41</td>\n",
       "      <td>18.31</td>\n",
       "      <td>22.54</td>\n",
       "      <td>17.78</td>\n",
       "      <td>7.80</td>\n",
       "      <td>1.98</td>\n",
       "      <td>4.96</td>\n",
       "    </tr>\n",
       "    <tr>\n",
       "      <th>4</th>\n",
       "      <td>6037101300</td>\n",
       "      <td>14000US06037101300</td>\n",
       "      <td>Census Tract 1013</td>\n",
       "      <td>Census Tract 1013, Los Angeles County, California</td>\n",
       "      <td>ca</td>\n",
       "      <td>140</td>\n",
       "      <td>0</td>\n",
       "      <td>ACSSF</td>\n",
       "      <td>3874</td>\n",
       "      <td>NaN</td>\n",
       "      <td>...</td>\n",
       "      <td>190</td>\n",
       "      <td>90.69</td>\n",
       "      <td>2.45</td>\n",
       "      <td>14.11</td>\n",
       "      <td>21.61</td>\n",
       "      <td>19.21</td>\n",
       "      <td>15.92</td>\n",
       "      <td>11.91</td>\n",
       "      <td>5.49</td>\n",
       "      <td>9.31</td>\n",
       "    </tr>\n",
       "  </tbody>\n",
       "</table>\n",
       "<p>5 rows × 140 columns</p>\n",
       "</div>"
      ],
      "text/plain": [
       "     Geo_FIPS           Geo_GEOID              Geo_NAME  \\\n",
       "0  6037101110  14000US06037101110  Census Tract 1011.10   \n",
       "1  6037101122  14000US06037101122  Census Tract 1011.22   \n",
       "2  6037101210  14000US06037101210  Census Tract 1012.10   \n",
       "3  6037101220  14000US06037101220  Census Tract 1012.20   \n",
       "4  6037101300  14000US06037101300     Census Tract 1013   \n",
       "\n",
       "                                           Geo_QName Geo_STUSAB  Geo_SUMLEV  \\\n",
       "0  Census Tract 1011.10, Los Angeles County, Cali...         ca         140   \n",
       "1  Census Tract 1011.22, Los Angeles County, Cali...         ca         140   \n",
       "2  Census Tract 1012.10, Los Angeles County, Cali...         ca         140   \n",
       "3  Census Tract 1012.20, Los Angeles County, Cali...         ca         140   \n",
       "4  Census Tract 1013, Los Angeles County, California         ca         140   \n",
       "\n",
       "   Geo_GEOCOMP Geo_FILEID  Geo_LOGRECNO  Geo_US  ...  SE_A09001_010  \\\n",
       "0            0      ACSSF          3870     NaN  ...             98   \n",
       "1            0      ACSSF          3871     NaN  ...             73   \n",
       "2            0      ACSSF          3872     NaN  ...            106   \n",
       "3            0      ACSSF          3873     NaN  ...             75   \n",
       "4            0      ACSSF          3874     NaN  ...            190   \n",
       "\n",
       "   PCT_SE_A09001_002  PCT_SE_A09001_003  PCT_SE_A09001_004  PCT_SE_A09001_005  \\\n",
       "0              94.91               5.50               7.47              28.02   \n",
       "1              96.17               1.10               3.04              15.05   \n",
       "2              96.17              10.90              19.13              17.51   \n",
       "3              95.04               5.22              21.41              18.31   \n",
       "4              90.69               2.45              14.11              21.61   \n",
       "\n",
       "   PCT_SE_A09001_006  PCT_SE_A09001_007  PCT_SE_A09001_008  PCT_SE_A09001_009  \\\n",
       "0              25.12              13.54              11.00               4.26   \n",
       "1              24.12              35.08              11.64               6.14   \n",
       "2              26.53              12.35               7.98               1.77   \n",
       "3              22.54              17.78               7.80               1.98   \n",
       "4              19.21              15.92              11.91               5.49   \n",
       "\n",
       "   PCT_SE_A09001_010  \n",
       "0               5.09  \n",
       "1               3.83  \n",
       "2               3.83  \n",
       "3               4.96  \n",
       "4               9.31  \n",
       "\n",
       "[5 rows x 140 columns]"
      ]
     },
     "execution_count": 4,
     "metadata": {},
     "output_type": "execute_result"
    }
   ],
   "source": [
    "df.head()"
   ]
  },
  {
   "cell_type": "markdown",
   "metadata": {},
   "source": [
    "<div class=\"alert alert-info\">\n",
    "    <b>Overwriting default display settings</b>\n",
    "\n",
    "By default, pandas outputs the first 10 and last 10 columns. If we want to see the entire table, we can override the defaults. Use with caution!\n",
    "</div>"
   ]
  },
  {
   "cell_type": "code",
   "execution_count": null,
   "metadata": {},
   "outputs": [],
   "source": [
    "# I want to see all the data\n",
    "pd.set_option('display.max_columns', None)\n",
    "pd.set_option('display.max_rows', None)"
   ]
  },
  {
   "cell_type": "code",
   "execution_count": null,
   "metadata": {},
   "outputs": [],
   "source": [
    "df.sample()"
   ]
  },
  {
   "cell_type": "markdown",
   "metadata": {},
   "source": [
    "## Data types"
   ]
  },
  {
   "cell_type": "code",
   "execution_count": null,
   "metadata": {},
   "outputs": [],
   "source": [
    "# look at the data types\n",
    "df.dtypes"
   ]
  },
  {
   "cell_type": "markdown",
   "metadata": {},
   "source": [
    "## Assigning data types on import\n",
    "Waaaaaiiit... what happened to the leading \"0\" in the `Geo_FIPS` code? And for that matter, the `geo_STATE` and `geo_COUNTY` columns?\n",
    "\n",
    "But what is a FIPS code and why is it important?\n",
    "\n",
    "![fips code](https://learn.arcgis.com/en/related-concepts/GUID-D7AA4FD1-E7FE-49D7-9D11-07915C9ACC68-web.png)\n",
    "\n",
    "[Source: ESRI](https://learn.arcgis.com/en/related-concepts/united-states-census-geography.htm)"
   ]
  },
  {
   "cell_type": "markdown",
   "metadata": {},
   "source": [
    "That's right, python automatically makes decisions on import, and interprets \"FIPS\" as an integer column (after all, it's all numbers aren't they), thus cropping the leading zeroes. But no, that [leading zero](https://en.wikipedia.org/wiki/Leading_zero) is extremely important, as `06` represents the state of California, and `037` represents LA County. \n",
    "\n",
    "Let's fix this by re-importing the data, this time, specifying the `FIPS` columns as a string:"
   ]
  },
  {
   "cell_type": "code",
   "execution_count": null,
   "metadata": {},
   "outputs": [],
   "source": [
    "df = pd.read_csv('../../data/se_ca.csv',\n",
    "                 skiprows=[1],\n",
    "                dtype={\n",
    "                    'Geo_FIPS':str,\n",
    "                    'Geo_STATE':str,\n",
    "                    'Geo_COUNTY': str\n",
    "                })"
   ]
  },
  {
   "cell_type": "code",
   "execution_count": null,
   "metadata": {
    "scrolled": false
   },
   "outputs": [],
   "source": [
    "df.head()"
   ]
  },
  {
   "cell_type": "code",
   "execution_count": null,
   "metadata": {
    "scrolled": true
   },
   "outputs": [],
   "source": [
    "df.dtypes"
   ]
  },
  {
   "cell_type": "markdown",
   "metadata": {},
   "source": [
    "## Getting a list of column names"
   ]
  },
  {
   "cell_type": "code",
   "execution_count": null,
   "metadata": {},
   "outputs": [],
   "source": [
    "# output the columns\n",
    "df.columns"
   ]
  },
  {
   "cell_type": "code",
   "execution_count": null,
   "metadata": {
    "scrolled": true
   },
   "outputs": [],
   "source": [
    "# if there are too many, try outputting as a list:\n",
    "list(df)"
   ]
  },
  {
   "cell_type": "markdown",
   "metadata": {},
   "source": [
    "What are these columns? \n",
    "\n",
    " \n",
    "| Variables | Description |\n",
    "|:---|:---|\n",
    "| FIPS:|           FIPS |\n",
    "| GEOID:|          Geographic Identifier |\n",
    "| NAME:|           Name of Area |\n",
    "| QName:|          Qualifying Name |\n",
    "| STUSAB:|         State/U.S.-Abbreviation (USPS) |\n",
    "| SUMLEV:|         Summary Level |\n",
    "| GEOCOMP:|        Geographic Component |\n",
    "| FILEID:|         File Identification |\n",
    "| LOGRECNO:|       Logical Record Number |\n",
    "| US:|             US |\n",
    "| REGION:|         Region |\n",
    "| DIVISION:|       Division |\n",
    "| STATECE:|        State (Census Code) |\n",
    "| STATE:|          State (FIPS) |\n",
    "| COUNTY:|         County |\n",
    "| COUSUB:|         County Subdivision (FIPS) |\n",
    "| PLACE:|          Place (FIPS Code) |\n",
    "| PLACESE:|        Place (State FIPS + Place FIPS) |\n",
    "| TRACT:|          Census Tract |\n",
    "| BLKGRP:|         Block Group |\n",
    "| CONCIT:|         Consolidated City |\n",
    "| AIANHH:|         American Indian Area/Alaska Native Area/Hawaiian Home Land (Census) |\n",
    "| AIANHHFP:|       American Indian Area/Alaska Native Area/Hawaiian Home Land (FIPS) |\n",
    "| AIHHTLI:|        American Indian Trust Land/Hawaiian Home Land Indicator |\n",
    "| AITSCE:|         American Indian Tribal Subdivision (Census) |\n",
    "| AITS:|           American Indian Tribal Subdivision (FIPS) |\n",
    "| ANRC:|           Alaska Native Regional Corporation (FIPS) |\n",
    "| CBSA:|           Metropolitan and Micropolitan Statistical Area |\n",
    "| CSA:|            Combined Statistical Area |\n",
    "| METDIV:|         Metropolitan Division |\n",
    "| MACC:|           Metropolitan Area Central City |\n",
    "| MEMI:|           Metropolitan/Micropolitan Indicator Flag |\n",
    "| NECTA:|          New England City and Town Combined Statistical Area |\n",
    "| CNECTA:|         New England City and Town Area |\n",
    "| NECTADIV:|       New England City and Town Area Division |\n",
    "| UA:|             Urban Area |\n",
    "| UACP:|           Urban Area Central Place |\n",
    "| CDCURR:|         Current Congressional District *** |\n",
    "| SLDU:|           State Legislative District Upper |\n",
    "| SLDL:|           State Legislative District Lower |\n",
    "| VTD:|            Voting District |\n",
    "| ZCTA3:|          ZIP Code Tabulation Area (3-digit) |\n",
    "| ZCTA5:|          ZIP Code Tabulation Area (5-digit) |\n",
    "| SUBMCD:|         Subbarrio (FIPS) |\n",
    "| SDELM:|          School District (Elementary) |\n",
    "| SDSEC:|          School District (Secondary) |\n",
    "| SDUNI:|          School District (Unified) |\n",
    "| UR:|             Urban/Rural |\n",
    "| PCI:|            Principal City Indicator |\n",
    "| TAZ:|            Traffic Analysis Zone |\n",
    "| UGA:|            Urban Growth Area |\n",
    "| BTTR:|           Tribal Tract |\n",
    "| BTBG:|           Tribal Block Group |\n",
    "| PUMA5:|          Public Use Microdata Area - 5% File |\n",
    "| PUMA1:|          Public Use Microdata Area - 1% File |\n",
    "| A00001_001:|     Total Population |\n",
    "| A03001_001:|     Total Population: |\n",
    "| A03001_002:|     Total Population: White Alone |\n",
    "| A03001_003:|     Total Population: Black or African American Alone |\n",
    "| A03001_004:|     Total Population: American Indian and Alaska Native Alone |\n",
    "| A03001_005:|     Total Population: Asian Alone |\n",
    "| A03001_006:|     Total Population: Native Hawaiian and Other Pacific Islander Alone |\n",
    "| A03001_007:|     Total Population: Some Other Race Alone |\n",
    "| A03001_008:|     Total Population: Two or More Races |\n",
    "| PCT_A03001_002:| % Total Population: White Alone |\n",
    "| PCT_A03001_003:| % Total Population: Black or African American Alone |\n",
    "| PCT_A03001_004:| % Total Population: American Indian and Alaska Native Alone |\n",
    "| PCT_A03001_005:| % Total Population: Asian Alone |\n",
    "| PCT_A03001_006:| % Total Population: Native Hawaiian and Other Pacific Islander Alone |\n",
    "| PCT_A03001_007:| % Total Population: Some Other Race Alone |\n",
    "| PCT_A03001_008:| % Total Population: Two or More Races |\n",
    "| A12001_001:|     Population 25 Years and Over: |\n",
    "| A12001_002:|     Population 25 Years and Over: Less than High School |\n",
    "| A12001_003:|     Population 25 Years and Over: High School Graduate (Includes Equivalency) |\n",
    "| A12001_004:|     Population 25 Years and Over: Some College |\n",
    "| A12001_005:|     Population 25 Years and Over: Bachelor's Degree |\n",
    "| A12001_006:|     Population 25 Years and Over: Master's Degree |\n",
    "| A12001_007:|     Population 25 Years and Over: Professional School Degree |\n",
    "| A12001_008:|     Population 25 Years and Over: Doctorate Degree |\n",
    "| PCT_A12001_002:| % Population 25 Years and Over: Less than High School |\n",
    "| PCT_A12001_003:| % Population 25 Years and Over: High School Graduate (Includes Equivalency) |\n",
    "| PCT_A12001_004:| % Population 25 Years and Over: Some College |\n",
    "| PCT_A12001_005:| % Population 25 Years and Over: Bachelor's Degree |\n",
    "| PCT_A12001_006:| % Population 25 Years and Over: Master's Degree |\n",
    "| PCT_A12001_007:| % Population 25 Years and Over: Professional School Degree |\n",
    "| PCT_A12001_008:| % Population 25 Years and Over: Doctorate Degree |\n",
    "| A12002_001:|     Population 25 Years and Over: |\n",
    "| A12002_002:|     Population 25 Years and Over: Less than High School |\n",
    "| A12002_003:|     Population 25 Years and Over: High School Graduate or More (Includes Equivalency) |\n",
    "| A12002_004:|     Population 25 Years and Over: Some College or More |\n",
    "| A12002_005:|     Population 25 Years and Over: Bachelor's Degree or More |\n",
    "| A12002_006:|     Population 25 Years and Over: Master's Degree or More |\n",
    "| A12002_007:|     Population 25 Years and Over: Professional School Degree or More |\n",
    "| A12002_008:|     Population 25 Years and Over: Doctorate Degree |\n",
    "| PCT_A12002_002:| % Population 25 Years and Over: Less than High School |\n",
    "| PCT_A12002_003:| % Population 25 Years and Over: High School Graduate or More (Includes Equivalency) |\n",
    "| PCT_A12002_004:| % Population 25 Years and Over: Some College or More |\n",
    "| PCT_A12002_005:| % Population 25 Years and Over: Bachelor's Degree or More |\n",
    "| PCT_A12002_006:| % Population 25 Years and Over: Master's Degree or More |\n",
    "| PCT_A12002_007:| % Population 25 Years and Over: Professional School Degree or More |\n",
    "| PCT_A12002_008:| % Population 25 Years and Over: Doctorate Degree |\n",
    "| A14006_001:|     Median Household Income (In 2018 Inflation Adjusted Dollars) |\n",
    "| A09005_001:|     Workers 16 Years and Over: |\n",
    "| A09005_002:|     Workers 16 Years and Over: Car, Truck, or Van |\n",
    "| A09005_009:|     Workers 16 Years and Over: Drove Alone |\n",
    "| A09005_010:|     Workers 16 Years and Over: Carpooled |\n",
    "| A09005_003:|     Workers 16 Years and Over: Public Transportation (Includes Taxicab) |\n",
    "| A09005_004:|     Workers 16 Years and Over: Motorcycle |\n",
    "| A09005_005:|     Workers 16 Years and Over: Bicycle |\n",
    "| A09005_006:|     Workers 16 Years and Over: Walked |\n",
    "| A09005_007:|     Workers 16 Years and Over: Other Means |\n",
    "| A09005_008:|     Workers 16 Years and Over: Worked At Home |\n",
    "| PCT_A09005_002:| % Workers 16 Years and Over: Car, Truck, or Van |\n",
    "| PCT_A09005_009:| % Workers 16 Years and Over: Drove Alone |\n",
    "| PCT_A09005_010:| % Workers 16 Years and Over: Carpooled |\n",
    "| PCT_A09005_003:| % Workers 16 Years and Over: Public Transportation (Includes Taxicab) |\n",
    "| PCT_A09005_004:| % Workers 16 Years and Over: Motorcycle |\n",
    "| PCT_A09005_005:| % Workers 16 Years and Over: Bicycle |\n",
    "| PCT_A09005_006:| % Workers 16 Years and Over: Walked |\n",
    "| PCT_A09005_007:| % Workers 16 Years and Over: Other Means |\n",
    "| PCT_A09005_008:| % Workers 16 Years and Over: Worked At Home |\n",
    "| A09001_001:|     Workers 16 Years and Over: |\n",
    "| A09001_002:|     Workers 16 Years and Over: Did Not Work At Home |\n",
    "| A09001_003:|     Workers 16 Years and Over: Did Not Work At Home: Less than 10 Minutes |\n",
    "| A09001_004:|     Workers 16 Years and Over: Did Not Work At Home: 10 to 19 Minutes |\n",
    "| A09001_005:|     Workers 16 Years and Over: Did Not Work At Home: 20 to 29 Minutes |\n",
    "| A09001_006:|     Workers 16 Years and Over: Did Not Work At Home: 30 to 39 Minutes |\n",
    "| A09001_007:|     Workers 16 Years and Over: Did Not Work At Home: 40 to 59 Minutes |\n",
    "| A09001_008:|     Workers 16 Years and Over: Did Not Work At Home: 60 to 89 Minutes |\n",
    "| A09001_009:|     Workers 16 Years and Over: Did Not Work At Home: 90 or More Minutes |\n",
    "| A09001_010:|     Workers 16 Years and Over: Worked At Home |\n",
    "| PCT_A09001_002:| % Workers 16 Years and Over: Did Not Work At Home |\n",
    "| PCT_A09001_003:| % Workers 16 Years and Over: Did Not Work At Home: Less than 10 Minutes |\n",
    "| PCT_A09001_004:| % Workers 16 Years and Over: Did Not Work At Home: 10 to 19 Minutes |\n",
    "| PCT_A09001_005:| % Workers 16 Years and Over: Did Not Work At Home: 20 to 29 Minutes |\n",
    "| PCT_A09001_006:| % Workers 16 Years and Over: Did Not Work At Home: 30 to 39 Minutes |\n",
    "| PCT_A09001_007:| % Workers 16 Years and Over: Did Not Work At Home: 40 to 59 Minutes |\n",
    "| PCT_A09001_008:| % Workers 16 Years and Over: Did Not Work At Home: 60 to 89 Minutes |\n",
    "| PCT_A09001_009:| % Workers 16 Years and Over: Did Not Work At Home: 90 or More Minutes |\n",
    "| PCT_A09001_010:| % Workers 16 Years and Over: Worked At Home      || |"
   ]
  },
  {
   "cell_type": "markdown",
   "metadata": {},
   "source": [
    "## Simple stats and plots"
   ]
  },
  {
   "cell_type": "code",
   "execution_count": null,
   "metadata": {
    "scrolled": true
   },
   "outputs": [],
   "source": [
    "# access a single column like df['col_name']\n",
    "# SE_A00001_001 is the variable for Total Population\n",
    "df['SE_A00001_001'].head()"
   ]
  },
  {
   "cell_type": "code",
   "execution_count": null,
   "metadata": {},
   "outputs": [],
   "source": [
    "# What is the mean?\n",
    "df['SE_A00001_001'].mean()"
   ]
  },
  {
   "cell_type": "code",
   "execution_count": null,
   "metadata": {},
   "outputs": [],
   "source": [
    "# get some stats\n",
    "df['SE_A00001_001'].describe()"
   ]
  },
  {
   "cell_type": "code",
   "execution_count": null,
   "metadata": {},
   "outputs": [],
   "source": [
    "df['SE_A00001_001'].plot.hist(bins=50)"
   ]
  },
  {
   "cell_type": "markdown",
   "metadata": {},
   "source": [
    "<div class=\"alert alert-info\">\n",
    "    Now it's your turn. Find some stats for different fields in the data and output them below.\n",
    "    </div>"
   ]
  },
  {
   "cell_type": "code",
   "execution_count": null,
   "metadata": {},
   "outputs": [],
   "source": []
  },
  {
   "cell_type": "markdown",
   "metadata": {},
   "source": [
    "## Getting unique or distinct values in a column\n",
    "The data contains rows for several counties. What are they?"
   ]
  },
  {
   "cell_type": "code",
   "execution_count": null,
   "metadata": {},
   "outputs": [],
   "source": [
    "df['Geo_COUNTY'].unique()"
   ]
  },
  {
   "cell_type": "markdown",
   "metadata": {},
   "source": [
    "## Replacing values, creating new columns"
   ]
  },
  {
   "cell_type": "markdown",
   "metadata": {},
   "source": [
    "We can replace the current values ('037', '059', etc) to something more human friendly. First create a lookup dict/object with key/value pairs that match the data:"
   ]
  },
  {
   "cell_type": "code",
   "execution_count": null,
   "metadata": {},
   "outputs": [],
   "source": [
    "# dict that maps state fips code -> state name\n",
    "county_fips_lookup = {'037' : 'Los Angeles',\n",
    "        '059' : 'Orange',\n",
    "        '073' : 'San Diego',\n",
    "        '075' : 'San Francisco'}"
   ]
  },
  {
   "cell_type": "markdown",
   "metadata": {},
   "source": [
    "Next, use the `.replace()` function to batch and replace the values in the data. Notice, however, that rather than replacing the same column (which you can do but would not preserve the FIPS codes), you can specify a new columns and call it `County`:"
   ]
  },
  {
   "cell_type": "code",
   "execution_count": null,
   "metadata": {},
   "outputs": [],
   "source": [
    "# replace fips code with state name with the replace() method\n",
    "df['County'] = df['Geo_COUNTY'].replace(county_fips_lookup)\n",
    "df.head()"
   ]
  },
  {
   "cell_type": "markdown",
   "metadata": {},
   "source": [
    "<div class=\"alert alert-info\">\n",
    "    Now it's your turn. Create a new column `State` that is simply `California`.\n",
    "</div>"
   ]
  },
  {
   "cell_type": "code",
   "execution_count": null,
   "metadata": {},
   "outputs": [],
   "source": []
  },
  {
   "cell_type": "markdown",
   "metadata": {},
   "source": [
    "## Displaying null values\n",
    "Null values, or empty values, can be problematic in many ways. It is always good practice to scrutinize your data for missing values, and to identify where they are and why. The following arguments are simple calls to the data to find where these null values are."
   ]
  },
  {
   "cell_type": "code",
   "execution_count": null,
   "metadata": {},
   "outputs": [],
   "source": [
    "# first double check how many rows we have\n",
    "len(df)"
   ]
  },
  {
   "cell_type": "code",
   "execution_count": null,
   "metadata": {
    "scrolled": true
   },
   "outputs": [],
   "source": [
    "# null values in the data for a single column\n",
    "df.Geo_FIPS.isna().sum()"
   ]
  },
  {
   "cell_type": "code",
   "execution_count": null,
   "metadata": {},
   "outputs": [],
   "source": [
    "# same thing in a different notation\n",
    "df['Geo_FIPS'].isna().sum()"
   ]
  },
  {
   "cell_type": "code",
   "execution_count": null,
   "metadata": {
    "scrolled": true
   },
   "outputs": [],
   "source": [
    "# null values in the data for a all columns\n",
    "df.isna().sum()"
   ]
  },
  {
   "cell_type": "code",
   "execution_count": null,
   "metadata": {},
   "outputs": [],
   "source": [
    "# show rows with null columns\n",
    "# PCT_SE_A12001_008 is percent with PhD\n",
    "df[df['PCT_SE_A12001_008'].isnull()]"
   ]
  },
  {
   "cell_type": "markdown",
   "metadata": {},
   "source": [
    "Why do these rows have null values?"
   ]
  },
  {
   "cell_type": "markdown",
   "metadata": {},
   "source": [
    "## Sorting\n",
    "What are the top 10 most populated census tracts? What are the census tracts with the highest hispanic popluation? To answer these questions, the simplest method is to sort the data by their respective columns."
   ]
  },
  {
   "cell_type": "code",
   "execution_count": null,
   "metadata": {},
   "outputs": [],
   "source": [
    "df_sorted = df.sort_values(by='SE_A00001_001',ascending = False)"
   ]
  },
  {
   "cell_type": "code",
   "execution_count": null,
   "metadata": {
    "scrolled": true
   },
   "outputs": [],
   "source": [
    "# display the data, but just a few columns to keep it clean\n",
    "df_sorted[['Geo_QName','SE_A00001_001']].head(10)"
   ]
  },
  {
   "cell_type": "code",
   "execution_count": null,
   "metadata": {},
   "outputs": [],
   "source": [
    "df_sorted.head(10).plot.bar(x='Geo_QName',\n",
    "                            y='SE_A00001_001')"
   ]
  },
  {
   "cell_type": "code",
   "execution_count": null,
   "metadata": {},
   "outputs": [],
   "source": [
    "# Make it prettier with labels\n",
    "df_sorted.head(10).plot.bar(x='Geo_QName',\n",
    "                            y='SE_A00001_001', \n",
    "                            label='Total Population', \n",
    "                            xlabel='')"
   ]
  },
  {
   "cell_type": "markdown",
   "metadata": {},
   "source": [
    "<div class=\"alert alert-info\">\n",
    "    Now it's your turn! Create a table and accompanying bar plot for the top 10 values for column of your choice (e.g. Median Household Income).\n",
    "</div>"
   ]
  },
  {
   "cell_type": "code",
   "execution_count": null,
   "metadata": {},
   "outputs": [],
   "source": [
    "\n"
   ]
  },
  {
   "cell_type": "markdown",
   "metadata": {},
   "source": [
    "## Filtering and subsetting data\n",
    "Sorting is one method, but the process of discovery compels us to interrogate the data in different ways. One method of doing so is to query, or filter the data to see specific views of the data based on a question you may have. For example, what are the census tract that have no people in them? Or, Which census tracts are more than 75% black?"
   ]
  },
  {
   "cell_type": "code",
   "execution_count": null,
   "metadata": {},
   "outputs": [],
   "source": [
    "# find where total pop is 0\n",
    "df['SE_A00001_001']==0"
   ]
  },
  {
   "cell_type": "markdown",
   "metadata": {},
   "source": [
    "This returns a boolean (true of false) for every row where the condition you asked for, in this case whether total population is 0, is specified. \n",
    "\n",
    "That's not very useful.\n",
    "\n",
    "Instead, we can subset the data with this syntax."
   ]
  },
  {
   "cell_type": "code",
   "execution_count": null,
   "metadata": {},
   "outputs": [],
   "source": [
    "# now subset the data so that we can see the data per row... \n",
    "# in other words, this syntax is asking to \"show me the values in my dataframe that match this filter\n",
    "df[df['SE_A00001_001']==0]"
   ]
  },
  {
   "cell_type": "markdown",
   "metadata": {},
   "source": [
    "Note that unless you specify the resulting output as a new variable, the results are only temporary (in memory). If you want to use the results for subsequent analysis, you need to create a new variable."
   ]
  },
  {
   "cell_type": "code",
   "execution_count": null,
   "metadata": {
    "scrolled": true
   },
   "outputs": [],
   "source": [
    "# create a new variable for census tracts with zero pop\n",
    "df_no_pop = df[df['SE_A00001_001']==0]\n",
    "\n",
    "# how many records?\n",
    "print('There are ' + str(len(df_no_pop)) + ' census tracts with no people in them')\n",
    "# display it\n",
    "df_no_pop[['Geo_QName','SE_A00001_001']]"
   ]
  },
  {
   "cell_type": "markdown",
   "metadata": {},
   "source": [
    "<div class=\"alert alert-info\">\n",
    "    Now it's your turn! Find out how many census tracts are 75% or more Black, and output them in a table.\n",
    "    <br>\n",
    "    <br>\n",
    "    Extra points if you can show only relevant columns, and sort them from highest to lowest!\n",
    "</div>"
   ]
  },
  {
   "cell_type": "code",
   "execution_count": null,
   "metadata": {},
   "outputs": [],
   "source": [
    "df_75plus_black = df[df['PCT_SE_A03001_003']>=75]\n",
    "df_75plus_black.sort_values(by='PCT_SE_A03001_003', ascending=False)[['Geo_QName','PCT_SE_A03001_003']]"
   ]
  },
  {
   "cell_type": "code",
   "execution_count": null,
   "metadata": {},
   "outputs": [],
   "source": [
    "# What is the average median household income for the top 10 census tracts\n",
    "# with the highest percentage of PhDs? PCT_A12001_008\n",
    "df_phd_sorted = df.sort_values(by='PCT_SE_A12001_008',ascending=False).head(10)\n",
    "df_phd_sorted[['Geo_QName','PCT_SE_A12001_008']]"
   ]
  },
  {
   "cell_type": "code",
   "execution_count": null,
   "metadata": {},
   "outputs": [],
   "source": [
    "df_75plus_black = df[df['PCT_SE_A03001_003']>=75]\n",
    "df_75plus_black.sort_values(by='PCT_SE_A03001_003', ascending=False)[['Geo_QName','PCT_SE_A03001_003']]"
   ]
  },
  {
   "cell_type": "markdown",
   "metadata": {},
   "source": [
    "## Combining queries\n",
    "All good so far. But what if you wanted to query multiple columns? For example, your question may be, \"Which census tracts "
   ]
  },
  {
   "cell_type": "markdown",
   "metadata": {},
   "source": [
    "## Start plotting this data\n",
    "- A14006_001: \tMedian Household Income (In 2018 Inflation Adjusted Dollars)"
   ]
  },
  {
   "cell_type": "code",
   "execution_count": null,
   "metadata": {},
   "outputs": [],
   "source": [
    "import plotly.express as px"
   ]
  },
  {
   "cell_type": "markdown",
   "metadata": {},
   "source": [
    "### race variables\n",
    "       A03001_001:   Total Population:\n",
    "            A03001_002:      White Alone\n",
    "            A03001_003:      Black or African American Alone\n",
    "            A03001_004:      American Indian and Alaska Native Alone\n",
    "            A03001_005:      Asian Alone\n",
    "            A03001_006:      Native Hawaiian and Other Pacific Islander Alone\n",
    "            A03001_007:      Some Other Race Alone\n",
    "            A03001_008:      Two or More Races"
   ]
  },
  {
   "cell_type": "code",
   "execution_count": null,
   "metadata": {},
   "outputs": [],
   "source": [
    "# put them in an list\n",
    "race_vars = ['Geo_FIPS','Geo_COUNTY','SE_A03001_002','SE_A03001_003','SE_A03001_004','SE_A03001_005','SE_A03001_006','SE_A03001_007','SE_A03001_008']\n"
   ]
  },
  {
   "cell_type": "code",
   "execution_count": null,
   "metadata": {},
   "outputs": [],
   "source": [
    "# create a subset\n",
    "df_race=df[race_vars]\n",
    "df_race.head()"
   ]
  },
  {
   "cell_type": "code",
   "execution_count": null,
   "metadata": {
    "scrolled": true
   },
   "outputs": [],
   "source": [
    "# rename columns\n",
    "race_columns = ['FIPS','County','White','Black','Am_Indian','Asian','Haw_API','Other_Alone','TwoOrMore']\n",
    "df_race.columns = race_columns\n",
    "df_race.sample(5)"
   ]
  },
  {
   "cell_type": "code",
   "execution_count": null,
   "metadata": {},
   "outputs": [],
   "source": [
    "# group them by county\n",
    "df_race_by_county = df_race.groupby(by=[\"County\"]).sum().reset_index()\n",
    "df_race_by_county"
   ]
  },
  {
   "cell_type": "markdown",
   "metadata": {},
   "source": [
    "We can transpose the data using the melt() function:"
   ]
  },
  {
   "cell_type": "code",
   "execution_count": null,
   "metadata": {},
   "outputs": [],
   "source": [
    "df_race_by_county = pd.melt(df_race_by_county,\n",
    "               id_vars=['County'],\n",
    "               var_name=\"race\",\n",
    "               value_name=\"count\")\n",
    "df_race_by_county"
   ]
  },
  {
   "cell_type": "code",
   "execution_count": null,
   "metadata": {},
   "outputs": [],
   "source": [
    "px.bar(df_race_by_county,\n",
    "       x='County',\n",
    "       y='count',\n",
    "       color='race')"
   ]
  },
  {
   "cell_type": "code",
   "execution_count": null,
   "metadata": {},
   "outputs": [],
   "source": [
    "fig = px.histogram(df, x=\"SE_A14006_001\",color=\"Geo_COUNTY\")\n",
    "fig.show()"
   ]
  },
  {
   "cell_type": "code",
   "execution_count": null,
   "metadata": {},
   "outputs": [],
   "source": [
    "# df.groupby('County')['Median Household Income (In 2018 Inflation Adjusted Dollars)'].describe().astype(int)\n",
    "df.groupby('Geo_COUNTY')['SE_A14006_001'].describe()"
   ]
  },
  {
   "cell_type": "code",
   "execution_count": null,
   "metadata": {},
   "outputs": [],
   "source": [
    "# subset the dataframe into majority white and majority hispanic subsets\n",
    "df_white = df[df['PCT_SE_A03001_002'] > 50]\n",
    "df_black = df[df['PCT_SE_A03001_003'] > 50]"
   ]
  },
  {
   "cell_type": "code",
   "execution_count": null,
   "metadata": {},
   "outputs": [],
   "source": [
    "# compare their distributions to each other\n",
    "ax = sns.distplot(df_white['SE_A14006_001'].dropna())\n",
    "ax = sns.distplot(df_black['SE_A14006_001'].dropna())"
   ]
  },
  {
   "cell_type": "code",
   "execution_count": null,
   "metadata": {},
   "outputs": [],
   "source": [
    "df['Geo_COUNTY']"
   ]
  },
  {
   "cell_type": "code",
   "execution_count": null,
   "metadata": {},
   "outputs": [],
   "source": [
    "fig = px.scatter(df, x=\"PCT_SE_A12001_005\", y=\"SE_A14006_001\", color=\"Geo_COUNTY\"\n",
    "                 )\n",
    "fig.show()"
   ]
  },
  {
   "cell_type": "code",
   "execution_count": null,
   "metadata": {},
   "outputs": [],
   "source": [
    "# use seaborn to scatter-plot two variables\n",
    "ax = sns.scatterplot(x=df['PCT_SE_A12001_005'], y=df['SE_A14006_001'],hue=df['Geo_COUNTY'].astype(str))"
   ]
  },
  {
   "cell_type": "code",
   "execution_count": null,
   "metadata": {},
   "outputs": [],
   "source": [
    "df['Geo_COUNTY'].unique()"
   ]
  },
  {
   "cell_type": "code",
   "execution_count": null,
   "metadata": {},
   "outputs": [],
   "source": [
    "df.head()"
   ]
  },
  {
   "cell_type": "code",
   "execution_count": null,
   "metadata": {},
   "outputs": [],
   "source": [
    "fig = px.bar(df, x=\"Geo_COUNTY\",color=\"Geo_COUNTY\", title=\"Long-Form Input\")\n",
    "fig.show()"
   ]
  },
  {
   "cell_type": "markdown",
   "metadata": {},
   "source": [
    "# Maps!"
   ]
  },
  {
   "cell_type": "markdown",
   "metadata": {},
   "source": [
    "## Geopandas to read geojson"
   ]
  },
  {
   "cell_type": "code",
   "execution_count": null,
   "metadata": {},
   "outputs": [],
   "source": [
    "import geopandas as gpd\n"
   ]
  },
  {
   "cell_type": "code",
   "execution_count": null,
   "metadata": {
    "scrolled": false
   },
   "outputs": [],
   "source": [
    "# tracts=gpd.read_file('https://opendata.arcgis.com/datasets/152f90d3a34a43ef998448281505d45e_0.geojson')\n",
    "tracts=gpd.read_file('../../data/la_tracts.geojson')\n",
    "tracts.head()"
   ]
  },
  {
   "cell_type": "code",
   "execution_count": null,
   "metadata": {},
   "outputs": [],
   "source": [
    "tracts.name.dtypes"
   ]
  },
  {
   "cell_type": "code",
   "execution_count": null,
   "metadata": {},
   "outputs": [],
   "source": [
    "# we only really need FIPS and geometry, so let's subset the data\n",
    "tracts = tracts[['name','geometry']]\n",
    "tracts.head()"
   ]
  },
  {
   "cell_type": "code",
   "execution_count": null,
   "metadata": {},
   "outputs": [],
   "source": [
    "tracts.columns = ['FIPS','geometry']"
   ]
  },
  {
   "cell_type": "code",
   "execution_count": null,
   "metadata": {},
   "outputs": [],
   "source": [
    "tracts.head()"
   ]
  },
  {
   "cell_type": "raw",
   "metadata": {},
   "source": []
  },
  {
   "cell_type": "code",
   "execution_count": null,
   "metadata": {},
   "outputs": [],
   "source": [
    "tracts.plot(figsize=(12,10))"
   ]
  },
  {
   "cell_type": "markdown",
   "metadata": {},
   "source": [
    "## Merging/joining data"
   ]
  },
  {
   "cell_type": "code",
   "execution_count": null,
   "metadata": {},
   "outputs": [],
   "source": [
    "tracts2=tracts.merge(df_race,on=\"FIPS\")"
   ]
  },
  {
   "cell_type": "code",
   "execution_count": null,
   "metadata": {},
   "outputs": [],
   "source": [
    "tracts2.head()"
   ]
  },
  {
   "cell_type": "code",
   "execution_count": null,
   "metadata": {
    "scrolled": true
   },
   "outputs": [],
   "source": [
    "tracts2.plot(figsize=(12,10),column='Black',legend=True, scheme='NaturalBreaks')"
   ]
  },
  {
   "cell_type": "code",
   "execution_count": null,
   "metadata": {},
   "outputs": [],
   "source": [
    "tracts2.plot(figsize=(12,10),column='White',legend=True, scheme='NaturalBreaks')"
   ]
  },
  {
   "cell_type": "code",
   "execution_count": null,
   "metadata": {},
   "outputs": [],
   "source": [
    "tracts2.plot(figsize=(12,10),column='Asian',legend=True, scheme='NaturalBreaks')"
   ]
  },
  {
   "cell_type": "code",
   "execution_count": null,
   "metadata": {},
   "outputs": [],
   "source": [
    "import folium"
   ]
  },
  {
   "cell_type": "code",
   "execution_count": null,
   "metadata": {},
   "outputs": [],
   "source": [
    "m = folium.Map()\n",
    "m.choropleth(tracts2, \n",
    "             data=tracts2, \n",
    "             columns=['FIPS', 'White'], \n",
    "#              fill_color='YlOrBr',\n",
    "             )\n",
    "m"
   ]
  },
  {
   "cell_type": "code",
   "execution_count": null,
   "metadata": {},
   "outputs": [],
   "source": [
    "m = folium.Map(location=[34,-118])\n",
    "# tracts2.dtypes"
   ]
  },
  {
   "cell_type": "code",
   "execution_count": null,
   "metadata": {},
   "outputs": [],
   "source": [
    "tracts2.head()"
   ]
  },
  {
   "cell_type": "code",
   "execution_count": null,
   "metadata": {},
   "outputs": [],
   "source": [
    "\n",
    "\n",
    "# plot chorpleth over the base map\n",
    "folium.Choropleth(geo_data=tracts2,                                # geo data\n",
    "                  data=tracts2, \n",
    "                  key_on='feature.properties.FIPS',# data\n",
    "#                   key_on='feature.properties.name', # feature.properties.key\n",
    "                  columns=['FIPS', 'White'],   # [key, value]\n",
    "                  fill_color='RdPu',                     # cmap\n",
    "                  line_weight=0.1,                       # line wight (of the border)\n",
    "                  line_opacity=0.5,                      # line opacity (of the border)\n",
    "                  legend_name='White').add_to(m)    # name on the legend color bar\n"
   ]
  },
  {
   "cell_type": "code",
   "execution_count": null,
   "metadata": {},
   "outputs": [],
   "source": [
    "m"
   ]
  },
  {
   "cell_type": "raw",
   "metadata": {},
   "source": [
    "tract.head()"
   ]
  },
  {
   "cell_type": "code",
   "execution_count": null,
   "metadata": {},
   "outputs": [],
   "source": [
    "tracts.head()"
   ]
  },
  {
   "cell_type": "code",
   "execution_count": null,
   "metadata": {},
   "outputs": [],
   "source": [
    "s"
   ]
  }
 ],
 "metadata": {
  "kernelspec": {
   "display_name": "Python 3",
   "language": "python",
   "name": "python3"
  },
  "language_info": {
   "codemirror_mode": {
    "name": "ipython",
    "version": 3
   },
   "file_extension": ".py",
   "mimetype": "text/x-python",
   "name": "python",
   "nbconvert_exporter": "python",
   "pygments_lexer": "ipython3",
   "version": "3.8.5"
  },
  "toc": {
   "base_numbering": 1,
   "nav_menu": {},
   "number_sections": true,
   "sideBar": true,
   "skip_h1_title": false,
   "title_cell": "Table of Contents",
   "title_sidebar": "Contents",
   "toc_cell": false,
   "toc_position": {
    "height": "calc(100% - 180px)",
    "left": "10px",
    "top": "150px",
    "width": "350.8px"
   },
   "toc_section_display": true,
   "toc_window_display": true
  }
 },
 "nbformat": 4,
 "nbformat_minor": 4
}
