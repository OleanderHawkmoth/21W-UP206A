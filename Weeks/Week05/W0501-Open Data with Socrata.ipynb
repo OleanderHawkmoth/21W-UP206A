{
 "cells": [
  {
   "cell_type": "markdown",
   "metadata": {
    "slideshow": {
     "slide_type": "slide"
    }
   },
   "source": [
    "# An Open Data case study:  Hot-spots for Arrests in LA over time\n"
   ]
  },
  {
   "cell_type": "markdown",
   "metadata": {
    "slideshow": {
     "slide_type": "slide"
    }
   },
   "source": [
    "## Data acquisition\n",
    "\n",
    "Many governments use <a href=\"https://www.tylertech.com/products/socrata/data-platform\" target=\"_blank\">socrata</a> as their platform to serve data to the public. \n",
    "<img src=\"../images/socrata.png\" width=600>"
   ]
  },
  {
   "cell_type": "markdown",
   "metadata": {
    "slideshow": {
     "slide_type": "slide"
    }
   },
   "source": [
    "<table>\n",
    "    <tr>\n",
    "        <td><a href=\"https://opendata.cityofnewyork.us/\" target=\"_blank\"><img src=\"images/ny.png\" width=400></a></td>\n",
    "        <td><a href=\"https://datasf.org/opendata/\" target=\"_blank\"><img src=\"images/sf.png\" width=400></a></td>\n",
    "    </tr>\n",
    "    <tr>\n",
    "        <td><a href=\"https://data.cityofchicago.org/\" target=\"_blank\"><img src=\"images/ch.png\" width=400></a></td>\n",
    "        <td><a href=\"https://data.lacity.org/\" target=\"_blank\"><img src=\"images/la.png\" width=400></a></td>\n",
    "    </tr>\n",
    "</table>"
   ]
  },
  {
   "cell_type": "markdown",
   "metadata": {
    "slideshow": {
     "slide_type": "slide"
    }
   },
   "source": [
    "For this tutorial, we will look at LAPD's arrest data:\n",
    "\n",
    "https://data.lacity.org/A-Safe-City/Arrest-Data-from-2020-to-Present/amvf-fr72"
   ]
  },
  {
   "cell_type": "markdown",
   "metadata": {
    "slideshow": {
     "slide_type": "fragment"
    }
   },
   "source": [
    "The <a href=\"https://dev.socrata.com/docs/endpoints.html\" target=\"_blank\">Socrata API</a> allows direct and real-time access to open data."
   ]
  },
  {
   "cell_type": "markdown",
   "metadata": {
    "slideshow": {
     "slide_type": "fragment"
    }
   },
   "source": [
    "To access the data, we will use the `sodapy` library: https://github.com/xmunoz/sodapy"
   ]
  },
  {
   "cell_type": "markdown",
   "metadata": {
    "slideshow": {
     "slide_type": "slide"
    }
   },
   "source": [
    "Instructions on how to use `sodapy` to access data for this dataset:\n",
    "\n",
    "<a href=\"https://data.lacity.org/A-Safe-City/Arrest-Data-from-2020-to-Present/amvf-fr72\" target=\"_blank\"><img src=\"images/ladata.png\"></a>\n",
    "\n",
    "https://dev.socrata.com/foundry/data.lacity.org/amvf-fr72"
   ]
  },
  {
   "cell_type": "markdown",
   "metadata": {
    "slideshow": {
     "slide_type": "slide"
    }
   },
   "source": [
    "### Question:\n",
    "- What is the difference between exporting the data and using the API?"
   ]
  },
  {
   "cell_type": "markdown",
   "metadata": {
    "slideshow": {
     "slide_type": "slide"
    }
   },
   "source": [
    "### It's time to start coding: importing libraries\n",
    "\n",
    "Let's begin our python journey. First, we identify the libraries we will use, and import them into our project:\n",
    "- `pandas`\n",
    "- `plotly express` - [documentation](https://plotly.com/python/plotly-express/)\n",
    "- `sodapy` - [documentation](https://github.com/xmunoz/sodapy)"
   ]
  },
  {
   "cell_type": "code",
   "execution_count": null,
   "metadata": {
    "slideshow": {
     "slide_type": "slide"
    }
   },
   "outputs": [],
   "source": [
    "import pandas as pd\n",
    "import plotly.express as px\n",
    "from sodapy import Socrata"
   ]
  },
  {
   "cell_type": "markdown",
   "metadata": {
    "slideshow": {
     "slide_type": "slide"
    }
   },
   "source": [
    "### Creating a socrata client\n",
    "Next, we acquire the data using the socrata API. Use the socrata documentation to grab the code syntax for our crime data.\n",
    "- https://dev.socrata.com/foundry/data.lacity.org/amvf-fr72"
   ]
  },
  {
   "cell_type": "code",
   "execution_count": null,
   "metadata": {
    "slideshow": {
     "slide_type": "slide"
    }
   },
   "outputs": [],
   "source": [
    "# connect to the data portal\n",
    "client = Socrata(\"data.lacity.org\", None)\n",
    "\n",
    "# First 2000 results, returned as JSON from API / converted to Python list of\n",
    "# dictionaries by sodapy.\n",
    "results = client.get(\"amvf-fr72\", limit=2000)\n",
    "\n",
    "# Convert to pandas DataFrame\n",
    "df = pd.DataFrame.from_records(results)\n",
    "\n",
    "# print it with .sample, which gives you random rows\n",
    "df.sample(2)"
   ]
  },
  {
   "cell_type": "markdown",
   "metadata": {
    "slideshow": {
     "slide_type": "slide"
    }
   },
   "source": [
    "That's great! But what if you wanted something specific, like \"all arrests in September, 2020?\""
   ]
  },
  {
   "cell_type": "code",
   "execution_count": null,
   "metadata": {
    "slideshow": {
     "slide_type": "fragment"
    }
   },
   "outputs": [],
   "source": [
    "# add a \"where\" statement\n",
    "results = client.get(\"amvf-fr72\", \n",
    "                     limit = 10000, # putting an arbitrary high number (otherwise defaults to 1000)\n",
    "                     where = \"arst_date between '2020-09-01T00:00:00' and '2020-09-30T00:00:00'\"\n",
    "                    )"
   ]
  },
  {
   "cell_type": "code",
   "execution_count": null,
   "metadata": {
    "scrolled": true,
    "slideshow": {
     "slide_type": "fragment"
    }
   },
   "outputs": [],
   "source": [
    "# Convert to pandas DataFrame\n",
    "df = pd.DataFrame.from_records(results)"
   ]
  },
  {
   "cell_type": "markdown",
   "metadata": {
    "slideshow": {
     "slide_type": "slide"
    }
   },
   "source": [
    "## Data Exploration and Analysis"
   ]
  },
  {
   "cell_type": "code",
   "execution_count": null,
   "metadata": {
    "slideshow": {
     "slide_type": "slide"
    }
   },
   "outputs": [],
   "source": [
    "# how many rows and columns?\n"
   ]
  },
  {
   "cell_type": "code",
   "execution_count": null,
   "metadata": {
    "scrolled": true,
    "slideshow": {
     "slide_type": "slide"
    }
   },
   "outputs": [],
   "source": [
    "# what fields and datatypes?\n"
   ]
  },
  {
   "cell_type": "code",
   "execution_count": null,
   "metadata": {},
   "outputs": [],
   "source": [
    "# what are the first 5 rows?\n"
   ]
  },
  {
   "cell_type": "markdown",
   "metadata": {},
   "source": [
    "### Bar charts with plotly"
   ]
  },
  {
   "cell_type": "markdown",
   "metadata": {
    "slideshow": {
     "slide_type": "slide"
    }
   },
   "source": [
    "Now, use plotly express to create a bar chart.\n",
    "- https://plotly.com/python/bar-charts/"
   ]
  },
  {
   "cell_type": "code",
   "execution_count": null,
   "metadata": {
    "slideshow": {
     "slide_type": "slide"
    }
   },
   "outputs": [],
   "source": [
    "# a simple bar chart, putting date on the x-axis\n",
    "px.bar(df,\n",
    "       x='arst_date',\n",
    "       title='LAPD Arrests by Charge Type in September, 2020'\n",
    "      )"
   ]
  },
  {
   "cell_type": "markdown",
   "metadata": {},
   "source": [
    "## Label axis"
   ]
  },
  {
   "cell_type": "code",
   "execution_count": null,
   "metadata": {
    "slideshow": {
     "slide_type": "slide"
    }
   },
   "outputs": [],
   "source": [
    "# add labels by providing a dict\n",
    "px.bar(df,\n",
    "       x='arst_date',\n",
    "       title='LAPD Arrests by Charge Type in September, 2020',\n",
    "       labels={'arst_date':'Arrest date','count':'Number of arrests'}\n",
    "      )"
   ]
  },
  {
   "cell_type": "markdown",
   "metadata": {
    "slideshow": {
     "slide_type": "slide"
    }
   },
   "source": [
    "Let's dig in further... what if we want to see the distribution of charge types by day?"
   ]
  },
  {
   "cell_type": "code",
   "execution_count": null,
   "metadata": {
    "slideshow": {
     "slide_type": "slide"
    }
   },
   "outputs": [],
   "source": [
    "# show me distinct value of charges\n",
    "df.grp_description.unique()"
   ]
  },
  {
   "cell_type": "code",
   "execution_count": null,
   "metadata": {
    "slideshow": {
     "slide_type": "slide"
    }
   },
   "outputs": [],
   "source": [
    "# show me distinct value of charges\n",
    "arrest_by_charge = df.grp_description.value_counts().reset_index()\n",
    "arrest_by_charge"
   ]
  },
  {
   "cell_type": "code",
   "execution_count": null,
   "metadata": {
    "slideshow": {
     "slide_type": "slide"
    }
   },
   "outputs": [],
   "source": [
    "arrest_by_charge.columns=['charge','count']\n",
    "arrest_by_charge"
   ]
  },
  {
   "cell_type": "code",
   "execution_count": null,
   "metadata": {
    "scrolled": true,
    "slideshow": {
     "slide_type": "slide"
    }
   },
   "outputs": [],
   "source": [
    "px.bar(arrest_by_charge,\n",
    "       x='charge',\n",
    "       y='count',\n",
    "       title='LAPD Arrests by Charge Type in September, 2020')"
   ]
  },
  {
   "cell_type": "markdown",
   "metadata": {
    "slideshow": {
     "slide_type": "slide"
    }
   },
   "source": [
    "Now it's your turn!\n",
    "\n",
    "Create a [horizontal chart](https://plotly.com/python/horizontal-bar-charts/) for the same data."
   ]
  },
  {
   "cell_type": "markdown",
   "metadata": {
    "slideshow": {
     "slide_type": "slide"
    }
   },
   "source": [
    "### Stacked bar charts\n",
    "\n",
    "What if you wanted to find out the distribution of crime types per day?"
   ]
  },
  {
   "cell_type": "code",
   "execution_count": null,
   "metadata": {},
   "outputs": [],
   "source": [
    "# show me how many arrests per day\n",
    "df.groupby(['arst_date']).count()"
   ]
  },
  {
   "cell_type": "code",
   "execution_count": null,
   "metadata": {
    "slideshow": {
     "slide_type": "slide"
    }
   },
   "outputs": [],
   "source": [
    "# show me how many arrests per charge\n"
   ]
  },
  {
   "cell_type": "code",
   "execution_count": null,
   "metadata": {
    "scrolled": true,
    "slideshow": {
     "slide_type": "slide"
    }
   },
   "outputs": [],
   "source": [
    "# ok, group by date and charge, and let's get a count for each\n",
    "df_grouped=df.groupby(['arst_date','grp_description']).count()[['rpt_id']]\n",
    "df_grouped.head(50)"
   ]
  },
  {
   "cell_type": "code",
   "execution_count": null,
   "metadata": {
    "slideshow": {
     "slide_type": "slide"
    }
   },
   "outputs": [],
   "source": [
    "# flatten the multi-indexed dataframe\n",
    "df_flat = df_grouped.reset_index()\n",
    "df_flat"
   ]
  },
  {
   "cell_type": "code",
   "execution_count": null,
   "metadata": {
    "slideshow": {
     "slide_type": "slide"
    }
   },
   "outputs": [],
   "source": [
    "# make a bar chart\n",
    "px.bar(df_flat,\n",
    "       x='arst_date',\n",
    "       y='rpt_id'\n",
    "      )"
   ]
  },
  {
   "cell_type": "code",
   "execution_count": null,
   "metadata": {
    "slideshow": {
     "slide_type": "slide"
    }
   },
   "outputs": [],
   "source": [
    "# make a stacked bar chart\n",
    "px.bar(df_flat,\n",
    "       x='arst_date',\n",
    "       y='rpt_id',\n",
    "       color='grp_description' # this creates the \"stack\"\n",
    "      )"
   ]
  },
  {
   "cell_type": "markdown",
   "metadata": {
    "slideshow": {
     "slide_type": "slide"
    }
   },
   "source": [
    "Now it's your turn!\n",
    "\n",
    "* Add a title\n",
    "* Clean up the labels"
   ]
  },
  {
   "cell_type": "markdown",
   "metadata": {
    "slideshow": {
     "slide_type": "slide"
    }
   },
   "source": [
    "## Data prep: subsetting your data\n",
    "\n",
    "Let's go back to the original dataset."
   ]
  },
  {
   "cell_type": "code",
   "execution_count": null,
   "metadata": {
    "scrolled": true,
    "slideshow": {
     "slide_type": "fragment"
    }
   },
   "outputs": [],
   "source": [
    "df.info()"
   ]
  },
  {
   "cell_type": "markdown",
   "metadata": {
    "slideshow": {
     "slide_type": "slide"
    }
   },
   "source": [
    "That's a lot of fields. Let's create a subset of the data with just the following fields:\n",
    "\n",
    "- `arts_date`\n",
    "- `age`\n",
    "- `descent_cd`\n",
    "- `grp_description`\n",
    "- `lat`\n",
    "- `lon`\n"
   ]
  },
  {
   "cell_type": "code",
   "execution_count": null,
   "metadata": {
    "slideshow": {
     "slide_type": "slide"
    }
   },
   "outputs": [],
   "source": [
    "# subset the data\n",
    "df_mini = df[['arst_date','age','descent_cd','grp_description','lat','lon']].copy()\n",
    "df_mini.head()"
   ]
  },
  {
   "cell_type": "code",
   "execution_count": null,
   "metadata": {
    "slideshow": {
     "slide_type": "slide"
    }
   },
   "outputs": [],
   "source": [
    "# get info for our subset data\n",
    "df_mini.info()"
   ]
  },
  {
   "cell_type": "markdown",
   "metadata": {
    "slideshow": {
     "slide_type": "slide"
    }
   },
   "source": [
    "Our `lat` and `lon` columns need to be of data type float. Let's convert them."
   ]
  },
  {
   "cell_type": "code",
   "execution_count": null,
   "metadata": {
    "slideshow": {
     "slide_type": "fragment"
    }
   },
   "outputs": [],
   "source": [
    "# convert lat/lon's to floats\n",
    "df_mini['lat'] = df_mini['lat'].astype(float)\n",
    "df_mini['lon'] = df_mini['lon'].astype(float)\n",
    "df_mini.info()"
   ]
  },
  {
   "cell_type": "markdown",
   "metadata": {
    "slideshow": {
     "slide_type": "slide"
    }
   },
   "source": [
    "What happens if we create a scatter plot, placing `lon` in the x-axis `lat` in the y-axis?"
   ]
  },
  {
   "cell_type": "code",
   "execution_count": null,
   "metadata": {
    "scrolled": false,
    "slideshow": {
     "slide_type": "fragment"
    }
   },
   "outputs": [],
   "source": [
    "px.scatter(df_mini,\n",
    "           x='lon',\n",
    "           y='lat'\n",
    "          )"
   ]
  },
  {
   "cell_type": "markdown",
   "metadata": {
    "slideshow": {
     "slide_type": "slide"
    }
   },
   "source": [
    "## Data visualization: Mapping with plotly\n",
    "Plotly has support for a mapbox slippy map. Have fun with this, and change the `mapbox_style` attribute to any of the following:\n",
    "\n",
    "* `open-street-map`\n",
    "* `white-bg`\n",
    "* `carto-positron`\n",
    "* `carto-darkmatter`\n",
    "* `stamen-terrain`\n",
    "* `stamen-toner`\n",
    "* `stamen-watercolor`\n"
   ]
  },
  {
   "cell_type": "code",
   "execution_count": null,
   "metadata": {
    "slideshow": {
     "slide_type": "slide"
    }
   },
   "outputs": [],
   "source": [
    "fig = px.scatter_mapbox(df_mini,\n",
    "                        lat='lat',\n",
    "                        lon='lon',\n",
    "                        mapbox_style=\"stamen-terrain\")\n",
    "fig.show()"
   ]
  },
  {
   "cell_type": "code",
   "execution_count": null,
   "metadata": {
    "scrolled": false,
    "slideshow": {
     "slide_type": "slide"
    }
   },
   "outputs": [],
   "source": [
    "# before you run this cell, what do you think it will produce?\n",
    "fig = px.scatter_mapbox(df_mini, \n",
    "                        lat=\"lat\", \n",
    "                        lon=\"lon\", \n",
    "                        color=\"descent_cd\"\n",
    "                       )\n",
    "fig.update_layout(mapbox_style=\"carto-darkmatter\")\n",
    "\n",
    "fig.show()"
   ]
  },
  {
   "cell_type": "code",
   "execution_count": null,
   "metadata": {
    "scrolled": false,
    "slideshow": {
     "slide_type": "slide"
    }
   },
   "outputs": [],
   "source": [
    "# before you run this cell, what do you think it will produce?\n",
    "fig = px.scatter_mapbox(df_mini, \n",
    "                        lat=\"lat\", \n",
    "                        lon=\"lon\", \n",
    "                        color=\"descent_cd\",\n",
    "                        animation_frame = 'arst_date',\n",
    "                       )\n",
    "fig.update_layout(mapbox_style=\"carto-darkmatter\")\n",
    "\n",
    "fig.show()"
   ]
  },
  {
   "cell_type": "markdown",
   "metadata": {
    "slideshow": {
     "slide_type": "slide"
    }
   },
   "source": [
    "## Advanced visualizations: 3D mapping\n",
    "- https://kepler.gl/"
   ]
  },
  {
   "cell_type": "markdown",
   "metadata": {
    "slideshow": {
     "slide_type": "fragment"
    }
   },
   "source": [
    "<img src=\"images/kepler.png\" width=800>"
   ]
  },
  {
   "cell_type": "markdown",
   "metadata": {
    "slideshow": {
     "slide_type": "slide"
    }
   },
   "source": [
    "Import the keplergl library."
   ]
  },
  {
   "cell_type": "code",
   "execution_count": null,
   "metadata": {
    "slideshow": {
     "slide_type": "fragment"
    }
   },
   "outputs": [],
   "source": [
    "from keplergl import KeplerGl"
   ]
  },
  {
   "cell_type": "markdown",
   "metadata": {
    "slideshow": {
     "slide_type": "slide"
    }
   },
   "source": [
    "Create a default kepler map."
   ]
  },
  {
   "cell_type": "code",
   "execution_count": null,
   "metadata": {
    "scrolled": true,
    "slideshow": {
     "slide_type": "slide"
    }
   },
   "outputs": [],
   "source": [
    "map = KeplerGl(height=600,width=800)\n",
    "map"
   ]
  },
  {
   "cell_type": "markdown",
   "metadata": {
    "slideshow": {
     "slide_type": "slide"
    }
   },
   "source": [
    "Add our `df_mini` as a data layer on the map. Within the kepler widget, manipulate the map \n",
    "- change points to grid cells or hexbins\n",
    "- change the color palette so that hot spots are red\n",
    "- change the color scale from `quantile` to `quansize`\n",
    "- add height to your data\n",
    "- switch to 3D map view\n",
    "- adjust the height of the data cells\n",
    "- add `arst_date` as a filter"
   ]
  },
  {
   "cell_type": "code",
   "execution_count": null,
   "metadata": {
    "slideshow": {
     "slide_type": "fragment"
    }
   },
   "outputs": [],
   "source": [
    "map.add_data(data=df_mini,name='arrests')"
   ]
  },
  {
   "cell_type": "markdown",
   "metadata": {
    "slideshow": {
     "slide_type": "slide"
    }
   },
   "source": [
    "### Saving your kepler map as an html page"
   ]
  },
  {
   "cell_type": "code",
   "execution_count": null,
   "metadata": {
    "slideshow": {
     "slide_type": "-"
    }
   },
   "outputs": [],
   "source": [
    "map.save_to_html(file_name='la_arrests.html',read_only=True)"
   ]
  },
  {
   "cell_type": "markdown",
   "metadata": {},
   "source": [
    "<div class=\"alert alert-info\">\n",
    "Now it's your turn!\n",
    "\n",
    "* Find a socrata based open dataset\n",
    "* Use the sodapy library and import it\n",
    "* Conduct data exploration and analysis\n",
    "* Create two or more plots using the plotly express library\n",
    "* Create map visualization using plotly and/or the KeplerGL libraries\n",
    "\n",
    "</div>"
   ]
  },
  {
   "cell_type": "code",
   "execution_count": null,
   "metadata": {},
   "outputs": [],
   "source": []
  }
 ],
 "metadata": {
  "celltoolbar": "Slideshow",
  "kernelspec": {
   "display_name": "Python 3",
   "language": "python",
   "name": "python3"
  },
  "language_info": {
   "codemirror_mode": {
    "name": "ipython",
    "version": 3
   },
   "file_extension": ".py",
   "mimetype": "text/x-python",
   "name": "python",
   "nbconvert_exporter": "python",
   "pygments_lexer": "ipython3",
   "version": "3.8.5"
  },
  "toc": {
   "base_numbering": 1,
   "nav_menu": {},
   "number_sections": true,
   "sideBar": true,
   "skip_h1_title": false,
   "title_cell": "Table of Contents",
   "title_sidebar": "Contents",
   "toc_cell": false,
   "toc_position": {
    "height": "calc(100% - 180px)",
    "left": "10px",
    "top": "150px",
    "width": "314px"
   },
   "toc_section_display": true,
   "toc_window_display": false
  }
 },
 "nbformat": 4,
 "nbformat_minor": 4
}
