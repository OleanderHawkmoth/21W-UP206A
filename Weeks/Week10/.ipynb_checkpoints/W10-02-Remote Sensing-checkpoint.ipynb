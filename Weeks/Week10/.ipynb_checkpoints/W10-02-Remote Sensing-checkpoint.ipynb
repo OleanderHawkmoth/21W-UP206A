{
 "cells": [
  {
   "cell_type": "markdown",
   "id": "commercial-chassis",
   "metadata": {
    "slideshow": {
     "slide_type": "slide"
    }
   },
   "source": [
    "# Introduction to Remote Sensing with Python\n",
    "\n",
    ">\"...the time is now right and urgent to apply space technology towards the solution of many pressing natural resources problems being compounded by population and industrial growth.\"\n",
    "\n",
    "- Stewart Udall, Secretary of the Interior, September 21, 1966\n",
    "\n",
    "Landsat is the first \"civilian Earth observation satellite\" launched in 1972, a collaboration between the Department of the Interior, NASA, and the Department of Agriculture."
   ]
  },
  {
   "cell_type": "markdown",
   "id": "graduate-stress",
   "metadata": {
    "slideshow": {
     "slide_type": "slide"
    }
   },
   "source": [
    "At over 40 years, the Landsat series of satellites provides the longest temporal record of moderate resolution multispectral data of the Earth’s surface on a global basis. The Landsat record has remained remarkably unbroken, proving a unique resource to assist a broad range of specialists in managing the world’s food, water, forests, and other natural resources for a growing world population. It is a record unmatched in quality, detail, coverage, and value. Source: USGS"
   ]
  },
  {
   "cell_type": "markdown",
   "id": "spare-tuition",
   "metadata": {
    "slideshow": {
     "slide_type": "slide"
    }
   },
   "source": [
    "<img src=\"https://prd-wret.s3.us-west-2.amazonaws.com/assets/palladium/production/s3fs-public/styles/full_width/public/thumbnails/image/5262-Landsat-timeline-FNL-2.jpg\">"
   ]
  },
  {
   "cell_type": "markdown",
   "id": "useful-melbourne",
   "metadata": {
    "slideshow": {
     "slide_type": "slide"
    }
   },
   "source": [
    "<a href=\"https://youtu.be/bmoYMzGBN5s\"><img src=\"https://prd-wret.s3.us-west-2.amazonaws.com/assets/palladium/production/s3fs-public/styles/atom_page_medium/public/thumbnails/image/Landsat_8_%28LDCM%29_Satellite_over_Earth%2C%20Wiki%20Commons.jpg\">\n",
    "</a>\n"
   ]
  },
  {
   "cell_type": "markdown",
   "id": "bibliographic-workstation",
   "metadata": {
    "slideshow": {
     "slide_type": "slide"
    }
   },
   "source": [
    "## How to access landsat data\n",
    "\n",
    "- [USGS Earth Explorer](https://earthexplorer.usgs.gov/)\n",
    "- [Amazon AWS Open Data](https://registry.opendata.aws/landsat-8/)\n",
    "- [Google Earth Engine](https://developers.google.com/earth-engine/datasets/catalog/landsat-8)"
   ]
  },
  {
   "cell_type": "code",
   "execution_count": null,
   "id": "transsexual-ghana",
   "metadata": {
    "slideshow": {
     "slide_type": "slide"
    }
   },
   "outputs": [],
   "source": [
    "# the regulars\n",
    "import geopandas as gpd\n",
    "import matplotlib.pyplot as plt\n",
    "\n",
    "# work with dates\n",
    "from datetime import datetime as dt\n",
    "\n",
    "# allow images to display\n",
    "from IPython.display import Image\n",
    "\n",
    "# earth engine\n",
    "import ee"
   ]
  },
  {
   "cell_type": "code",
   "execution_count": null,
   "id": "developmental-absence",
   "metadata": {
    "slideshow": {
     "slide_type": "slide"
    }
   },
   "outputs": [],
   "source": [
    "# Trigger the authentication flow.\n",
    "ee.Authenticate()\n",
    "\n",
    "# Initialize the library.\n",
    "ee.Initialize()"
   ]
  },
  {
   "cell_type": "markdown",
   "id": "undefined-lighting",
   "metadata": {
    "slideshow": {
     "slide_type": "slide"
    }
   },
   "source": [
    "## Finding satellite image of the Bobcat Fire\n",
    "\n",
    "<img src=\"https://upload.wikimedia.org/wikipedia/commons/thumb/c/c1/Bobcat_Fire%2C_Los_Angeles%2C_San_Gabriel_Mountains.jpg/800px-Bobcat_Fire%2C_Los_Angeles%2C_San_Gabriel_Mountains.jpg\">\n",
    "\n",
    "The Bobcat Fire was a fire that started on September 6, 2020 as part of the 2020 California wildfire season. By December 18, it was fully contained and had burned 115,796 acres (46,861 ha) in the central San Gabriel Mountains, in and around the Angeles National Forest. It was one of the largest fires on record in Los Angeles County to date.\n",
    "\n",
    "- https://en.wikipedia.org/wiki/Bobcat_Fire"
   ]
  },
  {
   "cell_type": "code",
   "execution_count": null,
   "id": "restricted-russian",
   "metadata": {
    "slideshow": {
     "slide_type": "slide"
    }
   },
   "outputs": [],
   "source": [
    "# coordinates of the bobcat fire\n",
    "lat = 34.289\n",
    "lon = -117.977\n",
    "\n",
    "# point of interest\n",
    "poi = ee.Geometry.Point(lon,lat)"
   ]
  },
  {
   "cell_type": "markdown",
   "id": "fancy-andrews",
   "metadata": {
    "slideshow": {
     "slide_type": "slide"
    }
   },
   "source": [
    "For this lab, we will use Google Earth Engine's \"USGS Landsat 8 Surface Reflectance Tier 1\"\n",
    "\n",
    "- [EE Landsat 8](https://developers.google.com/earth-engine/datasets/catalog/LANDSAT_LC08_C01_T1_SR)\n",
    "\n",
    "You can also:\n",
    "\n",
    "- `.filterBounds()` method allows you to filter by location\n",
    "- `.filterDate()` allows you to filter by date"
   ]
  },
  {
   "cell_type": "code",
   "execution_count": null,
   "id": "published-shade",
   "metadata": {
    "slideshow": {
     "slide_type": "slide"
    }
   },
   "outputs": [],
   "source": [
    "# get the satellite data\n",
    "landsat = ee.ImageCollection(\"LANDSAT/LC08/C01/T1_SR\")\\\n",
    "            .filterBounds(poi)\\\n",
    "            .filterDate('2020-08-01','2020-12-31')"
   ]
  },
  {
   "cell_type": "code",
   "execution_count": null,
   "id": "angry-cocktail",
   "metadata": {
    "slideshow": {
     "slide_type": "slide"
    }
   },
   "outputs": [],
   "source": [
    "# information about the first image\n",
    "landsat.first().getInfo()"
   ]
  },
  {
   "cell_type": "code",
   "execution_count": null,
   "id": "moved-device",
   "metadata": {
    "slideshow": {
     "slide_type": "slide"
    }
   },
   "outputs": [],
   "source": [
    "# what bands did we get?\n",
    "landsat.first().bandNames().getInfo()"
   ]
  },
  {
   "cell_type": "code",
   "execution_count": null,
   "id": "nasty-steam",
   "metadata": {
    "slideshow": {
     "slide_type": "slide"
    }
   },
   "outputs": [],
   "source": [
    "# how many images did we get?\n",
    "print('Total number:', landsat.size().getInfo())"
   ]
  },
  {
   "cell_type": "code",
   "execution_count": null,
   "id": "psychological-hindu",
   "metadata": {
    "slideshow": {
     "slide_type": "fragment"
    }
   },
   "outputs": [],
   "source": [
    "# put the images in a list\n",
    "landsat_list = landsat.toList(landsat.size());"
   ]
  },
  {
   "cell_type": "markdown",
   "id": "floral-charger",
   "metadata": {
    "slideshow": {
     "slide_type": "slide"
    }
   },
   "source": [
    "## Display satellite image"
   ]
  },
  {
   "cell_type": "code",
   "execution_count": null,
   "id": "burning-calculation",
   "metadata": {},
   "outputs": [],
   "source": [
    "# set some parameters for image\n",
    "parameters = {\n",
    "                'min': 0,\n",
    "                'max': 2500,\n",
    "                'dimensions': 400,\n",
    "                'bands': ['B4', 'B3', 'B2']\n",
    "             }"
   ]
  },
  {
   "cell_type": "code",
   "execution_count": null,
   "id": "beneficial-forward",
   "metadata": {
    "scrolled": false,
    "slideshow": {
     "slide_type": "slide"
    }
   },
   "outputs": [],
   "source": [
    "for i in range(landsat.size().getInfo()):\n",
    "\n",
    "    # when was this image taken?\n",
    "    date = ee.Date(ee.Image(landsat_list.get(i)).get('system:time_start'))\n",
    "    time = date.getInfo()['value']/1000\n",
    "    date = dt.utcfromtimestamp(time).strftime('%Y-%m-%d %H:%M:%S')\n",
    "    print('Image #',i,date)\n",
    "    \n",
    "    display(Image(url = ee.Image(landsat_list.get(i)).getThumbUrl(parameters)))\n",
    "    "
   ]
  },
  {
   "cell_type": "code",
   "execution_count": null,
   "id": "written-criterion",
   "metadata": {
    "slideshow": {
     "slide_type": "slide"
    }
   },
   "outputs": [],
   "source": [
    "# create a list of images we want (before, during, after)\n",
    "landsat_sequence = [1,3,4]"
   ]
  },
  {
   "cell_type": "code",
   "execution_count": null,
   "id": "industrial-alpha",
   "metadata": {
    "slideshow": {
     "slide_type": "fragment"
    }
   },
   "outputs": [],
   "source": [
    "# Define a region of interest with a buffer zone of 20 km\n",
    "roi = poi.buffer(20000) # meters"
   ]
  },
  {
   "cell_type": "code",
   "execution_count": null,
   "id": "intermediate-equity",
   "metadata": {
    "slideshow": {
     "slide_type": "fragment"
    }
   },
   "outputs": [],
   "source": [
    "parameters = {'min': 100,\n",
    "              'max': 2000,\n",
    "              'dimensions': 512,\n",
    "              'bands': ['B4', 'B3', 'B2'],\n",
    "              'region':roi\n",
    "              }"
   ]
  },
  {
   "cell_type": "code",
   "execution_count": null,
   "id": "loaded-graph",
   "metadata": {
    "slideshow": {
     "slide_type": "slide"
    }
   },
   "outputs": [],
   "source": [
    "for i in landsat_sequence:\n",
    "    # when was this image taken?\n",
    "    date = ee.Date(ee.Image(landsat_list.get(i)).get('system:time_start'))\n",
    "    time = date.getInfo()['value']/1000\n",
    "    date = dt.utcfromtimestamp(time).strftime('%Y-%m-%d %H:%M:%S')\n",
    "    print('Image #',i,date)\n",
    "\n",
    "    display(Image(url = ee.Image(landsat_list.get(i)).getThumbUrl(parameters)))"
   ]
  },
  {
   "cell_type": "markdown",
   "id": "addressed-anatomy",
   "metadata": {
    "slideshow": {
     "slide_type": "slide"
    }
   },
   "source": [
    "## NDVI\n",
    "\n",
    "<img src=\"https://eos.com/wp-content/uploads/2020/11/how-NDVI-works-EN.jpg\">\n",
    "\n",
    "- [EOS](https://eos.com/ndvi/)"
   ]
  },
  {
   "cell_type": "code",
   "execution_count": null,
   "id": "confused-collaboration",
   "metadata": {
    "slideshow": {
     "slide_type": "slide"
    }
   },
   "outputs": [],
   "source": [
    "# ndvi palette: green is high vegetation\n",
    "palette = ['red', 'yellow', 'green']\n",
    "\n",
    "ndvi_parameters = {'min': 0,\n",
    "                   'max': 1,\n",
    "                   'dimensions': 512,\n",
    "                   'palette': palette,\n",
    "                   'region': roi}"
   ]
  },
  {
   "cell_type": "code",
   "execution_count": null,
   "id": "increasing-myrtle",
   "metadata": {
    "slideshow": {
     "slide_type": "slide"
    }
   },
   "outputs": [],
   "source": [
    "for i in landsat_sequence:\n",
    "\n",
    "    # when was this image taken?\n",
    "    date = ee.Date(ee.Image(landsat_list.get(i)).get('system:time_start'))\n",
    "    time = date.getInfo()['value']/1000\n",
    "    date = dt.utcfromtimestamp(time).strftime('%Y-%m-%d %H:%M:%S')\n",
    "    print('Image #',i,date)\n",
    "\n",
    "    display(Image(url=ee.Image(landsat_list.get(i)).normalizedDifference(['B5', 'B4']).getThumbUrl(ndvi_parameters)))"
   ]
  },
  {
   "cell_type": "markdown",
   "id": "dense-contents",
   "metadata": {
    "slideshow": {
     "slide_type": "slide"
    }
   },
   "source": [
    "## Folium\n",
    "\n",
    "Of course, we can't end the lab without an interactive map."
   ]
  },
  {
   "cell_type": "code",
   "execution_count": null,
   "id": "assigned-competition",
   "metadata": {
    "slideshow": {
     "slide_type": "fragment"
    }
   },
   "outputs": [],
   "source": [
    "import folium"
   ]
  },
  {
   "cell_type": "code",
   "execution_count": null,
   "id": "optimum-student",
   "metadata": {
    "slideshow": {
     "slide_type": "slide"
    }
   },
   "outputs": [],
   "source": [
    "# Google function that allows ee layers on folium\n",
    "def add_ee_layer(self, ee_image_object, vis_params, name):\n",
    "    \"\"\"Adds a method for displaying Earth Engine image tiles to folium map.\"\"\"\n",
    "    map_id_dict = ee.Image(ee_image_object).getMapId(vis_params)\n",
    "    folium.raster_layers.TileLayer(\n",
    "        tiles=map_id_dict['tile_fetcher'].url_format,\n",
    "        attr='Map Data &copy; <a href=\"https://earthengine.google.com/\">Google Earth Engine</a>',\n",
    "        name=name,\n",
    "        overlay=True,\n",
    "        control=True\n",
    "    ).add_to(self)\n",
    "\n",
    "# Add Earth Engine drawing method to folium\n",
    "folium.Map.add_ee_layer = add_ee_layer"
   ]
  },
  {
   "cell_type": "code",
   "execution_count": null,
   "id": "worthy-skirt",
   "metadata": {
    "scrolled": false,
    "slideshow": {
     "slide_type": "slide"
    }
   },
   "outputs": [],
   "source": [
    "# Create a map\n",
    "\n",
    "my_map = folium.Map(location=[lat, lon], zoom_start=10)\n",
    "\n",
    "# Add a layer for each satellite image of interest (before, during and after)\n",
    "for i in landsat_sequence:\n",
    "\n",
    "    # when was this image taken?\n",
    "    date = ee.Date(ee.Image(landsat_list.get(i)).get('system:time_start'))\n",
    "    time = date.getInfo()['value']/1000\n",
    "    date = dt.utcfromtimestamp(time).strftime('%Y-%m-%d %H:%M:%S')\n",
    "\n",
    "    my_map.add_ee_layer(ee.Image(landsat_list.get(i)).normalizedDifference(['B5', 'B4']), \n",
    "                        ndvi_parameters, \n",
    "                        date)\n",
    "\n",
    "# Add a layer control panel to the map\n",
    "folium.LayerControl(collapsed = False).add_to(my_map)\n",
    "\n",
    "# Display the map.\n",
    "display(my_map)"
   ]
  },
  {
   "cell_type": "markdown",
   "id": "funky-tribe",
   "metadata": {
    "slideshow": {
     "slide_type": "slide"
    }
   },
   "source": [
    "## Save folium map"
   ]
  },
  {
   "cell_type": "code",
   "execution_count": null,
   "id": "burning-particular",
   "metadata": {},
   "outputs": [],
   "source": [
    "my_map.save('bobcat.html')"
   ]
  },
  {
   "cell_type": "markdown",
   "id": "digital-wichita",
   "metadata": {
    "slideshow": {
     "slide_type": "slide"
    }
   },
   "source": [
    "# Resources\n",
    "\n",
    "- [Google's Python Tutorial](https://developers.google.com/earth-engine/tutorials/community/intro-to-python-api-guiattard)\n",
    "- [Earth Lab](https://www.earthdatascience.org/courses/use-data-open-source-python/multispectral-remote-sensing/landsat-in-Python/)\n",
    "    "
   ]
  }
 ],
 "metadata": {
  "celltoolbar": "Slideshow",
  "kernelspec": {
   "display_name": "Python 3",
   "language": "python",
   "name": "python3"
  },
  "language_info": {
   "codemirror_mode": {
    "name": "ipython",
    "version": 3
   },
   "file_extension": ".py",
   "mimetype": "text/x-python",
   "name": "python",
   "nbconvert_exporter": "python",
   "pygments_lexer": "ipython3",
   "version": "3.8.5"
  },
  "toc": {
   "base_numbering": 1,
   "nav_menu": {},
   "number_sections": true,
   "sideBar": true,
   "skip_h1_title": false,
   "title_cell": "Table of Contents",
   "title_sidebar": "Contents",
   "toc_cell": false,
   "toc_position": {
    "height": "calc(100% - 180px)",
    "left": "10px",
    "top": "150px",
    "width": "271.188px"
   },
   "toc_section_display": true,
   "toc_window_display": false
  }
 },
 "nbformat": 4,
 "nbformat_minor": 5
}
