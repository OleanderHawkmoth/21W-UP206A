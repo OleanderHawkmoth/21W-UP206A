{
 "cells": [
  {
   "cell_type": "markdown",
   "metadata": {
    "toc": true
   },
   "source": [
    "<h1>Table of Contents<span class=\"tocSkip\"></span></h1>\n",
    "<div class=\"toc\"><ul class=\"toc-item\"><li><span><a href=\"#Take-notice!\" data-toc-modified-id=\"Take-notice!-1\"><span class=\"toc-item-num\">1&nbsp;&nbsp;</span>Take notice!</a></span></li><li><span><a href=\"#Creating-a-function\" data-toc-modified-id=\"Creating-a-function-2\"><span class=\"toc-item-num\">2&nbsp;&nbsp;</span>Creating a function</a></span><ul class=\"toc-item\"><li><span><a href=\"#LA-Times-Neighborhoods\" data-toc-modified-id=\"LA-Times-Neighborhoods-2.1\"><span class=\"toc-item-num\">2.1&nbsp;&nbsp;</span>LA Times Neighborhoods</a></span></li><li><span><a href=\"#Get-Arrest-Data-from-LA-Open-Data-Portal\" data-toc-modified-id=\"Get-Arrest-Data-from-LA-Open-Data-Portal-2.2\"><span class=\"toc-item-num\">2.2&nbsp;&nbsp;</span>Get Arrest Data from LA Open Data Portal</a></span></li><li><span><a href=\"#Convert-data-to-a-geodataframe\" data-toc-modified-id=\"Convert-data-to-a-geodataframe-2.3\"><span class=\"toc-item-num\">2.3&nbsp;&nbsp;</span>Convert data to a geodataframe</a></span></li><li><span><a href=\"#Create-a-two-layer-map\" data-toc-modified-id=\"Create-a-two-layer-map-2.4\"><span class=\"toc-item-num\">2.4&nbsp;&nbsp;</span>Create a two layer map</a></span></li><li><span><a href=\"#Zoom-to-the-points,-not-the-neighborhoods\" data-toc-modified-id=\"Zoom-to-the-points,-not-the-neighborhoods-2.5\"><span class=\"toc-item-num\">2.5&nbsp;&nbsp;</span>Zoom to the points, not the neighborhoods</a></span></li></ul></li><li><span><a href=\"#Function-time\" data-toc-modified-id=\"Function-time-3\"><span class=\"toc-item-num\">3&nbsp;&nbsp;</span>Function time</a></span><ul class=\"toc-item\"><li><span><a href=\"#Adding-more-arguments\" data-toc-modified-id=\"Adding-more-arguments-3.1\"><span class=\"toc-item-num\">3.1&nbsp;&nbsp;</span>Adding more arguments</a></span></li></ul></li></ul></div>"
   ]
  },
  {
   "cell_type": "markdown",
   "metadata": {},
   "source": [
    "<div class=\"alert alert-danger\">\n",
    "\n",
    "<h1>Take notice!</h1>\n",
    "<ul>\n",
    "    <li>Make sure you are working with a copy and not the original notebook file</li>\n",
    "    <li>This class will be recorded</li>\n",
    "</ul>\n",
    "    \n",
    "</div>"
   ]
  },
  {
   "cell_type": "markdown",
   "metadata": {
    "slideshow": {
     "slide_type": "slide"
    }
   },
   "source": [
    "# Creating a function\n",
    "\n",
    "In this lab, we use the Multiple Overlay lab from last week to learn how to convert a process—a chain of commands to produce a desired output—into a function. Functions are extremely useful, can save time, and cut your lines of code dramatically.\n",
    "\n",
    "First, let's pick off from last week's lab, and create a multi-layered map with geopandas. "
   ]
  },
  {
   "cell_type": "markdown",
   "metadata": {
    "slideshow": {
     "slide_type": "slide"
    }
   },
   "source": [
    "## LA Times Neighborhoods\n",
    "\n",
    "* [About mapping LA neighborhoods](http://maps.latimes.com/neighborhoods/)\n",
    "* [Download the data](http://boundaries.latimes.com/sets/)"
   ]
  },
  {
   "cell_type": "code",
   "execution_count": null,
   "metadata": {},
   "outputs": [],
   "source": [
    "import geopandas as gpd\n",
    "\n",
    "# for basemaps\n",
    "import contextily as ctx"
   ]
  },
  {
   "cell_type": "code",
   "execution_count": null,
   "metadata": {
    "slideshow": {
     "slide_type": "fragment"
    }
   },
   "outputs": [],
   "source": [
    "# get neighborhood boundaries from the LA Times\n",
    "neighborhoods = gpd.read_file('http://s3-us-west-2.amazonaws.com/boundaries.latimes.com/archive/1.0/boundary-set/la-county-neighborhoods-v5.geojson')"
   ]
  },
  {
   "cell_type": "code",
   "execution_count": null,
   "metadata": {
    "slideshow": {
     "slide_type": "slide"
    }
   },
   "outputs": [],
   "source": [
    "# trim the data to the bare minimum columns\n",
    "neighborhoods = neighborhoods[['name','geometry']]\n",
    "neighborhoods.head()"
   ]
  },
  {
   "cell_type": "code",
   "execution_count": null,
   "metadata": {},
   "outputs": [],
   "source": [
    "# get the layers into a web mercator projection\n",
    "# reproject to web mercator\n",
    "neighborhoods = neighborhoods.to_crs(epsg=3857)"
   ]
  },
  {
   "cell_type": "code",
   "execution_count": null,
   "metadata": {
    "slideshow": {
     "slide_type": "slide"
    }
   },
   "outputs": [],
   "source": [
    "# plot it!\n",
    "ax=neighborhoods.plot(figsize=(12,12),\n",
    "                      color='gray', \n",
    "                      edgecolor='white',\n",
    "                      alpha=0.5)\n",
    "\n",
    "# no axis\n",
    "ax.axis('off')\n",
    "\n",
    "# add a basemap\n",
    "ctx.add_basemap(ax,source=ctx.providers.CartoDB.Positron)\n"
   ]
  },
  {
   "cell_type": "markdown",
   "metadata": {
    "slideshow": {
     "slide_type": "slide"
    }
   },
   "source": [
    "## Get Arrest Data from LA Open Data Portal\n",
    "Next, we acquire the data using the socrata API. Use the socrata documentation to grab the code syntax for our arrests data.\n",
    "- https://dev.socrata.com/foundry/data.lacity.org/amvf-fr72"
   ]
  },
  {
   "cell_type": "code",
   "execution_count": null,
   "metadata": {
    "slideshow": {
     "slide_type": "slide"
    }
   },
   "outputs": [],
   "source": [
    "import pandas as pd\n",
    "import plotly.express as px\n",
    "from sodapy import Socrata"
   ]
  },
  {
   "cell_type": "code",
   "execution_count": null,
   "metadata": {
    "slideshow": {
     "slide_type": "slide"
    }
   },
   "outputs": [],
   "source": [
    "# connect to the data portal\n",
    "client = Socrata(\"data.lacity.org\", None)\n",
    "\n",
    "results = client.get(\"amvf-fr72\", \n",
    "                     limit=5000,\n",
    "                     where = \"arst_date between '2020-09-01T00:00:00' and '2020-09-30T00:00:00'\",\n",
    "                     order='arst_date desc')\n",
    "\n",
    "# Convert to pandas DataFrame\n",
    "df = pd.DataFrame.from_records(results)\n",
    "\n",
    "# print it with .sample, which gives you random rows\n",
    "df.head()"
   ]
  },
  {
   "cell_type": "code",
   "execution_count": null,
   "metadata": {
    "slideshow": {
     "slide_type": "slide"
    }
   },
   "outputs": [],
   "source": [
    "df.shape"
   ]
  },
  {
   "cell_type": "code",
   "execution_count": null,
   "metadata": {
    "slideshow": {
     "slide_type": "fragment"
    }
   },
   "outputs": [],
   "source": [
    "# columns\n",
    "list(df)"
   ]
  },
  {
   "cell_type": "markdown",
   "metadata": {
    "slideshow": {
     "slide_type": "slide"
    }
   },
   "source": [
    "## Convert data to a geodataframe\n",
    "\n",
    "Geopandas allows us to convert different types of data into a spatial format.\n",
    "- https://geopandas.org/gallery/create_geopandas_from_pandas.html"
   ]
  },
  {
   "cell_type": "code",
   "execution_count": null,
   "metadata": {
    "slideshow": {
     "slide_type": "fragment"
    }
   },
   "outputs": [],
   "source": [
    "# convert pandas dataframe to geodataframe\n",
    "arrests = gpd.GeoDataFrame(df, \n",
    "                         crs='EPSG:4326',\n",
    "                         geometry=gpd.points_from_xy(df.lon, df.lat))"
   ]
  },
  {
   "cell_type": "code",
   "execution_count": null,
   "metadata": {},
   "outputs": [],
   "source": [
    "# get the layers into a web mercator projection\n",
    "# reproject to web mercator\n",
    "arrests = arrests.to_crs(epsg=3857)"
   ]
  },
  {
   "cell_type": "code",
   "execution_count": null,
   "metadata": {
    "slideshow": {
     "slide_type": "slide"
    }
   },
   "outputs": [],
   "source": [
    "# map it!\n",
    "ax = arrests.plot(figsize=(12,12),color='red')\n",
    "\n",
    "# no axis\n",
    "ax.axis('off')\n",
    "\n",
    "# add a basemap\n",
    "ctx.add_basemap(ax,source=ctx.providers.CartoDB.Positron)\n"
   ]
  },
  {
   "cell_type": "markdown",
   "metadata": {
    "slideshow": {
     "slide_type": "slide"
    }
   },
   "source": [
    "## Create a two layer map\n",
    "\n",
    "- https://geopandas.org/mapping.html"
   ]
  },
  {
   "cell_type": "code",
   "execution_count": null,
   "metadata": {
    "slideshow": {
     "slide_type": "slide"
    }
   },
   "outputs": [],
   "source": [
    "# first define which layers will be your \"base\"\n",
    "base = neighborhoods.plot(figsize=(12,10),\n",
    "                      color='gray', \n",
    "                      edgecolor='white',\n",
    "                      alpha=0.5)\n",
    "\n",
    "# define the layer that will go on top, and add the base layer to the `ax` argument\n",
    "ax = arrests.plot(ax=base, color='red', markersize=5)\n",
    "\n",
    "# no axis\n",
    "ax.axis('off')\n",
    "\n",
    "# add a basemap\n",
    "ctx.add_basemap(ax,source=ctx.providers.CartoDB.Positron)\n"
   ]
  },
  {
   "cell_type": "markdown",
   "metadata": {
    "slideshow": {
     "slide_type": "slide"
    }
   },
   "source": [
    "## Zoom to the points, not the neighborhoods\n",
    "\n",
    "By default, the map has zoomed out to fit both layers. Sometimes, we may want to zoom to the extent of a smaller layer, in this case, the crime data."
   ]
  },
  {
   "cell_type": "code",
   "execution_count": null,
   "metadata": {},
   "outputs": [],
   "source": [
    "# get the bounding box coordinates for the crime data\n",
    "arrests.geometry.total_bounds"
   ]
  },
  {
   "cell_type": "code",
   "execution_count": null,
   "metadata": {},
   "outputs": [],
   "source": [
    "# shortcut to put them into their own variables\n",
    "minx, miny, maxx, maxy = arrests.geometry.total_bounds\n",
    "print(minx)\n",
    "print(maxx)\n",
    "print(miny)\n",
    "print(maxy)\n"
   ]
  },
  {
   "cell_type": "code",
   "execution_count": null,
   "metadata": {
    "slideshow": {
     "slide_type": "slide"
    }
   },
   "outputs": [],
   "source": [
    "# use the bounding box coordinates to set the x and y limits\n",
    "base = neighborhoods.plot(figsize=(12,12),\n",
    "                          color='gray', \n",
    "                          edgecolor='white',\n",
    "                          alpha=0.5)\n",
    "\n",
    "ax = arrests.plot(ax=base, \n",
    "                color='red', \n",
    "                markersize=5\n",
    "               )\n",
    "\n",
    "ax.set_xlim(minx - 1000, maxx + 1000) # added/substracted value is to give some margin around total bounds\n",
    "ax.set_ylim(miny - 1000, maxy + 1000)\n",
    "\n",
    "# no axis\n",
    "ax.axis('off')\n",
    "\n",
    "# add a basemap\n",
    "ctx.add_basemap(ax,source=ctx.providers.CartoDB.Positron)\n",
    "\n",
    "ax"
   ]
  },
  {
   "cell_type": "markdown",
   "metadata": {},
   "source": [
    "# Function time\n",
    "\n",
    "Our research would like to look at crime at the neighborhood level, rather than as a city as a whole. It would be very useful to have a function that zooms in to a specified neighborhood, and displayed the crime in that neighborhood. Let's create such a function.\n",
    "\n",
    "Before we create the function, let's experiment with the code that is necessary to create the output for a **single** neighborhood. Let's use \"Downtown\" for our experiment.\n",
    "\n",
    "Here are the components of the desired map:\n",
    "\n",
    "- zoom to a specified neighborhood\n",
    "- show an outline of the neighborhood\n",
    "- show arrest data\n",
    "- add a legend for arrest data type"
   ]
  },
  {
   "cell_type": "code",
   "execution_count": null,
   "metadata": {},
   "outputs": [],
   "source": [
    "# subset the neighborhoods geodataframe for a single neighborhood\n",
    "neighborhood = neighborhoods[neighborhoods.name=='Downtown']\n",
    "\n",
    "# use the bounding box coordinates to set the x and y limits\n",
    "minx, miny, maxx, maxy = neighborhood.geometry.total_bounds\n",
    "\n",
    "# do a spatial join to get crime in neighborhood\n",
    "arrests_in_neighborhood = gpd.sjoin(arrests,neighborhood,how='inner')\n",
    "\n",
    "# define the base layer to be the neighborhood polygon\n",
    "base = neighborhood.plot(figsize=(12,12),\n",
    "                         color='red', \n",
    "                         edgecolor='red',\n",
    "                         alpha=0.1)\n",
    "\n",
    "# add the crime data, making sure to add the neighborhood polygon\n",
    "ax = arrests_in_neighborhood.plot(ax=base, \n",
    "                                column='grp_description', \n",
    "                                markersize=40, \n",
    "                                legend=True,\n",
    "                                cmap='tab20',\n",
    "                                legend_kwds={\n",
    "                                   'loc': 'upper right',\n",
    "                                   'bbox_to_anchor':(1.3,1)\n",
    "                                }                  # this puts the legend to the side\n",
    "                            )\n",
    "\n",
    "# set the map extent to the extent of the neighborhood bounds\n",
    "ax.set_xlim(minx - 200, maxx + 200) # added/substracted value is to give some margin around total bounds\n",
    "ax.set_ylim(miny - 200, maxy + 200)\n",
    "\n",
    "# turn off the axis\n",
    "ax.axis('off')\n",
    "\n",
    "# add a title\n",
    "ax.set_title('September 2020 Arrests in '+neighborhood.name.values[0]+' Los Angeles',fontsize=20)\n",
    "\n",
    "# add a basemap\n",
    "ctx.add_basemap(ax,source=ctx.providers.CartoDB.Positron)\n",
    "ax"
   ]
  },
  {
   "cell_type": "markdown",
   "metadata": {},
   "source": [
    "Now that you know the code above generates the desired output, convert it into a function. Try it in the cell below, by adding the code above below the function declaration `def map_crime_by_neighborhood(place='Downtown'):` and make sure to indent the content inside the function (you can select multiple lines and hit the tab key).\n",
    "\n",
    "Finally, make sure to replace `'Downtown'` with `place` (without the single quotes) to ensure that the variable for place is passed onto the functon."
   ]
  },
  {
   "cell_type": "markdown",
   "metadata": {},
   "source": [
    "Here is a [google slide](https://docs.google.com/presentation/d/e/2PACX-1vTkIEvjQoEvpBP3dmVPStBz1jCCNq4r6DRC9p2P4n_MdARhobk6pwppQpmijzDOZmzvVx49oeaIVXfX/pub?start=false&loop=false&delayms=3000) that describes this function's components.\n"
   ]
  },
  {
   "cell_type": "code",
   "execution_count": null,
   "metadata": {},
   "outputs": [],
   "source": [
    "def map_arrests_by_neighborhood(place='Downtown'):\n",
    "    \n",
    "    # subset the neighborhoods geodataframe for a single neighborhood\n",
    "    neighborhood = neighborhoods[neighborhoods.name==place]\n",
    "\n",
    "    # use the bounding box coordinates to set the x and y limits\n",
    "    minx, miny, maxx, maxy = neighborhood.geometry.total_bounds\n",
    "\n",
    "    # do a spatial join to get crime in neighborhood\n",
    "    arrests_in_neighborhood = gpd.sjoin(arrests,neighborhood,how='inner')\n",
    "\n",
    "    # define the base layer to be the neighborhood polygon\n",
    "    base = neighborhood.plot(figsize=(12,12),\n",
    "                             color='red', \n",
    "                             edgecolor='red',\n",
    "                             alpha=0.1)\n",
    "\n",
    "    # add the crime data, making sure to add the neighborhood polygon\n",
    "    ax = arrests_in_neighborhood.plot(ax=base, \n",
    "                                    column='grp_description', \n",
    "                                    markersize=40, \n",
    "                                    legend=True,\n",
    "                                    cmap='tab20',\n",
    "                                    legend_kwds={\n",
    "                                       'loc': 'upper right',\n",
    "                                       'bbox_to_anchor':(1.3,1)\n",
    "                                    }                  # this puts the legend to the side\n",
    "                                )\n",
    "\n",
    "    # set the map extent to the extent of the neighborhood bounds\n",
    "    ax.set_xlim(minx - 200, maxx + 200) # added/substracted value is to give some margin around total bounds\n",
    "    ax.set_ylim(miny - 200, maxy + 200)\n",
    "\n",
    "    # turn off the axis\n",
    "    ax.axis('off')\n",
    "\n",
    "    # add a title\n",
    "    ax.set_title('September 2020 Arrests in '+neighborhood.name.values[0]+' Los Angeles',fontsize=20)\n",
    "\n",
    "    # add a basemap\n",
    "    ctx.add_basemap(ax,source=ctx.providers.CartoDB.Positron)\n",
    "    ax"
   ]
  },
  {
   "cell_type": "code",
   "execution_count": null,
   "metadata": {},
   "outputs": [],
   "source": [
    "def map_arrests_by_neighborhood(place='Downtown'):\n",
    "    \n",
    "    # function code\n",
    "    \n",
    "   "
   ]
  },
  {
   "cell_type": "code",
   "execution_count": null,
   "metadata": {},
   "outputs": [],
   "source": [
    "# call the function!\n",
    "map_arrests_by_neighborhood(place='Hollywood')"
   ]
  },
  {
   "cell_type": "markdown",
   "metadata": {},
   "source": [
    "## Adding more arguments\n",
    "\n",
    "So far, our function accepts a single argument for `place.` What if we also wanted to provide the option on how to color code the arrest points? We can add another argument for `column`:"
   ]
  },
  {
   "cell_type": "code",
   "execution_count": null,
   "metadata": {},
   "outputs": [],
   "source": [
    "def map_arrests_by_neighborhood(place='Downtown', column='grp_description'): # added another argument here\n",
    "    # subset the neighborhoods geodataframe for a single neighborhood\n",
    "    neighborhood = neighborhoods[neighborhoods.name==place]\n",
    "\n",
    "    # use the bounding box coordinates to set the x and y limits\n",
    "    minx, miny, maxx, maxy = neighborhood.geometry.total_bounds\n",
    "\n",
    "    # do a spatial join to get crime in neighborhood\n",
    "    arrests_in_neighborhood = gpd.sjoin(arrests,neighborhood,how='inner')\n",
    "\n",
    "    # define the base layer to be the neighborhood polygon\n",
    "    base = neighborhood.plot(figsize=(12,12),\n",
    "                             color='red', \n",
    "                             edgecolor='red',\n",
    "                             alpha=0.2)\n",
    "\n",
    "    # add the crime data, making sure to add the neighborhood polygon\n",
    "    ax = arrests_in_neighborhood.plot(ax=base, \n",
    "                                    column=column, ## notice that the column is now dependent on the variable being fed\n",
    "                                    markersize=40, \n",
    "                                    legend=True,\n",
    "                                    cmap='tab20',\n",
    "                                    legend_kwds={\n",
    "                                       'loc': 'upper right',\n",
    "                                       'bbox_to_anchor':(1.3,1)\n",
    "                                    }                  # this puts the legend to the side\n",
    "                                )\n",
    "\n",
    "    # set the map extent to the extent of the neighborhood bounds\n",
    "    ax.set_xlim(minx - 200, maxx + 200) # added/substracted value is to give some margin around total bounds\n",
    "    ax.set_ylim(miny - 200, maxy + 200)\n",
    "\n",
    "    # turn off the axis\n",
    "    ax.axis('off')\n",
    "\n",
    "    # add a title\n",
    "    ax.set_title('September 2020 Crime Incidents in '+neighborhood.name.values[0]+' Los Angeles',fontsize=20)\n",
    "\n",
    "    # add a basemap\n",
    "    ctx.add_basemap(ax,source=ctx.providers.CartoDB.Positron)\n",
    "    ax"
   ]
  },
  {
   "cell_type": "code",
   "execution_count": null,
   "metadata": {},
   "outputs": [],
   "source": [
    "# run the function\n",
    "map_arrests_by_neighborhood(place='Hollywood',column='sex_cd')"
   ]
  },
  {
   "cell_type": "code",
   "execution_count": null,
   "metadata": {},
   "outputs": [],
   "source": []
  }
 ],
 "metadata": {
  "kernelspec": {
   "display_name": "Python 3",
   "language": "python",
   "name": "python3"
  },
  "language_info": {
   "codemirror_mode": {
    "name": "ipython",
    "version": 3
   },
   "file_extension": ".py",
   "mimetype": "text/x-python",
   "name": "python",
   "nbconvert_exporter": "python",
   "pygments_lexer": "ipython3",
   "version": "3.8.5"
  },
  "toc": {
   "base_numbering": 1,
   "nav_menu": {},
   "number_sections": true,
   "sideBar": true,
   "skip_h1_title": false,
   "title_cell": "Table of Contents",
   "title_sidebar": "Contents",
   "toc_cell": true,
   "toc_position": {
    "height": "calc(100% - 180px)",
    "left": "10px",
    "top": "150px",
    "width": "349.075px"
   },
   "toc_section_display": true,
   "toc_window_display": true
  }
 },
 "nbformat": 4,
 "nbformat_minor": 4
}
