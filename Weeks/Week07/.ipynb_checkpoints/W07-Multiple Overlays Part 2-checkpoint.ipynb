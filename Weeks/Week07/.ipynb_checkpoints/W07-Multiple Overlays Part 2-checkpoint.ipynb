{
 "cells": [
  {
   "cell_type": "markdown",
   "metadata": {},
   "source": [
    "<div class=\"alert alert-danger\">\n",
    "\n",
    "<h1>Take notice!</h1>\n",
    "<ul>\n",
    "    <li>Make sure you are working with a copy and not the original notebook file</li>\n",
    "    <li>This class will be recorded</li>\n",
    "</ul>\n",
    "    \n",
    "</div>"
   ]
  },
  {
   "cell_type": "markdown",
   "metadata": {},
   "source": [
    "# Multiple Overlays with Folium\n",
    "\n",
    "In last week's Multiple Overlay lab, the final output was a static geopandas map. In this lab, we take a similar approach to generate a multi-layered map, but use Folium to make the output interactive.\n",
    "\n",
    "- import census data on educational attainment\n",
    "- import arrests data from the LA Data Portal\n",
    "- use Folium to map both layers\n",
    "- use a marker cluster plugin to handle thousands of markers\n"
   ]
  },
  {
   "cell_type": "markdown",
   "metadata": {
    "toc": true
   },
   "source": [
    "<h1>Table of Contents<span class=\"tocSkip\"></span></h1>\n",
    "<div class=\"toc\"><ul class=\"toc-item\"><li><span><a href=\"#Take-notice!\" data-toc-modified-id=\"Take-notice!-1\"><span class=\"toc-item-num\">1&nbsp;&nbsp;</span>Take notice!</a></span></li><li><span><a href=\"#Multiple-Overlays-with-Folium\" data-toc-modified-id=\"Multiple-Overlays-with-Folium-2\"><span class=\"toc-item-num\">2&nbsp;&nbsp;</span>Multiple Overlays with Folium</a></span><ul class=\"toc-item\"><li><span><a href=\"#Import-the-libraries\" data-toc-modified-id=\"Import-the-libraries-2.1\"><span class=\"toc-item-num\">2.1&nbsp;&nbsp;</span>Import the libraries</a></span></li><li><span><a href=\"#Census-Data\" data-toc-modified-id=\"Census-Data-2.2\"><span class=\"toc-item-num\">2.2&nbsp;&nbsp;</span>Census Data</a></span></li><li><span><a href=\"#Cleaning-up-those-columns\" data-toc-modified-id=\"Cleaning-up-those-columns-2.3\"><span class=\"toc-item-num\">2.3&nbsp;&nbsp;</span>Cleaning up those columns</a></span></li><li><span><a href=\"#Arrests-data-from-the-LA-Data-Portal\" data-toc-modified-id=\"Arrests-data-from-the-LA-Data-Portal-2.4\"><span class=\"toc-item-num\">2.4&nbsp;&nbsp;</span>Arrests data from the LA Data Portal</a></span></li><li><span><a href=\"#Get-the-center-of-the-data\" data-toc-modified-id=\"Get-the-center-of-the-data-2.5\"><span class=\"toc-item-num\">2.5&nbsp;&nbsp;</span>Get the center of the data</a></span></li><li><span><a href=\"#Create-a-folium-map\" data-toc-modified-id=\"Create-a-folium-map-2.6\"><span class=\"toc-item-num\">2.6&nbsp;&nbsp;</span>Create a folium map</a></span></li><li><span><a href=\"#First-layer:-Cluster-marker-of-crime-data\" data-toc-modified-id=\"First-layer:-Cluster-marker-of-crime-data-2.7\"><span class=\"toc-item-num\">2.7&nbsp;&nbsp;</span>First layer: Cluster marker of crime data</a></span></li><li><span><a href=\"#Second-layer:-choropleth-of-census-data\" data-toc-modified-id=\"Second-layer:-choropleth-of-census-data-2.8\"><span class=\"toc-item-num\">2.8&nbsp;&nbsp;</span>Second layer: choropleth of census data</a></span></li><li><span><a href=\"#Save-the-html-file\" data-toc-modified-id=\"Save-the-html-file-2.9\"><span class=\"toc-item-num\">2.9&nbsp;&nbsp;</span>Save the html file</a></span></li></ul></li></ul></div>"
   ]
  },
  {
   "cell_type": "markdown",
   "metadata": {},
   "source": [
    "## Import the libraries"
   ]
  },
  {
   "cell_type": "code",
   "execution_count": null,
   "metadata": {},
   "outputs": [],
   "source": [
    "# to read and wrangle data\n",
    "import pandas as pd\n",
    "\n",
    "# to import data from LA Data portal\n",
    "from sodapy import Socrata\n",
    "\n",
    "# to create spatial data\n",
    "import geopandas as gpd\n",
    "\n",
    "# for basemaps\n",
    "import contextily as ctx\n",
    "\n",
    "# for interactive leaflet mapping\n",
    "import folium\n",
    "\n",
    "# to handle thousands of markers\n",
    "from folium.plugins import MarkerCluster"
   ]
  },
  {
   "cell_type": "markdown",
   "metadata": {},
   "source": [
    "## Census Data\n",
    "\n",
    "For this lab, we get the census data from [Census Reporter](https://censusreporter.org/) which provides the data in geojson format."
   ]
  },
  {
   "cell_type": "code",
   "execution_count": null,
   "metadata": {},
   "outputs": [],
   "source": [
    "acs_education = gpd.read_file('data/acs2018_5yr_B15003_14000US06037218220.geojson')"
   ]
  },
  {
   "cell_type": "markdown",
   "metadata": {},
   "source": [
    "<div class=\"alert alert-danger\">\n",
    "Warning!\n",
    "    \n",
    "The geojson data downloaded from Census Reporter contains a row with the sum total of all geographies. Make sure to find and delete the row before proceding.\n",
    "</div>"
   ]
  },
  {
   "cell_type": "code",
   "execution_count": null,
   "metadata": {},
   "outputs": [],
   "source": [
    "# where is the sum total row?\n",
    "acs_education.tail()"
   ]
  },
  {
   "cell_type": "code",
   "execution_count": null,
   "metadata": {},
   "outputs": [],
   "source": [
    "# last row is the total for the county so drop it\n",
    "acs_education=acs_education.drop([1004])"
   ]
  },
  {
   "cell_type": "markdown",
   "metadata": {},
   "source": [
    "## Cleaning up those columns\n",
    "\n",
    "The downloaded zip from census explorer comes with a metadata json file. Open it and inspect its contents.\n",
    "\n",
    "[meta data](data/metadata.json)"
   ]
  },
  {
   "cell_type": "code",
   "execution_count": null,
   "metadata": {},
   "outputs": [],
   "source": [
    "# trim to columns of interest\n",
    "acs_education = acs_education[['geoid','geometry','B15003001','B15003017','B15003022','B15003023','B15003025',]]"
   ]
  },
  {
   "cell_type": "code",
   "execution_count": null,
   "metadata": {},
   "outputs": [],
   "source": [
    "# rename columns\n",
    "acs_education.columns = ['geoid','geometry','Total',\"Regular high school diploma\",\"Bachelor's degree\",\"Master's degree\",\"Doctorate degree\"]"
   ]
  },
  {
   "cell_type": "code",
   "execution_count": null,
   "metadata": {},
   "outputs": [],
   "source": [
    "acs_education.head()"
   ]
  },
  {
   "cell_type": "code",
   "execution_count": null,
   "metadata": {},
   "outputs": [],
   "source": [
    "# get some simple stats\n",
    "acs_education[\"Regular high school diploma\"].describe()"
   ]
  },
  {
   "cell_type": "code",
   "execution_count": null,
   "metadata": {},
   "outputs": [],
   "source": [
    "# make a quick plot\n",
    "acs_education.plot(figsize=(12,12),column=\"Regular high school diploma\")"
   ]
  },
  {
   "cell_type": "markdown",
   "metadata": {},
   "source": [
    "## Arrests data from the LA Data Portal\n",
    "\n",
    "- https://data.lacity.org/A-Safe-City/Arrest-Data-from-2020-to-Present/amvf-fr72"
   ]
  },
  {
   "cell_type": "code",
   "execution_count": null,
   "metadata": {
    "scrolled": true,
    "slideshow": {
     "slide_type": "slide"
    }
   },
   "outputs": [],
   "source": [
    "# connect to the data portal\n",
    "client = Socrata(\"data.lacity.org\", None)\n",
    "\n",
    "results = client.get(\"amvf-fr72\", \n",
    "                     limit=5000,\n",
    "                     where = \"arst_date between '2020-09-01T00:00:00' and '2020-09-30T00:00:00'\",\n",
    "                     order='arst_date desc')\n",
    "\n",
    "\n",
    "# Convert to pandas DataFrame\n",
    "df = pd.DataFrame.from_records(results)\n",
    "\n",
    "# print it with .sample, which gives you random rows\n",
    "df.head()"
   ]
  },
  {
   "cell_type": "code",
   "execution_count": null,
   "metadata": {
    "slideshow": {
     "slide_type": "fragment"
    }
   },
   "outputs": [],
   "source": [
    "# convert pandas dataframe to geodataframe\n",
    "arrests = gpd.GeoDataFrame(df, \n",
    "                         crs='EPSG:4326',\n",
    "                         geometry=gpd.points_from_xy(df.lon, df.lat))"
   ]
  },
  {
   "cell_type": "code",
   "execution_count": null,
   "metadata": {
    "scrolled": true
   },
   "outputs": [],
   "source": [
    "arrests.shape"
   ]
  },
  {
   "cell_type": "code",
   "execution_count": null,
   "metadata": {
    "scrolled": true
   },
   "outputs": [],
   "source": [
    "arrests.info()"
   ]
  },
  {
   "cell_type": "code",
   "execution_count": null,
   "metadata": {},
   "outputs": [],
   "source": [
    "arrests.plot()"
   ]
  },
  {
   "cell_type": "markdown",
   "metadata": {},
   "source": [
    "## Get the center of the data\n",
    "\n",
    "Folium maps need to be fed a center location. Calculate that based on the crime data."
   ]
  },
  {
   "cell_type": "code",
   "execution_count": null,
   "metadata": {},
   "outputs": [],
   "source": [
    "# get the bounding box coordinates\n",
    "minx, miny, maxx, maxy = arrests.geometry.total_bounds\n",
    "print(minx)\n",
    "print(maxx)\n",
    "print(miny)\n",
    "print(maxy)\n"
   ]
  },
  {
   "cell_type": "code",
   "execution_count": null,
   "metadata": {},
   "outputs": [],
   "source": [
    "# get center lon\n",
    "center_lon = (maxx-minx)/2+minx\n",
    "center_lon"
   ]
  },
  {
   "cell_type": "code",
   "execution_count": null,
   "metadata": {},
   "outputs": [],
   "source": [
    "# get center lat\n",
    "center_lat = (maxy-miny)/2+miny\n",
    "center_lat"
   ]
  },
  {
   "cell_type": "markdown",
   "metadata": {},
   "source": [
    "## Create a folium map\n",
    "\n",
    "Now we put all the pieces together. "
   ]
  },
  {
   "cell_type": "code",
   "execution_count": null,
   "metadata": {},
   "outputs": [],
   "source": [
    "# folium map centered based on the arrest data\n",
    "m = folium.Map(location=[center_lat, center_lon],tiles='cartodbpositron',)"
   ]
  },
  {
   "cell_type": "markdown",
   "metadata": {},
   "source": [
    "## First layer: Cluster marker of crime data\n",
    "\n",
    "The crime data downloaded has thousands of records. Mapping them one by one will overwhelm your browser. Fortunately, there is a handy leaflet [plugin to cluster markers](https://python-visualization.github.io/folium/plugins.html), allowing you to map all the data at once."
   ]
  },
  {
   "cell_type": "code",
   "execution_count": null,
   "metadata": {
    "scrolled": false
   },
   "outputs": [],
   "source": [
    "# m = folium.Map(location=[center_lat, center_lon],tiles='cartodbpositron',)\n",
    "# create an empty marker cluster layer\n",
    "marker_cluster = MarkerCluster(name='LAPD Arrests in September, 2020').add_to(m)\n",
    "\n",
    "# loop through the arrest data and add each row as a marker to the marker cluster\n",
    "for index, row in arrests.iterrows():\n",
    "\n",
    "    popup = '<strong>'+str(row.grp_description)+'</strong><hr>'+'Age: '+str(row.age)+'<br>Sex: '+str(row.sex_cd)+'<br>Race: '+str(row.descent_cd)\n",
    "    folium.Marker(\n",
    "        location=[row.lat,row.lon],\n",
    "        tooltip=row.grp_description,\n",
    "        popup= popup,\n",
    "        icon=folium.Icon(color='red')\n",
    "    ).add_to(marker_cluster)\n",
    "\n",
    "m"
   ]
  },
  {
   "cell_type": "markdown",
   "metadata": {},
   "source": [
    "## Second layer: choropleth of census data"
   ]
  },
  {
   "cell_type": "code",
   "execution_count": null,
   "metadata": {
    "scrolled": false
   },
   "outputs": [],
   "source": [
    "# choropleth map of educational attainment\n",
    "folium.Choropleth(\n",
    "    acs_education, # the geodataframe\n",
    "    data=acs_education, # the data is in the geodataframe, so same value\n",
    "    key_on='feature.properties.geoid', # the id column\n",
    "    columns=['geoid', \"Regular high school diploma\"], # the id column, followed by the variable to map\n",
    "    fill_color='RdYlGn_r', # color scheme\n",
    "    fill_opacity=0.4, \n",
    "    line_opacity=0.1, \n",
    "    legend_name=\"Regular high school diploma (ACS 2018 5-year)\",\n",
    "    name=\"Regular high school diploma (ACS 2018 5-year)\" # name the layer\n",
    ").add_to(m)\n",
    "\n",
    "# add a nice layer control\n",
    "folium.LayerControl().add_to(m)\n",
    "\n",
    "# output the map\n",
    "m"
   ]
  },
  {
   "cell_type": "markdown",
   "metadata": {},
   "source": [
    "## Save the html file"
   ]
  },
  {
   "cell_type": "code",
   "execution_count": null,
   "metadata": {},
   "outputs": [],
   "source": [
    "m.save('crime_education.html')"
   ]
  },
  {
   "cell_type": "code",
   "execution_count": null,
   "metadata": {},
   "outputs": [],
   "source": []
  }
 ],
 "metadata": {
  "kernelspec": {
   "display_name": "Python 3",
   "language": "python",
   "name": "python3"
  },
  "language_info": {
   "codemirror_mode": {
    "name": "ipython",
    "version": 3
   },
   "file_extension": ".py",
   "mimetype": "text/x-python",
   "name": "python",
   "nbconvert_exporter": "python",
   "pygments_lexer": "ipython3",
   "version": "3.8.5"
  },
  "toc": {
   "base_numbering": 1,
   "nav_menu": {},
   "number_sections": true,
   "sideBar": true,
   "skip_h1_title": false,
   "title_cell": "Table of Contents",
   "title_sidebar": "Contents",
   "toc_cell": true,
   "toc_position": {
    "height": "calc(100% - 180px)",
    "left": "10px",
    "top": "150px",
    "width": "349.091px"
   },
   "toc_section_display": true,
   "toc_window_display": true
  }
 },
 "nbformat": 4,
 "nbformat_minor": 4
}
