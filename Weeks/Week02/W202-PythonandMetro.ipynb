{
 "cells": [
  {
   "cell_type": "markdown",
   "metadata": {
    "toc": true
   },
   "source": [
    "<h1>Table of Contents<span class=\"tocSkip\"></span></h1>\n",
    "<div class=\"toc\"><ul class=\"toc-item\"><li><span><a href=\"#Week-2:-Python-and-Metro\" data-toc-modified-id=\"Week-2:-Python-and-Metro-1\"><span class=\"toc-item-num\">1&nbsp;&nbsp;</span>Week 2: Python and Metro</a></span><ul class=\"toc-item\"><li><span><a href=\"#A-quick-geopandas-teaser\" data-toc-modified-id=\"A-quick-geopandas-teaser-1.1\"><span class=\"toc-item-num\">1.1&nbsp;&nbsp;</span>A quick geopandas teaser</a></span></li><li><span><a href=\"#Pandas-Data-Types\" data-toc-modified-id=\"Pandas-Data-Types-1.2\"><span class=\"toc-item-num\">1.2&nbsp;&nbsp;</span>Pandas Data Types</a></span></li><li><span><a href=\"#Data-exploration\" data-toc-modified-id=\"Data-exploration-1.3\"><span class=\"toc-item-num\">1.3&nbsp;&nbsp;</span>Data exploration</a></span><ul class=\"toc-item\"><li><span><a href=\"#Counting-unique-values-in-a-column\" data-toc-modified-id=\"Counting-unique-values-in-a-column-1.3.1\"><span class=\"toc-item-num\">1.3.1&nbsp;&nbsp;</span>Counting unique values in a column</a></span></li><li><span><a href=\"#Trimming-the-data\" data-toc-modified-id=\"Trimming-the-data-1.3.2\"><span class=\"toc-item-num\">1.3.2&nbsp;&nbsp;</span>Trimming the data</a></span></li><li><span><a href=\"#Subsetting/Querying-the-data\" data-toc-modified-id=\"Subsetting/Querying-the-data-1.3.3\"><span class=\"toc-item-num\">1.3.3&nbsp;&nbsp;</span>Subsetting/Querying the data</a></span></li></ul></li><li><span><a href=\"#Plotting\" data-toc-modified-id=\"Plotting-1.4\"><span class=\"toc-item-num\">1.4&nbsp;&nbsp;</span>Plotting</a></span></li><li><span><a href=\"#Back-to-mapping\" data-toc-modified-id=\"Back-to-mapping-1.5\"><span class=\"toc-item-num\">1.5&nbsp;&nbsp;</span>Back to mapping</a></span></li><li><span><a href=\"#Projections\" data-toc-modified-id=\"Projections-1.6\"><span class=\"toc-item-num\">1.6&nbsp;&nbsp;</span>Projections</a></span></li><li><span><a href=\"#Iterating-through-rows-in-a-dataframe\" data-toc-modified-id=\"Iterating-through-rows-in-a-dataframe-1.7\"><span class=\"toc-item-num\">1.7&nbsp;&nbsp;</span>Iterating through rows in a dataframe</a></span></li><li><span><a href=\"#Get-average-lat/lon's\" data-toc-modified-id=\"Get-average-lat/lon's-1.8\"><span class=\"toc-item-num\">1.8&nbsp;&nbsp;</span>Get average lat/lon's</a></span></li><li><span><a href=\"#Mapping-with-folium\" data-toc-modified-id=\"Mapping-with-folium-1.9\"><span class=\"toc-item-num\">1.9&nbsp;&nbsp;</span>Mapping with folium</a></span><ul class=\"toc-item\"><li><span><a href=\"#Adding-point-markers\" data-toc-modified-id=\"Adding-point-markers-1.9.1\"><span class=\"toc-item-num\">1.9.1&nbsp;&nbsp;</span>Adding point markers</a></span></li></ul></li><li><span><a href=\"#Unique-values-in-a-column\" data-toc-modified-id=\"Unique-values-in-a-column-1.10\"><span class=\"toc-item-num\">1.10&nbsp;&nbsp;</span>Unique values in a column</a></span></li><li><span><a href=\"#Update-a-column-based-on-a-query-on-another-column\" data-toc-modified-id=\"Update-a-column-based-on-a-query-on-another-column-1.11\"><span class=\"toc-item-num\">1.11&nbsp;&nbsp;</span>Update a column based on a query on another column</a></span></li></ul></li></ul></div>"
   ]
  },
  {
   "cell_type": "markdown",
   "metadata": {},
   "source": [
    "# Week 2: Python and Metro"
   ]
  },
  {
   "cell_type": "markdown",
   "metadata": {},
   "source": [
    "## A quick geopandas teaser\n",
    "Following our Python bootcamp last week (was it boring? exhilerating? a bit of both?), let's put that programming knowledge into action, using and creating data that reflects a real urban situation.\n",
    "\n",
    "We start by importing a new module `geopandas`. This is a pretty high level geospatial library, widely used by spatial data scientists all over the world. Don't worry about it too much for now, but know that it allows us to import a variety of spatial data formats, and plot them on a map."
   ]
  },
  {
   "cell_type": "code",
   "execution_count": 1,
   "metadata": {},
   "outputs": [],
   "source": [
    "import geopandas as gpd"
   ]
  },
  {
   "cell_type": "markdown",
   "metadata": {},
   "source": [
    "Next, we import some data. In this case, it is a [shapefile](https://desktop.arcgis.com/en/arcmap/latest/manage-data/shapefiles/what-is-a-shapefile.htm) I downloaded from the [LA Metro's Developer web portal](https://developer.metro.net/bus-rail-gis-data/). Notice that I am using relative paths to point to where the data is located in. the `../` indicates that it is one folder level above, so `../../` takes us two levels above (the project root), and then into the data folder there."
   ]
  },
  {
   "cell_type": "code",
   "execution_count": 2,
   "metadata": {},
   "outputs": [],
   "source": [
    "metro = gpd.read_file('../../data/MetroStations/Stations_All_0715.shp')"
   ]
  },
  {
   "cell_type": "markdown",
   "metadata": {},
   "source": [
    "<div class=\"alert alert-info\">\n",
    "\n",
    "Note that the reason we use `geopandas` instead of `pandas` (other than the fact that we love maps) is that `pandas` cannot read shapefiles, whereas `geopandas` can.\n",
    "    \n",
    "</div>"
   ]
  },
  {
   "cell_type": "code",
   "execution_count": 3,
   "metadata": {},
   "outputs": [
    {
     "data": {
      "text/plain": [
       "geopandas.geodataframe.GeoDataFrame"
      ]
     },
     "execution_count": 3,
     "metadata": {},
     "output_type": "execute_result"
    }
   ],
   "source": [
    "# what's the data type?\n",
    "type(metro)"
   ]
  },
  {
   "cell_type": "code",
   "execution_count": 4,
   "metadata": {},
   "outputs": [
    {
     "data": {
      "text/html": [
       "<div>\n",
       "<style scoped>\n",
       "    .dataframe tbody tr th:only-of-type {\n",
       "        vertical-align: middle;\n",
       "    }\n",
       "\n",
       "    .dataframe tbody tr th {\n",
       "        vertical-align: top;\n",
       "    }\n",
       "\n",
       "    .dataframe thead th {\n",
       "        text-align: right;\n",
       "    }\n",
       "</style>\n",
       "<table border=\"1\" class=\"dataframe\">\n",
       "  <thead>\n",
       "    <tr style=\"text-align: right;\">\n",
       "      <th></th>\n",
       "      <th>LINE</th>\n",
       "      <th>LINENUM</th>\n",
       "      <th>LINENUM2</th>\n",
       "      <th>STNSEQ</th>\n",
       "      <th>STNSEQ2</th>\n",
       "      <th>DIR</th>\n",
       "      <th>STOPNUM</th>\n",
       "      <th>STATION</th>\n",
       "      <th>LAT</th>\n",
       "      <th>LONG</th>\n",
       "      <th>TPIS_NAME</th>\n",
       "      <th>POINT_X</th>\n",
       "      <th>POINT_Y</th>\n",
       "      <th>geometry</th>\n",
       "    </tr>\n",
       "  </thead>\n",
       "  <tbody>\n",
       "    <tr>\n",
       "      <th>0</th>\n",
       "      <td>Blue</td>\n",
       "      <td>801</td>\n",
       "      <td>0</td>\n",
       "      <td>21</td>\n",
       "      <td>0</td>\n",
       "      <td>None</td>\n",
       "      <td>80101</td>\n",
       "      <td>Downtown Long Beach Station</td>\n",
       "      <td>33.768071</td>\n",
       "      <td>-118.192921</td>\n",
       "      <td>Long Bch</td>\n",
       "      <td>6.503030e+06</td>\n",
       "      <td>1.738034e+06</td>\n",
       "      <td>POINT (6503030.095 1738033.828)</td>\n",
       "    </tr>\n",
       "    <tr>\n",
       "      <th>1</th>\n",
       "      <td>Blue</td>\n",
       "      <td>801</td>\n",
       "      <td>0</td>\n",
       "      <td>22</td>\n",
       "      <td>0</td>\n",
       "      <td>North</td>\n",
       "      <td>80102</td>\n",
       "      <td>Pacific Ave Station</td>\n",
       "      <td>33.772258</td>\n",
       "      <td>-118.193700</td>\n",
       "      <td>Pacific</td>\n",
       "      <td>6.502796e+06</td>\n",
       "      <td>1.739558e+06</td>\n",
       "      <td>POINT (6502796.262 1739558.050)</td>\n",
       "    </tr>\n",
       "    <tr>\n",
       "      <th>2</th>\n",
       "      <td>Blue</td>\n",
       "      <td>801</td>\n",
       "      <td>0</td>\n",
       "      <td>18</td>\n",
       "      <td>0</td>\n",
       "      <td>None</td>\n",
       "      <td>80105</td>\n",
       "      <td>Anaheim Street Station</td>\n",
       "      <td>33.781830</td>\n",
       "      <td>-118.189384</td>\n",
       "      <td>Anaheim</td>\n",
       "      <td>6.504115e+06</td>\n",
       "      <td>1.743039e+06</td>\n",
       "      <td>POINT (6504114.567 1743039.068)</td>\n",
       "    </tr>\n",
       "    <tr>\n",
       "      <th>3</th>\n",
       "      <td>Blue</td>\n",
       "      <td>801</td>\n",
       "      <td>0</td>\n",
       "      <td>17</td>\n",
       "      <td>0</td>\n",
       "      <td>None</td>\n",
       "      <td>80106</td>\n",
       "      <td>Pacific Coast Hwy Station</td>\n",
       "      <td>33.789090</td>\n",
       "      <td>-118.189382</td>\n",
       "      <td>PCH</td>\n",
       "      <td>6.504120e+06</td>\n",
       "      <td>1.745681e+06</td>\n",
       "      <td>POINT (6504120.152 1745681.179)</td>\n",
       "    </tr>\n",
       "    <tr>\n",
       "      <th>4</th>\n",
       "      <td>Blue</td>\n",
       "      <td>801</td>\n",
       "      <td>0</td>\n",
       "      <td>16</td>\n",
       "      <td>0</td>\n",
       "      <td>None</td>\n",
       "      <td>80107</td>\n",
       "      <td>Willow Street Station</td>\n",
       "      <td>33.807079</td>\n",
       "      <td>-118.189834</td>\n",
       "      <td>Willow</td>\n",
       "      <td>6.503995e+06</td>\n",
       "      <td>1.752228e+06</td>\n",
       "      <td>POINT (6503995.170 1752228.119)</td>\n",
       "    </tr>\n",
       "  </tbody>\n",
       "</table>\n",
       "</div>"
      ],
      "text/plain": [
       "   LINE  LINENUM  LINENUM2  STNSEQ  STNSEQ2    DIR  STOPNUM  \\\n",
       "0  Blue      801         0      21        0   None    80101   \n",
       "1  Blue      801         0      22        0  North    80102   \n",
       "2  Blue      801         0      18        0   None    80105   \n",
       "3  Blue      801         0      17        0   None    80106   \n",
       "4  Blue      801         0      16        0   None    80107   \n",
       "\n",
       "                       STATION        LAT        LONG TPIS_NAME       POINT_X  \\\n",
       "0  Downtown Long Beach Station  33.768071 -118.192921  Long Bch  6.503030e+06   \n",
       "1          Pacific Ave Station  33.772258 -118.193700   Pacific  6.502796e+06   \n",
       "2       Anaheim Street Station  33.781830 -118.189384   Anaheim  6.504115e+06   \n",
       "3    Pacific Coast Hwy Station  33.789090 -118.189382       PCH  6.504120e+06   \n",
       "4        Willow Street Station  33.807079 -118.189834    Willow  6.503995e+06   \n",
       "\n",
       "        POINT_Y                         geometry  \n",
       "0  1.738034e+06  POINT (6503030.095 1738033.828)  \n",
       "1  1.739558e+06  POINT (6502796.262 1739558.050)  \n",
       "2  1.743039e+06  POINT (6504114.567 1743039.068)  \n",
       "3  1.745681e+06  POINT (6504120.152 1745681.179)  \n",
       "4  1.752228e+06  POINT (6503995.170 1752228.119)  "
      ]
     },
     "execution_count": 4,
     "metadata": {},
     "output_type": "execute_result"
    }
   ],
   "source": [
    "# what does the data look like? \n",
    "metro.head()"
   ]
  },
  {
   "cell_type": "markdown",
   "metadata": {},
   "source": [
    "Ah! Surprise, surprise. Welcome to your first look at a pandas dataframe. We will cover dataframes more extensively in later sessions, but know that a python dataframe is like an excel spreadsheet. \n",
    "\n",
    "The `head()` command shows us the first 5 rows of the dataframe. You can also use `tail()` and `sample()`. Try these commands in the cells below:"
   ]
  },
  {
   "cell_type": "code",
   "execution_count": 5,
   "metadata": {},
   "outputs": [],
   "source": [
    "# try tail()\n"
   ]
  },
  {
   "cell_type": "code",
   "execution_count": 6,
   "metadata": {},
   "outputs": [],
   "source": [
    "# try sample()\n"
   ]
  },
  {
   "cell_type": "markdown",
   "metadata": {},
   "source": [
    "## Pandas Data Types\n",
    "\n",
    "Let's look at the data types for each column. You can collectively get all the datatypes for each column in a dataframe using the `dtypes` command."
   ]
  },
  {
   "cell_type": "code",
   "execution_count": 7,
   "metadata": {
    "scrolled": true
   },
   "outputs": [
    {
     "data": {
      "text/plain": [
       "LINE           object\n",
       "LINENUM         int64\n",
       "LINENUM2        int64\n",
       "STNSEQ          int64\n",
       "STNSEQ2         int64\n",
       "DIR            object\n",
       "STOPNUM         int64\n",
       "STATION        object\n",
       "LAT           float64\n",
       "LONG          float64\n",
       "TPIS_NAME      object\n",
       "POINT_X       float64\n",
       "POINT_Y       float64\n",
       "geometry     geometry\n",
       "dtype: object"
      ]
     },
     "execution_count": 7,
     "metadata": {},
     "output_type": "execute_result"
    }
   ],
   "source": [
    "metro.dtypes"
   ]
  },
  {
   "cell_type": "markdown",
   "metadata": {},
   "source": [
    "But there is better command that will get you more info. Yes, the `info` command."
   ]
  },
  {
   "cell_type": "code",
   "execution_count": 8,
   "metadata": {},
   "outputs": [
    {
     "name": "stdout",
     "output_type": "stream",
     "text": [
      "<class 'geopandas.geodataframe.GeoDataFrame'>\n",
      "RangeIndex: 83 entries, 0 to 82\n",
      "Data columns (total 14 columns):\n",
      " #   Column     Non-Null Count  Dtype   \n",
      "---  ------     --------------  -----   \n",
      " 0   LINE       83 non-null     object  \n",
      " 1   LINENUM    83 non-null     int64   \n",
      " 2   LINENUM2   83 non-null     int64   \n",
      " 3   STNSEQ     83 non-null     int64   \n",
      " 4   STNSEQ2    83 non-null     int64   \n",
      " 5   DIR        3 non-null      object  \n",
      " 6   STOPNUM    83 non-null     int64   \n",
      " 7   STATION    83 non-null     object  \n",
      " 8   LAT        83 non-null     float64 \n",
      " 9   LONG       83 non-null     float64 \n",
      " 10  TPIS_NAME  83 non-null     object  \n",
      " 11  POINT_X    83 non-null     float64 \n",
      " 12  POINT_Y    83 non-null     float64 \n",
      " 13  geometry   83 non-null     geometry\n",
      "dtypes: float64(4), geometry(1), int64(5), object(4)\n",
      "memory usage: 9.2+ KB\n"
     ]
    }
   ],
   "source": [
    "# dataframe info\n",
    "metro.info()"
   ]
  },
  {
   "cell_type": "markdown",
   "metadata": {},
   "source": [
    "Wait. That looks different from what we have worked on! As it turns out, pandas datatypes are slightly different from the raw python datatypes. Check out the table below:"
   ]
  },
  {
   "cell_type": "markdown",
   "metadata": {},
   "source": [
    "<table class=\"table table-striped\">\n",
    "  <thead>\n",
    "    <tr>\n",
    "      <th>Pandas Type</th>\n",
    "      <th>Native Python Type</th>\n",
    "      <th>Description</th>\n",
    "    </tr>\n",
    "  </thead>\n",
    "  <tbody>\n",
    "    <tr>\n",
    "      <td>object</td>\n",
    "      <td>string</td>\n",
    "      <td>The most general dtype. Will be assigned to your column if column has mixed types (numbers and strings).</td>\n",
    "    </tr>\n",
    "    <tr>\n",
    "      <td>int64</td>\n",
    "      <td>int</td>\n",
    "      <td>Numeric characters. 64 refers to the memory allocated to hold this character.</td>\n",
    "    </tr>\n",
    "    <tr>\n",
    "      <td>float64</td>\n",
    "      <td>float</td>\n",
    "      <td>Numeric characters with decimals. If a column contains numbers and NaNs (see below), pandas will default to float64, in case your missing value has a decimal.</td>\n",
    "    </tr>\n",
    "    <tr>\n",
    "      <td>datetime64, timedelta[ns]</td>\n",
    "      <td>N/A (but see the <a href=\"http://doc.python.org/2/library/datetime.html\">datetime</a> module in Python’s standard library)</td>\n",
    "      <td>Values meant to hold time data. Look into these for time series experiments.</td>\n",
    "    </tr>\n",
    "  </tbody>\n",
    "</table>"
   ]
  },
  {
   "cell_type": "markdown",
   "metadata": {},
   "source": [
    "## Data exploration\n",
    "\n",
    "Part of data exploration is learning what is in your data. How many rows are there? What are the columns? How many rows represent a particular slice of the data?"
   ]
  },
  {
   "cell_type": "markdown",
   "metadata": {},
   "source": [
    "### Counting unique values in a column\n",
    "\n",
    "First, learn how to get values for a single column."
   ]
  },
  {
   "cell_type": "code",
   "execution_count": 21,
   "metadata": {},
   "outputs": [
    {
     "data": {
      "text/plain": [
       "0     Blue\n",
       "1     Blue\n",
       "2     Blue\n",
       "3     Blue\n",
       "4     Blue\n",
       "      ... \n",
       "78    Gold\n",
       "79    Gold\n",
       "80    Gold\n",
       "81    Gold\n",
       "82    Gold\n",
       "Name: LINE, Length: 83, dtype: object"
      ]
     },
     "execution_count": 21,
     "metadata": {},
     "output_type": "execute_result"
    }
   ],
   "source": [
    "# single column\n",
    "metro['LINE']"
   ]
  },
  {
   "cell_type": "markdown",
   "metadata": {},
   "source": [
    "But what if you want to know how many stations there are for each line?"
   ]
  },
  {
   "cell_type": "code",
   "execution_count": 9,
   "metadata": {
    "scrolled": false
   },
   "outputs": [
    {
     "data": {
      "text/plain": [
       "Gold          21\n",
       "Blue          20\n",
       "Green         14\n",
       "EXPO          10\n",
       "Red            8\n",
       "Red/Purple     6\n",
       "Purple         2\n",
       "Blue/EXPO      2\n",
       "Name: LINE, dtype: int64"
      ]
     },
     "execution_count": 9,
     "metadata": {},
     "output_type": "execute_result"
    }
   ],
   "source": [
    "metro['LINE'].value_counts()"
   ]
  },
  {
   "cell_type": "code",
   "execution_count": 10,
   "metadata": {},
   "outputs": [],
   "source": [
    "# try it yourself. find the unique values for LINENUM\n"
   ]
  },
  {
   "cell_type": "markdown",
   "metadata": {},
   "source": [
    "### Trimming the data\n",
    "Oftentimes, we import data and it has too many columns. It is always good practice to elimnate those rows that you are sure you will not use, and keep your data \"clean\" and \"mean.\"\n",
    "\n"
   ]
  },
  {
   "cell_type": "code",
   "execution_count": 27,
   "metadata": {},
   "outputs": [
    {
     "data": {
      "text/html": [
       "<div>\n",
       "<style scoped>\n",
       "    .dataframe tbody tr th:only-of-type {\n",
       "        vertical-align: middle;\n",
       "    }\n",
       "\n",
       "    .dataframe tbody tr th {\n",
       "        vertical-align: top;\n",
       "    }\n",
       "\n",
       "    .dataframe thead th {\n",
       "        text-align: right;\n",
       "    }\n",
       "</style>\n",
       "<table border=\"1\" class=\"dataframe\">\n",
       "  <thead>\n",
       "    <tr style=\"text-align: right;\">\n",
       "      <th></th>\n",
       "      <th>LINE</th>\n",
       "      <th>LINENUM</th>\n",
       "      <th>STATION</th>\n",
       "      <th>LAT</th>\n",
       "      <th>LONG</th>\n",
       "      <th>geometry</th>\n",
       "    </tr>\n",
       "  </thead>\n",
       "  <tbody>\n",
       "    <tr>\n",
       "      <th>0</th>\n",
       "      <td>Blue</td>\n",
       "      <td>801</td>\n",
       "      <td>Downtown Long Beach Station</td>\n",
       "      <td>33.768071</td>\n",
       "      <td>-118.192921</td>\n",
       "      <td>POINT (6503030.095 1738033.828)</td>\n",
       "    </tr>\n",
       "    <tr>\n",
       "      <th>1</th>\n",
       "      <td>Blue</td>\n",
       "      <td>801</td>\n",
       "      <td>Pacific Ave Station</td>\n",
       "      <td>33.772258</td>\n",
       "      <td>-118.193700</td>\n",
       "      <td>POINT (6502796.262 1739558.050)</td>\n",
       "    </tr>\n",
       "    <tr>\n",
       "      <th>2</th>\n",
       "      <td>Blue</td>\n",
       "      <td>801</td>\n",
       "      <td>Anaheim Street Station</td>\n",
       "      <td>33.781830</td>\n",
       "      <td>-118.189384</td>\n",
       "      <td>POINT (6504114.567 1743039.068)</td>\n",
       "    </tr>\n",
       "    <tr>\n",
       "      <th>3</th>\n",
       "      <td>Blue</td>\n",
       "      <td>801</td>\n",
       "      <td>Pacific Coast Hwy Station</td>\n",
       "      <td>33.789090</td>\n",
       "      <td>-118.189382</td>\n",
       "      <td>POINT (6504120.152 1745681.179)</td>\n",
       "    </tr>\n",
       "    <tr>\n",
       "      <th>4</th>\n",
       "      <td>Blue</td>\n",
       "      <td>801</td>\n",
       "      <td>Willow Street Station</td>\n",
       "      <td>33.807079</td>\n",
       "      <td>-118.189834</td>\n",
       "      <td>POINT (6503995.170 1752228.119)</td>\n",
       "    </tr>\n",
       "    <tr>\n",
       "      <th>...</th>\n",
       "      <td>...</td>\n",
       "      <td>...</td>\n",
       "      <td>...</td>\n",
       "      <td>...</td>\n",
       "      <td>...</td>\n",
       "      <td>...</td>\n",
       "    </tr>\n",
       "    <tr>\n",
       "      <th>78</th>\n",
       "      <td>Gold</td>\n",
       "      <td>804</td>\n",
       "      <td>Del Mar Station</td>\n",
       "      <td>34.141910</td>\n",
       "      <td>-118.148214</td>\n",
       "      <td>POINT (6516818.973 1874058.989)</td>\n",
       "    </tr>\n",
       "    <tr>\n",
       "      <th>79</th>\n",
       "      <td>Gold</td>\n",
       "      <td>804</td>\n",
       "      <td>Memorial Park Station</td>\n",
       "      <td>34.148356</td>\n",
       "      <td>-118.147512</td>\n",
       "      <td>POINT (6517034.832 1876404.492)</td>\n",
       "    </tr>\n",
       "    <tr>\n",
       "      <th>80</th>\n",
       "      <td>Gold</td>\n",
       "      <td>804</td>\n",
       "      <td>Lake Station</td>\n",
       "      <td>34.151806</td>\n",
       "      <td>-118.131390</td>\n",
       "      <td>POINT (6521914.408 1877653.241)</td>\n",
       "    </tr>\n",
       "    <tr>\n",
       "      <th>81</th>\n",
       "      <td>Gold</td>\n",
       "      <td>804</td>\n",
       "      <td>Allen Station</td>\n",
       "      <td>34.152417</td>\n",
       "      <td>-118.114348</td>\n",
       "      <td>POINT (6527070.744 1877869.293)</td>\n",
       "    </tr>\n",
       "    <tr>\n",
       "      <th>82</th>\n",
       "      <td>Gold</td>\n",
       "      <td>804</td>\n",
       "      <td>Sierra Madre Villa Station</td>\n",
       "      <td>34.147752</td>\n",
       "      <td>-118.081212</td>\n",
       "      <td>POINT (6537094.647 1876161.862)</td>\n",
       "    </tr>\n",
       "  </tbody>\n",
       "</table>\n",
       "<p>83 rows × 6 columns</p>\n",
       "</div>"
      ],
      "text/plain": [
       "    LINE  LINENUM                      STATION        LAT        LONG  \\\n",
       "0   Blue      801  Downtown Long Beach Station  33.768071 -118.192921   \n",
       "1   Blue      801          Pacific Ave Station  33.772258 -118.193700   \n",
       "2   Blue      801       Anaheim Street Station  33.781830 -118.189384   \n",
       "3   Blue      801    Pacific Coast Hwy Station  33.789090 -118.189382   \n",
       "4   Blue      801        Willow Street Station  33.807079 -118.189834   \n",
       "..   ...      ...                          ...        ...         ...   \n",
       "78  Gold      804              Del Mar Station  34.141910 -118.148214   \n",
       "79  Gold      804        Memorial Park Station  34.148356 -118.147512   \n",
       "80  Gold      804                 Lake Station  34.151806 -118.131390   \n",
       "81  Gold      804                Allen Station  34.152417 -118.114348   \n",
       "82  Gold      804   Sierra Madre Villa Station  34.147752 -118.081212   \n",
       "\n",
       "                           geometry  \n",
       "0   POINT (6503030.095 1738033.828)  \n",
       "1   POINT (6502796.262 1739558.050)  \n",
       "2   POINT (6504114.567 1743039.068)  \n",
       "3   POINT (6504120.152 1745681.179)  \n",
       "4   POINT (6503995.170 1752228.119)  \n",
       "..                              ...  \n",
       "78  POINT (6516818.973 1874058.989)  \n",
       "79  POINT (6517034.832 1876404.492)  \n",
       "80  POINT (6521914.408 1877653.241)  \n",
       "81  POINT (6527070.744 1877869.293)  \n",
       "82  POINT (6537094.647 1876161.862)  \n",
       "\n",
       "[83 rows x 6 columns]"
      ]
     },
     "execution_count": 27,
     "metadata": {},
     "output_type": "execute_result"
    }
   ],
   "source": [
    "metro[['LINE','LINENUM','STATION','LAT','LONG','geometry']]"
   ]
  },
  {
   "cell_type": "markdown",
   "metadata": {},
   "source": [
    "Wait, why the double square brackets? `[[...]]`\n",
    "\n",
    "The reason for this is that we are feeding the dataframe a list of column names. Another way to do the same thing would be:"
   ]
  },
  {
   "cell_type": "code",
   "execution_count": 28,
   "metadata": {},
   "outputs": [
    {
     "data": {
      "text/html": [
       "<div>\n",
       "<style scoped>\n",
       "    .dataframe tbody tr th:only-of-type {\n",
       "        vertical-align: middle;\n",
       "    }\n",
       "\n",
       "    .dataframe tbody tr th {\n",
       "        vertical-align: top;\n",
       "    }\n",
       "\n",
       "    .dataframe thead th {\n",
       "        text-align: right;\n",
       "    }\n",
       "</style>\n",
       "<table border=\"1\" class=\"dataframe\">\n",
       "  <thead>\n",
       "    <tr style=\"text-align: right;\">\n",
       "      <th></th>\n",
       "      <th>LINE</th>\n",
       "      <th>LINENUM</th>\n",
       "      <th>STATION</th>\n",
       "      <th>LAT</th>\n",
       "      <th>LONG</th>\n",
       "      <th>geometry</th>\n",
       "    </tr>\n",
       "  </thead>\n",
       "  <tbody>\n",
       "    <tr>\n",
       "      <th>0</th>\n",
       "      <td>Blue</td>\n",
       "      <td>801</td>\n",
       "      <td>Downtown Long Beach Station</td>\n",
       "      <td>33.768071</td>\n",
       "      <td>-118.192921</td>\n",
       "      <td>POINT (6503030.095 1738033.828)</td>\n",
       "    </tr>\n",
       "    <tr>\n",
       "      <th>1</th>\n",
       "      <td>Blue</td>\n",
       "      <td>801</td>\n",
       "      <td>Pacific Ave Station</td>\n",
       "      <td>33.772258</td>\n",
       "      <td>-118.193700</td>\n",
       "      <td>POINT (6502796.262 1739558.050)</td>\n",
       "    </tr>\n",
       "    <tr>\n",
       "      <th>2</th>\n",
       "      <td>Blue</td>\n",
       "      <td>801</td>\n",
       "      <td>Anaheim Street Station</td>\n",
       "      <td>33.781830</td>\n",
       "      <td>-118.189384</td>\n",
       "      <td>POINT (6504114.567 1743039.068)</td>\n",
       "    </tr>\n",
       "    <tr>\n",
       "      <th>3</th>\n",
       "      <td>Blue</td>\n",
       "      <td>801</td>\n",
       "      <td>Pacific Coast Hwy Station</td>\n",
       "      <td>33.789090</td>\n",
       "      <td>-118.189382</td>\n",
       "      <td>POINT (6504120.152 1745681.179)</td>\n",
       "    </tr>\n",
       "    <tr>\n",
       "      <th>4</th>\n",
       "      <td>Blue</td>\n",
       "      <td>801</td>\n",
       "      <td>Willow Street Station</td>\n",
       "      <td>33.807079</td>\n",
       "      <td>-118.189834</td>\n",
       "      <td>POINT (6503995.170 1752228.119)</td>\n",
       "    </tr>\n",
       "    <tr>\n",
       "      <th>...</th>\n",
       "      <td>...</td>\n",
       "      <td>...</td>\n",
       "      <td>...</td>\n",
       "      <td>...</td>\n",
       "      <td>...</td>\n",
       "      <td>...</td>\n",
       "    </tr>\n",
       "    <tr>\n",
       "      <th>78</th>\n",
       "      <td>Gold</td>\n",
       "      <td>804</td>\n",
       "      <td>Del Mar Station</td>\n",
       "      <td>34.141910</td>\n",
       "      <td>-118.148214</td>\n",
       "      <td>POINT (6516818.973 1874058.989)</td>\n",
       "    </tr>\n",
       "    <tr>\n",
       "      <th>79</th>\n",
       "      <td>Gold</td>\n",
       "      <td>804</td>\n",
       "      <td>Memorial Park Station</td>\n",
       "      <td>34.148356</td>\n",
       "      <td>-118.147512</td>\n",
       "      <td>POINT (6517034.832 1876404.492)</td>\n",
       "    </tr>\n",
       "    <tr>\n",
       "      <th>80</th>\n",
       "      <td>Gold</td>\n",
       "      <td>804</td>\n",
       "      <td>Lake Station</td>\n",
       "      <td>34.151806</td>\n",
       "      <td>-118.131390</td>\n",
       "      <td>POINT (6521914.408 1877653.241)</td>\n",
       "    </tr>\n",
       "    <tr>\n",
       "      <th>81</th>\n",
       "      <td>Gold</td>\n",
       "      <td>804</td>\n",
       "      <td>Allen Station</td>\n",
       "      <td>34.152417</td>\n",
       "      <td>-118.114348</td>\n",
       "      <td>POINT (6527070.744 1877869.293)</td>\n",
       "    </tr>\n",
       "    <tr>\n",
       "      <th>82</th>\n",
       "      <td>Gold</td>\n",
       "      <td>804</td>\n",
       "      <td>Sierra Madre Villa Station</td>\n",
       "      <td>34.147752</td>\n",
       "      <td>-118.081212</td>\n",
       "      <td>POINT (6537094.647 1876161.862)</td>\n",
       "    </tr>\n",
       "  </tbody>\n",
       "</table>\n",
       "<p>83 rows × 6 columns</p>\n",
       "</div>"
      ],
      "text/plain": [
       "    LINE  LINENUM                      STATION        LAT        LONG  \\\n",
       "0   Blue      801  Downtown Long Beach Station  33.768071 -118.192921   \n",
       "1   Blue      801          Pacific Ave Station  33.772258 -118.193700   \n",
       "2   Blue      801       Anaheim Street Station  33.781830 -118.189384   \n",
       "3   Blue      801    Pacific Coast Hwy Station  33.789090 -118.189382   \n",
       "4   Blue      801        Willow Street Station  33.807079 -118.189834   \n",
       "..   ...      ...                          ...        ...         ...   \n",
       "78  Gold      804              Del Mar Station  34.141910 -118.148214   \n",
       "79  Gold      804        Memorial Park Station  34.148356 -118.147512   \n",
       "80  Gold      804                 Lake Station  34.151806 -118.131390   \n",
       "81  Gold      804                Allen Station  34.152417 -118.114348   \n",
       "82  Gold      804   Sierra Madre Villa Station  34.147752 -118.081212   \n",
       "\n",
       "                           geometry  \n",
       "0   POINT (6503030.095 1738033.828)  \n",
       "1   POINT (6502796.262 1739558.050)  \n",
       "2   POINT (6504114.567 1743039.068)  \n",
       "3   POINT (6504120.152 1745681.179)  \n",
       "4   POINT (6503995.170 1752228.119)  \n",
       "..                              ...  \n",
       "78  POINT (6516818.973 1874058.989)  \n",
       "79  POINT (6517034.832 1876404.492)  \n",
       "80  POINT (6521914.408 1877653.241)  \n",
       "81  POINT (6527070.744 1877869.293)  \n",
       "82  POINT (6537094.647 1876161.862)  \n",
       "\n",
       "[83 rows x 6 columns]"
      ]
     },
     "execution_count": 28,
     "metadata": {},
     "output_type": "execute_result"
    }
   ],
   "source": [
    "# list of desired column names\n",
    "desired_columns = ['LINE','LINENUM','STATION','LAT','LONG','geometry']\n",
    "\n",
    "# subset based on desired columns\n",
    "metro[desired_columns]"
   ]
  },
  {
   "cell_type": "markdown",
   "metadata": {},
   "source": [
    "If you now print the dataframe, what happens?"
   ]
  },
  {
   "cell_type": "code",
   "execution_count": 30,
   "metadata": {},
   "outputs": [
    {
     "data": {
      "text/html": [
       "<div>\n",
       "<style scoped>\n",
       "    .dataframe tbody tr th:only-of-type {\n",
       "        vertical-align: middle;\n",
       "    }\n",
       "\n",
       "    .dataframe tbody tr th {\n",
       "        vertical-align: top;\n",
       "    }\n",
       "\n",
       "    .dataframe thead th {\n",
       "        text-align: right;\n",
       "    }\n",
       "</style>\n",
       "<table border=\"1\" class=\"dataframe\">\n",
       "  <thead>\n",
       "    <tr style=\"text-align: right;\">\n",
       "      <th></th>\n",
       "      <th>LINE</th>\n",
       "      <th>LINENUM</th>\n",
       "      <th>LINENUM2</th>\n",
       "      <th>STNSEQ</th>\n",
       "      <th>STNSEQ2</th>\n",
       "      <th>DIR</th>\n",
       "      <th>STOPNUM</th>\n",
       "      <th>STATION</th>\n",
       "      <th>LAT</th>\n",
       "      <th>LONG</th>\n",
       "      <th>TPIS_NAME</th>\n",
       "      <th>POINT_X</th>\n",
       "      <th>POINT_Y</th>\n",
       "      <th>geometry</th>\n",
       "    </tr>\n",
       "  </thead>\n",
       "  <tbody>\n",
       "    <tr>\n",
       "      <th>0</th>\n",
       "      <td>Blue</td>\n",
       "      <td>801</td>\n",
       "      <td>0</td>\n",
       "      <td>21</td>\n",
       "      <td>0</td>\n",
       "      <td>None</td>\n",
       "      <td>80101</td>\n",
       "      <td>Downtown Long Beach Station</td>\n",
       "      <td>33.768071</td>\n",
       "      <td>-118.192921</td>\n",
       "      <td>Long Bch</td>\n",
       "      <td>6.503030e+06</td>\n",
       "      <td>1.738034e+06</td>\n",
       "      <td>POINT (6503030.095 1738033.828)</td>\n",
       "    </tr>\n",
       "    <tr>\n",
       "      <th>1</th>\n",
       "      <td>Blue</td>\n",
       "      <td>801</td>\n",
       "      <td>0</td>\n",
       "      <td>22</td>\n",
       "      <td>0</td>\n",
       "      <td>North</td>\n",
       "      <td>80102</td>\n",
       "      <td>Pacific Ave Station</td>\n",
       "      <td>33.772258</td>\n",
       "      <td>-118.193700</td>\n",
       "      <td>Pacific</td>\n",
       "      <td>6.502796e+06</td>\n",
       "      <td>1.739558e+06</td>\n",
       "      <td>POINT (6502796.262 1739558.050)</td>\n",
       "    </tr>\n",
       "    <tr>\n",
       "      <th>2</th>\n",
       "      <td>Blue</td>\n",
       "      <td>801</td>\n",
       "      <td>0</td>\n",
       "      <td>18</td>\n",
       "      <td>0</td>\n",
       "      <td>None</td>\n",
       "      <td>80105</td>\n",
       "      <td>Anaheim Street Station</td>\n",
       "      <td>33.781830</td>\n",
       "      <td>-118.189384</td>\n",
       "      <td>Anaheim</td>\n",
       "      <td>6.504115e+06</td>\n",
       "      <td>1.743039e+06</td>\n",
       "      <td>POINT (6504114.567 1743039.068)</td>\n",
       "    </tr>\n",
       "    <tr>\n",
       "      <th>3</th>\n",
       "      <td>Blue</td>\n",
       "      <td>801</td>\n",
       "      <td>0</td>\n",
       "      <td>17</td>\n",
       "      <td>0</td>\n",
       "      <td>None</td>\n",
       "      <td>80106</td>\n",
       "      <td>Pacific Coast Hwy Station</td>\n",
       "      <td>33.789090</td>\n",
       "      <td>-118.189382</td>\n",
       "      <td>PCH</td>\n",
       "      <td>6.504120e+06</td>\n",
       "      <td>1.745681e+06</td>\n",
       "      <td>POINT (6504120.152 1745681.179)</td>\n",
       "    </tr>\n",
       "    <tr>\n",
       "      <th>4</th>\n",
       "      <td>Blue</td>\n",
       "      <td>801</td>\n",
       "      <td>0</td>\n",
       "      <td>16</td>\n",
       "      <td>0</td>\n",
       "      <td>None</td>\n",
       "      <td>80107</td>\n",
       "      <td>Willow Street Station</td>\n",
       "      <td>33.807079</td>\n",
       "      <td>-118.189834</td>\n",
       "      <td>Willow</td>\n",
       "      <td>6.503995e+06</td>\n",
       "      <td>1.752228e+06</td>\n",
       "      <td>POINT (6503995.170 1752228.119)</td>\n",
       "    </tr>\n",
       "  </tbody>\n",
       "</table>\n",
       "</div>"
      ],
      "text/plain": [
       "   LINE  LINENUM  LINENUM2  STNSEQ  STNSEQ2    DIR  STOPNUM  \\\n",
       "0  Blue      801         0      21        0   None    80101   \n",
       "1  Blue      801         0      22        0  North    80102   \n",
       "2  Blue      801         0      18        0   None    80105   \n",
       "3  Blue      801         0      17        0   None    80106   \n",
       "4  Blue      801         0      16        0   None    80107   \n",
       "\n",
       "                       STATION        LAT        LONG TPIS_NAME       POINT_X  \\\n",
       "0  Downtown Long Beach Station  33.768071 -118.192921  Long Bch  6.503030e+06   \n",
       "1          Pacific Ave Station  33.772258 -118.193700   Pacific  6.502796e+06   \n",
       "2       Anaheim Street Station  33.781830 -118.189384   Anaheim  6.504115e+06   \n",
       "3    Pacific Coast Hwy Station  33.789090 -118.189382       PCH  6.504120e+06   \n",
       "4        Willow Street Station  33.807079 -118.189834    Willow  6.503995e+06   \n",
       "\n",
       "        POINT_Y                         geometry  \n",
       "0  1.738034e+06  POINT (6503030.095 1738033.828)  \n",
       "1  1.739558e+06  POINT (6502796.262 1739558.050)  \n",
       "2  1.743039e+06  POINT (6504114.567 1743039.068)  \n",
       "3  1.745681e+06  POINT (6504120.152 1745681.179)  \n",
       "4  1.752228e+06  POINT (6503995.170 1752228.119)  "
      ]
     },
     "execution_count": 30,
     "metadata": {},
     "output_type": "execute_result"
    }
   ],
   "source": [
    "metro.head()"
   ]
  },
  {
   "cell_type": "code",
   "execution_count": 31,
   "metadata": {},
   "outputs": [
    {
     "data": {
      "text/html": [
       "<div>\n",
       "<style scoped>\n",
       "    .dataframe tbody tr th:only-of-type {\n",
       "        vertical-align: middle;\n",
       "    }\n",
       "\n",
       "    .dataframe tbody tr th {\n",
       "        vertical-align: top;\n",
       "    }\n",
       "\n",
       "    .dataframe thead th {\n",
       "        text-align: right;\n",
       "    }\n",
       "</style>\n",
       "<table border=\"1\" class=\"dataframe\">\n",
       "  <thead>\n",
       "    <tr style=\"text-align: right;\">\n",
       "      <th></th>\n",
       "      <th>LINE</th>\n",
       "      <th>LINENUM</th>\n",
       "      <th>STATION</th>\n",
       "      <th>LAT</th>\n",
       "      <th>LONG</th>\n",
       "      <th>geometry</th>\n",
       "    </tr>\n",
       "  </thead>\n",
       "  <tbody>\n",
       "    <tr>\n",
       "      <th>0</th>\n",
       "      <td>Blue</td>\n",
       "      <td>801</td>\n",
       "      <td>Downtown Long Beach Station</td>\n",
       "      <td>33.768071</td>\n",
       "      <td>-118.192921</td>\n",
       "      <td>POINT (6503030.095 1738033.828)</td>\n",
       "    </tr>\n",
       "    <tr>\n",
       "      <th>1</th>\n",
       "      <td>Blue</td>\n",
       "      <td>801</td>\n",
       "      <td>Pacific Ave Station</td>\n",
       "      <td>33.772258</td>\n",
       "      <td>-118.193700</td>\n",
       "      <td>POINT (6502796.262 1739558.050)</td>\n",
       "    </tr>\n",
       "    <tr>\n",
       "      <th>2</th>\n",
       "      <td>Blue</td>\n",
       "      <td>801</td>\n",
       "      <td>Anaheim Street Station</td>\n",
       "      <td>33.781830</td>\n",
       "      <td>-118.189384</td>\n",
       "      <td>POINT (6504114.567 1743039.068)</td>\n",
       "    </tr>\n",
       "    <tr>\n",
       "      <th>3</th>\n",
       "      <td>Blue</td>\n",
       "      <td>801</td>\n",
       "      <td>Pacific Coast Hwy Station</td>\n",
       "      <td>33.789090</td>\n",
       "      <td>-118.189382</td>\n",
       "      <td>POINT (6504120.152 1745681.179)</td>\n",
       "    </tr>\n",
       "    <tr>\n",
       "      <th>4</th>\n",
       "      <td>Blue</td>\n",
       "      <td>801</td>\n",
       "      <td>Willow Street Station</td>\n",
       "      <td>33.807079</td>\n",
       "      <td>-118.189834</td>\n",
       "      <td>POINT (6503995.170 1752228.119)</td>\n",
       "    </tr>\n",
       "    <tr>\n",
       "      <th>...</th>\n",
       "      <td>...</td>\n",
       "      <td>...</td>\n",
       "      <td>...</td>\n",
       "      <td>...</td>\n",
       "      <td>...</td>\n",
       "      <td>...</td>\n",
       "    </tr>\n",
       "    <tr>\n",
       "      <th>78</th>\n",
       "      <td>Gold</td>\n",
       "      <td>804</td>\n",
       "      <td>Del Mar Station</td>\n",
       "      <td>34.141910</td>\n",
       "      <td>-118.148214</td>\n",
       "      <td>POINT (6516818.973 1874058.989)</td>\n",
       "    </tr>\n",
       "    <tr>\n",
       "      <th>79</th>\n",
       "      <td>Gold</td>\n",
       "      <td>804</td>\n",
       "      <td>Memorial Park Station</td>\n",
       "      <td>34.148356</td>\n",
       "      <td>-118.147512</td>\n",
       "      <td>POINT (6517034.832 1876404.492)</td>\n",
       "    </tr>\n",
       "    <tr>\n",
       "      <th>80</th>\n",
       "      <td>Gold</td>\n",
       "      <td>804</td>\n",
       "      <td>Lake Station</td>\n",
       "      <td>34.151806</td>\n",
       "      <td>-118.131390</td>\n",
       "      <td>POINT (6521914.408 1877653.241)</td>\n",
       "    </tr>\n",
       "    <tr>\n",
       "      <th>81</th>\n",
       "      <td>Gold</td>\n",
       "      <td>804</td>\n",
       "      <td>Allen Station</td>\n",
       "      <td>34.152417</td>\n",
       "      <td>-118.114348</td>\n",
       "      <td>POINT (6527070.744 1877869.293)</td>\n",
       "    </tr>\n",
       "    <tr>\n",
       "      <th>82</th>\n",
       "      <td>Gold</td>\n",
       "      <td>804</td>\n",
       "      <td>Sierra Madre Villa Station</td>\n",
       "      <td>34.147752</td>\n",
       "      <td>-118.081212</td>\n",
       "      <td>POINT (6537094.647 1876161.862)</td>\n",
       "    </tr>\n",
       "  </tbody>\n",
       "</table>\n",
       "<p>83 rows × 6 columns</p>\n",
       "</div>"
      ],
      "text/plain": [
       "    LINE  LINENUM                      STATION        LAT        LONG  \\\n",
       "0   Blue      801  Downtown Long Beach Station  33.768071 -118.192921   \n",
       "1   Blue      801          Pacific Ave Station  33.772258 -118.193700   \n",
       "2   Blue      801       Anaheim Street Station  33.781830 -118.189384   \n",
       "3   Blue      801    Pacific Coast Hwy Station  33.789090 -118.189382   \n",
       "4   Blue      801        Willow Street Station  33.807079 -118.189834   \n",
       "..   ...      ...                          ...        ...         ...   \n",
       "78  Gold      804              Del Mar Station  34.141910 -118.148214   \n",
       "79  Gold      804        Memorial Park Station  34.148356 -118.147512   \n",
       "80  Gold      804                 Lake Station  34.151806 -118.131390   \n",
       "81  Gold      804                Allen Station  34.152417 -118.114348   \n",
       "82  Gold      804   Sierra Madre Villa Station  34.147752 -118.081212   \n",
       "\n",
       "                           geometry  \n",
       "0   POINT (6503030.095 1738033.828)  \n",
       "1   POINT (6502796.262 1739558.050)  \n",
       "2   POINT (6504114.567 1743039.068)  \n",
       "3   POINT (6504120.152 1745681.179)  \n",
       "4   POINT (6503995.170 1752228.119)  \n",
       "..                              ...  \n",
       "78  POINT (6516818.973 1874058.989)  \n",
       "79  POINT (6517034.832 1876404.492)  \n",
       "80  POINT (6521914.408 1877653.241)  \n",
       "81  POINT (6527070.744 1877869.293)  \n",
       "82  POINT (6537094.647 1876161.862)  \n",
       "\n",
       "[83 rows x 6 columns]"
      ]
     },
     "execution_count": 31,
     "metadata": {},
     "output_type": "execute_result"
    }
   ],
   "source": [
    "metro_trimmed = metro[desired_columns]\n",
    "metro_trimmed"
   ]
  },
  {
   "cell_type": "markdown",
   "metadata": {},
   "source": [
    "### Subsetting/Querying the data"
   ]
  },
  {
   "cell_type": "code",
   "execution_count": 32,
   "metadata": {},
   "outputs": [
    {
     "data": {
      "text/html": [
       "<div>\n",
       "<style scoped>\n",
       "    .dataframe tbody tr th:only-of-type {\n",
       "        vertical-align: middle;\n",
       "    }\n",
       "\n",
       "    .dataframe tbody tr th {\n",
       "        vertical-align: top;\n",
       "    }\n",
       "\n",
       "    .dataframe thead th {\n",
       "        text-align: right;\n",
       "    }\n",
       "</style>\n",
       "<table border=\"1\" class=\"dataframe\">\n",
       "  <thead>\n",
       "    <tr style=\"text-align: right;\">\n",
       "      <th></th>\n",
       "      <th>LINE</th>\n",
       "      <th>LINENUM</th>\n",
       "      <th>STATION</th>\n",
       "      <th>LAT</th>\n",
       "      <th>LONG</th>\n",
       "      <th>geometry</th>\n",
       "    </tr>\n",
       "  </thead>\n",
       "  <tbody>\n",
       "    <tr>\n",
       "      <th>20</th>\n",
       "      <td>EXPO</td>\n",
       "      <td>806</td>\n",
       "      <td>LATTC / Ortho Institute Station</td>\n",
       "      <td>34.029112</td>\n",
       "      <td>-118.273603</td>\n",
       "      <td>POINT (6478766.175 1833089.413)</td>\n",
       "    </tr>\n",
       "    <tr>\n",
       "      <th>21</th>\n",
       "      <td>EXPO</td>\n",
       "      <td>806</td>\n",
       "      <td>Jefferson / USC Station</td>\n",
       "      <td>34.022123</td>\n",
       "      <td>-118.278118</td>\n",
       "      <td>POINT (6477391.116 1830549.740)</td>\n",
       "    </tr>\n",
       "    <tr>\n",
       "      <th>22</th>\n",
       "      <td>EXPO</td>\n",
       "      <td>806</td>\n",
       "      <td>Expo Park / USC Station</td>\n",
       "      <td>34.018227</td>\n",
       "      <td>-118.285734</td>\n",
       "      <td>POINT (6475079.285 1829138.386)</td>\n",
       "    </tr>\n",
       "    <tr>\n",
       "      <th>23</th>\n",
       "      <td>EXPO</td>\n",
       "      <td>806</td>\n",
       "      <td>Expo / Vermont Station</td>\n",
       "      <td>34.018245</td>\n",
       "      <td>-118.291540</td>\n",
       "      <td>POINT (6473319.888 1829149.989)</td>\n",
       "    </tr>\n",
       "    <tr>\n",
       "      <th>24</th>\n",
       "      <td>EXPO</td>\n",
       "      <td>806</td>\n",
       "      <td>Expo / Western Station</td>\n",
       "      <td>34.018331</td>\n",
       "      <td>-118.308910</td>\n",
       "      <td>POINT (6468056.285 1829197.007)</td>\n",
       "    </tr>\n",
       "  </tbody>\n",
       "</table>\n",
       "</div>"
      ],
      "text/plain": [
       "    LINE  LINENUM                          STATION        LAT        LONG  \\\n",
       "20  EXPO      806  LATTC / Ortho Institute Station  34.029112 -118.273603   \n",
       "21  EXPO      806          Jefferson / USC Station  34.022123 -118.278118   \n",
       "22  EXPO      806          Expo Park / USC Station  34.018227 -118.285734   \n",
       "23  EXPO      806           Expo / Vermont Station  34.018245 -118.291540   \n",
       "24  EXPO      806           Expo / Western Station  34.018331 -118.308910   \n",
       "\n",
       "                           geometry  \n",
       "20  POINT (6478766.175 1833089.413)  \n",
       "21  POINT (6477391.116 1830549.740)  \n",
       "22  POINT (6475079.285 1829138.386)  \n",
       "23  POINT (6473319.888 1829149.989)  \n",
       "24  POINT (6468056.285 1829197.007)  "
      ]
     },
     "execution_count": 32,
     "metadata": {},
     "output_type": "execute_result"
    }
   ],
   "source": [
    "expo = metro_trimmed[metro.LINE == 'EXPO']\n",
    "expo.head()"
   ]
  },
  {
   "cell_type": "code",
   "execution_count": null,
   "metadata": {},
   "outputs": [],
   "source": [
    "# try it yourself. create variables for each unique LINE in the dataframe\n"
   ]
  },
  {
   "cell_type": "markdown",
   "metadata": {},
   "source": [
    "## Plotting"
   ]
  },
  {
   "cell_type": "code",
   "execution_count": 33,
   "metadata": {},
   "outputs": [
    {
     "data": {
      "text/plain": [
       "<matplotlib.axes._subplots.AxesSubplot at 0x7fca8b0dc0d0>"
      ]
     },
     "execution_count": 33,
     "metadata": {},
     "output_type": "execute_result"
    },
    {
     "data": {
      "image/png": "[encoded data removed]",
      "text/plain": [
       "<Figure size 432x288 with 1 Axes>"
      ]
     },
     "metadata": {
      "needs_background": "light"
     },
     "output_type": "display_data"
    }
   ],
   "source": [
    "metro_trimmed.plot()"
   ]
  },
  {
   "cell_type": "markdown",
   "metadata": {},
   "source": [
    "And then we plot it. Don't worry about the intricacies of the syntax just yet (we will learn this in much more detail later), but remember, \"command, bracket, arguments!\""
   ]
  },
  {
   "cell_type": "code",
   "execution_count": 34,
   "metadata": {},
   "outputs": [
    {
     "data": {
      "text/plain": [
       "<matplotlib.axes._subplots.AxesSubplot at 0x7fca8b018190>"
      ]
     },
     "execution_count": 34,
     "metadata": {},
     "output_type": "execute_result"
    },
    {
     "data": {
      "image/png": "[encoded data removed]",
      "text/plain": [
       "<Figure size 1440x864 with 1 Axes>"
      ]
     },
     "metadata": {
      "needs_background": "light"
     },
     "output_type": "display_data"
    }
   ],
   "source": [
    "metro_trimmed.plot(figsize=(20,12),   #size of the plot (a bit bigger than the default)\n",
    "           column = 'LINE',   # column that defines the color of the dots\n",
    "           legend = True,     # add a legend           \n",
    "           legend_kwds={\n",
    "               'loc': 'upper right',\n",
    "               'bbox_to_anchor':(1.3,1)\n",
    "           }                  # this puts the legend to the side\n",
    "          ) \n"
   ]
  },
  {
   "cell_type": "markdown",
   "metadata": {},
   "source": [
    "## Back to mapping\n",
    "We can't finish our lesson without a map :). Let's go back to the original metro dataset that was the inspiration for this notebook. Recall that we used the module `geopandas` to define the data."
   ]
  },
  {
   "cell_type": "code",
   "execution_count": 35,
   "metadata": {},
   "outputs": [
    {
     "data": {
      "text/html": [
       "<div>\n",
       "<style scoped>\n",
       "    .dataframe tbody tr th:only-of-type {\n",
       "        vertical-align: middle;\n",
       "    }\n",
       "\n",
       "    .dataframe tbody tr th {\n",
       "        vertical-align: top;\n",
       "    }\n",
       "\n",
       "    .dataframe thead th {\n",
       "        text-align: right;\n",
       "    }\n",
       "</style>\n",
       "<table border=\"1\" class=\"dataframe\">\n",
       "  <thead>\n",
       "    <tr style=\"text-align: right;\">\n",
       "      <th></th>\n",
       "      <th>LINE</th>\n",
       "      <th>LINENUM</th>\n",
       "      <th>STATION</th>\n",
       "      <th>LAT</th>\n",
       "      <th>LONG</th>\n",
       "      <th>geometry</th>\n",
       "    </tr>\n",
       "  </thead>\n",
       "  <tbody>\n",
       "    <tr>\n",
       "      <th>0</th>\n",
       "      <td>Blue</td>\n",
       "      <td>801</td>\n",
       "      <td>Downtown Long Beach Station</td>\n",
       "      <td>33.768071</td>\n",
       "      <td>-118.192921</td>\n",
       "      <td>POINT (6503030.095 1738033.828)</td>\n",
       "    </tr>\n",
       "    <tr>\n",
       "      <th>1</th>\n",
       "      <td>Blue</td>\n",
       "      <td>801</td>\n",
       "      <td>Pacific Ave Station</td>\n",
       "      <td>33.772258</td>\n",
       "      <td>-118.193700</td>\n",
       "      <td>POINT (6502796.262 1739558.050)</td>\n",
       "    </tr>\n",
       "    <tr>\n",
       "      <th>2</th>\n",
       "      <td>Blue</td>\n",
       "      <td>801</td>\n",
       "      <td>Anaheim Street Station</td>\n",
       "      <td>33.781830</td>\n",
       "      <td>-118.189384</td>\n",
       "      <td>POINT (6504114.567 1743039.068)</td>\n",
       "    </tr>\n",
       "    <tr>\n",
       "      <th>3</th>\n",
       "      <td>Blue</td>\n",
       "      <td>801</td>\n",
       "      <td>Pacific Coast Hwy Station</td>\n",
       "      <td>33.789090</td>\n",
       "      <td>-118.189382</td>\n",
       "      <td>POINT (6504120.152 1745681.179)</td>\n",
       "    </tr>\n",
       "    <tr>\n",
       "      <th>4</th>\n",
       "      <td>Blue</td>\n",
       "      <td>801</td>\n",
       "      <td>Willow Street Station</td>\n",
       "      <td>33.807079</td>\n",
       "      <td>-118.189834</td>\n",
       "      <td>POINT (6503995.170 1752228.119)</td>\n",
       "    </tr>\n",
       "  </tbody>\n",
       "</table>\n",
       "</div>"
      ],
      "text/plain": [
       "   LINE  LINENUM                      STATION        LAT        LONG  \\\n",
       "0  Blue      801  Downtown Long Beach Station  33.768071 -118.192921   \n",
       "1  Blue      801          Pacific Ave Station  33.772258 -118.193700   \n",
       "2  Blue      801       Anaheim Street Station  33.781830 -118.189384   \n",
       "3  Blue      801    Pacific Coast Hwy Station  33.789090 -118.189382   \n",
       "4  Blue      801        Willow Street Station  33.807079 -118.189834   \n",
       "\n",
       "                          geometry  \n",
       "0  POINT (6503030.095 1738033.828)  \n",
       "1  POINT (6502796.262 1739558.050)  \n",
       "2  POINT (6504114.567 1743039.068)  \n",
       "3  POINT (6504120.152 1745681.179)  \n",
       "4  POINT (6503995.170 1752228.119)  "
      ]
     },
     "execution_count": 35,
     "metadata": {},
     "output_type": "execute_result"
    }
   ],
   "source": [
    "metro_trimmed.head()"
   ]
  },
  {
   "cell_type": "markdown",
   "metadata": {},
   "source": [
    "## Projections"
   ]
  },
  {
   "cell_type": "code",
   "execution_count": 36,
   "metadata": {},
   "outputs": [
    {
     "data": {
      "text/plain": [
       "<Projected CRS: EPSG:2874>\n",
       "Name: NAD83(HARN) / California zone 5 (ftUS)\n",
       "Axis Info [cartesian]:\n",
       "- X[east]: Easting (US survey foot)\n",
       "- Y[north]: Northing (US survey foot)\n",
       "Area of Use:\n",
       "- name: USA - California - SPCS83 - 5\n",
       "- bounds: (-121.42, 32.76, -114.12, 35.81)\n",
       "Coordinate Operation:\n",
       "- name: SPCS83 California zone 5 (US Survey feet)\n",
       "- method: Lambert Conic Conformal (2SP)\n",
       "Datum: NAD83 (High Accuracy Reference Network)\n",
       "- Ellipsoid: GRS 1980\n",
       "- Prime Meridian: Greenwich"
      ]
     },
     "execution_count": 36,
     "metadata": {},
     "output_type": "execute_result"
    }
   ],
   "source": [
    "# what is the projection?\n",
    "metro_trimmed.crs"
   ]
  },
  {
   "cell_type": "code",
   "execution_count": 37,
   "metadata": {},
   "outputs": [],
   "source": [
    "# let's reproject it\n",
    "metro_gcs = metro_trimmed.to_crs(\"EPSG:4326\")"
   ]
  },
  {
   "cell_type": "code",
   "execution_count": 38,
   "metadata": {},
   "outputs": [
    {
     "data": {
      "text/plain": [
       "geopandas.geoseries.GeoSeries"
      ]
     },
     "execution_count": 38,
     "metadata": {},
     "output_type": "execute_result"
    }
   ],
   "source": [
    "type(metro_gcs.geometry)"
   ]
  },
  {
   "cell_type": "markdown",
   "metadata": {},
   "source": [
    "Now it's time for another module. Everybody, please welcome `folium`. Folium brings leaflet, an open source javascript mapping library into our Python environment, allowing you to create instant interactive maps. Try it:"
   ]
  },
  {
   "cell_type": "code",
   "execution_count": 39,
   "metadata": {},
   "outputs": [
    {
     "data": {
      "text/plain": [
       "<matplotlib.axes._subplots.AxesSubplot at 0x7fca8b05e970>"
      ]
     },
     "execution_count": 39,
     "metadata": {},
     "output_type": "execute_result"
    },
    {
     "data": {
      "image/png": "[encoded data removed]",
      "text/plain": [
       "<Figure size 432x288 with 1 Axes>"
      ]
     },
     "metadata": {
      "needs_background": "light"
     },
     "output_type": "display_data"
    }
   ],
   "source": [
    "metro_gcs.plot()"
   ]
  },
  {
   "cell_type": "code",
   "execution_count": 41,
   "metadata": {},
   "outputs": [
    {
     "data": {
      "text/plain": [
       "<matplotlib.axes._subplots.AxesSubplot at 0x7fca8aeb4be0>"
      ]
     },
     "execution_count": 41,
     "metadata": {},
     "output_type": "execute_result"
    },
    {
     "data": {
      "image/png": "[encoded data removed]",
      "text/plain": [
       "<Figure size 432x288 with 1 Axes>"
      ]
     },
     "metadata": {
      "needs_background": "light"
     },
     "output_type": "display_data"
    }
   ],
   "source": [
    "# what did it look like before we reprojected it?\n",
    "metro_trimmed.plot()"
   ]
  },
  {
   "cell_type": "markdown",
   "metadata": {},
   "source": [
    "## Iterating through rows in a dataframe\n",
    "\n",
    "You learned how to loop through a python list. Looping over rows in a dataframe is similar, but the syntax is slightly different."
   ]
  },
  {
   "cell_type": "code",
   "execution_count": 42,
   "metadata": {
    "scrolled": true
   },
   "outputs": [
    {
     "name": "stdout",
     "output_type": "stream",
     "text": [
      "Downtown Long Beach Station Blue\n",
      "Pacific Ave Station Blue\n",
      "Anaheim Street Station Blue\n",
      "Pacific Coast Hwy Station Blue\n",
      "Willow Street Station Blue\n",
      "Wardlow Station Blue\n",
      "Del Amo Station Blue\n",
      "Artesia Station Blue\n",
      "Compton Station Blue\n",
      "Willowbrook - Rosa Parks Station - Metro Blue Line Blue\n",
      "103rd Street / Watts Towers  Station Blue\n",
      "Firestone Station Blue\n",
      "Florence Station Blue\n",
      "Slauson Station Blue\n",
      "Vernon Station Blue\n",
      "Washington Station Blue\n",
      "San Pedro Street Station Blue\n",
      "Grand / LATTC Station Blue\n",
      "Pico Station Blue/EXPO\n",
      "7th Street / Metro Center Station - Metro Blue & Expo Lines Blue/EXPO\n",
      "LATTC / Ortho Institute Station EXPO\n",
      "Jefferson / USC Station EXPO\n",
      "Expo Park / USC Station EXPO\n",
      "Expo / Vermont Station EXPO\n",
      "Expo / Western Station EXPO\n",
      "Expo / Crenshaw Station EXPO\n",
      "Farmdale Station EXPO\n",
      "Expo / La Brea / Ethel Bradley Station EXPO\n",
      "La Cienega / Jefferson Station EXPO\n",
      "Culver City Station EXPO\n",
      "1st Street Station Blue\n",
      "5th Street Station Blue\n",
      "North Hollywood Station Red\n",
      "Universal / Studio City Station Red\n",
      "Hollywood / Highland Station Red\n",
      "Hollywood / Vine Station Red\n",
      "Hollywood / Western Station Red\n",
      "Vermont / Sunset Station Red\n",
      "Vermont / Santa Monica Station Red\n",
      "Vermont / Beverly Station Red\n",
      "Wilshire / Vermont Station Red/Purple\n",
      "Westlake / MacArthur Park Station Red/Purple\n",
      "7th Street / Metro Center Station - Metro Red & Purple Lines Red/Purple\n",
      "Pershing Square Station Red/Purple\n",
      "Civic Center / Grand Park Station Red/Purple\n",
      "Union Station - Metro Red & Purple Lines Red/Purple\n",
      "Wilshire / Normandie Station Purple\n",
      "Wilshire / Western Station Purple\n",
      "Redondo Beach Station Green\n",
      "Douglas Station Green\n",
      "El Segundo Station Green\n",
      "Mariposa Station Green\n",
      "Aviation / LAX Station Green\n",
      "Hawthorne / Lennox Station Green\n",
      "Crenshaw Station Green\n",
      "Vermont / Athens Station Green\n",
      "Harbor Freeway Station Green\n",
      "Avalon Station Green\n",
      "Willowbrook - Rosa Parks Station - Metro Green Line Green\n",
      "Long Beach Blvd Station Green\n",
      "Lakewood Blvd Station Green\n",
      "Norwalk Station Green\n",
      "Atlantic Station Gold\n",
      "East LA Civic Center Station Gold\n",
      "Maravilla Station Gold\n",
      "Indiana Station Gold\n",
      "Soto Station Gold\n",
      "Mariachi Plaza / Boyle Heights Station Gold\n",
      "Pico / Aliso Station Gold\n",
      "Little Tokyo / Arts District Station Gold\n",
      "Union Station - Metro Gold Line Gold\n",
      "Chinatown Station Gold\n",
      "Lincoln Heights / Cypress Park Station Gold\n",
      "Heritage Square / Arroyo Station Gold\n",
      "Southwest Museum Station Gold\n",
      "Highland Park Station Gold\n",
      "South Pasadena Station Gold\n",
      "Fillmore Station Gold\n",
      "Del Mar Station Gold\n",
      "Memorial Park Station Gold\n",
      "Lake Station Gold\n",
      "Allen Station Gold\n",
      "Sierra Madre Villa Station Gold\n"
     ]
    }
   ],
   "source": [
    "for index, row in metro_gcs.iterrows():\n",
    "    print(row.STATION, row.LINE)"
   ]
  },
  {
   "cell_type": "markdown",
   "metadata": {},
   "source": [
    "## Get average lat/lon's"
   ]
  },
  {
   "cell_type": "code",
   "execution_count": 44,
   "metadata": {},
   "outputs": [
    {
     "data": {
      "text/plain": [
       "34.00158291566265"
      ]
     },
     "execution_count": 44,
     "metadata": {},
     "output_type": "execute_result"
    }
   ],
   "source": [
    "latitude = metro_trimmed.LAT.mean()\n",
    "latitude"
   ]
  },
  {
   "cell_type": "code",
   "execution_count": 45,
   "metadata": {},
   "outputs": [
    {
     "data": {
      "text/plain": [
       "-118.251045313253"
      ]
     },
     "execution_count": 45,
     "metadata": {},
     "output_type": "execute_result"
    }
   ],
   "source": [
    "longitude = metro_trimmed.LONG.mean()\n",
    "longitude"
   ]
  },
  {
   "cell_type": "markdown",
   "metadata": {},
   "source": [
    "## Mapping with folium"
   ]
  },
  {
   "cell_type": "code",
   "execution_count": 46,
   "metadata": {},
   "outputs": [],
   "source": [
    "import folium"
   ]
  },
  {
   "cell_type": "code",
   "execution_count": 47,
   "metadata": {},
   "outputs": [
    {
     "data": {
      "text/html": [
       "<div style=\"width:100%;\"><div style=\"position:relative;width:100%;height:0;padding-bottom:60%;\"><span style=\"color:#565656\">Make this Notebook Trusted to load map: File -> Trust Notebook</span><iframe src=\"about:blank\" style=\"position:absolute;width:100%;height:100%;left:0;top:0;border:none !important;\" data-html=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 onload=\"this.contentDocument.open();this.contentDocument.write(atob(this.getAttribute('data-html')));this.contentDocument.close();\" allowfullscreen webkitallowfullscreen mozallowfullscreen></iframe></div></div>"
      ],
      "text/plain": [
       "<folium.folium.Map at 0x7fca8a5b1ca0>"
      ]
     },
     "execution_count": 47,
     "metadata": {},
     "output_type": "execute_result"
    }
   ],
   "source": [
    "#initialize map\n",
    "m = folium.Map(location=[latitude,longitude], tiles='Stamen Terrain', zoom_start=10)\n",
    "m"
   ]
  },
  {
   "cell_type": "markdown",
   "metadata": {},
   "source": [
    "### Adding point markers"
   ]
  },
  {
   "cell_type": "code",
   "execution_count": 48,
   "metadata": {},
   "outputs": [
    {
     "data": {
      "text/html": [
       "<div style=\"width:100%;\"><div style=\"position:relative;width:100%;height:0;padding-bottom:60%;\"><span style=\"color:#565656\">Make this Notebook Trusted to load map: File -> Trust Notebook</span><iframe src=\"about:blank\" style=\"position:absolute;width:100%;height:100%;left:0;top:0;border:none !important;\" data-html=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 onload=\"this.contentDocument.open();this.contentDocument.write(atob(this.getAttribute('data-html')));this.contentDocument.close();\" allowfullscreen webkitallowfullscreen mozallowfullscreen></iframe></div></div>"
      ],
      "text/plain": [
       "<folium.folium.Map at 0x7fca8a5b1ca0>"
      ]
     },
     "execution_count": 48,
     "metadata": {},
     "output_type": "execute_result"
    }
   ],
   "source": [
    "# add the stations\n",
    "for index, row in metro_trimmed.iterrows():\n",
    "    folium.Marker([row.LAT,row.LONG], popup=row.STATION, tooltip=row.STATION).add_to(m)\n",
    "m"
   ]
  },
  {
   "cell_type": "code",
   "execution_count": 49,
   "metadata": {},
   "outputs": [
    {
     "name": "stderr",
     "output_type": "stream",
     "text": [
      "/opt/conda/lib/python3.8/site-packages/geopandas/geodataframe.py:853: SettingWithCopyWarning: \n",
      "A value is trying to be set on a copy of a slice from a DataFrame.\n",
      "Try using .loc[row_indexer,col_indexer] = value instead\n",
      "\n",
      "See the caveats in the documentation: https://pandas.pydata.org/pandas-docs/stable/user_guide/indexing.html#returning-a-view-versus-a-copy\n",
      "  super(GeoDataFrame, self).__setitem__(key, value)\n"
     ]
    }
   ],
   "source": [
    "# add a column\n",
    "metro_trimmed['color'] = ''"
   ]
  },
  {
   "cell_type": "code",
   "execution_count": 50,
   "metadata": {},
   "outputs": [
    {
     "data": {
      "text/html": [
       "<div>\n",
       "<style scoped>\n",
       "    .dataframe tbody tr th:only-of-type {\n",
       "        vertical-align: middle;\n",
       "    }\n",
       "\n",
       "    .dataframe tbody tr th {\n",
       "        vertical-align: top;\n",
       "    }\n",
       "\n",
       "    .dataframe thead th {\n",
       "        text-align: right;\n",
       "    }\n",
       "</style>\n",
       "<table border=\"1\" class=\"dataframe\">\n",
       "  <thead>\n",
       "    <tr style=\"text-align: right;\">\n",
       "      <th></th>\n",
       "      <th>LINE</th>\n",
       "      <th>LINENUM</th>\n",
       "      <th>STATION</th>\n",
       "      <th>LAT</th>\n",
       "      <th>LONG</th>\n",
       "      <th>geometry</th>\n",
       "      <th>color</th>\n",
       "    </tr>\n",
       "  </thead>\n",
       "  <tbody>\n",
       "    <tr>\n",
       "      <th>0</th>\n",
       "      <td>Blue</td>\n",
       "      <td>801</td>\n",
       "      <td>Downtown Long Beach Station</td>\n",
       "      <td>33.768071</td>\n",
       "      <td>-118.192921</td>\n",
       "      <td>POINT (6503030.095 1738033.828)</td>\n",
       "      <td></td>\n",
       "    </tr>\n",
       "    <tr>\n",
       "      <th>1</th>\n",
       "      <td>Blue</td>\n",
       "      <td>801</td>\n",
       "      <td>Pacific Ave Station</td>\n",
       "      <td>33.772258</td>\n",
       "      <td>-118.193700</td>\n",
       "      <td>POINT (6502796.262 1739558.050)</td>\n",
       "      <td></td>\n",
       "    </tr>\n",
       "    <tr>\n",
       "      <th>2</th>\n",
       "      <td>Blue</td>\n",
       "      <td>801</td>\n",
       "      <td>Anaheim Street Station</td>\n",
       "      <td>33.781830</td>\n",
       "      <td>-118.189384</td>\n",
       "      <td>POINT (6504114.567 1743039.068)</td>\n",
       "      <td></td>\n",
       "    </tr>\n",
       "    <tr>\n",
       "      <th>3</th>\n",
       "      <td>Blue</td>\n",
       "      <td>801</td>\n",
       "      <td>Pacific Coast Hwy Station</td>\n",
       "      <td>33.789090</td>\n",
       "      <td>-118.189382</td>\n",
       "      <td>POINT (6504120.152 1745681.179)</td>\n",
       "      <td></td>\n",
       "    </tr>\n",
       "    <tr>\n",
       "      <th>4</th>\n",
       "      <td>Blue</td>\n",
       "      <td>801</td>\n",
       "      <td>Willow Street Station</td>\n",
       "      <td>33.807079</td>\n",
       "      <td>-118.189834</td>\n",
       "      <td>POINT (6503995.170 1752228.119)</td>\n",
       "      <td></td>\n",
       "    </tr>\n",
       "  </tbody>\n",
       "</table>\n",
       "</div>"
      ],
      "text/plain": [
       "   LINE  LINENUM                      STATION        LAT        LONG  \\\n",
       "0  Blue      801  Downtown Long Beach Station  33.768071 -118.192921   \n",
       "1  Blue      801          Pacific Ave Station  33.772258 -118.193700   \n",
       "2  Blue      801       Anaheim Street Station  33.781830 -118.189384   \n",
       "3  Blue      801    Pacific Coast Hwy Station  33.789090 -118.189382   \n",
       "4  Blue      801        Willow Street Station  33.807079 -118.189834   \n",
       "\n",
       "                          geometry color  \n",
       "0  POINT (6503030.095 1738033.828)        \n",
       "1  POINT (6502796.262 1739558.050)        \n",
       "2  POINT (6504114.567 1743039.068)        \n",
       "3  POINT (6504120.152 1745681.179)        \n",
       "4  POINT (6503995.170 1752228.119)        "
      ]
     },
     "execution_count": 50,
     "metadata": {},
     "output_type": "execute_result"
    }
   ],
   "source": [
    "metro_trimmed.head()"
   ]
  },
  {
   "cell_type": "markdown",
   "metadata": {},
   "source": [
    "## Unique values in a column"
   ]
  },
  {
   "cell_type": "code",
   "execution_count": 51,
   "metadata": {},
   "outputs": [
    {
     "data": {
      "text/plain": [
       "array(['Blue', 'Blue/EXPO', 'EXPO', 'Red', 'Red/Purple', 'Purple',\n",
       "       'Green', 'Gold'], dtype=object)"
      ]
     },
     "execution_count": 51,
     "metadata": {},
     "output_type": "execute_result"
    }
   ],
   "source": [
    "metro_trimmed.LINE.unique()"
   ]
  },
  {
   "cell_type": "code",
   "execution_count": 52,
   "metadata": {
    "scrolled": true
   },
   "outputs": [
    {
     "data": {
      "text/html": [
       "<div>\n",
       "<style scoped>\n",
       "    .dataframe tbody tr th:only-of-type {\n",
       "        vertical-align: middle;\n",
       "    }\n",
       "\n",
       "    .dataframe tbody tr th {\n",
       "        vertical-align: top;\n",
       "    }\n",
       "\n",
       "    .dataframe thead th {\n",
       "        text-align: right;\n",
       "    }\n",
       "</style>\n",
       "<table border=\"1\" class=\"dataframe\">\n",
       "  <thead>\n",
       "    <tr style=\"text-align: right;\">\n",
       "      <th></th>\n",
       "      <th>LINE</th>\n",
       "      <th>LINENUM</th>\n",
       "      <th>STATION</th>\n",
       "      <th>LAT</th>\n",
       "      <th>LONG</th>\n",
       "      <th>geometry</th>\n",
       "      <th>color</th>\n",
       "    </tr>\n",
       "  </thead>\n",
       "  <tbody>\n",
       "    <tr>\n",
       "      <th>20</th>\n",
       "      <td>EXPO</td>\n",
       "      <td>806</td>\n",
       "      <td>LATTC / Ortho Institute Station</td>\n",
       "      <td>34.029112</td>\n",
       "      <td>-118.273603</td>\n",
       "      <td>POINT (6478766.175 1833089.413)</td>\n",
       "      <td></td>\n",
       "    </tr>\n",
       "    <tr>\n",
       "      <th>21</th>\n",
       "      <td>EXPO</td>\n",
       "      <td>806</td>\n",
       "      <td>Jefferson / USC Station</td>\n",
       "      <td>34.022123</td>\n",
       "      <td>-118.278118</td>\n",
       "      <td>POINT (6477391.116 1830549.740)</td>\n",
       "      <td></td>\n",
       "    </tr>\n",
       "    <tr>\n",
       "      <th>22</th>\n",
       "      <td>EXPO</td>\n",
       "      <td>806</td>\n",
       "      <td>Expo Park / USC Station</td>\n",
       "      <td>34.018227</td>\n",
       "      <td>-118.285734</td>\n",
       "      <td>POINT (6475079.285 1829138.386)</td>\n",
       "      <td></td>\n",
       "    </tr>\n",
       "    <tr>\n",
       "      <th>23</th>\n",
       "      <td>EXPO</td>\n",
       "      <td>806</td>\n",
       "      <td>Expo / Vermont Station</td>\n",
       "      <td>34.018245</td>\n",
       "      <td>-118.291540</td>\n",
       "      <td>POINT (6473319.888 1829149.989)</td>\n",
       "      <td></td>\n",
       "    </tr>\n",
       "    <tr>\n",
       "      <th>24</th>\n",
       "      <td>EXPO</td>\n",
       "      <td>806</td>\n",
       "      <td>Expo / Western Station</td>\n",
       "      <td>34.018331</td>\n",
       "      <td>-118.308910</td>\n",
       "      <td>POINT (6468056.285 1829197.007)</td>\n",
       "      <td></td>\n",
       "    </tr>\n",
       "    <tr>\n",
       "      <th>25</th>\n",
       "      <td>EXPO</td>\n",
       "      <td>806</td>\n",
       "      <td>Expo / Crenshaw Station</td>\n",
       "      <td>34.022526</td>\n",
       "      <td>-118.335078</td>\n",
       "      <td>POINT (6460131.596 1830749.046)</td>\n",
       "      <td></td>\n",
       "    </tr>\n",
       "    <tr>\n",
       "      <th>26</th>\n",
       "      <td>EXPO</td>\n",
       "      <td>806</td>\n",
       "      <td>Farmdale Station</td>\n",
       "      <td>34.023981</td>\n",
       "      <td>-118.346095</td>\n",
       "      <td>POINT (6456795.070 1831289.858)</td>\n",
       "      <td></td>\n",
       "    </tr>\n",
       "    <tr>\n",
       "      <th>27</th>\n",
       "      <td>EXPO</td>\n",
       "      <td>806</td>\n",
       "      <td>Expo / La Brea / Ethel Bradley Station</td>\n",
       "      <td>34.024803</td>\n",
       "      <td>-118.355159</td>\n",
       "      <td>POINT (6454049.620 1831598.579)</td>\n",
       "      <td></td>\n",
       "    </tr>\n",
       "    <tr>\n",
       "      <th>28</th>\n",
       "      <td>EXPO</td>\n",
       "      <td>806</td>\n",
       "      <td>La Cienega / Jefferson Station</td>\n",
       "      <td>34.026355</td>\n",
       "      <td>-118.372120</td>\n",
       "      <td>POINT (6448912.366 1832181.972)</td>\n",
       "      <td></td>\n",
       "    </tr>\n",
       "    <tr>\n",
       "      <th>29</th>\n",
       "      <td>EXPO</td>\n",
       "      <td>806</td>\n",
       "      <td>Culver City Station</td>\n",
       "      <td>34.027896</td>\n",
       "      <td>-118.388986</td>\n",
       "      <td>POINT (6443804.075 1832762.116)</td>\n",
       "      <td></td>\n",
       "    </tr>\n",
       "  </tbody>\n",
       "</table>\n",
       "</div>"
      ],
      "text/plain": [
       "    LINE  LINENUM                                 STATION        LAT  \\\n",
       "20  EXPO      806         LATTC / Ortho Institute Station  34.029112   \n",
       "21  EXPO      806                 Jefferson / USC Station  34.022123   \n",
       "22  EXPO      806                 Expo Park / USC Station  34.018227   \n",
       "23  EXPO      806                  Expo / Vermont Station  34.018245   \n",
       "24  EXPO      806                  Expo / Western Station  34.018331   \n",
       "25  EXPO      806                 Expo / Crenshaw Station  34.022526   \n",
       "26  EXPO      806                        Farmdale Station  34.023981   \n",
       "27  EXPO      806  Expo / La Brea / Ethel Bradley Station  34.024803   \n",
       "28  EXPO      806          La Cienega / Jefferson Station  34.026355   \n",
       "29  EXPO      806                     Culver City Station  34.027896   \n",
       "\n",
       "          LONG                         geometry color  \n",
       "20 -118.273603  POINT (6478766.175 1833089.413)        \n",
       "21 -118.278118  POINT (6477391.116 1830549.740)        \n",
       "22 -118.285734  POINT (6475079.285 1829138.386)        \n",
       "23 -118.291540  POINT (6473319.888 1829149.989)        \n",
       "24 -118.308910  POINT (6468056.285 1829197.007)        \n",
       "25 -118.335078  POINT (6460131.596 1830749.046)        \n",
       "26 -118.346095  POINT (6456795.070 1831289.858)        \n",
       "27 -118.355159  POINT (6454049.620 1831598.579)        \n",
       "28 -118.372120  POINT (6448912.366 1832181.972)        \n",
       "29 -118.388986  POINT (6443804.075 1832762.116)        "
      ]
     },
     "execution_count": 52,
     "metadata": {},
     "output_type": "execute_result"
    }
   ],
   "source": [
    "# display rows that match a query\n",
    "metro_trimmed.loc[metro['LINE'] == 'EXPO']"
   ]
  },
  {
   "cell_type": "markdown",
   "metadata": {},
   "source": [
    "## Update a column based on a query on another column"
   ]
  },
  {
   "cell_type": "code",
   "execution_count": 53,
   "metadata": {},
   "outputs": [
    {
     "name": "stderr",
     "output_type": "stream",
     "text": [
      "/opt/conda/lib/python3.8/site-packages/geopandas/geodataframe.py:853: SettingWithCopyWarning: \n",
      "A value is trying to be set on a copy of a slice from a DataFrame.\n",
      "Try using .loc[row_indexer,col_indexer] = value instead\n",
      "\n",
      "See the caveats in the documentation: https://pandas.pydata.org/pandas-docs/stable/user_guide/indexing.html#returning-a-view-versus-a-copy\n",
      "  super(GeoDataFrame, self).__setitem__(key, value)\n"
     ]
    }
   ],
   "source": [
    "metro_trimmed.loc[metro['LINE'] == 'EXPO', 'color'] = 'orange'"
   ]
  },
  {
   "cell_type": "code",
   "execution_count": 54,
   "metadata": {},
   "outputs": [],
   "source": [
    "metro_trimmed.loc[metro['LINE'] == 'Blue', 'color'] = 'blue'\n",
    "metro_trimmed.loc[metro['LINE'] == 'Blue/EXPO', 'color'] = 'cadetblue'\n",
    "metro_trimmed.loc[metro['LINE'] == 'Red', 'color'] = 'red'\n",
    "metro_trimmed.loc[metro['LINE'] == 'Red/Purple', 'color'] = 'darkred'\n",
    "metro_trimmed.loc[metro['LINE'] == 'Purple', 'color'] = 'purple'\n",
    "metro_trimmed.loc[metro['LINE'] == 'Green', 'color'] = 'green'\n",
    "metro_trimmed.loc[metro['LINE'] == 'Gold', 'color'] = 'beige'\n",
    "\n"
   ]
  },
  {
   "cell_type": "code",
   "execution_count": 56,
   "metadata": {},
   "outputs": [
    {
     "data": {
      "text/html": [
       "<div>\n",
       "<style scoped>\n",
       "    .dataframe tbody tr th:only-of-type {\n",
       "        vertical-align: middle;\n",
       "    }\n",
       "\n",
       "    .dataframe tbody tr th {\n",
       "        vertical-align: top;\n",
       "    }\n",
       "\n",
       "    .dataframe thead th {\n",
       "        text-align: right;\n",
       "    }\n",
       "</style>\n",
       "<table border=\"1\" class=\"dataframe\">\n",
       "  <thead>\n",
       "    <tr style=\"text-align: right;\">\n",
       "      <th></th>\n",
       "      <th>LINE</th>\n",
       "      <th>LINENUM</th>\n",
       "      <th>STATION</th>\n",
       "      <th>LAT</th>\n",
       "      <th>LONG</th>\n",
       "      <th>geometry</th>\n",
       "      <th>color</th>\n",
       "    </tr>\n",
       "  </thead>\n",
       "  <tbody>\n",
       "    <tr>\n",
       "      <th>60</th>\n",
       "      <td>Green</td>\n",
       "      <td>803</td>\n",
       "      <td>Lakewood Blvd Station</td>\n",
       "      <td>33.913070</td>\n",
       "      <td>-118.140600</td>\n",
       "      <td>POINT (6519006.383 1790776.264)</td>\n",
       "      <td>green</td>\n",
       "    </tr>\n",
       "    <tr>\n",
       "      <th>22</th>\n",
       "      <td>EXPO</td>\n",
       "      <td>806</td>\n",
       "      <td>Expo Park / USC Station</td>\n",
       "      <td>34.018227</td>\n",
       "      <td>-118.285734</td>\n",
       "      <td>POINT (6475079.285 1829138.386)</td>\n",
       "      <td>orange</td>\n",
       "    </tr>\n",
       "    <tr>\n",
       "      <th>26</th>\n",
       "      <td>EXPO</td>\n",
       "      <td>806</td>\n",
       "      <td>Farmdale Station</td>\n",
       "      <td>34.023981</td>\n",
       "      <td>-118.346095</td>\n",
       "      <td>POINT (6456795.070 1831289.858)</td>\n",
       "      <td>orange</td>\n",
       "    </tr>\n",
       "    <tr>\n",
       "      <th>70</th>\n",
       "      <td>Gold</td>\n",
       "      <td>804</td>\n",
       "      <td>Union Station - Metro Gold Line</td>\n",
       "      <td>34.056061</td>\n",
       "      <td>-118.234759</td>\n",
       "      <td>POINT (6490558.616 1842866.895)</td>\n",
       "      <td>beige</td>\n",
       "    </tr>\n",
       "    <tr>\n",
       "      <th>4</th>\n",
       "      <td>Blue</td>\n",
       "      <td>801</td>\n",
       "      <td>Willow Street Station</td>\n",
       "      <td>33.807079</td>\n",
       "      <td>-118.189834</td>\n",
       "      <td>POINT (6503995.170 1752228.119)</td>\n",
       "      <td>blue</td>\n",
       "    </tr>\n",
       "  </tbody>\n",
       "</table>\n",
       "</div>"
      ],
      "text/plain": [
       "     LINE  LINENUM                          STATION        LAT        LONG  \\\n",
       "60  Green      803            Lakewood Blvd Station  33.913070 -118.140600   \n",
       "22   EXPO      806          Expo Park / USC Station  34.018227 -118.285734   \n",
       "26   EXPO      806                 Farmdale Station  34.023981 -118.346095   \n",
       "70   Gold      804  Union Station - Metro Gold Line  34.056061 -118.234759   \n",
       "4    Blue      801            Willow Street Station  33.807079 -118.189834   \n",
       "\n",
       "                           geometry   color  \n",
       "60  POINT (6519006.383 1790776.264)   green  \n",
       "22  POINT (6475079.285 1829138.386)  orange  \n",
       "26  POINT (6456795.070 1831289.858)  orange  \n",
       "70  POINT (6490558.616 1842866.895)   beige  \n",
       "4   POINT (6503995.170 1752228.119)    blue  "
      ]
     },
     "execution_count": 56,
     "metadata": {},
     "output_type": "execute_result"
    }
   ],
   "source": [
    "metro_trimmed.sample(5)"
   ]
  },
  {
   "cell_type": "code",
   "execution_count": 59,
   "metadata": {},
   "outputs": [
    {
     "data": {
      "text/html": [
       "<div style=\"width:100%;\"><div style=\"position:relative;width:100%;height:0;padding-bottom:60%;\"><span style=\"color:#565656\">Make this Notebook Trusted to load map: File -> Trust Notebook</span><iframe src=\"about:blank\" style=\"position:absolute;width:100%;height:100%;left:0;top:0;border:none !important;\" data-html=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 onload=\"this.contentDocument.open();this.contentDocument.write(atob(this.getAttribute('data-html')));this.contentDocument.close();\" allowfullscreen webkitallowfullscreen mozallowfullscreen></iframe></div></div>"
      ],
      "text/plain": [
       "<folium.folium.Map at 0x7fca8a476850>"
      ]
     },
     "execution_count": 59,
     "metadata": {},
     "output_type": "execute_result"
    }
   ],
   "source": [
    "# reset the map\n",
    "m = folium.Map(location=[latitude,longitude], tiles='Stamen Terrain', zoom_start=10)\n",
    "\n",
    "# add the stations with color icons\n",
    "for index, row in metro_trimmed.iterrows():\n",
    "    folium.Marker([row.LAT,row.LONG], popup=row.STATION, tooltip=row.STATION,icon=folium.Icon(color=row.color)).add_to(m)\n",
    "m"
   ]
  },
  {
   "cell_type": "code",
   "execution_count": null,
   "metadata": {},
   "outputs": [],
   "source": [
    "m.save('metro.html')"
   ]
  },
  {
   "cell_type": "code",
   "execution_count": null,
   "metadata": {},
   "outputs": [],
   "source": []
  }
 ],
 "metadata": {
  "kernelspec": {
   "display_name": "Python 3",
   "language": "python",
   "name": "python3"
  },
  "language_info": {
   "codemirror_mode": {
    "name": "ipython",
    "version": 3
   },
   "file_extension": ".py",
   "mimetype": "text/x-python",
   "name": "python",
   "nbconvert_exporter": "python",
   "pygments_lexer": "ipython3",
   "version": "3.8.5"
  },
  "toc": {
   "base_numbering": 1,
   "nav_menu": {},
   "number_sections": true,
   "sideBar": true,
   "skip_h1_title": false,
   "title_cell": "Table of Contents",
   "title_sidebar": "Contents",
   "toc_cell": true,
   "toc_position": {
    "height": "757px",
    "left": "523px",
    "top": "110px",
    "width": "384px"
   },
   "toc_section_display": true,
   "toc_window_display": true
  }
 },
 "nbformat": 4,
 "nbformat_minor": 4
}
