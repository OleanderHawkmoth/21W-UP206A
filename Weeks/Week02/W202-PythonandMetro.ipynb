{
 "cells": [
  {
   "cell_type": "markdown",
   "metadata": {
    "toc": true
   },
   "source": [
    "<h1>Table of Contents<span class=\"tocSkip\"></span></h1>\n",
    "<div class=\"toc\"><ul class=\"toc-item\"><li><span><a href=\"#Week-2:-Python-and-Metro\" data-toc-modified-id=\"Week-2:-Python-and-Metro-1\"><span class=\"toc-item-num\">1&nbsp;&nbsp;</span>Week 2: Python and Metro</a></span><ul class=\"toc-item\"><li><span><a href=\"#A-quick-geopandas-teaser\" data-toc-modified-id=\"A-quick-geopandas-teaser-1.1\"><span class=\"toc-item-num\">1.1&nbsp;&nbsp;</span>A quick geopandas teaser</a></span></li><li><span><a href=\"#Pandas-Data-Types\" data-toc-modified-id=\"Pandas-Data-Types-1.2\"><span class=\"toc-item-num\">1.2&nbsp;&nbsp;</span>Pandas Data Types</a></span></li><li><span><a href=\"#Data-exploration\" data-toc-modified-id=\"Data-exploration-1.3\"><span class=\"toc-item-num\">1.3&nbsp;&nbsp;</span>Data exploration</a></span><ul class=\"toc-item\"><li><span><a href=\"#Counting-unique-values-in-a-column\" data-toc-modified-id=\"Counting-unique-values-in-a-column-1.3.1\"><span class=\"toc-item-num\">1.3.1&nbsp;&nbsp;</span>Counting unique values in a column</a></span></li><li><span><a href=\"#Trimming-the-data\" data-toc-modified-id=\"Trimming-the-data-1.3.2\"><span class=\"toc-item-num\">1.3.2&nbsp;&nbsp;</span>Trimming the data</a></span></li><li><span><a href=\"#Subsetting/querying/filtering-the-data\" data-toc-modified-id=\"Subsetting/querying/filtering-the-data-1.3.3\"><span class=\"toc-item-num\">1.3.3&nbsp;&nbsp;</span>Subsetting/querying/filtering the data</a></span></li></ul></li><li><span><a href=\"#Plotting\" data-toc-modified-id=\"Plotting-1.4\"><span class=\"toc-item-num\">1.4&nbsp;&nbsp;</span>Plotting</a></span></li><li><span><a href=\"#A-prettier-plot\" data-toc-modified-id=\"A-prettier-plot-1.5\"><span class=\"toc-item-num\">1.5&nbsp;&nbsp;</span>A prettier plot</a></span></li><li><span><a href=\"#Back-to-mapping\" data-toc-modified-id=\"Back-to-mapping-1.6\"><span class=\"toc-item-num\">1.6&nbsp;&nbsp;</span>Back to mapping</a></span></li><li><span><a href=\"#Projections\" data-toc-modified-id=\"Projections-1.7\"><span class=\"toc-item-num\">1.7&nbsp;&nbsp;</span>Projections</a></span></li><li><span><a href=\"#Iterating-through-rows-in-a-dataframe\" data-toc-modified-id=\"Iterating-through-rows-in-a-dataframe-1.8\"><span class=\"toc-item-num\">1.8&nbsp;&nbsp;</span>Iterating through rows in a dataframe</a></span></li><li><span><a href=\"#Get-average-lat/lon's\" data-toc-modified-id=\"Get-average-lat/lon's-1.9\"><span class=\"toc-item-num\">1.9&nbsp;&nbsp;</span>Get average lat/lon's</a></span></li><li><span><a href=\"#Mapping-with-folium\" data-toc-modified-id=\"Mapping-with-folium-1.10\"><span class=\"toc-item-num\">1.10&nbsp;&nbsp;</span>Mapping with folium</a></span><ul class=\"toc-item\"><li><span><a href=\"#Adding-point-markers\" data-toc-modified-id=\"Adding-point-markers-1.10.1\"><span class=\"toc-item-num\">1.10.1&nbsp;&nbsp;</span>Adding point markers</a></span></li></ul></li><li><span><a href=\"#Unique-values-in-a-column\" data-toc-modified-id=\"Unique-values-in-a-column-1.11\"><span class=\"toc-item-num\">1.11&nbsp;&nbsp;</span>Unique values in a column</a></span></li><li><span><a href=\"#Update-a-column-based-on-a-query-on-another-column\" data-toc-modified-id=\"Update-a-column-based-on-a-query-on-another-column-1.12\"><span class=\"toc-item-num\">1.12&nbsp;&nbsp;</span>Update a column based on a query on another column</a></span></li></ul></li></ul></div>"
   ]
  },
  {
   "cell_type": "markdown",
   "metadata": {
    "slideshow": {
     "slide_type": "slide"
    }
   },
   "source": [
    "# Week 2: Python and Metro"
   ]
  },
  {
   "cell_type": "markdown",
   "metadata": {},
   "source": [
    "## A quick geopandas teaser\n",
    "Following our Python bootcamp last week (was it boring? exhilerating? a bit of both?), let's put that programming knowledge into action, using and creating data that reflects a real urban situation.\n",
    "\n",
    "We start by importing a new module `geopandas`. This is a pretty high level geospatial library, widely used by spatial data scientists all over the world. Don't worry about it too much for now, but know that it allows us to import a variety of spatial data formats, and plot them on a map."
   ]
  },
  {
   "cell_type": "code",
   "execution_count": 1,
   "metadata": {},
   "outputs": [],
   "source": [
    "import geopandas as gpd"
   ]
  },
  {
   "cell_type": "markdown",
   "metadata": {
    "slideshow": {
     "slide_type": "slide"
    }
   },
   "source": [
    "Next, we import some data. In this case, it is a [shapefile](https://desktop.arcgis.com/en/arcmap/latest/manage-data/shapefiles/what-is-a-shapefile.htm) I downloaded from the [LA Metro's Developer web portal](https://developer.metro.net/bus-rail-gis-data/). Notice that I am using relative paths to point to where the data is located in. the `../` indicates that it is one folder level above, so `../../` takes us two levels above (the project root), and then into the data folder there."
   ]
  },
  {
   "cell_type": "code",
   "execution_count": 29,
   "metadata": {},
   "outputs": [],
   "source": [
    "metro = gpd.read_file('../../data/MetroStations/Stations_All_0715.shp')"
   ]
  },
  {
   "cell_type": "markdown",
   "metadata": {
    "slideshow": {
     "slide_type": "slide"
    }
   },
   "source": [
    "<div class=\"alert alert-info\">\n",
    "\n",
    "Note that the reason we use `geopandas` instead of `pandas` (other than the fact that we love maps) is that `pandas` cannot read shapefiles, whereas `geopandas` can.\n",
    "    \n",
    "</div>"
   ]
  },
  {
   "cell_type": "code",
   "execution_count": 3,
   "metadata": {},
   "outputs": [
    {
     "data": {
      "text/plain": [
       "geopandas.geodataframe.GeoDataFrame"
      ]
     },
     "execution_count": 3,
     "metadata": {},
     "output_type": "execute_result"
    }
   ],
   "source": [
    "# what's the data type?\n",
    "type(metro)"
   ]
  },
  {
   "cell_type": "code",
   "execution_count": 4,
   "metadata": {},
   "outputs": [
    {
     "data": {
      "text/html": [
       "<div>\n",
       "<style scoped>\n",
       "    .dataframe tbody tr th:only-of-type {\n",
       "        vertical-align: middle;\n",
       "    }\n",
       "\n",
       "    .dataframe tbody tr th {\n",
       "        vertical-align: top;\n",
       "    }\n",
       "\n",
       "    .dataframe thead th {\n",
       "        text-align: right;\n",
       "    }\n",
       "</style>\n",
       "<table border=\"1\" class=\"dataframe\">\n",
       "  <thead>\n",
       "    <tr style=\"text-align: right;\">\n",
       "      <th></th>\n",
       "      <th>LINE</th>\n",
       "      <th>LINENUM</th>\n",
       "      <th>LINENUM2</th>\n",
       "      <th>STNSEQ</th>\n",
       "      <th>STNSEQ2</th>\n",
       "      <th>DIR</th>\n",
       "      <th>STOPNUM</th>\n",
       "      <th>STATION</th>\n",
       "      <th>LAT</th>\n",
       "      <th>LONG</th>\n",
       "      <th>TPIS_NAME</th>\n",
       "      <th>POINT_X</th>\n",
       "      <th>POINT_Y</th>\n",
       "      <th>geometry</th>\n",
       "    </tr>\n",
       "  </thead>\n",
       "  <tbody>\n",
       "    <tr>\n",
       "      <th>0</th>\n",
       "      <td>Blue</td>\n",
       "      <td>801</td>\n",
       "      <td>0</td>\n",
       "      <td>21</td>\n",
       "      <td>0</td>\n",
       "      <td>None</td>\n",
       "      <td>80101</td>\n",
       "      <td>Downtown Long Beach Station</td>\n",
       "      <td>33.768071</td>\n",
       "      <td>-118.192921</td>\n",
       "      <td>Long Bch</td>\n",
       "      <td>6.503030e+06</td>\n",
       "      <td>1.738034e+06</td>\n",
       "      <td>POINT (6503030.095 1738033.828)</td>\n",
       "    </tr>\n",
       "    <tr>\n",
       "      <th>1</th>\n",
       "      <td>Blue</td>\n",
       "      <td>801</td>\n",
       "      <td>0</td>\n",
       "      <td>22</td>\n",
       "      <td>0</td>\n",
       "      <td>North</td>\n",
       "      <td>80102</td>\n",
       "      <td>Pacific Ave Station</td>\n",
       "      <td>33.772258</td>\n",
       "      <td>-118.193700</td>\n",
       "      <td>Pacific</td>\n",
       "      <td>6.502796e+06</td>\n",
       "      <td>1.739558e+06</td>\n",
       "      <td>POINT (6502796.262 1739558.050)</td>\n",
       "    </tr>\n",
       "    <tr>\n",
       "      <th>2</th>\n",
       "      <td>Blue</td>\n",
       "      <td>801</td>\n",
       "      <td>0</td>\n",
       "      <td>18</td>\n",
       "      <td>0</td>\n",
       "      <td>None</td>\n",
       "      <td>80105</td>\n",
       "      <td>Anaheim Street Station</td>\n",
       "      <td>33.781830</td>\n",
       "      <td>-118.189384</td>\n",
       "      <td>Anaheim</td>\n",
       "      <td>6.504115e+06</td>\n",
       "      <td>1.743039e+06</td>\n",
       "      <td>POINT (6504114.567 1743039.068)</td>\n",
       "    </tr>\n",
       "    <tr>\n",
       "      <th>3</th>\n",
       "      <td>Blue</td>\n",
       "      <td>801</td>\n",
       "      <td>0</td>\n",
       "      <td>17</td>\n",
       "      <td>0</td>\n",
       "      <td>None</td>\n",
       "      <td>80106</td>\n",
       "      <td>Pacific Coast Hwy Station</td>\n",
       "      <td>33.789090</td>\n",
       "      <td>-118.189382</td>\n",
       "      <td>PCH</td>\n",
       "      <td>6.504120e+06</td>\n",
       "      <td>1.745681e+06</td>\n",
       "      <td>POINT (6504120.152 1745681.179)</td>\n",
       "    </tr>\n",
       "    <tr>\n",
       "      <th>4</th>\n",
       "      <td>Blue</td>\n",
       "      <td>801</td>\n",
       "      <td>0</td>\n",
       "      <td>16</td>\n",
       "      <td>0</td>\n",
       "      <td>None</td>\n",
       "      <td>80107</td>\n",
       "      <td>Willow Street Station</td>\n",
       "      <td>33.807079</td>\n",
       "      <td>-118.189834</td>\n",
       "      <td>Willow</td>\n",
       "      <td>6.503995e+06</td>\n",
       "      <td>1.752228e+06</td>\n",
       "      <td>POINT (6503995.170 1752228.119)</td>\n",
       "    </tr>\n",
       "  </tbody>\n",
       "</table>\n",
       "</div>"
      ],
      "text/plain": [
       "   LINE  LINENUM  LINENUM2  STNSEQ  STNSEQ2    DIR  STOPNUM  \\\n",
       "0  Blue      801         0      21        0   None    80101   \n",
       "1  Blue      801         0      22        0  North    80102   \n",
       "2  Blue      801         0      18        0   None    80105   \n",
       "3  Blue      801         0      17        0   None    80106   \n",
       "4  Blue      801         0      16        0   None    80107   \n",
       "\n",
       "                       STATION        LAT        LONG TPIS_NAME       POINT_X  \\\n",
       "0  Downtown Long Beach Station  33.768071 -118.192921  Long Bch  6.503030e+06   \n",
       "1          Pacific Ave Station  33.772258 -118.193700   Pacific  6.502796e+06   \n",
       "2       Anaheim Street Station  33.781830 -118.189384   Anaheim  6.504115e+06   \n",
       "3    Pacific Coast Hwy Station  33.789090 -118.189382       PCH  6.504120e+06   \n",
       "4        Willow Street Station  33.807079 -118.189834    Willow  6.503995e+06   \n",
       "\n",
       "        POINT_Y                         geometry  \n",
       "0  1.738034e+06  POINT (6503030.095 1738033.828)  \n",
       "1  1.739558e+06  POINT (6502796.262 1739558.050)  \n",
       "2  1.743039e+06  POINT (6504114.567 1743039.068)  \n",
       "3  1.745681e+06  POINT (6504120.152 1745681.179)  \n",
       "4  1.752228e+06  POINT (6503995.170 1752228.119)  "
      ]
     },
     "execution_count": 4,
     "metadata": {},
     "output_type": "execute_result"
    }
   ],
   "source": [
    "# what does the data look like? \n",
    "metro.head()"
   ]
  },
  {
   "cell_type": "markdown",
   "metadata": {
    "slideshow": {
     "slide_type": "slide"
    }
   },
   "source": [
    "Ah! Surprise, surprise. Welcome to your first look at a pandas dataframe. We will cover dataframes more extensively in later sessions, but know that a python dataframe is like an excel spreadsheet. \n",
    "\n",
    "The `head()` command shows us the first 5 rows of the dataframe. You can also use `tail()` and `sample()`. Try these commands in the cells below:"
   ]
  },
  {
   "cell_type": "code",
   "execution_count": 5,
   "metadata": {},
   "outputs": [],
   "source": [
    "# try tail()\n"
   ]
  },
  {
   "cell_type": "code",
   "execution_count": 7,
   "metadata": {},
   "outputs": [],
   "source": [
    "# try sample()\n"
   ]
  },
  {
   "cell_type": "markdown",
   "metadata": {
    "slideshow": {
     "slide_type": "slide"
    }
   },
   "source": [
    "## Pandas Data Types\n",
    "\n",
    "Let's look at the data types for each column. You can collectively get all the datatypes for each column in a dataframe using the `dtypes` command."
   ]
  },
  {
   "cell_type": "code",
   "execution_count": 8,
   "metadata": {
    "scrolled": true
   },
   "outputs": [
    {
     "data": {
      "text/plain": [
       "LINE           object\n",
       "LINENUM         int64\n",
       "LINENUM2        int64\n",
       "STNSEQ          int64\n",
       "STNSEQ2         int64\n",
       "DIR            object\n",
       "STOPNUM         int64\n",
       "STATION        object\n",
       "LAT           float64\n",
       "LONG          float64\n",
       "TPIS_NAME      object\n",
       "POINT_X       float64\n",
       "POINT_Y       float64\n",
       "geometry     geometry\n",
       "dtype: object"
      ]
     },
     "execution_count": 8,
     "metadata": {},
     "output_type": "execute_result"
    }
   ],
   "source": [
    "metro.dtypes"
   ]
  },
  {
   "cell_type": "markdown",
   "metadata": {
    "slideshow": {
     "slide_type": "slide"
    }
   },
   "source": [
    "But there is better command that will get you more info. Yes, the `info` command."
   ]
  },
  {
   "cell_type": "code",
   "execution_count": 9,
   "metadata": {
    "slideshow": {
     "slide_type": "fragment"
    }
   },
   "outputs": [
    {
     "name": "stdout",
     "output_type": "stream",
     "text": [
      "<class 'geopandas.geodataframe.GeoDataFrame'>\n",
      "RangeIndex: 83 entries, 0 to 82\n",
      "Data columns (total 14 columns):\n",
      " #   Column     Non-Null Count  Dtype   \n",
      "---  ------     --------------  -----   \n",
      " 0   LINE       83 non-null     object  \n",
      " 1   LINENUM    83 non-null     int64   \n",
      " 2   LINENUM2   83 non-null     int64   \n",
      " 3   STNSEQ     83 non-null     int64   \n",
      " 4   STNSEQ2    83 non-null     int64   \n",
      " 5   DIR        3 non-null      object  \n",
      " 6   STOPNUM    83 non-null     int64   \n",
      " 7   STATION    83 non-null     object  \n",
      " 8   LAT        83 non-null     float64 \n",
      " 9   LONG       83 non-null     float64 \n",
      " 10  TPIS_NAME  83 non-null     object  \n",
      " 11  POINT_X    83 non-null     float64 \n",
      " 12  POINT_Y    83 non-null     float64 \n",
      " 13  geometry   83 non-null     geometry\n",
      "dtypes: float64(4), geometry(1), int64(5), object(4)\n",
      "memory usage: 9.2+ KB\n"
     ]
    }
   ],
   "source": [
    "# dataframe info\n",
    "metro.info()"
   ]
  },
  {
   "cell_type": "markdown",
   "metadata": {
    "slideshow": {
     "slide_type": "slide"
    }
   },
   "source": [
    "Wait. That looks different from what we have worked on! As it turns out, pandas datatypes are slightly different from the raw python datatypes. Check out the table below:"
   ]
  },
  {
   "cell_type": "markdown",
   "metadata": {
    "slideshow": {
     "slide_type": "fragment"
    }
   },
   "source": [
    "<table class=\"table table-striped\">\n",
    "  <thead>\n",
    "    <tr>\n",
    "      <th>Pandas Type</th>\n",
    "      <th>Native Python Type</th>\n",
    "      <th>Description</th>\n",
    "    </tr>\n",
    "  </thead>\n",
    "  <tbody>\n",
    "    <tr>\n",
    "      <td>object</td>\n",
    "      <td>string</td>\n",
    "      <td>The most general dtype. Will be assigned to your column if column has mixed types (numbers and strings).</td>\n",
    "    </tr>\n",
    "    <tr>\n",
    "      <td>int64</td>\n",
    "      <td>int</td>\n",
    "      <td>Numeric characters. 64 refers to the memory allocated to hold this character.</td>\n",
    "    </tr>\n",
    "    <tr>\n",
    "      <td>float64</td>\n",
    "      <td>float</td>\n",
    "      <td>Numeric characters with decimals. If a column contains numbers and NaNs (see below), pandas will default to float64, in case your missing value has a decimal.</td>\n",
    "    </tr>\n",
    "    <tr>\n",
    "      <td>datetime64, timedelta[ns]</td>\n",
    "      <td>N/A (but see the <a href=\"http://doc.python.org/2/library/datetime.html\">datetime</a> module in Python’s standard library)</td>\n",
    "      <td>Values meant to hold time data. Look into these for time series experiments.</td>\n",
    "    </tr>\n",
    "  </tbody>\n",
    "</table>"
   ]
  },
  {
   "cell_type": "markdown",
   "metadata": {
    "slideshow": {
     "slide_type": "slide"
    }
   },
   "source": [
    "## Data exploration\n",
    "\n",
    "Part of data exploration is learning what is in your data. How many rows are there? What are the columns? How many rows represent a particular slice of the data?"
   ]
  },
  {
   "cell_type": "code",
   "execution_count": 11,
   "metadata": {
    "slideshow": {
     "slide_type": "fragment"
    }
   },
   "outputs": [
    {
     "data": {
      "text/plain": [
       "(83, 14)"
      ]
     },
     "execution_count": 11,
     "metadata": {},
     "output_type": "execute_result"
    }
   ],
   "source": [
    "# how many rows and columns?\n",
    "metro.shape"
   ]
  },
  {
   "cell_type": "code",
   "execution_count": 13,
   "metadata": {
    "slideshow": {
     "slide_type": "fragment"
    }
   },
   "outputs": [
    {
     "data": {
      "text/plain": [
       "['LINE',\n",
       " 'LINENUM',\n",
       " 'LINENUM2',\n",
       " 'STNSEQ',\n",
       " 'STNSEQ2',\n",
       " 'DIR',\n",
       " 'STOPNUM',\n",
       " 'STATION',\n",
       " 'LAT',\n",
       " 'LONG',\n",
       " 'TPIS_NAME',\n",
       " 'POINT_X',\n",
       " 'POINT_Y',\n",
       " 'geometry']"
      ]
     },
     "execution_count": 13,
     "metadata": {},
     "output_type": "execute_result"
    }
   ],
   "source": [
    "# what are the columns?\n",
    "metro.columns.to_list()"
   ]
  },
  {
   "cell_type": "markdown",
   "metadata": {
    "slideshow": {
     "slide_type": "slide"
    }
   },
   "source": [
    "### Counting unique values in a column\n",
    "\n",
    "First, learn how to get values for a single column."
   ]
  },
  {
   "cell_type": "code",
   "execution_count": 14,
   "metadata": {
    "slideshow": {
     "slide_type": "fragment"
    }
   },
   "outputs": [
    {
     "data": {
      "text/plain": [
       "0     Blue\n",
       "1     Blue\n",
       "2     Blue\n",
       "3     Blue\n",
       "4     Blue\n",
       "      ... \n",
       "78    Gold\n",
       "79    Gold\n",
       "80    Gold\n",
       "81    Gold\n",
       "82    Gold\n",
       "Name: LINE, Length: 83, dtype: object"
      ]
     },
     "execution_count": 14,
     "metadata": {},
     "output_type": "execute_result"
    }
   ],
   "source": [
    "# single column\n",
    "metro['LINE']"
   ]
  },
  {
   "cell_type": "markdown",
   "metadata": {
    "slideshow": {
     "slide_type": "slide"
    }
   },
   "source": [
    "But what if you want to know how many stations there are for each line?"
   ]
  },
  {
   "cell_type": "code",
   "execution_count": 19,
   "metadata": {
    "scrolled": false,
    "slideshow": {
     "slide_type": "fragment"
    }
   },
   "outputs": [
    {
     "data": {
      "text/plain": [
       "Gold          21\n",
       "Blue          20\n",
       "Green         14\n",
       "EXPO          10\n",
       "Red            8\n",
       "Red/Purple     6\n",
       "Purple         2\n",
       "Blue/EXPO      2\n",
       "Name: LINE, dtype: int64"
      ]
     },
     "execution_count": 19,
     "metadata": {},
     "output_type": "execute_result"
    }
   ],
   "source": [
    "metro['LINE'].value_counts()"
   ]
  },
  {
   "cell_type": "markdown",
   "metadata": {
    "slideshow": {
     "slide_type": "slide"
    }
   },
   "source": [
    "Why don't we plot it?"
   ]
  },
  {
   "cell_type": "code",
   "execution_count": 20,
   "metadata": {
    "scrolled": false,
    "slideshow": {
     "slide_type": "fragment"
    }
   },
   "outputs": [
    {
     "data": {
      "text/plain": [
       "<matplotlib.axes._subplots.AxesSubplot at 0x7f0109403610>"
      ]
     },
     "execution_count": 20,
     "metadata": {},
     "output_type": "execute_result"
    },
    {
     "data": {
      "image/png": "[encoded data removed]",
      "text/plain": [
       "<Figure size 432x288 with 1 Axes>"
      ]
     },
     "metadata": {
      "needs_background": "light"
     },
     "output_type": "display_data"
    }
   ],
   "source": [
    "metro['LINE'].value_counts().plot.bar()"
   ]
  },
  {
   "cell_type": "code",
   "execution_count": 15,
   "metadata": {
    "slideshow": {
     "slide_type": "fragment"
    }
   },
   "outputs": [],
   "source": [
    "# try it yourself. find the unique values for LINENUM\n"
   ]
  },
  {
   "cell_type": "markdown",
   "metadata": {
    "slideshow": {
     "slide_type": "slide"
    }
   },
   "source": [
    "### Trimming the data\n",
    "Oftentimes, we import data and it has too many columns. It is always good practice to elimnate those rows that you are sure you will not use, and keep your data \"clean\" and \"mean.\"\n",
    "\n"
   ]
  },
  {
   "cell_type": "code",
   "execution_count": 21,
   "metadata": {
    "slideshow": {
     "slide_type": "fragment"
    }
   },
   "outputs": [
    {
     "data": {
      "text/html": [
       "<div>\n",
       "<style scoped>\n",
       "    .dataframe tbody tr th:only-of-type {\n",
       "        vertical-align: middle;\n",
       "    }\n",
       "\n",
       "    .dataframe tbody tr th {\n",
       "        vertical-align: top;\n",
       "    }\n",
       "\n",
       "    .dataframe thead th {\n",
       "        text-align: right;\n",
       "    }\n",
       "</style>\n",
       "<table border=\"1\" class=\"dataframe\">\n",
       "  <thead>\n",
       "    <tr style=\"text-align: right;\">\n",
       "      <th></th>\n",
       "      <th>LINE</th>\n",
       "      <th>LINENUM</th>\n",
       "      <th>STATION</th>\n",
       "      <th>LAT</th>\n",
       "      <th>LONG</th>\n",
       "      <th>geometry</th>\n",
       "    </tr>\n",
       "  </thead>\n",
       "  <tbody>\n",
       "    <tr>\n",
       "      <th>0</th>\n",
       "      <td>Blue</td>\n",
       "      <td>801</td>\n",
       "      <td>Downtown Long Beach Station</td>\n",
       "      <td>33.768071</td>\n",
       "      <td>-118.192921</td>\n",
       "      <td>POINT (6503030.095 1738033.828)</td>\n",
       "    </tr>\n",
       "    <tr>\n",
       "      <th>1</th>\n",
       "      <td>Blue</td>\n",
       "      <td>801</td>\n",
       "      <td>Pacific Ave Station</td>\n",
       "      <td>33.772258</td>\n",
       "      <td>-118.193700</td>\n",
       "      <td>POINT (6502796.262 1739558.050)</td>\n",
       "    </tr>\n",
       "    <tr>\n",
       "      <th>2</th>\n",
       "      <td>Blue</td>\n",
       "      <td>801</td>\n",
       "      <td>Anaheim Street Station</td>\n",
       "      <td>33.781830</td>\n",
       "      <td>-118.189384</td>\n",
       "      <td>POINT (6504114.567 1743039.068)</td>\n",
       "    </tr>\n",
       "    <tr>\n",
       "      <th>3</th>\n",
       "      <td>Blue</td>\n",
       "      <td>801</td>\n",
       "      <td>Pacific Coast Hwy Station</td>\n",
       "      <td>33.789090</td>\n",
       "      <td>-118.189382</td>\n",
       "      <td>POINT (6504120.152 1745681.179)</td>\n",
       "    </tr>\n",
       "    <tr>\n",
       "      <th>4</th>\n",
       "      <td>Blue</td>\n",
       "      <td>801</td>\n",
       "      <td>Willow Street Station</td>\n",
       "      <td>33.807079</td>\n",
       "      <td>-118.189834</td>\n",
       "      <td>POINT (6503995.170 1752228.119)</td>\n",
       "    </tr>\n",
       "    <tr>\n",
       "      <th>...</th>\n",
       "      <td>...</td>\n",
       "      <td>...</td>\n",
       "      <td>...</td>\n",
       "      <td>...</td>\n",
       "      <td>...</td>\n",
       "      <td>...</td>\n",
       "    </tr>\n",
       "    <tr>\n",
       "      <th>78</th>\n",
       "      <td>Gold</td>\n",
       "      <td>804</td>\n",
       "      <td>Del Mar Station</td>\n",
       "      <td>34.141910</td>\n",
       "      <td>-118.148214</td>\n",
       "      <td>POINT (6516818.973 1874058.989)</td>\n",
       "    </tr>\n",
       "    <tr>\n",
       "      <th>79</th>\n",
       "      <td>Gold</td>\n",
       "      <td>804</td>\n",
       "      <td>Memorial Park Station</td>\n",
       "      <td>34.148356</td>\n",
       "      <td>-118.147512</td>\n",
       "      <td>POINT (6517034.832 1876404.492)</td>\n",
       "    </tr>\n",
       "    <tr>\n",
       "      <th>80</th>\n",
       "      <td>Gold</td>\n",
       "      <td>804</td>\n",
       "      <td>Lake Station</td>\n",
       "      <td>34.151806</td>\n",
       "      <td>-118.131390</td>\n",
       "      <td>POINT (6521914.408 1877653.241)</td>\n",
       "    </tr>\n",
       "    <tr>\n",
       "      <th>81</th>\n",
       "      <td>Gold</td>\n",
       "      <td>804</td>\n",
       "      <td>Allen Station</td>\n",
       "      <td>34.152417</td>\n",
       "      <td>-118.114348</td>\n",
       "      <td>POINT (6527070.744 1877869.293)</td>\n",
       "    </tr>\n",
       "    <tr>\n",
       "      <th>82</th>\n",
       "      <td>Gold</td>\n",
       "      <td>804</td>\n",
       "      <td>Sierra Madre Villa Station</td>\n",
       "      <td>34.147752</td>\n",
       "      <td>-118.081212</td>\n",
       "      <td>POINT (6537094.647 1876161.862)</td>\n",
       "    </tr>\n",
       "  </tbody>\n",
       "</table>\n",
       "<p>83 rows × 6 columns</p>\n",
       "</div>"
      ],
      "text/plain": [
       "    LINE  LINENUM                      STATION        LAT        LONG  \\\n",
       "0   Blue      801  Downtown Long Beach Station  33.768071 -118.192921   \n",
       "1   Blue      801          Pacific Ave Station  33.772258 -118.193700   \n",
       "2   Blue      801       Anaheim Street Station  33.781830 -118.189384   \n",
       "3   Blue      801    Pacific Coast Hwy Station  33.789090 -118.189382   \n",
       "4   Blue      801        Willow Street Station  33.807079 -118.189834   \n",
       "..   ...      ...                          ...        ...         ...   \n",
       "78  Gold      804              Del Mar Station  34.141910 -118.148214   \n",
       "79  Gold      804        Memorial Park Station  34.148356 -118.147512   \n",
       "80  Gold      804                 Lake Station  34.151806 -118.131390   \n",
       "81  Gold      804                Allen Station  34.152417 -118.114348   \n",
       "82  Gold      804   Sierra Madre Villa Station  34.147752 -118.081212   \n",
       "\n",
       "                           geometry  \n",
       "0   POINT (6503030.095 1738033.828)  \n",
       "1   POINT (6502796.262 1739558.050)  \n",
       "2   POINT (6504114.567 1743039.068)  \n",
       "3   POINT (6504120.152 1745681.179)  \n",
       "4   POINT (6503995.170 1752228.119)  \n",
       "..                              ...  \n",
       "78  POINT (6516818.973 1874058.989)  \n",
       "79  POINT (6517034.832 1876404.492)  \n",
       "80  POINT (6521914.408 1877653.241)  \n",
       "81  POINT (6527070.744 1877869.293)  \n",
       "82  POINT (6537094.647 1876161.862)  \n",
       "\n",
       "[83 rows x 6 columns]"
      ]
     },
     "execution_count": 21,
     "metadata": {},
     "output_type": "execute_result"
    }
   ],
   "source": [
    "metro[['LINE','LINENUM','STATION','LAT','LONG','geometry']]"
   ]
  },
  {
   "cell_type": "markdown",
   "metadata": {
    "slideshow": {
     "slide_type": "slide"
    }
   },
   "source": [
    "Wait, why the double square brackets? `[[...]]`\n",
    "\n",
    "The reason for this is that we are feeding the dataframe a list of column names. Another way to do the same thing would be:"
   ]
  },
  {
   "cell_type": "code",
   "execution_count": 22,
   "metadata": {
    "slideshow": {
     "slide_type": "fragment"
    }
   },
   "outputs": [
    {
     "data": {
      "text/html": [
       "<div>\n",
       "<style scoped>\n",
       "    .dataframe tbody tr th:only-of-type {\n",
       "        vertical-align: middle;\n",
       "    }\n",
       "\n",
       "    .dataframe tbody tr th {\n",
       "        vertical-align: top;\n",
       "    }\n",
       "\n",
       "    .dataframe thead th {\n",
       "        text-align: right;\n",
       "    }\n",
       "</style>\n",
       "<table border=\"1\" class=\"dataframe\">\n",
       "  <thead>\n",
       "    <tr style=\"text-align: right;\">\n",
       "      <th></th>\n",
       "      <th>LINE</th>\n",
       "      <th>LINENUM</th>\n",
       "      <th>STATION</th>\n",
       "      <th>LAT</th>\n",
       "      <th>LONG</th>\n",
       "      <th>geometry</th>\n",
       "    </tr>\n",
       "  </thead>\n",
       "  <tbody>\n",
       "    <tr>\n",
       "      <th>0</th>\n",
       "      <td>Blue</td>\n",
       "      <td>801</td>\n",
       "      <td>Downtown Long Beach Station</td>\n",
       "      <td>33.768071</td>\n",
       "      <td>-118.192921</td>\n",
       "      <td>POINT (6503030.095 1738033.828)</td>\n",
       "    </tr>\n",
       "    <tr>\n",
       "      <th>1</th>\n",
       "      <td>Blue</td>\n",
       "      <td>801</td>\n",
       "      <td>Pacific Ave Station</td>\n",
       "      <td>33.772258</td>\n",
       "      <td>-118.193700</td>\n",
       "      <td>POINT (6502796.262 1739558.050)</td>\n",
       "    </tr>\n",
       "    <tr>\n",
       "      <th>2</th>\n",
       "      <td>Blue</td>\n",
       "      <td>801</td>\n",
       "      <td>Anaheim Street Station</td>\n",
       "      <td>33.781830</td>\n",
       "      <td>-118.189384</td>\n",
       "      <td>POINT (6504114.567 1743039.068)</td>\n",
       "    </tr>\n",
       "    <tr>\n",
       "      <th>3</th>\n",
       "      <td>Blue</td>\n",
       "      <td>801</td>\n",
       "      <td>Pacific Coast Hwy Station</td>\n",
       "      <td>33.789090</td>\n",
       "      <td>-118.189382</td>\n",
       "      <td>POINT (6504120.152 1745681.179)</td>\n",
       "    </tr>\n",
       "    <tr>\n",
       "      <th>4</th>\n",
       "      <td>Blue</td>\n",
       "      <td>801</td>\n",
       "      <td>Willow Street Station</td>\n",
       "      <td>33.807079</td>\n",
       "      <td>-118.189834</td>\n",
       "      <td>POINT (6503995.170 1752228.119)</td>\n",
       "    </tr>\n",
       "    <tr>\n",
       "      <th>...</th>\n",
       "      <td>...</td>\n",
       "      <td>...</td>\n",
       "      <td>...</td>\n",
       "      <td>...</td>\n",
       "      <td>...</td>\n",
       "      <td>...</td>\n",
       "    </tr>\n",
       "    <tr>\n",
       "      <th>78</th>\n",
       "      <td>Gold</td>\n",
       "      <td>804</td>\n",
       "      <td>Del Mar Station</td>\n",
       "      <td>34.141910</td>\n",
       "      <td>-118.148214</td>\n",
       "      <td>POINT (6516818.973 1874058.989)</td>\n",
       "    </tr>\n",
       "    <tr>\n",
       "      <th>79</th>\n",
       "      <td>Gold</td>\n",
       "      <td>804</td>\n",
       "      <td>Memorial Park Station</td>\n",
       "      <td>34.148356</td>\n",
       "      <td>-118.147512</td>\n",
       "      <td>POINT (6517034.832 1876404.492)</td>\n",
       "    </tr>\n",
       "    <tr>\n",
       "      <th>80</th>\n",
       "      <td>Gold</td>\n",
       "      <td>804</td>\n",
       "      <td>Lake Station</td>\n",
       "      <td>34.151806</td>\n",
       "      <td>-118.131390</td>\n",
       "      <td>POINT (6521914.408 1877653.241)</td>\n",
       "    </tr>\n",
       "    <tr>\n",
       "      <th>81</th>\n",
       "      <td>Gold</td>\n",
       "      <td>804</td>\n",
       "      <td>Allen Station</td>\n",
       "      <td>34.152417</td>\n",
       "      <td>-118.114348</td>\n",
       "      <td>POINT (6527070.744 1877869.293)</td>\n",
       "    </tr>\n",
       "    <tr>\n",
       "      <th>82</th>\n",
       "      <td>Gold</td>\n",
       "      <td>804</td>\n",
       "      <td>Sierra Madre Villa Station</td>\n",
       "      <td>34.147752</td>\n",
       "      <td>-118.081212</td>\n",
       "      <td>POINT (6537094.647 1876161.862)</td>\n",
       "    </tr>\n",
       "  </tbody>\n",
       "</table>\n",
       "<p>83 rows × 6 columns</p>\n",
       "</div>"
      ],
      "text/plain": [
       "    LINE  LINENUM                      STATION        LAT        LONG  \\\n",
       "0   Blue      801  Downtown Long Beach Station  33.768071 -118.192921   \n",
       "1   Blue      801          Pacific Ave Station  33.772258 -118.193700   \n",
       "2   Blue      801       Anaheim Street Station  33.781830 -118.189384   \n",
       "3   Blue      801    Pacific Coast Hwy Station  33.789090 -118.189382   \n",
       "4   Blue      801        Willow Street Station  33.807079 -118.189834   \n",
       "..   ...      ...                          ...        ...         ...   \n",
       "78  Gold      804              Del Mar Station  34.141910 -118.148214   \n",
       "79  Gold      804        Memorial Park Station  34.148356 -118.147512   \n",
       "80  Gold      804                 Lake Station  34.151806 -118.131390   \n",
       "81  Gold      804                Allen Station  34.152417 -118.114348   \n",
       "82  Gold      804   Sierra Madre Villa Station  34.147752 -118.081212   \n",
       "\n",
       "                           geometry  \n",
       "0   POINT (6503030.095 1738033.828)  \n",
       "1   POINT (6502796.262 1739558.050)  \n",
       "2   POINT (6504114.567 1743039.068)  \n",
       "3   POINT (6504120.152 1745681.179)  \n",
       "4   POINT (6503995.170 1752228.119)  \n",
       "..                              ...  \n",
       "78  POINT (6516818.973 1874058.989)  \n",
       "79  POINT (6517034.832 1876404.492)  \n",
       "80  POINT (6521914.408 1877653.241)  \n",
       "81  POINT (6527070.744 1877869.293)  \n",
       "82  POINT (6537094.647 1876161.862)  \n",
       "\n",
       "[83 rows x 6 columns]"
      ]
     },
     "execution_count": 22,
     "metadata": {},
     "output_type": "execute_result"
    }
   ],
   "source": [
    "# list of desired column names\n",
    "desired_columns = ['LINE','LINENUM','STATION','LAT','LONG','geometry']\n",
    "\n",
    "# subset based on desired columns\n",
    "metro[desired_columns]"
   ]
  },
  {
   "cell_type": "markdown",
   "metadata": {
    "slideshow": {
     "slide_type": "slide"
    }
   },
   "source": [
    "If you now print the dataframe, what happens?"
   ]
  },
  {
   "cell_type": "code",
   "execution_count": 30,
   "metadata": {
    "slideshow": {
     "slide_type": "fragment"
    }
   },
   "outputs": [
    {
     "data": {
      "text/html": [
       "<div>\n",
       "<style scoped>\n",
       "    .dataframe tbody tr th:only-of-type {\n",
       "        vertical-align: middle;\n",
       "    }\n",
       "\n",
       "    .dataframe tbody tr th {\n",
       "        vertical-align: top;\n",
       "    }\n",
       "\n",
       "    .dataframe thead th {\n",
       "        text-align: right;\n",
       "    }\n",
       "</style>\n",
       "<table border=\"1\" class=\"dataframe\">\n",
       "  <thead>\n",
       "    <tr style=\"text-align: right;\">\n",
       "      <th></th>\n",
       "      <th>LINE</th>\n",
       "      <th>LINENUM</th>\n",
       "      <th>LINENUM2</th>\n",
       "      <th>STNSEQ</th>\n",
       "      <th>STNSEQ2</th>\n",
       "      <th>DIR</th>\n",
       "      <th>STOPNUM</th>\n",
       "      <th>STATION</th>\n",
       "      <th>LAT</th>\n",
       "      <th>LONG</th>\n",
       "      <th>TPIS_NAME</th>\n",
       "      <th>POINT_X</th>\n",
       "      <th>POINT_Y</th>\n",
       "      <th>geometry</th>\n",
       "    </tr>\n",
       "  </thead>\n",
       "  <tbody>\n",
       "    <tr>\n",
       "      <th>0</th>\n",
       "      <td>Blue</td>\n",
       "      <td>801</td>\n",
       "      <td>0</td>\n",
       "      <td>21</td>\n",
       "      <td>0</td>\n",
       "      <td>None</td>\n",
       "      <td>80101</td>\n",
       "      <td>Downtown Long Beach Station</td>\n",
       "      <td>33.768071</td>\n",
       "      <td>-118.192921</td>\n",
       "      <td>Long Bch</td>\n",
       "      <td>6.503030e+06</td>\n",
       "      <td>1.738034e+06</td>\n",
       "      <td>POINT (6503030.095 1738033.828)</td>\n",
       "    </tr>\n",
       "    <tr>\n",
       "      <th>1</th>\n",
       "      <td>Blue</td>\n",
       "      <td>801</td>\n",
       "      <td>0</td>\n",
       "      <td>22</td>\n",
       "      <td>0</td>\n",
       "      <td>North</td>\n",
       "      <td>80102</td>\n",
       "      <td>Pacific Ave Station</td>\n",
       "      <td>33.772258</td>\n",
       "      <td>-118.193700</td>\n",
       "      <td>Pacific</td>\n",
       "      <td>6.502796e+06</td>\n",
       "      <td>1.739558e+06</td>\n",
       "      <td>POINT (6502796.262 1739558.050)</td>\n",
       "    </tr>\n",
       "    <tr>\n",
       "      <th>2</th>\n",
       "      <td>Blue</td>\n",
       "      <td>801</td>\n",
       "      <td>0</td>\n",
       "      <td>18</td>\n",
       "      <td>0</td>\n",
       "      <td>None</td>\n",
       "      <td>80105</td>\n",
       "      <td>Anaheim Street Station</td>\n",
       "      <td>33.781830</td>\n",
       "      <td>-118.189384</td>\n",
       "      <td>Anaheim</td>\n",
       "      <td>6.504115e+06</td>\n",
       "      <td>1.743039e+06</td>\n",
       "      <td>POINT (6504114.567 1743039.068)</td>\n",
       "    </tr>\n",
       "    <tr>\n",
       "      <th>3</th>\n",
       "      <td>Blue</td>\n",
       "      <td>801</td>\n",
       "      <td>0</td>\n",
       "      <td>17</td>\n",
       "      <td>0</td>\n",
       "      <td>None</td>\n",
       "      <td>80106</td>\n",
       "      <td>Pacific Coast Hwy Station</td>\n",
       "      <td>33.789090</td>\n",
       "      <td>-118.189382</td>\n",
       "      <td>PCH</td>\n",
       "      <td>6.504120e+06</td>\n",
       "      <td>1.745681e+06</td>\n",
       "      <td>POINT (6504120.152 1745681.179)</td>\n",
       "    </tr>\n",
       "    <tr>\n",
       "      <th>4</th>\n",
       "      <td>Blue</td>\n",
       "      <td>801</td>\n",
       "      <td>0</td>\n",
       "      <td>16</td>\n",
       "      <td>0</td>\n",
       "      <td>None</td>\n",
       "      <td>80107</td>\n",
       "      <td>Willow Street Station</td>\n",
       "      <td>33.807079</td>\n",
       "      <td>-118.189834</td>\n",
       "      <td>Willow</td>\n",
       "      <td>6.503995e+06</td>\n",
       "      <td>1.752228e+06</td>\n",
       "      <td>POINT (6503995.170 1752228.119)</td>\n",
       "    </tr>\n",
       "  </tbody>\n",
       "</table>\n",
       "</div>"
      ],
      "text/plain": [
       "   LINE  LINENUM  LINENUM2  STNSEQ  STNSEQ2    DIR  STOPNUM  \\\n",
       "0  Blue      801         0      21        0   None    80101   \n",
       "1  Blue      801         0      22        0  North    80102   \n",
       "2  Blue      801         0      18        0   None    80105   \n",
       "3  Blue      801         0      17        0   None    80106   \n",
       "4  Blue      801         0      16        0   None    80107   \n",
       "\n",
       "                       STATION        LAT        LONG TPIS_NAME       POINT_X  \\\n",
       "0  Downtown Long Beach Station  33.768071 -118.192921  Long Bch  6.503030e+06   \n",
       "1          Pacific Ave Station  33.772258 -118.193700   Pacific  6.502796e+06   \n",
       "2       Anaheim Street Station  33.781830 -118.189384   Anaheim  6.504115e+06   \n",
       "3    Pacific Coast Hwy Station  33.789090 -118.189382       PCH  6.504120e+06   \n",
       "4        Willow Street Station  33.807079 -118.189834    Willow  6.503995e+06   \n",
       "\n",
       "        POINT_Y                         geometry  \n",
       "0  1.738034e+06  POINT (6503030.095 1738033.828)  \n",
       "1  1.739558e+06  POINT (6502796.262 1739558.050)  \n",
       "2  1.743039e+06  POINT (6504114.567 1743039.068)  \n",
       "3  1.745681e+06  POINT (6504120.152 1745681.179)  \n",
       "4  1.752228e+06  POINT (6503995.170 1752228.119)  "
      ]
     },
     "execution_count": 30,
     "metadata": {},
     "output_type": "execute_result"
    }
   ],
   "source": [
    "metro.head()"
   ]
  },
  {
   "cell_type": "markdown",
   "metadata": {
    "slideshow": {
     "slide_type": "fragment"
    }
   },
   "source": [
    "What happened? Why has the dataframe reverted to the original data?"
   ]
  },
  {
   "cell_type": "markdown",
   "metadata": {
    "slideshow": {
     "slide_type": "slide"
    }
   },
   "source": [
    "That's right. In order to preserve your new dataframe, you have to **declare** it as a new variable."
   ]
  },
  {
   "cell_type": "code",
   "execution_count": 26,
   "metadata": {
    "slideshow": {
     "slide_type": "fragment"
    }
   },
   "outputs": [
    {
     "data": {
      "text/html": [
       "<div>\n",
       "<style scoped>\n",
       "    .dataframe tbody tr th:only-of-type {\n",
       "        vertical-align: middle;\n",
       "    }\n",
       "\n",
       "    .dataframe tbody tr th {\n",
       "        vertical-align: top;\n",
       "    }\n",
       "\n",
       "    .dataframe thead th {\n",
       "        text-align: right;\n",
       "    }\n",
       "</style>\n",
       "<table border=\"1\" class=\"dataframe\">\n",
       "  <thead>\n",
       "    <tr style=\"text-align: right;\">\n",
       "      <th></th>\n",
       "      <th>LINE</th>\n",
       "      <th>LINENUM</th>\n",
       "      <th>STATION</th>\n",
       "      <th>LAT</th>\n",
       "      <th>LONG</th>\n",
       "      <th>geometry</th>\n",
       "    </tr>\n",
       "  </thead>\n",
       "  <tbody>\n",
       "    <tr>\n",
       "      <th>0</th>\n",
       "      <td>Blue</td>\n",
       "      <td>801</td>\n",
       "      <td>Downtown Long Beach Station</td>\n",
       "      <td>33.768071</td>\n",
       "      <td>-118.192921</td>\n",
       "      <td>POINT (6503030.095 1738033.828)</td>\n",
       "    </tr>\n",
       "    <tr>\n",
       "      <th>1</th>\n",
       "      <td>Blue</td>\n",
       "      <td>801</td>\n",
       "      <td>Pacific Ave Station</td>\n",
       "      <td>33.772258</td>\n",
       "      <td>-118.193700</td>\n",
       "      <td>POINT (6502796.262 1739558.050)</td>\n",
       "    </tr>\n",
       "    <tr>\n",
       "      <th>2</th>\n",
       "      <td>Blue</td>\n",
       "      <td>801</td>\n",
       "      <td>Anaheim Street Station</td>\n",
       "      <td>33.781830</td>\n",
       "      <td>-118.189384</td>\n",
       "      <td>POINT (6504114.567 1743039.068)</td>\n",
       "    </tr>\n",
       "    <tr>\n",
       "      <th>3</th>\n",
       "      <td>Blue</td>\n",
       "      <td>801</td>\n",
       "      <td>Pacific Coast Hwy Station</td>\n",
       "      <td>33.789090</td>\n",
       "      <td>-118.189382</td>\n",
       "      <td>POINT (6504120.152 1745681.179)</td>\n",
       "    </tr>\n",
       "    <tr>\n",
       "      <th>4</th>\n",
       "      <td>Blue</td>\n",
       "      <td>801</td>\n",
       "      <td>Willow Street Station</td>\n",
       "      <td>33.807079</td>\n",
       "      <td>-118.189834</td>\n",
       "      <td>POINT (6503995.170 1752228.119)</td>\n",
       "    </tr>\n",
       "    <tr>\n",
       "      <th>...</th>\n",
       "      <td>...</td>\n",
       "      <td>...</td>\n",
       "      <td>...</td>\n",
       "      <td>...</td>\n",
       "      <td>...</td>\n",
       "      <td>...</td>\n",
       "    </tr>\n",
       "    <tr>\n",
       "      <th>78</th>\n",
       "      <td>Gold</td>\n",
       "      <td>804</td>\n",
       "      <td>Del Mar Station</td>\n",
       "      <td>34.141910</td>\n",
       "      <td>-118.148214</td>\n",
       "      <td>POINT (6516818.973 1874058.989)</td>\n",
       "    </tr>\n",
       "    <tr>\n",
       "      <th>79</th>\n",
       "      <td>Gold</td>\n",
       "      <td>804</td>\n",
       "      <td>Memorial Park Station</td>\n",
       "      <td>34.148356</td>\n",
       "      <td>-118.147512</td>\n",
       "      <td>POINT (6517034.832 1876404.492)</td>\n",
       "    </tr>\n",
       "    <tr>\n",
       "      <th>80</th>\n",
       "      <td>Gold</td>\n",
       "      <td>804</td>\n",
       "      <td>Lake Station</td>\n",
       "      <td>34.151806</td>\n",
       "      <td>-118.131390</td>\n",
       "      <td>POINT (6521914.408 1877653.241)</td>\n",
       "    </tr>\n",
       "    <tr>\n",
       "      <th>81</th>\n",
       "      <td>Gold</td>\n",
       "      <td>804</td>\n",
       "      <td>Allen Station</td>\n",
       "      <td>34.152417</td>\n",
       "      <td>-118.114348</td>\n",
       "      <td>POINT (6527070.744 1877869.293)</td>\n",
       "    </tr>\n",
       "    <tr>\n",
       "      <th>82</th>\n",
       "      <td>Gold</td>\n",
       "      <td>804</td>\n",
       "      <td>Sierra Madre Villa Station</td>\n",
       "      <td>34.147752</td>\n",
       "      <td>-118.081212</td>\n",
       "      <td>POINT (6537094.647 1876161.862)</td>\n",
       "    </tr>\n",
       "  </tbody>\n",
       "</table>\n",
       "<p>83 rows × 6 columns</p>\n",
       "</div>"
      ],
      "text/plain": [
       "    LINE  LINENUM                      STATION        LAT        LONG  \\\n",
       "0   Blue      801  Downtown Long Beach Station  33.768071 -118.192921   \n",
       "1   Blue      801          Pacific Ave Station  33.772258 -118.193700   \n",
       "2   Blue      801       Anaheim Street Station  33.781830 -118.189384   \n",
       "3   Blue      801    Pacific Coast Hwy Station  33.789090 -118.189382   \n",
       "4   Blue      801        Willow Street Station  33.807079 -118.189834   \n",
       "..   ...      ...                          ...        ...         ...   \n",
       "78  Gold      804              Del Mar Station  34.141910 -118.148214   \n",
       "79  Gold      804        Memorial Park Station  34.148356 -118.147512   \n",
       "80  Gold      804                 Lake Station  34.151806 -118.131390   \n",
       "81  Gold      804                Allen Station  34.152417 -118.114348   \n",
       "82  Gold      804   Sierra Madre Villa Station  34.147752 -118.081212   \n",
       "\n",
       "                           geometry  \n",
       "0   POINT (6503030.095 1738033.828)  \n",
       "1   POINT (6502796.262 1739558.050)  \n",
       "2   POINT (6504114.567 1743039.068)  \n",
       "3   POINT (6504120.152 1745681.179)  \n",
       "4   POINT (6503995.170 1752228.119)  \n",
       "..                              ...  \n",
       "78  POINT (6516818.973 1874058.989)  \n",
       "79  POINT (6517034.832 1876404.492)  \n",
       "80  POINT (6521914.408 1877653.241)  \n",
       "81  POINT (6527070.744 1877869.293)  \n",
       "82  POINT (6537094.647 1876161.862)  \n",
       "\n",
       "[83 rows x 6 columns]"
      ]
     },
     "execution_count": 26,
     "metadata": {},
     "output_type": "execute_result"
    }
   ],
   "source": [
    "metro_trimmed = metro[desired_columns]\n",
    "metro_trimmed"
   ]
  },
  {
   "cell_type": "markdown",
   "metadata": {
    "slideshow": {
     "slide_type": "slide"
    }
   },
   "source": [
    "### Subsetting/querying/filtering the data\n",
    "\n",
    "What if you only want to see a subset of the data? Or create a new table based on a query?"
   ]
  },
  {
   "cell_type": "code",
   "execution_count": 31,
   "metadata": {
    "slideshow": {
     "slide_type": "fragment"
    }
   },
   "outputs": [
    {
     "data": {
      "text/html": [
       "<div>\n",
       "<style scoped>\n",
       "    .dataframe tbody tr th:only-of-type {\n",
       "        vertical-align: middle;\n",
       "    }\n",
       "\n",
       "    .dataframe tbody tr th {\n",
       "        vertical-align: top;\n",
       "    }\n",
       "\n",
       "    .dataframe thead th {\n",
       "        text-align: right;\n",
       "    }\n",
       "</style>\n",
       "<table border=\"1\" class=\"dataframe\">\n",
       "  <thead>\n",
       "    <tr style=\"text-align: right;\">\n",
       "      <th></th>\n",
       "      <th>LINE</th>\n",
       "      <th>LINENUM</th>\n",
       "      <th>STATION</th>\n",
       "      <th>LAT</th>\n",
       "      <th>LONG</th>\n",
       "      <th>geometry</th>\n",
       "    </tr>\n",
       "  </thead>\n",
       "  <tbody>\n",
       "    <tr>\n",
       "      <th>20</th>\n",
       "      <td>EXPO</td>\n",
       "      <td>806</td>\n",
       "      <td>LATTC / Ortho Institute Station</td>\n",
       "      <td>34.029112</td>\n",
       "      <td>-118.273603</td>\n",
       "      <td>POINT (6478766.175 1833089.413)</td>\n",
       "    </tr>\n",
       "    <tr>\n",
       "      <th>21</th>\n",
       "      <td>EXPO</td>\n",
       "      <td>806</td>\n",
       "      <td>Jefferson / USC Station</td>\n",
       "      <td>34.022123</td>\n",
       "      <td>-118.278118</td>\n",
       "      <td>POINT (6477391.116 1830549.740)</td>\n",
       "    </tr>\n",
       "    <tr>\n",
       "      <th>22</th>\n",
       "      <td>EXPO</td>\n",
       "      <td>806</td>\n",
       "      <td>Expo Park / USC Station</td>\n",
       "      <td>34.018227</td>\n",
       "      <td>-118.285734</td>\n",
       "      <td>POINT (6475079.285 1829138.386)</td>\n",
       "    </tr>\n",
       "    <tr>\n",
       "      <th>23</th>\n",
       "      <td>EXPO</td>\n",
       "      <td>806</td>\n",
       "      <td>Expo / Vermont Station</td>\n",
       "      <td>34.018245</td>\n",
       "      <td>-118.291540</td>\n",
       "      <td>POINT (6473319.888 1829149.989)</td>\n",
       "    </tr>\n",
       "    <tr>\n",
       "      <th>24</th>\n",
       "      <td>EXPO</td>\n",
       "      <td>806</td>\n",
       "      <td>Expo / Western Station</td>\n",
       "      <td>34.018331</td>\n",
       "      <td>-118.308910</td>\n",
       "      <td>POINT (6468056.285 1829197.007)</td>\n",
       "    </tr>\n",
       "  </tbody>\n",
       "</table>\n",
       "</div>"
      ],
      "text/plain": [
       "    LINE  LINENUM                          STATION        LAT        LONG  \\\n",
       "20  EXPO      806  LATTC / Ortho Institute Station  34.029112 -118.273603   \n",
       "21  EXPO      806          Jefferson / USC Station  34.022123 -118.278118   \n",
       "22  EXPO      806          Expo Park / USC Station  34.018227 -118.285734   \n",
       "23  EXPO      806           Expo / Vermont Station  34.018245 -118.291540   \n",
       "24  EXPO      806           Expo / Western Station  34.018331 -118.308910   \n",
       "\n",
       "                           geometry  \n",
       "20  POINT (6478766.175 1833089.413)  \n",
       "21  POINT (6477391.116 1830549.740)  \n",
       "22  POINT (6475079.285 1829138.386)  \n",
       "23  POINT (6473319.888 1829149.989)  \n",
       "24  POINT (6468056.285 1829197.007)  "
      ]
     },
     "execution_count": 31,
     "metadata": {},
     "output_type": "execute_result"
    }
   ],
   "source": [
    "expo = metro_trimmed[metro.LINE == 'EXPO']\n",
    "expo.head()"
   ]
  },
  {
   "cell_type": "code",
   "execution_count": null,
   "metadata": {
    "slideshow": {
     "slide_type": "fragment"
    }
   },
   "outputs": [],
   "source": [
    "# try it yourself. create variables for each unique LINE in the dataframe\n"
   ]
  },
  {
   "cell_type": "markdown",
   "metadata": {
    "slideshow": {
     "slide_type": "slide"
    }
   },
   "source": [
    "## Plotting\n",
    "\n",
    "We have now imported a shapefile, trimmed it, and created a series of queried subsets. Let's visualize our data. First, simply pass it the `plot()` command to see what it looks like."
   ]
  },
  {
   "cell_type": "code",
   "execution_count": 32,
   "metadata": {
    "slideshow": {
     "slide_type": "fragment"
    }
   },
   "outputs": [
    {
     "data": {
      "text/plain": [
       "<matplotlib.axes._subplots.AxesSubplot at 0x7f0109339670>"
      ]
     },
     "execution_count": 32,
     "metadata": {},
     "output_type": "execute_result"
    },
    {
     "data": {
      "image/png": "[encoded data removed]",
      "text/plain": [
       "<Figure size 432x288 with 1 Axes>"
      ]
     },
     "metadata": {
      "needs_background": "light"
     },
     "output_type": "display_data"
    }
   ],
   "source": [
    "metro_trimmed.plot()"
   ]
  },
  {
   "cell_type": "markdown",
   "metadata": {
    "slideshow": {
     "slide_type": "slide"
    }
   },
   "source": [
    "That's great! Very rewarding, with a single command. The reason it is able to plot the station points is because of the `geometry` column that is created from the shapefile."
   ]
  },
  {
   "cell_type": "code",
   "execution_count": 33,
   "metadata": {
    "slideshow": {
     "slide_type": "fragment"
    }
   },
   "outputs": [
    {
     "data": {
      "text/plain": [
       "0     POINT (6503030.095 1738033.828)\n",
       "1     POINT (6502796.262 1739558.050)\n",
       "2     POINT (6504114.567 1743039.068)\n",
       "3     POINT (6504120.152 1745681.179)\n",
       "4     POINT (6503995.170 1752228.119)\n",
       "                   ...               \n",
       "78    POINT (6516818.973 1874058.989)\n",
       "79    POINT (6517034.832 1876404.492)\n",
       "80    POINT (6521914.408 1877653.241)\n",
       "81    POINT (6527070.744 1877869.293)\n",
       "82    POINT (6537094.647 1876161.862)\n",
       "Name: geometry, Length: 83, dtype: geometry"
      ]
     },
     "execution_count": 33,
     "metadata": {},
     "output_type": "execute_result"
    }
   ],
   "source": [
    "metro_trimmed.geometry"
   ]
  },
  {
   "cell_type": "markdown",
   "metadata": {
    "slideshow": {
     "slide_type": "slide"
    }
   },
   "source": [
    "## A prettier plot"
   ]
  },
  {
   "cell_type": "code",
   "execution_count": 34,
   "metadata": {},
   "outputs": [
    {
     "data": {
      "text/plain": [
       "<matplotlib.axes._subplots.AxesSubplot at 0x7f010931f790>"
      ]
     },
     "execution_count": 34,
     "metadata": {},
     "output_type": "execute_result"
    },
    {
     "data": {
      "image/png": "[encoded data removed]",
      "text/plain": [
       "<Figure size 1440x864 with 1 Axes>"
      ]
     },
     "metadata": {
      "needs_background": "light"
     },
     "output_type": "display_data"
    }
   ],
   "source": [
    "metro_trimmed.plot(figsize=(20,12),   #size of the plot (a bit bigger than the default)\n",
    "           column = 'LINE',   # column that defines the color of the dots\n",
    "           legend = True,     # add a legend           \n",
    "           legend_kwds={\n",
    "               'loc': 'upper right',\n",
    "               'bbox_to_anchor':(1.3,1)\n",
    "           }                  # this puts the legend to the side\n",
    "          ) "
   ]
  },
  {
   "cell_type": "markdown",
   "metadata": {
    "slideshow": {
     "slide_type": "slide"
    }
   },
   "source": [
    "## Back to mapping\n",
    "We can't finish our lesson without a map :). Let's go back to the original metro dataset that was the inspiration for this notebook. Recall that we used the module `geopandas` to define the data."
   ]
  },
  {
   "cell_type": "code",
   "execution_count": 35,
   "metadata": {},
   "outputs": [
    {
     "data": {
      "text/html": [
       "<div>\n",
       "<style scoped>\n",
       "    .dataframe tbody tr th:only-of-type {\n",
       "        vertical-align: middle;\n",
       "    }\n",
       "\n",
       "    .dataframe tbody tr th {\n",
       "        vertical-align: top;\n",
       "    }\n",
       "\n",
       "    .dataframe thead th {\n",
       "        text-align: right;\n",
       "    }\n",
       "</style>\n",
       "<table border=\"1\" class=\"dataframe\">\n",
       "  <thead>\n",
       "    <tr style=\"text-align: right;\">\n",
       "      <th></th>\n",
       "      <th>LINE</th>\n",
       "      <th>LINENUM</th>\n",
       "      <th>STATION</th>\n",
       "      <th>LAT</th>\n",
       "      <th>LONG</th>\n",
       "      <th>geometry</th>\n",
       "    </tr>\n",
       "  </thead>\n",
       "  <tbody>\n",
       "    <tr>\n",
       "      <th>0</th>\n",
       "      <td>Blue</td>\n",
       "      <td>801</td>\n",
       "      <td>Downtown Long Beach Station</td>\n",
       "      <td>33.768071</td>\n",
       "      <td>-118.192921</td>\n",
       "      <td>POINT (6503030.095 1738033.828)</td>\n",
       "    </tr>\n",
       "    <tr>\n",
       "      <th>1</th>\n",
       "      <td>Blue</td>\n",
       "      <td>801</td>\n",
       "      <td>Pacific Ave Station</td>\n",
       "      <td>33.772258</td>\n",
       "      <td>-118.193700</td>\n",
       "      <td>POINT (6502796.262 1739558.050)</td>\n",
       "    </tr>\n",
       "    <tr>\n",
       "      <th>2</th>\n",
       "      <td>Blue</td>\n",
       "      <td>801</td>\n",
       "      <td>Anaheim Street Station</td>\n",
       "      <td>33.781830</td>\n",
       "      <td>-118.189384</td>\n",
       "      <td>POINT (6504114.567 1743039.068)</td>\n",
       "    </tr>\n",
       "    <tr>\n",
       "      <th>3</th>\n",
       "      <td>Blue</td>\n",
       "      <td>801</td>\n",
       "      <td>Pacific Coast Hwy Station</td>\n",
       "      <td>33.789090</td>\n",
       "      <td>-118.189382</td>\n",
       "      <td>POINT (6504120.152 1745681.179)</td>\n",
       "    </tr>\n",
       "    <tr>\n",
       "      <th>4</th>\n",
       "      <td>Blue</td>\n",
       "      <td>801</td>\n",
       "      <td>Willow Street Station</td>\n",
       "      <td>33.807079</td>\n",
       "      <td>-118.189834</td>\n",
       "      <td>POINT (6503995.170 1752228.119)</td>\n",
       "    </tr>\n",
       "  </tbody>\n",
       "</table>\n",
       "</div>"
      ],
      "text/plain": [
       "   LINE  LINENUM                      STATION        LAT        LONG  \\\n",
       "0  Blue      801  Downtown Long Beach Station  33.768071 -118.192921   \n",
       "1  Blue      801          Pacific Ave Station  33.772258 -118.193700   \n",
       "2  Blue      801       Anaheim Street Station  33.781830 -118.189384   \n",
       "3  Blue      801    Pacific Coast Hwy Station  33.789090 -118.189382   \n",
       "4  Blue      801        Willow Street Station  33.807079 -118.189834   \n",
       "\n",
       "                          geometry  \n",
       "0  POINT (6503030.095 1738033.828)  \n",
       "1  POINT (6502796.262 1739558.050)  \n",
       "2  POINT (6504114.567 1743039.068)  \n",
       "3  POINT (6504120.152 1745681.179)  \n",
       "4  POINT (6503995.170 1752228.119)  "
      ]
     },
     "execution_count": 35,
     "metadata": {},
     "output_type": "execute_result"
    }
   ],
   "source": [
    "metro_trimmed.head()"
   ]
  },
  {
   "cell_type": "markdown",
   "metadata": {
    "slideshow": {
     "slide_type": "slide"
    }
   },
   "source": [
    "## Projections"
   ]
  },
  {
   "cell_type": "code",
   "execution_count": 36,
   "metadata": {},
   "outputs": [
    {
     "data": {
      "text/plain": [
       "<Projected CRS: EPSG:2874>\n",
       "Name: NAD83(HARN) / California zone 5 (ftUS)\n",
       "Axis Info [cartesian]:\n",
       "- X[east]: Easting (US survey foot)\n",
       "- Y[north]: Northing (US survey foot)\n",
       "Area of Use:\n",
       "- name: USA - California - SPCS83 - 5\n",
       "- bounds: (-121.42, 32.76, -114.12, 35.81)\n",
       "Coordinate Operation:\n",
       "- name: SPCS83 California zone 5 (US Survey feet)\n",
       "- method: Lambert Conic Conformal (2SP)\n",
       "Datum: NAD83 (High Accuracy Reference Network)\n",
       "- Ellipsoid: GRS 1980\n",
       "- Prime Meridian: Greenwich"
      ]
     },
     "execution_count": 36,
     "metadata": {},
     "output_type": "execute_result"
    }
   ],
   "source": [
    "# what is the projection?\n",
    "metro_trimmed.crs"
   ]
  },
  {
   "cell_type": "code",
   "execution_count": 37,
   "metadata": {
    "slideshow": {
     "slide_type": "slide"
    }
   },
   "outputs": [],
   "source": [
    "# let's reproject it\n",
    "metro_gcs = metro_trimmed.to_crs(\"EPSG:4326\")"
   ]
  },
  {
   "cell_type": "code",
   "execution_count": 40,
   "metadata": {
    "slideshow": {
     "slide_type": "fragment"
    }
   },
   "outputs": [
    {
     "data": {
      "text/plain": [
       "geopandas.geoseries.GeoSeries"
      ]
     },
     "execution_count": 40,
     "metadata": {},
     "output_type": "execute_result"
    }
   ],
   "source": [
    "type(metro_gcs.geometry)"
   ]
  },
  {
   "cell_type": "code",
   "execution_count": 41,
   "metadata": {
    "slideshow": {
     "slide_type": "fragment"
    }
   },
   "outputs": [
    {
     "data": {
      "text/plain": [
       "<matplotlib.axes._subplots.AxesSubplot at 0x7f010923fd90>"
      ]
     },
     "execution_count": 41,
     "metadata": {},
     "output_type": "execute_result"
    },
    {
     "data": {
      "image/png": "[encoded data removed]",
      "text/plain": [
       "<Figure size 432x288 with 1 Axes>"
      ]
     },
     "metadata": {
      "needs_background": "light"
     },
     "output_type": "display_data"
    }
   ],
   "source": [
    "metro_gcs.plot()"
   ]
  },
  {
   "cell_type": "code",
   "execution_count": 42,
   "metadata": {
    "slideshow": {
     "slide_type": "fragment"
    }
   },
   "outputs": [
    {
     "data": {
      "text/plain": [
       "<matplotlib.axes._subplots.AxesSubplot at 0x7f0109213dc0>"
      ]
     },
     "execution_count": 42,
     "metadata": {},
     "output_type": "execute_result"
    },
    {
     "data": {
      "image/png": "[encoded data removed]",
      "text/plain": [
       "<Figure size 432x288 with 1 Axes>"
      ]
     },
     "metadata": {
      "needs_background": "light"
     },
     "output_type": "display_data"
    }
   ],
   "source": [
    "# what did it look like before we reprojected it?\n",
    "metro_trimmed.plot()"
   ]
  },
  {
   "cell_type": "markdown",
   "metadata": {
    "slideshow": {
     "slide_type": "slide"
    }
   },
   "source": [
    "## Iterating through rows in a dataframe\n",
    "\n",
    "You learned how to loop through a python list. Looping over rows in a dataframe is similar, but the syntax is slightly different."
   ]
  },
  {
   "cell_type": "code",
   "execution_count": 46,
   "metadata": {
    "scrolled": true
   },
   "outputs": [
    {
     "name": "stdout",
     "output_type": "stream",
     "text": [
      "0 Downtown Long Beach Station Blue\n",
      "1 Pacific Ave Station Blue\n",
      "2 Anaheim Street Station Blue\n",
      "3 Pacific Coast Hwy Station Blue\n",
      "4 Willow Street Station Blue\n",
      "5 Wardlow Station Blue\n",
      "6 Del Amo Station Blue\n",
      "7 Artesia Station Blue\n",
      "8 Compton Station Blue\n",
      "9 Willowbrook - Rosa Parks Station - Metro Blue Line Blue\n",
      "10 103rd Street / Watts Towers  Station Blue\n",
      "11 Firestone Station Blue\n",
      "12 Florence Station Blue\n",
      "13 Slauson Station Blue\n",
      "14 Vernon Station Blue\n",
      "15 Washington Station Blue\n",
      "16 San Pedro Street Station Blue\n",
      "17 Grand / LATTC Station Blue\n",
      "18 Pico Station Blue/EXPO\n",
      "19 7th Street / Metro Center Station - Metro Blue & Expo Lines Blue/EXPO\n",
      "20 LATTC / Ortho Institute Station EXPO\n",
      "21 Jefferson / USC Station EXPO\n",
      "22 Expo Park / USC Station EXPO\n",
      "23 Expo / Vermont Station EXPO\n",
      "24 Expo / Western Station EXPO\n",
      "25 Expo / Crenshaw Station EXPO\n",
      "26 Farmdale Station EXPO\n",
      "27 Expo / La Brea / Ethel Bradley Station EXPO\n",
      "28 La Cienega / Jefferson Station EXPO\n",
      "29 Culver City Station EXPO\n",
      "30 1st Street Station Blue\n",
      "31 5th Street Station Blue\n",
      "32 North Hollywood Station Red\n",
      "33 Universal / Studio City Station Red\n",
      "34 Hollywood / Highland Station Red\n",
      "35 Hollywood / Vine Station Red\n",
      "36 Hollywood / Western Station Red\n",
      "37 Vermont / Sunset Station Red\n",
      "38 Vermont / Santa Monica Station Red\n",
      "39 Vermont / Beverly Station Red\n",
      "40 Wilshire / Vermont Station Red/Purple\n",
      "41 Westlake / MacArthur Park Station Red/Purple\n",
      "42 7th Street / Metro Center Station - Metro Red & Purple Lines Red/Purple\n",
      "43 Pershing Square Station Red/Purple\n",
      "44 Civic Center / Grand Park Station Red/Purple\n",
      "45 Union Station - Metro Red & Purple Lines Red/Purple\n",
      "46 Wilshire / Normandie Station Purple\n",
      "47 Wilshire / Western Station Purple\n",
      "48 Redondo Beach Station Green\n",
      "49 Douglas Station Green\n",
      "50 El Segundo Station Green\n",
      "51 Mariposa Station Green\n",
      "52 Aviation / LAX Station Green\n",
      "53 Hawthorne / Lennox Station Green\n",
      "54 Crenshaw Station Green\n",
      "55 Vermont / Athens Station Green\n",
      "56 Harbor Freeway Station Green\n",
      "57 Avalon Station Green\n",
      "58 Willowbrook - Rosa Parks Station - Metro Green Line Green\n",
      "59 Long Beach Blvd Station Green\n",
      "60 Lakewood Blvd Station Green\n",
      "61 Norwalk Station Green\n",
      "62 Atlantic Station Gold\n",
      "63 East LA Civic Center Station Gold\n",
      "64 Maravilla Station Gold\n",
      "65 Indiana Station Gold\n",
      "66 Soto Station Gold\n",
      "67 Mariachi Plaza / Boyle Heights Station Gold\n",
      "68 Pico / Aliso Station Gold\n",
      "69 Little Tokyo / Arts District Station Gold\n",
      "70 Union Station - Metro Gold Line Gold\n",
      "71 Chinatown Station Gold\n",
      "72 Lincoln Heights / Cypress Park Station Gold\n",
      "73 Heritage Square / Arroyo Station Gold\n",
      "74 Southwest Museum Station Gold\n",
      "75 Highland Park Station Gold\n",
      "76 South Pasadena Station Gold\n",
      "77 Fillmore Station Gold\n",
      "78 Del Mar Station Gold\n",
      "79 Memorial Park Station Gold\n",
      "80 Lake Station Gold\n",
      "81 Allen Station Gold\n",
      "82 Sierra Madre Villa Station Gold\n"
     ]
    }
   ],
   "source": [
    "for index, row in metro_gcs.iterrows():\n",
    "    print(index, row.STATION, row.LINE)"
   ]
  },
  {
   "cell_type": "markdown",
   "metadata": {
    "slideshow": {
     "slide_type": "slide"
    }
   },
   "source": [
    "## Get average lat/lon's"
   ]
  },
  {
   "cell_type": "code",
   "execution_count": 47,
   "metadata": {
    "slideshow": {
     "slide_type": "fragment"
    }
   },
   "outputs": [
    {
     "data": {
      "text/plain": [
       "34.00158291566265"
      ]
     },
     "execution_count": 47,
     "metadata": {},
     "output_type": "execute_result"
    }
   ],
   "source": [
    "latitude = metro_trimmed.LAT.mean()\n",
    "latitude"
   ]
  },
  {
   "cell_type": "code",
   "execution_count": 48,
   "metadata": {
    "slideshow": {
     "slide_type": "fragment"
    }
   },
   "outputs": [
    {
     "data": {
      "text/plain": [
       "-118.251045313253"
      ]
     },
     "execution_count": 48,
     "metadata": {},
     "output_type": "execute_result"
    }
   ],
   "source": [
    "longitude = metro_trimmed.LONG.mean()\n",
    "longitude"
   ]
  },
  {
   "cell_type": "markdown",
   "metadata": {
    "slideshow": {
     "slide_type": "slide"
    }
   },
   "source": [
    "## Mapping with folium"
   ]
  },
  {
   "cell_type": "markdown",
   "metadata": {
    "slideshow": {
     "slide_type": "-"
    }
   },
   "source": [
    "Now it's time for another module. Everybody, please welcome `folium`. Folium brings leaflet, an open source javascript mapping library into our Python environment, allowing you to create instant interactive maps. Try it:"
   ]
  },
  {
   "cell_type": "code",
   "execution_count": 49,
   "metadata": {},
   "outputs": [],
   "source": [
    "import folium"
   ]
  },
  {
   "cell_type": "code",
   "execution_count": 50,
   "metadata": {
    "slideshow": {
     "slide_type": "slide"
    }
   },
   "outputs": [
    {
     "data": {
      "text/html": [
       "<div style=\"width:100%;\"><div style=\"position:relative;width:100%;height:0;padding-bottom:60%;\"><span style=\"color:#565656\">Make this Notebook Trusted to load map: File -> Trust Notebook</span><iframe src=\"about:blank\" style=\"position:absolute;width:100%;height:100%;left:0;top:0;border:none !important;\" data-html=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 onload=\"this.contentDocument.open();this.contentDocument.write(atob(this.getAttribute('data-html')));this.contentDocument.close();\" allowfullscreen webkitallowfullscreen mozallowfullscreen></iframe></div></div>"
      ],
      "text/plain": [
       "<folium.folium.Map at 0x7f010871d0a0>"
      ]
     },
     "execution_count": 50,
     "metadata": {},
     "output_type": "execute_result"
    }
   ],
   "source": [
    "#initialize map\n",
    "m = folium.Map(location=[latitude,longitude], tiles='Stamen Terrain', zoom_start=10)\n",
    "m"
   ]
  },
  {
   "cell_type": "markdown",
   "metadata": {
    "slideshow": {
     "slide_type": "slide"
    }
   },
   "source": [
    "### Adding point markers"
   ]
  },
  {
   "cell_type": "code",
   "execution_count": null,
   "metadata": {
    "scrolled": true
   },
   "outputs": [],
   "source": [
    "# add the stations\n",
    "for index, row in metro_trimmed.iterrows():\n",
    "    folium.Marker([row.LAT,row.LONG], popup=row.STATION+' '+str(row.LINENUM), tooltip=row.STATION).add_to(m)\n",
    "m"
   ]
  },
  {
   "cell_type": "code",
   "execution_count": null,
   "metadata": {
    "slideshow": {
     "slide_type": "slide"
    }
   },
   "outputs": [],
   "source": [
    "# add a column\n",
    "metro_trimmed['color'] = ''"
   ]
  },
  {
   "cell_type": "code",
   "execution_count": null,
   "metadata": {
    "slideshow": {
     "slide_type": "fragment"
    }
   },
   "outputs": [],
   "source": [
    "metro_trimmed.head()"
   ]
  },
  {
   "cell_type": "markdown",
   "metadata": {
    "slideshow": {
     "slide_type": "slide"
    }
   },
   "source": [
    "## Unique values in a column"
   ]
  },
  {
   "cell_type": "code",
   "execution_count": null,
   "metadata": {
    "slideshow": {
     "slide_type": "fragment"
    }
   },
   "outputs": [],
   "source": [
    "metro_trimmed.LINE.unique()"
   ]
  },
  {
   "cell_type": "code",
   "execution_count": null,
   "metadata": {
    "scrolled": true,
    "slideshow": {
     "slide_type": "slide"
    }
   },
   "outputs": [],
   "source": [
    "# display rows that match a query\n",
    "metro_trimmed.loc[metro['LINE'] == 'EXPO']"
   ]
  },
  {
   "cell_type": "markdown",
   "metadata": {
    "slideshow": {
     "slide_type": "slide"
    }
   },
   "source": [
    "## Update a column based on a query on another column"
   ]
  },
  {
   "cell_type": "code",
   "execution_count": null,
   "metadata": {
    "slideshow": {
     "slide_type": "fragment"
    }
   },
   "outputs": [],
   "source": [
    "metro_trimmed.loc[metro['LINE'] == 'EXPO', 'color'] = 'orange'"
   ]
  },
  {
   "cell_type": "code",
   "execution_count": null,
   "metadata": {
    "slideshow": {
     "slide_type": "slide"
    }
   },
   "outputs": [],
   "source": [
    "metro_trimmed.loc[metro['LINE'] == 'Blue', 'color'] = 'blue'\n",
    "metro_trimmed.loc[metro['LINE'] == 'Blue/EXPO', 'color'] = 'cadetblue'\n",
    "metro_trimmed.loc[metro['LINE'] == 'Red', 'color'] = 'red'\n",
    "metro_trimmed.loc[metro['LINE'] == 'Red/Purple', 'color'] = 'darkred'\n",
    "metro_trimmed.loc[metro['LINE'] == 'Purple', 'color'] = 'purple'\n",
    "metro_trimmed.loc[metro['LINE'] == 'Green', 'color'] = 'green'\n",
    "metro_trimmed.loc[metro['LINE'] == 'Gold', 'color'] = 'beige'\n",
    "\n"
   ]
  },
  {
   "cell_type": "code",
   "execution_count": null,
   "metadata": {
    "slideshow": {
     "slide_type": "fragment"
    }
   },
   "outputs": [],
   "source": [
    "metro_trimmed.sample(5)"
   ]
  },
  {
   "cell_type": "code",
   "execution_count": null,
   "metadata": {
    "slideshow": {
     "slide_type": "slide"
    }
   },
   "outputs": [],
   "source": [
    "# reset the map\n",
    "m = folium.Map(location=[latitude,longitude], tiles='Stamen Terrain', zoom_start=10)\n",
    "\n",
    "# add the stations with color icons\n",
    "for index, row in metro_trimmed.iterrows():\n",
    "    folium.Marker([row.LAT,row.LONG], popup=row.STATION, tooltip=row.STATION,icon=folium.Icon(color=row.color)).add_to(m)\n",
    "m"
   ]
  },
  {
   "cell_type": "code",
   "execution_count": null,
   "metadata": {
    "slideshow": {
     "slide_type": "slide"
    }
   },
   "outputs": [],
   "source": [
    "m.save('metro.html')"
   ]
  },
  {
   "cell_type": "code",
   "execution_count": null,
   "metadata": {},
   "outputs": [],
   "source": []
  }
 ],
 "metadata": {
  "celltoolbar": "Slideshow",
  "kernelspec": {
   "display_name": "Python 3",
   "language": "python",
   "name": "python3"
  },
  "language_info": {
   "codemirror_mode": {
    "name": "ipython",
    "version": 3
   },
   "file_extension": ".py",
   "mimetype": "text/x-python",
   "name": "python",
   "nbconvert_exporter": "python",
   "pygments_lexer": "ipython3",
   "version": "3.8.5"
  },
  "toc": {
   "base_numbering": 1,
   "nav_menu": {},
   "number_sections": true,
   "sideBar": true,
   "skip_h1_title": false,
   "title_cell": "Table of Contents",
   "title_sidebar": "Contents",
   "toc_cell": true,
   "toc_position": {
    "height": "757px",
    "left": "523px",
    "top": "110px",
    "width": "384px"
   },
   "toc_section_display": true,
   "toc_window_display": false
  }
 },
 "nbformat": 4,
 "nbformat_minor": 4
}
