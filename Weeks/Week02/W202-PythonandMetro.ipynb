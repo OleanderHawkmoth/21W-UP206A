{
 "cells": [
  {
   "cell_type": "markdown",
   "metadata": {
    "toc": true
   },
   "source": [
    "<h1>Table of Contents<span class=\"tocSkip\"></span></h1>\n",
    "<div class=\"toc\"><ul class=\"toc-item\"><li><span><a href=\"#Week-2:-Python-and-Metro\" data-toc-modified-id=\"Week-2:-Python-and-Metro-1\"><span class=\"toc-item-num\">1&nbsp;&nbsp;</span>Week 2: Python and Metro</a></span><ul class=\"toc-item\"><li><span><a href=\"#A-quick-geopandas-teaser\" data-toc-modified-id=\"A-quick-geopandas-teaser-1.1\"><span class=\"toc-item-num\">1.1&nbsp;&nbsp;</span>A quick geopandas teaser</a></span></li><li><span><a href=\"#Pandas-Data-Types\" data-toc-modified-id=\"Pandas-Data-Types-1.2\"><span class=\"toc-item-num\">1.2&nbsp;&nbsp;</span>Pandas Data Types</a></span></li><li><span><a href=\"#Data-exploration\" data-toc-modified-id=\"Data-exploration-1.3\"><span class=\"toc-item-num\">1.3&nbsp;&nbsp;</span>Data exploration</a></span><ul class=\"toc-item\"><li><span><a href=\"#Counting-unique-values-in-a-column\" data-toc-modified-id=\"Counting-unique-values-in-a-column-1.3.1\"><span class=\"toc-item-num\">1.3.1&nbsp;&nbsp;</span>Counting unique values in a column</a></span></li><li><span><a href=\"#Trimming-the-data\" data-toc-modified-id=\"Trimming-the-data-1.3.2\"><span class=\"toc-item-num\">1.3.2&nbsp;&nbsp;</span>Trimming the data</a></span></li><li><span><a href=\"#Subsetting/querying/filtering-the-data\" data-toc-modified-id=\"Subsetting/querying/filtering-the-data-1.3.3\"><span class=\"toc-item-num\">1.3.3&nbsp;&nbsp;</span>Subsetting/querying/filtering the data</a></span></li></ul></li><li><span><a href=\"#Plotting\" data-toc-modified-id=\"Plotting-1.4\"><span class=\"toc-item-num\">1.4&nbsp;&nbsp;</span>Plotting</a></span></li><li><span><a href=\"#A-prettier-plot\" data-toc-modified-id=\"A-prettier-plot-1.5\"><span class=\"toc-item-num\">1.5&nbsp;&nbsp;</span>A prettier plot</a></span></li><li><span><a href=\"#Back-to-mapping\" data-toc-modified-id=\"Back-to-mapping-1.6\"><span class=\"toc-item-num\">1.6&nbsp;&nbsp;</span>Back to mapping</a></span></li><li><span><a href=\"#Projections\" data-toc-modified-id=\"Projections-1.7\"><span class=\"toc-item-num\">1.7&nbsp;&nbsp;</span>Projections</a></span></li><li><span><a href=\"#Iterating-through-rows-in-a-dataframe\" data-toc-modified-id=\"Iterating-through-rows-in-a-dataframe-1.8\"><span class=\"toc-item-num\">1.8&nbsp;&nbsp;</span>Iterating through rows in a dataframe</a></span></li><li><span><a href=\"#Get-average-lat/lon's\" data-toc-modified-id=\"Get-average-lat/lon's-1.9\"><span class=\"toc-item-num\">1.9&nbsp;&nbsp;</span>Get average lat/lon's</a></span></li><li><span><a href=\"#Mapping-with-folium\" data-toc-modified-id=\"Mapping-with-folium-1.10\"><span class=\"toc-item-num\">1.10&nbsp;&nbsp;</span>Mapping with folium</a></span><ul class=\"toc-item\"><li><span><a href=\"#Adding-point-markers\" data-toc-modified-id=\"Adding-point-markers-1.10.1\"><span class=\"toc-item-num\">1.10.1&nbsp;&nbsp;</span>Adding point markers</a></span></li></ul></li><li><span><a href=\"#Color-code-markers\" data-toc-modified-id=\"Color-code-markers-1.11\"><span class=\"toc-item-num\">1.11&nbsp;&nbsp;</span>Color code markers</a></span><ul class=\"toc-item\"><li><span><a href=\"#Find-unique-values-in-a-column\" data-toc-modified-id=\"Find-unique-values-in-a-column-1.11.1\"><span class=\"toc-item-num\">1.11.1&nbsp;&nbsp;</span>Find unique values in a column</a></span></li><li><span><a href=\"#Update-column-based-on-a-query-on-another-column\" data-toc-modified-id=\"Update-column-based-on-a-query-on-another-column-1.11.2\"><span class=\"toc-item-num\">1.11.2&nbsp;&nbsp;</span>Update column based on a query on another column</a></span></li></ul></li></ul></li></ul></div>"
   ]
  },
  {
   "cell_type": "markdown",
   "metadata": {
    "slideshow": {
     "slide_type": "slide"
    }
   },
   "source": [
    "# Week 2: Python and Metro"
   ]
  },
  {
   "cell_type": "markdown",
   "metadata": {},
   "source": [
    "## A quick geopandas teaser\n",
    "Following our Python bootcamp last week (was it boring? exhilerating? a bit of both?), let's put that programming knowledge into action, using and creating data that reflects a real urban situation.\n",
    "\n",
    "We start by importing a new module `geopandas`. This is a pretty high level geospatial library, widely used by spatial data scientists all over the world. Don't worry about it too much for now, but know that it allows us to import a variety of spatial data formats, and plot them on a map."
   ]
  },
  {
   "cell_type": "code",
   "execution_count": 1,
   "metadata": {},
   "outputs": [],
   "source": [
    "import geopandas as gpd"
   ]
  },
  {
   "cell_type": "markdown",
   "metadata": {
    "slideshow": {
     "slide_type": "slide"
    }
   },
   "source": [
    "Next, we import some data. In this case, it is a [shapefile](https://desktop.arcgis.com/en/arcmap/latest/manage-data/shapefiles/what-is-a-shapefile.htm) I downloaded from the [LA Metro's Developer web portal](https://developer.metro.net/bus-rail-gis-data/). Notice that I am using relative paths to point to where the data is located in. the `../` indicates that it is one folder level above, so `../../` takes us two levels above (the project root), and then into the data folder there."
   ]
  },
  {
   "cell_type": "code",
   "execution_count": 2,
   "metadata": {},
   "outputs": [],
   "source": [
    "metro = gpd.read_file('../../data/MetroStations/Stations_All_0715.shp')"
   ]
  },
  {
   "cell_type": "markdown",
   "metadata": {
    "slideshow": {
     "slide_type": "slide"
    }
   },
   "source": [
    "<div class=\"alert alert-info\">\n",
    "\n",
    "Note that the reason we use `geopandas` instead of `pandas` (other than the fact that we love maps) is that `pandas` cannot read shapefiles, whereas `geopandas` can.\n",
    "    \n",
    "</div>"
   ]
  },
  {
   "cell_type": "code",
   "execution_count": 3,
   "metadata": {},
   "outputs": [
    {
     "data": {
      "text/plain": [
       "geopandas.geodataframe.GeoDataFrame"
      ]
     },
     "execution_count": 3,
     "metadata": {},
     "output_type": "execute_result"
    }
   ],
   "source": [
    "# what's the data type?\n",
    "type(metro)"
   ]
  },
  {
   "cell_type": "code",
   "execution_count": 4,
   "metadata": {},
   "outputs": [
    {
     "data": {
      "text/html": [
       "<div>\n",
       "<style scoped>\n",
       "    .dataframe tbody tr th:only-of-type {\n",
       "        vertical-align: middle;\n",
       "    }\n",
       "\n",
       "    .dataframe tbody tr th {\n",
       "        vertical-align: top;\n",
       "    }\n",
       "\n",
       "    .dataframe thead th {\n",
       "        text-align: right;\n",
       "    }\n",
       "</style>\n",
       "<table border=\"1\" class=\"dataframe\">\n",
       "  <thead>\n",
       "    <tr style=\"text-align: right;\">\n",
       "      <th></th>\n",
       "      <th>LINE</th>\n",
       "      <th>LINENUM</th>\n",
       "      <th>LINENUM2</th>\n",
       "      <th>STNSEQ</th>\n",
       "      <th>STNSEQ2</th>\n",
       "      <th>DIR</th>\n",
       "      <th>STOPNUM</th>\n",
       "      <th>STATION</th>\n",
       "      <th>LAT</th>\n",
       "      <th>LONG</th>\n",
       "      <th>TPIS_NAME</th>\n",
       "      <th>POINT_X</th>\n",
       "      <th>POINT_Y</th>\n",
       "      <th>geometry</th>\n",
       "    </tr>\n",
       "  </thead>\n",
       "  <tbody>\n",
       "    <tr>\n",
       "      <th>0</th>\n",
       "      <td>Blue</td>\n",
       "      <td>801</td>\n",
       "      <td>0</td>\n",
       "      <td>21</td>\n",
       "      <td>0</td>\n",
       "      <td>None</td>\n",
       "      <td>80101</td>\n",
       "      <td>Downtown Long Beach Station</td>\n",
       "      <td>33.768071</td>\n",
       "      <td>-118.192921</td>\n",
       "      <td>Long Bch</td>\n",
       "      <td>6.503030e+06</td>\n",
       "      <td>1.738034e+06</td>\n",
       "      <td>POINT (6503030.095 1738033.828)</td>\n",
       "    </tr>\n",
       "    <tr>\n",
       "      <th>1</th>\n",
       "      <td>Blue</td>\n",
       "      <td>801</td>\n",
       "      <td>0</td>\n",
       "      <td>22</td>\n",
       "      <td>0</td>\n",
       "      <td>North</td>\n",
       "      <td>80102</td>\n",
       "      <td>Pacific Ave Station</td>\n",
       "      <td>33.772258</td>\n",
       "      <td>-118.193700</td>\n",
       "      <td>Pacific</td>\n",
       "      <td>6.502796e+06</td>\n",
       "      <td>1.739558e+06</td>\n",
       "      <td>POINT (6502796.262 1739558.050)</td>\n",
       "    </tr>\n",
       "    <tr>\n",
       "      <th>2</th>\n",
       "      <td>Blue</td>\n",
       "      <td>801</td>\n",
       "      <td>0</td>\n",
       "      <td>18</td>\n",
       "      <td>0</td>\n",
       "      <td>None</td>\n",
       "      <td>80105</td>\n",
       "      <td>Anaheim Street Station</td>\n",
       "      <td>33.781830</td>\n",
       "      <td>-118.189384</td>\n",
       "      <td>Anaheim</td>\n",
       "      <td>6.504115e+06</td>\n",
       "      <td>1.743039e+06</td>\n",
       "      <td>POINT (6504114.567 1743039.068)</td>\n",
       "    </tr>\n",
       "    <tr>\n",
       "      <th>3</th>\n",
       "      <td>Blue</td>\n",
       "      <td>801</td>\n",
       "      <td>0</td>\n",
       "      <td>17</td>\n",
       "      <td>0</td>\n",
       "      <td>None</td>\n",
       "      <td>80106</td>\n",
       "      <td>Pacific Coast Hwy Station</td>\n",
       "      <td>33.789090</td>\n",
       "      <td>-118.189382</td>\n",
       "      <td>PCH</td>\n",
       "      <td>6.504120e+06</td>\n",
       "      <td>1.745681e+06</td>\n",
       "      <td>POINT (6504120.152 1745681.179)</td>\n",
       "    </tr>\n",
       "    <tr>\n",
       "      <th>4</th>\n",
       "      <td>Blue</td>\n",
       "      <td>801</td>\n",
       "      <td>0</td>\n",
       "      <td>16</td>\n",
       "      <td>0</td>\n",
       "      <td>None</td>\n",
       "      <td>80107</td>\n",
       "      <td>Willow Street Station</td>\n",
       "      <td>33.807079</td>\n",
       "      <td>-118.189834</td>\n",
       "      <td>Willow</td>\n",
       "      <td>6.503995e+06</td>\n",
       "      <td>1.752228e+06</td>\n",
       "      <td>POINT (6503995.170 1752228.119)</td>\n",
       "    </tr>\n",
       "  </tbody>\n",
       "</table>\n",
       "</div>"
      ],
      "text/plain": [
       "   LINE  LINENUM  LINENUM2  STNSEQ  STNSEQ2    DIR  STOPNUM  \\\n",
       "0  Blue      801         0      21        0   None    80101   \n",
       "1  Blue      801         0      22        0  North    80102   \n",
       "2  Blue      801         0      18        0   None    80105   \n",
       "3  Blue      801         0      17        0   None    80106   \n",
       "4  Blue      801         0      16        0   None    80107   \n",
       "\n",
       "                       STATION        LAT        LONG TPIS_NAME       POINT_X  \\\n",
       "0  Downtown Long Beach Station  33.768071 -118.192921  Long Bch  6.503030e+06   \n",
       "1          Pacific Ave Station  33.772258 -118.193700   Pacific  6.502796e+06   \n",
       "2       Anaheim Street Station  33.781830 -118.189384   Anaheim  6.504115e+06   \n",
       "3    Pacific Coast Hwy Station  33.789090 -118.189382       PCH  6.504120e+06   \n",
       "4        Willow Street Station  33.807079 -118.189834    Willow  6.503995e+06   \n",
       "\n",
       "        POINT_Y                         geometry  \n",
       "0  1.738034e+06  POINT (6503030.095 1738033.828)  \n",
       "1  1.739558e+06  POINT (6502796.262 1739558.050)  \n",
       "2  1.743039e+06  POINT (6504114.567 1743039.068)  \n",
       "3  1.745681e+06  POINT (6504120.152 1745681.179)  \n",
       "4  1.752228e+06  POINT (6503995.170 1752228.119)  "
      ]
     },
     "execution_count": 4,
     "metadata": {},
     "output_type": "execute_result"
    }
   ],
   "source": [
    "# what does the data look like? \n",
    "metro.head()"
   ]
  },
  {
   "cell_type": "markdown",
   "metadata": {
    "slideshow": {
     "slide_type": "slide"
    }
   },
   "source": [
    "Ah! Surprise, surprise. Welcome to your first look at a pandas dataframe. We will cover dataframes more extensively in later sessions, but know that a python dataframe is like an excel spreadsheet. \n",
    "\n",
    "The `head()` command shows us the first 5 rows of the dataframe. You can also use `tail()` and `sample()`. Try these commands in the cells below:"
   ]
  },
  {
   "cell_type": "code",
   "execution_count": 5,
   "metadata": {},
   "outputs": [],
   "source": [
    "# try tail()\n"
   ]
  },
  {
   "cell_type": "code",
   "execution_count": 6,
   "metadata": {},
   "outputs": [],
   "source": [
    "# try sample()\n"
   ]
  },
  {
   "cell_type": "markdown",
   "metadata": {
    "slideshow": {
     "slide_type": "slide"
    }
   },
   "source": [
    "## Pandas Data Types\n",
    "\n",
    "Let's look at the data types for each column. You can collectively get all the datatypes for each column in a dataframe using the `dtypes` command."
   ]
  },
  {
   "cell_type": "code",
   "execution_count": 7,
   "metadata": {
    "scrolled": true
   },
   "outputs": [
    {
     "data": {
      "text/plain": [
       "LINE           object\n",
       "LINENUM         int64\n",
       "LINENUM2        int64\n",
       "STNSEQ          int64\n",
       "STNSEQ2         int64\n",
       "DIR            object\n",
       "STOPNUM         int64\n",
       "STATION        object\n",
       "LAT           float64\n",
       "LONG          float64\n",
       "TPIS_NAME      object\n",
       "POINT_X       float64\n",
       "POINT_Y       float64\n",
       "geometry     geometry\n",
       "dtype: object"
      ]
     },
     "execution_count": 7,
     "metadata": {},
     "output_type": "execute_result"
    }
   ],
   "source": [
    "metro.dtypes"
   ]
  },
  {
   "cell_type": "markdown",
   "metadata": {
    "slideshow": {
     "slide_type": "slide"
    }
   },
   "source": [
    "But there is better command that will get you more info. Yes, the `info` command."
   ]
  },
  {
   "cell_type": "code",
   "execution_count": 8,
   "metadata": {
    "slideshow": {
     "slide_type": "fragment"
    }
   },
   "outputs": [
    {
     "name": "stdout",
     "output_type": "stream",
     "text": [
      "<class 'geopandas.geodataframe.GeoDataFrame'>\n",
      "RangeIndex: 83 entries, 0 to 82\n",
      "Data columns (total 14 columns):\n",
      " #   Column     Non-Null Count  Dtype   \n",
      "---  ------     --------------  -----   \n",
      " 0   LINE       83 non-null     object  \n",
      " 1   LINENUM    83 non-null     int64   \n",
      " 2   LINENUM2   83 non-null     int64   \n",
      " 3   STNSEQ     83 non-null     int64   \n",
      " 4   STNSEQ2    83 non-null     int64   \n",
      " 5   DIR        3 non-null      object  \n",
      " 6   STOPNUM    83 non-null     int64   \n",
      " 7   STATION    83 non-null     object  \n",
      " 8   LAT        83 non-null     float64 \n",
      " 9   LONG       83 non-null     float64 \n",
      " 10  TPIS_NAME  83 non-null     object  \n",
      " 11  POINT_X    83 non-null     float64 \n",
      " 12  POINT_Y    83 non-null     float64 \n",
      " 13  geometry   83 non-null     geometry\n",
      "dtypes: float64(4), geometry(1), int64(5), object(4)\n",
      "memory usage: 9.2+ KB\n"
     ]
    }
   ],
   "source": [
    "# dataframe info\n",
    "metro.info()"
   ]
  },
  {
   "cell_type": "markdown",
   "metadata": {
    "slideshow": {
     "slide_type": "slide"
    }
   },
   "source": [
    "Wait. That looks different from what we have worked on! As it turns out, pandas datatypes are slightly different from the raw python datatypes. Check out the table below:"
   ]
  },
  {
   "cell_type": "markdown",
   "metadata": {
    "slideshow": {
     "slide_type": "fragment"
    }
   },
   "source": [
    "<table class=\"table table-striped\">\n",
    "  <thead>\n",
    "    <tr>\n",
    "      <th>Pandas Type</th>\n",
    "      <th>Native Python Type</th>\n",
    "      <th>Description</th>\n",
    "    </tr>\n",
    "  </thead>\n",
    "  <tbody>\n",
    "    <tr>\n",
    "      <td>object</td>\n",
    "      <td>string</td>\n",
    "      <td>The most general dtype. Will be assigned to your column if column has mixed types (numbers and strings).</td>\n",
    "    </tr>\n",
    "    <tr>\n",
    "      <td>int64</td>\n",
    "      <td>int</td>\n",
    "      <td>Numeric characters. 64 refers to the memory allocated to hold this character.</td>\n",
    "    </tr>\n",
    "    <tr>\n",
    "      <td>float64</td>\n",
    "      <td>float</td>\n",
    "      <td>Numeric characters with decimals. If a column contains numbers and NaNs (see below), pandas will default to float64, in case your missing value has a decimal.</td>\n",
    "    </tr>\n",
    "    <tr>\n",
    "      <td>datetime64, timedelta[ns]</td>\n",
    "      <td>N/A (but see the <a href=\"http://doc.python.org/2/library/datetime.html\">datetime</a> module in Python’s standard library)</td>\n",
    "      <td>Values meant to hold time data. Look into these for time series experiments.</td>\n",
    "    </tr>\n",
    "  </tbody>\n",
    "</table>"
   ]
  },
  {
   "cell_type": "markdown",
   "metadata": {
    "slideshow": {
     "slide_type": "slide"
    }
   },
   "source": [
    "## Data exploration\n",
    "\n",
    "Part of data exploration is learning what is in your data. How many rows are there? What are the columns? How many rows represent a particular slice of the data?"
   ]
  },
  {
   "cell_type": "code",
   "execution_count": 9,
   "metadata": {
    "slideshow": {
     "slide_type": "fragment"
    }
   },
   "outputs": [
    {
     "data": {
      "text/plain": [
       "(83, 14)"
      ]
     },
     "execution_count": 9,
     "metadata": {},
     "output_type": "execute_result"
    }
   ],
   "source": [
    "# how many rows and columns?\n",
    "metro.shape"
   ]
  },
  {
   "cell_type": "code",
   "execution_count": 10,
   "metadata": {
    "slideshow": {
     "slide_type": "fragment"
    }
   },
   "outputs": [
    {
     "data": {
      "text/plain": [
       "['LINE',\n",
       " 'LINENUM',\n",
       " 'LINENUM2',\n",
       " 'STNSEQ',\n",
       " 'STNSEQ2',\n",
       " 'DIR',\n",
       " 'STOPNUM',\n",
       " 'STATION',\n",
       " 'LAT',\n",
       " 'LONG',\n",
       " 'TPIS_NAME',\n",
       " 'POINT_X',\n",
       " 'POINT_Y',\n",
       " 'geometry']"
      ]
     },
     "execution_count": 10,
     "metadata": {},
     "output_type": "execute_result"
    }
   ],
   "source": [
    "# what are the columns?\n",
    "metro.columns.to_list()"
   ]
  },
  {
   "cell_type": "markdown",
   "metadata": {
    "slideshow": {
     "slide_type": "slide"
    }
   },
   "source": [
    "### Counting unique values in a column\n",
    "\n",
    "First, learn how to get values for a single column."
   ]
  },
  {
   "cell_type": "code",
   "execution_count": 11,
   "metadata": {
    "slideshow": {
     "slide_type": "fragment"
    }
   },
   "outputs": [
    {
     "data": {
      "text/plain": [
       "0     Blue\n",
       "1     Blue\n",
       "2     Blue\n",
       "3     Blue\n",
       "4     Blue\n",
       "      ... \n",
       "78    Gold\n",
       "79    Gold\n",
       "80    Gold\n",
       "81    Gold\n",
       "82    Gold\n",
       "Name: LINE, Length: 83, dtype: object"
      ]
     },
     "execution_count": 11,
     "metadata": {},
     "output_type": "execute_result"
    }
   ],
   "source": [
    "# single column\n",
    "metro['LINE']"
   ]
  },
  {
   "cell_type": "markdown",
   "metadata": {
    "slideshow": {
     "slide_type": "slide"
    }
   },
   "source": [
    "But what if you want to know how many stations there are for each line?"
   ]
  },
  {
   "cell_type": "code",
   "execution_count": 12,
   "metadata": {
    "scrolled": false,
    "slideshow": {
     "slide_type": "fragment"
    }
   },
   "outputs": [
    {
     "data": {
      "text/plain": [
       "Gold          21\n",
       "Blue          20\n",
       "Green         14\n",
       "EXPO          10\n",
       "Red            8\n",
       "Red/Purple     6\n",
       "Blue/EXPO      2\n",
       "Purple         2\n",
       "Name: LINE, dtype: int64"
      ]
     },
     "execution_count": 12,
     "metadata": {},
     "output_type": "execute_result"
    }
   ],
   "source": [
    "metro['LINE'].value_counts()"
   ]
  },
  {
   "cell_type": "markdown",
   "metadata": {
    "slideshow": {
     "slide_type": "slide"
    }
   },
   "source": [
    "Why don't we plot it?"
   ]
  },
  {
   "cell_type": "code",
   "execution_count": 13,
   "metadata": {
    "scrolled": false,
    "slideshow": {
     "slide_type": "fragment"
    }
   },
   "outputs": [
    {
     "data": {
      "text/plain": [
       "<matplotlib.axes._subplots.AxesSubplot at 0x7f5f42278970>"
      ]
     },
     "execution_count": 13,
     "metadata": {},
     "output_type": "execute_result"
    },
    {
     "data": {
      "image/png": "[encoded data removed]",
      "text/plain": [
       "<Figure size 432x288 with 1 Axes>"
      ]
     },
     "metadata": {
      "needs_background": "light"
     },
     "output_type": "display_data"
    }
   ],
   "source": [
    "metro['LINE'].value_counts().plot.bar()"
   ]
  },
  {
   "cell_type": "code",
   "execution_count": 14,
   "metadata": {
    "slideshow": {
     "slide_type": "fragment"
    }
   },
   "outputs": [],
   "source": [
    "# try it yourself. find the unique values for LINENUM\n"
   ]
  },
  {
   "cell_type": "markdown",
   "metadata": {
    "slideshow": {
     "slide_type": "slide"
    }
   },
   "source": [
    "### Trimming the data\n",
    "Oftentimes, we import data and it has too many columns. It is always good practice to elimnate those rows that you are sure you will not use, and keep your data \"clean\" and \"mean.\"\n",
    "\n"
   ]
  },
  {
   "cell_type": "code",
   "execution_count": 15,
   "metadata": {
    "slideshow": {
     "slide_type": "fragment"
    }
   },
   "outputs": [
    {
     "data": {
      "text/html": [
       "<div>\n",
       "<style scoped>\n",
       "    .dataframe tbody tr th:only-of-type {\n",
       "        vertical-align: middle;\n",
       "    }\n",
       "\n",
       "    .dataframe tbody tr th {\n",
       "        vertical-align: top;\n",
       "    }\n",
       "\n",
       "    .dataframe thead th {\n",
       "        text-align: right;\n",
       "    }\n",
       "</style>\n",
       "<table border=\"1\" class=\"dataframe\">\n",
       "  <thead>\n",
       "    <tr style=\"text-align: right;\">\n",
       "      <th></th>\n",
       "      <th>LINE</th>\n",
       "      <th>LINENUM</th>\n",
       "      <th>STATION</th>\n",
       "      <th>LAT</th>\n",
       "      <th>LONG</th>\n",
       "      <th>geometry</th>\n",
       "    </tr>\n",
       "  </thead>\n",
       "  <tbody>\n",
       "    <tr>\n",
       "      <th>0</th>\n",
       "      <td>Blue</td>\n",
       "      <td>801</td>\n",
       "      <td>Downtown Long Beach Station</td>\n",
       "      <td>33.768071</td>\n",
       "      <td>-118.192921</td>\n",
       "      <td>POINT (6503030.095 1738033.828)</td>\n",
       "    </tr>\n",
       "    <tr>\n",
       "      <th>1</th>\n",
       "      <td>Blue</td>\n",
       "      <td>801</td>\n",
       "      <td>Pacific Ave Station</td>\n",
       "      <td>33.772258</td>\n",
       "      <td>-118.193700</td>\n",
       "      <td>POINT (6502796.262 1739558.050)</td>\n",
       "    </tr>\n",
       "    <tr>\n",
       "      <th>2</th>\n",
       "      <td>Blue</td>\n",
       "      <td>801</td>\n",
       "      <td>Anaheim Street Station</td>\n",
       "      <td>33.781830</td>\n",
       "      <td>-118.189384</td>\n",
       "      <td>POINT (6504114.567 1743039.068)</td>\n",
       "    </tr>\n",
       "    <tr>\n",
       "      <th>3</th>\n",
       "      <td>Blue</td>\n",
       "      <td>801</td>\n",
       "      <td>Pacific Coast Hwy Station</td>\n",
       "      <td>33.789090</td>\n",
       "      <td>-118.189382</td>\n",
       "      <td>POINT (6504120.152 1745681.179)</td>\n",
       "    </tr>\n",
       "    <tr>\n",
       "      <th>4</th>\n",
       "      <td>Blue</td>\n",
       "      <td>801</td>\n",
       "      <td>Willow Street Station</td>\n",
       "      <td>33.807079</td>\n",
       "      <td>-118.189834</td>\n",
       "      <td>POINT (6503995.170 1752228.119)</td>\n",
       "    </tr>\n",
       "    <tr>\n",
       "      <th>...</th>\n",
       "      <td>...</td>\n",
       "      <td>...</td>\n",
       "      <td>...</td>\n",
       "      <td>...</td>\n",
       "      <td>...</td>\n",
       "      <td>...</td>\n",
       "    </tr>\n",
       "    <tr>\n",
       "      <th>78</th>\n",
       "      <td>Gold</td>\n",
       "      <td>804</td>\n",
       "      <td>Del Mar Station</td>\n",
       "      <td>34.141910</td>\n",
       "      <td>-118.148214</td>\n",
       "      <td>POINT (6516818.973 1874058.989)</td>\n",
       "    </tr>\n",
       "    <tr>\n",
       "      <th>79</th>\n",
       "      <td>Gold</td>\n",
       "      <td>804</td>\n",
       "      <td>Memorial Park Station</td>\n",
       "      <td>34.148356</td>\n",
       "      <td>-118.147512</td>\n",
       "      <td>POINT (6517034.832 1876404.492)</td>\n",
       "    </tr>\n",
       "    <tr>\n",
       "      <th>80</th>\n",
       "      <td>Gold</td>\n",
       "      <td>804</td>\n",
       "      <td>Lake Station</td>\n",
       "      <td>34.151806</td>\n",
       "      <td>-118.131390</td>\n",
       "      <td>POINT (6521914.408 1877653.241)</td>\n",
       "    </tr>\n",
       "    <tr>\n",
       "      <th>81</th>\n",
       "      <td>Gold</td>\n",
       "      <td>804</td>\n",
       "      <td>Allen Station</td>\n",
       "      <td>34.152417</td>\n",
       "      <td>-118.114348</td>\n",
       "      <td>POINT (6527070.744 1877869.293)</td>\n",
       "    </tr>\n",
       "    <tr>\n",
       "      <th>82</th>\n",
       "      <td>Gold</td>\n",
       "      <td>804</td>\n",
       "      <td>Sierra Madre Villa Station</td>\n",
       "      <td>34.147752</td>\n",
       "      <td>-118.081212</td>\n",
       "      <td>POINT (6537094.647 1876161.862)</td>\n",
       "    </tr>\n",
       "  </tbody>\n",
       "</table>\n",
       "<p>83 rows × 6 columns</p>\n",
       "</div>"
      ],
      "text/plain": [
       "    LINE  LINENUM                      STATION        LAT        LONG  \\\n",
       "0   Blue      801  Downtown Long Beach Station  33.768071 -118.192921   \n",
       "1   Blue      801          Pacific Ave Station  33.772258 -118.193700   \n",
       "2   Blue      801       Anaheim Street Station  33.781830 -118.189384   \n",
       "3   Blue      801    Pacific Coast Hwy Station  33.789090 -118.189382   \n",
       "4   Blue      801        Willow Street Station  33.807079 -118.189834   \n",
       "..   ...      ...                          ...        ...         ...   \n",
       "78  Gold      804              Del Mar Station  34.141910 -118.148214   \n",
       "79  Gold      804        Memorial Park Station  34.148356 -118.147512   \n",
       "80  Gold      804                 Lake Station  34.151806 -118.131390   \n",
       "81  Gold      804                Allen Station  34.152417 -118.114348   \n",
       "82  Gold      804   Sierra Madre Villa Station  34.147752 -118.081212   \n",
       "\n",
       "                           geometry  \n",
       "0   POINT (6503030.095 1738033.828)  \n",
       "1   POINT (6502796.262 1739558.050)  \n",
       "2   POINT (6504114.567 1743039.068)  \n",
       "3   POINT (6504120.152 1745681.179)  \n",
       "4   POINT (6503995.170 1752228.119)  \n",
       "..                              ...  \n",
       "78  POINT (6516818.973 1874058.989)  \n",
       "79  POINT (6517034.832 1876404.492)  \n",
       "80  POINT (6521914.408 1877653.241)  \n",
       "81  POINT (6527070.744 1877869.293)  \n",
       "82  POINT (6537094.647 1876161.862)  \n",
       "\n",
       "[83 rows x 6 columns]"
      ]
     },
     "execution_count": 15,
     "metadata": {},
     "output_type": "execute_result"
    }
   ],
   "source": [
    "metro[['LINE','LINENUM','STATION','LAT','LONG','geometry']]"
   ]
  },
  {
   "cell_type": "markdown",
   "metadata": {
    "slideshow": {
     "slide_type": "slide"
    }
   },
   "source": [
    "Wait, why the double square brackets? `[[...]]`\n",
    "\n",
    "The reason for this is that we are feeding the dataframe a list of column names. Another way to do the same thing would be:"
   ]
  },
  {
   "cell_type": "code",
   "execution_count": 16,
   "metadata": {
    "slideshow": {
     "slide_type": "fragment"
    }
   },
   "outputs": [
    {
     "data": {
      "text/html": [
       "<div>\n",
       "<style scoped>\n",
       "    .dataframe tbody tr th:only-of-type {\n",
       "        vertical-align: middle;\n",
       "    }\n",
       "\n",
       "    .dataframe tbody tr th {\n",
       "        vertical-align: top;\n",
       "    }\n",
       "\n",
       "    .dataframe thead th {\n",
       "        text-align: right;\n",
       "    }\n",
       "</style>\n",
       "<table border=\"1\" class=\"dataframe\">\n",
       "  <thead>\n",
       "    <tr style=\"text-align: right;\">\n",
       "      <th></th>\n",
       "      <th>LINE</th>\n",
       "      <th>LINENUM</th>\n",
       "      <th>STATION</th>\n",
       "      <th>LAT</th>\n",
       "      <th>LONG</th>\n",
       "      <th>geometry</th>\n",
       "    </tr>\n",
       "  </thead>\n",
       "  <tbody>\n",
       "    <tr>\n",
       "      <th>0</th>\n",
       "      <td>Blue</td>\n",
       "      <td>801</td>\n",
       "      <td>Downtown Long Beach Station</td>\n",
       "      <td>33.768071</td>\n",
       "      <td>-118.192921</td>\n",
       "      <td>POINT (6503030.095 1738033.828)</td>\n",
       "    </tr>\n",
       "    <tr>\n",
       "      <th>1</th>\n",
       "      <td>Blue</td>\n",
       "      <td>801</td>\n",
       "      <td>Pacific Ave Station</td>\n",
       "      <td>33.772258</td>\n",
       "      <td>-118.193700</td>\n",
       "      <td>POINT (6502796.262 1739558.050)</td>\n",
       "    </tr>\n",
       "    <tr>\n",
       "      <th>2</th>\n",
       "      <td>Blue</td>\n",
       "      <td>801</td>\n",
       "      <td>Anaheim Street Station</td>\n",
       "      <td>33.781830</td>\n",
       "      <td>-118.189384</td>\n",
       "      <td>POINT (6504114.567 1743039.068)</td>\n",
       "    </tr>\n",
       "    <tr>\n",
       "      <th>3</th>\n",
       "      <td>Blue</td>\n",
       "      <td>801</td>\n",
       "      <td>Pacific Coast Hwy Station</td>\n",
       "      <td>33.789090</td>\n",
       "      <td>-118.189382</td>\n",
       "      <td>POINT (6504120.152 1745681.179)</td>\n",
       "    </tr>\n",
       "    <tr>\n",
       "      <th>4</th>\n",
       "      <td>Blue</td>\n",
       "      <td>801</td>\n",
       "      <td>Willow Street Station</td>\n",
       "      <td>33.807079</td>\n",
       "      <td>-118.189834</td>\n",
       "      <td>POINT (6503995.170 1752228.119)</td>\n",
       "    </tr>\n",
       "    <tr>\n",
       "      <th>...</th>\n",
       "      <td>...</td>\n",
       "      <td>...</td>\n",
       "      <td>...</td>\n",
       "      <td>...</td>\n",
       "      <td>...</td>\n",
       "      <td>...</td>\n",
       "    </tr>\n",
       "    <tr>\n",
       "      <th>78</th>\n",
       "      <td>Gold</td>\n",
       "      <td>804</td>\n",
       "      <td>Del Mar Station</td>\n",
       "      <td>34.141910</td>\n",
       "      <td>-118.148214</td>\n",
       "      <td>POINT (6516818.973 1874058.989)</td>\n",
       "    </tr>\n",
       "    <tr>\n",
       "      <th>79</th>\n",
       "      <td>Gold</td>\n",
       "      <td>804</td>\n",
       "      <td>Memorial Park Station</td>\n",
       "      <td>34.148356</td>\n",
       "      <td>-118.147512</td>\n",
       "      <td>POINT (6517034.832 1876404.492)</td>\n",
       "    </tr>\n",
       "    <tr>\n",
       "      <th>80</th>\n",
       "      <td>Gold</td>\n",
       "      <td>804</td>\n",
       "      <td>Lake Station</td>\n",
       "      <td>34.151806</td>\n",
       "      <td>-118.131390</td>\n",
       "      <td>POINT (6521914.408 1877653.241)</td>\n",
       "    </tr>\n",
       "    <tr>\n",
       "      <th>81</th>\n",
       "      <td>Gold</td>\n",
       "      <td>804</td>\n",
       "      <td>Allen Station</td>\n",
       "      <td>34.152417</td>\n",
       "      <td>-118.114348</td>\n",
       "      <td>POINT (6527070.744 1877869.293)</td>\n",
       "    </tr>\n",
       "    <tr>\n",
       "      <th>82</th>\n",
       "      <td>Gold</td>\n",
       "      <td>804</td>\n",
       "      <td>Sierra Madre Villa Station</td>\n",
       "      <td>34.147752</td>\n",
       "      <td>-118.081212</td>\n",
       "      <td>POINT (6537094.647 1876161.862)</td>\n",
       "    </tr>\n",
       "  </tbody>\n",
       "</table>\n",
       "<p>83 rows × 6 columns</p>\n",
       "</div>"
      ],
      "text/plain": [
       "    LINE  LINENUM                      STATION        LAT        LONG  \\\n",
       "0   Blue      801  Downtown Long Beach Station  33.768071 -118.192921   \n",
       "1   Blue      801          Pacific Ave Station  33.772258 -118.193700   \n",
       "2   Blue      801       Anaheim Street Station  33.781830 -118.189384   \n",
       "3   Blue      801    Pacific Coast Hwy Station  33.789090 -118.189382   \n",
       "4   Blue      801        Willow Street Station  33.807079 -118.189834   \n",
       "..   ...      ...                          ...        ...         ...   \n",
       "78  Gold      804              Del Mar Station  34.141910 -118.148214   \n",
       "79  Gold      804        Memorial Park Station  34.148356 -118.147512   \n",
       "80  Gold      804                 Lake Station  34.151806 -118.131390   \n",
       "81  Gold      804                Allen Station  34.152417 -118.114348   \n",
       "82  Gold      804   Sierra Madre Villa Station  34.147752 -118.081212   \n",
       "\n",
       "                           geometry  \n",
       "0   POINT (6503030.095 1738033.828)  \n",
       "1   POINT (6502796.262 1739558.050)  \n",
       "2   POINT (6504114.567 1743039.068)  \n",
       "3   POINT (6504120.152 1745681.179)  \n",
       "4   POINT (6503995.170 1752228.119)  \n",
       "..                              ...  \n",
       "78  POINT (6516818.973 1874058.989)  \n",
       "79  POINT (6517034.832 1876404.492)  \n",
       "80  POINT (6521914.408 1877653.241)  \n",
       "81  POINT (6527070.744 1877869.293)  \n",
       "82  POINT (6537094.647 1876161.862)  \n",
       "\n",
       "[83 rows x 6 columns]"
      ]
     },
     "execution_count": 16,
     "metadata": {},
     "output_type": "execute_result"
    }
   ],
   "source": [
    "# list of desired column names\n",
    "desired_columns = ['LINE','LINENUM','STATION','LAT','LONG','geometry']\n",
    "\n",
    "# subset based on desired columns\n",
    "metro[desired_columns]"
   ]
  },
  {
   "cell_type": "markdown",
   "metadata": {
    "slideshow": {
     "slide_type": "slide"
    }
   },
   "source": [
    "If you now print the dataframe, what happens?"
   ]
  },
  {
   "cell_type": "code",
   "execution_count": 17,
   "metadata": {
    "slideshow": {
     "slide_type": "fragment"
    }
   },
   "outputs": [
    {
     "data": {
      "text/html": [
       "<div>\n",
       "<style scoped>\n",
       "    .dataframe tbody tr th:only-of-type {\n",
       "        vertical-align: middle;\n",
       "    }\n",
       "\n",
       "    .dataframe tbody tr th {\n",
       "        vertical-align: top;\n",
       "    }\n",
       "\n",
       "    .dataframe thead th {\n",
       "        text-align: right;\n",
       "    }\n",
       "</style>\n",
       "<table border=\"1\" class=\"dataframe\">\n",
       "  <thead>\n",
       "    <tr style=\"text-align: right;\">\n",
       "      <th></th>\n",
       "      <th>LINE</th>\n",
       "      <th>LINENUM</th>\n",
       "      <th>LINENUM2</th>\n",
       "      <th>STNSEQ</th>\n",
       "      <th>STNSEQ2</th>\n",
       "      <th>DIR</th>\n",
       "      <th>STOPNUM</th>\n",
       "      <th>STATION</th>\n",
       "      <th>LAT</th>\n",
       "      <th>LONG</th>\n",
       "      <th>TPIS_NAME</th>\n",
       "      <th>POINT_X</th>\n",
       "      <th>POINT_Y</th>\n",
       "      <th>geometry</th>\n",
       "    </tr>\n",
       "  </thead>\n",
       "  <tbody>\n",
       "    <tr>\n",
       "      <th>0</th>\n",
       "      <td>Blue</td>\n",
       "      <td>801</td>\n",
       "      <td>0</td>\n",
       "      <td>21</td>\n",
       "      <td>0</td>\n",
       "      <td>None</td>\n",
       "      <td>80101</td>\n",
       "      <td>Downtown Long Beach Station</td>\n",
       "      <td>33.768071</td>\n",
       "      <td>-118.192921</td>\n",
       "      <td>Long Bch</td>\n",
       "      <td>6.503030e+06</td>\n",
       "      <td>1.738034e+06</td>\n",
       "      <td>POINT (6503030.095 1738033.828)</td>\n",
       "    </tr>\n",
       "    <tr>\n",
       "      <th>1</th>\n",
       "      <td>Blue</td>\n",
       "      <td>801</td>\n",
       "      <td>0</td>\n",
       "      <td>22</td>\n",
       "      <td>0</td>\n",
       "      <td>North</td>\n",
       "      <td>80102</td>\n",
       "      <td>Pacific Ave Station</td>\n",
       "      <td>33.772258</td>\n",
       "      <td>-118.193700</td>\n",
       "      <td>Pacific</td>\n",
       "      <td>6.502796e+06</td>\n",
       "      <td>1.739558e+06</td>\n",
       "      <td>POINT (6502796.262 1739558.050)</td>\n",
       "    </tr>\n",
       "    <tr>\n",
       "      <th>2</th>\n",
       "      <td>Blue</td>\n",
       "      <td>801</td>\n",
       "      <td>0</td>\n",
       "      <td>18</td>\n",
       "      <td>0</td>\n",
       "      <td>None</td>\n",
       "      <td>80105</td>\n",
       "      <td>Anaheim Street Station</td>\n",
       "      <td>33.781830</td>\n",
       "      <td>-118.189384</td>\n",
       "      <td>Anaheim</td>\n",
       "      <td>6.504115e+06</td>\n",
       "      <td>1.743039e+06</td>\n",
       "      <td>POINT (6504114.567 1743039.068)</td>\n",
       "    </tr>\n",
       "    <tr>\n",
       "      <th>3</th>\n",
       "      <td>Blue</td>\n",
       "      <td>801</td>\n",
       "      <td>0</td>\n",
       "      <td>17</td>\n",
       "      <td>0</td>\n",
       "      <td>None</td>\n",
       "      <td>80106</td>\n",
       "      <td>Pacific Coast Hwy Station</td>\n",
       "      <td>33.789090</td>\n",
       "      <td>-118.189382</td>\n",
       "      <td>PCH</td>\n",
       "      <td>6.504120e+06</td>\n",
       "      <td>1.745681e+06</td>\n",
       "      <td>POINT (6504120.152 1745681.179)</td>\n",
       "    </tr>\n",
       "    <tr>\n",
       "      <th>4</th>\n",
       "      <td>Blue</td>\n",
       "      <td>801</td>\n",
       "      <td>0</td>\n",
       "      <td>16</td>\n",
       "      <td>0</td>\n",
       "      <td>None</td>\n",
       "      <td>80107</td>\n",
       "      <td>Willow Street Station</td>\n",
       "      <td>33.807079</td>\n",
       "      <td>-118.189834</td>\n",
       "      <td>Willow</td>\n",
       "      <td>6.503995e+06</td>\n",
       "      <td>1.752228e+06</td>\n",
       "      <td>POINT (6503995.170 1752228.119)</td>\n",
       "    </tr>\n",
       "  </tbody>\n",
       "</table>\n",
       "</div>"
      ],
      "text/plain": [
       "   LINE  LINENUM  LINENUM2  STNSEQ  STNSEQ2    DIR  STOPNUM  \\\n",
       "0  Blue      801         0      21        0   None    80101   \n",
       "1  Blue      801         0      22        0  North    80102   \n",
       "2  Blue      801         0      18        0   None    80105   \n",
       "3  Blue      801         0      17        0   None    80106   \n",
       "4  Blue      801         0      16        0   None    80107   \n",
       "\n",
       "                       STATION        LAT        LONG TPIS_NAME       POINT_X  \\\n",
       "0  Downtown Long Beach Station  33.768071 -118.192921  Long Bch  6.503030e+06   \n",
       "1          Pacific Ave Station  33.772258 -118.193700   Pacific  6.502796e+06   \n",
       "2       Anaheim Street Station  33.781830 -118.189384   Anaheim  6.504115e+06   \n",
       "3    Pacific Coast Hwy Station  33.789090 -118.189382       PCH  6.504120e+06   \n",
       "4        Willow Street Station  33.807079 -118.189834    Willow  6.503995e+06   \n",
       "\n",
       "        POINT_Y                         geometry  \n",
       "0  1.738034e+06  POINT (6503030.095 1738033.828)  \n",
       "1  1.739558e+06  POINT (6502796.262 1739558.050)  \n",
       "2  1.743039e+06  POINT (6504114.567 1743039.068)  \n",
       "3  1.745681e+06  POINT (6504120.152 1745681.179)  \n",
       "4  1.752228e+06  POINT (6503995.170 1752228.119)  "
      ]
     },
     "execution_count": 17,
     "metadata": {},
     "output_type": "execute_result"
    }
   ],
   "source": [
    "metro.head()"
   ]
  },
  {
   "cell_type": "markdown",
   "metadata": {
    "slideshow": {
     "slide_type": "fragment"
    }
   },
   "source": [
    "What happened? Why has the dataframe reverted to the original data?"
   ]
  },
  {
   "cell_type": "markdown",
   "metadata": {
    "slideshow": {
     "slide_type": "slide"
    }
   },
   "source": [
    "That's right. In order to preserve your new dataframe, you have to **declare** it as a new variable."
   ]
  },
  {
   "cell_type": "code",
   "execution_count": 18,
   "metadata": {
    "slideshow": {
     "slide_type": "fragment"
    }
   },
   "outputs": [
    {
     "data": {
      "text/html": [
       "<div>\n",
       "<style scoped>\n",
       "    .dataframe tbody tr th:only-of-type {\n",
       "        vertical-align: middle;\n",
       "    }\n",
       "\n",
       "    .dataframe tbody tr th {\n",
       "        vertical-align: top;\n",
       "    }\n",
       "\n",
       "    .dataframe thead th {\n",
       "        text-align: right;\n",
       "    }\n",
       "</style>\n",
       "<table border=\"1\" class=\"dataframe\">\n",
       "  <thead>\n",
       "    <tr style=\"text-align: right;\">\n",
       "      <th></th>\n",
       "      <th>LINE</th>\n",
       "      <th>LINENUM</th>\n",
       "      <th>STATION</th>\n",
       "      <th>LAT</th>\n",
       "      <th>LONG</th>\n",
       "      <th>geometry</th>\n",
       "    </tr>\n",
       "  </thead>\n",
       "  <tbody>\n",
       "    <tr>\n",
       "      <th>0</th>\n",
       "      <td>Blue</td>\n",
       "      <td>801</td>\n",
       "      <td>Downtown Long Beach Station</td>\n",
       "      <td>33.768071</td>\n",
       "      <td>-118.192921</td>\n",
       "      <td>POINT (6503030.095 1738033.828)</td>\n",
       "    </tr>\n",
       "    <tr>\n",
       "      <th>1</th>\n",
       "      <td>Blue</td>\n",
       "      <td>801</td>\n",
       "      <td>Pacific Ave Station</td>\n",
       "      <td>33.772258</td>\n",
       "      <td>-118.193700</td>\n",
       "      <td>POINT (6502796.262 1739558.050)</td>\n",
       "    </tr>\n",
       "    <tr>\n",
       "      <th>2</th>\n",
       "      <td>Blue</td>\n",
       "      <td>801</td>\n",
       "      <td>Anaheim Street Station</td>\n",
       "      <td>33.781830</td>\n",
       "      <td>-118.189384</td>\n",
       "      <td>POINT (6504114.567 1743039.068)</td>\n",
       "    </tr>\n",
       "    <tr>\n",
       "      <th>3</th>\n",
       "      <td>Blue</td>\n",
       "      <td>801</td>\n",
       "      <td>Pacific Coast Hwy Station</td>\n",
       "      <td>33.789090</td>\n",
       "      <td>-118.189382</td>\n",
       "      <td>POINT (6504120.152 1745681.179)</td>\n",
       "    </tr>\n",
       "    <tr>\n",
       "      <th>4</th>\n",
       "      <td>Blue</td>\n",
       "      <td>801</td>\n",
       "      <td>Willow Street Station</td>\n",
       "      <td>33.807079</td>\n",
       "      <td>-118.189834</td>\n",
       "      <td>POINT (6503995.170 1752228.119)</td>\n",
       "    </tr>\n",
       "    <tr>\n",
       "      <th>...</th>\n",
       "      <td>...</td>\n",
       "      <td>...</td>\n",
       "      <td>...</td>\n",
       "      <td>...</td>\n",
       "      <td>...</td>\n",
       "      <td>...</td>\n",
       "    </tr>\n",
       "    <tr>\n",
       "      <th>78</th>\n",
       "      <td>Gold</td>\n",
       "      <td>804</td>\n",
       "      <td>Del Mar Station</td>\n",
       "      <td>34.141910</td>\n",
       "      <td>-118.148214</td>\n",
       "      <td>POINT (6516818.973 1874058.989)</td>\n",
       "    </tr>\n",
       "    <tr>\n",
       "      <th>79</th>\n",
       "      <td>Gold</td>\n",
       "      <td>804</td>\n",
       "      <td>Memorial Park Station</td>\n",
       "      <td>34.148356</td>\n",
       "      <td>-118.147512</td>\n",
       "      <td>POINT (6517034.832 1876404.492)</td>\n",
       "    </tr>\n",
       "    <tr>\n",
       "      <th>80</th>\n",
       "      <td>Gold</td>\n",
       "      <td>804</td>\n",
       "      <td>Lake Station</td>\n",
       "      <td>34.151806</td>\n",
       "      <td>-118.131390</td>\n",
       "      <td>POINT (6521914.408 1877653.241)</td>\n",
       "    </tr>\n",
       "    <tr>\n",
       "      <th>81</th>\n",
       "      <td>Gold</td>\n",
       "      <td>804</td>\n",
       "      <td>Allen Station</td>\n",
       "      <td>34.152417</td>\n",
       "      <td>-118.114348</td>\n",
       "      <td>POINT (6527070.744 1877869.293)</td>\n",
       "    </tr>\n",
       "    <tr>\n",
       "      <th>82</th>\n",
       "      <td>Gold</td>\n",
       "      <td>804</td>\n",
       "      <td>Sierra Madre Villa Station</td>\n",
       "      <td>34.147752</td>\n",
       "      <td>-118.081212</td>\n",
       "      <td>POINT (6537094.647 1876161.862)</td>\n",
       "    </tr>\n",
       "  </tbody>\n",
       "</table>\n",
       "<p>83 rows × 6 columns</p>\n",
       "</div>"
      ],
      "text/plain": [
       "    LINE  LINENUM                      STATION        LAT        LONG  \\\n",
       "0   Blue      801  Downtown Long Beach Station  33.768071 -118.192921   \n",
       "1   Blue      801          Pacific Ave Station  33.772258 -118.193700   \n",
       "2   Blue      801       Anaheim Street Station  33.781830 -118.189384   \n",
       "3   Blue      801    Pacific Coast Hwy Station  33.789090 -118.189382   \n",
       "4   Blue      801        Willow Street Station  33.807079 -118.189834   \n",
       "..   ...      ...                          ...        ...         ...   \n",
       "78  Gold      804              Del Mar Station  34.141910 -118.148214   \n",
       "79  Gold      804        Memorial Park Station  34.148356 -118.147512   \n",
       "80  Gold      804                 Lake Station  34.151806 -118.131390   \n",
       "81  Gold      804                Allen Station  34.152417 -118.114348   \n",
       "82  Gold      804   Sierra Madre Villa Station  34.147752 -118.081212   \n",
       "\n",
       "                           geometry  \n",
       "0   POINT (6503030.095 1738033.828)  \n",
       "1   POINT (6502796.262 1739558.050)  \n",
       "2   POINT (6504114.567 1743039.068)  \n",
       "3   POINT (6504120.152 1745681.179)  \n",
       "4   POINT (6503995.170 1752228.119)  \n",
       "..                              ...  \n",
       "78  POINT (6516818.973 1874058.989)  \n",
       "79  POINT (6517034.832 1876404.492)  \n",
       "80  POINT (6521914.408 1877653.241)  \n",
       "81  POINT (6527070.744 1877869.293)  \n",
       "82  POINT (6537094.647 1876161.862)  \n",
       "\n",
       "[83 rows x 6 columns]"
      ]
     },
     "execution_count": 18,
     "metadata": {},
     "output_type": "execute_result"
    }
   ],
   "source": [
    "metro_trimmed = metro[desired_columns]\n",
    "metro_trimmed"
   ]
  },
  {
   "cell_type": "markdown",
   "metadata": {
    "slideshow": {
     "slide_type": "slide"
    }
   },
   "source": [
    "### Subsetting/querying/filtering the data\n",
    "\n",
    "What if you only want to see a subset of the data? Or create a new table based on a query?"
   ]
  },
  {
   "cell_type": "code",
   "execution_count": 19,
   "metadata": {
    "slideshow": {
     "slide_type": "fragment"
    }
   },
   "outputs": [
    {
     "data": {
      "text/html": [
       "<div>\n",
       "<style scoped>\n",
       "    .dataframe tbody tr th:only-of-type {\n",
       "        vertical-align: middle;\n",
       "    }\n",
       "\n",
       "    .dataframe tbody tr th {\n",
       "        vertical-align: top;\n",
       "    }\n",
       "\n",
       "    .dataframe thead th {\n",
       "        text-align: right;\n",
       "    }\n",
       "</style>\n",
       "<table border=\"1\" class=\"dataframe\">\n",
       "  <thead>\n",
       "    <tr style=\"text-align: right;\">\n",
       "      <th></th>\n",
       "      <th>LINE</th>\n",
       "      <th>LINENUM</th>\n",
       "      <th>STATION</th>\n",
       "      <th>LAT</th>\n",
       "      <th>LONG</th>\n",
       "      <th>geometry</th>\n",
       "    </tr>\n",
       "  </thead>\n",
       "  <tbody>\n",
       "    <tr>\n",
       "      <th>20</th>\n",
       "      <td>EXPO</td>\n",
       "      <td>806</td>\n",
       "      <td>LATTC / Ortho Institute Station</td>\n",
       "      <td>34.029112</td>\n",
       "      <td>-118.273603</td>\n",
       "      <td>POINT (6478766.175 1833089.413)</td>\n",
       "    </tr>\n",
       "    <tr>\n",
       "      <th>21</th>\n",
       "      <td>EXPO</td>\n",
       "      <td>806</td>\n",
       "      <td>Jefferson / USC Station</td>\n",
       "      <td>34.022123</td>\n",
       "      <td>-118.278118</td>\n",
       "      <td>POINT (6477391.116 1830549.740)</td>\n",
       "    </tr>\n",
       "    <tr>\n",
       "      <th>22</th>\n",
       "      <td>EXPO</td>\n",
       "      <td>806</td>\n",
       "      <td>Expo Park / USC Station</td>\n",
       "      <td>34.018227</td>\n",
       "      <td>-118.285734</td>\n",
       "      <td>POINT (6475079.285 1829138.386)</td>\n",
       "    </tr>\n",
       "    <tr>\n",
       "      <th>23</th>\n",
       "      <td>EXPO</td>\n",
       "      <td>806</td>\n",
       "      <td>Expo / Vermont Station</td>\n",
       "      <td>34.018245</td>\n",
       "      <td>-118.291540</td>\n",
       "      <td>POINT (6473319.888 1829149.989)</td>\n",
       "    </tr>\n",
       "    <tr>\n",
       "      <th>24</th>\n",
       "      <td>EXPO</td>\n",
       "      <td>806</td>\n",
       "      <td>Expo / Western Station</td>\n",
       "      <td>34.018331</td>\n",
       "      <td>-118.308910</td>\n",
       "      <td>POINT (6468056.285 1829197.007)</td>\n",
       "    </tr>\n",
       "    <tr>\n",
       "      <th>25</th>\n",
       "      <td>EXPO</td>\n",
       "      <td>806</td>\n",
       "      <td>Expo / Crenshaw Station</td>\n",
       "      <td>34.022526</td>\n",
       "      <td>-118.335078</td>\n",
       "      <td>POINT (6460131.596 1830749.046)</td>\n",
       "    </tr>\n",
       "    <tr>\n",
       "      <th>26</th>\n",
       "      <td>EXPO</td>\n",
       "      <td>806</td>\n",
       "      <td>Farmdale Station</td>\n",
       "      <td>34.023981</td>\n",
       "      <td>-118.346095</td>\n",
       "      <td>POINT (6456795.070 1831289.858)</td>\n",
       "    </tr>\n",
       "    <tr>\n",
       "      <th>27</th>\n",
       "      <td>EXPO</td>\n",
       "      <td>806</td>\n",
       "      <td>Expo / La Brea / Ethel Bradley Station</td>\n",
       "      <td>34.024803</td>\n",
       "      <td>-118.355159</td>\n",
       "      <td>POINT (6454049.620 1831598.579)</td>\n",
       "    </tr>\n",
       "    <tr>\n",
       "      <th>28</th>\n",
       "      <td>EXPO</td>\n",
       "      <td>806</td>\n",
       "      <td>La Cienega / Jefferson Station</td>\n",
       "      <td>34.026355</td>\n",
       "      <td>-118.372120</td>\n",
       "      <td>POINT (6448912.366 1832181.972)</td>\n",
       "    </tr>\n",
       "    <tr>\n",
       "      <th>29</th>\n",
       "      <td>EXPO</td>\n",
       "      <td>806</td>\n",
       "      <td>Culver City Station</td>\n",
       "      <td>34.027896</td>\n",
       "      <td>-118.388986</td>\n",
       "      <td>POINT (6443804.075 1832762.116)</td>\n",
       "    </tr>\n",
       "  </tbody>\n",
       "</table>\n",
       "</div>"
      ],
      "text/plain": [
       "    LINE  LINENUM                                 STATION        LAT  \\\n",
       "20  EXPO      806         LATTC / Ortho Institute Station  34.029112   \n",
       "21  EXPO      806                 Jefferson / USC Station  34.022123   \n",
       "22  EXPO      806                 Expo Park / USC Station  34.018227   \n",
       "23  EXPO      806                  Expo / Vermont Station  34.018245   \n",
       "24  EXPO      806                  Expo / Western Station  34.018331   \n",
       "25  EXPO      806                 Expo / Crenshaw Station  34.022526   \n",
       "26  EXPO      806                        Farmdale Station  34.023981   \n",
       "27  EXPO      806  Expo / La Brea / Ethel Bradley Station  34.024803   \n",
       "28  EXPO      806          La Cienega / Jefferson Station  34.026355   \n",
       "29  EXPO      806                     Culver City Station  34.027896   \n",
       "\n",
       "          LONG                         geometry  \n",
       "20 -118.273603  POINT (6478766.175 1833089.413)  \n",
       "21 -118.278118  POINT (6477391.116 1830549.740)  \n",
       "22 -118.285734  POINT (6475079.285 1829138.386)  \n",
       "23 -118.291540  POINT (6473319.888 1829149.989)  \n",
       "24 -118.308910  POINT (6468056.285 1829197.007)  \n",
       "25 -118.335078  POINT (6460131.596 1830749.046)  \n",
       "26 -118.346095  POINT (6456795.070 1831289.858)  \n",
       "27 -118.355159  POINT (6454049.620 1831598.579)  \n",
       "28 -118.372120  POINT (6448912.366 1832181.972)  \n",
       "29 -118.388986  POINT (6443804.075 1832762.116)  "
      ]
     },
     "execution_count": 19,
     "metadata": {},
     "output_type": "execute_result"
    }
   ],
   "source": [
    "metro_trimmed[metro.LINE == 'EXPO']"
   ]
  },
  {
   "cell_type": "code",
   "execution_count": 20,
   "metadata": {},
   "outputs": [
    {
     "data": {
      "text/html": [
       "<div>\n",
       "<style scoped>\n",
       "    .dataframe tbody tr th:only-of-type {\n",
       "        vertical-align: middle;\n",
       "    }\n",
       "\n",
       "    .dataframe tbody tr th {\n",
       "        vertical-align: top;\n",
       "    }\n",
       "\n",
       "    .dataframe thead th {\n",
       "        text-align: right;\n",
       "    }\n",
       "</style>\n",
       "<table border=\"1\" class=\"dataframe\">\n",
       "  <thead>\n",
       "    <tr style=\"text-align: right;\">\n",
       "      <th></th>\n",
       "      <th>LINE</th>\n",
       "      <th>LINENUM</th>\n",
       "      <th>STATION</th>\n",
       "      <th>LAT</th>\n",
       "      <th>LONG</th>\n",
       "      <th>geometry</th>\n",
       "    </tr>\n",
       "  </thead>\n",
       "  <tbody>\n",
       "    <tr>\n",
       "      <th>20</th>\n",
       "      <td>EXPO</td>\n",
       "      <td>806</td>\n",
       "      <td>LATTC / Ortho Institute Station</td>\n",
       "      <td>34.029112</td>\n",
       "      <td>-118.273603</td>\n",
       "      <td>POINT (6478766.175 1833089.413)</td>\n",
       "    </tr>\n",
       "    <tr>\n",
       "      <th>21</th>\n",
       "      <td>EXPO</td>\n",
       "      <td>806</td>\n",
       "      <td>Jefferson / USC Station</td>\n",
       "      <td>34.022123</td>\n",
       "      <td>-118.278118</td>\n",
       "      <td>POINT (6477391.116 1830549.740)</td>\n",
       "    </tr>\n",
       "    <tr>\n",
       "      <th>22</th>\n",
       "      <td>EXPO</td>\n",
       "      <td>806</td>\n",
       "      <td>Expo Park / USC Station</td>\n",
       "      <td>34.018227</td>\n",
       "      <td>-118.285734</td>\n",
       "      <td>POINT (6475079.285 1829138.386)</td>\n",
       "    </tr>\n",
       "    <tr>\n",
       "      <th>23</th>\n",
       "      <td>EXPO</td>\n",
       "      <td>806</td>\n",
       "      <td>Expo / Vermont Station</td>\n",
       "      <td>34.018245</td>\n",
       "      <td>-118.291540</td>\n",
       "      <td>POINT (6473319.888 1829149.989)</td>\n",
       "    </tr>\n",
       "    <tr>\n",
       "      <th>24</th>\n",
       "      <td>EXPO</td>\n",
       "      <td>806</td>\n",
       "      <td>Expo / Western Station</td>\n",
       "      <td>34.018331</td>\n",
       "      <td>-118.308910</td>\n",
       "      <td>POINT (6468056.285 1829197.007)</td>\n",
       "    </tr>\n",
       "    <tr>\n",
       "      <th>25</th>\n",
       "      <td>EXPO</td>\n",
       "      <td>806</td>\n",
       "      <td>Expo / Crenshaw Station</td>\n",
       "      <td>34.022526</td>\n",
       "      <td>-118.335078</td>\n",
       "      <td>POINT (6460131.596 1830749.046)</td>\n",
       "    </tr>\n",
       "    <tr>\n",
       "      <th>26</th>\n",
       "      <td>EXPO</td>\n",
       "      <td>806</td>\n",
       "      <td>Farmdale Station</td>\n",
       "      <td>34.023981</td>\n",
       "      <td>-118.346095</td>\n",
       "      <td>POINT (6456795.070 1831289.858)</td>\n",
       "    </tr>\n",
       "    <tr>\n",
       "      <th>27</th>\n",
       "      <td>EXPO</td>\n",
       "      <td>806</td>\n",
       "      <td>Expo / La Brea / Ethel Bradley Station</td>\n",
       "      <td>34.024803</td>\n",
       "      <td>-118.355159</td>\n",
       "      <td>POINT (6454049.620 1831598.579)</td>\n",
       "    </tr>\n",
       "    <tr>\n",
       "      <th>28</th>\n",
       "      <td>EXPO</td>\n",
       "      <td>806</td>\n",
       "      <td>La Cienega / Jefferson Station</td>\n",
       "      <td>34.026355</td>\n",
       "      <td>-118.372120</td>\n",
       "      <td>POINT (6448912.366 1832181.972)</td>\n",
       "    </tr>\n",
       "    <tr>\n",
       "      <th>29</th>\n",
       "      <td>EXPO</td>\n",
       "      <td>806</td>\n",
       "      <td>Culver City Station</td>\n",
       "      <td>34.027896</td>\n",
       "      <td>-118.388986</td>\n",
       "      <td>POINT (6443804.075 1832762.116)</td>\n",
       "    </tr>\n",
       "  </tbody>\n",
       "</table>\n",
       "</div>"
      ],
      "text/plain": [
       "    LINE  LINENUM                                 STATION        LAT  \\\n",
       "20  EXPO      806         LATTC / Ortho Institute Station  34.029112   \n",
       "21  EXPO      806                 Jefferson / USC Station  34.022123   \n",
       "22  EXPO      806                 Expo Park / USC Station  34.018227   \n",
       "23  EXPO      806                  Expo / Vermont Station  34.018245   \n",
       "24  EXPO      806                  Expo / Western Station  34.018331   \n",
       "25  EXPO      806                 Expo / Crenshaw Station  34.022526   \n",
       "26  EXPO      806                        Farmdale Station  34.023981   \n",
       "27  EXPO      806  Expo / La Brea / Ethel Bradley Station  34.024803   \n",
       "28  EXPO      806          La Cienega / Jefferson Station  34.026355   \n",
       "29  EXPO      806                     Culver City Station  34.027896   \n",
       "\n",
       "          LONG                         geometry  \n",
       "20 -118.273603  POINT (6478766.175 1833089.413)  \n",
       "21 -118.278118  POINT (6477391.116 1830549.740)  \n",
       "22 -118.285734  POINT (6475079.285 1829138.386)  \n",
       "23 -118.291540  POINT (6473319.888 1829149.989)  \n",
       "24 -118.308910  POINT (6468056.285 1829197.007)  \n",
       "25 -118.335078  POINT (6460131.596 1830749.046)  \n",
       "26 -118.346095  POINT (6456795.070 1831289.858)  \n",
       "27 -118.355159  POINT (6454049.620 1831598.579)  \n",
       "28 -118.372120  POINT (6448912.366 1832181.972)  \n",
       "29 -118.388986  POINT (6443804.075 1832762.116)  "
      ]
     },
     "execution_count": 20,
     "metadata": {},
     "output_type": "execute_result"
    }
   ],
   "source": [
    "# another way\n",
    "metro_trimmed.loc[metro['LINE'] == 'EXPO']"
   ]
  },
  {
   "cell_type": "code",
   "execution_count": 21,
   "metadata": {},
   "outputs": [
    {
     "data": {
      "text/html": [
       "<div>\n",
       "<style scoped>\n",
       "    .dataframe tbody tr th:only-of-type {\n",
       "        vertical-align: middle;\n",
       "    }\n",
       "\n",
       "    .dataframe tbody tr th {\n",
       "        vertical-align: top;\n",
       "    }\n",
       "\n",
       "    .dataframe thead th {\n",
       "        text-align: right;\n",
       "    }\n",
       "</style>\n",
       "<table border=\"1\" class=\"dataframe\">\n",
       "  <thead>\n",
       "    <tr style=\"text-align: right;\">\n",
       "      <th></th>\n",
       "      <th>LINE</th>\n",
       "      <th>LINENUM</th>\n",
       "      <th>STATION</th>\n",
       "      <th>LAT</th>\n",
       "      <th>LONG</th>\n",
       "      <th>geometry</th>\n",
       "    </tr>\n",
       "  </thead>\n",
       "  <tbody>\n",
       "    <tr>\n",
       "      <th>20</th>\n",
       "      <td>EXPO</td>\n",
       "      <td>806</td>\n",
       "      <td>LATTC / Ortho Institute Station</td>\n",
       "      <td>34.029112</td>\n",
       "      <td>-118.273603</td>\n",
       "      <td>POINT (6478766.175 1833089.413)</td>\n",
       "    </tr>\n",
       "    <tr>\n",
       "      <th>21</th>\n",
       "      <td>EXPO</td>\n",
       "      <td>806</td>\n",
       "      <td>Jefferson / USC Station</td>\n",
       "      <td>34.022123</td>\n",
       "      <td>-118.278118</td>\n",
       "      <td>POINT (6477391.116 1830549.740)</td>\n",
       "    </tr>\n",
       "    <tr>\n",
       "      <th>22</th>\n",
       "      <td>EXPO</td>\n",
       "      <td>806</td>\n",
       "      <td>Expo Park / USC Station</td>\n",
       "      <td>34.018227</td>\n",
       "      <td>-118.285734</td>\n",
       "      <td>POINT (6475079.285 1829138.386)</td>\n",
       "    </tr>\n",
       "    <tr>\n",
       "      <th>23</th>\n",
       "      <td>EXPO</td>\n",
       "      <td>806</td>\n",
       "      <td>Expo / Vermont Station</td>\n",
       "      <td>34.018245</td>\n",
       "      <td>-118.291540</td>\n",
       "      <td>POINT (6473319.888 1829149.989)</td>\n",
       "    </tr>\n",
       "    <tr>\n",
       "      <th>24</th>\n",
       "      <td>EXPO</td>\n",
       "      <td>806</td>\n",
       "      <td>Expo / Western Station</td>\n",
       "      <td>34.018331</td>\n",
       "      <td>-118.308910</td>\n",
       "      <td>POINT (6468056.285 1829197.007)</td>\n",
       "    </tr>\n",
       "    <tr>\n",
       "      <th>25</th>\n",
       "      <td>EXPO</td>\n",
       "      <td>806</td>\n",
       "      <td>Expo / Crenshaw Station</td>\n",
       "      <td>34.022526</td>\n",
       "      <td>-118.335078</td>\n",
       "      <td>POINT (6460131.596 1830749.046)</td>\n",
       "    </tr>\n",
       "    <tr>\n",
       "      <th>26</th>\n",
       "      <td>EXPO</td>\n",
       "      <td>806</td>\n",
       "      <td>Farmdale Station</td>\n",
       "      <td>34.023981</td>\n",
       "      <td>-118.346095</td>\n",
       "      <td>POINT (6456795.070 1831289.858)</td>\n",
       "    </tr>\n",
       "    <tr>\n",
       "      <th>27</th>\n",
       "      <td>EXPO</td>\n",
       "      <td>806</td>\n",
       "      <td>Expo / La Brea / Ethel Bradley Station</td>\n",
       "      <td>34.024803</td>\n",
       "      <td>-118.355159</td>\n",
       "      <td>POINT (6454049.620 1831598.579)</td>\n",
       "    </tr>\n",
       "    <tr>\n",
       "      <th>28</th>\n",
       "      <td>EXPO</td>\n",
       "      <td>806</td>\n",
       "      <td>La Cienega / Jefferson Station</td>\n",
       "      <td>34.026355</td>\n",
       "      <td>-118.372120</td>\n",
       "      <td>POINT (6448912.366 1832181.972)</td>\n",
       "    </tr>\n",
       "    <tr>\n",
       "      <th>29</th>\n",
       "      <td>EXPO</td>\n",
       "      <td>806</td>\n",
       "      <td>Culver City Station</td>\n",
       "      <td>34.027896</td>\n",
       "      <td>-118.388986</td>\n",
       "      <td>POINT (6443804.075 1832762.116)</td>\n",
       "    </tr>\n",
       "  </tbody>\n",
       "</table>\n",
       "</div>"
      ],
      "text/plain": [
       "    LINE  LINENUM                                 STATION        LAT  \\\n",
       "20  EXPO      806         LATTC / Ortho Institute Station  34.029112   \n",
       "21  EXPO      806                 Jefferson / USC Station  34.022123   \n",
       "22  EXPO      806                 Expo Park / USC Station  34.018227   \n",
       "23  EXPO      806                  Expo / Vermont Station  34.018245   \n",
       "24  EXPO      806                  Expo / Western Station  34.018331   \n",
       "25  EXPO      806                 Expo / Crenshaw Station  34.022526   \n",
       "26  EXPO      806                        Farmdale Station  34.023981   \n",
       "27  EXPO      806  Expo / La Brea / Ethel Bradley Station  34.024803   \n",
       "28  EXPO      806          La Cienega / Jefferson Station  34.026355   \n",
       "29  EXPO      806                     Culver City Station  34.027896   \n",
       "\n",
       "          LONG                         geometry  \n",
       "20 -118.273603  POINT (6478766.175 1833089.413)  \n",
       "21 -118.278118  POINT (6477391.116 1830549.740)  \n",
       "22 -118.285734  POINT (6475079.285 1829138.386)  \n",
       "23 -118.291540  POINT (6473319.888 1829149.989)  \n",
       "24 -118.308910  POINT (6468056.285 1829197.007)  \n",
       "25 -118.335078  POINT (6460131.596 1830749.046)  \n",
       "26 -118.346095  POINT (6456795.070 1831289.858)  \n",
       "27 -118.355159  POINT (6454049.620 1831598.579)  \n",
       "28 -118.372120  POINT (6448912.366 1832181.972)  \n",
       "29 -118.388986  POINT (6443804.075 1832762.116)  "
      ]
     },
     "execution_count": 21,
     "metadata": {},
     "output_type": "execute_result"
    }
   ],
   "source": [
    "# another way\n",
    "metro_trimmed.query(\"LINE == 'EXPO'\")"
   ]
  },
  {
   "cell_type": "code",
   "execution_count": 22,
   "metadata": {
    "slideshow": {
     "slide_type": "fragment"
    }
   },
   "outputs": [],
   "source": [
    "# try it yourself. create variables for each unique LINE in the dataframe\n"
   ]
  },
  {
   "cell_type": "markdown",
   "metadata": {
    "slideshow": {
     "slide_type": "slide"
    }
   },
   "source": [
    "## Plotting\n",
    "\n",
    "We have now imported a shapefile, trimmed it, and created a series of queried subsets. Let's visualize our data. First, simply pass it the `plot()` command to see what it looks like."
   ]
  },
  {
   "cell_type": "code",
   "execution_count": 23,
   "metadata": {
    "slideshow": {
     "slide_type": "fragment"
    }
   },
   "outputs": [
    {
     "data": {
      "text/plain": [
       "<matplotlib.axes._subplots.AxesSubplot at 0x7f5f41689940>"
      ]
     },
     "execution_count": 23,
     "metadata": {},
     "output_type": "execute_result"
    },
    {
     "data": {
      "image/png": "[encoded data removed]",
      "text/plain": [
       "<Figure size 432x288 with 1 Axes>"
      ]
     },
     "metadata": {
      "needs_background": "light"
     },
     "output_type": "display_data"
    }
   ],
   "source": [
    "metro_trimmed.plot()"
   ]
  },
  {
   "cell_type": "markdown",
   "metadata": {
    "slideshow": {
     "slide_type": "slide"
    }
   },
   "source": [
    "That's great! Very rewarding, with a single command. The reason it is able to plot the station points is because of the `geometry` column that is created from the shapefile."
   ]
  },
  {
   "cell_type": "code",
   "execution_count": 24,
   "metadata": {
    "slideshow": {
     "slide_type": "fragment"
    }
   },
   "outputs": [
    {
     "data": {
      "text/plain": [
       "0     POINT (6503030.095 1738033.828)\n",
       "1     POINT (6502796.262 1739558.050)\n",
       "2     POINT (6504114.567 1743039.068)\n",
       "3     POINT (6504120.152 1745681.179)\n",
       "4     POINT (6503995.170 1752228.119)\n",
       "                   ...               \n",
       "78    POINT (6516818.973 1874058.989)\n",
       "79    POINT (6517034.832 1876404.492)\n",
       "80    POINT (6521914.408 1877653.241)\n",
       "81    POINT (6527070.744 1877869.293)\n",
       "82    POINT (6537094.647 1876161.862)\n",
       "Name: geometry, Length: 83, dtype: geometry"
      ]
     },
     "execution_count": 24,
     "metadata": {},
     "output_type": "execute_result"
    }
   ],
   "source": [
    "metro_trimmed.geometry"
   ]
  },
  {
   "cell_type": "markdown",
   "metadata": {
    "slideshow": {
     "slide_type": "slide"
    }
   },
   "source": [
    "## A prettier plot"
   ]
  },
  {
   "cell_type": "code",
   "execution_count": 25,
   "metadata": {},
   "outputs": [
    {
     "data": {
      "text/plain": [
       "<matplotlib.axes._subplots.AxesSubplot at 0x7f5f41677610>"
      ]
     },
     "execution_count": 25,
     "metadata": {},
     "output_type": "execute_result"
    },
    {
     "data": {
      "image/png": "[encoded data removed]",
      "text/plain": [
       "<Figure size 1440x864 with 1 Axes>"
      ]
     },
     "metadata": {
      "needs_background": "light"
     },
     "output_type": "display_data"
    }
   ],
   "source": [
    "metro_trimmed.plot(figsize=(20,12),   #size of the plot (a bit bigger than the default)\n",
    "           column = 'LINE',   # column that defines the color of the dots\n",
    "           legend = True,     # add a legend           \n",
    "           legend_kwds={\n",
    "               'loc': 'upper right',\n",
    "               'bbox_to_anchor':(1.3,1)\n",
    "           }                  # this puts the legend to the side\n",
    "          ) "
   ]
  },
  {
   "cell_type": "markdown",
   "metadata": {
    "slideshow": {
     "slide_type": "slide"
    }
   },
   "source": [
    "## Back to mapping\n",
    "We can't finish our lesson without a map :). Let's go back to the original metro dataset that was the inspiration for this notebook. Recall that we used the module `geopandas` to define the data."
   ]
  },
  {
   "cell_type": "code",
   "execution_count": 26,
   "metadata": {},
   "outputs": [
    {
     "data": {
      "text/html": [
       "<div>\n",
       "<style scoped>\n",
       "    .dataframe tbody tr th:only-of-type {\n",
       "        vertical-align: middle;\n",
       "    }\n",
       "\n",
       "    .dataframe tbody tr th {\n",
       "        vertical-align: top;\n",
       "    }\n",
       "\n",
       "    .dataframe thead th {\n",
       "        text-align: right;\n",
       "    }\n",
       "</style>\n",
       "<table border=\"1\" class=\"dataframe\">\n",
       "  <thead>\n",
       "    <tr style=\"text-align: right;\">\n",
       "      <th></th>\n",
       "      <th>LINE</th>\n",
       "      <th>LINENUM</th>\n",
       "      <th>STATION</th>\n",
       "      <th>LAT</th>\n",
       "      <th>LONG</th>\n",
       "      <th>geometry</th>\n",
       "    </tr>\n",
       "  </thead>\n",
       "  <tbody>\n",
       "    <tr>\n",
       "      <th>0</th>\n",
       "      <td>Blue</td>\n",
       "      <td>801</td>\n",
       "      <td>Downtown Long Beach Station</td>\n",
       "      <td>33.768071</td>\n",
       "      <td>-118.192921</td>\n",
       "      <td>POINT (6503030.095 1738033.828)</td>\n",
       "    </tr>\n",
       "    <tr>\n",
       "      <th>1</th>\n",
       "      <td>Blue</td>\n",
       "      <td>801</td>\n",
       "      <td>Pacific Ave Station</td>\n",
       "      <td>33.772258</td>\n",
       "      <td>-118.193700</td>\n",
       "      <td>POINT (6502796.262 1739558.050)</td>\n",
       "    </tr>\n",
       "    <tr>\n",
       "      <th>2</th>\n",
       "      <td>Blue</td>\n",
       "      <td>801</td>\n",
       "      <td>Anaheim Street Station</td>\n",
       "      <td>33.781830</td>\n",
       "      <td>-118.189384</td>\n",
       "      <td>POINT (6504114.567 1743039.068)</td>\n",
       "    </tr>\n",
       "    <tr>\n",
       "      <th>3</th>\n",
       "      <td>Blue</td>\n",
       "      <td>801</td>\n",
       "      <td>Pacific Coast Hwy Station</td>\n",
       "      <td>33.789090</td>\n",
       "      <td>-118.189382</td>\n",
       "      <td>POINT (6504120.152 1745681.179)</td>\n",
       "    </tr>\n",
       "    <tr>\n",
       "      <th>4</th>\n",
       "      <td>Blue</td>\n",
       "      <td>801</td>\n",
       "      <td>Willow Street Station</td>\n",
       "      <td>33.807079</td>\n",
       "      <td>-118.189834</td>\n",
       "      <td>POINT (6503995.170 1752228.119)</td>\n",
       "    </tr>\n",
       "  </tbody>\n",
       "</table>\n",
       "</div>"
      ],
      "text/plain": [
       "   LINE  LINENUM                      STATION        LAT        LONG  \\\n",
       "0  Blue      801  Downtown Long Beach Station  33.768071 -118.192921   \n",
       "1  Blue      801          Pacific Ave Station  33.772258 -118.193700   \n",
       "2  Blue      801       Anaheim Street Station  33.781830 -118.189384   \n",
       "3  Blue      801    Pacific Coast Hwy Station  33.789090 -118.189382   \n",
       "4  Blue      801        Willow Street Station  33.807079 -118.189834   \n",
       "\n",
       "                          geometry  \n",
       "0  POINT (6503030.095 1738033.828)  \n",
       "1  POINT (6502796.262 1739558.050)  \n",
       "2  POINT (6504114.567 1743039.068)  \n",
       "3  POINT (6504120.152 1745681.179)  \n",
       "4  POINT (6503995.170 1752228.119)  "
      ]
     },
     "execution_count": 26,
     "metadata": {},
     "output_type": "execute_result"
    }
   ],
   "source": [
    "metro_trimmed.head()"
   ]
  },
  {
   "cell_type": "markdown",
   "metadata": {
    "slideshow": {
     "slide_type": "slide"
    }
   },
   "source": [
    "## Projections"
   ]
  },
  {
   "cell_type": "code",
   "execution_count": 27,
   "metadata": {},
   "outputs": [
    {
     "data": {
      "text/plain": [
       "<Projected CRS: EPSG:2874>\n",
       "Name: NAD83(HARN) / California zone 5 (ftUS)\n",
       "Axis Info [cartesian]:\n",
       "- X[east]: Easting (US survey foot)\n",
       "- Y[north]: Northing (US survey foot)\n",
       "Area of Use:\n",
       "- name: USA - California - SPCS83 - 5\n",
       "- bounds: (-121.42, 32.76, -114.12, 35.81)\n",
       "Coordinate Operation:\n",
       "- name: SPCS83 California zone 5 (US Survey feet)\n",
       "- method: Lambert Conic Conformal (2SP)\n",
       "Datum: NAD83 (High Accuracy Reference Network)\n",
       "- Ellipsoid: GRS 1980\n",
       "- Prime Meridian: Greenwich"
      ]
     },
     "execution_count": 27,
     "metadata": {},
     "output_type": "execute_result"
    }
   ],
   "source": [
    "# what is the projection?\n",
    "metro_trimmed.crs"
   ]
  },
  {
   "cell_type": "code",
   "execution_count": 28,
   "metadata": {
    "slideshow": {
     "slide_type": "slide"
    }
   },
   "outputs": [],
   "source": [
    "# let's reproject it\n",
    "metro_gcs = metro_trimmed.to_crs(\"EPSG:4326\")"
   ]
  },
  {
   "cell_type": "code",
   "execution_count": 29,
   "metadata": {
    "slideshow": {
     "slide_type": "fragment"
    }
   },
   "outputs": [
    {
     "data": {
      "text/plain": [
       "geopandas.geoseries.GeoSeries"
      ]
     },
     "execution_count": 29,
     "metadata": {},
     "output_type": "execute_result"
    }
   ],
   "source": [
    "type(metro_gcs.geometry)"
   ]
  },
  {
   "cell_type": "code",
   "execution_count": 30,
   "metadata": {
    "slideshow": {
     "slide_type": "fragment"
    }
   },
   "outputs": [
    {
     "data": {
      "text/plain": [
       "<matplotlib.axes._subplots.AxesSubplot at 0x7f5f41140c70>"
      ]
     },
     "execution_count": 30,
     "metadata": {},
     "output_type": "execute_result"
    },
    {
     "data": {
      "image/png": "[encoded data removed]",
      "text/plain": [
       "<Figure size 432x288 with 1 Axes>"
      ]
     },
     "metadata": {
      "needs_background": "light"
     },
     "output_type": "display_data"
    }
   ],
   "source": [
    "metro_gcs.plot()"
   ]
  },
  {
   "cell_type": "code",
   "execution_count": 31,
   "metadata": {
    "slideshow": {
     "slide_type": "fragment"
    }
   },
   "outputs": [
    {
     "data": {
      "text/plain": [
       "<matplotlib.axes._subplots.AxesSubplot at 0x7f5f415de940>"
      ]
     },
     "execution_count": 31,
     "metadata": {},
     "output_type": "execute_result"
    },
    {
     "data": {
      "image/png": "[encoded data removed]",
      "text/plain": [
       "<Figure size 432x288 with 1 Axes>"
      ]
     },
     "metadata": {
      "needs_background": "light"
     },
     "output_type": "display_data"
    }
   ],
   "source": [
    "# what did it look like before we reprojected it?\n",
    "metro_trimmed.plot()"
   ]
  },
  {
   "cell_type": "markdown",
   "metadata": {
    "slideshow": {
     "slide_type": "slide"
    }
   },
   "source": [
    "## Iterating through rows in a dataframe\n",
    "\n",
    "You learned how to loop through a python list. Looping over rows in a dataframe is similar, but the syntax is slightly different."
   ]
  },
  {
   "cell_type": "code",
   "execution_count": 32,
   "metadata": {
    "scrolled": true
   },
   "outputs": [
    {
     "name": "stdout",
     "output_type": "stream",
     "text": [
      "0 Downtown Long Beach Station Blue\n",
      "1 Pacific Ave Station Blue\n",
      "2 Anaheim Street Station Blue\n",
      "3 Pacific Coast Hwy Station Blue\n",
      "4 Willow Street Station Blue\n",
      "5 Wardlow Station Blue\n",
      "6 Del Amo Station Blue\n",
      "7 Artesia Station Blue\n",
      "8 Compton Station Blue\n",
      "9 Willowbrook - Rosa Parks Station - Metro Blue Line Blue\n",
      "10 103rd Street / Watts Towers  Station Blue\n",
      "11 Firestone Station Blue\n",
      "12 Florence Station Blue\n",
      "13 Slauson Station Blue\n",
      "14 Vernon Station Blue\n",
      "15 Washington Station Blue\n",
      "16 San Pedro Street Station Blue\n",
      "17 Grand / LATTC Station Blue\n",
      "18 Pico Station Blue/EXPO\n",
      "19 7th Street / Metro Center Station - Metro Blue & Expo Lines Blue/EXPO\n",
      "20 LATTC / Ortho Institute Station EXPO\n",
      "21 Jefferson / USC Station EXPO\n",
      "22 Expo Park / USC Station EXPO\n",
      "23 Expo / Vermont Station EXPO\n",
      "24 Expo / Western Station EXPO\n",
      "25 Expo / Crenshaw Station EXPO\n",
      "26 Farmdale Station EXPO\n",
      "27 Expo / La Brea / Ethel Bradley Station EXPO\n",
      "28 La Cienega / Jefferson Station EXPO\n",
      "29 Culver City Station EXPO\n",
      "30 1st Street Station Blue\n",
      "31 5th Street Station Blue\n",
      "32 North Hollywood Station Red\n",
      "33 Universal / Studio City Station Red\n",
      "34 Hollywood / Highland Station Red\n",
      "35 Hollywood / Vine Station Red\n",
      "36 Hollywood / Western Station Red\n",
      "37 Vermont / Sunset Station Red\n",
      "38 Vermont / Santa Monica Station Red\n",
      "39 Vermont / Beverly Station Red\n",
      "40 Wilshire / Vermont Station Red/Purple\n",
      "41 Westlake / MacArthur Park Station Red/Purple\n",
      "42 7th Street / Metro Center Station - Metro Red & Purple Lines Red/Purple\n",
      "43 Pershing Square Station Red/Purple\n",
      "44 Civic Center / Grand Park Station Red/Purple\n",
      "45 Union Station - Metro Red & Purple Lines Red/Purple\n",
      "46 Wilshire / Normandie Station Purple\n",
      "47 Wilshire / Western Station Purple\n",
      "48 Redondo Beach Station Green\n",
      "49 Douglas Station Green\n",
      "50 El Segundo Station Green\n",
      "51 Mariposa Station Green\n",
      "52 Aviation / LAX Station Green\n",
      "53 Hawthorne / Lennox Station Green\n",
      "54 Crenshaw Station Green\n",
      "55 Vermont / Athens Station Green\n",
      "56 Harbor Freeway Station Green\n",
      "57 Avalon Station Green\n",
      "58 Willowbrook - Rosa Parks Station - Metro Green Line Green\n",
      "59 Long Beach Blvd Station Green\n",
      "60 Lakewood Blvd Station Green\n",
      "61 Norwalk Station Green\n",
      "62 Atlantic Station Gold\n",
      "63 East LA Civic Center Station Gold\n",
      "64 Maravilla Station Gold\n",
      "65 Indiana Station Gold\n",
      "66 Soto Station Gold\n",
      "67 Mariachi Plaza / Boyle Heights Station Gold\n",
      "68 Pico / Aliso Station Gold\n",
      "69 Little Tokyo / Arts District Station Gold\n",
      "70 Union Station - Metro Gold Line Gold\n",
      "71 Chinatown Station Gold\n",
      "72 Lincoln Heights / Cypress Park Station Gold\n",
      "73 Heritage Square / Arroyo Station Gold\n",
      "74 Southwest Museum Station Gold\n",
      "75 Highland Park Station Gold\n",
      "76 South Pasadena Station Gold\n",
      "77 Fillmore Station Gold\n",
      "78 Del Mar Station Gold\n",
      "79 Memorial Park Station Gold\n",
      "80 Lake Station Gold\n",
      "81 Allen Station Gold\n",
      "82 Sierra Madre Villa Station Gold\n"
     ]
    }
   ],
   "source": [
    "for index, row in metro_gcs.iterrows():\n",
    "    print(index, row.STATION, row.LINE)"
   ]
  },
  {
   "cell_type": "markdown",
   "metadata": {
    "slideshow": {
     "slide_type": "slide"
    }
   },
   "source": [
    "## Get average lat/lon's"
   ]
  },
  {
   "cell_type": "code",
   "execution_count": 33,
   "metadata": {
    "slideshow": {
     "slide_type": "fragment"
    }
   },
   "outputs": [
    {
     "data": {
      "text/plain": [
       "34.00158291566265"
      ]
     },
     "execution_count": 33,
     "metadata": {},
     "output_type": "execute_result"
    }
   ],
   "source": [
    "latitude = metro_trimmed.LAT.mean()\n",
    "latitude"
   ]
  },
  {
   "cell_type": "code",
   "execution_count": 34,
   "metadata": {
    "slideshow": {
     "slide_type": "fragment"
    }
   },
   "outputs": [
    {
     "data": {
      "text/plain": [
       "-118.251045313253"
      ]
     },
     "execution_count": 34,
     "metadata": {},
     "output_type": "execute_result"
    }
   ],
   "source": [
    "longitude = metro_trimmed.LONG.mean()\n",
    "longitude"
   ]
  },
  {
   "cell_type": "markdown",
   "metadata": {
    "slideshow": {
     "slide_type": "slide"
    }
   },
   "source": [
    "## Mapping with folium"
   ]
  },
  {
   "cell_type": "markdown",
   "metadata": {
    "slideshow": {
     "slide_type": "-"
    }
   },
   "source": [
    "Now it's time for another module. Everybody, please welcome `folium`. Folium brings leaflet, an open source javascript mapping library into our Python environment, allowing you to create instant interactive maps. Try it:"
   ]
  },
  {
   "cell_type": "code",
   "execution_count": 35,
   "metadata": {},
   "outputs": [],
   "source": [
    "import folium"
   ]
  },
  {
   "cell_type": "code",
   "execution_count": 36,
   "metadata": {
    "slideshow": {
     "slide_type": "slide"
    }
   },
   "outputs": [
    {
     "data": {
      "text/html": [
       "<div style=\"width:100%;\"><div style=\"position:relative;width:100%;height:0;padding-bottom:60%;\"><span style=\"color:#565656\">Make this Notebook Trusted to load map: File -> Trust Notebook</span><iframe src=\"about:blank\" style=\"position:absolute;width:100%;height:100%;left:0;top:0;border:none !important;\" data-html=PCFET0NUWVBFIGh0bWw+CjxoZWFkPiAgICAKICAgIDxtZXRhIGh0dHAtZXF1aXY9ImNvbnRlbnQtdHlwZSIgY29udGVudD0idGV4dC9odG1sOyBjaGFyc2V0PVVURi04IiAvPgogICAgCiAgICAgICAgPHNjcmlwdD4KICAgICAgICAgICAgTF9OT19UT1VDSCA9IGZhbHNlOwogICAgICAgICAgICBMX0RJU0FCTEVfM0QgPSBmYWxzZTsKICAgICAgICA8L3NjcmlwdD4KICAgIAogICAgPHNjcmlwdCBzcmM9Imh0dHBzOi8vY2RuLmpzZGVsaXZyLm5ldC9ucG0vbGVhZmxldEAxLjYuMC9kaXN0L2xlYWZsZXQuanMiPjwvc2NyaXB0PgogICAgPHNjcmlwdCBzcmM9Imh0dHBzOi8vY29kZS5qcXVlcnkuY29tL2pxdWVyeS0xLjEyLjQubWluLmpzIj48L3NjcmlwdD4KICAgIDxzY3JpcHQgc3JjPSJodHRwczovL21heGNkbi5ib290c3RyYXBjZG4uY29tL2Jvb3RzdHJhcC8zLjIuMC9qcy9ib290c3RyYXAubWluLmpzIj48L3NjcmlwdD4KICAgIDxzY3JpcHQgc3JjPSJodHRwczovL2NkbmpzLmNsb3VkZmxhcmUuY29tL2FqYXgvbGlicy9MZWFmbGV0LmF3ZXNvbWUtbWFya2Vycy8yLjAuMi9sZWFmbGV0LmF3ZXNvbWUtbWFya2Vycy5qcyI+PC9zY3JpcHQ+CiAgICA8bGluayByZWw9InN0eWxlc2hlZXQiIGhyZWY9Imh0dHBzOi8vY2RuLmpzZGVsaXZyLm5ldC9ucG0vbGVhZmxldEAxLjYuMC9kaXN0L2xlYWZsZXQuY3NzIi8+CiAgICA8bGluayByZWw9InN0eWxlc2hlZXQiIGhyZWY9Imh0dHBzOi8vbWF4Y2RuLmJvb3RzdHJhcGNkbi5jb20vYm9vdHN0cmFwLzMuMi4wL2Nzcy9ib290c3RyYXAubWluLmNzcyIvPgogICAgPGxpbmsgcmVsPSJzdHlsZXNoZWV0IiBocmVmPSJodHRwczovL21heGNkbi5ib290c3RyYXBjZG4uY29tL2Jvb3RzdHJhcC8zLjIuMC9jc3MvYm9vdHN0cmFwLXRoZW1lLm1pbi5jc3MiLz4KICAgIDxsaW5rIHJlbD0ic3R5bGVzaGVldCIgaHJlZj0iaHR0cHM6Ly9tYXhjZG4uYm9vdHN0cmFwY2RuLmNvbS9mb250LWF3ZXNvbWUvNC42LjMvY3NzL2ZvbnQtYXdlc29tZS5taW4uY3NzIi8+CiAgICA8bGluayByZWw9InN0eWxlc2hlZXQiIGhyZWY9Imh0dHBzOi8vY2RuanMuY2xvdWRmbGFyZS5jb20vYWpheC9saWJzL0xlYWZsZXQuYXdlc29tZS1tYXJrZXJzLzIuMC4yL2xlYWZsZXQuYXdlc29tZS1tYXJrZXJzLmNzcyIvPgogICAgPGxpbmsgcmVsPSJzdHlsZXNoZWV0IiBocmVmPSJodHRwczovL3Jhd2Nkbi5naXRoYWNrLmNvbS9weXRob24tdmlzdWFsaXphdGlvbi9mb2xpdW0vbWFzdGVyL2ZvbGl1bS90ZW1wbGF0ZXMvbGVhZmxldC5hd2Vzb21lLnJvdGF0ZS5jc3MiLz4KICAgIDxzdHlsZT5odG1sLCBib2R5IHt3aWR0aDogMTAwJTtoZWlnaHQ6IDEwMCU7bWFyZ2luOiAwO3BhZGRpbmc6IDA7fTwvc3R5bGU+CiAgICA8c3R5bGU+I21hcCB7cG9zaXRpb246YWJzb2x1dGU7dG9wOjA7Ym90dG9tOjA7cmlnaHQ6MDtsZWZ0OjA7fTwvc3R5bGU+CiAgICAKICAgICAgICAgICAgPG1ldGEgbmFtZT0idmlld3BvcnQiIGNvbnRlbnQ9IndpZHRoPWRldmljZS13aWR0aCwKICAgICAgICAgICAgICAgIGluaXRpYWwtc2NhbGU9MS4wLCBtYXhpbXVtLXNjYWxlPTEuMCwgdXNlci1zY2FsYWJsZT1ubyIgLz4KICAgICAgICAgICAgPHN0eWxlPgogICAgICAgICAgICAgICAgI21hcF9lZjk4ZDJhMWI2OWI0MWUwYWNlZTU1OTcxZDI4Y2QxNSB7CiAgICAgICAgICAgICAgICAgICAgcG9zaXRpb246IHJlbGF0aXZlOwogICAgICAgICAgICAgICAgICAgIHdpZHRoOiAxMDAuMCU7CiAgICAgICAgICAgICAgICAgICAgaGVpZ2h0OiAxMDAuMCU7CiAgICAgICAgICAgICAgICAgICAgbGVmdDogMC4wJTsKICAgICAgICAgICAgICAgICAgICB0b3A6IDAuMCU7CiAgICAgICAgICAgICAgICB9CiAgICAgICAgICAgIDwvc3R5bGU+CiAgICAgICAgCjwvaGVhZD4KPGJvZHk+ICAgIAogICAgCiAgICAgICAgICAgIDxkaXYgY2xhc3M9ImZvbGl1bS1tYXAiIGlkPSJtYXBfZWY5OGQyYTFiNjliNDFlMGFjZWU1NTk3MWQyOGNkMTUiID48L2Rpdj4KICAgICAgICAKPC9ib2R5Pgo8c2NyaXB0PiAgICAKICAgIAogICAgICAgICAgICB2YXIgbWFwX2VmOThkMmExYjY5YjQxZTBhY2VlNTU5NzFkMjhjZDE1ID0gTC5tYXAoCiAgICAgICAgICAgICAgICAibWFwX2VmOThkMmExYjY5YjQxZTBhY2VlNTU5NzFkMjhjZDE1IiwKICAgICAgICAgICAgICAgIHsKICAgICAgICAgICAgICAgICAgICBjZW50ZXI6IFszNC4wMDE1ODI5MTU2NjI2NSwgLTExOC4yNTEwNDUzMTMyNTNdLAogICAgICAgICAgICAgICAgICAgIGNyczogTC5DUlMuRVBTRzM4NTcsCiAgICAgICAgICAgICAgICAgICAgem9vbTogMTAsCiAgICAgICAgICAgICAgICAgICAgem9vbUNvbnRyb2w6IHRydWUsCiAgICAgICAgICAgICAgICAgICAgcHJlZmVyQ2FudmFzOiBmYWxzZSwKICAgICAgICAgICAgICAgIH0KICAgICAgICAgICAgKTsKCiAgICAgICAgICAgIAoKICAgICAgICAKICAgIAogICAgICAgICAgICB2YXIgdGlsZV9sYXllcl9kOTM4NThiYjIxNTk0NWVhOTE0ZjM4MzZiNTk0YzJhNSA9IEwudGlsZUxheWVyKAogICAgICAgICAgICAgICAgImh0dHBzOi8vc3RhbWVuLXRpbGVzLXtzfS5hLnNzbC5mYXN0bHkubmV0L3RlcnJhaW4ve3p9L3t4fS97eX0uanBnIiwKICAgICAgICAgICAgICAgIHsiYXR0cmlidXRpb24iOiAiTWFwIHRpbGVzIGJ5IFx1MDAzY2EgaHJlZj1cImh0dHA6Ly9zdGFtZW4uY29tXCJcdTAwM2VTdGFtZW4gRGVzaWduXHUwMDNjL2FcdTAwM2UsIHVuZGVyIFx1MDAzY2EgaHJlZj1cImh0dHA6Ly9jcmVhdGl2ZWNvbW1vbnMub3JnL2xpY2Vuc2VzL2J5LzMuMFwiXHUwMDNlQ0MgQlkgMy4wXHUwMDNjL2FcdTAwM2UuIERhdGEgYnkgXHUwMDI2Y29weTsgXHUwMDNjYSBocmVmPVwiaHR0cDovL29wZW5zdHJlZXRtYXAub3JnXCJcdTAwM2VPcGVuU3RyZWV0TWFwXHUwMDNjL2FcdTAwM2UsIHVuZGVyIFx1MDAzY2EgaHJlZj1cImh0dHA6Ly9jcmVhdGl2ZWNvbW1vbnMub3JnL2xpY2Vuc2VzL2J5LXNhLzMuMFwiXHUwMDNlQ0MgQlkgU0FcdTAwM2MvYVx1MDAzZS4iLCAiZGV0ZWN0UmV0aW5hIjogZmFsc2UsICJtYXhOYXRpdmVab29tIjogMTgsICJtYXhab29tIjogMTgsICJtaW5ab29tIjogMCwgIm5vV3JhcCI6IGZhbHNlLCAib3BhY2l0eSI6IDEsICJzdWJkb21haW5zIjogImFiYyIsICJ0bXMiOiBmYWxzZX0KICAgICAgICAgICAgKS5hZGRUbyhtYXBfZWY5OGQyYTFiNjliNDFlMGFjZWU1NTk3MWQyOGNkMTUpOwogICAgICAgIAo8L3NjcmlwdD4= onload=\"this.contentDocument.open();this.contentDocument.write(atob(this.getAttribute('data-html')));this.contentDocument.close();\" allowfullscreen webkitallowfullscreen mozallowfullscreen></iframe></div></div>"
      ],
      "text/plain": [
       "<folium.folium.Map at 0x7f5f40a8e820>"
      ]
     },
     "execution_count": 36,
     "metadata": {},
     "output_type": "execute_result"
    }
   ],
   "source": [
    "#initialize map\n",
    "m = folium.Map(location=[latitude,longitude], tiles='Stamen Terrain', zoom_start=10)\n",
    "m"
   ]
  },
  {
   "cell_type": "markdown",
   "metadata": {
    "slideshow": {
     "slide_type": "slide"
    }
   },
   "source": [
    "### Adding point markers"
   ]
  },
  {
   "cell_type": "code",
   "execution_count": 37,
   "metadata": {
    "scrolled": false
   },
   "outputs": [
    {
     "data": {
      "text/html": [
       "<div style=\"width:100%;\"><div style=\"position:relative;width:100%;height:0;padding-bottom:60%;\"><span style=\"color:#565656\">Make this Notebook Trusted to load map: File -> Trust Notebook</span><iframe src=\"about:blank\" style=\"position:absolute;width:100%;height:100%;left:0;top:0;border:none !important;\" data-html=PCFET0NUWVBFIGh0bWw+CjxoZWFkPiAgICAKICAgIDxtZXRhIGh0dHAtZXF1aXY9ImNvbnRlbnQtdHlwZSIgY29udGVudD0idGV4dC9odG1sOyBjaGFyc2V0PVVURi04IiAvPgogICAgCiAgICAgICAgPHNjcmlwdD4KICAgICAgICAgICAgTF9OT19UT1VDSCA9IGZhbHNlOwogICAgICAgICAgICBMX0RJU0FCTEVfM0QgPSBmYWxzZTsKICAgICAgICA8L3NjcmlwdD4KICAgIAogICAgPHNjcmlwdCBzcmM9Imh0dHBzOi8vY2RuLmpzZGVsaXZyLm5ldC9ucG0vbGVhZmxldEAxLjYuMC9kaXN0L2xlYWZsZXQuanMiPjwvc2NyaXB0PgogICAgPHNjcmlwdCBzcmM9Imh0dHBzOi8vY29kZS5qcXVlcnkuY29tL2pxdWVyeS0xLjEyLjQubWluLmpzIj48L3NjcmlwdD4KICAgIDxzY3JpcHQgc3JjPSJodHRwczovL21heGNkbi5ib290c3RyYXBjZG4uY29tL2Jvb3RzdHJhcC8zLjIuMC9qcy9ib290c3RyYXAubWluLmpzIj48L3NjcmlwdD4KICAgIDxzY3JpcHQgc3JjPSJodHRwczovL2NkbmpzLmNsb3VkZmxhcmUuY29tL2FqYXgvbGlicy9MZWFmbGV0LmF3ZXNvbWUtbWFya2Vycy8yLjAuMi9sZWFmbGV0LmF3ZXNvbWUtbWFya2Vycy5qcyI+PC9zY3JpcHQ+CiAgICA8bGluayByZWw9InN0eWxlc2hlZXQiIGhyZWY9Imh0dHBzOi8vY2RuLmpzZGVsaXZyLm5ldC9ucG0vbGVhZmxldEAxLjYuMC9kaXN0L2xlYWZsZXQuY3NzIi8+CiAgICA8bGluayByZWw9InN0eWxlc2hlZXQiIGhyZWY9Imh0dHBzOi8vbWF4Y2RuLmJvb3RzdHJhcGNkbi5jb20vYm9vdHN0cmFwLzMuMi4wL2Nzcy9ib290c3RyYXAubWluLmNzcyIvPgogICAgPGxpbmsgcmVsPSJzdHlsZXNoZWV0IiBocmVmPSJodHRwczovL21heGNkbi5ib290c3RyYXBjZG4uY29tL2Jvb3RzdHJhcC8zLjIuMC9jc3MvYm9vdHN0cmFwLXRoZW1lLm1pbi5jc3MiLz4KICAgIDxsaW5rIHJlbD0ic3R5bGVzaGVldCIgaHJlZj0iaHR0cHM6Ly9tYXhjZG4uYm9vdHN0cmFwY2RuLmNvbS9mb250LWF3ZXNvbWUvNC42LjMvY3NzL2ZvbnQtYXdlc29tZS5taW4uY3NzIi8+CiAgICA8bGluayByZWw9InN0eWxlc2hlZXQiIGhyZWY9Imh0dHBzOi8vY2RuanMuY2xvdWRmbGFyZS5jb20vYWpheC9saWJzL0xlYWZsZXQuYXdlc29tZS1tYXJrZXJzLzIuMC4yL2xlYWZsZXQuYXdlc29tZS1tYXJrZXJzLmNzcyIvPgogICAgPGxpbmsgcmVsPSJzdHlsZXNoZWV0IiBocmVmPSJodHRwczovL3Jhd2Nkbi5naXRoYWNrLmNvbS9weXRob24tdmlzdWFsaXphdGlvbi9mb2xpdW0vbWFzdGVyL2ZvbGl1bS90ZW1wbGF0ZXMvbGVhZmxldC5hd2Vzb21lLnJvdGF0ZS5jc3MiLz4KICAgIDxzdHlsZT5odG1sLCBib2R5IHt3aWR0aDogMTAwJTtoZWlnaHQ6IDEwMCU7bWFyZ2luOiAwO3BhZGRpbmc6IDA7fTwvc3R5bGU+CiAgICA8c3R5bGU+I21hcCB7cG9zaXRpb246YWJzb2x1dGU7dG9wOjA7Ym90dG9tOjA7cmlnaHQ6MDtsZWZ0OjA7fTwvc3R5bGU+CiAgICAKICAgICAgICAgICAgPG1ldGEgbmFtZT0idmlld3BvcnQiIGNvbnRlbnQ9IndpZHRoPWRldmljZS13aWR0aCwKICAgICAgICAgICAgICAgIGluaXRpYWwtc2NhbGU9MS4wLCBtYXhpbXVtLXNjYWxlPTEuMCwgdXNlci1zY2FsYWJsZT1ubyIgLz4KICAgICAgICAgICAgPHN0eWxlPgogICAgICAgICAgICAgICAgI21hcF9lZjk4ZDJhMWI2OWI0MWUwYWNlZTU1OTcxZDI4Y2QxNSB7CiAgICAgICAgICAgICAgICAgICAgcG9zaXRpb246IHJlbGF0aXZlOwogICAgICAgICAgICAgICAgICAgIHdpZHRoOiAxMDAuMCU7CiAgICAgICAgICAgICAgICAgICAgaGVpZ2h0OiAxMDAuMCU7CiAgICAgICAgICAgICAgICAgICAgbGVmdDogMC4wJTsKICAgICAgICAgICAgICAgICAgICB0b3A6IDAuMCU7CiAgICAgICAgICAgICAgICB9CiAgICAgICAgICAgIDwvc3R5bGU+CiAgICAgICAgCjwvaGVhZD4KPGJvZHk+ICAgIAogICAgCiAgICAgICAgICAgIDxkaXYgY2xhc3M9ImZvbGl1bS1tYXAiIGlkPSJtYXBfZWY5OGQyYTFiNjliNDFlMGFjZWU1NTk3MWQyOGNkMTUiID48L2Rpdj4KICAgICAgICAKPC9ib2R5Pgo8c2NyaXB0PiAgICAKICAgIAogICAgICAgICAgICB2YXIgbWFwX2VmOThkMmExYjY5YjQxZTBhY2VlNTU5NzFkMjhjZDE1ID0gTC5tYXAoCiAgICAgICAgICAgICAgICAibWFwX2VmOThkMmExYjY5YjQxZTBhY2VlNTU5NzFkMjhjZDE1IiwKICAgICAgICAgICAgICAgIHsKICAgICAgICAgICAgICAgICAgICBjZW50ZXI6IFszNC4wMDE1ODI5MTU2NjI2NSwgLTExOC4yNTEwNDUzMTMyNTNdLAogICAgICAgICAgICAgICAgICAgIGNyczogTC5DUlMuRVBTRzM4NTcsCiAgICAgICAgICAgICAgICAgICAgem9vbTogMTAsCiAgICAgICAgICAgICAgICAgICAgem9vbUNvbnRyb2w6IHRydWUsCiAgICAgICAgICAgICAgICAgICAgcHJlZmVyQ2FudmFzOiBmYWxzZSwKICAgICAgICAgICAgICAgIH0KICAgICAgICAgICAgKTsKCiAgICAgICAgICAgIAoKICAgICAgICAKICAgIAogICAgICAgICAgICB2YXIgdGlsZV9sYXllcl9kOTM4NThiYjIxNTk0NWVhOTE0ZjM4MzZiNTk0YzJhNSA9IEwudGlsZUxheWVyKAogICAgICAgICAgICAgICAgImh0dHBzOi8vc3RhbWVuLXRpbGVzLXtzfS5hLnNzbC5mYXN0bHkubmV0L3RlcnJhaW4ve3p9L3t4fS97eX0uanBnIiwKICAgICAgICAgICAgICAgIHsiYXR0cmlidXRpb24iOiAiTWFwIHRpbGVzIGJ5IFx1MDAzY2EgaHJlZj1cImh0dHA6Ly9zdGFtZW4uY29tXCJcdTAwM2VTdGFtZW4gRGVzaWduXHUwMDNjL2FcdTAwM2UsIHVuZGVyIFx1MDAzY2EgaHJlZj1cImh0dHA6Ly9jcmVhdGl2ZWNvbW1vbnMub3JnL2xpY2Vuc2VzL2J5LzMuMFwiXHUwMDNlQ0MgQlkgMy4wXHUwMDNjL2FcdTAwM2UuIERhdGEgYnkgXHUwMDI2Y29weTsgXHUwMDNjYSBocmVmPVwiaHR0cDovL29wZW5zdHJlZXRtYXAub3JnXCJcdTAwM2VPcGVuU3RyZWV0TWFwXHUwMDNjL2FcdTAwM2UsIHVuZGVyIFx1MDAzY2EgaHJlZj1cImh0dHA6Ly9jcmVhdGl2ZWNvbW1vbnMub3JnL2xpY2Vuc2VzL2J5LXNhLzMuMFwiXHUwMDNlQ0MgQlkgU0FcdTAwM2MvYVx1MDAzZS4iLCAiZGV0ZWN0UmV0aW5hIjogZmFsc2UsICJtYXhOYXRpdmVab29tIjogMTgsICJtYXhab29tIjogMTgsICJtaW5ab29tIjogMCwgIm5vV3JhcCI6IGZhbHNlLCAib3BhY2l0eSI6IDEsICJzdWJkb21haW5zIjogImFiYyIsICJ0bXMiOiBmYWxzZX0KICAgICAgICAgICAgKS5hZGRUbyhtYXBfZWY5OGQyYTFiNjliNDFlMGFjZWU1NTk3MWQyOGNkMTUpOwogICAgICAgIAogICAgCiAgICAgICAgICAgIHZhciBtYXJrZXJfMjA4MjVlNTRmNjdjNDk1OWIyOTdhZmQ0NWM5NTdjNDEgPSBMLm1hcmtlcigKICAgICAgICAgICAgICAgIFszMy43NjgwNzEsIC0xMTguMTkyOTIxXSwKICAgICAgICAgICAgICAgIHt9CiAgICAgICAgICAgICkuYWRkVG8obWFwX2VmOThkMmExYjY5YjQxZTBhY2VlNTU5NzFkMjhjZDE1KTsKICAgICAgICAKICAgIAogICAgICAgIHZhciBwb3B1cF8zY2Q2M2Q0OWE4NWM0OTBmOGNhZjlmMDA1NWM2N2U0OCA9IEwucG9wdXAoeyJtYXhXaWR0aCI6ICIxMDAlIn0pOwoKICAgICAgICAKICAgICAgICAgICAgdmFyIGh0bWxfNTI1MDM4NjcxYjMwNDIzMjlhNWIwYjQzN2Y1ZjliODUgPSAkKGA8ZGl2IGlkPSJodG1sXzUyNTAzODY3MWIzMDQyMzI5YTViMGI0MzdmNWY5Yjg1IiBzdHlsZT0id2lkdGg6IDEwMC4wJTsgaGVpZ2h0OiAxMDAuMCU7Ij5Eb3dudG93biBMb25nIEJlYWNoIFN0YXRpb24gODAxPC9kaXY+YClbMF07CiAgICAgICAgICAgIHBvcHVwXzNjZDYzZDQ5YTg1YzQ5MGY4Y2FmOWYwMDU1YzY3ZTQ4LnNldENvbnRlbnQoaHRtbF81MjUwMzg2NzFiMzA0MjMyOWE1YjBiNDM3ZjVmOWI4NSk7CiAgICAgICAgCgogICAgICAgIG1hcmtlcl8yMDgyNWU1NGY2N2M0OTU5YjI5N2FmZDQ1Yzk1N2M0MS5iaW5kUG9wdXAocG9wdXBfM2NkNjNkNDlhODVjNDkwZjhjYWY5ZjAwNTVjNjdlNDgpCiAgICAgICAgOwoKICAgICAgICAKICAgIAogICAgCiAgICAgICAgICAgIG1hcmtlcl8yMDgyNWU1NGY2N2M0OTU5YjI5N2FmZDQ1Yzk1N2M0MS5iaW5kVG9vbHRpcCgKICAgICAgICAgICAgICAgIGA8ZGl2PgogICAgICAgICAgICAgICAgICAgICBEb3dudG93biBMb25nIEJlYWNoIFN0YXRpb24KICAgICAgICAgICAgICAgICA8L2Rpdj5gLAogICAgICAgICAgICAgICAgeyJzdGlja3kiOiB0cnVlfQogICAgICAgICAgICApOwogICAgICAgIAogICAgCiAgICAgICAgICAgIHZhciBtYXJrZXJfNjhmMjAyZGYzM2YyNDdmODlkMDFjYTNlN2I0MzQwNGUgPSBMLm1hcmtlcigKICAgICAgICAgICAgICAgIFszMy43NzIyNTgsIC0xMTguMTkzN10sCiAgICAgICAgICAgICAgICB7fQogICAgICAgICAgICApLmFkZFRvKG1hcF9lZjk4ZDJhMWI2OWI0MWUwYWNlZTU1OTcxZDI4Y2QxNSk7CiAgICAgICAgCiAgICAKICAgICAgICB2YXIgcG9wdXBfOTg0NzhkZTdhZjViNDEwYzhjZTgxMjEzYzFhOGY0MzQgPSBMLnBvcHVwKHsibWF4V2lkdGgiOiAiMTAwJSJ9KTsKCiAgICAgICAgCiAgICAgICAgICAgIHZhciBodG1sXzBmMjM5ZjI1ZmY4MzQyMTU5ZWQ3OGU1MDJiYzViYjRkID0gJChgPGRpdiBpZD0iaHRtbF8wZjIzOWYyNWZmODM0MjE1OWVkNzhlNTAyYmM1YmI0ZCIgc3R5bGU9IndpZHRoOiAxMDAuMCU7IGhlaWdodDogMTAwLjAlOyI+UGFjaWZpYyBBdmUgU3RhdGlvbiA4MDE8L2Rpdj5gKVswXTsKICAgICAgICAgICAgcG9wdXBfOTg0NzhkZTdhZjViNDEwYzhjZTgxMjEzYzFhOGY0MzQuc2V0Q29udGVudChodG1sXzBmMjM5ZjI1ZmY4MzQyMTU5ZWQ3OGU1MDJiYzViYjRkKTsKICAgICAgICAKCiAgICAgICAgbWFya2VyXzY4ZjIwMmRmMzNmMjQ3Zjg5ZDAxY2EzZTdiNDM0MDRlLmJpbmRQb3B1cChwb3B1cF85ODQ3OGRlN2FmNWI0MTBjOGNlODEyMTNjMWE4ZjQzNCkKICAgICAgICA7CgogICAgICAgIAogICAgCiAgICAKICAgICAgICAgICAgbWFya2VyXzY4ZjIwMmRmMzNmMjQ3Zjg5ZDAxY2EzZTdiNDM0MDRlLmJpbmRUb29sdGlwKAogICAgICAgICAgICAgICAgYDxkaXY+CiAgICAgICAgICAgICAgICAgICAgIFBhY2lmaWMgQXZlIFN0YXRpb24KICAgICAgICAgICAgICAgICA8L2Rpdj5gLAogICAgICAgICAgICAgICAgeyJzdGlja3kiOiB0cnVlfQogICAgICAgICAgICApOwogICAgICAgIAogICAgCiAgICAgICAgICAgIHZhciBtYXJrZXJfM2FkMDkyMjJiZDQyNDVjMmIzMmJiMzhhMGYyNzdkYWIgPSBMLm1hcmtlcigKICAgICAgICAgICAgICAgIFszMy43ODE4MywgLTExOC4xODkzODRdLAogICAgICAgICAgICAgICAge30KICAgICAgICAgICAgKS5hZGRUbyhtYXBfZWY5OGQyYTFiNjliNDFlMGFjZWU1NTk3MWQyOGNkMTUpOwogICAgICAgIAogICAgCiAgICAgICAgdmFyIHBvcHVwXzYxNDEwMTUyODFjMzQxMzFiYWNlNGFiNDk5Y2NjOTQ0ID0gTC5wb3B1cCh7Im1heFdpZHRoIjogIjEwMCUifSk7CgogICAgICAgIAogICAgICAgICAgICB2YXIgaHRtbF85MTA3ZTA5OWU4OGM0MDI1OThmZjkzNTgwMjQ5NzhhYyA9ICQoYDxkaXYgaWQ9Imh0bWxfOTEwN2UwOTllODhjNDAyNTk4ZmY5MzU4MDI0OTc4YWMiIHN0eWxlPSJ3aWR0aDogMTAwLjAlOyBoZWlnaHQ6IDEwMC4wJTsiPkFuYWhlaW0gU3RyZWV0IFN0YXRpb24gODAxPC9kaXY+YClbMF07CiAgICAgICAgICAgIHBvcHVwXzYxNDEwMTUyODFjMzQxMzFiYWNlNGFiNDk5Y2NjOTQ0LnNldENvbnRlbnQoaHRtbF85MTA3ZTA5OWU4OGM0MDI1OThmZjkzNTgwMjQ5NzhhYyk7CiAgICAgICAgCgogICAgICAgIG1hcmtlcl8zYWQwOTIyMmJkNDI0NWMyYjMyYmIzOGEwZjI3N2RhYi5iaW5kUG9wdXAocG9wdXBfNjE0MTAxNTI4MWMzNDEzMWJhY2U0YWI0OTljY2M5NDQpCiAgICAgICAgOwoKICAgICAgICAKICAgIAogICAgCiAgICAgICAgICAgIG1hcmtlcl8zYWQwOTIyMmJkNDI0NWMyYjMyYmIzOGEwZjI3N2RhYi5iaW5kVG9vbHRpcCgKICAgICAgICAgICAgICAgIGA8ZGl2PgogICAgICAgICAgICAgICAgICAgICBBbmFoZWltIFN0cmVldCBTdGF0aW9uCiAgICAgICAgICAgICAgICAgPC9kaXY+YCwKICAgICAgICAgICAgICAgIHsic3RpY2t5IjogdHJ1ZX0KICAgICAgICAgICAgKTsKICAgICAgICAKICAgIAogICAgICAgICAgICB2YXIgbWFya2VyXzNiYWQxNTRiOTc4YzQzNDdiODFmNGJiN2FmMTY3MjUwID0gTC5tYXJrZXIoCiAgICAgICAgICAgICAgICBbMzMuNzg5MDksIC0xMTguMTg5MzgyXSwKICAgICAgICAgICAgICAgIHt9CiAgICAgICAgICAgICkuYWRkVG8obWFwX2VmOThkMmExYjY5YjQxZTBhY2VlNTU5NzFkMjhjZDE1KTsKICAgICAgICAKICAgIAogICAgICAgIHZhciBwb3B1cF8wZTEwYjM2ZjlkYjY0MTQyOGIyODc3YjdhNTBiMWNiYyA9IEwucG9wdXAoeyJtYXhXaWR0aCI6ICIxMDAlIn0pOwoKICAgICAgICAKICAgICAgICAgICAgdmFyIGh0bWxfNzFlNTc1MGUwYzAyNDQ3Njk4MTExMzkzYzZjMDMwYTAgPSAkKGA8ZGl2IGlkPSJodG1sXzcxZTU3NTBlMGMwMjQ0NzY5ODExMTM5M2M2YzAzMGEwIiBzdHlsZT0id2lkdGg6IDEwMC4wJTsgaGVpZ2h0OiAxMDAuMCU7Ij5QYWNpZmljIENvYXN0IEh3eSBTdGF0aW9uIDgwMTwvZGl2PmApWzBdOwogICAgICAgICAgICBwb3B1cF8wZTEwYjM2ZjlkYjY0MTQyOGIyODc3YjdhNTBiMWNiYy5zZXRDb250ZW50KGh0bWxfNzFlNTc1MGUwYzAyNDQ3Njk4MTExMzkzYzZjMDMwYTApOwogICAgICAgIAoKICAgICAgICBtYXJrZXJfM2JhZDE1NGI5NzhjNDM0N2I4MWY0YmI3YWYxNjcyNTAuYmluZFBvcHVwKHBvcHVwXzBlMTBiMzZmOWRiNjQxNDI4YjI4NzdiN2E1MGIxY2JjKQogICAgICAgIDsKCiAgICAgICAgCiAgICAKICAgIAogICAgICAgICAgICBtYXJrZXJfM2JhZDE1NGI5NzhjNDM0N2I4MWY0YmI3YWYxNjcyNTAuYmluZFRvb2x0aXAoCiAgICAgICAgICAgICAgICBgPGRpdj4KICAgICAgICAgICAgICAgICAgICAgUGFjaWZpYyBDb2FzdCBId3kgU3RhdGlvbgogICAgICAgICAgICAgICAgIDwvZGl2PmAsCiAgICAgICAgICAgICAgICB7InN0aWNreSI6IHRydWV9CiAgICAgICAgICAgICk7CiAgICAgICAgCiAgICAKICAgICAgICAgICAgdmFyIG1hcmtlcl9jZGUwZDQ0YTIzZGM0MTAwOWQ5ZmY2ODYxMTA4YmRiMCA9IEwubWFya2VyKAogICAgICAgICAgICAgICAgWzMzLjgwNzA3OSwgLTExOC4xODk4MzRdLAogICAgICAgICAgICAgICAge30KICAgICAgICAgICAgKS5hZGRUbyhtYXBfZWY5OGQyYTFiNjliNDFlMGFjZWU1NTk3MWQyOGNkMTUpOwogICAgICAgIAogICAgCiAgICAgICAgdmFyIHBvcHVwX2ZiMTM4YTI0Y2ZmNzQyMzBhMWM3ZDM0NDkwMzU5OTQ3ID0gTC5wb3B1cCh7Im1heFdpZHRoIjogIjEwMCUifSk7CgogICAgICAgIAogICAgICAgICAgICB2YXIgaHRtbF85ZDMzZGRmOWVkMWQ0YmYwYTFmNzEzNTVlNTZkMzBhOCA9ICQoYDxkaXYgaWQ9Imh0bWxfOWQzM2RkZjllZDFkNGJmMGExZjcxMzU1ZTU2ZDMwYTgiIHN0eWxlPSJ3aWR0aDogMTAwLjAlOyBoZWlnaHQ6IDEwMC4wJTsiPldpbGxvdyBTdHJlZXQgU3RhdGlvbiA4MDE8L2Rpdj5gKVswXTsKICAgICAgICAgICAgcG9wdXBfZmIxMzhhMjRjZmY3NDIzMGExYzdkMzQ0OTAzNTk5NDcuc2V0Q29udGVudChodG1sXzlkMzNkZGY5ZWQxZDRiZjBhMWY3MTM1NWU1NmQzMGE4KTsKICAgICAgICAKCiAgICAgICAgbWFya2VyX2NkZTBkNDRhMjNkYzQxMDA5ZDlmZjY4NjExMDhiZGIwLmJpbmRQb3B1cChwb3B1cF9mYjEzOGEyNGNmZjc0MjMwYTFjN2QzNDQ5MDM1OTk0NykKICAgICAgICA7CgogICAgICAgIAogICAgCiAgICAKICAgICAgICAgICAgbWFya2VyX2NkZTBkNDRhMjNkYzQxMDA5ZDlmZjY4NjExMDhiZGIwLmJpbmRUb29sdGlwKAogICAgICAgICAgICAgICAgYDxkaXY+CiAgICAgICAgICAgICAgICAgICAgIFdpbGxvdyBTdHJlZXQgU3RhdGlvbgogICAgICAgICAgICAgICAgIDwvZGl2PmAsCiAgICAgICAgICAgICAgICB7InN0aWNreSI6IHRydWV9CiAgICAgICAgICAgICk7CiAgICAgICAgCiAgICAKICAgICAgICAgICAgdmFyIG1hcmtlcl8wMDRlODhjMTBkMTY0MTA5ODUxNGUyZDc5NzBiOTYxZCA9IEwubWFya2VyKAogICAgICAgICAgICAgICAgWzMzLjgxOTg2NSwgLTExOC4xOTYwOV0sCiAgICAgICAgICAgICAgICB7fQogICAgICAgICAgICApLmFkZFRvKG1hcF9lZjk4ZDJhMWI2OWI0MWUwYWNlZTU1OTcxZDI4Y2QxNSk7CiAgICAgICAgCiAgICAKICAgICAgICB2YXIgcG9wdXBfNTE2Y2RmYzQwNmFhNDRmOGE0YjQ0OGY2Yjc4YzkyNDEgPSBMLnBvcHVwKHsibWF4V2lkdGgiOiAiMTAwJSJ9KTsKCiAgICAgICAgCiAgICAgICAgICAgIHZhciBodG1sX2MzMjYxZDRjYmJjOTRlNDJhZTVkMzFiMzkyZTY2NTIzID0gJChgPGRpdiBpZD0iaHRtbF9jMzI2MWQ0Y2JiYzk0ZTQyYWU1ZDMxYjM5MmU2NjUyMyIgc3R5bGU9IndpZHRoOiAxMDAuMCU7IGhlaWdodDogMTAwLjAlOyI+V2FyZGxvdyBTdGF0aW9uIDgwMTwvZGl2PmApWzBdOwogICAgICAgICAgICBwb3B1cF81MTZjZGZjNDA2YWE0NGY4YTRiNDQ4ZjZiNzhjOTI0MS5zZXRDb250ZW50KGh0bWxfYzMyNjFkNGNiYmM5NGU0MmFlNWQzMWIzOTJlNjY1MjMpOwogICAgICAgIAoKICAgICAgICBtYXJrZXJfMDA0ZTg4YzEwZDE2NDEwOTg1MTRlMmQ3OTcwYjk2MWQuYmluZFBvcHVwKHBvcHVwXzUxNmNkZmM0MDZhYTQ0ZjhhNGI0NDhmNmI3OGM5MjQxKQogICAgICAgIDsKCiAgICAgICAgCiAgICAKICAgIAogICAgICAgICAgICBtYXJrZXJfMDA0ZTg4YzEwZDE2NDEwOTg1MTRlMmQ3OTcwYjk2MWQuYmluZFRvb2x0aXAoCiAgICAgICAgICAgICAgICBgPGRpdj4KICAgICAgICAgICAgICAgICAgICAgV2FyZGxvdyBTdGF0aW9uCiAgICAgICAgICAgICAgICAgPC9kaXY+YCwKICAgICAgICAgICAgICAgIHsic3RpY2t5IjogdHJ1ZX0KICAgICAgICAgICAgKTsKICAgICAgICAKICAgIAogICAgICAgICAgICB2YXIgbWFya2VyX2E5M2ZmY2FiOWE5ZDRiZWNhYzVmYWQwODk0ODJmYmQzID0gTC5tYXJrZXIoCiAgICAgICAgICAgICAgICBbMzMuODQ4MjIyLCAtMTE4LjIxMTAxN10sCiAgICAgICAgICAgICAgICB7fQogICAgICAgICAgICApLmFkZFRvKG1hcF9lZjk4ZDJhMWI2OWI0MWUwYWNlZTU1OTcxZDI4Y2QxNSk7CiAgICAgICAgCiAgICAKICAgICAgICB2YXIgcG9wdXBfOGExYWU2OWMzMzk2NDk4ZmExNTVkY2MwOGU2NTc2YTcgPSBMLnBvcHVwKHsibWF4V2lkdGgiOiAiMTAwJSJ9KTsKCiAgICAgICAgCiAgICAgICAgICAgIHZhciBodG1sXzlmMDgzZDkzMTM4NDRiMzA5NTk1YmJmNjQ2MGZkM2QwID0gJChgPGRpdiBpZD0iaHRtbF85ZjA4M2Q5MzEzODQ0YjMwOTU5NWJiZjY0NjBmZDNkMCIgc3R5bGU9IndpZHRoOiAxMDAuMCU7IGhlaWdodDogMTAwLjAlOyI+RGVsIEFtbyBTdGF0aW9uIDgwMTwvZGl2PmApWzBdOwogICAgICAgICAgICBwb3B1cF84YTFhZTY5YzMzOTY0OThmYTE1NWRjYzA4ZTY1NzZhNy5zZXRDb250ZW50KGh0bWxfOWYwODNkOTMxMzg0NGIzMDk1OTViYmY2NDYwZmQzZDApOwogICAgICAgIAoKICAgICAgICBtYXJrZXJfYTkzZmZjYWI5YTlkNGJlY2FjNWZhZDA4OTQ4MmZiZDMuYmluZFBvcHVwKHBvcHVwXzhhMWFlNjljMzM5NjQ5OGZhMTU1ZGNjMDhlNjU3NmE3KQogICAgICAgIDsKCiAgICAgICAgCiAgICAKICAgIAogICAgICAgICAgICBtYXJrZXJfYTkzZmZjYWI5YTlkNGJlY2FjNWZhZDA4OTQ4MmZiZDMuYmluZFRvb2x0aXAoCiAgICAgICAgICAgICAgICBgPGRpdj4KICAgICAgICAgICAgICAgICAgICAgRGVsIEFtbyBTdGF0aW9uCiAgICAgICAgICAgICAgICAgPC9kaXY+YCwKICAgICAgICAgICAgICAgIHsic3RpY2t5IjogdHJ1ZX0KICAgICAgICAgICAgKTsKICAgICAgICAKICAgIAogICAgICAgICAgICB2YXIgbWFya2VyX2Y0ZWIxOTM4ZDdiMTQ1NTdiMjRiNjEzY2JmNzY4OTE4ID0gTC5tYXJrZXIoCiAgICAgICAgICAgICAgICBbMzMuODc2MDgyLCAtMTE4LjIyMjUwM10sCiAgICAgICAgICAgICAgICB7fQogICAgICAgICAgICApLmFkZFRvKG1hcF9lZjk4ZDJhMWI2OWI0MWUwYWNlZTU1OTcxZDI4Y2QxNSk7CiAgICAgICAgCiAgICAKICAgICAgICB2YXIgcG9wdXBfMjY5NTgxZjE2NWI5NDhkYmI4NzEyZjFkZjNhZjRhMDYgPSBMLnBvcHVwKHsibWF4V2lkdGgiOiAiMTAwJSJ9KTsKCiAgICAgICAgCiAgICAgICAgICAgIHZhciBodG1sXzVkYjQ1NDZhNDkxMTQ4MmFiZTNmYzhmMjg0YTFhOTQ0ID0gJChgPGRpdiBpZD0iaHRtbF81ZGI0NTQ2YTQ5MTE0ODJhYmUzZmM4ZjI4NGExYTk0NCIgc3R5bGU9IndpZHRoOiAxMDAuMCU7IGhlaWdodDogMTAwLjAlOyI+QXJ0ZXNpYSBTdGF0aW9uIDgwMTwvZGl2PmApWzBdOwogICAgICAgICAgICBwb3B1cF8yNjk1ODFmMTY1Yjk0OGRiYjg3MTJmMWRmM2FmNGEwNi5zZXRDb250ZW50KGh0bWxfNWRiNDU0NmE0OTExNDgyYWJlM2ZjOGYyODRhMWE5NDQpOwogICAgICAgIAoKICAgICAgICBtYXJrZXJfZjRlYjE5MzhkN2IxNDU1N2IyNGI2MTNjYmY3Njg5MTguYmluZFBvcHVwKHBvcHVwXzI2OTU4MWYxNjViOTQ4ZGJiODcxMmYxZGYzYWY0YTA2KQogICAgICAgIDsKCiAgICAgICAgCiAgICAKICAgIAogICAgICAgICAgICBtYXJrZXJfZjRlYjE5MzhkN2IxNDU1N2IyNGI2MTNjYmY3Njg5MTguYmluZFRvb2x0aXAoCiAgICAgICAgICAgICAgICBgPGRpdj4KICAgICAgICAgICAgICAgICAgICAgQXJ0ZXNpYSBTdGF0aW9uCiAgICAgICAgICAgICAgICAgPC9kaXY+YCwKICAgICAgICAgICAgICAgIHsic3RpY2t5IjogdHJ1ZX0KICAgICAgICAgICAgKTsKICAgICAgICAKICAgIAogICAgICAgICAgICB2YXIgbWFya2VyX2VhODc3NjM3OTljODRmNTA4YzliNmM5MWY2M2M3YTM5ID0gTC5tYXJrZXIoCiAgICAgICAgICAgICAgICBbMzMuODk3NDksIC0xMTguMjI0MjQ5XSwKICAgICAgICAgICAgICAgIHt9CiAgICAgICAgICAgICkuYWRkVG8obWFwX2VmOThkMmExYjY5YjQxZTBhY2VlNTU5NzFkMjhjZDE1KTsKICAgICAgICAKICAgIAogICAgICAgIHZhciBwb3B1cF84N2NlZjY1ZGU1MzQ0YzA0YjEwNDk2ZWUzYmU5NTIwNiA9IEwucG9wdXAoeyJtYXhXaWR0aCI6ICIxMDAlIn0pOwoKICAgICAgICAKICAgICAgICAgICAgdmFyIGh0bWxfMTYxODc3ODEyNGZhNGE5NDlhZjAwNjZmMjk4OGVkMTMgPSAkKGA8ZGl2IGlkPSJodG1sXzE2MTg3NzgxMjRmYTRhOTQ5YWYwMDY2ZjI5ODhlZDEzIiBzdHlsZT0id2lkdGg6IDEwMC4wJTsgaGVpZ2h0OiAxMDAuMCU7Ij5Db21wdG9uIFN0YXRpb24gODAxPC9kaXY+YClbMF07CiAgICAgICAgICAgIHBvcHVwXzg3Y2VmNjVkZTUzNDRjMDRiMTA0OTZlZTNiZTk1MjA2LnNldENvbnRlbnQoaHRtbF8xNjE4Nzc4MTI0ZmE0YTk0OWFmMDA2NmYyOTg4ZWQxMyk7CiAgICAgICAgCgogICAgICAgIG1hcmtlcl9lYTg3NzYzNzk5Yzg0ZjUwOGM5YjZjOTFmNjNjN2EzOS5iaW5kUG9wdXAocG9wdXBfODdjZWY2NWRlNTM0NGMwNGIxMDQ5NmVlM2JlOTUyMDYpCiAgICAgICAgOwoKICAgICAgICAKICAgIAogICAgCiAgICAgICAgICAgIG1hcmtlcl9lYTg3NzYzNzk5Yzg0ZjUwOGM5YjZjOTFmNjNjN2EzOS5iaW5kVG9vbHRpcCgKICAgICAgICAgICAgICAgIGA8ZGl2PgogICAgICAgICAgICAgICAgICAgICBDb21wdG9uIFN0YXRpb24KICAgICAgICAgICAgICAgICA8L2Rpdj5gLAogICAgICAgICAgICAgICAgeyJzdGlja3kiOiB0cnVlfQogICAgICAgICAgICApOwogICAgICAgIAogICAgCiAgICAgICAgICAgIHZhciBtYXJrZXJfZWVjOTY1ZDdlNDgwNDk3NWFmZDUzNTQxYzVlNDRjYTMgPSBMLm1hcmtlcigKICAgICAgICAgICAgICAgIFszMy45MjgwNDgsIC0xMTguMjM3NTU1XSwKICAgICAgICAgICAgICAgIHt9CiAgICAgICAgICAgICkuYWRkVG8obWFwX2VmOThkMmExYjY5YjQxZTBhY2VlNTU5NzFkMjhjZDE1KTsKICAgICAgICAKICAgIAogICAgICAgIHZhciBwb3B1cF83NTJhNDY5YWIyYmQ0YmY0YjI4MzFmZWY2ZmY4YTUwMCA9IEwucG9wdXAoeyJtYXhXaWR0aCI6ICIxMDAlIn0pOwoKICAgICAgICAKICAgICAgICAgICAgdmFyIGh0bWxfNDRmZWViMWM3ZWQ4NDE5YTg0YzBhMDBjMDRlZTg5NmYgPSAkKGA8ZGl2IGlkPSJodG1sXzQ0ZmVlYjFjN2VkODQxOWE4NGMwYTAwYzA0ZWU4OTZmIiBzdHlsZT0id2lkdGg6IDEwMC4wJTsgaGVpZ2h0OiAxMDAuMCU7Ij5XaWxsb3dicm9vayAtIFJvc2EgUGFya3MgU3RhdGlvbiAtIE1ldHJvIEJsdWUgTGluZSA4MDE8L2Rpdj5gKVswXTsKICAgICAgICAgICAgcG9wdXBfNzUyYTQ2OWFiMmJkNGJmNGIyODMxZmVmNmZmOGE1MDAuc2V0Q29udGVudChodG1sXzQ0ZmVlYjFjN2VkODQxOWE4NGMwYTAwYzA0ZWU4OTZmKTsKICAgICAgICAKCiAgICAgICAgbWFya2VyX2VlYzk2NWQ3ZTQ4MDQ5NzVhZmQ1MzU0MWM1ZTQ0Y2EzLmJpbmRQb3B1cChwb3B1cF83NTJhNDY5YWIyYmQ0YmY0YjI4MzFmZWY2ZmY4YTUwMCkKICAgICAgICA7CgogICAgICAgIAogICAgCiAgICAKICAgICAgICAgICAgbWFya2VyX2VlYzk2NWQ3ZTQ4MDQ5NzVhZmQ1MzU0MWM1ZTQ0Y2EzLmJpbmRUb29sdGlwKAogICAgICAgICAgICAgICAgYDxkaXY+CiAgICAgICAgICAgICAgICAgICAgIFdpbGxvd2Jyb29rIC0gUm9zYSBQYXJrcyBTdGF0aW9uIC0gTWV0cm8gQmx1ZSBMaW5lCiAgICAgICAgICAgICAgICAgPC9kaXY+YCwKICAgICAgICAgICAgICAgIHsic3RpY2t5IjogdHJ1ZX0KICAgICAgICAgICAgKTsKICAgICAgICAKICAgIAogICAgICAgICAgICB2YXIgbWFya2VyXzk1ODYwOWQyZmJlMDRkZjE5ZWJiYjk3MTZiYzgzZjUzID0gTC5tYXJrZXIoCiAgICAgICAgICAgICAgICBbMzMuOTQyMjIsIC0xMTguMjQzMTU5XSwKICAgICAgICAgICAgICAgIHt9CiAgICAgICAgICAgICkuYWRkVG8obWFwX2VmOThkMmExYjY5YjQxZTBhY2VlNTU5NzFkMjhjZDE1KTsKICAgICAgICAKICAgIAogICAgICAgIHZhciBwb3B1cF84Y2M4YzMyMmMxOGM0NWRjYWYzZmQ0NjQyZTU2ZjMwOCA9IEwucG9wdXAoeyJtYXhXaWR0aCI6ICIxMDAlIn0pOwoKICAgICAgICAKICAgICAgICAgICAgdmFyIGh0bWxfMzdjMDQzYzBhMTFkNDVhM2JmOTM4MzVlMDY2YThiYzkgPSAkKGA8ZGl2IGlkPSJodG1sXzM3YzA0M2MwYTExZDQ1YTNiZjkzODM1ZTA2NmE4YmM5IiBzdHlsZT0id2lkdGg6IDEwMC4wJTsgaGVpZ2h0OiAxMDAuMCU7Ij4xMDNyZCBTdHJlZXQgLyBXYXR0cyBUb3dlcnMgIFN0YXRpb24gODAxPC9kaXY+YClbMF07CiAgICAgICAgICAgIHBvcHVwXzhjYzhjMzIyYzE4YzQ1ZGNhZjNmZDQ2NDJlNTZmMzA4LnNldENvbnRlbnQoaHRtbF8zN2MwNDNjMGExMWQ0NWEzYmY5MzgzNWUwNjZhOGJjOSk7CiAgICAgICAgCgogICAgICAgIG1hcmtlcl85NTg2MDlkMmZiZTA0ZGYxOWViYmI5NzE2YmM4M2Y1My5iaW5kUG9wdXAocG9wdXBfOGNjOGMzMjJjMThjNDVkY2FmM2ZkNDY0MmU1NmYzMDgpCiAgICAgICAgOwoKICAgICAgICAKICAgIAogICAgCiAgICAgICAgICAgIG1hcmtlcl85NTg2MDlkMmZiZTA0ZGYxOWViYmI5NzE2YmM4M2Y1My5iaW5kVG9vbHRpcCgKICAgICAgICAgICAgICAgIGA8ZGl2PgogICAgICAgICAgICAgICAgICAgICAxMDNyZCBTdHJlZXQgLyBXYXR0cyBUb3dlcnMgIFN0YXRpb24KICAgICAgICAgICAgICAgICA8L2Rpdj5gLAogICAgICAgICAgICAgICAgeyJzdGlja3kiOiB0cnVlfQogICAgICAgICAgICApOwogICAgICAgIAogICAgCiAgICAgICAgICAgIHZhciBtYXJrZXJfOTQ3OTBkNDFiZmFiNGFkNzk1ZjRkMDI1NDdkOWY4ZmQgPSBMLm1hcmtlcigKICAgICAgICAgICAgICAgIFszMy45NTk2MTEsIC0xMTguMjQzMjA1XSwKICAgICAgICAgICAgICAgIHt9CiAgICAgICAgICAgICkuYWRkVG8obWFwX2VmOThkMmExYjY5YjQxZTBhY2VlNTU5NzFkMjhjZDE1KTsKICAgICAgICAKICAgIAogICAgICAgIHZhciBwb3B1cF85NGZlMjg4YTIzMDg0MzY5OTkxYWRkYWI1MjBkYjEyOCA9IEwucG9wdXAoeyJtYXhXaWR0aCI6ICIxMDAlIn0pOwoKICAgICAgICAKICAgICAgICAgICAgdmFyIGh0bWxfN2VjNWQzYTU5ZTE3NDQ1YWJjYWY1NmVmOTdlODgzZWYgPSAkKGA8ZGl2IGlkPSJodG1sXzdlYzVkM2E1OWUxNzQ0NWFiY2FmNTZlZjk3ZTg4M2VmIiBzdHlsZT0id2lkdGg6IDEwMC4wJTsgaGVpZ2h0OiAxMDAuMCU7Ij5GaXJlc3RvbmUgU3RhdGlvbiA4MDE8L2Rpdj5gKVswXTsKICAgICAgICAgICAgcG9wdXBfOTRmZTI4OGEyMzA4NDM2OTk5MWFkZGFiNTIwZGIxMjguc2V0Q29udGVudChodG1sXzdlYzVkM2E1OWUxNzQ0NWFiY2FmNTZlZjk3ZTg4M2VmKTsKICAgICAgICAKCiAgICAgICAgbWFya2VyXzk0NzkwZDQxYmZhYjRhZDc5NWY0ZDAyNTQ3ZDlmOGZkLmJpbmRQb3B1cChwb3B1cF85NGZlMjg4YTIzMDg0MzY5OTkxYWRkYWI1MjBkYjEyOCkKICAgICAgICA7CgogICAgICAgIAogICAgCiAgICAKICAgICAgICAgICAgbWFya2VyXzk0NzkwZDQxYmZhYjRhZDc5NWY0ZDAyNTQ3ZDlmOGZkLmJpbmRUb29sdGlwKAogICAgICAgICAgICAgICAgYDxkaXY+CiAgICAgICAgICAgICAgICAgICAgIEZpcmVzdG9uZSBTdGF0aW9uCiAgICAgICAgICAgICAgICAgPC9kaXY+YCwKICAgICAgICAgICAgICAgIHsic3RpY2t5IjogdHJ1ZX0KICAgICAgICAgICAgKTsKICAgICAgICAKICAgIAogICAgICAgICAgICB2YXIgbWFya2VyXzA2NWY5MGViZTEwMDQ1MzlhZmQ3YTBiYmMzYjA0ZTFhID0gTC5tYXJrZXIoCiAgICAgICAgICAgICAgICBbMzMuOTczNzQsIC0xMTguMjQzMjcxXSwKICAgICAgICAgICAgICAgIHt9CiAgICAgICAgICAgICkuYWRkVG8obWFwX2VmOThkMmExYjY5YjQxZTBhY2VlNTU5NzFkMjhjZDE1KTsKICAgICAgICAKICAgIAogICAgICAgIHZhciBwb3B1cF9mNmMxZjBjNmRkMjI0Y2E1YTQ5ZGIzZjZkZTFlODdkNiA9IEwucG9wdXAoeyJtYXhXaWR0aCI6ICIxMDAlIn0pOwoKICAgICAgICAKICAgICAgICAgICAgdmFyIGh0bWxfMWIzMmE0Njc3ZTcwNGMwMThmY2FmNmEzMTQwNzc0Y2MgPSAkKGA8ZGl2IGlkPSJodG1sXzFiMzJhNDY3N2U3MDRjMDE4ZmNhZjZhMzE0MDc3NGNjIiBzdHlsZT0id2lkdGg6IDEwMC4wJTsgaGVpZ2h0OiAxMDAuMCU7Ij5GbG9yZW5jZSBTdGF0aW9uIDgwMTwvZGl2PmApWzBdOwogICAgICAgICAgICBwb3B1cF9mNmMxZjBjNmRkMjI0Y2E1YTQ5ZGIzZjZkZTFlODdkNi5zZXRDb250ZW50KGh0bWxfMWIzMmE0Njc3ZTcwNGMwMThmY2FmNmEzMTQwNzc0Y2MpOwogICAgICAgIAoKICAgICAgICBtYXJrZXJfMDY1ZjkwZWJlMTAwNDUzOWFmZDdhMGJiYzNiMDRlMWEuYmluZFBvcHVwKHBvcHVwX2Y2YzFmMGM2ZGQyMjRjYTVhNDlkYjNmNmRlMWU4N2Q2KQogICAgICAgIDsKCiAgICAgICAgCiAgICAKICAgIAogICAgICAgICAgICBtYXJrZXJfMDY1ZjkwZWJlMTAwNDUzOWFmZDdhMGJiYzNiMDRlMWEuYmluZFRvb2x0aXAoCiAgICAgICAgICAgICAgICBgPGRpdj4KICAgICAgICAgICAgICAgICAgICAgRmxvcmVuY2UgU3RhdGlvbgogICAgICAgICAgICAgICAgIDwvZGl2PmAsCiAgICAgICAgICAgICAgICB7InN0aWNreSI6IHRydWV9CiAgICAgICAgICAgICk7CiAgICAgICAgCiAgICAKICAgICAgICAgICAgdmFyIG1hcmtlcl80OWU5NjY1ZTEyZTM0Y2YzYTQzYTY1M2Y1ZDVlNDc2NyA9IEwubWFya2VyKAogICAgICAgICAgICAgICAgWzMzLjk4ODc2LCAtMTE4LjI0MzM5OF0sCiAgICAgICAgICAgICAgICB7fQogICAgICAgICAgICApLmFkZFRvKG1hcF9lZjk4ZDJhMWI2OWI0MWUwYWNlZTU1OTcxZDI4Y2QxNSk7CiAgICAgICAgCiAgICAKICAgICAgICB2YXIgcG9wdXBfNmE2MGZmNzdhN2VkNDYzYzliM2M0ZjhlNzhiZjJmNGEgPSBMLnBvcHVwKHsibWF4V2lkdGgiOiAiMTAwJSJ9KTsKCiAgICAgICAgCiAgICAgICAgICAgIHZhciBodG1sXzYzNGI3OWNjNmYzZjRkZjU5ODNjYTY3Njk4NWIwNDc4ID0gJChgPGRpdiBpZD0iaHRtbF82MzRiNzljYzZmM2Y0ZGY1OTgzY2E2NzY5ODViMDQ3OCIgc3R5bGU9IndpZHRoOiAxMDAuMCU7IGhlaWdodDogMTAwLjAlOyI+U2xhdXNvbiBTdGF0aW9uIDgwMTwvZGl2PmApWzBdOwogICAgICAgICAgICBwb3B1cF82YTYwZmY3N2E3ZWQ0NjNjOWIzYzRmOGU3OGJmMmY0YS5zZXRDb250ZW50KGh0bWxfNjM0Yjc5Y2M2ZjNmNGRmNTk4M2NhNjc2OTg1YjA0NzgpOwogICAgICAgIAoKICAgICAgICBtYXJrZXJfNDllOTY2NWUxMmUzNGNmM2E0M2E2NTNmNWQ1ZTQ3NjcuYmluZFBvcHVwKHBvcHVwXzZhNjBmZjc3YTdlZDQ2M2M5YjNjNGY4ZTc4YmYyZjRhKQogICAgICAgIDsKCiAgICAgICAgCiAgICAKICAgIAogICAgICAgICAgICBtYXJrZXJfNDllOTY2NWUxMmUzNGNmM2E0M2E2NTNmNWQ1ZTQ3NjcuYmluZFRvb2x0aXAoCiAgICAgICAgICAgICAgICBgPGRpdj4KICAgICAgICAgICAgICAgICAgICAgU2xhdXNvbiBTdGF0aW9uCiAgICAgICAgICAgICAgICAgPC9kaXY+YCwKICAgICAgICAgICAgICAgIHsic3RpY2t5IjogdHJ1ZX0KICAgICAgICAgICAgKTsKICAgICAgICAKICAgIAogICAgICAgICAgICB2YXIgbWFya2VyXzA3NDgyM2UyOWIyNTQ3NjU5MGI5NTA1ZTc4ZThhMzg3ID0gTC5tYXJrZXIoCiAgICAgICAgICAgICAgICBbMzQuMDAyOTIsIC0xMTguMjQzMzAzXSwKICAgICAgICAgICAgICAgIHt9CiAgICAgICAgICAgICkuYWRkVG8obWFwX2VmOThkMmExYjY5YjQxZTBhY2VlNTU5NzFkMjhjZDE1KTsKICAgICAgICAKICAgIAogICAgICAgIHZhciBwb3B1cF9jOGY3MDZkYzM1NDg0MTgwYjMzNWQzMDgwNmM4MWQ4NSA9IEwucG9wdXAoeyJtYXhXaWR0aCI6ICIxMDAlIn0pOwoKICAgICAgICAKICAgICAgICAgICAgdmFyIGh0bWxfOTZmZDkzNDc2NTExNDk0OGFkMzYwMzcwMTIyYTdlY2MgPSAkKGA8ZGl2IGlkPSJodG1sXzk2ZmQ5MzQ3NjUxMTQ5NDhhZDM2MDM3MDEyMmE3ZWNjIiBzdHlsZT0id2lkdGg6IDEwMC4wJTsgaGVpZ2h0OiAxMDAuMCU7Ij5WZXJub24gU3RhdGlvbiA4MDE8L2Rpdj5gKVswXTsKICAgICAgICAgICAgcG9wdXBfYzhmNzA2ZGMzNTQ4NDE4MGIzMzVkMzA4MDZjODFkODUuc2V0Q29udGVudChodG1sXzk2ZmQ5MzQ3NjUxMTQ5NDhhZDM2MDM3MDEyMmE3ZWNjKTsKICAgICAgICAKCiAgICAgICAgbWFya2VyXzA3NDgyM2UyOWIyNTQ3NjU5MGI5NTA1ZTc4ZThhMzg3LmJpbmRQb3B1cChwb3B1cF9jOGY3MDZkYzM1NDg0MTgwYjMzNWQzMDgwNmM4MWQ4NSkKICAgICAgICA7CgogICAgICAgIAogICAgCiAgICAKICAgICAgICAgICAgbWFya2VyXzA3NDgyM2UyOWIyNTQ3NjU5MGI5NTA1ZTc4ZThhMzg3LmJpbmRUb29sdGlwKAogICAgICAgICAgICAgICAgYDxkaXY+CiAgICAgICAgICAgICAgICAgICAgIFZlcm5vbiBTdGF0aW9uCiAgICAgICAgICAgICAgICAgPC9kaXY+YCwKICAgICAgICAgICAgICAgIHsic3RpY2t5IjogdHJ1ZX0KICAgICAgICAgICAgKTsKICAgICAgICAKICAgIAogICAgICAgICAgICB2YXIgbWFya2VyX2Y3MzA3YjY4YzA0NTQwMWJhN2JjNzM3ZmQ5MzJmOTIyID0gTC5tYXJrZXIoCiAgICAgICAgICAgICAgICBbMzQuMDE5NjUsIC0xMTguMjQzMDg0XSwKICAgICAgICAgICAgICAgIHt9CiAgICAgICAgICAgICkuYWRkVG8obWFwX2VmOThkMmExYjY5YjQxZTBhY2VlNTU5NzFkMjhjZDE1KTsKICAgICAgICAKICAgIAogICAgICAgIHZhciBwb3B1cF81NzAzNDQwMWE1MzI0YTRhYjk2YzRlZTBmZjQxMjA0NyA9IEwucG9wdXAoeyJtYXhXaWR0aCI6ICIxMDAlIn0pOwoKICAgICAgICAKICAgICAgICAgICAgdmFyIGh0bWxfNzBkM2VhY2E5ZGUzNDRiYmJhYmI0ZGVjMDE5ZTE5ZWMgPSAkKGA8ZGl2IGlkPSJodG1sXzcwZDNlYWNhOWRlMzQ0YmJiYWJiNGRlYzAxOWUxOWVjIiBzdHlsZT0id2lkdGg6IDEwMC4wJTsgaGVpZ2h0OiAxMDAuMCU7Ij5XYXNoaW5ndG9uIFN0YXRpb24gODAxPC9kaXY+YClbMF07CiAgICAgICAgICAgIHBvcHVwXzU3MDM0NDAxYTUzMjRhNGFiOTZjNGVlMGZmNDEyMDQ3LnNldENvbnRlbnQoaHRtbF83MGQzZWFjYTlkZTM0NGJiYmFiYjRkZWMwMTllMTllYyk7CiAgICAgICAgCgogICAgICAgIG1hcmtlcl9mNzMwN2I2OGMwNDU0MDFiYTdiYzczN2ZkOTMyZjkyMi5iaW5kUG9wdXAocG9wdXBfNTcwMzQ0MDFhNTMyNGE0YWI5NmM0ZWUwZmY0MTIwNDcpCiAgICAgICAgOwoKICAgICAgICAKICAgIAogICAgCiAgICAgICAgICAgIG1hcmtlcl9mNzMwN2I2OGMwNDU0MDFiYTdiYzczN2ZkOTMyZjkyMi5iaW5kVG9vbHRpcCgKICAgICAgICAgICAgICAgIGA8ZGl2PgogICAgICAgICAgICAgICAgICAgICBXYXNoaW5ndG9uIFN0YXRpb24KICAgICAgICAgICAgICAgICA8L2Rpdj5gLAogICAgICAgICAgICAgICAgeyJzdGlja3kiOiB0cnVlfQogICAgICAgICAgICApOwogICAgICAgIAogICAgCiAgICAgICAgICAgIHZhciBtYXJrZXJfYzlmNzQ3NGFjMjg0NDY4ZDgzOGU3MTRhOWQ4NDEwNDAgPSBMLm1hcmtlcigKICAgICAgICAgICAgICAgIFszNC4wMjY4MDcsIC0xMTguMjU1NTA1XSwKICAgICAgICAgICAgICAgIHt9CiAgICAgICAgICAgICkuYWRkVG8obWFwX2VmOThkMmExYjY5YjQxZTBhY2VlNTU5NzFkMjhjZDE1KTsKICAgICAgICAKICAgIAogICAgICAgIHZhciBwb3B1cF9kOWNmOTM3NGEyZjc0OTRiOGI3NGE1NDkyOWEzODQyZSA9IEwucG9wdXAoeyJtYXhXaWR0aCI6ICIxMDAlIn0pOwoKICAgICAgICAKICAgICAgICAgICAgdmFyIGh0bWxfYTk5YWQzZDJjYzdjNGVmNjg3MWI2ODE0NmI5YTgzNzIgPSAkKGA8ZGl2IGlkPSJodG1sX2E5OWFkM2QyY2M3YzRlZjY4NzFiNjgxNDZiOWE4MzcyIiBzdHlsZT0id2lkdGg6IDEwMC4wJTsgaGVpZ2h0OiAxMDAuMCU7Ij5TYW4gUGVkcm8gU3RyZWV0IFN0YXRpb24gODAxPC9kaXY+YClbMF07CiAgICAgICAgICAgIHBvcHVwX2Q5Y2Y5Mzc0YTJmNzQ5NGI4Yjc0YTU0OTI5YTM4NDJlLnNldENvbnRlbnQoaHRtbF9hOTlhZDNkMmNjN2M0ZWY2ODcxYjY4MTQ2YjlhODM3Mik7CiAgICAgICAgCgogICAgICAgIG1hcmtlcl9jOWY3NDc0YWMyODQ0NjhkODM4ZTcxNGE5ZDg0MTA0MC5iaW5kUG9wdXAocG9wdXBfZDljZjkzNzRhMmY3NDk0YjhiNzRhNTQ5MjlhMzg0MmUpCiAgICAgICAgOwoKICAgICAgICAKICAgIAogICAgCiAgICAgICAgICAgIG1hcmtlcl9jOWY3NDc0YWMyODQ0NjhkODM4ZTcxNGE5ZDg0MTA0MC5iaW5kVG9vbHRpcCgKICAgICAgICAgICAgICAgIGA8ZGl2PgogICAgICAgICAgICAgICAgICAgICBTYW4gUGVkcm8gU3RyZWV0IFN0YXRpb24KICAgICAgICAgICAgICAgICA8L2Rpdj5gLAogICAgICAgICAgICAgICAgeyJzdGlja3kiOiB0cnVlfQogICAgICAgICAgICApOwogICAgICAgIAogICAgCiAgICAgICAgICAgIHZhciBtYXJrZXJfMDQ5NmIwMjUyZjI4NDcxNDk5MTdiZTM2MmIxYmQ1MjIgPSBMLm1hcmtlcigKICAgICAgICAgICAgICAgIFszNC4wMzMxNTUsIC0xMTguMjY5MzMzXSwKICAgICAgICAgICAgICAgIHt9CiAgICAgICAgICAgICkuYWRkVG8obWFwX2VmOThkMmExYjY5YjQxZTBhY2VlNTU5NzFkMjhjZDE1KTsKICAgICAgICAKICAgIAogICAgICAgIHZhciBwb3B1cF9lYzY4M2MwMGIxN2M0YTgzYjY5OWU4MDExYzc3OTJhMyA9IEwucG9wdXAoeyJtYXhXaWR0aCI6ICIxMDAlIn0pOwoKICAgICAgICAKICAgICAgICAgICAgdmFyIGh0bWxfNzA2MTcxY2FmMTk5NDRiM2FlYzZiMDA4ZDM3MzhmNWUgPSAkKGA8ZGl2IGlkPSJodG1sXzcwNjE3MWNhZjE5OTQ0YjNhZWM2YjAwOGQzNzM4ZjVlIiBzdHlsZT0id2lkdGg6IDEwMC4wJTsgaGVpZ2h0OiAxMDAuMCU7Ij5HcmFuZCAvIExBVFRDIFN0YXRpb24gODAxPC9kaXY+YClbMF07CiAgICAgICAgICAgIHBvcHVwX2VjNjgzYzAwYjE3YzRhODNiNjk5ZTgwMTFjNzc5MmEzLnNldENvbnRlbnQoaHRtbF83MDYxNzFjYWYxOTk0NGIzYWVjNmIwMDhkMzczOGY1ZSk7CiAgICAgICAgCgogICAgICAgIG1hcmtlcl8wNDk2YjAyNTJmMjg0NzE0OTkxN2JlMzYyYjFiZDUyMi5iaW5kUG9wdXAocG9wdXBfZWM2ODNjMDBiMTdjNGE4M2I2OTllODAxMWM3NzkyYTMpCiAgICAgICAgOwoKICAgICAgICAKICAgIAogICAgCiAgICAgICAgICAgIG1hcmtlcl8wNDk2YjAyNTJmMjg0NzE0OTkxN2JlMzYyYjFiZDUyMi5iaW5kVG9vbHRpcCgKICAgICAgICAgICAgICAgIGA8ZGl2PgogICAgICAgICAgICAgICAgICAgICBHcmFuZCAvIExBVFRDIFN0YXRpb24KICAgICAgICAgICAgICAgICA8L2Rpdj5gLAogICAgICAgICAgICAgICAgeyJzdGlja3kiOiB0cnVlfQogICAgICAgICAgICApOwogICAgICAgIAogICAgCiAgICAgICAgICAgIHZhciBtYXJrZXJfYmIzMzVkNTZhNDRkNDZmY2JmMTQ4ZThjZWU3MDA5YjggPSBMLm1hcmtlcigKICAgICAgICAgICAgICAgIFszNC4wNDA3MzUsIC0xMTguMjY2MTE4XSwKICAgICAgICAgICAgICAgIHt9CiAgICAgICAgICAgICkuYWRkVG8obWFwX2VmOThkMmExYjY5YjQxZTBhY2VlNTU5NzFkMjhjZDE1KTsKICAgICAgICAKICAgIAogICAgICAgIHZhciBwb3B1cF9mNjY1YTE2NzFjZjg0YThjYjRiMjdkMDcwOGE3ZjFmZSA9IEwucG9wdXAoeyJtYXhXaWR0aCI6ICIxMDAlIn0pOwoKICAgICAgICAKICAgICAgICAgICAgdmFyIGh0bWxfMDc0YTMyM2VkMmJhNGZhYThiMjUwZjgyOWNjMjZmMmEgPSAkKGA8ZGl2IGlkPSJodG1sXzA3NGEzMjNlZDJiYTRmYWE4YjI1MGY4MjljYzI2ZjJhIiBzdHlsZT0id2lkdGg6IDEwMC4wJTsgaGVpZ2h0OiAxMDAuMCU7Ij5QaWNvIFN0YXRpb24gODAxPC9kaXY+YClbMF07CiAgICAgICAgICAgIHBvcHVwX2Y2NjVhMTY3MWNmODRhOGNiNGIyN2QwNzA4YTdmMWZlLnNldENvbnRlbnQoaHRtbF8wNzRhMzIzZWQyYmE0ZmFhOGIyNTBmODI5Y2MyNmYyYSk7CiAgICAgICAgCgogICAgICAgIG1hcmtlcl9iYjMzNWQ1NmE0NGQ0NmZjYmYxNDhlOGNlZTcwMDliOC5iaW5kUG9wdXAocG9wdXBfZjY2NWExNjcxY2Y4NGE4Y2I0YjI3ZDA3MDhhN2YxZmUpCiAgICAgICAgOwoKICAgICAgICAKICAgIAogICAgCiAgICAgICAgICAgIG1hcmtlcl9iYjMzNWQ1NmE0NGQ0NmZjYmYxNDhlOGNlZTcwMDliOC5iaW5kVG9vbHRpcCgKICAgICAgICAgICAgICAgIGA8ZGl2PgogICAgICAgICAgICAgICAgICAgICBQaWNvIFN0YXRpb24KICAgICAgICAgICAgICAgICA8L2Rpdj5gLAogICAgICAgICAgICAgICAgeyJzdGlja3kiOiB0cnVlfQogICAgICAgICAgICApOwogICAgICAgIAogICAgCiAgICAgICAgICAgIHZhciBtYXJrZXJfMzZkZTI2ZTdhMjNlNDFlOWFiNjQyMTdkY2Q0OTc5YTEgPSBMLm1hcmtlcigKICAgICAgICAgICAgICAgIFszNC4wNDg2MSwgLTExOC4yNTg4MjJdLAogICAgICAgICAgICAgICAge30KICAgICAgICAgICAgKS5hZGRUbyhtYXBfZWY5OGQyYTFiNjliNDFlMGFjZWU1NTk3MWQyOGNkMTUpOwogICAgICAgIAogICAgCiAgICAgICAgdmFyIHBvcHVwX2ZhOWM3OGVjY2UzYTRlMmM4ODJmYTBkMmFlNDJmMjIwID0gTC5wb3B1cCh7Im1heFdpZHRoIjogIjEwMCUifSk7CgogICAgICAgIAogICAgICAgICAgICB2YXIgaHRtbF9mNzU2MTlhNTUxM2E0NGViYmJiOWRmZTlhZWQ4ZmYwMSA9ICQoYDxkaXYgaWQ9Imh0bWxfZjc1NjE5YTU1MTNhNDRlYmJiYjlkZmU5YWVkOGZmMDEiIHN0eWxlPSJ3aWR0aDogMTAwLjAlOyBoZWlnaHQ6IDEwMC4wJTsiPjd0aCBTdHJlZXQgLyBNZXRybyBDZW50ZXIgU3RhdGlvbiAtIE1ldHJvIEJsdWUgJiBFeHBvIExpbmVzIDgwMTwvZGl2PmApWzBdOwogICAgICAgICAgICBwb3B1cF9mYTljNzhlY2NlM2E0ZTJjODgyZmEwZDJhZTQyZjIyMC5zZXRDb250ZW50KGh0bWxfZjc1NjE5YTU1MTNhNDRlYmJiYjlkZmU5YWVkOGZmMDEpOwogICAgICAgIAoKICAgICAgICBtYXJrZXJfMzZkZTI2ZTdhMjNlNDFlOWFiNjQyMTdkY2Q0OTc5YTEuYmluZFBvcHVwKHBvcHVwX2ZhOWM3OGVjY2UzYTRlMmM4ODJmYTBkMmFlNDJmMjIwKQogICAgICAgIDsKCiAgICAgICAgCiAgICAKICAgIAogICAgICAgICAgICBtYXJrZXJfMzZkZTI2ZTdhMjNlNDFlOWFiNjQyMTdkY2Q0OTc5YTEuYmluZFRvb2x0aXAoCiAgICAgICAgICAgICAgICBgPGRpdj4KICAgICAgICAgICAgICAgICAgICAgN3RoIFN0cmVldCAvIE1ldHJvIENlbnRlciBTdGF0aW9uIC0gTWV0cm8gQmx1ZSAmIEV4cG8gTGluZXMKICAgICAgICAgICAgICAgICA8L2Rpdj5gLAogICAgICAgICAgICAgICAgeyJzdGlja3kiOiB0cnVlfQogICAgICAgICAgICApOwogICAgICAgIAogICAgCiAgICAgICAgICAgIHZhciBtYXJrZXJfNmM5ZGJmMmRiMWM5NGMwYTlhNmMzMTIyNzgyZGNmZjEgPSBMLm1hcmtlcigKICAgICAgICAgICAgICAgIFszNC4wMjkxMTIsIC0xMTguMjczNjAzXSwKICAgICAgICAgICAgICAgIHt9CiAgICAgICAgICAgICkuYWRkVG8obWFwX2VmOThkMmExYjY5YjQxZTBhY2VlNTU5NzFkMjhjZDE1KTsKICAgICAgICAKICAgIAogICAgICAgIHZhciBwb3B1cF9kN2RjZjg1MTIyYWI0YWMwYjIxZDg0M2UyMjMyNWM2NiA9IEwucG9wdXAoeyJtYXhXaWR0aCI6ICIxMDAlIn0pOwoKICAgICAgICAKICAgICAgICAgICAgdmFyIGh0bWxfOTQxYjU0NTQzYTI5NDY1MDk0M2EwOGJhOTQ4YjgxNjcgPSAkKGA8ZGl2IGlkPSJodG1sXzk0MWI1NDU0M2EyOTQ2NTA5NDNhMDhiYTk0OGI4MTY3IiBzdHlsZT0id2lkdGg6IDEwMC4wJTsgaGVpZ2h0OiAxMDAuMCU7Ij5MQVRUQyAvIE9ydGhvIEluc3RpdHV0ZSBTdGF0aW9uIDgwNjwvZGl2PmApWzBdOwogICAgICAgICAgICBwb3B1cF9kN2RjZjg1MTIyYWI0YWMwYjIxZDg0M2UyMjMyNWM2Ni5zZXRDb250ZW50KGh0bWxfOTQxYjU0NTQzYTI5NDY1MDk0M2EwOGJhOTQ4YjgxNjcpOwogICAgICAgIAoKICAgICAgICBtYXJrZXJfNmM5ZGJmMmRiMWM5NGMwYTlhNmMzMTIyNzgyZGNmZjEuYmluZFBvcHVwKHBvcHVwX2Q3ZGNmODUxMjJhYjRhYzBiMjFkODQzZTIyMzI1YzY2KQogICAgICAgIDsKCiAgICAgICAgCiAgICAKICAgIAogICAgICAgICAgICBtYXJrZXJfNmM5ZGJmMmRiMWM5NGMwYTlhNmMzMTIyNzgyZGNmZjEuYmluZFRvb2x0aXAoCiAgICAgICAgICAgICAgICBgPGRpdj4KICAgICAgICAgICAgICAgICAgICAgTEFUVEMgLyBPcnRobyBJbnN0aXR1dGUgU3RhdGlvbgogICAgICAgICAgICAgICAgIDwvZGl2PmAsCiAgICAgICAgICAgICAgICB7InN0aWNreSI6IHRydWV9CiAgICAgICAgICAgICk7CiAgICAgICAgCiAgICAKICAgICAgICAgICAgdmFyIG1hcmtlcl80NDJkNGIwNWQxMDQ0YzM1YmRiZGRiYjhkM2IwYWQ5ZCA9IEwubWFya2VyKAogICAgICAgICAgICAgICAgWzM0LjAyMjEyMywgLTExOC4yNzgxMThdLAogICAgICAgICAgICAgICAge30KICAgICAgICAgICAgKS5hZGRUbyhtYXBfZWY5OGQyYTFiNjliNDFlMGFjZWU1NTk3MWQyOGNkMTUpOwogICAgICAgIAogICAgCiAgICAgICAgdmFyIHBvcHVwXzMwYzliZWRhZTYzNTQ4MjBiZTk3ZmY4NTcwY2Q1NjMzID0gTC5wb3B1cCh7Im1heFdpZHRoIjogIjEwMCUifSk7CgogICAgICAgIAogICAgICAgICAgICB2YXIgaHRtbF84OTk0MTgzZjE5ZjY0NTM2YjA1NTZhOTFkODBhNjkwZCA9ICQoYDxkaXYgaWQ9Imh0bWxfODk5NDE4M2YxOWY2NDUzNmIwNTU2YTkxZDgwYTY5MGQiIHN0eWxlPSJ3aWR0aDogMTAwLjAlOyBoZWlnaHQ6IDEwMC4wJTsiPkplZmZlcnNvbiAvIFVTQyBTdGF0aW9uIDgwNjwvZGl2PmApWzBdOwogICAgICAgICAgICBwb3B1cF8zMGM5YmVkYWU2MzU0ODIwYmU5N2ZmODU3MGNkNTYzMy5zZXRDb250ZW50KGh0bWxfODk5NDE4M2YxOWY2NDUzNmIwNTU2YTkxZDgwYTY5MGQpOwogICAgICAgIAoKICAgICAgICBtYXJrZXJfNDQyZDRiMDVkMTA0NGMzNWJkYmRkYmI4ZDNiMGFkOWQuYmluZFBvcHVwKHBvcHVwXzMwYzliZWRhZTYzNTQ4MjBiZTk3ZmY4NTcwY2Q1NjMzKQogICAgICAgIDsKCiAgICAgICAgCiAgICAKICAgIAogICAgICAgICAgICBtYXJrZXJfNDQyZDRiMDVkMTA0NGMzNWJkYmRkYmI4ZDNiMGFkOWQuYmluZFRvb2x0aXAoCiAgICAgICAgICAgICAgICBgPGRpdj4KICAgICAgICAgICAgICAgICAgICAgSmVmZmVyc29uIC8gVVNDIFN0YXRpb24KICAgICAgICAgICAgICAgICA8L2Rpdj5gLAogICAgICAgICAgICAgICAgeyJzdGlja3kiOiB0cnVlfQogICAgICAgICAgICApOwogICAgICAgIAogICAgCiAgICAgICAgICAgIHZhciBtYXJrZXJfY2M4YmRiYjYwNmNiNDkzYmFjMWQwMjA3MzZhYmNkMGIgPSBMLm1hcmtlcigKICAgICAgICAgICAgICAgIFszNC4wMTgyMjcsIC0xMTguMjg1NzM0XSwKICAgICAgICAgICAgICAgIHt9CiAgICAgICAgICAgICkuYWRkVG8obWFwX2VmOThkMmExYjY5YjQxZTBhY2VlNTU5NzFkMjhjZDE1KTsKICAgICAgICAKICAgIAogICAgICAgIHZhciBwb3B1cF9hMTVkOGIyNjA3OWU0Njc1YmQ4MTU5ZGI5YWFjYmZjMiA9IEwucG9wdXAoeyJtYXhXaWR0aCI6ICIxMDAlIn0pOwoKICAgICAgICAKICAgICAgICAgICAgdmFyIGh0bWxfYTVkNzZkNDRkZGM2NDY2MmFiNTFhMWJiOWYzY2RlYzQgPSAkKGA8ZGl2IGlkPSJodG1sX2E1ZDc2ZDQ0ZGRjNjQ2NjJhYjUxYTFiYjlmM2NkZWM0IiBzdHlsZT0id2lkdGg6IDEwMC4wJTsgaGVpZ2h0OiAxMDAuMCU7Ij5FeHBvIFBhcmsgLyBVU0MgU3RhdGlvbiA4MDY8L2Rpdj5gKVswXTsKICAgICAgICAgICAgcG9wdXBfYTE1ZDhiMjYwNzllNDY3NWJkODE1OWRiOWFhY2JmYzIuc2V0Q29udGVudChodG1sX2E1ZDc2ZDQ0ZGRjNjQ2NjJhYjUxYTFiYjlmM2NkZWM0KTsKICAgICAgICAKCiAgICAgICAgbWFya2VyX2NjOGJkYmI2MDZjYjQ5M2JhYzFkMDIwNzM2YWJjZDBiLmJpbmRQb3B1cChwb3B1cF9hMTVkOGIyNjA3OWU0Njc1YmQ4MTU5ZGI5YWFjYmZjMikKICAgICAgICA7CgogICAgICAgIAogICAgCiAgICAKICAgICAgICAgICAgbWFya2VyX2NjOGJkYmI2MDZjYjQ5M2JhYzFkMDIwNzM2YWJjZDBiLmJpbmRUb29sdGlwKAogICAgICAgICAgICAgICAgYDxkaXY+CiAgICAgICAgICAgICAgICAgICAgIEV4cG8gUGFyayAvIFVTQyBTdGF0aW9uCiAgICAgICAgICAgICAgICAgPC9kaXY+YCwKICAgICAgICAgICAgICAgIHsic3RpY2t5IjogdHJ1ZX0KICAgICAgICAgICAgKTsKICAgICAgICAKICAgIAogICAgICAgICAgICB2YXIgbWFya2VyXzczMTM5OTM4YWFhYzRiMGZiNjdmOGYzYWVjZDE2YzQ3ID0gTC5tYXJrZXIoCiAgICAgICAgICAgICAgICBbMzQuMDE4MjQ1LCAtMTE4LjI5MTU0XSwKICAgICAgICAgICAgICAgIHt9CiAgICAgICAgICAgICkuYWRkVG8obWFwX2VmOThkMmExYjY5YjQxZTBhY2VlNTU5NzFkMjhjZDE1KTsKICAgICAgICAKICAgIAogICAgICAgIHZhciBwb3B1cF9mMWFjYzZmNDA5ODg0ZTdhOGM0N2U2NmU1ZDg4ZWNiMCA9IEwucG9wdXAoeyJtYXhXaWR0aCI6ICIxMDAlIn0pOwoKICAgICAgICAKICAgICAgICAgICAgdmFyIGh0bWxfMjA2OTM0ZDE5OTQwNDQxN2JkZTI2ODlkODJhNmM0OTcgPSAkKGA8ZGl2IGlkPSJodG1sXzIwNjkzNGQxOTk0MDQ0MTdiZGUyNjg5ZDgyYTZjNDk3IiBzdHlsZT0id2lkdGg6IDEwMC4wJTsgaGVpZ2h0OiAxMDAuMCU7Ij5FeHBvIC8gVmVybW9udCBTdGF0aW9uIDgwNjwvZGl2PmApWzBdOwogICAgICAgICAgICBwb3B1cF9mMWFjYzZmNDA5ODg0ZTdhOGM0N2U2NmU1ZDg4ZWNiMC5zZXRDb250ZW50KGh0bWxfMjA2OTM0ZDE5OTQwNDQxN2JkZTI2ODlkODJhNmM0OTcpOwogICAgICAgIAoKICAgICAgICBtYXJrZXJfNzMxMzk5MzhhYWFjNGIwZmI2N2Y4ZjNhZWNkMTZjNDcuYmluZFBvcHVwKHBvcHVwX2YxYWNjNmY0MDk4ODRlN2E4YzQ3ZTY2ZTVkODhlY2IwKQogICAgICAgIDsKCiAgICAgICAgCiAgICAKICAgIAogICAgICAgICAgICBtYXJrZXJfNzMxMzk5MzhhYWFjNGIwZmI2N2Y4ZjNhZWNkMTZjNDcuYmluZFRvb2x0aXAoCiAgICAgICAgICAgICAgICBgPGRpdj4KICAgICAgICAgICAgICAgICAgICAgRXhwbyAvIFZlcm1vbnQgU3RhdGlvbgogICAgICAgICAgICAgICAgIDwvZGl2PmAsCiAgICAgICAgICAgICAgICB7InN0aWNreSI6IHRydWV9CiAgICAgICAgICAgICk7CiAgICAgICAgCiAgICAKICAgICAgICAgICAgdmFyIG1hcmtlcl8zYjZjMzg0YmJlY2U0ZDBmOWYyNGFiNDIwNTEzNDBjNSA9IEwubWFya2VyKAogICAgICAgICAgICAgICAgWzM0LjAxODMzMSwgLTExOC4zMDg5MV0sCiAgICAgICAgICAgICAgICB7fQogICAgICAgICAgICApLmFkZFRvKG1hcF9lZjk4ZDJhMWI2OWI0MWUwYWNlZTU1OTcxZDI4Y2QxNSk7CiAgICAgICAgCiAgICAKICAgICAgICB2YXIgcG9wdXBfMzFkNDg2ZjA1MDU1NGU4NjhkNGE3ZDU2M2Y0MGI0MDIgPSBMLnBvcHVwKHsibWF4V2lkdGgiOiAiMTAwJSJ9KTsKCiAgICAgICAgCiAgICAgICAgICAgIHZhciBodG1sXzI2MjZkMzdjY2EwNDRkOGJhMjlhOGM2NWYyYmM4ZDExID0gJChgPGRpdiBpZD0iaHRtbF8yNjI2ZDM3Y2NhMDQ0ZDhiYTI5YThjNjVmMmJjOGQxMSIgc3R5bGU9IndpZHRoOiAxMDAuMCU7IGhlaWdodDogMTAwLjAlOyI+RXhwbyAvIFdlc3Rlcm4gU3RhdGlvbiA4MDY8L2Rpdj5gKVswXTsKICAgICAgICAgICAgcG9wdXBfMzFkNDg2ZjA1MDU1NGU4NjhkNGE3ZDU2M2Y0MGI0MDIuc2V0Q29udGVudChodG1sXzI2MjZkMzdjY2EwNDRkOGJhMjlhOGM2NWYyYmM4ZDExKTsKICAgICAgICAKCiAgICAgICAgbWFya2VyXzNiNmMzODRiYmVjZTRkMGY5ZjI0YWI0MjA1MTM0MGM1LmJpbmRQb3B1cChwb3B1cF8zMWQ0ODZmMDUwNTU0ZTg2OGQ0YTdkNTYzZjQwYjQwMikKICAgICAgICA7CgogICAgICAgIAogICAgCiAgICAKICAgICAgICAgICAgbWFya2VyXzNiNmMzODRiYmVjZTRkMGY5ZjI0YWI0MjA1MTM0MGM1LmJpbmRUb29sdGlwKAogICAgICAgICAgICAgICAgYDxkaXY+CiAgICAgICAgICAgICAgICAgICAgIEV4cG8gLyBXZXN0ZXJuIFN0YXRpb24KICAgICAgICAgICAgICAgICA8L2Rpdj5gLAogICAgICAgICAgICAgICAgeyJzdGlja3kiOiB0cnVlfQogICAgICAgICAgICApOwogICAgICAgIAogICAgCiAgICAgICAgICAgIHZhciBtYXJrZXJfZDZlMDUyMDliYzExNGNiYTg3NmY4ODk5Nzg4ZGQwMGIgPSBMLm1hcmtlcigKICAgICAgICAgICAgICAgIFszNC4wMjI1MjYsIC0xMTguMzM1MDc4XSwKICAgICAgICAgICAgICAgIHt9CiAgICAgICAgICAgICkuYWRkVG8obWFwX2VmOThkMmExYjY5YjQxZTBhY2VlNTU5NzFkMjhjZDE1KTsKICAgICAgICAKICAgIAogICAgICAgIHZhciBwb3B1cF9jYWNmNGQzN2QwNmQ0NzRkODA4MDczZTc1ZmZiZTgxMyA9IEwucG9wdXAoeyJtYXhXaWR0aCI6ICIxMDAlIn0pOwoKICAgICAgICAKICAgICAgICAgICAgdmFyIGh0bWxfZDllMjg2ZTVmMzEzNGY2ZmFjNTZjNDcyYjFjYzM4YzAgPSAkKGA8ZGl2IGlkPSJodG1sX2Q5ZTI4NmU1ZjMxMzRmNmZhYzU2YzQ3MmIxY2MzOGMwIiBzdHlsZT0id2lkdGg6IDEwMC4wJTsgaGVpZ2h0OiAxMDAuMCU7Ij5FeHBvIC8gQ3JlbnNoYXcgU3RhdGlvbiA4MDY8L2Rpdj5gKVswXTsKICAgICAgICAgICAgcG9wdXBfY2FjZjRkMzdkMDZkNDc0ZDgwODA3M2U3NWZmYmU4MTMuc2V0Q29udGVudChodG1sX2Q5ZTI4NmU1ZjMxMzRmNmZhYzU2YzQ3MmIxY2MzOGMwKTsKICAgICAgICAKCiAgICAgICAgbWFya2VyX2Q2ZTA1MjA5YmMxMTRjYmE4NzZmODg5OTc4OGRkMDBiLmJpbmRQb3B1cChwb3B1cF9jYWNmNGQzN2QwNmQ0NzRkODA4MDczZTc1ZmZiZTgxMykKICAgICAgICA7CgogICAgICAgIAogICAgCiAgICAKICAgICAgICAgICAgbWFya2VyX2Q2ZTA1MjA5YmMxMTRjYmE4NzZmODg5OTc4OGRkMDBiLmJpbmRUb29sdGlwKAogICAgICAgICAgICAgICAgYDxkaXY+CiAgICAgICAgICAgICAgICAgICAgIEV4cG8gLyBDcmVuc2hhdyBTdGF0aW9uCiAgICAgICAgICAgICAgICAgPC9kaXY+YCwKICAgICAgICAgICAgICAgIHsic3RpY2t5IjogdHJ1ZX0KICAgICAgICAgICAgKTsKICAgICAgICAKICAgIAogICAgICAgICAgICB2YXIgbWFya2VyXzQzZmNkMjUxNzIwOTQzYzNhYjYzNjVlOGVjNTAzMGMyID0gTC5tYXJrZXIoCiAgICAgICAgICAgICAgICBbMzQuMDIzOTgxLCAtMTE4LjM0NjA5NV0sCiAgICAgICAgICAgICAgICB7fQogICAgICAgICAgICApLmFkZFRvKG1hcF9lZjk4ZDJhMWI2OWI0MWUwYWNlZTU1OTcxZDI4Y2QxNSk7CiAgICAgICAgCiAgICAKICAgICAgICB2YXIgcG9wdXBfNjYyNzNkNGUzZjRlNGEyNGJlMDFiYmJiYTk0ZjUzMTkgPSBMLnBvcHVwKHsibWF4V2lkdGgiOiAiMTAwJSJ9KTsKCiAgICAgICAgCiAgICAgICAgICAgIHZhciBodG1sX2JlMGI2ZWYwZDU0MTQ4M2FiZWFjZGFjMzRlNzUwNTg1ID0gJChgPGRpdiBpZD0iaHRtbF9iZTBiNmVmMGQ1NDE0ODNhYmVhY2RhYzM0ZTc1MDU4NSIgc3R5bGU9IndpZHRoOiAxMDAuMCU7IGhlaWdodDogMTAwLjAlOyI+RmFybWRhbGUgU3RhdGlvbiA4MDY8L2Rpdj5gKVswXTsKICAgICAgICAgICAgcG9wdXBfNjYyNzNkNGUzZjRlNGEyNGJlMDFiYmJiYTk0ZjUzMTkuc2V0Q29udGVudChodG1sX2JlMGI2ZWYwZDU0MTQ4M2FiZWFjZGFjMzRlNzUwNTg1KTsKICAgICAgICAKCiAgICAgICAgbWFya2VyXzQzZmNkMjUxNzIwOTQzYzNhYjYzNjVlOGVjNTAzMGMyLmJpbmRQb3B1cChwb3B1cF82NjI3M2Q0ZTNmNGU0YTI0YmUwMWJiYmJhOTRmNTMxOSkKICAgICAgICA7CgogICAgICAgIAogICAgCiAgICAKICAgICAgICAgICAgbWFya2VyXzQzZmNkMjUxNzIwOTQzYzNhYjYzNjVlOGVjNTAzMGMyLmJpbmRUb29sdGlwKAogICAgICAgICAgICAgICAgYDxkaXY+CiAgICAgICAgICAgICAgICAgICAgIEZhcm1kYWxlIFN0YXRpb24KICAgICAgICAgICAgICAgICA8L2Rpdj5gLAogICAgICAgICAgICAgICAgeyJzdGlja3kiOiB0cnVlfQogICAgICAgICAgICApOwogICAgICAgIAogICAgCiAgICAgICAgICAgIHZhciBtYXJrZXJfN2VlYTk0ZjU1OWQ3NGNiZDlhNWE2ZjNjODQzYTBlMjQgPSBMLm1hcmtlcigKICAgICAgICAgICAgICAgIFszNC4wMjQ4MDMsIC0xMTguMzU1MTU5XSwKICAgICAgICAgICAgICAgIHt9CiAgICAgICAgICAgICkuYWRkVG8obWFwX2VmOThkMmExYjY5YjQxZTBhY2VlNTU5NzFkMjhjZDE1KTsKICAgICAgICAKICAgIAogICAgICAgIHZhciBwb3B1cF9kMWM5Y2NhNGRiMzc0ZGQ3YTljNmFkYWQzZDVlZjc5MSA9IEwucG9wdXAoeyJtYXhXaWR0aCI6ICIxMDAlIn0pOwoKICAgICAgICAKICAgICAgICAgICAgdmFyIGh0bWxfNjg4NTcwOTgwZDVkNDAwYjg3ZWY0ZmVhMjFhYTJjMDkgPSAkKGA8ZGl2IGlkPSJodG1sXzY4ODU3MDk4MGQ1ZDQwMGI4N2VmNGZlYTIxYWEyYzA5IiBzdHlsZT0id2lkdGg6IDEwMC4wJTsgaGVpZ2h0OiAxMDAuMCU7Ij5FeHBvIC8gTGEgQnJlYSAvIEV0aGVsIEJyYWRsZXkgU3RhdGlvbiA4MDY8L2Rpdj5gKVswXTsKICAgICAgICAgICAgcG9wdXBfZDFjOWNjYTRkYjM3NGRkN2E5YzZhZGFkM2Q1ZWY3OTEuc2V0Q29udGVudChodG1sXzY4ODU3MDk4MGQ1ZDQwMGI4N2VmNGZlYTIxYWEyYzA5KTsKICAgICAgICAKCiAgICAgICAgbWFya2VyXzdlZWE5NGY1NTlkNzRjYmQ5YTVhNmYzYzg0M2EwZTI0LmJpbmRQb3B1cChwb3B1cF9kMWM5Y2NhNGRiMzc0ZGQ3YTljNmFkYWQzZDVlZjc5MSkKICAgICAgICA7CgogICAgICAgIAogICAgCiAgICAKICAgICAgICAgICAgbWFya2VyXzdlZWE5NGY1NTlkNzRjYmQ5YTVhNmYzYzg0M2EwZTI0LmJpbmRUb29sdGlwKAogICAgICAgICAgICAgICAgYDxkaXY+CiAgICAgICAgICAgICAgICAgICAgIEV4cG8gLyBMYSBCcmVhIC8gRXRoZWwgQnJhZGxleSBTdGF0aW9uCiAgICAgICAgICAgICAgICAgPC9kaXY+YCwKICAgICAgICAgICAgICAgIHsic3RpY2t5IjogdHJ1ZX0KICAgICAgICAgICAgKTsKICAgICAgICAKICAgIAogICAgICAgICAgICB2YXIgbWFya2VyXzU4NDRhMzU5Mzc4MDQ3ZDE4MzVkOGIyMGFjMmNhYTAwID0gTC5tYXJrZXIoCiAgICAgICAgICAgICAgICBbMzQuMDI2MzU1LCAtMTE4LjM3MjEyXSwKICAgICAgICAgICAgICAgIHt9CiAgICAgICAgICAgICkuYWRkVG8obWFwX2VmOThkMmExYjY5YjQxZTBhY2VlNTU5NzFkMjhjZDE1KTsKICAgICAgICAKICAgIAogICAgICAgIHZhciBwb3B1cF9jNTc5MWU0ZWY1YzQ0ODAwOGE2YjkzYjkyYTM4MmQ4YiA9IEwucG9wdXAoeyJtYXhXaWR0aCI6ICIxMDAlIn0pOwoKICAgICAgICAKICAgICAgICAgICAgdmFyIGh0bWxfODE3MjM1OTI4NTQ5NDYxNWIwZGY1ZmQ4NDcyMTNiZjIgPSAkKGA8ZGl2IGlkPSJodG1sXzgxNzIzNTkyODU0OTQ2MTViMGRmNWZkODQ3MjEzYmYyIiBzdHlsZT0id2lkdGg6IDEwMC4wJTsgaGVpZ2h0OiAxMDAuMCU7Ij5MYSBDaWVuZWdhIC8gSmVmZmVyc29uIFN0YXRpb24gODA2PC9kaXY+YClbMF07CiAgICAgICAgICAgIHBvcHVwX2M1NzkxZTRlZjVjNDQ4MDA4YTZiOTNiOTJhMzgyZDhiLnNldENvbnRlbnQoaHRtbF84MTcyMzU5Mjg1NDk0NjE1YjBkZjVmZDg0NzIxM2JmMik7CiAgICAgICAgCgogICAgICAgIG1hcmtlcl81ODQ0YTM1OTM3ODA0N2QxODM1ZDhiMjBhYzJjYWEwMC5iaW5kUG9wdXAocG9wdXBfYzU3OTFlNGVmNWM0NDgwMDhhNmI5M2I5MmEzODJkOGIpCiAgICAgICAgOwoKICAgICAgICAKICAgIAogICAgCiAgICAgICAgICAgIG1hcmtlcl81ODQ0YTM1OTM3ODA0N2QxODM1ZDhiMjBhYzJjYWEwMC5iaW5kVG9vbHRpcCgKICAgICAgICAgICAgICAgIGA8ZGl2PgogICAgICAgICAgICAgICAgICAgICBMYSBDaWVuZWdhIC8gSmVmZmVyc29uIFN0YXRpb24KICAgICAgICAgICAgICAgICA8L2Rpdj5gLAogICAgICAgICAgICAgICAgeyJzdGlja3kiOiB0cnVlfQogICAgICAgICAgICApOwogICAgICAgIAogICAgCiAgICAgICAgICAgIHZhciBtYXJrZXJfMDU2NmIxZjA3ZjA3NGQ2YWEwZmIwYjMxZTJhMTRlYzEgPSBMLm1hcmtlcigKICAgICAgICAgICAgICAgIFszNC4wMjc4OTYsIC0xMTguMzg4OTg2XSwKICAgICAgICAgICAgICAgIHt9CiAgICAgICAgICAgICkuYWRkVG8obWFwX2VmOThkMmExYjY5YjQxZTBhY2VlNTU5NzFkMjhjZDE1KTsKICAgICAgICAKICAgIAogICAgICAgIHZhciBwb3B1cF9iODMwNDUzMGNlMGU0OWJiYjgzZDk4OThmMmM2MWQzZCA9IEwucG9wdXAoeyJtYXhXaWR0aCI6ICIxMDAlIn0pOwoKICAgICAgICAKICAgICAgICAgICAgdmFyIGh0bWxfMGEzN2E5ZDFlZmYyNDk3NWFmYmExMzUyMTBkZWJkZjMgPSAkKGA8ZGl2IGlkPSJodG1sXzBhMzdhOWQxZWZmMjQ5NzVhZmJhMTM1MjEwZGViZGYzIiBzdHlsZT0id2lkdGg6IDEwMC4wJTsgaGVpZ2h0OiAxMDAuMCU7Ij5DdWx2ZXIgQ2l0eSBTdGF0aW9uIDgwNjwvZGl2PmApWzBdOwogICAgICAgICAgICBwb3B1cF9iODMwNDUzMGNlMGU0OWJiYjgzZDk4OThmMmM2MWQzZC5zZXRDb250ZW50KGh0bWxfMGEzN2E5ZDFlZmYyNDk3NWFmYmExMzUyMTBkZWJkZjMpOwogICAgICAgIAoKICAgICAgICBtYXJrZXJfMDU2NmIxZjA3ZjA3NGQ2YWEwZmIwYjMxZTJhMTRlYzEuYmluZFBvcHVwKHBvcHVwX2I4MzA0NTMwY2UwZTQ5YmJiODNkOTg5OGYyYzYxZDNkKQogICAgICAgIDsKCiAgICAgICAgCiAgICAKICAgIAogICAgICAgICAgICBtYXJrZXJfMDU2NmIxZjA3ZjA3NGQ2YWEwZmIwYjMxZTJhMTRlYzEuYmluZFRvb2x0aXAoCiAgICAgICAgICAgICAgICBgPGRpdj4KICAgICAgICAgICAgICAgICAgICAgQ3VsdmVyIENpdHkgU3RhdGlvbgogICAgICAgICAgICAgICAgIDwvZGl2PmAsCiAgICAgICAgICAgICAgICB7InN0aWNreSI6IHRydWV9CiAgICAgICAgICAgICk7CiAgICAgICAgCiAgICAKICAgICAgICAgICAgdmFyIG1hcmtlcl9iOTUyZmQxODJjNmM0MDQ5OWIxYzM5ODMzODJiNmJmYSA9IEwubWFya2VyKAogICAgICAgICAgICAgICAgWzMzLjc2ODc0LCAtMTE4LjE4OTM2Ml0sCiAgICAgICAgICAgICAgICB7fQogICAgICAgICAgICApLmFkZFRvKG1hcF9lZjk4ZDJhMWI2OWI0MWUwYWNlZTU1OTcxZDI4Y2QxNSk7CiAgICAgICAgCiAgICAKICAgICAgICB2YXIgcG9wdXBfNTkwYWRlZmVjNmQ5NGY2MjhmNjJhZmVjYmQyZmI4YTEgPSBMLnBvcHVwKHsibWF4V2lkdGgiOiAiMTAwJSJ9KTsKCiAgICAgICAgCiAgICAgICAgICAgIHZhciBodG1sX2I3MTMwMjU4ZDQ0YjQ5ZDY5NzliMzg2YTUyYjgyMmZhID0gJChgPGRpdiBpZD0iaHRtbF9iNzEzMDI1OGQ0NGI0OWQ2OTc5YjM4NmE1MmI4MjJmYSIgc3R5bGU9IndpZHRoOiAxMDAuMCU7IGhlaWdodDogMTAwLjAlOyI+MXN0IFN0cmVldCBTdGF0aW9uIDgwMTwvZGl2PmApWzBdOwogICAgICAgICAgICBwb3B1cF81OTBhZGVmZWM2ZDk0ZjYyOGY2MmFmZWNiZDJmYjhhMS5zZXRDb250ZW50KGh0bWxfYjcxMzAyNThkNDRiNDlkNjk3OWIzODZhNTJiODIyZmEpOwogICAgICAgIAoKICAgICAgICBtYXJrZXJfYjk1MmZkMTgyYzZjNDA0OTliMWMzOTgzMzgyYjZiZmEuYmluZFBvcHVwKHBvcHVwXzU5MGFkZWZlYzZkOTRmNjI4ZjYyYWZlY2JkMmZiOGExKQogICAgICAgIDsKCiAgICAgICAgCiAgICAKICAgIAogICAgICAgICAgICBtYXJrZXJfYjk1MmZkMTgyYzZjNDA0OTliMWMzOTgzMzgyYjZiZmEuYmluZFRvb2x0aXAoCiAgICAgICAgICAgICAgICBgPGRpdj4KICAgICAgICAgICAgICAgICAgICAgMXN0IFN0cmVldCBTdGF0aW9uCiAgICAgICAgICAgICAgICAgPC9kaXY+YCwKICAgICAgICAgICAgICAgIHsic3RpY2t5IjogdHJ1ZX0KICAgICAgICAgICAgKTsKICAgICAgICAKICAgIAogICAgICAgICAgICB2YXIgbWFya2VyXzFlYjY5MTEyYjc0MDRlNjliYzNiNGNmZGY4NjkxZWQ4ID0gTC5tYXJrZXIoCiAgICAgICAgICAgICAgICBbMzMuNzczNTk4LCAtMTE4LjE4OTQxMl0sCiAgICAgICAgICAgICAgICB7fQogICAgICAgICAgICApLmFkZFRvKG1hcF9lZjk4ZDJhMWI2OWI0MWUwYWNlZTU1OTcxZDI4Y2QxNSk7CiAgICAgICAgCiAgICAKICAgICAgICB2YXIgcG9wdXBfNDc0Y2JmOWI4YmY2NGYyMmJmN2I0ZTE3NGI1MTEwNjYgPSBMLnBvcHVwKHsibWF4V2lkdGgiOiAiMTAwJSJ9KTsKCiAgICAgICAgCiAgICAgICAgICAgIHZhciBodG1sXzcyNDE1NTdhZGQzZjRlZmNiMjRkMTg5MTdmZmUxMTcyID0gJChgPGRpdiBpZD0iaHRtbF83MjQxNTU3YWRkM2Y0ZWZjYjI0ZDE4OTE3ZmZlMTE3MiIgc3R5bGU9IndpZHRoOiAxMDAuMCU7IGhlaWdodDogMTAwLjAlOyI+NXRoIFN0cmVldCBTdGF0aW9uIDgwMTwvZGl2PmApWzBdOwogICAgICAgICAgICBwb3B1cF80NzRjYmY5YjhiZjY0ZjIyYmY3YjRlMTc0YjUxMTA2Ni5zZXRDb250ZW50KGh0bWxfNzI0MTU1N2FkZDNmNGVmY2IyNGQxODkxN2ZmZTExNzIpOwogICAgICAgIAoKICAgICAgICBtYXJrZXJfMWViNjkxMTJiNzQwNGU2OWJjM2I0Y2ZkZjg2OTFlZDguYmluZFBvcHVwKHBvcHVwXzQ3NGNiZjliOGJmNjRmMjJiZjdiNGUxNzRiNTExMDY2KQogICAgICAgIDsKCiAgICAgICAgCiAgICAKICAgIAogICAgICAgICAgICBtYXJrZXJfMWViNjkxMTJiNzQwNGU2OWJjM2I0Y2ZkZjg2OTFlZDguYmluZFRvb2x0aXAoCiAgICAgICAgICAgICAgICBgPGRpdj4KICAgICAgICAgICAgICAgICAgICAgNXRoIFN0cmVldCBTdGF0aW9uCiAgICAgICAgICAgICAgICAgPC9kaXY+YCwKICAgICAgICAgICAgICAgIHsic3RpY2t5IjogdHJ1ZX0KICAgICAgICAgICAgKTsKICAgICAgICAKICAgIAogICAgICAgICAgICB2YXIgbWFya2VyXzI3ZmQwNzg3M2ZiMTRlOWViY2ZkNmYzNzAwZWQ4NzhkID0gTC5tYXJrZXIoCiAgICAgICAgICAgICAgICBbMzQuMTY4NTA0LCAtMTE4LjM3NjgwOF0sCiAgICAgICAgICAgICAgICB7fQogICAgICAgICAgICApLmFkZFRvKG1hcF9lZjk4ZDJhMWI2OWI0MWUwYWNlZTU1OTcxZDI4Y2QxNSk7CiAgICAgICAgCiAgICAKICAgICAgICB2YXIgcG9wdXBfNjk3NTlmM2RjMjdhNDA4ZWE2ZGFjM2M4Y2JmOTIyM2YgPSBMLnBvcHVwKHsibWF4V2lkdGgiOiAiMTAwJSJ9KTsKCiAgICAgICAgCiAgICAgICAgICAgIHZhciBodG1sX2UyZjMxMmRlOGI2ODRkMjk4YmFmMDE1NDNjYjBlNTRjID0gJChgPGRpdiBpZD0iaHRtbF9lMmYzMTJkZThiNjg0ZDI5OGJhZjAxNTQzY2IwZTU0YyIgc3R5bGU9IndpZHRoOiAxMDAuMCU7IGhlaWdodDogMTAwLjAlOyI+Tm9ydGggSG9sbHl3b29kIFN0YXRpb24gODAyPC9kaXY+YClbMF07CiAgICAgICAgICAgIHBvcHVwXzY5NzU5ZjNkYzI3YTQwOGVhNmRhYzNjOGNiZjkyMjNmLnNldENvbnRlbnQoaHRtbF9lMmYzMTJkZThiNjg0ZDI5OGJhZjAxNTQzY2IwZTU0Yyk7CiAgICAgICAgCgogICAgICAgIG1hcmtlcl8yN2ZkMDc4NzNmYjE0ZTllYmNmZDZmMzcwMGVkODc4ZC5iaW5kUG9wdXAocG9wdXBfNjk3NTlmM2RjMjdhNDA4ZWE2ZGFjM2M4Y2JmOTIyM2YpCiAgICAgICAgOwoKICAgICAgICAKICAgIAogICAgCiAgICAgICAgICAgIG1hcmtlcl8yN2ZkMDc4NzNmYjE0ZTllYmNmZDZmMzcwMGVkODc4ZC5iaW5kVG9vbHRpcCgKICAgICAgICAgICAgICAgIGA8ZGl2PgogICAgICAgICAgICAgICAgICAgICBOb3J0aCBIb2xseXdvb2QgU3RhdGlvbgogICAgICAgICAgICAgICAgIDwvZGl2PmAsCiAgICAgICAgICAgICAgICB7InN0aWNreSI6IHRydWV9CiAgICAgICAgICAgICk7CiAgICAgICAgCiAgICAKICAgICAgICAgICAgdmFyIG1hcmtlcl8yN2E0YTE1MWYwMDc0MDI4OThkZjE5NmRjODY1MDIxMSA9IEwubWFya2VyKAogICAgICAgICAgICAgICAgWzM0LjE0MDAwMiwgLTExOC4zNjI2OTldLAogICAgICAgICAgICAgICAge30KICAgICAgICAgICAgKS5hZGRUbyhtYXBfZWY5OGQyYTFiNjliNDFlMGFjZWU1NTk3MWQyOGNkMTUpOwogICAgICAgIAogICAgCiAgICAgICAgdmFyIHBvcHVwX2ZlZTg5ZDkxMjhkOTQxOTc5YjhlNTdjNWYxYjFiNWMwID0gTC5wb3B1cCh7Im1heFdpZHRoIjogIjEwMCUifSk7CgogICAgICAgIAogICAgICAgICAgICB2YXIgaHRtbF8wNDhiMTIzNTRhNTA0OTEyODNlMjk2NDA0ODA3ODEyNCA9ICQoYDxkaXYgaWQ9Imh0bWxfMDQ4YjEyMzU0YTUwNDkxMjgzZTI5NjQwNDgwNzgxMjQiIHN0eWxlPSJ3aWR0aDogMTAwLjAlOyBoZWlnaHQ6IDEwMC4wJTsiPlVuaXZlcnNhbCAvIFN0dWRpbyBDaXR5IFN0YXRpb24gODAyPC9kaXY+YClbMF07CiAgICAgICAgICAgIHBvcHVwX2ZlZTg5ZDkxMjhkOTQxOTc5YjhlNTdjNWYxYjFiNWMwLnNldENvbnRlbnQoaHRtbF8wNDhiMTIzNTRhNTA0OTEyODNlMjk2NDA0ODA3ODEyNCk7CiAgICAgICAgCgogICAgICAgIG1hcmtlcl8yN2E0YTE1MWYwMDc0MDI4OThkZjE5NmRjODY1MDIxMS5iaW5kUG9wdXAocG9wdXBfZmVlODlkOTEyOGQ5NDE5NzliOGU1N2M1ZjFiMWI1YzApCiAgICAgICAgOwoKICAgICAgICAKICAgIAogICAgCiAgICAgICAgICAgIG1hcmtlcl8yN2E0YTE1MWYwMDc0MDI4OThkZjE5NmRjODY1MDIxMS5iaW5kVG9vbHRpcCgKICAgICAgICAgICAgICAgIGA8ZGl2PgogICAgICAgICAgICAgICAgICAgICBVbml2ZXJzYWwgLyBTdHVkaW8gQ2l0eSBTdGF0aW9uCiAgICAgICAgICAgICAgICAgPC9kaXY+YCwKICAgICAgICAgICAgICAgIHsic3RpY2t5IjogdHJ1ZX0KICAgICAgICAgICAgKTsKICAgICAgICAKICAgIAogICAgICAgICAgICB2YXIgbWFya2VyXzZjYjhjZmQ3OWNkYzQ5MjFiMjlmY2FmYTY5Nzk3NzcxID0gTC5tYXJrZXIoCiAgICAgICAgICAgICAgICBbMzQuMTAxNTQ3LCAtMTE4LjMzODU0OV0sCiAgICAgICAgICAgICAgICB7fQogICAgICAgICAgICApLmFkZFRvKG1hcF9lZjk4ZDJhMWI2OWI0MWUwYWNlZTU1OTcxZDI4Y2QxNSk7CiAgICAgICAgCiAgICAKICAgICAgICB2YXIgcG9wdXBfNWQzMGRkMWViODgyNDBlY2I1OTgxYWIzMjM3MTFjZGYgPSBMLnBvcHVwKHsibWF4V2lkdGgiOiAiMTAwJSJ9KTsKCiAgICAgICAgCiAgICAgICAgICAgIHZhciBodG1sXzE5MWNkYTk1YTgzOTQyZTRiYWZhZTBkZTc1ZDljNzJlID0gJChgPGRpdiBpZD0iaHRtbF8xOTFjZGE5NWE4Mzk0MmU0YmFmYWUwZGU3NWQ5YzcyZSIgc3R5bGU9IndpZHRoOiAxMDAuMCU7IGhlaWdodDogMTAwLjAlOyI+SG9sbHl3b29kIC8gSGlnaGxhbmQgU3RhdGlvbiA4MDI8L2Rpdj5gKVswXTsKICAgICAgICAgICAgcG9wdXBfNWQzMGRkMWViODgyNDBlY2I1OTgxYWIzMjM3MTFjZGYuc2V0Q29udGVudChodG1sXzE5MWNkYTk1YTgzOTQyZTRiYWZhZTBkZTc1ZDljNzJlKTsKICAgICAgICAKCiAgICAgICAgbWFya2VyXzZjYjhjZmQ3OWNkYzQ5MjFiMjlmY2FmYTY5Nzk3NzcxLmJpbmRQb3B1cChwb3B1cF81ZDMwZGQxZWI4ODI0MGVjYjU5ODFhYjMyMzcxMWNkZikKICAgICAgICA7CgogICAgICAgIAogICAgCiAgICAKICAgICAgICAgICAgbWFya2VyXzZjYjhjZmQ3OWNkYzQ5MjFiMjlmY2FmYTY5Nzk3NzcxLmJpbmRUb29sdGlwKAogICAgICAgICAgICAgICAgYDxkaXY+CiAgICAgICAgICAgICAgICAgICAgIEhvbGx5d29vZCAvIEhpZ2hsYW5kIFN0YXRpb24KICAgICAgICAgICAgICAgICA8L2Rpdj5gLAogICAgICAgICAgICAgICAgeyJzdGlja3kiOiB0cnVlfQogICAgICAgICAgICApOwogICAgICAgIAogICAgCiAgICAgICAgICAgIHZhciBtYXJrZXJfNzczYmFmN2QxYmNhNGUwYzk4M2ZkYTFiNTJkNzYxMzUgPSBMLm1hcmtlcigKICAgICAgICAgICAgICAgIFszNC4xMDE2MywgLTExOC4zMjUxOF0sCiAgICAgICAgICAgICAgICB7fQogICAgICAgICAgICApLmFkZFRvKG1hcF9lZjk4ZDJhMWI2OWI0MWUwYWNlZTU1OTcxZDI4Y2QxNSk7CiAgICAgICAgCiAgICAKICAgICAgICB2YXIgcG9wdXBfNDEzYzU2MmQ1ZjEyNDJjYzlmYWUzZGNiODdmYzNiZDUgPSBMLnBvcHVwKHsibWF4V2lkdGgiOiAiMTAwJSJ9KTsKCiAgICAgICAgCiAgICAgICAgICAgIHZhciBodG1sX2Y3NGIzYTAzODE3ZDRjN2JiNjViNmRkM2MwMTJkZGE0ID0gJChgPGRpdiBpZD0iaHRtbF9mNzRiM2EwMzgxN2Q0YzdiYjY1YjZkZDNjMDEyZGRhNCIgc3R5bGU9IndpZHRoOiAxMDAuMCU7IGhlaWdodDogMTAwLjAlOyI+SG9sbHl3b29kIC8gVmluZSBTdGF0aW9uIDgwMjwvZGl2PmApWzBdOwogICAgICAgICAgICBwb3B1cF80MTNjNTYyZDVmMTI0MmNjOWZhZTNkY2I4N2ZjM2JkNS5zZXRDb250ZW50KGh0bWxfZjc0YjNhMDM4MTdkNGM3YmI2NWI2ZGQzYzAxMmRkYTQpOwogICAgICAgIAoKICAgICAgICBtYXJrZXJfNzczYmFmN2QxYmNhNGUwYzk4M2ZkYTFiNTJkNzYxMzUuYmluZFBvcHVwKHBvcHVwXzQxM2M1NjJkNWYxMjQyY2M5ZmFlM2RjYjg3ZmMzYmQ1KQogICAgICAgIDsKCiAgICAgICAgCiAgICAKICAgIAogICAgICAgICAgICBtYXJrZXJfNzczYmFmN2QxYmNhNGUwYzk4M2ZkYTFiNTJkNzYxMzUuYmluZFRvb2x0aXAoCiAgICAgICAgICAgICAgICBgPGRpdj4KICAgICAgICAgICAgICAgICAgICAgSG9sbHl3b29kIC8gVmluZSBTdGF0aW9uCiAgICAgICAgICAgICAgICAgPC9kaXY+YCwKICAgICAgICAgICAgICAgIHsic3RpY2t5IjogdHJ1ZX0KICAgICAgICAgICAgKTsKICAgICAgICAKICAgIAogICAgICAgICAgICB2YXIgbWFya2VyX2RiZjdiZDVjODFhNDQ4YWNhMDkzMDQzMWYzZmJkOGE2ID0gTC5tYXJrZXIoCiAgICAgICAgICAgICAgICBbMzQuMTAxNzM3LCAtMTE4LjMwODExN10sCiAgICAgICAgICAgICAgICB7fQogICAgICAgICAgICApLmFkZFRvKG1hcF9lZjk4ZDJhMWI2OWI0MWUwYWNlZTU1OTcxZDI4Y2QxNSk7CiAgICAgICAgCiAgICAKICAgICAgICB2YXIgcG9wdXBfNWIwNTc5YWYwM2Y4NDMyMWE0MDQzMTFiMjJkYmU4MWIgPSBMLnBvcHVwKHsibWF4V2lkdGgiOiAiMTAwJSJ9KTsKCiAgICAgICAgCiAgICAgICAgICAgIHZhciBodG1sXzAxYWUzNWFlOTdjMTQzMWE5MzMzMDdhZDIxZjA1MzdlID0gJChgPGRpdiBpZD0iaHRtbF8wMWFlMzVhZTk3YzE0MzFhOTMzMzA3YWQyMWYwNTM3ZSIgc3R5bGU9IndpZHRoOiAxMDAuMCU7IGhlaWdodDogMTAwLjAlOyI+SG9sbHl3b29kIC8gV2VzdGVybiBTdGF0aW9uIDgwMjwvZGl2PmApWzBdOwogICAgICAgICAgICBwb3B1cF81YjA1NzlhZjAzZjg0MzIxYTQwNDMxMWIyMmRiZTgxYi5zZXRDb250ZW50KGh0bWxfMDFhZTM1YWU5N2MxNDMxYTkzMzMwN2FkMjFmMDUzN2UpOwogICAgICAgIAoKICAgICAgICBtYXJrZXJfZGJmN2JkNWM4MWE0NDhhY2EwOTMwNDMxZjNmYmQ4YTYuYmluZFBvcHVwKHBvcHVwXzViMDU3OWFmMDNmODQzMjFhNDA0MzExYjIyZGJlODFiKQogICAgICAgIDsKCiAgICAgICAgCiAgICAKICAgIAogICAgICAgICAgICBtYXJrZXJfZGJmN2JkNWM4MWE0NDhhY2EwOTMwNDMxZjNmYmQ4YTYuYmluZFRvb2x0aXAoCiAgICAgICAgICAgICAgICBgPGRpdj4KICAgICAgICAgICAgICAgICAgICAgSG9sbHl3b29kIC8gV2VzdGVybiBTdGF0aW9uCiAgICAgICAgICAgICAgICAgPC9kaXY+YCwKICAgICAgICAgICAgICAgIHsic3RpY2t5IjogdHJ1ZX0KICAgICAgICAgICAgKTsKICAgICAgICAKICAgIAogICAgICAgICAgICB2YXIgbWFya2VyXzljMjFjZTRjOTRlNzQ3ZGE4ZTdjYjYzNmEzYjhlMWQyID0gTC5tYXJrZXIoCiAgICAgICAgICAgICAgICBbMzQuMDk3NzA4LCAtMTE4LjI5MTc1Nl0sCiAgICAgICAgICAgICAgICB7fQogICAgICAgICAgICApLmFkZFRvKG1hcF9lZjk4ZDJhMWI2OWI0MWUwYWNlZTU1OTcxZDI4Y2QxNSk7CiAgICAgICAgCiAgICAKICAgICAgICB2YXIgcG9wdXBfNjkxOTRjYzg0YzY0NDU0YTg4OTg5MmRlZWExNTVhZTIgPSBMLnBvcHVwKHsibWF4V2lkdGgiOiAiMTAwJSJ9KTsKCiAgICAgICAgCiAgICAgICAgICAgIHZhciBodG1sX2M4MTc2YzU5MzI1YTQ1M2ZhNjE0ZmIwY2M4ZGZlZmU0ID0gJChgPGRpdiBpZD0iaHRtbF9jODE3NmM1OTMyNWE0NTNmYTYxNGZiMGNjOGRmZWZlNCIgc3R5bGU9IndpZHRoOiAxMDAuMCU7IGhlaWdodDogMTAwLjAlOyI+VmVybW9udCAvIFN1bnNldCBTdGF0aW9uIDgwMjwvZGl2PmApWzBdOwogICAgICAgICAgICBwb3B1cF82OTE5NGNjODRjNjQ0NTRhODg5ODkyZGVlYTE1NWFlMi5zZXRDb250ZW50KGh0bWxfYzgxNzZjNTkzMjVhNDUzZmE2MTRmYjBjYzhkZmVmZTQpOwogICAgICAgIAoKICAgICAgICBtYXJrZXJfOWMyMWNlNGM5NGU3NDdkYThlN2NiNjM2YTNiOGUxZDIuYmluZFBvcHVwKHBvcHVwXzY5MTk0Y2M4NGM2NDQ1NGE4ODk4OTJkZWVhMTU1YWUyKQogICAgICAgIDsKCiAgICAgICAgCiAgICAKICAgIAogICAgICAgICAgICBtYXJrZXJfOWMyMWNlNGM5NGU3NDdkYThlN2NiNjM2YTNiOGUxZDIuYmluZFRvb2x0aXAoCiAgICAgICAgICAgICAgICBgPGRpdj4KICAgICAgICAgICAgICAgICAgICAgVmVybW9udCAvIFN1bnNldCBTdGF0aW9uCiAgICAgICAgICAgICAgICAgPC9kaXY+YCwKICAgICAgICAgICAgICAgIHsic3RpY2t5IjogdHJ1ZX0KICAgICAgICAgICAgKTsKICAgICAgICAKICAgIAogICAgICAgICAgICB2YXIgbWFya2VyX2ViYTg1MTMzYzQxODRhZmRhN2FiOWVhNTY3YzBkNTJhID0gTC5tYXJrZXIoCiAgICAgICAgICAgICAgICBbMzQuMDg5OTEsIC0xMTguMjkxNzNdLAogICAgICAgICAgICAgICAge30KICAgICAgICAgICAgKS5hZGRUbyhtYXBfZWY5OGQyYTFiNjliNDFlMGFjZWU1NTk3MWQyOGNkMTUpOwogICAgICAgIAogICAgCiAgICAgICAgdmFyIHBvcHVwXzE0OWQ1NWVhNTA3NTRhZTBhODQ2M2U4YTcyM2U4ZGYyID0gTC5wb3B1cCh7Im1heFdpZHRoIjogIjEwMCUifSk7CgogICAgICAgIAogICAgICAgICAgICB2YXIgaHRtbF81NzliNzdlNTZhYmQ0N2JjYTcyZjcxYWJmZmFhY2U0YyA9ICQoYDxkaXYgaWQ9Imh0bWxfNTc5Yjc3ZTU2YWJkNDdiY2E3MmY3MWFiZmZhYWNlNGMiIHN0eWxlPSJ3aWR0aDogMTAwLjAlOyBoZWlnaHQ6IDEwMC4wJTsiPlZlcm1vbnQgLyBTYW50YSBNb25pY2EgU3RhdGlvbiA4MDI8L2Rpdj5gKVswXTsKICAgICAgICAgICAgcG9wdXBfMTQ5ZDU1ZWE1MDc1NGFlMGE4NDYzZThhNzIzZThkZjIuc2V0Q29udGVudChodG1sXzU3OWI3N2U1NmFiZDQ3YmNhNzJmNzFhYmZmYWFjZTRjKTsKICAgICAgICAKCiAgICAgICAgbWFya2VyX2ViYTg1MTMzYzQxODRhZmRhN2FiOWVhNTY3YzBkNTJhLmJpbmRQb3B1cChwb3B1cF8xNDlkNTVlYTUwNzU0YWUwYTg0NjNlOGE3MjNlOGRmMikKICAgICAgICA7CgogICAgICAgIAogICAgCiAgICAKICAgICAgICAgICAgbWFya2VyX2ViYTg1MTMzYzQxODRhZmRhN2FiOWVhNTY3YzBkNTJhLmJpbmRUb29sdGlwKAogICAgICAgICAgICAgICAgYDxkaXY+CiAgICAgICAgICAgICAgICAgICAgIFZlcm1vbnQgLyBTYW50YSBNb25pY2EgU3RhdGlvbgogICAgICAgICAgICAgICAgIDwvZGl2PmAsCiAgICAgICAgICAgICAgICB7InN0aWNreSI6IHRydWV9CiAgICAgICAgICAgICk7CiAgICAgICAgCiAgICAKICAgICAgICAgICAgdmFyIG1hcmtlcl81ZmVkNDEyMjhmOGI0ZmVkODcxMTk2NzJmYWJjMjZjYiA9IEwubWFya2VyKAogICAgICAgICAgICAgICAgWzM0LjA3NjUyNiwgLTExOC4yOTE2ODZdLAogICAgICAgICAgICAgICAge30KICAgICAgICAgICAgKS5hZGRUbyhtYXBfZWY5OGQyYTFiNjliNDFlMGFjZWU1NTk3MWQyOGNkMTUpOwogICAgICAgIAogICAgCiAgICAgICAgdmFyIHBvcHVwX2U2MTg3YTA0OTlmNDQ5Y2Y5ZmJiNzg3ZGNkNDc0ZDEwID0gTC5wb3B1cCh7Im1heFdpZHRoIjogIjEwMCUifSk7CgogICAgICAgIAogICAgICAgICAgICB2YXIgaHRtbF9lMzNmNjY3ODZiYmU0MDAzYTU4MjQ2MzBiOWJhMDVkYyA9ICQoYDxkaXYgaWQ9Imh0bWxfZTMzZjY2Nzg2YmJlNDAwM2E1ODI0NjMwYjliYTA1ZGMiIHN0eWxlPSJ3aWR0aDogMTAwLjAlOyBoZWlnaHQ6IDEwMC4wJTsiPlZlcm1vbnQgLyBCZXZlcmx5IFN0YXRpb24gODAyPC9kaXY+YClbMF07CiAgICAgICAgICAgIHBvcHVwX2U2MTg3YTA0OTlmNDQ5Y2Y5ZmJiNzg3ZGNkNDc0ZDEwLnNldENvbnRlbnQoaHRtbF9lMzNmNjY3ODZiYmU0MDAzYTU4MjQ2MzBiOWJhMDVkYyk7CiAgICAgICAgCgogICAgICAgIG1hcmtlcl81ZmVkNDEyMjhmOGI0ZmVkODcxMTk2NzJmYWJjMjZjYi5iaW5kUG9wdXAocG9wdXBfZTYxODdhMDQ5OWY0NDljZjlmYmI3ODdkY2Q0NzRkMTApCiAgICAgICAgOwoKICAgICAgICAKICAgIAogICAgCiAgICAgICAgICAgIG1hcmtlcl81ZmVkNDEyMjhmOGI0ZmVkODcxMTk2NzJmYWJjMjZjYi5iaW5kVG9vbHRpcCgKICAgICAgICAgICAgICAgIGA8ZGl2PgogICAgICAgICAgICAgICAgICAgICBWZXJtb250IC8gQmV2ZXJseSBTdGF0aW9uCiAgICAgICAgICAgICAgICAgPC9kaXY+YCwKICAgICAgICAgICAgICAgIHsic3RpY2t5IjogdHJ1ZX0KICAgICAgICAgICAgKTsKICAgICAgICAKICAgIAogICAgICAgICAgICB2YXIgbWFya2VyXzM1M2IzM2JkNzFiNjQ4ZjU5ZGE5YzZhYWIwNWYwZDU4ID0gTC5tYXJrZXIoCiAgICAgICAgICAgICAgICBbMzQuMDYyNzAxLCAtMTE4LjI5MDA4Ml0sCiAgICAgICAgICAgICAgICB7fQogICAgICAgICAgICApLmFkZFRvKG1hcF9lZjk4ZDJhMWI2OWI0MWUwYWNlZTU1OTcxZDI4Y2QxNSk7CiAgICAgICAgCiAgICAKICAgICAgICB2YXIgcG9wdXBfNGJhN2ExOWIyNjlmNDYxNTkzZDhmYzU0NTY0MjQwMDMgPSBMLnBvcHVwKHsibWF4V2lkdGgiOiAiMTAwJSJ9KTsKCiAgICAgICAgCiAgICAgICAgICAgIHZhciBodG1sXzk5YTIzMTYxOTU3OTRjZmQ4YWE2MTUwZjk0NTI2YmRiID0gJChgPGRpdiBpZD0iaHRtbF85OWEyMzE2MTk1Nzk0Y2ZkOGFhNjE1MGY5NDUyNmJkYiIgc3R5bGU9IndpZHRoOiAxMDAuMCU7IGhlaWdodDogMTAwLjAlOyI+V2lsc2hpcmUgLyBWZXJtb250IFN0YXRpb24gODAyPC9kaXY+YClbMF07CiAgICAgICAgICAgIHBvcHVwXzRiYTdhMTliMjY5ZjQ2MTU5M2Q4ZmM1NDU2NDI0MDAzLnNldENvbnRlbnQoaHRtbF85OWEyMzE2MTk1Nzk0Y2ZkOGFhNjE1MGY5NDUyNmJkYik7CiAgICAgICAgCgogICAgICAgIG1hcmtlcl8zNTNiMzNiZDcxYjY0OGY1OWRhOWM2YWFiMDVmMGQ1OC5iaW5kUG9wdXAocG9wdXBfNGJhN2ExOWIyNjlmNDYxNTkzZDhmYzU0NTY0MjQwMDMpCiAgICAgICAgOwoKICAgICAgICAKICAgIAogICAgCiAgICAgICAgICAgIG1hcmtlcl8zNTNiMzNiZDcxYjY0OGY1OWRhOWM2YWFiMDVmMGQ1OC5iaW5kVG9vbHRpcCgKICAgICAgICAgICAgICAgIGA8ZGl2PgogICAgICAgICAgICAgICAgICAgICBXaWxzaGlyZSAvIFZlcm1vbnQgU3RhdGlvbgogICAgICAgICAgICAgICAgIDwvZGl2PmAsCiAgICAgICAgICAgICAgICB7InN0aWNreSI6IHRydWV9CiAgICAgICAgICAgICk7CiAgICAgICAgCiAgICAKICAgICAgICAgICAgdmFyIG1hcmtlcl9hMjZmZjlkZjRjMDI0MDdiODI0ZDk1ZGMxYzAwMzc1ZSA9IEwubWFya2VyKAogICAgICAgICAgICAgICAgWzM0LjA1NjM2OCwgLTExOC4yNzQ4NzldLAogICAgICAgICAgICAgICAge30KICAgICAgICAgICAgKS5hZGRUbyhtYXBfZWY5OGQyYTFiNjliNDFlMGFjZWU1NTk3MWQyOGNkMTUpOwogICAgICAgIAogICAgCiAgICAgICAgdmFyIHBvcHVwXzI0Zjg5NWI0Y2Q0MTQ4MjA4NmRiNTA5NTZlYTNiZDljID0gTC5wb3B1cCh7Im1heFdpZHRoIjogIjEwMCUifSk7CgogICAgICAgIAogICAgICAgICAgICB2YXIgaHRtbF8xMjhhYThlZTNhYmM0MWFhOWNjOTBmMWUwYTkxNmYzNCA9ICQoYDxkaXYgaWQ9Imh0bWxfMTI4YWE4ZWUzYWJjNDFhYTljYzkwZjFlMGE5MTZmMzQiIHN0eWxlPSJ3aWR0aDogMTAwLjAlOyBoZWlnaHQ6IDEwMC4wJTsiPldlc3RsYWtlIC8gTWFjQXJ0aHVyIFBhcmsgU3RhdGlvbiA4MDI8L2Rpdj5gKVswXTsKICAgICAgICAgICAgcG9wdXBfMjRmODk1YjRjZDQxNDgyMDg2ZGI1MDk1NmVhM2JkOWMuc2V0Q29udGVudChodG1sXzEyOGFhOGVlM2FiYzQxYWE5Y2M5MGYxZTBhOTE2ZjM0KTsKICAgICAgICAKCiAgICAgICAgbWFya2VyX2EyNmZmOWRmNGMwMjQwN2I4MjRkOTVkYzFjMDAzNzVlLmJpbmRQb3B1cChwb3B1cF8yNGY4OTViNGNkNDE0ODIwODZkYjUwOTU2ZWEzYmQ5YykKICAgICAgICA7CgogICAgICAgIAogICAgCiAgICAKICAgICAgICAgICAgbWFya2VyX2EyNmZmOWRmNGMwMjQwN2I4MjRkOTVkYzFjMDAzNzVlLmJpbmRUb29sdGlwKAogICAgICAgICAgICAgICAgYDxkaXY+CiAgICAgICAgICAgICAgICAgICAgIFdlc3RsYWtlIC8gTWFjQXJ0aHVyIFBhcmsgU3RhdGlvbgogICAgICAgICAgICAgICAgIDwvZGl2PmAsCiAgICAgICAgICAgICAgICB7InN0aWNreSI6IHRydWV9CiAgICAgICAgICAgICk7CiAgICAgICAgCiAgICAKICAgICAgICAgICAgdmFyIG1hcmtlcl8xMTA2Y2NjOGE1Mjg0ZmJhOWU0MGM2MTZiOTZjNmU0ZiA9IEwubWFya2VyKAogICAgICAgICAgICAgICAgWzM0LjA0ODYzNCwgLTExOC4yNTg2ODJdLAogICAgICAgICAgICAgICAge30KICAgICAgICAgICAgKS5hZGRUbyhtYXBfZWY5OGQyYTFiNjliNDFlMGFjZWU1NTk3MWQyOGNkMTUpOwogICAgICAgIAogICAgCiAgICAgICAgdmFyIHBvcHVwXzdmMGRhMThjMDYwODQwOGM5YzQxZmJmM2NmYjA4Y2UzID0gTC5wb3B1cCh7Im1heFdpZHRoIjogIjEwMCUifSk7CgogICAgICAgIAogICAgICAgICAgICB2YXIgaHRtbF9kNDliMzMwMTJkN2Y0NmZhYjc3ZGRlOWMzY2ZhMGVjZCA9ICQoYDxkaXYgaWQ9Imh0bWxfZDQ5YjMzMDEyZDdmNDZmYWI3N2RkZTljM2NmYTBlY2QiIHN0eWxlPSJ3aWR0aDogMTAwLjAlOyBoZWlnaHQ6IDEwMC4wJTsiPjd0aCBTdHJlZXQgLyBNZXRybyBDZW50ZXIgU3RhdGlvbiAtIE1ldHJvIFJlZCAmIFB1cnBsZSBMaW5lcyA4MDI8L2Rpdj5gKVswXTsKICAgICAgICAgICAgcG9wdXBfN2YwZGExOGMwNjA4NDA4YzljNDFmYmYzY2ZiMDhjZTMuc2V0Q29udGVudChodG1sX2Q0OWIzMzAxMmQ3ZjQ2ZmFiNzdkZGU5YzNjZmEwZWNkKTsKICAgICAgICAKCiAgICAgICAgbWFya2VyXzExMDZjY2M4YTUyODRmYmE5ZTQwYzYxNmI5NmM2ZTRmLmJpbmRQb3B1cChwb3B1cF83ZjBkYTE4YzA2MDg0MDhjOWM0MWZiZjNjZmIwOGNlMykKICAgICAgICA7CgogICAgICAgIAogICAgCiAgICAKICAgICAgICAgICAgbWFya2VyXzExMDZjY2M4YTUyODRmYmE5ZTQwYzYxNmI5NmM2ZTRmLmJpbmRUb29sdGlwKAogICAgICAgICAgICAgICAgYDxkaXY+CiAgICAgICAgICAgICAgICAgICAgIDd0aCBTdHJlZXQgLyBNZXRybyBDZW50ZXIgU3RhdGlvbiAtIE1ldHJvIFJlZCAmIFB1cnBsZSBMaW5lcwogICAgICAgICAgICAgICAgIDwvZGl2PmAsCiAgICAgICAgICAgICAgICB7InN0aWNreSI6IHRydWV9CiAgICAgICAgICAgICk7CiAgICAgICAgCiAgICAKICAgICAgICAgICAgdmFyIG1hcmtlcl8wMjYwMzIyOGFiMzA0YzhjYWIzMzhhMDYxNDZiYWE3OCA9IEwubWFya2VyKAogICAgICAgICAgICAgICAgWzM0LjA0OTMxNiwgLTExOC4yNTEyNTldLAogICAgICAgICAgICAgICAge30KICAgICAgICAgICAgKS5hZGRUbyhtYXBfZWY5OGQyYTFiNjliNDFlMGFjZWU1NTk3MWQyOGNkMTUpOwogICAgICAgIAogICAgCiAgICAgICAgdmFyIHBvcHVwX2RjZGNlNmE2OWRkODQwNTFhODdkMjkyMGQ2ZmVjNGVkID0gTC5wb3B1cCh7Im1heFdpZHRoIjogIjEwMCUifSk7CgogICAgICAgIAogICAgICAgICAgICB2YXIgaHRtbF8xZmI4NTM1NDZkMzM0NjRjYTYzYWQ5NDVkOWQ0M2Q4MCA9ICQoYDxkaXYgaWQ9Imh0bWxfMWZiODUzNTQ2ZDMzNDY0Y2E2M2FkOTQ1ZDlkNDNkODAiIHN0eWxlPSJ3aWR0aDogMTAwLjAlOyBoZWlnaHQ6IDEwMC4wJTsiPlBlcnNoaW5nIFNxdWFyZSBTdGF0aW9uIDgwMjwvZGl2PmApWzBdOwogICAgICAgICAgICBwb3B1cF9kY2RjZTZhNjlkZDg0MDUxYTg3ZDI5MjBkNmZlYzRlZC5zZXRDb250ZW50KGh0bWxfMWZiODUzNTQ2ZDMzNDY0Y2E2M2FkOTQ1ZDlkNDNkODApOwogICAgICAgIAoKICAgICAgICBtYXJrZXJfMDI2MDMyMjhhYjMwNGM4Y2FiMzM4YTA2MTQ2YmFhNzguYmluZFBvcHVwKHBvcHVwX2RjZGNlNmE2OWRkODQwNTFhODdkMjkyMGQ2ZmVjNGVkKQogICAgICAgIDsKCiAgICAgICAgCiAgICAKICAgIAogICAgICAgICAgICBtYXJrZXJfMDI2MDMyMjhhYjMwNGM4Y2FiMzM4YTA2MTQ2YmFhNzguYmluZFRvb2x0aXAoCiAgICAgICAgICAgICAgICBgPGRpdj4KICAgICAgICAgICAgICAgICAgICAgUGVyc2hpbmcgU3F1YXJlIFN0YXRpb24KICAgICAgICAgICAgICAgICA8L2Rpdj5gLAogICAgICAgICAgICAgICAgeyJzdGlja3kiOiB0cnVlfQogICAgICAgICAgICApOwogICAgICAgIAogICAgCiAgICAgICAgICAgIHZhciBtYXJrZXJfOTc3ZWUzMDYxMmU1NDhlMjg1NWQwZTE0YjQ1MDFjY2YgPSBMLm1hcmtlcigKICAgICAgICAgICAgICAgIFszNC4wNTQ5LCAtMTE4LjI0NjA1N10sCiAgICAgICAgICAgICAgICB7fQogICAgICAgICAgICApLmFkZFRvKG1hcF9lZjk4ZDJhMWI2OWI0MWUwYWNlZTU1OTcxZDI4Y2QxNSk7CiAgICAgICAgCiAgICAKICAgICAgICB2YXIgcG9wdXBfZTM0ZjJhZTI2YTE3NDgzM2JmMGRiZDZhODA2N2QxOWYgPSBMLnBvcHVwKHsibWF4V2lkdGgiOiAiMTAwJSJ9KTsKCiAgICAgICAgCiAgICAgICAgICAgIHZhciBodG1sXzVkMDY2NWYzNzIyZjQ3MmJhOTA4YjE0NTAxZDJhMTZlID0gJChgPGRpdiBpZD0iaHRtbF81ZDA2NjVmMzcyMmY0NzJiYTkwOGIxNDUwMWQyYTE2ZSIgc3R5bGU9IndpZHRoOiAxMDAuMCU7IGhlaWdodDogMTAwLjAlOyI+Q2l2aWMgQ2VudGVyIC8gR3JhbmQgUGFyayBTdGF0aW9uIDgwMjwvZGl2PmApWzBdOwogICAgICAgICAgICBwb3B1cF9lMzRmMmFlMjZhMTc0ODMzYmYwZGJkNmE4MDY3ZDE5Zi5zZXRDb250ZW50KGh0bWxfNWQwNjY1ZjM3MjJmNDcyYmE5MDhiMTQ1MDFkMmExNmUpOwogICAgICAgIAoKICAgICAgICBtYXJrZXJfOTc3ZWUzMDYxMmU1NDhlMjg1NWQwZTE0YjQ1MDFjY2YuYmluZFBvcHVwKHBvcHVwX2UzNGYyYWUyNmExNzQ4MzNiZjBkYmQ2YTgwNjdkMTlmKQogICAgICAgIDsKCiAgICAgICAgCiAgICAKICAgIAogICAgICAgICAgICBtYXJrZXJfOTc3ZWUzMDYxMmU1NDhlMjg1NWQwZTE0YjQ1MDFjY2YuYmluZFRvb2x0aXAoCiAgICAgICAgICAgICAgICBgPGRpdj4KICAgICAgICAgICAgICAgICAgICAgQ2l2aWMgQ2VudGVyIC8gR3JhbmQgUGFyayBTdGF0aW9uCiAgICAgICAgICAgICAgICAgPC9kaXY+YCwKICAgICAgICAgICAgICAgIHsic3RpY2t5IjogdHJ1ZX0KICAgICAgICAgICAgKTsKICAgICAgICAKICAgIAogICAgICAgICAgICB2YXIgbWFya2VyXzFmZDhiOWFjMjk0NjRiMTQ4ZDM0ZDQxNzdjNGE1ZDUwID0gTC5tYXJrZXIoCiAgICAgICAgICAgICAgICBbMzQuMDU2MTk3LCAtMTE4LjIzNDI0OV0sCiAgICAgICAgICAgICAgICB7fQogICAgICAgICAgICApLmFkZFRvKG1hcF9lZjk4ZDJhMWI2OWI0MWUwYWNlZTU1OTcxZDI4Y2QxNSk7CiAgICAgICAgCiAgICAKICAgICAgICB2YXIgcG9wdXBfYmU0ODUxNDRmMTViNDg4NGIwMTgwYjAzMjEyZDFiNDggPSBMLnBvcHVwKHsibWF4V2lkdGgiOiAiMTAwJSJ9KTsKCiAgICAgICAgCiAgICAgICAgICAgIHZhciBodG1sXzU3MDI2NWE5ZDg1ZDQzYzA5ZmQ4Y2VhOWQ5NmRhZWUzID0gJChgPGRpdiBpZD0iaHRtbF81NzAyNjVhOWQ4NWQ0M2MwOWZkOGNlYTlkOTZkYWVlMyIgc3R5bGU9IndpZHRoOiAxMDAuMCU7IGhlaWdodDogMTAwLjAlOyI+VW5pb24gU3RhdGlvbiAtIE1ldHJvIFJlZCAmIFB1cnBsZSBMaW5lcyA4MDI8L2Rpdj5gKVswXTsKICAgICAgICAgICAgcG9wdXBfYmU0ODUxNDRmMTViNDg4NGIwMTgwYjAzMjEyZDFiNDguc2V0Q29udGVudChodG1sXzU3MDI2NWE5ZDg1ZDQzYzA5ZmQ4Y2VhOWQ5NmRhZWUzKTsKICAgICAgICAKCiAgICAgICAgbWFya2VyXzFmZDhiOWFjMjk0NjRiMTQ4ZDM0ZDQxNzdjNGE1ZDUwLmJpbmRQb3B1cChwb3B1cF9iZTQ4NTE0NGYxNWI0ODg0YjAxODBiMDMyMTJkMWI0OCkKICAgICAgICA7CgogICAgICAgIAogICAgCiAgICAKICAgICAgICAgICAgbWFya2VyXzFmZDhiOWFjMjk0NjRiMTQ4ZDM0ZDQxNzdjNGE1ZDUwLmJpbmRUb29sdGlwKAogICAgICAgICAgICAgICAgYDxkaXY+CiAgICAgICAgICAgICAgICAgICAgIFVuaW9uIFN0YXRpb24gLSBNZXRybyBSZWQgJiBQdXJwbGUgTGluZXMKICAgICAgICAgICAgICAgICA8L2Rpdj5gLAogICAgICAgICAgICAgICAgeyJzdGlja3kiOiB0cnVlfQogICAgICAgICAgICApOwogICAgICAgIAogICAgCiAgICAgICAgICAgIHZhciBtYXJrZXJfNjg5NTk3Zjg3MjMwNDZiYmJiOTllNzc0M2M0YmU2NTMgPSBMLm1hcmtlcigKICAgICAgICAgICAgICAgIFszNC4wNjE3NTMsIC0xMTguMzAxNDU4XSwKICAgICAgICAgICAgICAgIHt9CiAgICAgICAgICAgICkuYWRkVG8obWFwX2VmOThkMmExYjY5YjQxZTBhY2VlNTU5NzFkMjhjZDE1KTsKICAgICAgICAKICAgIAogICAgICAgIHZhciBwb3B1cF9mZmFkZmJjYmIxZjE0N2E1ODljM2E1MGZiYTcwZDI2NSA9IEwucG9wdXAoeyJtYXhXaWR0aCI6ICIxMDAlIn0pOwoKICAgICAgICAKICAgICAgICAgICAgdmFyIGh0bWxfNGMzMmYzZmNhYTA4NDliNDljYTE1ZmE4MDRlMGQ2MTUgPSAkKGA8ZGl2IGlkPSJodG1sXzRjMzJmM2ZjYWEwODQ5YjQ5Y2ExNWZhODA0ZTBkNjE1IiBzdHlsZT0id2lkdGg6IDEwMC4wJTsgaGVpZ2h0OiAxMDAuMCU7Ij5XaWxzaGlyZSAvIE5vcm1hbmRpZSBTdGF0aW9uIDgwNTwvZGl2PmApWzBdOwogICAgICAgICAgICBwb3B1cF9mZmFkZmJjYmIxZjE0N2E1ODljM2E1MGZiYTcwZDI2NS5zZXRDb250ZW50KGh0bWxfNGMzMmYzZmNhYTA4NDliNDljYTE1ZmE4MDRlMGQ2MTUpOwogICAgICAgIAoKICAgICAgICBtYXJrZXJfNjg5NTk3Zjg3MjMwNDZiYmJiOTllNzc0M2M0YmU2NTMuYmluZFBvcHVwKHBvcHVwX2ZmYWRmYmNiYjFmMTQ3YTU4OWMzYTUwZmJhNzBkMjY1KQogICAgICAgIDsKCiAgICAgICAgCiAgICAKICAgIAogICAgICAgICAgICBtYXJrZXJfNjg5NTk3Zjg3MjMwNDZiYmJiOTllNzc0M2M0YmU2NTMuYmluZFRvb2x0aXAoCiAgICAgICAgICAgICAgICBgPGRpdj4KICAgICAgICAgICAgICAgICAgICAgV2lsc2hpcmUgLyBOb3JtYW5kaWUgU3RhdGlvbgogICAgICAgICAgICAgICAgIDwvZGl2PmAsCiAgICAgICAgICAgICAgICB7InN0aWNreSI6IHRydWV9CiAgICAgICAgICAgICk7CiAgICAgICAgCiAgICAKICAgICAgICAgICAgdmFyIG1hcmtlcl8wYWM2YjFkYjU4ODU0NDI2YWY4ZTI1ZmFjNzE0YTMxNSA9IEwubWFya2VyKAogICAgICAgICAgICAgICAgWzM0LjA2MTY4OSwgLTExOC4zMDg3NTZdLAogICAgICAgICAgICAgICAge30KICAgICAgICAgICAgKS5hZGRUbyhtYXBfZWY5OGQyYTFiNjliNDFlMGFjZWU1NTk3MWQyOGNkMTUpOwogICAgICAgIAogICAgCiAgICAgICAgdmFyIHBvcHVwX2RjZTQwNjFiYzc0MDQ3NDE5NzMzZDZiNzEyODM3NDZiID0gTC5wb3B1cCh7Im1heFdpZHRoIjogIjEwMCUifSk7CgogICAgICAgIAogICAgICAgICAgICB2YXIgaHRtbF81YzkyNDc3MjZhN2Q0ODdlOThjYjFjMjU5YTYyODk0OSA9ICQoYDxkaXYgaWQ9Imh0bWxfNWM5MjQ3NzI2YTdkNDg3ZTk4Y2IxYzI1OWE2Mjg5NDkiIHN0eWxlPSJ3aWR0aDogMTAwLjAlOyBoZWlnaHQ6IDEwMC4wJTsiPldpbHNoaXJlIC8gV2VzdGVybiBTdGF0aW9uIDgwNTwvZGl2PmApWzBdOwogICAgICAgICAgICBwb3B1cF9kY2U0MDYxYmM3NDA0NzQxOTczM2Q2YjcxMjgzNzQ2Yi5zZXRDb250ZW50KGh0bWxfNWM5MjQ3NzI2YTdkNDg3ZTk4Y2IxYzI1OWE2Mjg5NDkpOwogICAgICAgIAoKICAgICAgICBtYXJrZXJfMGFjNmIxZGI1ODg1NDQyNmFmOGUyNWZhYzcxNGEzMTUuYmluZFBvcHVwKHBvcHVwX2RjZTQwNjFiYzc0MDQ3NDE5NzMzZDZiNzEyODM3NDZiKQogICAgICAgIDsKCiAgICAgICAgCiAgICAKICAgIAogICAgICAgICAgICBtYXJrZXJfMGFjNmIxZGI1ODg1NDQyNmFmOGUyNWZhYzcxNGEzMTUuYmluZFRvb2x0aXAoCiAgICAgICAgICAgICAgICBgPGRpdj4KICAgICAgICAgICAgICAgICAgICAgV2lsc2hpcmUgLyBXZXN0ZXJuIFN0YXRpb24KICAgICAgICAgICAgICAgICA8L2Rpdj5gLAogICAgICAgICAgICAgICAgeyJzdGlja3kiOiB0cnVlfQogICAgICAgICAgICApOwogICAgICAgIAogICAgCiAgICAgICAgICAgIHZhciBtYXJrZXJfNWU4NzI3Mzc5NjNlNDkzMTk0N2ZlZDdlOWVjY2Q4ODQgPSBMLm1hcmtlcigKICAgICAgICAgICAgICAgIFszMy44OTQ2NCwgLTExOC4zNjkxOTZdLAogICAgICAgICAgICAgICAge30KICAgICAgICAgICAgKS5hZGRUbyhtYXBfZWY5OGQyYTFiNjliNDFlMGFjZWU1NTk3MWQyOGNkMTUpOwogICAgICAgIAogICAgCiAgICAgICAgdmFyIHBvcHVwXzdjMTQyNWM0OTRkMDQ1NWFhYWJhZGQ0MGJmODFmZjhjID0gTC5wb3B1cCh7Im1heFdpZHRoIjogIjEwMCUifSk7CgogICAgICAgIAogICAgICAgICAgICB2YXIgaHRtbF9iODdhOTYwZTMxN2E0MDcxYmMzNzg3MDgyYzFiOTMxZCA9ICQoYDxkaXYgaWQ9Imh0bWxfYjg3YTk2MGUzMTdhNDA3MWJjMzc4NzA4MmMxYjkzMWQiIHN0eWxlPSJ3aWR0aDogMTAwLjAlOyBoZWlnaHQ6IDEwMC4wJTsiPlJlZG9uZG8gQmVhY2ggU3RhdGlvbiA4MDM8L2Rpdj5gKVswXTsKICAgICAgICAgICAgcG9wdXBfN2MxNDI1YzQ5NGQwNDU1YWFhYmFkZDQwYmY4MWZmOGMuc2V0Q29udGVudChodG1sX2I4N2E5NjBlMzE3YTQwNzFiYzM3ODcwODJjMWI5MzFkKTsKICAgICAgICAKCiAgICAgICAgbWFya2VyXzVlODcyNzM3OTYzZTQ5MzE5NDdmZWQ3ZTllY2NkODg0LmJpbmRQb3B1cChwb3B1cF83YzE0MjVjNDk0ZDA0NTVhYWFiYWRkNDBiZjgxZmY4YykKICAgICAgICA7CgogICAgICAgIAogICAgCiAgICAKICAgICAgICAgICAgbWFya2VyXzVlODcyNzM3OTYzZTQ5MzE5NDdmZWQ3ZTllY2NkODg0LmJpbmRUb29sdGlwKAogICAgICAgICAgICAgICAgYDxkaXY+CiAgICAgICAgICAgICAgICAgICAgIFJlZG9uZG8gQmVhY2ggU3RhdGlvbgogICAgICAgICAgICAgICAgIDwvZGl2PmAsCiAgICAgICAgICAgICAgICB7InN0aWNreSI6IHRydWV9CiAgICAgICAgICAgICk7CiAgICAgICAgCiAgICAKICAgICAgICAgICAgdmFyIG1hcmtlcl9mMjVjYzhmNWNmYmU0MmEzYWNlZjRlMzczMTUzZGY3OSA9IEwubWFya2VyKAogICAgICAgICAgICAgICAgWzMzLjkwNTI5OSwgLTExOC4zODMxMTNdLAogICAgICAgICAgICAgICAge30KICAgICAgICAgICAgKS5hZGRUbyhtYXBfZWY5OGQyYTFiNjliNDFlMGFjZWU1NTk3MWQyOGNkMTUpOwogICAgICAgIAogICAgCiAgICAgICAgdmFyIHBvcHVwXzBiMDk4YzAwNjNiNTRhZTFiMjRjOTJlNmQ5ZmU2OGJlID0gTC5wb3B1cCh7Im1heFdpZHRoIjogIjEwMCUifSk7CgogICAgICAgIAogICAgICAgICAgICB2YXIgaHRtbF9kNmUzYTA0YzViNjA0NjM5YmQ3N2RkNDAzYjFkN2NlMCA9ICQoYDxkaXYgaWQ9Imh0bWxfZDZlM2EwNGM1YjYwNDYzOWJkNzdkZDQwM2IxZDdjZTAiIHN0eWxlPSJ3aWR0aDogMTAwLjAlOyBoZWlnaHQ6IDEwMC4wJTsiPkRvdWdsYXMgU3RhdGlvbiA4MDM8L2Rpdj5gKVswXTsKICAgICAgICAgICAgcG9wdXBfMGIwOThjMDA2M2I1NGFlMWIyNGM5MmU2ZDlmZTY4YmUuc2V0Q29udGVudChodG1sX2Q2ZTNhMDRjNWI2MDQ2MzliZDc3ZGQ0MDNiMWQ3Y2UwKTsKICAgICAgICAKCiAgICAgICAgbWFya2VyX2YyNWNjOGY1Y2ZiZTQyYTNhY2VmNGUzNzMxNTNkZjc5LmJpbmRQb3B1cChwb3B1cF8wYjA5OGMwMDYzYjU0YWUxYjI0YzkyZTZkOWZlNjhiZSkKICAgICAgICA7CgogICAgICAgIAogICAgCiAgICAKICAgICAgICAgICAgbWFya2VyX2YyNWNjOGY1Y2ZiZTQyYTNhY2VmNGUzNzMxNTNkZjc5LmJpbmRUb29sdGlwKAogICAgICAgICAgICAgICAgYDxkaXY+CiAgICAgICAgICAgICAgICAgICAgIERvdWdsYXMgU3RhdGlvbgogICAgICAgICAgICAgICAgIDwvZGl2PmAsCiAgICAgICAgICAgICAgICB7InN0aWNreSI6IHRydWV9CiAgICAgICAgICAgICk7CiAgICAgICAgCiAgICAKICAgICAgICAgICAgdmFyIG1hcmtlcl9jOGM5ZjRhMjgzYzU0MWNlYmE2MzMzMjc5YWRhNjFjOSA9IEwubWFya2VyKAogICAgICAgICAgICAgICAgWzMzLjkxNjA2MywgLTExOC4zODY1MzldLAogICAgICAgICAgICAgICAge30KICAgICAgICAgICAgKS5hZGRUbyhtYXBfZWY5OGQyYTFiNjliNDFlMGFjZWU1NTk3MWQyOGNkMTUpOwogICAgICAgIAogICAgCiAgICAgICAgdmFyIHBvcHVwX2I1OTkyZGVjZGRiNzRjOGZhZGY1OTNkNmVjMDNjNDE4ID0gTC5wb3B1cCh7Im1heFdpZHRoIjogIjEwMCUifSk7CgogICAgICAgIAogICAgICAgICAgICB2YXIgaHRtbF81Nzc4OTAyMWQxYzI0ODYzYTI2MDgyMDRlMDdlNWZlYSA9ICQoYDxkaXYgaWQ9Imh0bWxfNTc3ODkwMjFkMWMyNDg2M2EyNjA4MjA0ZTA3ZTVmZWEiIHN0eWxlPSJ3aWR0aDogMTAwLjAlOyBoZWlnaHQ6IDEwMC4wJTsiPkVsIFNlZ3VuZG8gU3RhdGlvbiA4MDM8L2Rpdj5gKVswXTsKICAgICAgICAgICAgcG9wdXBfYjU5OTJkZWNkZGI3NGM4ZmFkZjU5M2Q2ZWMwM2M0MTguc2V0Q29udGVudChodG1sXzU3Nzg5MDIxZDFjMjQ4NjNhMjYwODIwNGUwN2U1ZmVhKTsKICAgICAgICAKCiAgICAgICAgbWFya2VyX2M4YzlmNGEyODNjNTQxY2ViYTYzMzMyNzlhZGE2MWM5LmJpbmRQb3B1cChwb3B1cF9iNTk5MmRlY2RkYjc0YzhmYWRmNTkzZDZlYzAzYzQxOCkKICAgICAgICA7CgogICAgICAgIAogICAgCiAgICAKICAgICAgICAgICAgbWFya2VyX2M4YzlmNGEyODNjNTQxY2ViYTYzMzMyNzlhZGE2MWM5LmJpbmRUb29sdGlwKAogICAgICAgICAgICAgICAgYDxkaXY+CiAgICAgICAgICAgICAgICAgICAgIEVsIFNlZ3VuZG8gU3RhdGlvbgogICAgICAgICAgICAgICAgIDwvZGl2PmAsCiAgICAgICAgICAgICAgICB7InN0aWNreSI6IHRydWV9CiAgICAgICAgICAgICk7CiAgICAgICAgCiAgICAKICAgICAgICAgICAgdmFyIG1hcmtlcl85YjFkMTc1YjQ4MTM0MTE2OTdhNmRmZTI3NjBmMjg5NiA9IEwubWFya2VyKAogICAgICAgICAgICAgICAgWzMzLjkyMzIsIC0xMTguMzg3NTcyXSwKICAgICAgICAgICAgICAgIHt9CiAgICAgICAgICAgICkuYWRkVG8obWFwX2VmOThkMmExYjY5YjQxZTBhY2VlNTU5NzFkMjhjZDE1KTsKICAgICAgICAKICAgIAogICAgICAgIHZhciBwb3B1cF9hOWNiMWE3NGQ4MDE0YWE5YTFiZmY3MTU5ODhhNzUwMSA9IEwucG9wdXAoeyJtYXhXaWR0aCI6ICIxMDAlIn0pOwoKICAgICAgICAKICAgICAgICAgICAgdmFyIGh0bWxfZWQzYzg5Y2ViOWMzNGM1NzgzMTZiOTU2Mzg0ZDBlODYgPSAkKGA8ZGl2IGlkPSJodG1sX2VkM2M4OWNlYjljMzRjNTc4MzE2Yjk1NjM4NGQwZTg2IiBzdHlsZT0id2lkdGg6IDEwMC4wJTsgaGVpZ2h0OiAxMDAuMCU7Ij5NYXJpcG9zYSBTdGF0aW9uIDgwMzwvZGl2PmApWzBdOwogICAgICAgICAgICBwb3B1cF9hOWNiMWE3NGQ4MDE0YWE5YTFiZmY3MTU5ODhhNzUwMS5zZXRDb250ZW50KGh0bWxfZWQzYzg5Y2ViOWMzNGM1NzgzMTZiOTU2Mzg0ZDBlODYpOwogICAgICAgIAoKICAgICAgICBtYXJrZXJfOWIxZDE3NWI0ODEzNDExNjk3YTZkZmUyNzYwZjI4OTYuYmluZFBvcHVwKHBvcHVwX2E5Y2IxYTc0ZDgwMTRhYTlhMWJmZjcxNTk4OGE3NTAxKQogICAgICAgIDsKCiAgICAgICAgCiAgICAKICAgIAogICAgICAgICAgICBtYXJrZXJfOWIxZDE3NWI0ODEzNDExNjk3YTZkZmUyNzYwZjI4OTYuYmluZFRvb2x0aXAoCiAgICAgICAgICAgICAgICBgPGRpdj4KICAgICAgICAgICAgICAgICAgICAgTWFyaXBvc2EgU3RhdGlvbgogICAgICAgICAgICAgICAgIDwvZGl2PmAsCiAgICAgICAgICAgICAgICB7InN0aWNreSI6IHRydWV9CiAgICAgICAgICAgICk7CiAgICAgICAgCiAgICAKICAgICAgICAgICAgdmFyIG1hcmtlcl8yNzk3ZDQyNTIzZjA0Zjc3YjI4ODM3N2FhYzNiZTg4NiA9IEwubWFya2VyKAogICAgICAgICAgICAgICAgWzMzLjkyOTYyMSwgLTExOC4zNzcxMzRdLAogICAgICAgICAgICAgICAge30KICAgICAgICAgICAgKS5hZGRUbyhtYXBfZWY5OGQyYTFiNjliNDFlMGFjZWU1NTk3MWQyOGNkMTUpOwogICAgICAgIAogICAgCiAgICAgICAgdmFyIHBvcHVwX2IwZDgxMmYzYTFjMDQ3OTM5M2JiMTQxYjZlOGU4N2NlID0gTC5wb3B1cCh7Im1heFdpZHRoIjogIjEwMCUifSk7CgogICAgICAgIAogICAgICAgICAgICB2YXIgaHRtbF9mMTBmZDE1MmJlYmE0YzM5YmY2ZTIzMWU2ZjcxYmM5OSA9ICQoYDxkaXYgaWQ9Imh0bWxfZjEwZmQxNTJiZWJhNGMzOWJmNmUyMzFlNmY3MWJjOTkiIHN0eWxlPSJ3aWR0aDogMTAwLjAlOyBoZWlnaHQ6IDEwMC4wJTsiPkF2aWF0aW9uIC8gTEFYIFN0YXRpb24gODAzPC9kaXY+YClbMF07CiAgICAgICAgICAgIHBvcHVwX2IwZDgxMmYzYTFjMDQ3OTM5M2JiMTQxYjZlOGU4N2NlLnNldENvbnRlbnQoaHRtbF9mMTBmZDE1MmJlYmE0YzM5YmY2ZTIzMWU2ZjcxYmM5OSk7CiAgICAgICAgCgogICAgICAgIG1hcmtlcl8yNzk3ZDQyNTIzZjA0Zjc3YjI4ODM3N2FhYzNiZTg4Ni5iaW5kUG9wdXAocG9wdXBfYjBkODEyZjNhMWMwNDc5MzkzYmIxNDFiNmU4ZTg3Y2UpCiAgICAgICAgOwoKICAgICAgICAKICAgIAogICAgCiAgICAgICAgICAgIG1hcmtlcl8yNzk3ZDQyNTIzZjA0Zjc3YjI4ODM3N2FhYzNiZTg4Ni5iaW5kVG9vbHRpcCgKICAgICAgICAgICAgICAgIGA8ZGl2PgogICAgICAgICAgICAgICAgICAgICBBdmlhdGlvbiAvIExBWCBTdGF0aW9uCiAgICAgICAgICAgICAgICAgPC9kaXY+YCwKICAgICAgICAgICAgICAgIHsic3RpY2t5IjogdHJ1ZX0KICAgICAgICAgICAgKTsKICAgICAgICAKICAgIAogICAgICAgICAgICB2YXIgbWFya2VyXzJkNThmNDk4ZjRlZjQ2ODU5NzZmMGE2NWJjMzI3YzEyID0gTC5tYXJrZXIoCiAgICAgICAgICAgICAgICBbMzMuOTMzNDA4LCAtMTE4LjM1MTYwMl0sCiAgICAgICAgICAgICAgICB7fQogICAgICAgICAgICApLmFkZFRvKG1hcF9lZjk4ZDJhMWI2OWI0MWUwYWNlZTU1OTcxZDI4Y2QxNSk7CiAgICAgICAgCiAgICAKICAgICAgICB2YXIgcG9wdXBfNmQyZDYzOTkzNmVkNDdlYTlhNGJjMzE1ZDljM2I1ZDkgPSBMLnBvcHVwKHsibWF4V2lkdGgiOiAiMTAwJSJ9KTsKCiAgICAgICAgCiAgICAgICAgICAgIHZhciBodG1sX2VmNzIyNzBjMTRmNDRhYmE5YjU0NTM0OTllNjE1ZjIyID0gJChgPGRpdiBpZD0iaHRtbF9lZjcyMjcwYzE0ZjQ0YWJhOWI1NDUzNDk5ZTYxNWYyMiIgc3R5bGU9IndpZHRoOiAxMDAuMCU7IGhlaWdodDogMTAwLjAlOyI+SGF3dGhvcm5lIC8gTGVubm94IFN0YXRpb24gODAzPC9kaXY+YClbMF07CiAgICAgICAgICAgIHBvcHVwXzZkMmQ2Mzk5MzZlZDQ3ZWE5YTRiYzMxNWQ5YzNiNWQ5LnNldENvbnRlbnQoaHRtbF9lZjcyMjcwYzE0ZjQ0YWJhOWI1NDUzNDk5ZTYxNWYyMik7CiAgICAgICAgCgogICAgICAgIG1hcmtlcl8yZDU4ZjQ5OGY0ZWY0Njg1OTc2ZjBhNjViYzMyN2MxMi5iaW5kUG9wdXAocG9wdXBfNmQyZDYzOTkzNmVkNDdlYTlhNGJjMzE1ZDljM2I1ZDkpCiAgICAgICAgOwoKICAgICAgICAKICAgIAogICAgCiAgICAgICAgICAgIG1hcmtlcl8yZDU4ZjQ5OGY0ZWY0Njg1OTc2ZjBhNjViYzMyN2MxMi5iaW5kVG9vbHRpcCgKICAgICAgICAgICAgICAgIGA8ZGl2PgogICAgICAgICAgICAgICAgICAgICBIYXd0aG9ybmUgLyBMZW5ub3ggU3RhdGlvbgogICAgICAgICAgICAgICAgIDwvZGl2PmAsCiAgICAgICAgICAgICAgICB7InN0aWNreSI6IHRydWV9CiAgICAgICAgICAgICk7CiAgICAgICAgCiAgICAKICAgICAgICAgICAgdmFyIG1hcmtlcl83MThhNjJmNzA0MDc0ZGNiYWM4MDRiY2I4MDNmYzU2NyA9IEwubWFya2VyKAogICAgICAgICAgICAgICAgWzMzLjkyNTIwMSwgLTExOC4zMjY1NV0sCiAgICAgICAgICAgICAgICB7fQogICAgICAgICAgICApLmFkZFRvKG1hcF9lZjk4ZDJhMWI2OWI0MWUwYWNlZTU1OTcxZDI4Y2QxNSk7CiAgICAgICAgCiAgICAKICAgICAgICB2YXIgcG9wdXBfZjU1OWI5YmM2NDE1NGFkMGJjNWUwYjllYmUxMzg2NGMgPSBMLnBvcHVwKHsibWF4V2lkdGgiOiAiMTAwJSJ9KTsKCiAgICAgICAgCiAgICAgICAgICAgIHZhciBodG1sXzhmY2EyZGQ4N2EwMzRjZTc5N2U3NGZjMTE0ZWY2MjU4ID0gJChgPGRpdiBpZD0iaHRtbF84ZmNhMmRkODdhMDM0Y2U3OTdlNzRmYzExNGVmNjI1OCIgc3R5bGU9IndpZHRoOiAxMDAuMCU7IGhlaWdodDogMTAwLjAlOyI+Q3JlbnNoYXcgU3RhdGlvbiA4MDM8L2Rpdj5gKVswXTsKICAgICAgICAgICAgcG9wdXBfZjU1OWI5YmM2NDE1NGFkMGJjNWUwYjllYmUxMzg2NGMuc2V0Q29udGVudChodG1sXzhmY2EyZGQ4N2EwMzRjZTc5N2U3NGZjMTE0ZWY2MjU4KTsKICAgICAgICAKCiAgICAgICAgbWFya2VyXzcxOGE2MmY3MDQwNzRkY2JhYzgwNGJjYjgwM2ZjNTY3LmJpbmRQb3B1cChwb3B1cF9mNTU5YjliYzY0MTU0YWQwYmM1ZTBiOWViZTEzODY0YykKICAgICAgICA7CgogICAgICAgIAogICAgCiAgICAKICAgICAgICAgICAgbWFya2VyXzcxOGE2MmY3MDQwNzRkY2JhYzgwNGJjYjgwM2ZjNTY3LmJpbmRUb29sdGlwKAogICAgICAgICAgICAgICAgYDxkaXY+CiAgICAgICAgICAgICAgICAgICAgIENyZW5zaGF3IFN0YXRpb24KICAgICAgICAgICAgICAgICA8L2Rpdj5gLAogICAgICAgICAgICAgICAgeyJzdGlja3kiOiB0cnVlfQogICAgICAgICAgICApOwogICAgICAgIAogICAgCiAgICAgICAgICAgIHZhciBtYXJrZXJfYjNiYWNjMTg5MTE2NDEyNzg0ZDFkNTk5NGU4NDk3MDggPSBMLm1hcmtlcigKICAgICAgICAgICAgICAgIFszMy45Mjg2ODMsIC0xMTguMjkxNzMzXSwKICAgICAgICAgICAgICAgIHt9CiAgICAgICAgICAgICkuYWRkVG8obWFwX2VmOThkMmExYjY5YjQxZTBhY2VlNTU5NzFkMjhjZDE1KTsKICAgICAgICAKICAgIAogICAgICAgIHZhciBwb3B1cF8zNjJkNmM2MGY5OTE0MDNhYTFjODQyNjhhY2Q5ZGQ0YyA9IEwucG9wdXAoeyJtYXhXaWR0aCI6ICIxMDAlIn0pOwoKICAgICAgICAKICAgICAgICAgICAgdmFyIGh0bWxfNDhmMzM3YzZmYmY1NDdhNGE0YzA3MWNjZmIyNTg2ZDMgPSAkKGA8ZGl2IGlkPSJodG1sXzQ4ZjMzN2M2ZmJmNTQ3YTRhNGMwNzFjY2ZiMjU4NmQzIiBzdHlsZT0id2lkdGg6IDEwMC4wJTsgaGVpZ2h0OiAxMDAuMCU7Ij5WZXJtb250IC8gQXRoZW5zIFN0YXRpb24gODAzPC9kaXY+YClbMF07CiAgICAgICAgICAgIHBvcHVwXzM2MmQ2YzYwZjk5MTQwM2FhMWM4NDI2OGFjZDlkZDRjLnNldENvbnRlbnQoaHRtbF80OGYzMzdjNmZiZjU0N2E0YTRjMDcxY2NmYjI1ODZkMyk7CiAgICAgICAgCgogICAgICAgIG1hcmtlcl9iM2JhY2MxODkxMTY0MTI3ODRkMWQ1OTk0ZTg0OTcwOC5iaW5kUG9wdXAocG9wdXBfMzYyZDZjNjBmOTkxNDAzYWExYzg0MjY4YWNkOWRkNGMpCiAgICAgICAgOwoKICAgICAgICAKICAgIAogICAgCiAgICAgICAgICAgIG1hcmtlcl9iM2JhY2MxODkxMTY0MTI3ODRkMWQ1OTk0ZTg0OTcwOC5iaW5kVG9vbHRpcCgKICAgICAgICAgICAgICAgIGA8ZGl2PgogICAgICAgICAgICAgICAgICAgICBWZXJtb250IC8gQXRoZW5zIFN0YXRpb24KICAgICAgICAgICAgICAgICA8L2Rpdj5gLAogICAgICAgICAgICAgICAgeyJzdGlja3kiOiB0cnVlfQogICAgICAgICAgICApOwogICAgICAgIAogICAgCiAgICAgICAgICAgIHZhciBtYXJrZXJfMjdhZTQ2Nzg4ZTljNDJhMGE0ZDAzMTQ1NTI4ODE3MjggPSBMLm1hcmtlcigKICAgICAgICAgICAgICAgIFszMy45Mjg3MTQsIC0xMTguMjgxMV0sCiAgICAgICAgICAgICAgICB7fQogICAgICAgICAgICApLmFkZFRvKG1hcF9lZjk4ZDJhMWI2OWI0MWUwYWNlZTU1OTcxZDI4Y2QxNSk7CiAgICAgICAgCiAgICAKICAgICAgICB2YXIgcG9wdXBfYmE0MjA2M2MyY2FmNDllYjlkMDAyNDQzOTg3NzlkNGQgPSBMLnBvcHVwKHsibWF4V2lkdGgiOiAiMTAwJSJ9KTsKCiAgICAgICAgCiAgICAgICAgICAgIHZhciBodG1sX2Y0MDFlMmJmYTJkMDQ1MmY5NDEzMmJhYTVmZTU5YTIzID0gJChgPGRpdiBpZD0iaHRtbF9mNDAxZTJiZmEyZDA0NTJmOTQxMzJiYWE1ZmU1OWEyMyIgc3R5bGU9IndpZHRoOiAxMDAuMCU7IGhlaWdodDogMTAwLjAlOyI+SGFyYm9yIEZyZWV3YXkgU3RhdGlvbiA4MDM8L2Rpdj5gKVswXTsKICAgICAgICAgICAgcG9wdXBfYmE0MjA2M2MyY2FmNDllYjlkMDAyNDQzOTg3NzlkNGQuc2V0Q29udGVudChodG1sX2Y0MDFlMmJmYTJkMDQ1MmY5NDEzMmJhYTVmZTU5YTIzKTsKICAgICAgICAKCiAgICAgICAgbWFya2VyXzI3YWU0Njc4OGU5YzQyYTBhNGQwMzE0NTUyODgxNzI4LmJpbmRQb3B1cChwb3B1cF9iYTQyMDYzYzJjYWY0OWViOWQwMDI0NDM5ODc3OWQ0ZCkKICAgICAgICA7CgogICAgICAgIAogICAgCiAgICAKICAgICAgICAgICAgbWFya2VyXzI3YWU0Njc4OGU5YzQyYTBhNGQwMzE0NTUyODgxNzI4LmJpbmRUb29sdGlwKAogICAgICAgICAgICAgICAgYDxkaXY+CiAgICAgICAgICAgICAgICAgICAgIEhhcmJvciBGcmVld2F5IFN0YXRpb24KICAgICAgICAgICAgICAgICA8L2Rpdj5gLAogICAgICAgICAgICAgICAgeyJzdGlja3kiOiB0cnVlfQogICAgICAgICAgICApOwogICAgICAgIAogICAgCiAgICAgICAgICAgIHZhciBtYXJrZXJfYWVlMjk0YjE5MzU3NGFlYWJkOGJmYTc3NDdlOWRmZDcgPSBMLm1hcmtlcigKICAgICAgICAgICAgICAgIFszMy45Mjc0NjUsIC0xMTguMjY1MjE3XSwKICAgICAgICAgICAgICAgIHt9CiAgICAgICAgICAgICkuYWRkVG8obWFwX2VmOThkMmExYjY5YjQxZTBhY2VlNTU5NzFkMjhjZDE1KTsKICAgICAgICAKICAgIAogICAgICAgIHZhciBwb3B1cF9lMmQ3N2ZhMzg4ODQ0YzAyYWE5ZWIyMDBhZDViOGZlMiA9IEwucG9wdXAoeyJtYXhXaWR0aCI6ICIxMDAlIn0pOwoKICAgICAgICAKICAgICAgICAgICAgdmFyIGh0bWxfZDcxMDljMGMzYjQ5NGMzZGE4Njg5NzJkZTYxMjk1MzQgPSAkKGA8ZGl2IGlkPSJodG1sX2Q3MTA5YzBjM2I0OTRjM2RhODY4OTcyZGU2MTI5NTM0IiBzdHlsZT0id2lkdGg6IDEwMC4wJTsgaGVpZ2h0OiAxMDAuMCU7Ij5BdmFsb24gU3RhdGlvbiA4MDM8L2Rpdj5gKVswXTsKICAgICAgICAgICAgcG9wdXBfZTJkNzdmYTM4ODg0NGMwMmFhOWViMjAwYWQ1YjhmZTIuc2V0Q29udGVudChodG1sX2Q3MTA5YzBjM2I0OTRjM2RhODY4OTcyZGU2MTI5NTM0KTsKICAgICAgICAKCiAgICAgICAgbWFya2VyX2FlZTI5NGIxOTM1NzRhZWFiZDhiZmE3NzQ3ZTlkZmQ3LmJpbmRQb3B1cChwb3B1cF9lMmQ3N2ZhMzg4ODQ0YzAyYWE5ZWIyMDBhZDViOGZlMikKICAgICAgICA7CgogICAgICAgIAogICAgCiAgICAKICAgICAgICAgICAgbWFya2VyX2FlZTI5NGIxOTM1NzRhZWFiZDhiZmE3NzQ3ZTlkZmQ3LmJpbmRUb29sdGlwKAogICAgICAgICAgICAgICAgYDxkaXY+CiAgICAgICAgICAgICAgICAgICAgIEF2YWxvbiBTdGF0aW9uCiAgICAgICAgICAgICAgICAgPC9kaXY+YCwKICAgICAgICAgICAgICAgIHsic3RpY2t5IjogdHJ1ZX0KICAgICAgICAgICAgKTsKICAgICAgICAKICAgIAogICAgICAgICAgICB2YXIgbWFya2VyXzM0MTcxY2Q3OWQwMzRlOTQ4NDVhNzBjNjhjNzczMmRiID0gTC5tYXJrZXIoCiAgICAgICAgICAgICAgICBbMzMuOTI4MjU4LCAtMTE4LjIzODA1Ml0sCiAgICAgICAgICAgICAgICB7fQogICAgICAgICAgICApLmFkZFRvKG1hcF9lZjk4ZDJhMWI2OWI0MWUwYWNlZTU1OTcxZDI4Y2QxNSk7CiAgICAgICAgCiAgICAKICAgICAgICB2YXIgcG9wdXBfYjI2ZWU4OTk1YmQ0NGIwZmIxNTkyY2Q4MzU5OTlkMzIgPSBMLnBvcHVwKHsibWF4V2lkdGgiOiAiMTAwJSJ9KTsKCiAgICAgICAgCiAgICAgICAgICAgIHZhciBodG1sXzI3YWZhZDYyZjM5ZTQ0NjhiODdiYTdlM2Y4YTVkNDZmID0gJChgPGRpdiBpZD0iaHRtbF8yN2FmYWQ2MmYzOWU0NDY4Yjg3YmE3ZTNmOGE1ZDQ2ZiIgc3R5bGU9IndpZHRoOiAxMDAuMCU7IGhlaWdodDogMTAwLjAlOyI+V2lsbG93YnJvb2sgLSBSb3NhIFBhcmtzIFN0YXRpb24gLSBNZXRybyBHcmVlbiBMaW5lIDgwMzwvZGl2PmApWzBdOwogICAgICAgICAgICBwb3B1cF9iMjZlZTg5OTViZDQ0YjBmYjE1OTJjZDgzNTk5OWQzMi5zZXRDb250ZW50KGh0bWxfMjdhZmFkNjJmMzllNDQ2OGI4N2JhN2UzZjhhNWQ0NmYpOwogICAgICAgIAoKICAgICAgICBtYXJrZXJfMzQxNzFjZDc5ZDAzNGU5NDg0NWE3MGM2OGM3NzMyZGIuYmluZFBvcHVwKHBvcHVwX2IyNmVlODk5NWJkNDRiMGZiMTU5MmNkODM1OTk5ZDMyKQogICAgICAgIDsKCiAgICAgICAgCiAgICAKICAgIAogICAgICAgICAgICBtYXJrZXJfMzQxNzFjZDc5ZDAzNGU5NDg0NWE3MGM2OGM3NzMyZGIuYmluZFRvb2x0aXAoCiAgICAgICAgICAgICAgICBgPGRpdj4KICAgICAgICAgICAgICAgICAgICAgV2lsbG93YnJvb2sgLSBSb3NhIFBhcmtzIFN0YXRpb24gLSBNZXRybyBHcmVlbiBMaW5lCiAgICAgICAgICAgICAgICAgPC9kaXY+YCwKICAgICAgICAgICAgICAgIHsic3RpY2t5IjogdHJ1ZX0KICAgICAgICAgICAgKTsKICAgICAgICAKICAgIAogICAgICAgICAgICB2YXIgbWFya2VyX2YwMWVhNWU4NTljZDQxMmM5OWY0NTYyZTY1NzEyZGQ5ID0gTC5tYXJrZXIoCiAgICAgICAgICAgICAgICBbMzMuOTI0ODgsIC0xMTguMjA5OTQ1XSwKICAgICAgICAgICAgICAgIHt9CiAgICAgICAgICAgICkuYWRkVG8obWFwX2VmOThkMmExYjY5YjQxZTBhY2VlNTU5NzFkMjhjZDE1KTsKICAgICAgICAKICAgIAogICAgICAgIHZhciBwb3B1cF83ZDRlMjcxYmQ0ZGY0N2FhOTY4OGEwYmYzM2E1ZDMxZSA9IEwucG9wdXAoeyJtYXhXaWR0aCI6ICIxMDAlIn0pOwoKICAgICAgICAKICAgICAgICAgICAgdmFyIGh0bWxfOWUyZDM5OGY0NzEzNGE2OWE3YmQwZTMwZDQ2ZmM4ZmQgPSAkKGA8ZGl2IGlkPSJodG1sXzllMmQzOThmNDcxMzRhNjlhN2JkMGUzMGQ0NmZjOGZkIiBzdHlsZT0id2lkdGg6IDEwMC4wJTsgaGVpZ2h0OiAxMDAuMCU7Ij5Mb25nIEJlYWNoIEJsdmQgU3RhdGlvbiA4MDM8L2Rpdj5gKVswXTsKICAgICAgICAgICAgcG9wdXBfN2Q0ZTI3MWJkNGRmNDdhYTk2ODhhMGJmMzNhNWQzMWUuc2V0Q29udGVudChodG1sXzllMmQzOThmNDcxMzRhNjlhN2JkMGUzMGQ0NmZjOGZkKTsKICAgICAgICAKCiAgICAgICAgbWFya2VyX2YwMWVhNWU4NTljZDQxMmM5OWY0NTYyZTY1NzEyZGQ5LmJpbmRQb3B1cChwb3B1cF83ZDRlMjcxYmQ0ZGY0N2FhOTY4OGEwYmYzM2E1ZDMxZSkKICAgICAgICA7CgogICAgICAgIAogICAgCiAgICAKICAgICAgICAgICAgbWFya2VyX2YwMWVhNWU4NTljZDQxMmM5OWY0NTYyZTY1NzEyZGQ5LmJpbmRUb29sdGlwKAogICAgICAgICAgICAgICAgYDxkaXY+CiAgICAgICAgICAgICAgICAgICAgIExvbmcgQmVhY2ggQmx2ZCBTdGF0aW9uCiAgICAgICAgICAgICAgICAgPC9kaXY+YCwKICAgICAgICAgICAgICAgIHsic3RpY2t5IjogdHJ1ZX0KICAgICAgICAgICAgKTsKICAgICAgICAKICAgIAogICAgICAgICAgICB2YXIgbWFya2VyXzFlNWQ1NTQ1MTFmNDRmODA5NGM1Y2QyNmUxZTFmZmYyID0gTC5tYXJrZXIoCiAgICAgICAgICAgICAgICBbMzMuOTEzMDcsIC0xMTguMTQwNl0sCiAgICAgICAgICAgICAgICB7fQogICAgICAgICAgICApLmFkZFRvKG1hcF9lZjk4ZDJhMWI2OWI0MWUwYWNlZTU1OTcxZDI4Y2QxNSk7CiAgICAgICAgCiAgICAKICAgICAgICB2YXIgcG9wdXBfNGFlN2Q2MmEwMzY0NDlmOGJiZDVjNDM0NDMxY2JmNWEgPSBMLnBvcHVwKHsibWF4V2lkdGgiOiAiMTAwJSJ9KTsKCiAgICAgICAgCiAgICAgICAgICAgIHZhciBodG1sXzk0MTE3ZGY4N2Y3ZDQxYzI5YjNlZTE4ZGVjY2ZlZmQ3ID0gJChgPGRpdiBpZD0iaHRtbF85NDExN2RmODdmN2Q0MWMyOWIzZWUxOGRlY2NmZWZkNyIgc3R5bGU9IndpZHRoOiAxMDAuMCU7IGhlaWdodDogMTAwLjAlOyI+TGFrZXdvb2QgQmx2ZCBTdGF0aW9uIDgwMzwvZGl2PmApWzBdOwogICAgICAgICAgICBwb3B1cF80YWU3ZDYyYTAzNjQ0OWY4YmJkNWM0MzQ0MzFjYmY1YS5zZXRDb250ZW50KGh0bWxfOTQxMTdkZjg3ZjdkNDFjMjliM2VlMThkZWNjZmVmZDcpOwogICAgICAgIAoKICAgICAgICBtYXJrZXJfMWU1ZDU1NDUxMWY0NGY4MDk0YzVjZDI2ZTFlMWZmZjIuYmluZFBvcHVwKHBvcHVwXzRhZTdkNjJhMDM2NDQ5ZjhiYmQ1YzQzNDQzMWNiZjVhKQogICAgICAgIDsKCiAgICAgICAgCiAgICAKICAgIAogICAgICAgICAgICBtYXJrZXJfMWU1ZDU1NDUxMWY0NGY4MDk0YzVjZDI2ZTFlMWZmZjIuYmluZFRvb2x0aXAoCiAgICAgICAgICAgICAgICBgPGRpdj4KICAgICAgICAgICAgICAgICAgICAgTGFrZXdvb2QgQmx2ZCBTdGF0aW9uCiAgICAgICAgICAgICAgICAgPC9kaXY+YCwKICAgICAgICAgICAgICAgIHsic3RpY2t5IjogdHJ1ZX0KICAgICAgICAgICAgKTsKICAgICAgICAKICAgIAogICAgICAgICAgICB2YXIgbWFya2VyXzYxN2ExYjAwZTIwYTRhYjg5MzA0MzllMmYxOGVmZDA3ID0gTC5tYXJrZXIoCiAgICAgICAgICAgICAgICBbMzMuOTE0MDMzLCAtMTE4LjEwNDcxN10sCiAgICAgICAgICAgICAgICB7fQogICAgICAgICAgICApLmFkZFRvKG1hcF9lZjk4ZDJhMWI2OWI0MWUwYWNlZTU1OTcxZDI4Y2QxNSk7CiAgICAgICAgCiAgICAKICAgICAgICB2YXIgcG9wdXBfNzgzY2M0OWNlZjI1NDBlMWIxMTEwYjk3MDBjOTFlYTIgPSBMLnBvcHVwKHsibWF4V2lkdGgiOiAiMTAwJSJ9KTsKCiAgICAgICAgCiAgICAgICAgICAgIHZhciBodG1sX2FlZmRhYWRhMzIxYzQ5NWRiOGM2NWZkNzAxYTgzODdhID0gJChgPGRpdiBpZD0iaHRtbF9hZWZkYWFkYTMyMWM0OTVkYjhjNjVmZDcwMWE4Mzg3YSIgc3R5bGU9IndpZHRoOiAxMDAuMCU7IGhlaWdodDogMTAwLjAlOyI+Tm9yd2FsayBTdGF0aW9uIDgwMzwvZGl2PmApWzBdOwogICAgICAgICAgICBwb3B1cF83ODNjYzQ5Y2VmMjU0MGUxYjExMTBiOTcwMGM5MWVhMi5zZXRDb250ZW50KGh0bWxfYWVmZGFhZGEzMjFjNDk1ZGI4YzY1ZmQ3MDFhODM4N2EpOwogICAgICAgIAoKICAgICAgICBtYXJrZXJfNjE3YTFiMDBlMjBhNGFiODkzMDQzOWUyZjE4ZWZkMDcuYmluZFBvcHVwKHBvcHVwXzc4M2NjNDljZWYyNTQwZTFiMTExMGI5NzAwYzkxZWEyKQogICAgICAgIDsKCiAgICAgICAgCiAgICAKICAgIAogICAgICAgICAgICBtYXJrZXJfNjE3YTFiMDBlMjBhNGFiODkzMDQzOWUyZjE4ZWZkMDcuYmluZFRvb2x0aXAoCiAgICAgICAgICAgICAgICBgPGRpdj4KICAgICAgICAgICAgICAgICAgICAgTm9yd2FsayBTdGF0aW9uCiAgICAgICAgICAgICAgICAgPC9kaXY+YCwKICAgICAgICAgICAgICAgIHsic3RpY2t5IjogdHJ1ZX0KICAgICAgICAgICAgKTsKICAgICAgICAKICAgIAogICAgICAgICAgICB2YXIgbWFya2VyXzI1NDBiMmE5ODdiMjQ2YTJiMmYyM2U0NjE5N2ZkYTk1ID0gTC5tYXJrZXIoCiAgICAgICAgICAgICAgICBbMzQuMDMzMzk4LCAtMTE4LjE1NDQ2OV0sCiAgICAgICAgICAgICAgICB7fQogICAgICAgICAgICApLmFkZFRvKG1hcF9lZjk4ZDJhMWI2OWI0MWUwYWNlZTU1OTcxZDI4Y2QxNSk7CiAgICAgICAgCiAgICAKICAgICAgICB2YXIgcG9wdXBfZDRjZTdmMWQyYjVlNDA0MWFiMDRkNmQ3ZmI4Njk3MjcgPSBMLnBvcHVwKHsibWF4V2lkdGgiOiAiMTAwJSJ9KTsKCiAgICAgICAgCiAgICAgICAgICAgIHZhciBodG1sXzhkMDFiMjA3MjE4ZTQ3N2E5Njc5YTAzYjY5YzU0ZTRkID0gJChgPGRpdiBpZD0iaHRtbF84ZDAxYjIwNzIxOGU0NzdhOTY3OWEwM2I2OWM1NGU0ZCIgc3R5bGU9IndpZHRoOiAxMDAuMCU7IGhlaWdodDogMTAwLjAlOyI+QXRsYW50aWMgU3RhdGlvbiA4MDQ8L2Rpdj5gKVswXTsKICAgICAgICAgICAgcG9wdXBfZDRjZTdmMWQyYjVlNDA0MWFiMDRkNmQ3ZmI4Njk3Mjcuc2V0Q29udGVudChodG1sXzhkMDFiMjA3MjE4ZTQ3N2E5Njc5YTAzYjY5YzU0ZTRkKTsKICAgICAgICAKCiAgICAgICAgbWFya2VyXzI1NDBiMmE5ODdiMjQ2YTJiMmYyM2U0NjE5N2ZkYTk1LmJpbmRQb3B1cChwb3B1cF9kNGNlN2YxZDJiNWU0MDQxYWIwNGQ2ZDdmYjg2OTcyNykKICAgICAgICA7CgogICAgICAgIAogICAgCiAgICAKICAgICAgICAgICAgbWFya2VyXzI1NDBiMmE5ODdiMjQ2YTJiMmYyM2U0NjE5N2ZkYTk1LmJpbmRUb29sdGlwKAogICAgICAgICAgICAgICAgYDxkaXY+CiAgICAgICAgICAgICAgICAgICAgIEF0bGFudGljIFN0YXRpb24KICAgICAgICAgICAgICAgICA8L2Rpdj5gLAogICAgICAgICAgICAgICAgeyJzdGlja3kiOiB0cnVlfQogICAgICAgICAgICApOwogICAgICAgIAogICAgCiAgICAgICAgICAgIHZhciBtYXJrZXJfNmEzMDAzNDY2NTcxNDNlMzlmNGQ2ZTMxOTZkY2Y0YjIgPSBMLm1hcmtlcigKICAgICAgICAgICAgICAgIFszNC4wMzMzNjQsIC0xMTguMTYxMjA2XSwKICAgICAgICAgICAgICAgIHt9CiAgICAgICAgICAgICkuYWRkVG8obWFwX2VmOThkMmExYjY5YjQxZTBhY2VlNTU5NzFkMjhjZDE1KTsKICAgICAgICAKICAgIAogICAgICAgIHZhciBwb3B1cF9lNWQ4YjZkNzU3ODM0Y2I4OTAyYmQ1MGZjNzZjNDFhMCA9IEwucG9wdXAoeyJtYXhXaWR0aCI6ICIxMDAlIn0pOwoKICAgICAgICAKICAgICAgICAgICAgdmFyIGh0bWxfMzJiM2E5MTBkMjZkNGZjZTk2OWUzNzMzMTE3N2Y3MTYgPSAkKGA8ZGl2IGlkPSJodG1sXzMyYjNhOTEwZDI2ZDRmY2U5NjllMzczMzExNzdmNzE2IiBzdHlsZT0id2lkdGg6IDEwMC4wJTsgaGVpZ2h0OiAxMDAuMCU7Ij5FYXN0IExBIENpdmljIENlbnRlciBTdGF0aW9uIDgwNDwvZGl2PmApWzBdOwogICAgICAgICAgICBwb3B1cF9lNWQ4YjZkNzU3ODM0Y2I4OTAyYmQ1MGZjNzZjNDFhMC5zZXRDb250ZW50KGh0bWxfMzJiM2E5MTBkMjZkNGZjZTk2OWUzNzMzMTE3N2Y3MTYpOwogICAgICAgIAoKICAgICAgICBtYXJrZXJfNmEzMDAzNDY2NTcxNDNlMzlmNGQ2ZTMxOTZkY2Y0YjIuYmluZFBvcHVwKHBvcHVwX2U1ZDhiNmQ3NTc4MzRjYjg5MDJiZDUwZmM3NmM0MWEwKQogICAgICAgIDsKCiAgICAgICAgCiAgICAKICAgIAogICAgICAgICAgICBtYXJrZXJfNmEzMDAzNDY2NTcxNDNlMzlmNGQ2ZTMxOTZkY2Y0YjIuYmluZFRvb2x0aXAoCiAgICAgICAgICAgICAgICBgPGRpdj4KICAgICAgICAgICAgICAgICAgICAgRWFzdCBMQSBDaXZpYyBDZW50ZXIgU3RhdGlvbgogICAgICAgICAgICAgICAgIDwvZGl2PmAsCiAgICAgICAgICAgICAgICB7InN0aWNreSI6IHRydWV9CiAgICAgICAgICAgICk7CiAgICAgICAgCiAgICAKICAgICAgICAgICAgdmFyIG1hcmtlcl8zYzI3ZTk4MmQ3Y2E0OTE3YWM4NGEzZjhjMTRkZGY4ZCA9IEwubWFya2VyKAogICAgICAgICAgICAgICAgWzM0LjAzMzMxOSwgLTExOC4xNjgxNF0sCiAgICAgICAgICAgICAgICB7fQogICAgICAgICAgICApLmFkZFRvKG1hcF9lZjk4ZDJhMWI2OWI0MWUwYWNlZTU1OTcxZDI4Y2QxNSk7CiAgICAgICAgCiAgICAKICAgICAgICB2YXIgcG9wdXBfMDJmMGEyYmYwYmM1NDg0NGE0NDM1ZGQ2MzkyNDgyM2MgPSBMLnBvcHVwKHsibWF4V2lkdGgiOiAiMTAwJSJ9KTsKCiAgICAgICAgCiAgICAgICAgICAgIHZhciBodG1sX2RiM2QzZGFlN2MzOTQxZmM4MTc0NDNiZDI4OGNjODZlID0gJChgPGRpdiBpZD0iaHRtbF9kYjNkM2RhZTdjMzk0MWZjODE3NDQzYmQyODhjYzg2ZSIgc3R5bGU9IndpZHRoOiAxMDAuMCU7IGhlaWdodDogMTAwLjAlOyI+TWFyYXZpbGxhIFN0YXRpb24gODA0PC9kaXY+YClbMF07CiAgICAgICAgICAgIHBvcHVwXzAyZjBhMmJmMGJjNTQ4NDRhNDQzNWRkNjM5MjQ4MjNjLnNldENvbnRlbnQoaHRtbF9kYjNkM2RhZTdjMzk0MWZjODE3NDQzYmQyODhjYzg2ZSk7CiAgICAgICAgCgogICAgICAgIG1hcmtlcl8zYzI3ZTk4MmQ3Y2E0OTE3YWM4NGEzZjhjMTRkZGY4ZC5iaW5kUG9wdXAocG9wdXBfMDJmMGEyYmYwYmM1NDg0NGE0NDM1ZGQ2MzkyNDgyM2MpCiAgICAgICAgOwoKICAgICAgICAKICAgIAogICAgCiAgICAgICAgICAgIG1hcmtlcl8zYzI3ZTk4MmQ3Y2E0OTE3YWM4NGEzZjhjMTRkZGY4ZC5iaW5kVG9vbHRpcCgKICAgICAgICAgICAgICAgIGA8ZGl2PgogICAgICAgICAgICAgICAgICAgICBNYXJhdmlsbGEgU3RhdGlvbgogICAgICAgICAgICAgICAgIDwvZGl2PmAsCiAgICAgICAgICAgICAgICB7InN0aWNreSI6IHRydWV9CiAgICAgICAgICAgICk7CiAgICAgICAgCiAgICAKICAgICAgICAgICAgdmFyIG1hcmtlcl9iYmQwMzc4ZmNkMmQ0YjNlOGY3YjRlZTY2YzUzNzlmMiA9IEwubWFya2VyKAogICAgICAgICAgICAgICAgWzM0LjAzNDMsIC0xMTguMTkyMTgyXSwKICAgICAgICAgICAgICAgIHt9CiAgICAgICAgICAgICkuYWRkVG8obWFwX2VmOThkMmExYjY5YjQxZTBhY2VlNTU5NzFkMjhjZDE1KTsKICAgICAgICAKICAgIAogICAgICAgIHZhciBwb3B1cF8wNDdhYjYwZDE2MDU0Zjc5OTg1MTJlOWI2NGY2ZTYxMiA9IEwucG9wdXAoeyJtYXhXaWR0aCI6ICIxMDAlIn0pOwoKICAgICAgICAKICAgICAgICAgICAgdmFyIGh0bWxfYjE3YzdlODA5ZjIwNDIyZDg3NDAzOWJjNzEyODBkNDIgPSAkKGA8ZGl2IGlkPSJodG1sX2IxN2M3ZTgwOWYyMDQyMmQ4NzQwMzliYzcxMjgwZDQyIiBzdHlsZT0id2lkdGg6IDEwMC4wJTsgaGVpZ2h0OiAxMDAuMCU7Ij5JbmRpYW5hIFN0YXRpb24gODA0PC9kaXY+YClbMF07CiAgICAgICAgICAgIHBvcHVwXzA0N2FiNjBkMTYwNTRmNzk5ODUxMmU5YjY0ZjZlNjEyLnNldENvbnRlbnQoaHRtbF9iMTdjN2U4MDlmMjA0MjJkODc0MDM5YmM3MTI4MGQ0Mik7CiAgICAgICAgCgogICAgICAgIG1hcmtlcl9iYmQwMzc4ZmNkMmQ0YjNlOGY3YjRlZTY2YzUzNzlmMi5iaW5kUG9wdXAocG9wdXBfMDQ3YWI2MGQxNjA1NGY3OTk4NTEyZTliNjRmNmU2MTIpCiAgICAgICAgOwoKICAgICAgICAKICAgIAogICAgCiAgICAgICAgICAgIG1hcmtlcl9iYmQwMzc4ZmNkMmQ0YjNlOGY3YjRlZTY2YzUzNzlmMi5iaW5kVG9vbHRpcCgKICAgICAgICAgICAgICAgIGA8ZGl2PgogICAgICAgICAgICAgICAgICAgICBJbmRpYW5hIFN0YXRpb24KICAgICAgICAgICAgICAgICA8L2Rpdj5gLAogICAgICAgICAgICAgICAgeyJzdGlja3kiOiB0cnVlfQogICAgICAgICAgICApOwogICAgICAgIAogICAgCiAgICAgICAgICAgIHZhciBtYXJrZXJfOTI4MTQxOWNjNThkNDRmZDkwNGI0ODNiMTk1OGQ5ODAgPSBMLm1hcmtlcigKICAgICAgICAgICAgICAgIFszNC4wNDM3NDcsIC0xMTguMjEwMDYxXSwKICAgICAgICAgICAgICAgIHt9CiAgICAgICAgICAgICkuYWRkVG8obWFwX2VmOThkMmExYjY5YjQxZTBhY2VlNTU5NzFkMjhjZDE1KTsKICAgICAgICAKICAgIAogICAgICAgIHZhciBwb3B1cF9kNmQ2YzE4YWZkMWU0ODZkYTI2NzRlNjZhMTM2YzA4OSA9IEwucG9wdXAoeyJtYXhXaWR0aCI6ICIxMDAlIn0pOwoKICAgICAgICAKICAgICAgICAgICAgdmFyIGh0bWxfMzg0Mzc5MTg0ZjJmNGFmOGFkYmVmYzdmNzRiNDIwOGEgPSAkKGA8ZGl2IGlkPSJodG1sXzM4NDM3OTE4NGYyZjRhZjhhZGJlZmM3Zjc0YjQyMDhhIiBzdHlsZT0id2lkdGg6IDEwMC4wJTsgaGVpZ2h0OiAxMDAuMCU7Ij5Tb3RvIFN0YXRpb24gODA0PC9kaXY+YClbMF07CiAgICAgICAgICAgIHBvcHVwX2Q2ZDZjMThhZmQxZTQ4NmRhMjY3NGU2NmExMzZjMDg5LnNldENvbnRlbnQoaHRtbF8zODQzNzkxODRmMmY0YWY4YWRiZWZjN2Y3NGI0MjA4YSk7CiAgICAgICAgCgogICAgICAgIG1hcmtlcl85MjgxNDE5Y2M1OGQ0NGZkOTA0YjQ4M2IxOTU4ZDk4MC5iaW5kUG9wdXAocG9wdXBfZDZkNmMxOGFmZDFlNDg2ZGEyNjc0ZTY2YTEzNmMwODkpCiAgICAgICAgOwoKICAgICAgICAKICAgIAogICAgCiAgICAgICAgICAgIG1hcmtlcl85MjgxNDE5Y2M1OGQ0NGZkOTA0YjQ4M2IxOTU4ZDk4MC5iaW5kVG9vbHRpcCgKICAgICAgICAgICAgICAgIGA8ZGl2PgogICAgICAgICAgICAgICAgICAgICBTb3RvIFN0YXRpb24KICAgICAgICAgICAgICAgICA8L2Rpdj5gLAogICAgICAgICAgICAgICAgeyJzdGlja3kiOiB0cnVlfQogICAgICAgICAgICApOwogICAgICAgIAogICAgCiAgICAgICAgICAgIHZhciBtYXJrZXJfMjEzOTIzNjk2ZTNjNDQyYThiNmYxMGE4ZGUwMzkxMTEgPSBMLm1hcmtlcigKICAgICAgICAgICAgICAgIFszNC4wNDcyMTUsIC0xMTguMjE5NjQ4XSwKICAgICAgICAgICAgICAgIHt9CiAgICAgICAgICAgICkuYWRkVG8obWFwX2VmOThkMmExYjY5YjQxZTBhY2VlNTU5NzFkMjhjZDE1KTsKICAgICAgICAKICAgIAogICAgICAgIHZhciBwb3B1cF9lYzY0ZmI0ZGQ2YjQ0MzRmOTg2MmRhMzZlZDlhMTBjMyA9IEwucG9wdXAoeyJtYXhXaWR0aCI6ICIxMDAlIn0pOwoKICAgICAgICAKICAgICAgICAgICAgdmFyIGh0bWxfN2M0N2JhYmMyODBmNGNkYjk5OTNkYzE0ZGNlNGRiZmIgPSAkKGA8ZGl2IGlkPSJodG1sXzdjNDdiYWJjMjgwZjRjZGI5OTkzZGMxNGRjZTRkYmZiIiBzdHlsZT0id2lkdGg6IDEwMC4wJTsgaGVpZ2h0OiAxMDAuMCU7Ij5NYXJpYWNoaSBQbGF6YSAvIEJveWxlIEhlaWdodHMgU3RhdGlvbiA4MDQ8L2Rpdj5gKVswXTsKICAgICAgICAgICAgcG9wdXBfZWM2NGZiNGRkNmI0NDM0Zjk4NjJkYTM2ZWQ5YTEwYzMuc2V0Q29udGVudChodG1sXzdjNDdiYWJjMjgwZjRjZGI5OTkzZGMxNGRjZTRkYmZiKTsKICAgICAgICAKCiAgICAgICAgbWFya2VyXzIxMzkyMzY5NmUzYzQ0MmE4YjZmMTBhOGRlMDM5MTExLmJpbmRQb3B1cChwb3B1cF9lYzY0ZmI0ZGQ2YjQ0MzRmOTg2MmRhMzZlZDlhMTBjMykKICAgICAgICA7CgogICAgICAgIAogICAgCiAgICAKICAgICAgICAgICAgbWFya2VyXzIxMzkyMzY5NmUzYzQ0MmE4YjZmMTBhOGRlMDM5MTExLmJpbmRUb29sdGlwKAogICAgICAgICAgICAgICAgYDxkaXY+CiAgICAgICAgICAgICAgICAgICAgIE1hcmlhY2hpIFBsYXphIC8gQm95bGUgSGVpZ2h0cyBTdGF0aW9uCiAgICAgICAgICAgICAgICAgPC9kaXY+YCwKICAgICAgICAgICAgICAgIHsic3RpY2t5IjogdHJ1ZX0KICAgICAgICAgICAgKTsKICAgICAgICAKICAgIAogICAgICAgICAgICB2YXIgbWFya2VyX2Y3YmEwNmZmNTNhYTQ0Y2RhNmQ1OWExYTEyYTk0YTA5ID0gTC5tYXJrZXIoCiAgICAgICAgICAgICAgICBbMzQuMDQ3NjM0LCAtMTE4LjIyNTk0XSwKICAgICAgICAgICAgICAgIHt9CiAgICAgICAgICAgICkuYWRkVG8obWFwX2VmOThkMmExYjY5YjQxZTBhY2VlNTU5NzFkMjhjZDE1KTsKICAgICAgICAKICAgIAogICAgICAgIHZhciBwb3B1cF9kYjdiYjhkNTQwNzc0N2U4YjNjNzJhZDBmOTZiM2I1MyA9IEwucG9wdXAoeyJtYXhXaWR0aCI6ICIxMDAlIn0pOwoKICAgICAgICAKICAgICAgICAgICAgdmFyIGh0bWxfNzIyMjg4Y2UxYjE5NDc4ZmJkMjRhM2Y0MjUwZGNhYjggPSAkKGA8ZGl2IGlkPSJodG1sXzcyMjI4OGNlMWIxOTQ3OGZiZDI0YTNmNDI1MGRjYWI4IiBzdHlsZT0id2lkdGg6IDEwMC4wJTsgaGVpZ2h0OiAxMDAuMCU7Ij5QaWNvIC8gQWxpc28gU3RhdGlvbiA4MDQ8L2Rpdj5gKVswXTsKICAgICAgICAgICAgcG9wdXBfZGI3YmI4ZDU0MDc3NDdlOGIzYzcyYWQwZjk2YjNiNTMuc2V0Q29udGVudChodG1sXzcyMjI4OGNlMWIxOTQ3OGZiZDI0YTNmNDI1MGRjYWI4KTsKICAgICAgICAKCiAgICAgICAgbWFya2VyX2Y3YmEwNmZmNTNhYTQ0Y2RhNmQ1OWExYTEyYTk0YTA5LmJpbmRQb3B1cChwb3B1cF9kYjdiYjhkNTQwNzc0N2U4YjNjNzJhZDBmOTZiM2I1MykKICAgICAgICA7CgogICAgICAgIAogICAgCiAgICAKICAgICAgICAgICAgbWFya2VyX2Y3YmEwNmZmNTNhYTQ0Y2RhNmQ1OWExYTEyYTk0YTA5LmJpbmRUb29sdGlwKAogICAgICAgICAgICAgICAgYDxkaXY+CiAgICAgICAgICAgICAgICAgICAgIFBpY28gLyBBbGlzbyBTdGF0aW9uCiAgICAgICAgICAgICAgICAgPC9kaXY+YCwKICAgICAgICAgICAgICAgIHsic3RpY2t5IjogdHJ1ZX0KICAgICAgICAgICAgKTsKICAgICAgICAKICAgIAogICAgICAgICAgICB2YXIgbWFya2VyX2JmNDI4YjZmNGU2YTRjMmFiMjMxNjYwNDMyMmZmMzIwID0gTC5tYXJrZXIoCiAgICAgICAgICAgICAgICBbMzQuMDUwMSwgLTExOC4yMzc5MDFdLAogICAgICAgICAgICAgICAge30KICAgICAgICAgICAgKS5hZGRUbyhtYXBfZWY5OGQyYTFiNjliNDFlMGFjZWU1NTk3MWQyOGNkMTUpOwogICAgICAgIAogICAgCiAgICAgICAgdmFyIHBvcHVwXzZkYmM1ZGViNjAyZDRhMGZhZjhmZDY4NWQyNTZmOGJkID0gTC5wb3B1cCh7Im1heFdpZHRoIjogIjEwMCUifSk7CgogICAgICAgIAogICAgICAgICAgICB2YXIgaHRtbF85MGUwZWFjOGQyNzQ0ZGVlODljZTBlYmFlYzk1N2VhYyA9ICQoYDxkaXYgaWQ9Imh0bWxfOTBlMGVhYzhkMjc0NGRlZTg5Y2UwZWJhZWM5NTdlYWMiIHN0eWxlPSJ3aWR0aDogMTAwLjAlOyBoZWlnaHQ6IDEwMC4wJTsiPkxpdHRsZSBUb2t5byAvIEFydHMgRGlzdHJpY3QgU3RhdGlvbiA4MDQ8L2Rpdj5gKVswXTsKICAgICAgICAgICAgcG9wdXBfNmRiYzVkZWI2MDJkNGEwZmFmOGZkNjg1ZDI1NmY4YmQuc2V0Q29udGVudChodG1sXzkwZTBlYWM4ZDI3NDRkZWU4OWNlMGViYWVjOTU3ZWFjKTsKICAgICAgICAKCiAgICAgICAgbWFya2VyX2JmNDI4YjZmNGU2YTRjMmFiMjMxNjYwNDMyMmZmMzIwLmJpbmRQb3B1cChwb3B1cF82ZGJjNWRlYjYwMmQ0YTBmYWY4ZmQ2ODVkMjU2ZjhiZCkKICAgICAgICA7CgogICAgICAgIAogICAgCiAgICAKICAgICAgICAgICAgbWFya2VyX2JmNDI4YjZmNGU2YTRjMmFiMjMxNjYwNDMyMmZmMzIwLmJpbmRUb29sdGlwKAogICAgICAgICAgICAgICAgYDxkaXY+CiAgICAgICAgICAgICAgICAgICAgIExpdHRsZSBUb2t5byAvIEFydHMgRGlzdHJpY3QgU3RhdGlvbgogICAgICAgICAgICAgICAgIDwvZGl2PmAsCiAgICAgICAgICAgICAgICB7InN0aWNreSI6IHRydWV9CiAgICAgICAgICAgICk7CiAgICAgICAgCiAgICAKICAgICAgICAgICAgdmFyIG1hcmtlcl9kMTM5MzA5NWU3YWI0MzViODgzODc2YWFhMDRjYjcxMyA9IEwubWFya2VyKAogICAgICAgICAgICAgICAgWzM0LjA1NjA2MSwgLTExOC4yMzQ3NTldLAogICAgICAgICAgICAgICAge30KICAgICAgICAgICAgKS5hZGRUbyhtYXBfZWY5OGQyYTFiNjliNDFlMGFjZWU1NTk3MWQyOGNkMTUpOwogICAgICAgIAogICAgCiAgICAgICAgdmFyIHBvcHVwXzYwMTliYTc1OGQwNTQ1MjI5ZTQ0MDRlZTc1NzIxZTY3ID0gTC5wb3B1cCh7Im1heFdpZHRoIjogIjEwMCUifSk7CgogICAgICAgIAogICAgICAgICAgICB2YXIgaHRtbF8xMGVjMDZjZDA2OTA0YmMxYWRlYmNhOGVlYTU2NTA0YSA9ICQoYDxkaXYgaWQ9Imh0bWxfMTBlYzA2Y2QwNjkwNGJjMWFkZWJjYThlZWE1NjUwNGEiIHN0eWxlPSJ3aWR0aDogMTAwLjAlOyBoZWlnaHQ6IDEwMC4wJTsiPlVuaW9uIFN0YXRpb24gLSBNZXRybyBHb2xkIExpbmUgODA0PC9kaXY+YClbMF07CiAgICAgICAgICAgIHBvcHVwXzYwMTliYTc1OGQwNTQ1MjI5ZTQ0MDRlZTc1NzIxZTY3LnNldENvbnRlbnQoaHRtbF8xMGVjMDZjZDA2OTA0YmMxYWRlYmNhOGVlYTU2NTA0YSk7CiAgICAgICAgCgogICAgICAgIG1hcmtlcl9kMTM5MzA5NWU3YWI0MzViODgzODc2YWFhMDRjYjcxMy5iaW5kUG9wdXAocG9wdXBfNjAxOWJhNzU4ZDA1NDUyMjllNDQwNGVlNzU3MjFlNjcpCiAgICAgICAgOwoKICAgICAgICAKICAgIAogICAgCiAgICAgICAgICAgIG1hcmtlcl9kMTM5MzA5NWU3YWI0MzViODgzODc2YWFhMDRjYjcxMy5iaW5kVG9vbHRpcCgKICAgICAgICAgICAgICAgIGA8ZGl2PgogICAgICAgICAgICAgICAgICAgICBVbmlvbiBTdGF0aW9uIC0gTWV0cm8gR29sZCBMaW5lCiAgICAgICAgICAgICAgICAgPC9kaXY+YCwKICAgICAgICAgICAgICAgIHsic3RpY2t5IjogdHJ1ZX0KICAgICAgICAgICAgKTsKICAgICAgICAKICAgIAogICAgICAgICAgICB2YXIgbWFya2VyX2Y2YzI1Yjc3MjBjNDQ3YzI4YmEyZWJjMmVjMWFlMTY3ID0gTC5tYXJrZXIoCiAgICAgICAgICAgICAgICBbMzQuMDYzODYxLCAtMTE4LjIzNTg0XSwKICAgICAgICAgICAgICAgIHt9CiAgICAgICAgICAgICkuYWRkVG8obWFwX2VmOThkMmExYjY5YjQxZTBhY2VlNTU5NzFkMjhjZDE1KTsKICAgICAgICAKICAgIAogICAgICAgIHZhciBwb3B1cF9mMzgyNTgyNjU2NmI0NzIyYTliMmUyNWY3OWQ3NTFmOCA9IEwucG9wdXAoeyJtYXhXaWR0aCI6ICIxMDAlIn0pOwoKICAgICAgICAKICAgICAgICAgICAgdmFyIGh0bWxfOWJlOThlNTY3MDdlNDJhNDg2YWVlM2YyOWQ5Yjk1NjkgPSAkKGA8ZGl2IGlkPSJodG1sXzliZTk4ZTU2NzA3ZTQyYTQ4NmFlZTNmMjlkOWI5NTY5IiBzdHlsZT0id2lkdGg6IDEwMC4wJTsgaGVpZ2h0OiAxMDAuMCU7Ij5DaGluYXRvd24gU3RhdGlvbiA4MDQ8L2Rpdj5gKVswXTsKICAgICAgICAgICAgcG9wdXBfZjM4MjU4MjY1NjZiNDcyMmE5YjJlMjVmNzlkNzUxZjguc2V0Q29udGVudChodG1sXzliZTk4ZTU2NzA3ZTQyYTQ4NmFlZTNmMjlkOWI5NTY5KTsKICAgICAgICAKCiAgICAgICAgbWFya2VyX2Y2YzI1Yjc3MjBjNDQ3YzI4YmEyZWJjMmVjMWFlMTY3LmJpbmRQb3B1cChwb3B1cF9mMzgyNTgyNjU2NmI0NzIyYTliMmUyNWY3OWQ3NTFmOCkKICAgICAgICA7CgogICAgICAgIAogICAgCiAgICAKICAgICAgICAgICAgbWFya2VyX2Y2YzI1Yjc3MjBjNDQ3YzI4YmEyZWJjMmVjMWFlMTY3LmJpbmRUb29sdGlwKAogICAgICAgICAgICAgICAgYDxkaXY+CiAgICAgICAgICAgICAgICAgICAgIENoaW5hdG93biBTdGF0aW9uCiAgICAgICAgICAgICAgICAgPC9kaXY+YCwKICAgICAgICAgICAgICAgIHsic3RpY2t5IjogdHJ1ZX0KICAgICAgICAgICAgKTsKICAgICAgICAKICAgIAogICAgICAgICAgICB2YXIgbWFya2VyXzAwZTA0NzU4MGM2ZTRjMmJiNjc0Y2VlNWExYTEwMzBlID0gTC5tYXJrZXIoCiAgICAgICAgICAgICAgICBbMzQuMDgwOTQ5LCAtMTE4LjIyMDQyOV0sCiAgICAgICAgICAgICAgICB7fQogICAgICAgICAgICApLmFkZFRvKG1hcF9lZjk4ZDJhMWI2OWI0MWUwYWNlZTU1OTcxZDI4Y2QxNSk7CiAgICAgICAgCiAgICAKICAgICAgICB2YXIgcG9wdXBfYWRhYjEyMTNlYzJiNDg2NGJmNzhhZTllNWZmZDUyMzMgPSBMLnBvcHVwKHsibWF4V2lkdGgiOiAiMTAwJSJ9KTsKCiAgICAgICAgCiAgICAgICAgICAgIHZhciBodG1sXzUzYWUzYWQwZDJlMjQxZmY5ZDIzODBlMzExNmI3YzE4ID0gJChgPGRpdiBpZD0iaHRtbF81M2FlM2FkMGQyZTI0MWZmOWQyMzgwZTMxMTZiN2MxOCIgc3R5bGU9IndpZHRoOiAxMDAuMCU7IGhlaWdodDogMTAwLjAlOyI+TGluY29sbiBIZWlnaHRzIC8gQ3lwcmVzcyBQYXJrIFN0YXRpb24gODA0PC9kaXY+YClbMF07CiAgICAgICAgICAgIHBvcHVwX2FkYWIxMjEzZWMyYjQ4NjRiZjc4YWU5ZTVmZmQ1MjMzLnNldENvbnRlbnQoaHRtbF81M2FlM2FkMGQyZTI0MWZmOWQyMzgwZTMxMTZiN2MxOCk7CiAgICAgICAgCgogICAgICAgIG1hcmtlcl8wMGUwNDc1ODBjNmU0YzJiYjY3NGNlZTVhMWExMDMwZS5iaW5kUG9wdXAocG9wdXBfYWRhYjEyMTNlYzJiNDg2NGJmNzhhZTllNWZmZDUyMzMpCiAgICAgICAgOwoKICAgICAgICAKICAgIAogICAgCiAgICAgICAgICAgIG1hcmtlcl8wMGUwNDc1ODBjNmU0YzJiYjY3NGNlZTVhMWExMDMwZS5iaW5kVG9vbHRpcCgKICAgICAgICAgICAgICAgIGA8ZGl2PgogICAgICAgICAgICAgICAgICAgICBMaW5jb2xuIEhlaWdodHMgLyBDeXByZXNzIFBhcmsgU3RhdGlvbgogICAgICAgICAgICAgICAgIDwvZGl2PmAsCiAgICAgICAgICAgICAgICB7InN0aWNreSI6IHRydWV9CiAgICAgICAgICAgICk7CiAgICAgICAgCiAgICAKICAgICAgICAgICAgdmFyIG1hcmtlcl9mNzY2OGFlY2ViMDI0ZTNjOTdlN2I2NWUzYjFkNjAxNyA9IEwubWFya2VyKAogICAgICAgICAgICAgICAgWzM0LjA4NzIyNywgLTExOC4yMTMyMTNdLAogICAgICAgICAgICAgICAge30KICAgICAgICAgICAgKS5hZGRUbyhtYXBfZWY5OGQyYTFiNjliNDFlMGFjZWU1NTk3MWQyOGNkMTUpOwogICAgICAgIAogICAgCiAgICAgICAgdmFyIHBvcHVwXzA0MjVlOWJmZDFlZjQ5NTBhY2Q2YTQ2YTNlN2Y3ZTk1ID0gTC5wb3B1cCh7Im1heFdpZHRoIjogIjEwMCUifSk7CgogICAgICAgIAogICAgICAgICAgICB2YXIgaHRtbF9hMGU0NDAxZTlhYTI0ODYzYjI3YzAwYmE4ZDU1ZTQ5YiA9ICQoYDxkaXYgaWQ9Imh0bWxfYTBlNDQwMWU5YWEyNDg2M2IyN2MwMGJhOGQ1NWU0OWIiIHN0eWxlPSJ3aWR0aDogMTAwLjAlOyBoZWlnaHQ6IDEwMC4wJTsiPkhlcml0YWdlIFNxdWFyZSAvIEFycm95byBTdGF0aW9uIDgwNDwvZGl2PmApWzBdOwogICAgICAgICAgICBwb3B1cF8wNDI1ZTliZmQxZWY0OTUwYWNkNmE0NmEzZTdmN2U5NS5zZXRDb250ZW50KGh0bWxfYTBlNDQwMWU5YWEyNDg2M2IyN2MwMGJhOGQ1NWU0OWIpOwogICAgICAgIAoKICAgICAgICBtYXJrZXJfZjc2NjhhZWNlYjAyNGUzYzk3ZTdiNjVlM2IxZDYwMTcuYmluZFBvcHVwKHBvcHVwXzA0MjVlOWJmZDFlZjQ5NTBhY2Q2YTQ2YTNlN2Y3ZTk1KQogICAgICAgIDsKCiAgICAgICAgCiAgICAKICAgIAogICAgICAgICAgICBtYXJrZXJfZjc2NjhhZWNlYjAyNGUzYzk3ZTdiNjVlM2IxZDYwMTcuYmluZFRvb2x0aXAoCiAgICAgICAgICAgICAgICBgPGRpdj4KICAgICAgICAgICAgICAgICAgICAgSGVyaXRhZ2UgU3F1YXJlIC8gQXJyb3lvIFN0YXRpb24KICAgICAgICAgICAgICAgICA8L2Rpdj5gLAogICAgICAgICAgICAgICAgeyJzdGlja3kiOiB0cnVlfQogICAgICAgICAgICApOwogICAgICAgIAogICAgCiAgICAgICAgICAgIHZhciBtYXJrZXJfNjM0YjhmY2FjYTM1NGE1NGFhMGY3YzE0ZDdjNTlkYTMgPSBMLm1hcmtlcigKICAgICAgICAgICAgICAgIFszNC4wOTgyNDMsIC0xMTguMjA2NzEyXSwKICAgICAgICAgICAgICAgIHt9CiAgICAgICAgICAgICkuYWRkVG8obWFwX2VmOThkMmExYjY5YjQxZTBhY2VlNTU5NzFkMjhjZDE1KTsKICAgICAgICAKICAgIAogICAgICAgIHZhciBwb3B1cF9iNWI3ZmIyYWMxYjE0ZTliOThjZjhiYjRmOTEwZTFlOCA9IEwucG9wdXAoeyJtYXhXaWR0aCI6ICIxMDAlIn0pOwoKICAgICAgICAKICAgICAgICAgICAgdmFyIGh0bWxfZGI2NWVhOGU1ZGQ5NDliN2JjY2E5NGJjNzljNjNiNDggPSAkKGA8ZGl2IGlkPSJodG1sX2RiNjVlYThlNWRkOTQ5YjdiY2NhOTRiYzc5YzYzYjQ4IiBzdHlsZT0id2lkdGg6IDEwMC4wJTsgaGVpZ2h0OiAxMDAuMCU7Ij5Tb3V0aHdlc3QgTXVzZXVtIFN0YXRpb24gODA0PC9kaXY+YClbMF07CiAgICAgICAgICAgIHBvcHVwX2I1YjdmYjJhYzFiMTRlOWI5OGNmOGJiNGY5MTBlMWU4LnNldENvbnRlbnQoaHRtbF9kYjY1ZWE4ZTVkZDk0OWI3YmNjYTk0YmM3OWM2M2I0OCk7CiAgICAgICAgCgogICAgICAgIG1hcmtlcl82MzRiOGZjYWNhMzU0YTU0YWEwZjdjMTRkN2M1OWRhMy5iaW5kUG9wdXAocG9wdXBfYjViN2ZiMmFjMWIxNGU5Yjk4Y2Y4YmI0ZjkxMGUxZTgpCiAgICAgICAgOwoKICAgICAgICAKICAgIAogICAgCiAgICAgICAgICAgIG1hcmtlcl82MzRiOGZjYWNhMzU0YTU0YWEwZjdjMTRkN2M1OWRhMy5iaW5kVG9vbHRpcCgKICAgICAgICAgICAgICAgIGA8ZGl2PgogICAgICAgICAgICAgICAgICAgICBTb3V0aHdlc3QgTXVzZXVtIFN0YXRpb24KICAgICAgICAgICAgICAgICA8L2Rpdj5gLAogICAgICAgICAgICAgICAgeyJzdGlja3kiOiB0cnVlfQogICAgICAgICAgICApOwogICAgICAgIAogICAgCiAgICAgICAgICAgIHZhciBtYXJrZXJfMGMzYjA5MzkwM2MyNGI2NDg3ZTAyZjAwODY0NGUwODIgPSBMLm1hcmtlcigKICAgICAgICAgICAgICAgIFszNC4xMTExNzksIC0xMTguMTkyNjA2XSwKICAgICAgICAgICAgICAgIHt9CiAgICAgICAgICAgICkuYWRkVG8obWFwX2VmOThkMmExYjY5YjQxZTBhY2VlNTU5NzFkMjhjZDE1KTsKICAgICAgICAKICAgIAogICAgICAgIHZhciBwb3B1cF82MTEzZjUyNTI3N2M0NjFmYjE0YmIzNzZhMWU1ZTRiMSA9IEwucG9wdXAoeyJtYXhXaWR0aCI6ICIxMDAlIn0pOwoKICAgICAgICAKICAgICAgICAgICAgdmFyIGh0bWxfOTAyMDg5YTBiNTBiNDViNmI0NzAwODJjYjQwM2NhZjkgPSAkKGA8ZGl2IGlkPSJodG1sXzkwMjA4OWEwYjUwYjQ1YjZiNDcwMDgyY2I0MDNjYWY5IiBzdHlsZT0id2lkdGg6IDEwMC4wJTsgaGVpZ2h0OiAxMDAuMCU7Ij5IaWdobGFuZCBQYXJrIFN0YXRpb24gODA0PC9kaXY+YClbMF07CiAgICAgICAgICAgIHBvcHVwXzYxMTNmNTI1Mjc3YzQ2MWZiMTRiYjM3NmExZTVlNGIxLnNldENvbnRlbnQoaHRtbF85MDIwODlhMGI1MGI0NWI2YjQ3MDA4MmNiNDAzY2FmOSk7CiAgICAgICAgCgogICAgICAgIG1hcmtlcl8wYzNiMDkzOTAzYzI0YjY0ODdlMDJmMDA4NjQ0ZTA4Mi5iaW5kUG9wdXAocG9wdXBfNjExM2Y1MjUyNzdjNDYxZmIxNGJiMzc2YTFlNWU0YjEpCiAgICAgICAgOwoKICAgICAgICAKICAgIAogICAgCiAgICAgICAgICAgIG1hcmtlcl8wYzNiMDkzOTAzYzI0YjY0ODdlMDJmMDA4NjQ0ZTA4Mi5iaW5kVG9vbHRpcCgKICAgICAgICAgICAgICAgIGA8ZGl2PgogICAgICAgICAgICAgICAgICAgICBIaWdobGFuZCBQYXJrIFN0YXRpb24KICAgICAgICAgICAgICAgICA8L2Rpdj5gLAogICAgICAgICAgICAgICAgeyJzdGlja3kiOiB0cnVlfQogICAgICAgICAgICApOwogICAgICAgIAogICAgCiAgICAgICAgICAgIHZhciBtYXJrZXJfMWQ0ZDhkNzMxYzI4NDg1ZmI1ZTU1M2ZkM2ZhYzA3NjMgPSBMLm1hcmtlcigKICAgICAgICAgICAgICAgIFszNC4xMTUxODYsIC0xMTguMTU3ODg2XSwKICAgICAgICAgICAgICAgIHt9CiAgICAgICAgICAgICkuYWRkVG8obWFwX2VmOThkMmExYjY5YjQxZTBhY2VlNTU5NzFkMjhjZDE1KTsKICAgICAgICAKICAgIAogICAgICAgIHZhciBwb3B1cF85ODk2MTIyZWM4ODI0YmRkYTlmYWE3M2Y1ZjI2YzVhNCA9IEwucG9wdXAoeyJtYXhXaWR0aCI6ICIxMDAlIn0pOwoKICAgICAgICAKICAgICAgICAgICAgdmFyIGh0bWxfZjMzNGU1Nzg4MTI0NDU2MDhhOWIyMjJlY2JkYjM1MmIgPSAkKGA8ZGl2IGlkPSJodG1sX2YzMzRlNTc4ODEyNDQ1NjA4YTliMjIyZWNiZGIzNTJiIiBzdHlsZT0id2lkdGg6IDEwMC4wJTsgaGVpZ2h0OiAxMDAuMCU7Ij5Tb3V0aCBQYXNhZGVuYSBTdGF0aW9uIDgwNDwvZGl2PmApWzBdOwogICAgICAgICAgICBwb3B1cF85ODk2MTIyZWM4ODI0YmRkYTlmYWE3M2Y1ZjI2YzVhNC5zZXRDb250ZW50KGh0bWxfZjMzNGU1Nzg4MTI0NDU2MDhhOWIyMjJlY2JkYjM1MmIpOwogICAgICAgIAoKICAgICAgICBtYXJrZXJfMWQ0ZDhkNzMxYzI4NDg1ZmI1ZTU1M2ZkM2ZhYzA3NjMuYmluZFBvcHVwKHBvcHVwXzk4OTYxMjJlYzg4MjRiZGRhOWZhYTczZjVmMjZjNWE0KQogICAgICAgIDsKCiAgICAgICAgCiAgICAKICAgIAogICAgICAgICAgICBtYXJrZXJfMWQ0ZDhkNzMxYzI4NDg1ZmI1ZTU1M2ZkM2ZhYzA3NjMuYmluZFRvb2x0aXAoCiAgICAgICAgICAgICAgICBgPGRpdj4KICAgICAgICAgICAgICAgICAgICAgU291dGggUGFzYWRlbmEgU3RhdGlvbgogICAgICAgICAgICAgICAgIDwvZGl2PmAsCiAgICAgICAgICAgICAgICB7InN0aWNreSI6IHRydWV9CiAgICAgICAgICAgICk7CiAgICAgICAgCiAgICAKICAgICAgICAgICAgdmFyIG1hcmtlcl9hZWE5ODQ4YWEzNTU0ZWFkYjkyZjdmOTEzNmRjZGQ5MyA9IEwubWFya2VyKAogICAgICAgICAgICAgICAgWzM0LjEzMzUyMSwgLTExOC4xNDgxMjZdLAogICAgICAgICAgICAgICAge30KICAgICAgICAgICAgKS5hZGRUbyhtYXBfZWY5OGQyYTFiNjliNDFlMGFjZWU1NTk3MWQyOGNkMTUpOwogICAgICAgIAogICAgCiAgICAgICAgdmFyIHBvcHVwX2ZmMzM3M2Y4MGQ0NjQ1YTI5ZWU4MDJiZWQ4MGFlNTgxID0gTC5wb3B1cCh7Im1heFdpZHRoIjogIjEwMCUifSk7CgogICAgICAgIAogICAgICAgICAgICB2YXIgaHRtbF84MjYxMDBkMmM5MDE0MjM2YjllNmVhZjNlOGM5Yjk5ZiA9ICQoYDxkaXYgaWQ9Imh0bWxfODI2MTAwZDJjOTAxNDIzNmI5ZTZlYWYzZThjOWI5OWYiIHN0eWxlPSJ3aWR0aDogMTAwLjAlOyBoZWlnaHQ6IDEwMC4wJTsiPkZpbGxtb3JlIFN0YXRpb24gODA0PC9kaXY+YClbMF07CiAgICAgICAgICAgIHBvcHVwX2ZmMzM3M2Y4MGQ0NjQ1YTI5ZWU4MDJiZWQ4MGFlNTgxLnNldENvbnRlbnQoaHRtbF84MjYxMDBkMmM5MDE0MjM2YjllNmVhZjNlOGM5Yjk5Zik7CiAgICAgICAgCgogICAgICAgIG1hcmtlcl9hZWE5ODQ4YWEzNTU0ZWFkYjkyZjdmOTEzNmRjZGQ5My5iaW5kUG9wdXAocG9wdXBfZmYzMzczZjgwZDQ2NDVhMjllZTgwMmJlZDgwYWU1ODEpCiAgICAgICAgOwoKICAgICAgICAKICAgIAogICAgCiAgICAgICAgICAgIG1hcmtlcl9hZWE5ODQ4YWEzNTU0ZWFkYjkyZjdmOTEzNmRjZGQ5My5iaW5kVG9vbHRpcCgKICAgICAgICAgICAgICAgIGA8ZGl2PgogICAgICAgICAgICAgICAgICAgICBGaWxsbW9yZSBTdGF0aW9uCiAgICAgICAgICAgICAgICAgPC9kaXY+YCwKICAgICAgICAgICAgICAgIHsic3RpY2t5IjogdHJ1ZX0KICAgICAgICAgICAgKTsKICAgICAgICAKICAgIAogICAgICAgICAgICB2YXIgbWFya2VyX2NmZDk4ZTlmNDRiNTRmODY5ZDhmNjM3YjJmMDQ3ZGIzID0gTC5tYXJrZXIoCiAgICAgICAgICAgICAgICBbMzQuMTQxOTEsIC0xMTguMTQ4MjE0XSwKICAgICAgICAgICAgICAgIHt9CiAgICAgICAgICAgICkuYWRkVG8obWFwX2VmOThkMmExYjY5YjQxZTBhY2VlNTU5NzFkMjhjZDE1KTsKICAgICAgICAKICAgIAogICAgICAgIHZhciBwb3B1cF8yYTczOGZkYmQyYmI0ZGI0YmJlZTVhZWQ2NzBhNTYxMCA9IEwucG9wdXAoeyJtYXhXaWR0aCI6ICIxMDAlIn0pOwoKICAgICAgICAKICAgICAgICAgICAgdmFyIGh0bWxfNTBhNzgzZmMxY2IyNGU5OGFmNDAyYzlhOGVlYTM4MWMgPSAkKGA8ZGl2IGlkPSJodG1sXzUwYTc4M2ZjMWNiMjRlOThhZjQwMmM5YThlZWEzODFjIiBzdHlsZT0id2lkdGg6IDEwMC4wJTsgaGVpZ2h0OiAxMDAuMCU7Ij5EZWwgTWFyIFN0YXRpb24gODA0PC9kaXY+YClbMF07CiAgICAgICAgICAgIHBvcHVwXzJhNzM4ZmRiZDJiYjRkYjRiYmVlNWFlZDY3MGE1NjEwLnNldENvbnRlbnQoaHRtbF81MGE3ODNmYzFjYjI0ZTk4YWY0MDJjOWE4ZWVhMzgxYyk7CiAgICAgICAgCgogICAgICAgIG1hcmtlcl9jZmQ5OGU5ZjQ0YjU0Zjg2OWQ4ZjYzN2IyZjA0N2RiMy5iaW5kUG9wdXAocG9wdXBfMmE3MzhmZGJkMmJiNGRiNGJiZWU1YWVkNjcwYTU2MTApCiAgICAgICAgOwoKICAgICAgICAKICAgIAogICAgCiAgICAgICAgICAgIG1hcmtlcl9jZmQ5OGU5ZjQ0YjU0Zjg2OWQ4ZjYzN2IyZjA0N2RiMy5iaW5kVG9vbHRpcCgKICAgICAgICAgICAgICAgIGA8ZGl2PgogICAgICAgICAgICAgICAgICAgICBEZWwgTWFyIFN0YXRpb24KICAgICAgICAgICAgICAgICA8L2Rpdj5gLAogICAgICAgICAgICAgICAgeyJzdGlja3kiOiB0cnVlfQogICAgICAgICAgICApOwogICAgICAgIAogICAgCiAgICAgICAgICAgIHZhciBtYXJrZXJfZjlhNWEwMjIxZjUyNDBkMTg4MGI4MDU5YjZlYTljYWUgPSBMLm1hcmtlcigKICAgICAgICAgICAgICAgIFszNC4xNDgzNTYsIC0xMTguMTQ3NTEyXSwKICAgICAgICAgICAgICAgIHt9CiAgICAgICAgICAgICkuYWRkVG8obWFwX2VmOThkMmExYjY5YjQxZTBhY2VlNTU5NzFkMjhjZDE1KTsKICAgICAgICAKICAgIAogICAgICAgIHZhciBwb3B1cF9mMTIzMmM4ZmRhYmU0MTgyYjYzYjE1NDM0MDQ2YzgwOSA9IEwucG9wdXAoeyJtYXhXaWR0aCI6ICIxMDAlIn0pOwoKICAgICAgICAKICAgICAgICAgICAgdmFyIGh0bWxfOGNlNWRlMDdjYmQyNGJjZDliYWI0NTQ0YTY0ODEwYmQgPSAkKGA8ZGl2IGlkPSJodG1sXzhjZTVkZTA3Y2JkMjRiY2Q5YmFiNDU0NGE2NDgxMGJkIiBzdHlsZT0id2lkdGg6IDEwMC4wJTsgaGVpZ2h0OiAxMDAuMCU7Ij5NZW1vcmlhbCBQYXJrIFN0YXRpb24gODA0PC9kaXY+YClbMF07CiAgICAgICAgICAgIHBvcHVwX2YxMjMyYzhmZGFiZTQxODJiNjNiMTU0MzQwNDZjODA5LnNldENvbnRlbnQoaHRtbF84Y2U1ZGUwN2NiZDI0YmNkOWJhYjQ1NDRhNjQ4MTBiZCk7CiAgICAgICAgCgogICAgICAgIG1hcmtlcl9mOWE1YTAyMjFmNTI0MGQxODgwYjgwNTliNmVhOWNhZS5iaW5kUG9wdXAocG9wdXBfZjEyMzJjOGZkYWJlNDE4MmI2M2IxNTQzNDA0NmM4MDkpCiAgICAgICAgOwoKICAgICAgICAKICAgIAogICAgCiAgICAgICAgICAgIG1hcmtlcl9mOWE1YTAyMjFmNTI0MGQxODgwYjgwNTliNmVhOWNhZS5iaW5kVG9vbHRpcCgKICAgICAgICAgICAgICAgIGA8ZGl2PgogICAgICAgICAgICAgICAgICAgICBNZW1vcmlhbCBQYXJrIFN0YXRpb24KICAgICAgICAgICAgICAgICA8L2Rpdj5gLAogICAgICAgICAgICAgICAgeyJzdGlja3kiOiB0cnVlfQogICAgICAgICAgICApOwogICAgICAgIAogICAgCiAgICAgICAgICAgIHZhciBtYXJrZXJfZjJlZWFlYmQ4NmU3NGUyZThiNTJkODJhNTYwNDBhNTcgPSBMLm1hcmtlcigKICAgICAgICAgICAgICAgIFszNC4xNTE4MDYsIC0xMTguMTMxMzldLAogICAgICAgICAgICAgICAge30KICAgICAgICAgICAgKS5hZGRUbyhtYXBfZWY5OGQyYTFiNjliNDFlMGFjZWU1NTk3MWQyOGNkMTUpOwogICAgICAgIAogICAgCiAgICAgICAgdmFyIHBvcHVwXzY3NWUyODA0ODMzOTQ0ZGViY2JkZjdiMTE2NDcyMzgzID0gTC5wb3B1cCh7Im1heFdpZHRoIjogIjEwMCUifSk7CgogICAgICAgIAogICAgICAgICAgICB2YXIgaHRtbF8xNzg5MjkyZTNhODk0NzYyODM1MGI3ZGJmZTFlZmRlYyA9ICQoYDxkaXYgaWQ9Imh0bWxfMTc4OTI5MmUzYTg5NDc2MjgzNTBiN2RiZmUxZWZkZWMiIHN0eWxlPSJ3aWR0aDogMTAwLjAlOyBoZWlnaHQ6IDEwMC4wJTsiPkxha2UgU3RhdGlvbiA4MDQ8L2Rpdj5gKVswXTsKICAgICAgICAgICAgcG9wdXBfNjc1ZTI4MDQ4MzM5NDRkZWJjYmRmN2IxMTY0NzIzODMuc2V0Q29udGVudChodG1sXzE3ODkyOTJlM2E4OTQ3NjI4MzUwYjdkYmZlMWVmZGVjKTsKICAgICAgICAKCiAgICAgICAgbWFya2VyX2YyZWVhZWJkODZlNzRlMmU4YjUyZDgyYTU2MDQwYTU3LmJpbmRQb3B1cChwb3B1cF82NzVlMjgwNDgzMzk0NGRlYmNiZGY3YjExNjQ3MjM4MykKICAgICAgICA7CgogICAgICAgIAogICAgCiAgICAKICAgICAgICAgICAgbWFya2VyX2YyZWVhZWJkODZlNzRlMmU4YjUyZDgyYTU2MDQwYTU3LmJpbmRUb29sdGlwKAogICAgICAgICAgICAgICAgYDxkaXY+CiAgICAgICAgICAgICAgICAgICAgIExha2UgU3RhdGlvbgogICAgICAgICAgICAgICAgIDwvZGl2PmAsCiAgICAgICAgICAgICAgICB7InN0aWNreSI6IHRydWV9CiAgICAgICAgICAgICk7CiAgICAgICAgCiAgICAKICAgICAgICAgICAgdmFyIG1hcmtlcl9lNTBhNTdmNWViZmI0ZGM1YjM1ZWE0YTk4YTVhMjRlNSA9IEwubWFya2VyKAogICAgICAgICAgICAgICAgWzM0LjE1MjQxNywgLTExOC4xMTQzNDhdLAogICAgICAgICAgICAgICAge30KICAgICAgICAgICAgKS5hZGRUbyhtYXBfZWY5OGQyYTFiNjliNDFlMGFjZWU1NTk3MWQyOGNkMTUpOwogICAgICAgIAogICAgCiAgICAgICAgdmFyIHBvcHVwX2U3Njc5NzhlNjY0NDRiOTZhZjVkMzU2NmZiMjJmYTdhID0gTC5wb3B1cCh7Im1heFdpZHRoIjogIjEwMCUifSk7CgogICAgICAgIAogICAgICAgICAgICB2YXIgaHRtbF8wN2IyN2UyZTU3NWQ0ODkyYThiMGVjMWY1YjY2MzAzZiA9ICQoYDxkaXYgaWQ9Imh0bWxfMDdiMjdlMmU1NzVkNDg5MmE4YjBlYzFmNWI2NjMwM2YiIHN0eWxlPSJ3aWR0aDogMTAwLjAlOyBoZWlnaHQ6IDEwMC4wJTsiPkFsbGVuIFN0YXRpb24gODA0PC9kaXY+YClbMF07CiAgICAgICAgICAgIHBvcHVwX2U3Njc5NzhlNjY0NDRiOTZhZjVkMzU2NmZiMjJmYTdhLnNldENvbnRlbnQoaHRtbF8wN2IyN2UyZTU3NWQ0ODkyYThiMGVjMWY1YjY2MzAzZik7CiAgICAgICAgCgogICAgICAgIG1hcmtlcl9lNTBhNTdmNWViZmI0ZGM1YjM1ZWE0YTk4YTVhMjRlNS5iaW5kUG9wdXAocG9wdXBfZTc2Nzk3OGU2NjQ0NGI5NmFmNWQzNTY2ZmIyMmZhN2EpCiAgICAgICAgOwoKICAgICAgICAKICAgIAogICAgCiAgICAgICAgICAgIG1hcmtlcl9lNTBhNTdmNWViZmI0ZGM1YjM1ZWE0YTk4YTVhMjRlNS5iaW5kVG9vbHRpcCgKICAgICAgICAgICAgICAgIGA8ZGl2PgogICAgICAgICAgICAgICAgICAgICBBbGxlbiBTdGF0aW9uCiAgICAgICAgICAgICAgICAgPC9kaXY+YCwKICAgICAgICAgICAgICAgIHsic3RpY2t5IjogdHJ1ZX0KICAgICAgICAgICAgKTsKICAgICAgICAKICAgIAogICAgICAgICAgICB2YXIgbWFya2VyXzBjMzYwZjQ5ZWZiMDRkOTRiOTJjNWZmMjZiZGU4MTgxID0gTC5tYXJrZXIoCiAgICAgICAgICAgICAgICBbMzQuMTQ3NzUyLCAtMTE4LjA4MTIxMl0sCiAgICAgICAgICAgICAgICB7fQogICAgICAgICAgICApLmFkZFRvKG1hcF9lZjk4ZDJhMWI2OWI0MWUwYWNlZTU1OTcxZDI4Y2QxNSk7CiAgICAgICAgCiAgICAKICAgICAgICB2YXIgcG9wdXBfNDlkODNhZTNiMTkwNDgzYWE3YzYzNTFlMTNlNTQzMDAgPSBMLnBvcHVwKHsibWF4V2lkdGgiOiAiMTAwJSJ9KTsKCiAgICAgICAgCiAgICAgICAgICAgIHZhciBodG1sX2U5YzRiMjdmZGRjYjRmNDE5M2M4MmZiZWRlZjU0N2E0ID0gJChgPGRpdiBpZD0iaHRtbF9lOWM0YjI3ZmRkY2I0ZjQxOTNjODJmYmVkZWY1NDdhNCIgc3R5bGU9IndpZHRoOiAxMDAuMCU7IGhlaWdodDogMTAwLjAlOyI+U2llcnJhIE1hZHJlIFZpbGxhIFN0YXRpb24gODA0PC9kaXY+YClbMF07CiAgICAgICAgICAgIHBvcHVwXzQ5ZDgzYWUzYjE5MDQ4M2FhN2M2MzUxZTEzZTU0MzAwLnNldENvbnRlbnQoaHRtbF9lOWM0YjI3ZmRkY2I0ZjQxOTNjODJmYmVkZWY1NDdhNCk7CiAgICAgICAgCgogICAgICAgIG1hcmtlcl8wYzM2MGY0OWVmYjA0ZDk0YjkyYzVmZjI2YmRlODE4MS5iaW5kUG9wdXAocG9wdXBfNDlkODNhZTNiMTkwNDgzYWE3YzYzNTFlMTNlNTQzMDApCiAgICAgICAgOwoKICAgICAgICAKICAgIAogICAgCiAgICAgICAgICAgIG1hcmtlcl8wYzM2MGY0OWVmYjA0ZDk0YjkyYzVmZjI2YmRlODE4MS5iaW5kVG9vbHRpcCgKICAgICAgICAgICAgICAgIGA8ZGl2PgogICAgICAgICAgICAgICAgICAgICBTaWVycmEgTWFkcmUgVmlsbGEgU3RhdGlvbgogICAgICAgICAgICAgICAgIDwvZGl2PmAsCiAgICAgICAgICAgICAgICB7InN0aWNreSI6IHRydWV9CiAgICAgICAgICAgICk7CiAgICAgICAgCjwvc2NyaXB0Pg== onload=\"this.contentDocument.open();this.contentDocument.write(atob(this.getAttribute('data-html')));this.contentDocument.close();\" allowfullscreen webkitallowfullscreen mozallowfullscreen></iframe></div></div>"
      ],
      "text/plain": [
       "<folium.folium.Map at 0x7f5f40a8e820>"
      ]
     },
     "execution_count": 37,
     "metadata": {},
     "output_type": "execute_result"
    }
   ],
   "source": [
    "# add the stations\n",
    "for index, row in metro_trimmed.iterrows():\n",
    "    folium.Marker([row.LAT,row.LONG], popup=row.STATION+' '+str(row.LINENUM), tooltip=row.STATION).add_to(m)\n",
    "m"
   ]
  },
  {
   "cell_type": "markdown",
   "metadata": {},
   "source": [
    "## Color code markers\n",
    "That's great, but can we color code the markers so that they correspond to their metro lines?\n",
    "\n",
    "To do so:\n",
    "\n",
    "1. create a new column `color`\n",
    "1. add a color of choice based on the LINE that each row represents"
   ]
  },
  {
   "cell_type": "code",
   "execution_count": 38,
   "metadata": {
    "slideshow": {
     "slide_type": "slide"
    }
   },
   "outputs": [
    {
     "name": "stderr",
     "output_type": "stream",
     "text": [
      "/opt/conda/lib/python3.8/site-packages/geopandas/geodataframe.py:853: SettingWithCopyWarning: \n",
      "A value is trying to be set on a copy of a slice from a DataFrame.\n",
      "Try using .loc[row_indexer,col_indexer] = value instead\n",
      "\n",
      "See the caveats in the documentation: https://pandas.pydata.org/pandas-docs/stable/user_guide/indexing.html#returning-a-view-versus-a-copy\n",
      "  super(GeoDataFrame, self).__setitem__(key, value)\n"
     ]
    }
   ],
   "source": [
    "# add a new column\n",
    "metro_trimmed['color'] = ''"
   ]
  },
  {
   "cell_type": "code",
   "execution_count": 39,
   "metadata": {
    "slideshow": {
     "slide_type": "fragment"
    }
   },
   "outputs": [
    {
     "data": {
      "text/html": [
       "<div>\n",
       "<style scoped>\n",
       "    .dataframe tbody tr th:only-of-type {\n",
       "        vertical-align: middle;\n",
       "    }\n",
       "\n",
       "    .dataframe tbody tr th {\n",
       "        vertical-align: top;\n",
       "    }\n",
       "\n",
       "    .dataframe thead th {\n",
       "        text-align: right;\n",
       "    }\n",
       "</style>\n",
       "<table border=\"1\" class=\"dataframe\">\n",
       "  <thead>\n",
       "    <tr style=\"text-align: right;\">\n",
       "      <th></th>\n",
       "      <th>LINE</th>\n",
       "      <th>LINENUM</th>\n",
       "      <th>STATION</th>\n",
       "      <th>LAT</th>\n",
       "      <th>LONG</th>\n",
       "      <th>geometry</th>\n",
       "      <th>color</th>\n",
       "    </tr>\n",
       "  </thead>\n",
       "  <tbody>\n",
       "    <tr>\n",
       "      <th>0</th>\n",
       "      <td>Blue</td>\n",
       "      <td>801</td>\n",
       "      <td>Downtown Long Beach Station</td>\n",
       "      <td>33.768071</td>\n",
       "      <td>-118.192921</td>\n",
       "      <td>POINT (6503030.095 1738033.828)</td>\n",
       "      <td></td>\n",
       "    </tr>\n",
       "    <tr>\n",
       "      <th>1</th>\n",
       "      <td>Blue</td>\n",
       "      <td>801</td>\n",
       "      <td>Pacific Ave Station</td>\n",
       "      <td>33.772258</td>\n",
       "      <td>-118.193700</td>\n",
       "      <td>POINT (6502796.262 1739558.050)</td>\n",
       "      <td></td>\n",
       "    </tr>\n",
       "    <tr>\n",
       "      <th>2</th>\n",
       "      <td>Blue</td>\n",
       "      <td>801</td>\n",
       "      <td>Anaheim Street Station</td>\n",
       "      <td>33.781830</td>\n",
       "      <td>-118.189384</td>\n",
       "      <td>POINT (6504114.567 1743039.068)</td>\n",
       "      <td></td>\n",
       "    </tr>\n",
       "    <tr>\n",
       "      <th>3</th>\n",
       "      <td>Blue</td>\n",
       "      <td>801</td>\n",
       "      <td>Pacific Coast Hwy Station</td>\n",
       "      <td>33.789090</td>\n",
       "      <td>-118.189382</td>\n",
       "      <td>POINT (6504120.152 1745681.179)</td>\n",
       "      <td></td>\n",
       "    </tr>\n",
       "    <tr>\n",
       "      <th>4</th>\n",
       "      <td>Blue</td>\n",
       "      <td>801</td>\n",
       "      <td>Willow Street Station</td>\n",
       "      <td>33.807079</td>\n",
       "      <td>-118.189834</td>\n",
       "      <td>POINT (6503995.170 1752228.119)</td>\n",
       "      <td></td>\n",
       "    </tr>\n",
       "  </tbody>\n",
       "</table>\n",
       "</div>"
      ],
      "text/plain": [
       "   LINE  LINENUM                      STATION        LAT        LONG  \\\n",
       "0  Blue      801  Downtown Long Beach Station  33.768071 -118.192921   \n",
       "1  Blue      801          Pacific Ave Station  33.772258 -118.193700   \n",
       "2  Blue      801       Anaheim Street Station  33.781830 -118.189384   \n",
       "3  Blue      801    Pacific Coast Hwy Station  33.789090 -118.189382   \n",
       "4  Blue      801        Willow Street Station  33.807079 -118.189834   \n",
       "\n",
       "                          geometry color  \n",
       "0  POINT (6503030.095 1738033.828)        \n",
       "1  POINT (6502796.262 1739558.050)        \n",
       "2  POINT (6504114.567 1743039.068)        \n",
       "3  POINT (6504120.152 1745681.179)        \n",
       "4  POINT (6503995.170 1752228.119)        "
      ]
     },
     "execution_count": 39,
     "metadata": {},
     "output_type": "execute_result"
    }
   ],
   "source": [
    "metro_trimmed.head()"
   ]
  },
  {
   "cell_type": "markdown",
   "metadata": {
    "slideshow": {
     "slide_type": "slide"
    }
   },
   "source": [
    "### Find unique values in a column"
   ]
  },
  {
   "cell_type": "code",
   "execution_count": 40,
   "metadata": {
    "slideshow": {
     "slide_type": "fragment"
    }
   },
   "outputs": [
    {
     "data": {
      "text/plain": [
       "array(['Blue', 'Blue/EXPO', 'EXPO', 'Red', 'Red/Purple', 'Purple',\n",
       "       'Green', 'Gold'], dtype=object)"
      ]
     },
     "execution_count": 40,
     "metadata": {},
     "output_type": "execute_result"
    }
   ],
   "source": [
    "# find unique values in the LINE column\n",
    "metro_trimmed.LINE.unique()"
   ]
  },
  {
   "cell_type": "markdown",
   "metadata": {
    "slideshow": {
     "slide_type": "slide"
    }
   },
   "source": [
    "### Update column based on a query on another column\n",
    "We now want to populate the newly created `color` column with values based on the LINE.\n",
    "\n",
    "Remember how you used the `loc` command to query the data. "
   ]
  },
  {
   "cell_type": "code",
   "execution_count": 41,
   "metadata": {
    "scrolled": true,
    "slideshow": {
     "slide_type": "slide"
    }
   },
   "outputs": [
    {
     "data": {
      "text/html": [
       "<div>\n",
       "<style scoped>\n",
       "    .dataframe tbody tr th:only-of-type {\n",
       "        vertical-align: middle;\n",
       "    }\n",
       "\n",
       "    .dataframe tbody tr th {\n",
       "        vertical-align: top;\n",
       "    }\n",
       "\n",
       "    .dataframe thead th {\n",
       "        text-align: right;\n",
       "    }\n",
       "</style>\n",
       "<table border=\"1\" class=\"dataframe\">\n",
       "  <thead>\n",
       "    <tr style=\"text-align: right;\">\n",
       "      <th></th>\n",
       "      <th>LINE</th>\n",
       "      <th>LINENUM</th>\n",
       "      <th>STATION</th>\n",
       "      <th>LAT</th>\n",
       "      <th>LONG</th>\n",
       "      <th>geometry</th>\n",
       "      <th>color</th>\n",
       "    </tr>\n",
       "  </thead>\n",
       "  <tbody>\n",
       "    <tr>\n",
       "      <th>20</th>\n",
       "      <td>EXPO</td>\n",
       "      <td>806</td>\n",
       "      <td>LATTC / Ortho Institute Station</td>\n",
       "      <td>34.029112</td>\n",
       "      <td>-118.273603</td>\n",
       "      <td>POINT (6478766.175 1833089.413)</td>\n",
       "      <td></td>\n",
       "    </tr>\n",
       "    <tr>\n",
       "      <th>21</th>\n",
       "      <td>EXPO</td>\n",
       "      <td>806</td>\n",
       "      <td>Jefferson / USC Station</td>\n",
       "      <td>34.022123</td>\n",
       "      <td>-118.278118</td>\n",
       "      <td>POINT (6477391.116 1830549.740)</td>\n",
       "      <td></td>\n",
       "    </tr>\n",
       "    <tr>\n",
       "      <th>22</th>\n",
       "      <td>EXPO</td>\n",
       "      <td>806</td>\n",
       "      <td>Expo Park / USC Station</td>\n",
       "      <td>34.018227</td>\n",
       "      <td>-118.285734</td>\n",
       "      <td>POINT (6475079.285 1829138.386)</td>\n",
       "      <td></td>\n",
       "    </tr>\n",
       "    <tr>\n",
       "      <th>23</th>\n",
       "      <td>EXPO</td>\n",
       "      <td>806</td>\n",
       "      <td>Expo / Vermont Station</td>\n",
       "      <td>34.018245</td>\n",
       "      <td>-118.291540</td>\n",
       "      <td>POINT (6473319.888 1829149.989)</td>\n",
       "      <td></td>\n",
       "    </tr>\n",
       "    <tr>\n",
       "      <th>24</th>\n",
       "      <td>EXPO</td>\n",
       "      <td>806</td>\n",
       "      <td>Expo / Western Station</td>\n",
       "      <td>34.018331</td>\n",
       "      <td>-118.308910</td>\n",
       "      <td>POINT (6468056.285 1829197.007)</td>\n",
       "      <td></td>\n",
       "    </tr>\n",
       "    <tr>\n",
       "      <th>25</th>\n",
       "      <td>EXPO</td>\n",
       "      <td>806</td>\n",
       "      <td>Expo / Crenshaw Station</td>\n",
       "      <td>34.022526</td>\n",
       "      <td>-118.335078</td>\n",
       "      <td>POINT (6460131.596 1830749.046)</td>\n",
       "      <td></td>\n",
       "    </tr>\n",
       "    <tr>\n",
       "      <th>26</th>\n",
       "      <td>EXPO</td>\n",
       "      <td>806</td>\n",
       "      <td>Farmdale Station</td>\n",
       "      <td>34.023981</td>\n",
       "      <td>-118.346095</td>\n",
       "      <td>POINT (6456795.070 1831289.858)</td>\n",
       "      <td></td>\n",
       "    </tr>\n",
       "    <tr>\n",
       "      <th>27</th>\n",
       "      <td>EXPO</td>\n",
       "      <td>806</td>\n",
       "      <td>Expo / La Brea / Ethel Bradley Station</td>\n",
       "      <td>34.024803</td>\n",
       "      <td>-118.355159</td>\n",
       "      <td>POINT (6454049.620 1831598.579)</td>\n",
       "      <td></td>\n",
       "    </tr>\n",
       "    <tr>\n",
       "      <th>28</th>\n",
       "      <td>EXPO</td>\n",
       "      <td>806</td>\n",
       "      <td>La Cienega / Jefferson Station</td>\n",
       "      <td>34.026355</td>\n",
       "      <td>-118.372120</td>\n",
       "      <td>POINT (6448912.366 1832181.972)</td>\n",
       "      <td></td>\n",
       "    </tr>\n",
       "    <tr>\n",
       "      <th>29</th>\n",
       "      <td>EXPO</td>\n",
       "      <td>806</td>\n",
       "      <td>Culver City Station</td>\n",
       "      <td>34.027896</td>\n",
       "      <td>-118.388986</td>\n",
       "      <td>POINT (6443804.075 1832762.116)</td>\n",
       "      <td></td>\n",
       "    </tr>\n",
       "  </tbody>\n",
       "</table>\n",
       "</div>"
      ],
      "text/plain": [
       "    LINE  LINENUM                                 STATION        LAT  \\\n",
       "20  EXPO      806         LATTC / Ortho Institute Station  34.029112   \n",
       "21  EXPO      806                 Jefferson / USC Station  34.022123   \n",
       "22  EXPO      806                 Expo Park / USC Station  34.018227   \n",
       "23  EXPO      806                  Expo / Vermont Station  34.018245   \n",
       "24  EXPO      806                  Expo / Western Station  34.018331   \n",
       "25  EXPO      806                 Expo / Crenshaw Station  34.022526   \n",
       "26  EXPO      806                        Farmdale Station  34.023981   \n",
       "27  EXPO      806  Expo / La Brea / Ethel Bradley Station  34.024803   \n",
       "28  EXPO      806          La Cienega / Jefferson Station  34.026355   \n",
       "29  EXPO      806                     Culver City Station  34.027896   \n",
       "\n",
       "          LONG                         geometry color  \n",
       "20 -118.273603  POINT (6478766.175 1833089.413)        \n",
       "21 -118.278118  POINT (6477391.116 1830549.740)        \n",
       "22 -118.285734  POINT (6475079.285 1829138.386)        \n",
       "23 -118.291540  POINT (6473319.888 1829149.989)        \n",
       "24 -118.308910  POINT (6468056.285 1829197.007)        \n",
       "25 -118.335078  POINT (6460131.596 1830749.046)        \n",
       "26 -118.346095  POINT (6456795.070 1831289.858)        \n",
       "27 -118.355159  POINT (6454049.620 1831598.579)        \n",
       "28 -118.372120  POINT (6448912.366 1832181.972)        \n",
       "29 -118.388986  POINT (6443804.075 1832762.116)        "
      ]
     },
     "execution_count": 41,
     "metadata": {},
     "output_type": "execute_result"
    }
   ],
   "source": [
    "# display rows that match a query\n",
    "metro_trimmed.loc[metro['LINE'] == 'EXPO']"
   ]
  },
  {
   "cell_type": "markdown",
   "metadata": {},
   "source": [
    "The `loc` command has additional functionalities. You can use it to update a field based on a query on *another* field. But first, note that folium accepts only a few named colors, according to their [documentation](https://python-visualization.github.io/folium/modules.html): \n",
    "\n",
    "```\n",
    "[‘red’, ‘blue’, ‘green’, ‘purple’, ‘orange’, ‘darkred’,’lightred’, ‘beige’, ‘darkblue’, ‘darkgreen’, ‘cadetblue’, ‘darkpurple’, ‘white’, ‘pink’, ‘lightblue’, ‘lightgreen’, ‘gray’, ‘black’, ‘lightgray’]\n",
    "```\n",
    "\n",
    "Using the `loc` command, we can update the color column for a single LINE:"
   ]
  },
  {
   "cell_type": "code",
   "execution_count": 42,
   "metadata": {
    "slideshow": {
     "slide_type": "fragment"
    }
   },
   "outputs": [
    {
     "name": "stderr",
     "output_type": "stream",
     "text": [
      "/opt/conda/lib/python3.8/site-packages/geopandas/geodataframe.py:853: SettingWithCopyWarning: \n",
      "A value is trying to be set on a copy of a slice from a DataFrame.\n",
      "Try using .loc[row_indexer,col_indexer] = value instead\n",
      "\n",
      "See the caveats in the documentation: https://pandas.pydata.org/pandas-docs/stable/user_guide/indexing.html#returning-a-view-versus-a-copy\n",
      "  super(GeoDataFrame, self).__setitem__(key, value)\n"
     ]
    }
   ],
   "source": [
    "metro_trimmed.loc[metro['LINE'] == 'EXPO', 'color'] = 'orange'"
   ]
  },
  {
   "cell_type": "markdown",
   "metadata": {},
   "source": [
    "Now it's your turn. Update the color column for all other metro LINE's in the cell below:"
   ]
  },
  {
   "cell_type": "code",
   "execution_count": 43,
   "metadata": {
    "slideshow": {
     "slide_type": "slide"
    }
   },
   "outputs": [],
   "source": [
    "metro_trimmed.loc[metro['LINE'] == 'Blue', 'color'] = 'blue'\n",
    "metro_trimmed.loc[metro['LINE'] == 'Blue/EXPO', 'color'] = 'cadetblue'\n",
    "metro_trimmed.loc[metro['LINE'] == 'Red', 'color'] = 'red'\n",
    "metro_trimmed.loc[metro['LINE'] == 'Red/Purple', 'color'] = 'darkred'\n",
    "metro_trimmed.loc[metro['LINE'] == 'Purple', 'color'] = 'purple'\n",
    "metro_trimmed.loc[metro['LINE'] == 'Green', 'color'] = 'green'\n",
    "metro_trimmed.loc[metro['LINE'] == 'Gold', 'color'] = 'beige'"
   ]
  },
  {
   "cell_type": "code",
   "execution_count": 44,
   "metadata": {
    "slideshow": {
     "slide_type": "fragment"
    }
   },
   "outputs": [
    {
     "data": {
      "text/html": [
       "<div>\n",
       "<style scoped>\n",
       "    .dataframe tbody tr th:only-of-type {\n",
       "        vertical-align: middle;\n",
       "    }\n",
       "\n",
       "    .dataframe tbody tr th {\n",
       "        vertical-align: top;\n",
       "    }\n",
       "\n",
       "    .dataframe thead th {\n",
       "        text-align: right;\n",
       "    }\n",
       "</style>\n",
       "<table border=\"1\" class=\"dataframe\">\n",
       "  <thead>\n",
       "    <tr style=\"text-align: right;\">\n",
       "      <th></th>\n",
       "      <th>LINE</th>\n",
       "      <th>LINENUM</th>\n",
       "      <th>STATION</th>\n",
       "      <th>LAT</th>\n",
       "      <th>LONG</th>\n",
       "      <th>geometry</th>\n",
       "      <th>color</th>\n",
       "    </tr>\n",
       "  </thead>\n",
       "  <tbody>\n",
       "    <tr>\n",
       "      <th>77</th>\n",
       "      <td>Gold</td>\n",
       "      <td>804</td>\n",
       "      <td>Fillmore Station</td>\n",
       "      <td>34.133521</td>\n",
       "      <td>-118.148126</td>\n",
       "      <td>POINT (6516841.102 1871006.042)</td>\n",
       "      <td>beige</td>\n",
       "    </tr>\n",
       "    <tr>\n",
       "      <th>26</th>\n",
       "      <td>EXPO</td>\n",
       "      <td>806</td>\n",
       "      <td>Farmdale Station</td>\n",
       "      <td>34.023981</td>\n",
       "      <td>-118.346095</td>\n",
       "      <td>POINT (6456795.070 1831289.858)</td>\n",
       "      <td>orange</td>\n",
       "    </tr>\n",
       "    <tr>\n",
       "      <th>69</th>\n",
       "      <td>Gold</td>\n",
       "      <td>804</td>\n",
       "      <td>Little Tokyo / Arts District Station</td>\n",
       "      <td>34.050100</td>\n",
       "      <td>-118.237901</td>\n",
       "      <td>POINT (6489601.777 1840699.814)</td>\n",
       "      <td>beige</td>\n",
       "    </tr>\n",
       "    <tr>\n",
       "      <th>61</th>\n",
       "      <td>Green</td>\n",
       "      <td>803</td>\n",
       "      <td>Norwalk Station</td>\n",
       "      <td>33.914033</td>\n",
       "      <td>-118.104717</td>\n",
       "      <td>POINT (6529894.218 1791113.435)</td>\n",
       "      <td>green</td>\n",
       "    </tr>\n",
       "    <tr>\n",
       "      <th>4</th>\n",
       "      <td>Blue</td>\n",
       "      <td>801</td>\n",
       "      <td>Willow Street Station</td>\n",
       "      <td>33.807079</td>\n",
       "      <td>-118.189834</td>\n",
       "      <td>POINT (6503995.170 1752228.119)</td>\n",
       "      <td>blue</td>\n",
       "    </tr>\n",
       "  </tbody>\n",
       "</table>\n",
       "</div>"
      ],
      "text/plain": [
       "     LINE  LINENUM                               STATION        LAT  \\\n",
       "77   Gold      804                      Fillmore Station  34.133521   \n",
       "26   EXPO      806                      Farmdale Station  34.023981   \n",
       "69   Gold      804  Little Tokyo / Arts District Station  34.050100   \n",
       "61  Green      803                       Norwalk Station  33.914033   \n",
       "4    Blue      801                 Willow Street Station  33.807079   \n",
       "\n",
       "          LONG                         geometry   color  \n",
       "77 -118.148126  POINT (6516841.102 1871006.042)   beige  \n",
       "26 -118.346095  POINT (6456795.070 1831289.858)  orange  \n",
       "69 -118.237901  POINT (6489601.777 1840699.814)   beige  \n",
       "61 -118.104717  POINT (6529894.218 1791113.435)   green  \n",
       "4  -118.189834  POINT (6503995.170 1752228.119)    blue  "
      ]
     },
     "execution_count": 44,
     "metadata": {},
     "output_type": "execute_result"
    }
   ],
   "source": [
    "metro_trimmed.sample(5)"
   ]
  },
  {
   "cell_type": "code",
   "execution_count": 45,
   "metadata": {
    "slideshow": {
     "slide_type": "slide"
    }
   },
   "outputs": [
    {
     "data": {
      "text/html": [
       "<div style=\"width:100%;\"><div style=\"position:relative;width:100%;height:0;padding-bottom:60%;\"><span style=\"color:#565656\">Make this Notebook Trusted to load map: File -> Trust Notebook</span><iframe src=\"about:blank\" style=\"position:absolute;width:100%;height:100%;left:0;top:0;border:none !important;\" data-html=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 onload=\"this.contentDocument.open();this.contentDocument.write(atob(this.getAttribute('data-html')));this.contentDocument.close();\" allowfullscreen webkitallowfullscreen mozallowfullscreen></iframe></div></div>"
      ],
      "text/plain": [
       "<folium.folium.Map at 0x7f5f40107280>"
      ]
     },
     "execution_count": 45,
     "metadata": {},
     "output_type": "execute_result"
    }
   ],
   "source": [
    "# reset the map (you need to do this to erase previous layers)\n",
    "m = folium.Map(location=[latitude,longitude], tiles='Stamen Terrain', zoom_start=10)\n",
    "\n",
    "# add the stations with color icons\n",
    "for index, row in metro_trimmed.iterrows():\n",
    "    tooltip_text = row.LINE + ' Line: ' + row.STATION\n",
    "    folium.Marker(\n",
    "        [row.LAT,row.LONG], \n",
    "        popup=row.STATION, \n",
    "        tooltip=tooltip_text,\n",
    "        icon=folium.Icon(color=row.color)\n",
    "    ).add_to(m)\n",
    "\n",
    "# show the map\n",
    "m"
   ]
  },
  {
   "cell_type": "code",
   "execution_count": 46,
   "metadata": {
    "slideshow": {
     "slide_type": "slide"
    }
   },
   "outputs": [],
   "source": [
    "# save the interactive maps as an html file\n",
    "m.save('metro.html')"
   ]
  }
 ],
 "metadata": {
  "celltoolbar": "Slideshow",
  "kernelspec": {
   "display_name": "Python 3",
   "language": "python",
   "name": "python3"
  },
  "language_info": {
   "codemirror_mode": {
    "name": "ipython",
    "version": 3
   },
   "file_extension": ".py",
   "mimetype": "text/x-python",
   "name": "python",
   "nbconvert_exporter": "python",
   "pygments_lexer": "ipython3",
   "version": "3.8.5"
  },
  "toc": {
   "base_numbering": 1,
   "nav_menu": {},
   "number_sections": true,
   "sideBar": true,
   "skip_h1_title": false,
   "title_cell": "Table of Contents",
   "title_sidebar": "Contents",
   "toc_cell": true,
   "toc_position": {
    "height": "757px",
    "left": "523px",
    "top": "110px",
    "width": "384px"
   },
   "toc_section_display": true,
   "toc_window_display": true
  }
 },
 "nbformat": 4,
 "nbformat_minor": 4
}
