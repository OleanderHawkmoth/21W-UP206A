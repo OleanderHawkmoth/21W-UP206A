{
 "cells": [
  {
   "cell_type": "markdown",
   "metadata": {},
   "source": [
    "# Week 2: Python and Metro"
   ]
  },
  {
   "cell_type": "markdown",
   "metadata": {},
   "source": [
    "## A quick geopandas teaser\n",
    "Following our Python bootcamp last week (was it boring? exhilerating? a bit of both?), let's put that programming knowledge into action, using and creating data that reflects a real urban situation.\n",
    "\n",
    "We start by importing a new module `geopandas`. This is a pretty high level geospatial library, widely used by spatial data scientists all over the world. Don't worry about it too much for now, but know that it allows us to import a variety of spatial data formats, and plot them on a map."
   ]
  },
  {
   "cell_type": "code",
   "execution_count": 2,
   "metadata": {},
   "outputs": [],
   "source": [
    "import geopandas as gpd"
   ]
  },
  {
   "cell_type": "markdown",
   "metadata": {},
   "source": [
    "Next, we import some data. In this case, it is a shapefile I downloaded from the [LA Metro's Developer web portal](https://developer.metro.net/bus-rail-gis-data/). Notice that I am using relative paths to point to where the data is located in. the `../` indicates that it is one folder level above, so `../../` takes us two levels above (the project root), and then into the data folder there."
   ]
  },
  {
   "cell_type": "code",
   "execution_count": 3,
   "metadata": {},
   "outputs": [],
   "source": [
    "metro = gpd.read_file('../../data/MetroStations/Stations_All_0715.shp')"
   ]
  },
  {
   "cell_type": "markdown",
   "metadata": {},
   "source": [
    "<div class=\"alert alert-info\">\n",
    "\n",
    "Note that the reason we use `geopandas` instead of `pandas` (other than the fact that we love maps) is that `pandas` cannot read shapefiles, whereas `geopandas` can.\n",
    "    \n",
    "</div>"
   ]
  },
  {
   "cell_type": "code",
   "execution_count": 4,
   "metadata": {},
   "outputs": [
    {
     "data": {
      "text/plain": [
       "geopandas.geodataframe.GeoDataFrame"
      ]
     },
     "execution_count": 4,
     "metadata": {},
     "output_type": "execute_result"
    }
   ],
   "source": [
    "# what's the data type?\n",
    "type(metro)"
   ]
  },
  {
   "cell_type": "code",
   "execution_count": 5,
   "metadata": {},
   "outputs": [
    {
     "data": {
      "text/html": [
       "<div>\n",
       "<style scoped>\n",
       "    .dataframe tbody tr th:only-of-type {\n",
       "        vertical-align: middle;\n",
       "    }\n",
       "\n",
       "    .dataframe tbody tr th {\n",
       "        vertical-align: top;\n",
       "    }\n",
       "\n",
       "    .dataframe thead th {\n",
       "        text-align: right;\n",
       "    }\n",
       "</style>\n",
       "<table border=\"1\" class=\"dataframe\">\n",
       "  <thead>\n",
       "    <tr style=\"text-align: right;\">\n",
       "      <th></th>\n",
       "      <th>LINE</th>\n",
       "      <th>LINENUM</th>\n",
       "      <th>LINENUM2</th>\n",
       "      <th>STNSEQ</th>\n",
       "      <th>STNSEQ2</th>\n",
       "      <th>DIR</th>\n",
       "      <th>STOPNUM</th>\n",
       "      <th>STATION</th>\n",
       "      <th>LAT</th>\n",
       "      <th>LONG</th>\n",
       "      <th>TPIS_NAME</th>\n",
       "      <th>POINT_X</th>\n",
       "      <th>POINT_Y</th>\n",
       "      <th>geometry</th>\n",
       "    </tr>\n",
       "  </thead>\n",
       "  <tbody>\n",
       "    <tr>\n",
       "      <th>0</th>\n",
       "      <td>Blue</td>\n",
       "      <td>801</td>\n",
       "      <td>0</td>\n",
       "      <td>21</td>\n",
       "      <td>0</td>\n",
       "      <td>None</td>\n",
       "      <td>80101</td>\n",
       "      <td>Downtown Long Beach Station</td>\n",
       "      <td>33.768071</td>\n",
       "      <td>-118.192921</td>\n",
       "      <td>Long Bch</td>\n",
       "      <td>6.503030e+06</td>\n",
       "      <td>1.738034e+06</td>\n",
       "      <td>POINT (6503030.095 1738033.828)</td>\n",
       "    </tr>\n",
       "    <tr>\n",
       "      <th>1</th>\n",
       "      <td>Blue</td>\n",
       "      <td>801</td>\n",
       "      <td>0</td>\n",
       "      <td>22</td>\n",
       "      <td>0</td>\n",
       "      <td>North</td>\n",
       "      <td>80102</td>\n",
       "      <td>Pacific Ave Station</td>\n",
       "      <td>33.772258</td>\n",
       "      <td>-118.193700</td>\n",
       "      <td>Pacific</td>\n",
       "      <td>6.502796e+06</td>\n",
       "      <td>1.739558e+06</td>\n",
       "      <td>POINT (6502796.262 1739558.050)</td>\n",
       "    </tr>\n",
       "    <tr>\n",
       "      <th>2</th>\n",
       "      <td>Blue</td>\n",
       "      <td>801</td>\n",
       "      <td>0</td>\n",
       "      <td>18</td>\n",
       "      <td>0</td>\n",
       "      <td>None</td>\n",
       "      <td>80105</td>\n",
       "      <td>Anaheim Street Station</td>\n",
       "      <td>33.781830</td>\n",
       "      <td>-118.189384</td>\n",
       "      <td>Anaheim</td>\n",
       "      <td>6.504115e+06</td>\n",
       "      <td>1.743039e+06</td>\n",
       "      <td>POINT (6504114.567 1743039.068)</td>\n",
       "    </tr>\n",
       "    <tr>\n",
       "      <th>3</th>\n",
       "      <td>Blue</td>\n",
       "      <td>801</td>\n",
       "      <td>0</td>\n",
       "      <td>17</td>\n",
       "      <td>0</td>\n",
       "      <td>None</td>\n",
       "      <td>80106</td>\n",
       "      <td>Pacific Coast Hwy Station</td>\n",
       "      <td>33.789090</td>\n",
       "      <td>-118.189382</td>\n",
       "      <td>PCH</td>\n",
       "      <td>6.504120e+06</td>\n",
       "      <td>1.745681e+06</td>\n",
       "      <td>POINT (6504120.152 1745681.179)</td>\n",
       "    </tr>\n",
       "    <tr>\n",
       "      <th>4</th>\n",
       "      <td>Blue</td>\n",
       "      <td>801</td>\n",
       "      <td>0</td>\n",
       "      <td>16</td>\n",
       "      <td>0</td>\n",
       "      <td>None</td>\n",
       "      <td>80107</td>\n",
       "      <td>Willow Street Station</td>\n",
       "      <td>33.807079</td>\n",
       "      <td>-118.189834</td>\n",
       "      <td>Willow</td>\n",
       "      <td>6.503995e+06</td>\n",
       "      <td>1.752228e+06</td>\n",
       "      <td>POINT (6503995.170 1752228.119)</td>\n",
       "    </tr>\n",
       "  </tbody>\n",
       "</table>\n",
       "</div>"
      ],
      "text/plain": [
       "   LINE  LINENUM  LINENUM2  STNSEQ  STNSEQ2    DIR  STOPNUM  \\\n",
       "0  Blue      801         0      21        0   None    80101   \n",
       "1  Blue      801         0      22        0  North    80102   \n",
       "2  Blue      801         0      18        0   None    80105   \n",
       "3  Blue      801         0      17        0   None    80106   \n",
       "4  Blue      801         0      16        0   None    80107   \n",
       "\n",
       "                       STATION        LAT        LONG TPIS_NAME       POINT_X  \\\n",
       "0  Downtown Long Beach Station  33.768071 -118.192921  Long Bch  6.503030e+06   \n",
       "1          Pacific Ave Station  33.772258 -118.193700   Pacific  6.502796e+06   \n",
       "2       Anaheim Street Station  33.781830 -118.189384   Anaheim  6.504115e+06   \n",
       "3    Pacific Coast Hwy Station  33.789090 -118.189382       PCH  6.504120e+06   \n",
       "4        Willow Street Station  33.807079 -118.189834    Willow  6.503995e+06   \n",
       "\n",
       "        POINT_Y                         geometry  \n",
       "0  1.738034e+06  POINT (6503030.095 1738033.828)  \n",
       "1  1.739558e+06  POINT (6502796.262 1739558.050)  \n",
       "2  1.743039e+06  POINT (6504114.567 1743039.068)  \n",
       "3  1.745681e+06  POINT (6504120.152 1745681.179)  \n",
       "4  1.752228e+06  POINT (6503995.170 1752228.119)  "
      ]
     },
     "execution_count": 5,
     "metadata": {},
     "output_type": "execute_result"
    }
   ],
   "source": [
    "# what does the data look like? \n",
    "metro.head()"
   ]
  },
  {
   "cell_type": "markdown",
   "metadata": {},
   "source": [
    "Ah! Surprise, surprise. Welcome to your first look at a pandas dataframe. We will cover dataframes more extensively in later sessions, but know that a python dataframe is like an excel spreadsheet. \n",
    "\n",
    "The `head()` command shows us the first 5 rows of the dataframe. You can also use `tail()` and `sample()`. Try these commands in the cells below:"
   ]
  },
  {
   "cell_type": "code",
   "execution_count": 6,
   "metadata": {},
   "outputs": [],
   "source": [
    "# try tail()\n"
   ]
  },
  {
   "cell_type": "code",
   "execution_count": 7,
   "metadata": {},
   "outputs": [],
   "source": [
    "# try sample()\n"
   ]
  },
  {
   "cell_type": "markdown",
   "metadata": {},
   "source": [
    "## Pandas Data Types\n",
    "\n",
    "Let's look a the data types for each column. You can collectively get all the datatypes for each column in a dataframe using the `dtypes` command."
   ]
  },
  {
   "cell_type": "code",
   "execution_count": 8,
   "metadata": {
    "scrolled": true
   },
   "outputs": [
    {
     "data": {
      "text/plain": [
       "LINE           object\n",
       "LINENUM         int64\n",
       "LINENUM2        int64\n",
       "STNSEQ          int64\n",
       "STNSEQ2         int64\n",
       "DIR            object\n",
       "STOPNUM         int64\n",
       "STATION        object\n",
       "LAT           float64\n",
       "LONG          float64\n",
       "TPIS_NAME      object\n",
       "POINT_X       float64\n",
       "POINT_Y       float64\n",
       "geometry     geometry\n",
       "dtype: object"
      ]
     },
     "execution_count": 8,
     "metadata": {},
     "output_type": "execute_result"
    }
   ],
   "source": [
    "metro.dtypes"
   ]
  },
  {
   "cell_type": "markdown",
   "metadata": {},
   "source": [
    "But there is better command that will get you more info. Yes, the `info` command."
   ]
  },
  {
   "cell_type": "code",
   "execution_count": 24,
   "metadata": {},
   "outputs": [
    {
     "name": "stdout",
     "output_type": "stream",
     "text": [
      "<class 'geopandas.geodataframe.GeoDataFrame'>\n",
      "RangeIndex: 83 entries, 0 to 82\n",
      "Data columns (total 14 columns):\n",
      " #   Column     Non-Null Count  Dtype   \n",
      "---  ------     --------------  -----   \n",
      " 0   LINE       83 non-null     object  \n",
      " 1   LINENUM    83 non-null     int64   \n",
      " 2   LINENUM2   83 non-null     int64   \n",
      " 3   STNSEQ     83 non-null     int64   \n",
      " 4   STNSEQ2    83 non-null     int64   \n",
      " 5   DIR        3 non-null      object  \n",
      " 6   STOPNUM    83 non-null     int64   \n",
      " 7   STATION    83 non-null     object  \n",
      " 8   LAT        83 non-null     float64 \n",
      " 9   LONG       83 non-null     float64 \n",
      " 10  TPIS_NAME  83 non-null     object  \n",
      " 11  POINT_X    83 non-null     float64 \n",
      " 12  POINT_Y    83 non-null     float64 \n",
      " 13  geometry   83 non-null     geometry\n",
      "dtypes: float64(4), geometry(1), int64(5), object(4)\n",
      "memory usage: 9.2+ KB\n"
     ]
    }
   ],
   "source": [
    "# dataframe info\n",
    "metro.info()"
   ]
  },
  {
   "cell_type": "markdown",
   "metadata": {},
   "source": [
    "Wait. That looks different from what we have worked on! As it turns out, pandas datatypes are slightly different from the raw python datatypes. Check out the table below:"
   ]
  },
  {
   "cell_type": "markdown",
   "metadata": {},
   "source": [
    "<table class=\"table table-striped\">\n",
    "  <thead>\n",
    "    <tr>\n",
    "      <th>Pandas Type</th>\n",
    "      <th>Native Python Type</th>\n",
    "      <th>Description</th>\n",
    "    </tr>\n",
    "  </thead>\n",
    "  <tbody>\n",
    "    <tr>\n",
    "      <td>object</td>\n",
    "      <td>string</td>\n",
    "      <td>The most general dtype. Will be assigned to your column if column has mixed types (numbers and strings).</td>\n",
    "    </tr>\n",
    "    <tr>\n",
    "      <td>int64</td>\n",
    "      <td>int</td>\n",
    "      <td>Numeric characters. 64 refers to the memory allocated to hold this character.</td>\n",
    "    </tr>\n",
    "    <tr>\n",
    "      <td>float64</td>\n",
    "      <td>float</td>\n",
    "      <td>Numeric characters with decimals. If a column contains numbers and NaNs (see below), pandas will default to float64, in case your missing value has a decimal.</td>\n",
    "    </tr>\n",
    "    <tr>\n",
    "      <td>datetime64, timedelta[ns]</td>\n",
    "      <td>N/A (but see the <a href=\"http://doc.python.org/2/library/datetime.html\">datetime</a> module in Python’s standard library)</td>\n",
    "      <td>Values meant to hold time data. Look into these for time series experiments.</td>\n",
    "    </tr>\n",
    "  </tbody>\n",
    "</table>"
   ]
  },
  {
   "cell_type": "markdown",
   "metadata": {},
   "source": [
    "## Counting unique values in a column"
   ]
  },
  {
   "cell_type": "code",
   "execution_count": 16,
   "metadata": {
    "scrolled": false
   },
   "outputs": [
    {
     "data": {
      "text/plain": [
       "Gold          21\n",
       "Blue          20\n",
       "Green         14\n",
       "EXPO          10\n",
       "Red            8\n",
       "Red/Purple     6\n",
       "Blue/EXPO      2\n",
       "Purple         2\n",
       "Name: LINE, dtype: int64"
      ]
     },
     "execution_count": 16,
     "metadata": {},
     "output_type": "execute_result"
    }
   ],
   "source": [
    "metro['LINE'].value_counts()"
   ]
  },
  {
   "cell_type": "code",
   "execution_count": 25,
   "metadata": {},
   "outputs": [],
   "source": [
    "# try it yourself. find the unique values for LINENUM\n"
   ]
  },
  {
   "cell_type": "markdown",
   "metadata": {},
   "source": [
    "## Subsetting"
   ]
  },
  {
   "cell_type": "code",
   "execution_count": 22,
   "metadata": {},
   "outputs": [
    {
     "data": {
      "text/html": [
       "<div>\n",
       "<style scoped>\n",
       "    .dataframe tbody tr th:only-of-type {\n",
       "        vertical-align: middle;\n",
       "    }\n",
       "\n",
       "    .dataframe tbody tr th {\n",
       "        vertical-align: top;\n",
       "    }\n",
       "\n",
       "    .dataframe thead th {\n",
       "        text-align: right;\n",
       "    }\n",
       "</style>\n",
       "<table border=\"1\" class=\"dataframe\">\n",
       "  <thead>\n",
       "    <tr style=\"text-align: right;\">\n",
       "      <th></th>\n",
       "      <th>LINE</th>\n",
       "      <th>LINENUM</th>\n",
       "      <th>LINENUM2</th>\n",
       "      <th>STNSEQ</th>\n",
       "      <th>STNSEQ2</th>\n",
       "      <th>DIR</th>\n",
       "      <th>STOPNUM</th>\n",
       "      <th>STATION</th>\n",
       "      <th>LAT</th>\n",
       "      <th>LONG</th>\n",
       "      <th>TPIS_NAME</th>\n",
       "      <th>POINT_X</th>\n",
       "      <th>POINT_Y</th>\n",
       "      <th>geometry</th>\n",
       "    </tr>\n",
       "  </thead>\n",
       "  <tbody>\n",
       "    <tr>\n",
       "      <th>20</th>\n",
       "      <td>EXPO</td>\n",
       "      <td>806</td>\n",
       "      <td>0</td>\n",
       "      <td>10</td>\n",
       "      <td>0</td>\n",
       "      <td>None</td>\n",
       "      <td>80123</td>\n",
       "      <td>LATTC / Ortho Institute Station</td>\n",
       "      <td>34.029112</td>\n",
       "      <td>-118.273603</td>\n",
       "      <td>LATTC/Ortho</td>\n",
       "      <td>6.478766e+06</td>\n",
       "      <td>1.833089e+06</td>\n",
       "      <td>POINT (6478766.175 1833089.413)</td>\n",
       "    </tr>\n",
       "    <tr>\n",
       "      <th>21</th>\n",
       "      <td>EXPO</td>\n",
       "      <td>806</td>\n",
       "      <td>0</td>\n",
       "      <td>9</td>\n",
       "      <td>0</td>\n",
       "      <td>None</td>\n",
       "      <td>80124</td>\n",
       "      <td>Jefferson / USC Station</td>\n",
       "      <td>34.022123</td>\n",
       "      <td>-118.278118</td>\n",
       "      <td>Jeff/USC</td>\n",
       "      <td>6.477391e+06</td>\n",
       "      <td>1.830550e+06</td>\n",
       "      <td>POINT (6477391.116 1830549.740)</td>\n",
       "    </tr>\n",
       "    <tr>\n",
       "      <th>22</th>\n",
       "      <td>EXPO</td>\n",
       "      <td>806</td>\n",
       "      <td>0</td>\n",
       "      <td>8</td>\n",
       "      <td>0</td>\n",
       "      <td>None</td>\n",
       "      <td>80125</td>\n",
       "      <td>Expo Park / USC Station</td>\n",
       "      <td>34.018227</td>\n",
       "      <td>-118.285734</td>\n",
       "      <td>Expo Pk</td>\n",
       "      <td>6.475079e+06</td>\n",
       "      <td>1.829138e+06</td>\n",
       "      <td>POINT (6475079.285 1829138.386)</td>\n",
       "    </tr>\n",
       "    <tr>\n",
       "      <th>23</th>\n",
       "      <td>EXPO</td>\n",
       "      <td>806</td>\n",
       "      <td>0</td>\n",
       "      <td>7</td>\n",
       "      <td>0</td>\n",
       "      <td>None</td>\n",
       "      <td>80126</td>\n",
       "      <td>Expo / Vermont Station</td>\n",
       "      <td>34.018245</td>\n",
       "      <td>-118.291540</td>\n",
       "      <td>Ex/Vrmnt</td>\n",
       "      <td>6.473320e+06</td>\n",
       "      <td>1.829150e+06</td>\n",
       "      <td>POINT (6473319.888 1829149.989)</td>\n",
       "    </tr>\n",
       "    <tr>\n",
       "      <th>24</th>\n",
       "      <td>EXPO</td>\n",
       "      <td>806</td>\n",
       "      <td>0</td>\n",
       "      <td>6</td>\n",
       "      <td>0</td>\n",
       "      <td>None</td>\n",
       "      <td>80127</td>\n",
       "      <td>Expo / Western Station</td>\n",
       "      <td>34.018331</td>\n",
       "      <td>-118.308910</td>\n",
       "      <td>Ex/Wstrn</td>\n",
       "      <td>6.468056e+06</td>\n",
       "      <td>1.829197e+06</td>\n",
       "      <td>POINT (6468056.285 1829197.007)</td>\n",
       "    </tr>\n",
       "  </tbody>\n",
       "</table>\n",
       "</div>"
      ],
      "text/plain": [
       "    LINE  LINENUM  LINENUM2  STNSEQ  STNSEQ2   DIR  STOPNUM  \\\n",
       "20  EXPO      806         0      10        0  None    80123   \n",
       "21  EXPO      806         0       9        0  None    80124   \n",
       "22  EXPO      806         0       8        0  None    80125   \n",
       "23  EXPO      806         0       7        0  None    80126   \n",
       "24  EXPO      806         0       6        0  None    80127   \n",
       "\n",
       "                            STATION        LAT        LONG    TPIS_NAME  \\\n",
       "20  LATTC / Ortho Institute Station  34.029112 -118.273603  LATTC/Ortho   \n",
       "21          Jefferson / USC Station  34.022123 -118.278118     Jeff/USC   \n",
       "22          Expo Park / USC Station  34.018227 -118.285734      Expo Pk   \n",
       "23           Expo / Vermont Station  34.018245 -118.291540     Ex/Vrmnt   \n",
       "24           Expo / Western Station  34.018331 -118.308910     Ex/Wstrn   \n",
       "\n",
       "         POINT_X       POINT_Y                         geometry  \n",
       "20  6.478766e+06  1.833089e+06  POINT (6478766.175 1833089.413)  \n",
       "21  6.477391e+06  1.830550e+06  POINT (6477391.116 1830549.740)  \n",
       "22  6.475079e+06  1.829138e+06  POINT (6475079.285 1829138.386)  \n",
       "23  6.473320e+06  1.829150e+06  POINT (6473319.888 1829149.989)  \n",
       "24  6.468056e+06  1.829197e+06  POINT (6468056.285 1829197.007)  "
      ]
     },
     "execution_count": 22,
     "metadata": {},
     "output_type": "execute_result"
    }
   ],
   "source": [
    "expo = metro[metro.LINE == 'EXPO']\n",
    "expo.head()"
   ]
  },
  {
   "cell_type": "code",
   "execution_count": 26,
   "metadata": {},
   "outputs": [],
   "source": [
    "# try it yourself. create variables for each of the LINE's in the dataframe\n"
   ]
  },
  {
   "cell_type": "markdown",
   "metadata": {},
   "source": [
    "## Plotting"
   ]
  },
  {
   "cell_type": "code",
   "execution_count": 17,
   "metadata": {},
   "outputs": [
    {
     "data": {
      "text/plain": [
       "<AxesSubplot:>"
      ]
     },
     "execution_count": 17,
     "metadata": {},
     "output_type": "execute_result"
    },
    {
     "data": {
      "image/png": "[encoded data removed]",
      "text/plain": [
       "<Figure size 432x288 with 1 Axes>"
      ]
     },
     "metadata": {
      "needs_background": "light"
     },
     "output_type": "display_data"
    }
   ],
   "source": [
    "metro.plot()"
   ]
  },
  {
   "cell_type": "code",
   "execution_count": 23,
   "metadata": {},
   "outputs": [
    {
     "data": {
      "text/plain": [
       "<AxesSubplot:>"
      ]
     },
     "execution_count": 23,
     "metadata": {},
     "output_type": "execute_result"
    },
    {
     "data": {
      "image/png": "[encoded data removed]",
      "text/plain": [
       "<Figure size 432x288 with 1 Axes>"
      ]
     },
     "metadata": {
      "needs_background": "light"
     },
     "output_type": "display_data"
    }
   ],
   "source": [
    "expo.plot()"
   ]
  },
  {
   "cell_type": "markdown",
   "metadata": {},
   "source": [
    "And then we plot it. Don't worry about the intricacies of the syntax just yet (we will learn this in much more detail later), but remember, \"command, bracket, arguments!\""
   ]
  },
  {
   "cell_type": "code",
   "execution_count": 11,
   "metadata": {},
   "outputs": [
    {
     "data": {
      "text/plain": [
       "<AxesSubplot:>"
      ]
     },
     "execution_count": 11,
     "metadata": {},
     "output_type": "execute_result"
    },
    {
     "data": {
      "image/png": "[encoded data removed]",
      "text/plain": [
       "<Figure size 1440x864 with 1 Axes>"
      ]
     },
     "metadata": {
      "needs_background": "light"
     },
     "output_type": "display_data"
    }
   ],
   "source": [
    "metro.plot(figsize=(20,12),   #size of the plot (a bit bigger than the default)\n",
    "           column = 'LINE', # column that defines the color of the dots\n",
    "           legend = True,      # add a legend           \n",
    "           legend_kwds={\n",
    "               'loc': 'upper right',\n",
    "               'bbox_to_anchor':(1.3,1)\n",
    "           } # this puts the legend to the side\n",
    "          ) \n"
   ]
  },
  {
   "cell_type": "markdown",
   "metadata": {},
   "source": [
    "## Back to mapping\n",
    "We can't finish our lesson without a map :). Let's go back to the original metro dataset that was the inspiration for this notebook. Recall that we used the module `geopandas` to define the data."
   ]
  },
  {
   "cell_type": "code",
   "execution_count": 27,
   "metadata": {},
   "outputs": [
    {
     "data": {
      "text/html": [
       "<div>\n",
       "<style scoped>\n",
       "    .dataframe tbody tr th:only-of-type {\n",
       "        vertical-align: middle;\n",
       "    }\n",
       "\n",
       "    .dataframe tbody tr th {\n",
       "        vertical-align: top;\n",
       "    }\n",
       "\n",
       "    .dataframe thead th {\n",
       "        text-align: right;\n",
       "    }\n",
       "</style>\n",
       "<table border=\"1\" class=\"dataframe\">\n",
       "  <thead>\n",
       "    <tr style=\"text-align: right;\">\n",
       "      <th></th>\n",
       "      <th>LINE</th>\n",
       "      <th>LINENUM</th>\n",
       "      <th>LINENUM2</th>\n",
       "      <th>STNSEQ</th>\n",
       "      <th>STNSEQ2</th>\n",
       "      <th>DIR</th>\n",
       "      <th>STOPNUM</th>\n",
       "      <th>STATION</th>\n",
       "      <th>LAT</th>\n",
       "      <th>LONG</th>\n",
       "      <th>TPIS_NAME</th>\n",
       "      <th>POINT_X</th>\n",
       "      <th>POINT_Y</th>\n",
       "      <th>geometry</th>\n",
       "    </tr>\n",
       "  </thead>\n",
       "  <tbody>\n",
       "    <tr>\n",
       "      <th>0</th>\n",
       "      <td>Blue</td>\n",
       "      <td>801</td>\n",
       "      <td>0</td>\n",
       "      <td>21</td>\n",
       "      <td>0</td>\n",
       "      <td>None</td>\n",
       "      <td>80101</td>\n",
       "      <td>Downtown Long Beach Station</td>\n",
       "      <td>33.768071</td>\n",
       "      <td>-118.192921</td>\n",
       "      <td>Long Bch</td>\n",
       "      <td>6.503030e+06</td>\n",
       "      <td>1.738034e+06</td>\n",
       "      <td>POINT (6503030.095 1738033.828)</td>\n",
       "    </tr>\n",
       "    <tr>\n",
       "      <th>1</th>\n",
       "      <td>Blue</td>\n",
       "      <td>801</td>\n",
       "      <td>0</td>\n",
       "      <td>22</td>\n",
       "      <td>0</td>\n",
       "      <td>North</td>\n",
       "      <td>80102</td>\n",
       "      <td>Pacific Ave Station</td>\n",
       "      <td>33.772258</td>\n",
       "      <td>-118.193700</td>\n",
       "      <td>Pacific</td>\n",
       "      <td>6.502796e+06</td>\n",
       "      <td>1.739558e+06</td>\n",
       "      <td>POINT (6502796.262 1739558.050)</td>\n",
       "    </tr>\n",
       "    <tr>\n",
       "      <th>2</th>\n",
       "      <td>Blue</td>\n",
       "      <td>801</td>\n",
       "      <td>0</td>\n",
       "      <td>18</td>\n",
       "      <td>0</td>\n",
       "      <td>None</td>\n",
       "      <td>80105</td>\n",
       "      <td>Anaheim Street Station</td>\n",
       "      <td>33.781830</td>\n",
       "      <td>-118.189384</td>\n",
       "      <td>Anaheim</td>\n",
       "      <td>6.504115e+06</td>\n",
       "      <td>1.743039e+06</td>\n",
       "      <td>POINT (6504114.567 1743039.068)</td>\n",
       "    </tr>\n",
       "    <tr>\n",
       "      <th>3</th>\n",
       "      <td>Blue</td>\n",
       "      <td>801</td>\n",
       "      <td>0</td>\n",
       "      <td>17</td>\n",
       "      <td>0</td>\n",
       "      <td>None</td>\n",
       "      <td>80106</td>\n",
       "      <td>Pacific Coast Hwy Station</td>\n",
       "      <td>33.789090</td>\n",
       "      <td>-118.189382</td>\n",
       "      <td>PCH</td>\n",
       "      <td>6.504120e+06</td>\n",
       "      <td>1.745681e+06</td>\n",
       "      <td>POINT (6504120.152 1745681.179)</td>\n",
       "    </tr>\n",
       "    <tr>\n",
       "      <th>4</th>\n",
       "      <td>Blue</td>\n",
       "      <td>801</td>\n",
       "      <td>0</td>\n",
       "      <td>16</td>\n",
       "      <td>0</td>\n",
       "      <td>None</td>\n",
       "      <td>80107</td>\n",
       "      <td>Willow Street Station</td>\n",
       "      <td>33.807079</td>\n",
       "      <td>-118.189834</td>\n",
       "      <td>Willow</td>\n",
       "      <td>6.503995e+06</td>\n",
       "      <td>1.752228e+06</td>\n",
       "      <td>POINT (6503995.170 1752228.119)</td>\n",
       "    </tr>\n",
       "  </tbody>\n",
       "</table>\n",
       "</div>"
      ],
      "text/plain": [
       "   LINE  LINENUM  LINENUM2  STNSEQ  STNSEQ2    DIR  STOPNUM  \\\n",
       "0  Blue      801         0      21        0   None    80101   \n",
       "1  Blue      801         0      22        0  North    80102   \n",
       "2  Blue      801         0      18        0   None    80105   \n",
       "3  Blue      801         0      17        0   None    80106   \n",
       "4  Blue      801         0      16        0   None    80107   \n",
       "\n",
       "                       STATION        LAT        LONG TPIS_NAME       POINT_X  \\\n",
       "0  Downtown Long Beach Station  33.768071 -118.192921  Long Bch  6.503030e+06   \n",
       "1          Pacific Ave Station  33.772258 -118.193700   Pacific  6.502796e+06   \n",
       "2       Anaheim Street Station  33.781830 -118.189384   Anaheim  6.504115e+06   \n",
       "3    Pacific Coast Hwy Station  33.789090 -118.189382       PCH  6.504120e+06   \n",
       "4        Willow Street Station  33.807079 -118.189834    Willow  6.503995e+06   \n",
       "\n",
       "        POINT_Y                         geometry  \n",
       "0  1.738034e+06  POINT (6503030.095 1738033.828)  \n",
       "1  1.739558e+06  POINT (6502796.262 1739558.050)  \n",
       "2  1.743039e+06  POINT (6504114.567 1743039.068)  \n",
       "3  1.745681e+06  POINT (6504120.152 1745681.179)  \n",
       "4  1.752228e+06  POINT (6503995.170 1752228.119)  "
      ]
     },
     "execution_count": 27,
     "metadata": {},
     "output_type": "execute_result"
    }
   ],
   "source": [
    "metro.head()"
   ]
  },
  {
   "cell_type": "markdown",
   "metadata": {},
   "source": [
    "## Projections"
   ]
  },
  {
   "cell_type": "code",
   "execution_count": 28,
   "metadata": {},
   "outputs": [
    {
     "data": {
      "text/plain": [
       "<Projected CRS: PROJCS[\"NAD83(HARN) / California zone 5 (ftUS)\",GE ...>\n",
       "Name: NAD83(HARN) / California zone 5 (ftUS)\n",
       "Axis Info [cartesian]:\n",
       "- [east]: Easting (US survey foot)\n",
       "- [north]: Northing (US survey foot)\n",
       "Area of Use:\n",
       "- undefined\n",
       "Coordinate Operation:\n",
       "- name: unnamed\n",
       "- method: Lambert Conic Conformal (2SP)\n",
       "Datum: NAD83 (High Accuracy Reference Network)\n",
       "- Ellipsoid: GRS 1980\n",
       "- Prime Meridian: Greenwich"
      ]
     },
     "execution_count": 28,
     "metadata": {},
     "output_type": "execute_result"
    }
   ],
   "source": [
    "# what is the projection?\n",
    "metro.crs"
   ]
  },
  {
   "cell_type": "code",
   "execution_count": null,
   "metadata": {},
   "outputs": [],
   "source": [
    "# let's reproject it\n",
    "metro_gcs = metro.to_crs(\"EPSG:4326\")"
   ]
  },
  {
   "cell_type": "code",
   "execution_count": null,
   "metadata": {},
   "outputs": [],
   "source": [
    "type(metro_gcs.geometry)"
   ]
  },
  {
   "cell_type": "markdown",
   "metadata": {},
   "source": [
    "Now it's time for another module. Everybody, please welcome `folium`. Folium brings leaflet, an open source javascript mapping library into our Python environment, allowing you to create instant interactive maps. Try it:"
   ]
  },
  {
   "cell_type": "code",
   "execution_count": null,
   "metadata": {},
   "outputs": [],
   "source": [
    "metro_gcs.plot()"
   ]
  },
  {
   "cell_type": "code",
   "execution_count": null,
   "metadata": {},
   "outputs": [],
   "source": [
    "# Load an empty map\n",
    "from keplergl import KeplerGl \n",
    "map_1 = KeplerGl(height=500)\n",
    "map_1"
   ]
  },
  {
   "cell_type": "code",
   "execution_count": null,
   "metadata": {},
   "outputs": [],
   "source": [
    "map_1.add_data(data = metro_gcs)"
   ]
  },
  {
   "cell_type": "code",
   "execution_count": null,
   "metadata": {},
   "outputs": [],
   "source": []
  }
 ],
 "metadata": {
  "kernelspec": {
   "display_name": "Python 3",
   "language": "python",
   "name": "python3"
  },
  "language_info": {
   "codemirror_mode": {
    "name": "ipython",
    "version": 3
   },
   "file_extension": ".py",
   "mimetype": "text/x-python",
   "name": "python",
   "nbconvert_exporter": "python",
   "pygments_lexer": "ipython3",
   "version": "3.8.5"
  },
  "toc": {
   "base_numbering": 1,
   "nav_menu": {},
   "number_sections": true,
   "sideBar": true,
   "skip_h1_title": false,
   "title_cell": "Table of Contents",
   "title_sidebar": "Contents",
   "toc_cell": false,
   "toc_position": {
    "height": "757px",
    "left": "523px",
    "top": "110px",
    "width": "384px"
   },
   "toc_section_display": true,
   "toc_window_display": true
  }
 },
 "nbformat": 4,
 "nbformat_minor": 4
}
