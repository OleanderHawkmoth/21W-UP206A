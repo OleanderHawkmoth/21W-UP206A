{
 "cells": [
  {
   "cell_type": "markdown",
   "metadata": {
    "toc": true
   },
   "source": [
    "<h1>Table of Contents<span class=\"tocSkip\"></span></h1>\n",
    "<div class=\"toc\"><ul class=\"toc-item\"><li><span><a href=\"#Week-2:-Python-and-Metro\" data-toc-modified-id=\"Week-2:-Python-and-Metro-1\"><span class=\"toc-item-num\">1&nbsp;&nbsp;</span>Week 2: Python and Metro</a></span><ul class=\"toc-item\"><li><span><a href=\"#A-quick-geopandas-teaser\" data-toc-modified-id=\"A-quick-geopandas-teaser-1.1\"><span class=\"toc-item-num\">1.1&nbsp;&nbsp;</span>A quick geopandas teaser</a></span></li><li><span><a href=\"#Pandas-Data-Types\" data-toc-modified-id=\"Pandas-Data-Types-1.2\"><span class=\"toc-item-num\">1.2&nbsp;&nbsp;</span>Pandas Data Types</a></span></li><li><span><a href=\"#Data-exploration\" data-toc-modified-id=\"Data-exploration-1.3\"><span class=\"toc-item-num\">1.3&nbsp;&nbsp;</span>Data exploration</a></span><ul class=\"toc-item\"><li><span><a href=\"#Counting-unique-values-in-a-column\" data-toc-modified-id=\"Counting-unique-values-in-a-column-1.3.1\"><span class=\"toc-item-num\">1.3.1&nbsp;&nbsp;</span>Counting unique values in a column</a></span></li><li><span><a href=\"#Trimming-the-data\" data-toc-modified-id=\"Trimming-the-data-1.3.2\"><span class=\"toc-item-num\">1.3.2&nbsp;&nbsp;</span>Trimming the data</a></span></li><li><span><a href=\"#Subsetting/querying/filtering-the-data\" data-toc-modified-id=\"Subsetting/querying/filtering-the-data-1.3.3\"><span class=\"toc-item-num\">1.3.3&nbsp;&nbsp;</span>Subsetting/querying/filtering the data</a></span></li></ul></li><li><span><a href=\"#Plotting\" data-toc-modified-id=\"Plotting-1.4\"><span class=\"toc-item-num\">1.4&nbsp;&nbsp;</span>Plotting</a></span><ul class=\"toc-item\"><li><span><a href=\"#A-prettier-plot\" data-toc-modified-id=\"A-prettier-plot-1.4.1\"><span class=\"toc-item-num\">1.4.1&nbsp;&nbsp;</span>A prettier plot</a></span></li></ul></li><li><span><a href=\"#Back-to-mapping\" data-toc-modified-id=\"Back-to-mapping-1.5\"><span class=\"toc-item-num\">1.5&nbsp;&nbsp;</span>Back to mapping</a></span><ul class=\"toc-item\"><li><span><a href=\"#Projections\" data-toc-modified-id=\"Projections-1.5.1\"><span class=\"toc-item-num\">1.5.1&nbsp;&nbsp;</span>Projections</a></span></li><li><span><a href=\"#Iterating-through-rows-in-a-dataframe\" data-toc-modified-id=\"Iterating-through-rows-in-a-dataframe-1.5.2\"><span class=\"toc-item-num\">1.5.2&nbsp;&nbsp;</span>Iterating through rows in a dataframe</a></span></li><li><span><a href=\"#Get-average-lat/lon's\" data-toc-modified-id=\"Get-average-lat/lon's-1.5.3\"><span class=\"toc-item-num\">1.5.3&nbsp;&nbsp;</span>Get average lat/lon's</a></span></li></ul></li><li><span><a href=\"#Mapping-with-folium\" data-toc-modified-id=\"Mapping-with-folium-1.6\"><span class=\"toc-item-num\">1.6&nbsp;&nbsp;</span>Mapping with folium</a></span><ul class=\"toc-item\"><li><span><a href=\"#Adding-point-markers\" data-toc-modified-id=\"Adding-point-markers-1.6.1\"><span class=\"toc-item-num\">1.6.1&nbsp;&nbsp;</span>Adding point markers</a></span></li><li><span><a href=\"#Color-code-markers\" data-toc-modified-id=\"Color-code-markers-1.6.2\"><span class=\"toc-item-num\">1.6.2&nbsp;&nbsp;</span>Color code markers</a></span></li><li><span><a href=\"#Find-unique-values-in-a-column\" data-toc-modified-id=\"Find-unique-values-in-a-column-1.6.3\"><span class=\"toc-item-num\">1.6.3&nbsp;&nbsp;</span>Find unique values in a column</a></span></li><li><span><a href=\"#Update-column-based-on-a-query-on-another-column\" data-toc-modified-id=\"Update-column-based-on-a-query-on-another-column-1.6.4\"><span class=\"toc-item-num\">1.6.4&nbsp;&nbsp;</span>Update column based on a query on another column</a></span></li><li><span><a href=\"#Saving-your-folium-map-as-an-HTML-file\" data-toc-modified-id=\"Saving-your-folium-map-as-an-HTML-file-1.6.5\"><span class=\"toc-item-num\">1.6.5&nbsp;&nbsp;</span>Saving your folium map as an HTML file</a></span></li></ul></li></ul></li></ul></div>"
   ]
  },
  {
   "cell_type": "markdown",
   "metadata": {
    "slideshow": {
     "slide_type": "slide"
    }
   },
   "source": [
    "<div class=\"alert alert-danger\">\n",
    "\n",
    "Take notice:\n",
    "<ul>\n",
    "    <li>Make sure you are working with a copy and not the original notebook file</li>\n",
    "    <li>This class will be recorded</li>\n",
    "</ul>\n",
    "    \n",
    "</div>"
   ]
  },
  {
   "cell_type": "markdown",
   "metadata": {
    "slideshow": {
     "slide_type": "slide"
    }
   },
   "source": [
    "# Week 2: Python and Metro"
   ]
  },
  {
   "cell_type": "markdown",
   "metadata": {},
   "source": [
    "## A quick geopandas teaser\n",
    "Following our Python bootcamp last week (was it boring? exhilerating? a bit of both?), let's put that programming knowledge into action, using and creating data that reflects a real urban situation.\n",
    "\n",
    "We start by importing a new module `geopandas`. This is a pretty high level geospatial library, widely used by spatial data scientists all over the world. Don't worry about it too much for now, but know that it allows us to import a variety of spatial data formats, and plot them on a map.\n",
    "\n",
    "* [geopandas documentation](https://geopandas.readthedocs.io/en/latest/index.html)"
   ]
  },
  {
   "cell_type": "code",
   "execution_count": 2,
   "metadata": {},
   "outputs": [],
   "source": [
    "import geopandas as gpd"
   ]
  },
  {
   "cell_type": "markdown",
   "metadata": {
    "slideshow": {
     "slide_type": "slide"
    }
   },
   "source": [
    "Next, we import some data. In this case, it is a [shapefile](https://desktop.arcgis.com/en/arcmap/latest/manage-data/shapefiles/what-is-a-shapefile.htm) I downloaded from the [LA Metro's Developer web portal](https://developer.metro.net/bus-rail-gis-data/). Notice that I am using relative paths to point to where the data is located in. the `../` indicates that it is one folder level above, so `../../` takes us two levels above (the project root), and then into the data folder there.\n",
    "\n",
    "* [read_file](https://geopandas.readthedocs.io/en/latest/docs/user_guide/io.html)"
   ]
  },
  {
   "cell_type": "code",
   "execution_count": 3,
   "metadata": {},
   "outputs": [],
   "source": [
    "metro = gpd.read_file('../../data/MetroStations/Stations_All_0715.shp')"
   ]
  },
  {
   "cell_type": "markdown",
   "metadata": {
    "slideshow": {
     "slide_type": "slide"
    }
   },
   "source": [
    "<div class=\"alert alert-info\">\n",
    "\n",
    "Note that the reason we use `geopandas` instead of `pandas` (other than the fact that we love maps) is that `pandas` cannot read shapefiles, whereas `geopandas` can.\n",
    "    \n",
    "</div>"
   ]
  },
  {
   "cell_type": "code",
   "execution_count": 4,
   "metadata": {},
   "outputs": [
    {
     "data": {
      "text/plain": [
       "geopandas.geodataframe.GeoDataFrame"
      ]
     },
     "execution_count": 4,
     "metadata": {},
     "output_type": "execute_result"
    }
   ],
   "source": [
    "# what's the data type?\n",
    "type(metro)"
   ]
  },
  {
   "cell_type": "code",
   "execution_count": 7,
   "metadata": {},
   "outputs": [
    {
     "data": {
      "text/html": [
       "<div>\n",
       "<style scoped>\n",
       "    .dataframe tbody tr th:only-of-type {\n",
       "        vertical-align: middle;\n",
       "    }\n",
       "\n",
       "    .dataframe tbody tr th {\n",
       "        vertical-align: top;\n",
       "    }\n",
       "\n",
       "    .dataframe thead th {\n",
       "        text-align: right;\n",
       "    }\n",
       "</style>\n",
       "<table border=\"1\" class=\"dataframe\">\n",
       "  <thead>\n",
       "    <tr style=\"text-align: right;\">\n",
       "      <th></th>\n",
       "      <th>LINE</th>\n",
       "      <th>LINENUM</th>\n",
       "      <th>LINENUM2</th>\n",
       "      <th>STNSEQ</th>\n",
       "      <th>STNSEQ2</th>\n",
       "      <th>DIR</th>\n",
       "      <th>STOPNUM</th>\n",
       "      <th>STATION</th>\n",
       "      <th>LAT</th>\n",
       "      <th>LONG</th>\n",
       "      <th>TPIS_NAME</th>\n",
       "      <th>POINT_X</th>\n",
       "      <th>POINT_Y</th>\n",
       "      <th>geometry</th>\n",
       "    </tr>\n",
       "  </thead>\n",
       "  <tbody>\n",
       "    <tr>\n",
       "      <th>0</th>\n",
       "      <td>Blue</td>\n",
       "      <td>801</td>\n",
       "      <td>0</td>\n",
       "      <td>21</td>\n",
       "      <td>0</td>\n",
       "      <td>None</td>\n",
       "      <td>80101</td>\n",
       "      <td>Downtown Long Beach Station</td>\n",
       "      <td>33.768071</td>\n",
       "      <td>-118.192921</td>\n",
       "      <td>Long Bch</td>\n",
       "      <td>6.503030e+06</td>\n",
       "      <td>1.738034e+06</td>\n",
       "      <td>POINT (6503030.095 1738033.828)</td>\n",
       "    </tr>\n",
       "    <tr>\n",
       "      <th>1</th>\n",
       "      <td>Blue</td>\n",
       "      <td>801</td>\n",
       "      <td>0</td>\n",
       "      <td>22</td>\n",
       "      <td>0</td>\n",
       "      <td>North</td>\n",
       "      <td>80102</td>\n",
       "      <td>Pacific Ave Station</td>\n",
       "      <td>33.772258</td>\n",
       "      <td>-118.193700</td>\n",
       "      <td>Pacific</td>\n",
       "      <td>6.502796e+06</td>\n",
       "      <td>1.739558e+06</td>\n",
       "      <td>POINT (6502796.262 1739558.050)</td>\n",
       "    </tr>\n",
       "  </tbody>\n",
       "</table>\n",
       "</div>"
      ],
      "text/plain": [
       "   LINE  LINENUM  LINENUM2  STNSEQ  STNSEQ2    DIR  STOPNUM  \\\n",
       "0  Blue      801         0      21        0   None    80101   \n",
       "1  Blue      801         0      22        0  North    80102   \n",
       "\n",
       "                       STATION        LAT        LONG TPIS_NAME       POINT_X  \\\n",
       "0  Downtown Long Beach Station  33.768071 -118.192921  Long Bch  6.503030e+06   \n",
       "1          Pacific Ave Station  33.772258 -118.193700   Pacific  6.502796e+06   \n",
       "\n",
       "        POINT_Y                         geometry  \n",
       "0  1.738034e+06  POINT (6503030.095 1738033.828)  \n",
       "1  1.739558e+06  POINT (6502796.262 1739558.050)  "
      ]
     },
     "execution_count": 7,
     "metadata": {},
     "output_type": "execute_result"
    }
   ],
   "source": [
    "# what does the data look like? \n",
    "metro.head(2)"
   ]
  },
  {
   "cell_type": "markdown",
   "metadata": {
    "slideshow": {
     "slide_type": "slide"
    }
   },
   "source": [
    "Ah! Surprise, surprise. Welcome to your first look at a pandas dataframe. We will cover dataframes more extensively in later sessions, but know that a python dataframe is like an excel spreadsheet. \n",
    "\n",
    "The `head()` command shows us the first 5 rows of the dataframe. You can also use `tail()` and `sample()`. Try these commands in the cells below:"
   ]
  },
  {
   "cell_type": "code",
   "execution_count": 8,
   "metadata": {},
   "outputs": [
    {
     "data": {
      "text/html": [
       "<div>\n",
       "<style scoped>\n",
       "    .dataframe tbody tr th:only-of-type {\n",
       "        vertical-align: middle;\n",
       "    }\n",
       "\n",
       "    .dataframe tbody tr th {\n",
       "        vertical-align: top;\n",
       "    }\n",
       "\n",
       "    .dataframe thead th {\n",
       "        text-align: right;\n",
       "    }\n",
       "</style>\n",
       "<table border=\"1\" class=\"dataframe\">\n",
       "  <thead>\n",
       "    <tr style=\"text-align: right;\">\n",
       "      <th></th>\n",
       "      <th>LINE</th>\n",
       "      <th>LINENUM</th>\n",
       "      <th>LINENUM2</th>\n",
       "      <th>STNSEQ</th>\n",
       "      <th>STNSEQ2</th>\n",
       "      <th>DIR</th>\n",
       "      <th>STOPNUM</th>\n",
       "      <th>STATION</th>\n",
       "      <th>LAT</th>\n",
       "      <th>LONG</th>\n",
       "      <th>TPIS_NAME</th>\n",
       "      <th>POINT_X</th>\n",
       "      <th>POINT_Y</th>\n",
       "      <th>geometry</th>\n",
       "    </tr>\n",
       "  </thead>\n",
       "  <tbody>\n",
       "    <tr>\n",
       "      <th>78</th>\n",
       "      <td>Gold</td>\n",
       "      <td>804</td>\n",
       "      <td>0</td>\n",
       "      <td>5</td>\n",
       "      <td>0</td>\n",
       "      <td>None</td>\n",
       "      <td>80417</td>\n",
       "      <td>Del Mar Station</td>\n",
       "      <td>34.141910</td>\n",
       "      <td>-118.148214</td>\n",
       "      <td>Del Mar</td>\n",
       "      <td>6.516819e+06</td>\n",
       "      <td>1.874059e+06</td>\n",
       "      <td>POINT (6516818.973 1874058.989)</td>\n",
       "    </tr>\n",
       "    <tr>\n",
       "      <th>79</th>\n",
       "      <td>Gold</td>\n",
       "      <td>804</td>\n",
       "      <td>0</td>\n",
       "      <td>4</td>\n",
       "      <td>0</td>\n",
       "      <td>None</td>\n",
       "      <td>80418</td>\n",
       "      <td>Memorial Park Station</td>\n",
       "      <td>34.148356</td>\n",
       "      <td>-118.147512</td>\n",
       "      <td>Mem Pk</td>\n",
       "      <td>6.517035e+06</td>\n",
       "      <td>1.876404e+06</td>\n",
       "      <td>POINT (6517034.832 1876404.492)</td>\n",
       "    </tr>\n",
       "    <tr>\n",
       "      <th>80</th>\n",
       "      <td>Gold</td>\n",
       "      <td>804</td>\n",
       "      <td>0</td>\n",
       "      <td>3</td>\n",
       "      <td>0</td>\n",
       "      <td>None</td>\n",
       "      <td>80419</td>\n",
       "      <td>Lake Station</td>\n",
       "      <td>34.151806</td>\n",
       "      <td>-118.131390</td>\n",
       "      <td>Lake</td>\n",
       "      <td>6.521914e+06</td>\n",
       "      <td>1.877653e+06</td>\n",
       "      <td>POINT (6521914.408 1877653.241)</td>\n",
       "    </tr>\n",
       "    <tr>\n",
       "      <th>81</th>\n",
       "      <td>Gold</td>\n",
       "      <td>804</td>\n",
       "      <td>0</td>\n",
       "      <td>2</td>\n",
       "      <td>0</td>\n",
       "      <td>None</td>\n",
       "      <td>80420</td>\n",
       "      <td>Allen Station</td>\n",
       "      <td>34.152417</td>\n",
       "      <td>-118.114348</td>\n",
       "      <td>Allen</td>\n",
       "      <td>6.527071e+06</td>\n",
       "      <td>1.877869e+06</td>\n",
       "      <td>POINT (6527070.744 1877869.293)</td>\n",
       "    </tr>\n",
       "    <tr>\n",
       "      <th>82</th>\n",
       "      <td>Gold</td>\n",
       "      <td>804</td>\n",
       "      <td>0</td>\n",
       "      <td>1</td>\n",
       "      <td>0</td>\n",
       "      <td>None</td>\n",
       "      <td>80421</td>\n",
       "      <td>Sierra Madre Villa Station</td>\n",
       "      <td>34.147752</td>\n",
       "      <td>-118.081212</td>\n",
       "      <td>Pasadena</td>\n",
       "      <td>6.537095e+06</td>\n",
       "      <td>1.876162e+06</td>\n",
       "      <td>POINT (6537094.647 1876161.862)</td>\n",
       "    </tr>\n",
       "  </tbody>\n",
       "</table>\n",
       "</div>"
      ],
      "text/plain": [
       "    LINE  LINENUM  LINENUM2  STNSEQ  STNSEQ2   DIR  STOPNUM  \\\n",
       "78  Gold      804         0       5        0  None    80417   \n",
       "79  Gold      804         0       4        0  None    80418   \n",
       "80  Gold      804         0       3        0  None    80419   \n",
       "81  Gold      804         0       2        0  None    80420   \n",
       "82  Gold      804         0       1        0  None    80421   \n",
       "\n",
       "                       STATION        LAT        LONG TPIS_NAME       POINT_X  \\\n",
       "78             Del Mar Station  34.141910 -118.148214   Del Mar  6.516819e+06   \n",
       "79       Memorial Park Station  34.148356 -118.147512    Mem Pk  6.517035e+06   \n",
       "80                Lake Station  34.151806 -118.131390      Lake  6.521914e+06   \n",
       "81               Allen Station  34.152417 -118.114348     Allen  6.527071e+06   \n",
       "82  Sierra Madre Villa Station  34.147752 -118.081212  Pasadena  6.537095e+06   \n",
       "\n",
       "         POINT_Y                         geometry  \n",
       "78  1.874059e+06  POINT (6516818.973 1874058.989)  \n",
       "79  1.876404e+06  POINT (6517034.832 1876404.492)  \n",
       "80  1.877653e+06  POINT (6521914.408 1877653.241)  \n",
       "81  1.877869e+06  POINT (6527070.744 1877869.293)  \n",
       "82  1.876162e+06  POINT (6537094.647 1876161.862)  "
      ]
     },
     "execution_count": 8,
     "metadata": {},
     "output_type": "execute_result"
    }
   ],
   "source": [
    "# try tail()\n",
    "metro.tail()"
   ]
  },
  {
   "cell_type": "code",
   "execution_count": 10,
   "metadata": {},
   "outputs": [
    {
     "data": {
      "text/html": [
       "<div>\n",
       "<style scoped>\n",
       "    .dataframe tbody tr th:only-of-type {\n",
       "        vertical-align: middle;\n",
       "    }\n",
       "\n",
       "    .dataframe tbody tr th {\n",
       "        vertical-align: top;\n",
       "    }\n",
       "\n",
       "    .dataframe thead th {\n",
       "        text-align: right;\n",
       "    }\n",
       "</style>\n",
       "<table border=\"1\" class=\"dataframe\">\n",
       "  <thead>\n",
       "    <tr style=\"text-align: right;\">\n",
       "      <th></th>\n",
       "      <th>LINE</th>\n",
       "      <th>LINENUM</th>\n",
       "      <th>LINENUM2</th>\n",
       "      <th>STNSEQ</th>\n",
       "      <th>STNSEQ2</th>\n",
       "      <th>DIR</th>\n",
       "      <th>STOPNUM</th>\n",
       "      <th>STATION</th>\n",
       "      <th>LAT</th>\n",
       "      <th>LONG</th>\n",
       "      <th>TPIS_NAME</th>\n",
       "      <th>POINT_X</th>\n",
       "      <th>POINT_Y</th>\n",
       "      <th>geometry</th>\n",
       "    </tr>\n",
       "  </thead>\n",
       "  <tbody>\n",
       "    <tr>\n",
       "      <th>69</th>\n",
       "      <td>Gold</td>\n",
       "      <td>804</td>\n",
       "      <td>0</td>\n",
       "      <td>14</td>\n",
       "      <td>0</td>\n",
       "      <td>None</td>\n",
       "      <td>80408</td>\n",
       "      <td>Little Tokyo / Arts District Station</td>\n",
       "      <td>34.050100</td>\n",
       "      <td>-118.237901</td>\n",
       "      <td>L Tokyo</td>\n",
       "      <td>6.489602e+06</td>\n",
       "      <td>1.840700e+06</td>\n",
       "      <td>POINT (6489601.777 1840699.814)</td>\n",
       "    </tr>\n",
       "    <tr>\n",
       "      <th>68</th>\n",
       "      <td>Gold</td>\n",
       "      <td>804</td>\n",
       "      <td>0</td>\n",
       "      <td>15</td>\n",
       "      <td>0</td>\n",
       "      <td>None</td>\n",
       "      <td>80407</td>\n",
       "      <td>Pico / Aliso Station</td>\n",
       "      <td>34.047634</td>\n",
       "      <td>-118.225940</td>\n",
       "      <td>Pi/Aliso</td>\n",
       "      <td>6.493223e+06</td>\n",
       "      <td>1.839794e+06</td>\n",
       "      <td>POINT (6493222.976 1839794.031)</td>\n",
       "    </tr>\n",
       "    <tr>\n",
       "      <th>54</th>\n",
       "      <td>Green</td>\n",
       "      <td>803</td>\n",
       "      <td>0</td>\n",
       "      <td>8</td>\n",
       "      <td>0</td>\n",
       "      <td>None</td>\n",
       "      <td>80307</td>\n",
       "      <td>Crenshaw Station</td>\n",
       "      <td>33.925201</td>\n",
       "      <td>-118.326550</td>\n",
       "      <td>Crenshaw</td>\n",
       "      <td>6.462601e+06</td>\n",
       "      <td>1.795322e+06</td>\n",
       "      <td>POINT (6462600.670 1795322.093)</td>\n",
       "    </tr>\n",
       "    <tr>\n",
       "      <th>21</th>\n",
       "      <td>EXPO</td>\n",
       "      <td>806</td>\n",
       "      <td>0</td>\n",
       "      <td>9</td>\n",
       "      <td>0</td>\n",
       "      <td>None</td>\n",
       "      <td>80124</td>\n",
       "      <td>Jefferson / USC Station</td>\n",
       "      <td>34.022123</td>\n",
       "      <td>-118.278118</td>\n",
       "      <td>Jeff/USC</td>\n",
       "      <td>6.477391e+06</td>\n",
       "      <td>1.830550e+06</td>\n",
       "      <td>POINT (6477391.116 1830549.740)</td>\n",
       "    </tr>\n",
       "    <tr>\n",
       "      <th>48</th>\n",
       "      <td>Green</td>\n",
       "      <td>803</td>\n",
       "      <td>0</td>\n",
       "      <td>14</td>\n",
       "      <td>0</td>\n",
       "      <td>None</td>\n",
       "      <td>80301</td>\n",
       "      <td>Redondo Beach Station</td>\n",
       "      <td>33.894640</td>\n",
       "      <td>-118.369196</td>\n",
       "      <td>Rdndo Bch</td>\n",
       "      <td>6.449622e+06</td>\n",
       "      <td>1.784245e+06</td>\n",
       "      <td>POINT (6449622.289 1784245.090)</td>\n",
       "    </tr>\n",
       "  </tbody>\n",
       "</table>\n",
       "</div>"
      ],
      "text/plain": [
       "     LINE  LINENUM  LINENUM2  STNSEQ  STNSEQ2   DIR  STOPNUM  \\\n",
       "69   Gold      804         0      14        0  None    80408   \n",
       "68   Gold      804         0      15        0  None    80407   \n",
       "54  Green      803         0       8        0  None    80307   \n",
       "21   EXPO      806         0       9        0  None    80124   \n",
       "48  Green      803         0      14        0  None    80301   \n",
       "\n",
       "                                 STATION        LAT        LONG  TPIS_NAME  \\\n",
       "69  Little Tokyo / Arts District Station  34.050100 -118.237901    L Tokyo   \n",
       "68                  Pico / Aliso Station  34.047634 -118.225940   Pi/Aliso   \n",
       "54                      Crenshaw Station  33.925201 -118.326550   Crenshaw   \n",
       "21               Jefferson / USC Station  34.022123 -118.278118   Jeff/USC   \n",
       "48                 Redondo Beach Station  33.894640 -118.369196  Rdndo Bch   \n",
       "\n",
       "         POINT_X       POINT_Y                         geometry  \n",
       "69  6.489602e+06  1.840700e+06  POINT (6489601.777 1840699.814)  \n",
       "68  6.493223e+06  1.839794e+06  POINT (6493222.976 1839794.031)  \n",
       "54  6.462601e+06  1.795322e+06  POINT (6462600.670 1795322.093)  \n",
       "21  6.477391e+06  1.830550e+06  POINT (6477391.116 1830549.740)  \n",
       "48  6.449622e+06  1.784245e+06  POINT (6449622.289 1784245.090)  "
      ]
     },
     "execution_count": 10,
     "metadata": {},
     "output_type": "execute_result"
    }
   ],
   "source": [
    "# try sample()\n",
    "metro.sample(5)"
   ]
  },
  {
   "cell_type": "markdown",
   "metadata": {
    "slideshow": {
     "slide_type": "slide"
    }
   },
   "source": [
    "## Pandas Data Types\n",
    "\n",
    "Let's look at the data types for each column. You can collectively get all the datatypes for each column in a dataframe using the `dtypes` command."
   ]
  },
  {
   "cell_type": "code",
   "execution_count": 11,
   "metadata": {
    "scrolled": true
   },
   "outputs": [
    {
     "data": {
      "text/plain": [
       "LINE           object\n",
       "LINENUM         int64\n",
       "LINENUM2        int64\n",
       "STNSEQ          int64\n",
       "STNSEQ2         int64\n",
       "DIR            object\n",
       "STOPNUM         int64\n",
       "STATION        object\n",
       "LAT           float64\n",
       "LONG          float64\n",
       "TPIS_NAME      object\n",
       "POINT_X       float64\n",
       "POINT_Y       float64\n",
       "geometry     geometry\n",
       "dtype: object"
      ]
     },
     "execution_count": 11,
     "metadata": {},
     "output_type": "execute_result"
    }
   ],
   "source": [
    "metro.dtypes"
   ]
  },
  {
   "cell_type": "markdown",
   "metadata": {
    "slideshow": {
     "slide_type": "slide"
    }
   },
   "source": [
    "But there is better command that will get you more info. Yes, the `info` command."
   ]
  },
  {
   "cell_type": "code",
   "execution_count": 12,
   "metadata": {
    "slideshow": {
     "slide_type": "fragment"
    }
   },
   "outputs": [
    {
     "name": "stdout",
     "output_type": "stream",
     "text": [
      "<class 'geopandas.geodataframe.GeoDataFrame'>\n",
      "RangeIndex: 83 entries, 0 to 82\n",
      "Data columns (total 14 columns):\n",
      " #   Column     Non-Null Count  Dtype   \n",
      "---  ------     --------------  -----   \n",
      " 0   LINE       83 non-null     object  \n",
      " 1   LINENUM    83 non-null     int64   \n",
      " 2   LINENUM2   83 non-null     int64   \n",
      " 3   STNSEQ     83 non-null     int64   \n",
      " 4   STNSEQ2    83 non-null     int64   \n",
      " 5   DIR        3 non-null      object  \n",
      " 6   STOPNUM    83 non-null     int64   \n",
      " 7   STATION    83 non-null     object  \n",
      " 8   LAT        83 non-null     float64 \n",
      " 9   LONG       83 non-null     float64 \n",
      " 10  TPIS_NAME  83 non-null     object  \n",
      " 11  POINT_X    83 non-null     float64 \n",
      " 12  POINT_Y    83 non-null     float64 \n",
      " 13  geometry   83 non-null     geometry\n",
      "dtypes: float64(4), geometry(1), int64(5), object(4)\n",
      "memory usage: 9.2+ KB\n"
     ]
    }
   ],
   "source": [
    "# dataframe info\n",
    "metro.info()"
   ]
  },
  {
   "cell_type": "markdown",
   "metadata": {
    "slideshow": {
     "slide_type": "slide"
    }
   },
   "source": [
    "Wait. That looks different from what we have worked on! As it turns out, pandas datatypes are slightly different from the raw python datatypes. Check out the table below:"
   ]
  },
  {
   "cell_type": "markdown",
   "metadata": {
    "slideshow": {
     "slide_type": "fragment"
    }
   },
   "source": [
    "<table class=\"table table-striped\">\n",
    "  <thead>\n",
    "    <tr>\n",
    "      <th>Pandas Type</th>\n",
    "      <th>Native Python Type</th>\n",
    "      <th>Description</th>\n",
    "    </tr>\n",
    "  </thead>\n",
    "  <tbody>\n",
    "    <tr>\n",
    "      <td>object</td>\n",
    "      <td>string</td>\n",
    "      <td>The most general dtype. Will be assigned to your column if column has mixed types (numbers and strings).</td>\n",
    "    </tr>\n",
    "    <tr>\n",
    "      <td>int64</td>\n",
    "      <td>int</td>\n",
    "      <td>Numeric characters. 64 refers to the memory allocated to hold this character.</td>\n",
    "    </tr>\n",
    "    <tr>\n",
    "      <td>float64</td>\n",
    "      <td>float</td>\n",
    "      <td>Numeric characters with decimals. If a column contains numbers and NaNs (see below), pandas will default to float64, in case your missing value has a decimal.</td>\n",
    "    </tr>\n",
    "    <tr>\n",
    "      <td>datetime64, timedelta[ns]</td>\n",
    "      <td>N/A (but see the <a href=\"http://doc.python.org/2/library/datetime.html\">datetime</a> module in Python’s standard library)</td>\n",
    "      <td>Values meant to hold time data. Look into these for time series experiments.</td>\n",
    "    </tr>\n",
    "  </tbody>\n",
    "</table>"
   ]
  },
  {
   "cell_type": "markdown",
   "metadata": {
    "slideshow": {
     "slide_type": "slide"
    }
   },
   "source": [
    "## Data exploration\n",
    "\n",
    "Part of data exploration is learning what is in your data. How many rows are there? What are the columns? How many rows represent a particular slice of the data?"
   ]
  },
  {
   "cell_type": "code",
   "execution_count": 13,
   "metadata": {
    "slideshow": {
     "slide_type": "fragment"
    }
   },
   "outputs": [
    {
     "data": {
      "text/plain": [
       "(83, 14)"
      ]
     },
     "execution_count": 13,
     "metadata": {},
     "output_type": "execute_result"
    }
   ],
   "source": [
    "# how many rows and columns?\n",
    "metro.shape"
   ]
  },
  {
   "cell_type": "code",
   "execution_count": 16,
   "metadata": {
    "slideshow": {
     "slide_type": "fragment"
    }
   },
   "outputs": [
    {
     "data": {
      "text/plain": [
       "['LINE',\n",
       " 'LINENUM',\n",
       " 'LINENUM2',\n",
       " 'STNSEQ',\n",
       " 'STNSEQ2',\n",
       " 'DIR',\n",
       " 'STOPNUM',\n",
       " 'STATION',\n",
       " 'LAT',\n",
       " 'LONG',\n",
       " 'TPIS_NAME',\n",
       " 'POINT_X',\n",
       " 'POINT_Y',\n",
       " 'geometry']"
      ]
     },
     "execution_count": 16,
     "metadata": {},
     "output_type": "execute_result"
    }
   ],
   "source": [
    "# what are the columns?\n",
    "metro.columns.to_list()"
   ]
  },
  {
   "cell_type": "markdown",
   "metadata": {
    "slideshow": {
     "slide_type": "slide"
    }
   },
   "source": [
    "### Counting unique values in a column\n",
    "\n",
    "First, learn how to get values for a single column."
   ]
  },
  {
   "cell_type": "code",
   "execution_count": 17,
   "metadata": {
    "slideshow": {
     "slide_type": "fragment"
    }
   },
   "outputs": [
    {
     "data": {
      "text/plain": [
       "0     Blue\n",
       "1     Blue\n",
       "2     Blue\n",
       "3     Blue\n",
       "4     Blue\n",
       "      ... \n",
       "78    Gold\n",
       "79    Gold\n",
       "80    Gold\n",
       "81    Gold\n",
       "82    Gold\n",
       "Name: LINE, Length: 83, dtype: object"
      ]
     },
     "execution_count": 17,
     "metadata": {},
     "output_type": "execute_result"
    }
   ],
   "source": [
    "# single column\n",
    "metro['LINE']"
   ]
  },
  {
   "cell_type": "code",
   "execution_count": 18,
   "metadata": {
    "slideshow": {
     "slide_type": "fragment"
    }
   },
   "outputs": [
    {
     "data": {
      "text/plain": [
       "0     Blue\n",
       "1     Blue\n",
       "2     Blue\n",
       "3     Blue\n",
       "4     Blue\n",
       "      ... \n",
       "78    Gold\n",
       "79    Gold\n",
       "80    Gold\n",
       "81    Gold\n",
       "82    Gold\n",
       "Name: LINE, Length: 83, dtype: object"
      ]
     },
     "execution_count": 18,
     "metadata": {},
     "output_type": "execute_result"
    }
   ],
   "source": [
    "# another way\n",
    "metro.LINE"
   ]
  },
  {
   "cell_type": "markdown",
   "metadata": {
    "slideshow": {
     "slide_type": "slide"
    }
   },
   "source": [
    "But what if you want to know how many stations there are for each line?"
   ]
  },
  {
   "cell_type": "code",
   "execution_count": 19,
   "metadata": {
    "scrolled": false,
    "slideshow": {
     "slide_type": "fragment"
    }
   },
   "outputs": [
    {
     "data": {
      "text/plain": [
       "Gold          21\n",
       "Blue          20\n",
       "Green         14\n",
       "EXPO          10\n",
       "Red            8\n",
       "Red/Purple     6\n",
       "Blue/EXPO      2\n",
       "Purple         2\n",
       "Name: LINE, dtype: int64"
      ]
     },
     "execution_count": 19,
     "metadata": {},
     "output_type": "execute_result"
    }
   ],
   "source": [
    "metro['LINE'].value_counts()"
   ]
  },
  {
   "cell_type": "markdown",
   "metadata": {
    "slideshow": {
     "slide_type": "slide"
    }
   },
   "source": [
    "Why don't we plot it?\n",
    "\n",
    "* [pandas plot](https://pandas.pydata.org/pandas-docs/stable/reference/api/pandas.DataFrame.plot.html)"
   ]
  },
  {
   "cell_type": "code",
   "execution_count": 20,
   "metadata": {
    "scrolled": false,
    "slideshow": {
     "slide_type": "fragment"
    }
   },
   "outputs": [
    {
     "data": {
      "text/plain": [
       "<matplotlib.axes._subplots.AxesSubplot at 0x7fca0f87c130>"
      ]
     },
     "execution_count": 20,
     "metadata": {},
     "output_type": "execute_result"
    },
    {
     "data": {
      "image/png": "[encoded data removed]",
      "text/plain": [
       "<Figure size 432x288 with 1 Axes>"
      ]
     },
     "metadata": {
      "needs_background": "light"
     },
     "output_type": "display_data"
    }
   ],
   "source": [
    "metro['LINE'].value_counts().plot.bar()"
   ]
  },
  {
   "cell_type": "code",
   "execution_count": 24,
   "metadata": {
    "slideshow": {
     "slide_type": "slide"
    }
   },
   "outputs": [
    {
     "data": {
      "text/plain": [
       "<matplotlib.axes._subplots.AxesSubplot at 0x7fca0f553a00>"
      ]
     },
     "execution_count": 24,
     "metadata": {},
     "output_type": "execute_result"
    },
    {
     "data": {
      "image/png": "[encoded data removed]",
      "text/plain": [
       "<Figure size 432x288 with 1 Axes>"
      ]
     },
     "metadata": {
      "needs_background": "light"
     },
     "output_type": "display_data"
    }
   ],
   "source": [
    "# try it yourself. find the unique values and counts for LINENUM\n",
    "metro.LINENUM.value_counts().plot.bar()"
   ]
  },
  {
   "cell_type": "markdown",
   "metadata": {
    "slideshow": {
     "slide_type": "slide"
    }
   },
   "source": [
    "### Trimming the data\n",
    "Oftentimes, we import data and it has too many columns. It is always good practice to elimnate those rows that you are sure you will not use, and keep your data \"clean\" and \"mean.\"\n",
    "\n"
   ]
  },
  {
   "cell_type": "code",
   "execution_count": 25,
   "metadata": {
    "slideshow": {
     "slide_type": "fragment"
    }
   },
   "outputs": [
    {
     "data": {
      "text/html": [
       "<div>\n",
       "<style scoped>\n",
       "    .dataframe tbody tr th:only-of-type {\n",
       "        vertical-align: middle;\n",
       "    }\n",
       "\n",
       "    .dataframe tbody tr th {\n",
       "        vertical-align: top;\n",
       "    }\n",
       "\n",
       "    .dataframe thead th {\n",
       "        text-align: right;\n",
       "    }\n",
       "</style>\n",
       "<table border=\"1\" class=\"dataframe\">\n",
       "  <thead>\n",
       "    <tr style=\"text-align: right;\">\n",
       "      <th></th>\n",
       "      <th>LINE</th>\n",
       "      <th>LINENUM</th>\n",
       "      <th>STATION</th>\n",
       "      <th>LAT</th>\n",
       "      <th>LONG</th>\n",
       "      <th>geometry</th>\n",
       "    </tr>\n",
       "  </thead>\n",
       "  <tbody>\n",
       "    <tr>\n",
       "      <th>0</th>\n",
       "      <td>Blue</td>\n",
       "      <td>801</td>\n",
       "      <td>Downtown Long Beach Station</td>\n",
       "      <td>33.768071</td>\n",
       "      <td>-118.192921</td>\n",
       "      <td>POINT (6503030.095 1738033.828)</td>\n",
       "    </tr>\n",
       "    <tr>\n",
       "      <th>1</th>\n",
       "      <td>Blue</td>\n",
       "      <td>801</td>\n",
       "      <td>Pacific Ave Station</td>\n",
       "      <td>33.772258</td>\n",
       "      <td>-118.193700</td>\n",
       "      <td>POINT (6502796.262 1739558.050)</td>\n",
       "    </tr>\n",
       "    <tr>\n",
       "      <th>2</th>\n",
       "      <td>Blue</td>\n",
       "      <td>801</td>\n",
       "      <td>Anaheim Street Station</td>\n",
       "      <td>33.781830</td>\n",
       "      <td>-118.189384</td>\n",
       "      <td>POINT (6504114.567 1743039.068)</td>\n",
       "    </tr>\n",
       "    <tr>\n",
       "      <th>3</th>\n",
       "      <td>Blue</td>\n",
       "      <td>801</td>\n",
       "      <td>Pacific Coast Hwy Station</td>\n",
       "      <td>33.789090</td>\n",
       "      <td>-118.189382</td>\n",
       "      <td>POINT (6504120.152 1745681.179)</td>\n",
       "    </tr>\n",
       "    <tr>\n",
       "      <th>4</th>\n",
       "      <td>Blue</td>\n",
       "      <td>801</td>\n",
       "      <td>Willow Street Station</td>\n",
       "      <td>33.807079</td>\n",
       "      <td>-118.189834</td>\n",
       "      <td>POINT (6503995.170 1752228.119)</td>\n",
       "    </tr>\n",
       "    <tr>\n",
       "      <th>...</th>\n",
       "      <td>...</td>\n",
       "      <td>...</td>\n",
       "      <td>...</td>\n",
       "      <td>...</td>\n",
       "      <td>...</td>\n",
       "      <td>...</td>\n",
       "    </tr>\n",
       "    <tr>\n",
       "      <th>78</th>\n",
       "      <td>Gold</td>\n",
       "      <td>804</td>\n",
       "      <td>Del Mar Station</td>\n",
       "      <td>34.141910</td>\n",
       "      <td>-118.148214</td>\n",
       "      <td>POINT (6516818.973 1874058.989)</td>\n",
       "    </tr>\n",
       "    <tr>\n",
       "      <th>79</th>\n",
       "      <td>Gold</td>\n",
       "      <td>804</td>\n",
       "      <td>Memorial Park Station</td>\n",
       "      <td>34.148356</td>\n",
       "      <td>-118.147512</td>\n",
       "      <td>POINT (6517034.832 1876404.492)</td>\n",
       "    </tr>\n",
       "    <tr>\n",
       "      <th>80</th>\n",
       "      <td>Gold</td>\n",
       "      <td>804</td>\n",
       "      <td>Lake Station</td>\n",
       "      <td>34.151806</td>\n",
       "      <td>-118.131390</td>\n",
       "      <td>POINT (6521914.408 1877653.241)</td>\n",
       "    </tr>\n",
       "    <tr>\n",
       "      <th>81</th>\n",
       "      <td>Gold</td>\n",
       "      <td>804</td>\n",
       "      <td>Allen Station</td>\n",
       "      <td>34.152417</td>\n",
       "      <td>-118.114348</td>\n",
       "      <td>POINT (6527070.744 1877869.293)</td>\n",
       "    </tr>\n",
       "    <tr>\n",
       "      <th>82</th>\n",
       "      <td>Gold</td>\n",
       "      <td>804</td>\n",
       "      <td>Sierra Madre Villa Station</td>\n",
       "      <td>34.147752</td>\n",
       "      <td>-118.081212</td>\n",
       "      <td>POINT (6537094.647 1876161.862)</td>\n",
       "    </tr>\n",
       "  </tbody>\n",
       "</table>\n",
       "<p>83 rows × 6 columns</p>\n",
       "</div>"
      ],
      "text/plain": [
       "    LINE  LINENUM                      STATION        LAT        LONG  \\\n",
       "0   Blue      801  Downtown Long Beach Station  33.768071 -118.192921   \n",
       "1   Blue      801          Pacific Ave Station  33.772258 -118.193700   \n",
       "2   Blue      801       Anaheim Street Station  33.781830 -118.189384   \n",
       "3   Blue      801    Pacific Coast Hwy Station  33.789090 -118.189382   \n",
       "4   Blue      801        Willow Street Station  33.807079 -118.189834   \n",
       "..   ...      ...                          ...        ...         ...   \n",
       "78  Gold      804              Del Mar Station  34.141910 -118.148214   \n",
       "79  Gold      804        Memorial Park Station  34.148356 -118.147512   \n",
       "80  Gold      804                 Lake Station  34.151806 -118.131390   \n",
       "81  Gold      804                Allen Station  34.152417 -118.114348   \n",
       "82  Gold      804   Sierra Madre Villa Station  34.147752 -118.081212   \n",
       "\n",
       "                           geometry  \n",
       "0   POINT (6503030.095 1738033.828)  \n",
       "1   POINT (6502796.262 1739558.050)  \n",
       "2   POINT (6504114.567 1743039.068)  \n",
       "3   POINT (6504120.152 1745681.179)  \n",
       "4   POINT (6503995.170 1752228.119)  \n",
       "..                              ...  \n",
       "78  POINT (6516818.973 1874058.989)  \n",
       "79  POINT (6517034.832 1876404.492)  \n",
       "80  POINT (6521914.408 1877653.241)  \n",
       "81  POINT (6527070.744 1877869.293)  \n",
       "82  POINT (6537094.647 1876161.862)  \n",
       "\n",
       "[83 rows x 6 columns]"
      ]
     },
     "execution_count": 25,
     "metadata": {},
     "output_type": "execute_result"
    }
   ],
   "source": [
    "metro[['LINE','LINENUM','STATION','LAT','LONG','geometry']]"
   ]
  },
  {
   "cell_type": "markdown",
   "metadata": {
    "slideshow": {
     "slide_type": "slide"
    }
   },
   "source": [
    "Wait, why the double square brackets? `[[...]]`\n",
    "\n",
    "The reason for this is that we are feeding the dataframe a list of column names. Another way to do the same thing would be:"
   ]
  },
  {
   "cell_type": "code",
   "execution_count": 26,
   "metadata": {
    "slideshow": {
     "slide_type": "fragment"
    }
   },
   "outputs": [
    {
     "data": {
      "text/html": [
       "<div>\n",
       "<style scoped>\n",
       "    .dataframe tbody tr th:only-of-type {\n",
       "        vertical-align: middle;\n",
       "    }\n",
       "\n",
       "    .dataframe tbody tr th {\n",
       "        vertical-align: top;\n",
       "    }\n",
       "\n",
       "    .dataframe thead th {\n",
       "        text-align: right;\n",
       "    }\n",
       "</style>\n",
       "<table border=\"1\" class=\"dataframe\">\n",
       "  <thead>\n",
       "    <tr style=\"text-align: right;\">\n",
       "      <th></th>\n",
       "      <th>LINE</th>\n",
       "      <th>LINENUM</th>\n",
       "      <th>STATION</th>\n",
       "      <th>LAT</th>\n",
       "      <th>LONG</th>\n",
       "      <th>geometry</th>\n",
       "    </tr>\n",
       "  </thead>\n",
       "  <tbody>\n",
       "    <tr>\n",
       "      <th>0</th>\n",
       "      <td>Blue</td>\n",
       "      <td>801</td>\n",
       "      <td>Downtown Long Beach Station</td>\n",
       "      <td>33.768071</td>\n",
       "      <td>-118.192921</td>\n",
       "      <td>POINT (6503030.095 1738033.828)</td>\n",
       "    </tr>\n",
       "    <tr>\n",
       "      <th>1</th>\n",
       "      <td>Blue</td>\n",
       "      <td>801</td>\n",
       "      <td>Pacific Ave Station</td>\n",
       "      <td>33.772258</td>\n",
       "      <td>-118.193700</td>\n",
       "      <td>POINT (6502796.262 1739558.050)</td>\n",
       "    </tr>\n",
       "    <tr>\n",
       "      <th>2</th>\n",
       "      <td>Blue</td>\n",
       "      <td>801</td>\n",
       "      <td>Anaheim Street Station</td>\n",
       "      <td>33.781830</td>\n",
       "      <td>-118.189384</td>\n",
       "      <td>POINT (6504114.567 1743039.068)</td>\n",
       "    </tr>\n",
       "    <tr>\n",
       "      <th>3</th>\n",
       "      <td>Blue</td>\n",
       "      <td>801</td>\n",
       "      <td>Pacific Coast Hwy Station</td>\n",
       "      <td>33.789090</td>\n",
       "      <td>-118.189382</td>\n",
       "      <td>POINT (6504120.152 1745681.179)</td>\n",
       "    </tr>\n",
       "    <tr>\n",
       "      <th>4</th>\n",
       "      <td>Blue</td>\n",
       "      <td>801</td>\n",
       "      <td>Willow Street Station</td>\n",
       "      <td>33.807079</td>\n",
       "      <td>-118.189834</td>\n",
       "      <td>POINT (6503995.170 1752228.119)</td>\n",
       "    </tr>\n",
       "    <tr>\n",
       "      <th>...</th>\n",
       "      <td>...</td>\n",
       "      <td>...</td>\n",
       "      <td>...</td>\n",
       "      <td>...</td>\n",
       "      <td>...</td>\n",
       "      <td>...</td>\n",
       "    </tr>\n",
       "    <tr>\n",
       "      <th>78</th>\n",
       "      <td>Gold</td>\n",
       "      <td>804</td>\n",
       "      <td>Del Mar Station</td>\n",
       "      <td>34.141910</td>\n",
       "      <td>-118.148214</td>\n",
       "      <td>POINT (6516818.973 1874058.989)</td>\n",
       "    </tr>\n",
       "    <tr>\n",
       "      <th>79</th>\n",
       "      <td>Gold</td>\n",
       "      <td>804</td>\n",
       "      <td>Memorial Park Station</td>\n",
       "      <td>34.148356</td>\n",
       "      <td>-118.147512</td>\n",
       "      <td>POINT (6517034.832 1876404.492)</td>\n",
       "    </tr>\n",
       "    <tr>\n",
       "      <th>80</th>\n",
       "      <td>Gold</td>\n",
       "      <td>804</td>\n",
       "      <td>Lake Station</td>\n",
       "      <td>34.151806</td>\n",
       "      <td>-118.131390</td>\n",
       "      <td>POINT (6521914.408 1877653.241)</td>\n",
       "    </tr>\n",
       "    <tr>\n",
       "      <th>81</th>\n",
       "      <td>Gold</td>\n",
       "      <td>804</td>\n",
       "      <td>Allen Station</td>\n",
       "      <td>34.152417</td>\n",
       "      <td>-118.114348</td>\n",
       "      <td>POINT (6527070.744 1877869.293)</td>\n",
       "    </tr>\n",
       "    <tr>\n",
       "      <th>82</th>\n",
       "      <td>Gold</td>\n",
       "      <td>804</td>\n",
       "      <td>Sierra Madre Villa Station</td>\n",
       "      <td>34.147752</td>\n",
       "      <td>-118.081212</td>\n",
       "      <td>POINT (6537094.647 1876161.862)</td>\n",
       "    </tr>\n",
       "  </tbody>\n",
       "</table>\n",
       "<p>83 rows × 6 columns</p>\n",
       "</div>"
      ],
      "text/plain": [
       "    LINE  LINENUM                      STATION        LAT        LONG  \\\n",
       "0   Blue      801  Downtown Long Beach Station  33.768071 -118.192921   \n",
       "1   Blue      801          Pacific Ave Station  33.772258 -118.193700   \n",
       "2   Blue      801       Anaheim Street Station  33.781830 -118.189384   \n",
       "3   Blue      801    Pacific Coast Hwy Station  33.789090 -118.189382   \n",
       "4   Blue      801        Willow Street Station  33.807079 -118.189834   \n",
       "..   ...      ...                          ...        ...         ...   \n",
       "78  Gold      804              Del Mar Station  34.141910 -118.148214   \n",
       "79  Gold      804        Memorial Park Station  34.148356 -118.147512   \n",
       "80  Gold      804                 Lake Station  34.151806 -118.131390   \n",
       "81  Gold      804                Allen Station  34.152417 -118.114348   \n",
       "82  Gold      804   Sierra Madre Villa Station  34.147752 -118.081212   \n",
       "\n",
       "                           geometry  \n",
       "0   POINT (6503030.095 1738033.828)  \n",
       "1   POINT (6502796.262 1739558.050)  \n",
       "2   POINT (6504114.567 1743039.068)  \n",
       "3   POINT (6504120.152 1745681.179)  \n",
       "4   POINT (6503995.170 1752228.119)  \n",
       "..                              ...  \n",
       "78  POINT (6516818.973 1874058.989)  \n",
       "79  POINT (6517034.832 1876404.492)  \n",
       "80  POINT (6521914.408 1877653.241)  \n",
       "81  POINT (6527070.744 1877869.293)  \n",
       "82  POINT (6537094.647 1876161.862)  \n",
       "\n",
       "[83 rows x 6 columns]"
      ]
     },
     "execution_count": 26,
     "metadata": {},
     "output_type": "execute_result"
    }
   ],
   "source": [
    "# list of desired column names\n",
    "desired_columns = ['LINE','LINENUM','STATION','LAT','LONG','geometry']\n",
    "\n",
    "# subset based on desired columns\n",
    "metro[desired_columns]"
   ]
  },
  {
   "cell_type": "markdown",
   "metadata": {
    "slideshow": {
     "slide_type": "slide"
    }
   },
   "source": [
    "If you now print the dataframe, what happens?"
   ]
  },
  {
   "cell_type": "code",
   "execution_count": 27,
   "metadata": {
    "slideshow": {
     "slide_type": "fragment"
    }
   },
   "outputs": [
    {
     "data": {
      "text/html": [
       "<div>\n",
       "<style scoped>\n",
       "    .dataframe tbody tr th:only-of-type {\n",
       "        vertical-align: middle;\n",
       "    }\n",
       "\n",
       "    .dataframe tbody tr th {\n",
       "        vertical-align: top;\n",
       "    }\n",
       "\n",
       "    .dataframe thead th {\n",
       "        text-align: right;\n",
       "    }\n",
       "</style>\n",
       "<table border=\"1\" class=\"dataframe\">\n",
       "  <thead>\n",
       "    <tr style=\"text-align: right;\">\n",
       "      <th></th>\n",
       "      <th>LINE</th>\n",
       "      <th>LINENUM</th>\n",
       "      <th>LINENUM2</th>\n",
       "      <th>STNSEQ</th>\n",
       "      <th>STNSEQ2</th>\n",
       "      <th>DIR</th>\n",
       "      <th>STOPNUM</th>\n",
       "      <th>STATION</th>\n",
       "      <th>LAT</th>\n",
       "      <th>LONG</th>\n",
       "      <th>TPIS_NAME</th>\n",
       "      <th>POINT_X</th>\n",
       "      <th>POINT_Y</th>\n",
       "      <th>geometry</th>\n",
       "    </tr>\n",
       "  </thead>\n",
       "  <tbody>\n",
       "    <tr>\n",
       "      <th>0</th>\n",
       "      <td>Blue</td>\n",
       "      <td>801</td>\n",
       "      <td>0</td>\n",
       "      <td>21</td>\n",
       "      <td>0</td>\n",
       "      <td>None</td>\n",
       "      <td>80101</td>\n",
       "      <td>Downtown Long Beach Station</td>\n",
       "      <td>33.768071</td>\n",
       "      <td>-118.192921</td>\n",
       "      <td>Long Bch</td>\n",
       "      <td>6.503030e+06</td>\n",
       "      <td>1.738034e+06</td>\n",
       "      <td>POINT (6503030.095 1738033.828)</td>\n",
       "    </tr>\n",
       "    <tr>\n",
       "      <th>1</th>\n",
       "      <td>Blue</td>\n",
       "      <td>801</td>\n",
       "      <td>0</td>\n",
       "      <td>22</td>\n",
       "      <td>0</td>\n",
       "      <td>North</td>\n",
       "      <td>80102</td>\n",
       "      <td>Pacific Ave Station</td>\n",
       "      <td>33.772258</td>\n",
       "      <td>-118.193700</td>\n",
       "      <td>Pacific</td>\n",
       "      <td>6.502796e+06</td>\n",
       "      <td>1.739558e+06</td>\n",
       "      <td>POINT (6502796.262 1739558.050)</td>\n",
       "    </tr>\n",
       "    <tr>\n",
       "      <th>2</th>\n",
       "      <td>Blue</td>\n",
       "      <td>801</td>\n",
       "      <td>0</td>\n",
       "      <td>18</td>\n",
       "      <td>0</td>\n",
       "      <td>None</td>\n",
       "      <td>80105</td>\n",
       "      <td>Anaheim Street Station</td>\n",
       "      <td>33.781830</td>\n",
       "      <td>-118.189384</td>\n",
       "      <td>Anaheim</td>\n",
       "      <td>6.504115e+06</td>\n",
       "      <td>1.743039e+06</td>\n",
       "      <td>POINT (6504114.567 1743039.068)</td>\n",
       "    </tr>\n",
       "    <tr>\n",
       "      <th>3</th>\n",
       "      <td>Blue</td>\n",
       "      <td>801</td>\n",
       "      <td>0</td>\n",
       "      <td>17</td>\n",
       "      <td>0</td>\n",
       "      <td>None</td>\n",
       "      <td>80106</td>\n",
       "      <td>Pacific Coast Hwy Station</td>\n",
       "      <td>33.789090</td>\n",
       "      <td>-118.189382</td>\n",
       "      <td>PCH</td>\n",
       "      <td>6.504120e+06</td>\n",
       "      <td>1.745681e+06</td>\n",
       "      <td>POINT (6504120.152 1745681.179)</td>\n",
       "    </tr>\n",
       "    <tr>\n",
       "      <th>4</th>\n",
       "      <td>Blue</td>\n",
       "      <td>801</td>\n",
       "      <td>0</td>\n",
       "      <td>16</td>\n",
       "      <td>0</td>\n",
       "      <td>None</td>\n",
       "      <td>80107</td>\n",
       "      <td>Willow Street Station</td>\n",
       "      <td>33.807079</td>\n",
       "      <td>-118.189834</td>\n",
       "      <td>Willow</td>\n",
       "      <td>6.503995e+06</td>\n",
       "      <td>1.752228e+06</td>\n",
       "      <td>POINT (6503995.170 1752228.119)</td>\n",
       "    </tr>\n",
       "  </tbody>\n",
       "</table>\n",
       "</div>"
      ],
      "text/plain": [
       "   LINE  LINENUM  LINENUM2  STNSEQ  STNSEQ2    DIR  STOPNUM  \\\n",
       "0  Blue      801         0      21        0   None    80101   \n",
       "1  Blue      801         0      22        0  North    80102   \n",
       "2  Blue      801         0      18        0   None    80105   \n",
       "3  Blue      801         0      17        0   None    80106   \n",
       "4  Blue      801         0      16        0   None    80107   \n",
       "\n",
       "                       STATION        LAT        LONG TPIS_NAME       POINT_X  \\\n",
       "0  Downtown Long Beach Station  33.768071 -118.192921  Long Bch  6.503030e+06   \n",
       "1          Pacific Ave Station  33.772258 -118.193700   Pacific  6.502796e+06   \n",
       "2       Anaheim Street Station  33.781830 -118.189384   Anaheim  6.504115e+06   \n",
       "3    Pacific Coast Hwy Station  33.789090 -118.189382       PCH  6.504120e+06   \n",
       "4        Willow Street Station  33.807079 -118.189834    Willow  6.503995e+06   \n",
       "\n",
       "        POINT_Y                         geometry  \n",
       "0  1.738034e+06  POINT (6503030.095 1738033.828)  \n",
       "1  1.739558e+06  POINT (6502796.262 1739558.050)  \n",
       "2  1.743039e+06  POINT (6504114.567 1743039.068)  \n",
       "3  1.745681e+06  POINT (6504120.152 1745681.179)  \n",
       "4  1.752228e+06  POINT (6503995.170 1752228.119)  "
      ]
     },
     "execution_count": 27,
     "metadata": {},
     "output_type": "execute_result"
    }
   ],
   "source": [
    "metro.head()"
   ]
  },
  {
   "cell_type": "markdown",
   "metadata": {
    "slideshow": {
     "slide_type": "fragment"
    }
   },
   "source": [
    "What happened? Why has the dataframe reverted to the original data?"
   ]
  },
  {
   "cell_type": "markdown",
   "metadata": {
    "slideshow": {
     "slide_type": "slide"
    }
   },
   "source": [
    "That's right. In order to preserve your new dataframe, you have to **declare** it as a new variable."
   ]
  },
  {
   "cell_type": "code",
   "execution_count": 28,
   "metadata": {
    "slideshow": {
     "slide_type": "fragment"
    }
   },
   "outputs": [
    {
     "data": {
      "text/html": [
       "<div>\n",
       "<style scoped>\n",
       "    .dataframe tbody tr th:only-of-type {\n",
       "        vertical-align: middle;\n",
       "    }\n",
       "\n",
       "    .dataframe tbody tr th {\n",
       "        vertical-align: top;\n",
       "    }\n",
       "\n",
       "    .dataframe thead th {\n",
       "        text-align: right;\n",
       "    }\n",
       "</style>\n",
       "<table border=\"1\" class=\"dataframe\">\n",
       "  <thead>\n",
       "    <tr style=\"text-align: right;\">\n",
       "      <th></th>\n",
       "      <th>LINE</th>\n",
       "      <th>LINENUM</th>\n",
       "      <th>STATION</th>\n",
       "      <th>LAT</th>\n",
       "      <th>LONG</th>\n",
       "      <th>geometry</th>\n",
       "    </tr>\n",
       "  </thead>\n",
       "  <tbody>\n",
       "    <tr>\n",
       "      <th>0</th>\n",
       "      <td>Blue</td>\n",
       "      <td>801</td>\n",
       "      <td>Downtown Long Beach Station</td>\n",
       "      <td>33.768071</td>\n",
       "      <td>-118.192921</td>\n",
       "      <td>POINT (6503030.095 1738033.828)</td>\n",
       "    </tr>\n",
       "    <tr>\n",
       "      <th>1</th>\n",
       "      <td>Blue</td>\n",
       "      <td>801</td>\n",
       "      <td>Pacific Ave Station</td>\n",
       "      <td>33.772258</td>\n",
       "      <td>-118.193700</td>\n",
       "      <td>POINT (6502796.262 1739558.050)</td>\n",
       "    </tr>\n",
       "    <tr>\n",
       "      <th>2</th>\n",
       "      <td>Blue</td>\n",
       "      <td>801</td>\n",
       "      <td>Anaheim Street Station</td>\n",
       "      <td>33.781830</td>\n",
       "      <td>-118.189384</td>\n",
       "      <td>POINT (6504114.567 1743039.068)</td>\n",
       "    </tr>\n",
       "    <tr>\n",
       "      <th>3</th>\n",
       "      <td>Blue</td>\n",
       "      <td>801</td>\n",
       "      <td>Pacific Coast Hwy Station</td>\n",
       "      <td>33.789090</td>\n",
       "      <td>-118.189382</td>\n",
       "      <td>POINT (6504120.152 1745681.179)</td>\n",
       "    </tr>\n",
       "    <tr>\n",
       "      <th>4</th>\n",
       "      <td>Blue</td>\n",
       "      <td>801</td>\n",
       "      <td>Willow Street Station</td>\n",
       "      <td>33.807079</td>\n",
       "      <td>-118.189834</td>\n",
       "      <td>POINT (6503995.170 1752228.119)</td>\n",
       "    </tr>\n",
       "    <tr>\n",
       "      <th>...</th>\n",
       "      <td>...</td>\n",
       "      <td>...</td>\n",
       "      <td>...</td>\n",
       "      <td>...</td>\n",
       "      <td>...</td>\n",
       "      <td>...</td>\n",
       "    </tr>\n",
       "    <tr>\n",
       "      <th>78</th>\n",
       "      <td>Gold</td>\n",
       "      <td>804</td>\n",
       "      <td>Del Mar Station</td>\n",
       "      <td>34.141910</td>\n",
       "      <td>-118.148214</td>\n",
       "      <td>POINT (6516818.973 1874058.989)</td>\n",
       "    </tr>\n",
       "    <tr>\n",
       "      <th>79</th>\n",
       "      <td>Gold</td>\n",
       "      <td>804</td>\n",
       "      <td>Memorial Park Station</td>\n",
       "      <td>34.148356</td>\n",
       "      <td>-118.147512</td>\n",
       "      <td>POINT (6517034.832 1876404.492)</td>\n",
       "    </tr>\n",
       "    <tr>\n",
       "      <th>80</th>\n",
       "      <td>Gold</td>\n",
       "      <td>804</td>\n",
       "      <td>Lake Station</td>\n",
       "      <td>34.151806</td>\n",
       "      <td>-118.131390</td>\n",
       "      <td>POINT (6521914.408 1877653.241)</td>\n",
       "    </tr>\n",
       "    <tr>\n",
       "      <th>81</th>\n",
       "      <td>Gold</td>\n",
       "      <td>804</td>\n",
       "      <td>Allen Station</td>\n",
       "      <td>34.152417</td>\n",
       "      <td>-118.114348</td>\n",
       "      <td>POINT (6527070.744 1877869.293)</td>\n",
       "    </tr>\n",
       "    <tr>\n",
       "      <th>82</th>\n",
       "      <td>Gold</td>\n",
       "      <td>804</td>\n",
       "      <td>Sierra Madre Villa Station</td>\n",
       "      <td>34.147752</td>\n",
       "      <td>-118.081212</td>\n",
       "      <td>POINT (6537094.647 1876161.862)</td>\n",
       "    </tr>\n",
       "  </tbody>\n",
       "</table>\n",
       "<p>83 rows × 6 columns</p>\n",
       "</div>"
      ],
      "text/plain": [
       "    LINE  LINENUM                      STATION        LAT        LONG  \\\n",
       "0   Blue      801  Downtown Long Beach Station  33.768071 -118.192921   \n",
       "1   Blue      801          Pacific Ave Station  33.772258 -118.193700   \n",
       "2   Blue      801       Anaheim Street Station  33.781830 -118.189384   \n",
       "3   Blue      801    Pacific Coast Hwy Station  33.789090 -118.189382   \n",
       "4   Blue      801        Willow Street Station  33.807079 -118.189834   \n",
       "..   ...      ...                          ...        ...         ...   \n",
       "78  Gold      804              Del Mar Station  34.141910 -118.148214   \n",
       "79  Gold      804        Memorial Park Station  34.148356 -118.147512   \n",
       "80  Gold      804                 Lake Station  34.151806 -118.131390   \n",
       "81  Gold      804                Allen Station  34.152417 -118.114348   \n",
       "82  Gold      804   Sierra Madre Villa Station  34.147752 -118.081212   \n",
       "\n",
       "                           geometry  \n",
       "0   POINT (6503030.095 1738033.828)  \n",
       "1   POINT (6502796.262 1739558.050)  \n",
       "2   POINT (6504114.567 1743039.068)  \n",
       "3   POINT (6504120.152 1745681.179)  \n",
       "4   POINT (6503995.170 1752228.119)  \n",
       "..                              ...  \n",
       "78  POINT (6516818.973 1874058.989)  \n",
       "79  POINT (6517034.832 1876404.492)  \n",
       "80  POINT (6521914.408 1877653.241)  \n",
       "81  POINT (6527070.744 1877869.293)  \n",
       "82  POINT (6537094.647 1876161.862)  \n",
       "\n",
       "[83 rows x 6 columns]"
      ]
     },
     "execution_count": 28,
     "metadata": {},
     "output_type": "execute_result"
    }
   ],
   "source": [
    "metro_trimmed = metro[desired_columns]\n",
    "metro_trimmed"
   ]
  },
  {
   "cell_type": "markdown",
   "metadata": {
    "slideshow": {
     "slide_type": "slide"
    }
   },
   "source": [
    "### Subsetting/querying/filtering the data\n",
    "\n",
    "What if you only want to see a subset of the data? Or create a new table based on a query?"
   ]
  },
  {
   "cell_type": "code",
   "execution_count": 35,
   "metadata": {
    "slideshow": {
     "slide_type": "fragment"
    }
   },
   "outputs": [
    {
     "data": {
      "text/html": [
       "<div>\n",
       "<style scoped>\n",
       "    .dataframe tbody tr th:only-of-type {\n",
       "        vertical-align: middle;\n",
       "    }\n",
       "\n",
       "    .dataframe tbody tr th {\n",
       "        vertical-align: top;\n",
       "    }\n",
       "\n",
       "    .dataframe thead th {\n",
       "        text-align: right;\n",
       "    }\n",
       "</style>\n",
       "<table border=\"1\" class=\"dataframe\">\n",
       "  <thead>\n",
       "    <tr style=\"text-align: right;\">\n",
       "      <th></th>\n",
       "      <th>LINE</th>\n",
       "      <th>LINENUM</th>\n",
       "      <th>STATION</th>\n",
       "      <th>LAT</th>\n",
       "      <th>LONG</th>\n",
       "      <th>geometry</th>\n",
       "    </tr>\n",
       "  </thead>\n",
       "  <tbody>\n",
       "    <tr>\n",
       "      <th>20</th>\n",
       "      <td>EXPO</td>\n",
       "      <td>806</td>\n",
       "      <td>LATTC / Ortho Institute Station</td>\n",
       "      <td>34.029112</td>\n",
       "      <td>-118.273603</td>\n",
       "      <td>POINT (6478766.175 1833089.413)</td>\n",
       "    </tr>\n",
       "    <tr>\n",
       "      <th>21</th>\n",
       "      <td>EXPO</td>\n",
       "      <td>806</td>\n",
       "      <td>Jefferson / USC Station</td>\n",
       "      <td>34.022123</td>\n",
       "      <td>-118.278118</td>\n",
       "      <td>POINT (6477391.116 1830549.740)</td>\n",
       "    </tr>\n",
       "    <tr>\n",
       "      <th>22</th>\n",
       "      <td>EXPO</td>\n",
       "      <td>806</td>\n",
       "      <td>Expo Park / USC Station</td>\n",
       "      <td>34.018227</td>\n",
       "      <td>-118.285734</td>\n",
       "      <td>POINT (6475079.285 1829138.386)</td>\n",
       "    </tr>\n",
       "    <tr>\n",
       "      <th>23</th>\n",
       "      <td>EXPO</td>\n",
       "      <td>806</td>\n",
       "      <td>Expo / Vermont Station</td>\n",
       "      <td>34.018245</td>\n",
       "      <td>-118.291540</td>\n",
       "      <td>POINT (6473319.888 1829149.989)</td>\n",
       "    </tr>\n",
       "    <tr>\n",
       "      <th>24</th>\n",
       "      <td>EXPO</td>\n",
       "      <td>806</td>\n",
       "      <td>Expo / Western Station</td>\n",
       "      <td>34.018331</td>\n",
       "      <td>-118.308910</td>\n",
       "      <td>POINT (6468056.285 1829197.007)</td>\n",
       "    </tr>\n",
       "    <tr>\n",
       "      <th>25</th>\n",
       "      <td>EXPO</td>\n",
       "      <td>806</td>\n",
       "      <td>Expo / Crenshaw Station</td>\n",
       "      <td>34.022526</td>\n",
       "      <td>-118.335078</td>\n",
       "      <td>POINT (6460131.596 1830749.046)</td>\n",
       "    </tr>\n",
       "    <tr>\n",
       "      <th>26</th>\n",
       "      <td>EXPO</td>\n",
       "      <td>806</td>\n",
       "      <td>Farmdale Station</td>\n",
       "      <td>34.023981</td>\n",
       "      <td>-118.346095</td>\n",
       "      <td>POINT (6456795.070 1831289.858)</td>\n",
       "    </tr>\n",
       "    <tr>\n",
       "      <th>27</th>\n",
       "      <td>EXPO</td>\n",
       "      <td>806</td>\n",
       "      <td>Expo / La Brea / Ethel Bradley Station</td>\n",
       "      <td>34.024803</td>\n",
       "      <td>-118.355159</td>\n",
       "      <td>POINT (6454049.620 1831598.579)</td>\n",
       "    </tr>\n",
       "    <tr>\n",
       "      <th>28</th>\n",
       "      <td>EXPO</td>\n",
       "      <td>806</td>\n",
       "      <td>La Cienega / Jefferson Station</td>\n",
       "      <td>34.026355</td>\n",
       "      <td>-118.372120</td>\n",
       "      <td>POINT (6448912.366 1832181.972)</td>\n",
       "    </tr>\n",
       "    <tr>\n",
       "      <th>29</th>\n",
       "      <td>EXPO</td>\n",
       "      <td>806</td>\n",
       "      <td>Culver City Station</td>\n",
       "      <td>34.027896</td>\n",
       "      <td>-118.388986</td>\n",
       "      <td>POINT (6443804.075 1832762.116)</td>\n",
       "    </tr>\n",
       "  </tbody>\n",
       "</table>\n",
       "</div>"
      ],
      "text/plain": [
       "    LINE  LINENUM                                 STATION        LAT  \\\n",
       "20  EXPO      806         LATTC / Ortho Institute Station  34.029112   \n",
       "21  EXPO      806                 Jefferson / USC Station  34.022123   \n",
       "22  EXPO      806                 Expo Park / USC Station  34.018227   \n",
       "23  EXPO      806                  Expo / Vermont Station  34.018245   \n",
       "24  EXPO      806                  Expo / Western Station  34.018331   \n",
       "25  EXPO      806                 Expo / Crenshaw Station  34.022526   \n",
       "26  EXPO      806                        Farmdale Station  34.023981   \n",
       "27  EXPO      806  Expo / La Brea / Ethel Bradley Station  34.024803   \n",
       "28  EXPO      806          La Cienega / Jefferson Station  34.026355   \n",
       "29  EXPO      806                     Culver City Station  34.027896   \n",
       "\n",
       "          LONG                         geometry  \n",
       "20 -118.273603  POINT (6478766.175 1833089.413)  \n",
       "21 -118.278118  POINT (6477391.116 1830549.740)  \n",
       "22 -118.285734  POINT (6475079.285 1829138.386)  \n",
       "23 -118.291540  POINT (6473319.888 1829149.989)  \n",
       "24 -118.308910  POINT (6468056.285 1829197.007)  \n",
       "25 -118.335078  POINT (6460131.596 1830749.046)  \n",
       "26 -118.346095  POINT (6456795.070 1831289.858)  \n",
       "27 -118.355159  POINT (6454049.620 1831598.579)  \n",
       "28 -118.372120  POINT (6448912.366 1832181.972)  \n",
       "29 -118.388986  POINT (6443804.075 1832762.116)  "
      ]
     },
     "execution_count": 35,
     "metadata": {},
     "output_type": "execute_result"
    }
   ],
   "source": [
    "metro_trimmed[metro_trimmed.LINE == 'EXPO']"
   ]
  },
  {
   "cell_type": "code",
   "execution_count": 34,
   "metadata": {
    "slideshow": {
     "slide_type": "slide"
    }
   },
   "outputs": [
    {
     "data": {
      "text/html": [
       "<div>\n",
       "<style scoped>\n",
       "    .dataframe tbody tr th:only-of-type {\n",
       "        vertical-align: middle;\n",
       "    }\n",
       "\n",
       "    .dataframe tbody tr th {\n",
       "        vertical-align: top;\n",
       "    }\n",
       "\n",
       "    .dataframe thead th {\n",
       "        text-align: right;\n",
       "    }\n",
       "</style>\n",
       "<table border=\"1\" class=\"dataframe\">\n",
       "  <thead>\n",
       "    <tr style=\"text-align: right;\">\n",
       "      <th></th>\n",
       "      <th>LINE</th>\n",
       "      <th>LINENUM</th>\n",
       "      <th>STATION</th>\n",
       "      <th>LAT</th>\n",
       "      <th>LONG</th>\n",
       "      <th>geometry</th>\n",
       "    </tr>\n",
       "  </thead>\n",
       "  <tbody>\n",
       "    <tr>\n",
       "      <th>20</th>\n",
       "      <td>EXPO</td>\n",
       "      <td>806</td>\n",
       "      <td>LATTC / Ortho Institute Station</td>\n",
       "      <td>34.029112</td>\n",
       "      <td>-118.273603</td>\n",
       "      <td>POINT (6478766.175 1833089.413)</td>\n",
       "    </tr>\n",
       "    <tr>\n",
       "      <th>21</th>\n",
       "      <td>EXPO</td>\n",
       "      <td>806</td>\n",
       "      <td>Jefferson / USC Station</td>\n",
       "      <td>34.022123</td>\n",
       "      <td>-118.278118</td>\n",
       "      <td>POINT (6477391.116 1830549.740)</td>\n",
       "    </tr>\n",
       "    <tr>\n",
       "      <th>22</th>\n",
       "      <td>EXPO</td>\n",
       "      <td>806</td>\n",
       "      <td>Expo Park / USC Station</td>\n",
       "      <td>34.018227</td>\n",
       "      <td>-118.285734</td>\n",
       "      <td>POINT (6475079.285 1829138.386)</td>\n",
       "    </tr>\n",
       "    <tr>\n",
       "      <th>23</th>\n",
       "      <td>EXPO</td>\n",
       "      <td>806</td>\n",
       "      <td>Expo / Vermont Station</td>\n",
       "      <td>34.018245</td>\n",
       "      <td>-118.291540</td>\n",
       "      <td>POINT (6473319.888 1829149.989)</td>\n",
       "    </tr>\n",
       "    <tr>\n",
       "      <th>24</th>\n",
       "      <td>EXPO</td>\n",
       "      <td>806</td>\n",
       "      <td>Expo / Western Station</td>\n",
       "      <td>34.018331</td>\n",
       "      <td>-118.308910</td>\n",
       "      <td>POINT (6468056.285 1829197.007)</td>\n",
       "    </tr>\n",
       "    <tr>\n",
       "      <th>25</th>\n",
       "      <td>EXPO</td>\n",
       "      <td>806</td>\n",
       "      <td>Expo / Crenshaw Station</td>\n",
       "      <td>34.022526</td>\n",
       "      <td>-118.335078</td>\n",
       "      <td>POINT (6460131.596 1830749.046)</td>\n",
       "    </tr>\n",
       "    <tr>\n",
       "      <th>26</th>\n",
       "      <td>EXPO</td>\n",
       "      <td>806</td>\n",
       "      <td>Farmdale Station</td>\n",
       "      <td>34.023981</td>\n",
       "      <td>-118.346095</td>\n",
       "      <td>POINT (6456795.070 1831289.858)</td>\n",
       "    </tr>\n",
       "    <tr>\n",
       "      <th>27</th>\n",
       "      <td>EXPO</td>\n",
       "      <td>806</td>\n",
       "      <td>Expo / La Brea / Ethel Bradley Station</td>\n",
       "      <td>34.024803</td>\n",
       "      <td>-118.355159</td>\n",
       "      <td>POINT (6454049.620 1831598.579)</td>\n",
       "    </tr>\n",
       "    <tr>\n",
       "      <th>28</th>\n",
       "      <td>EXPO</td>\n",
       "      <td>806</td>\n",
       "      <td>La Cienega / Jefferson Station</td>\n",
       "      <td>34.026355</td>\n",
       "      <td>-118.372120</td>\n",
       "      <td>POINT (6448912.366 1832181.972)</td>\n",
       "    </tr>\n",
       "    <tr>\n",
       "      <th>29</th>\n",
       "      <td>EXPO</td>\n",
       "      <td>806</td>\n",
       "      <td>Culver City Station</td>\n",
       "      <td>34.027896</td>\n",
       "      <td>-118.388986</td>\n",
       "      <td>POINT (6443804.075 1832762.116)</td>\n",
       "    </tr>\n",
       "  </tbody>\n",
       "</table>\n",
       "</div>"
      ],
      "text/plain": [
       "    LINE  LINENUM                                 STATION        LAT  \\\n",
       "20  EXPO      806         LATTC / Ortho Institute Station  34.029112   \n",
       "21  EXPO      806                 Jefferson / USC Station  34.022123   \n",
       "22  EXPO      806                 Expo Park / USC Station  34.018227   \n",
       "23  EXPO      806                  Expo / Vermont Station  34.018245   \n",
       "24  EXPO      806                  Expo / Western Station  34.018331   \n",
       "25  EXPO      806                 Expo / Crenshaw Station  34.022526   \n",
       "26  EXPO      806                        Farmdale Station  34.023981   \n",
       "27  EXPO      806  Expo / La Brea / Ethel Bradley Station  34.024803   \n",
       "28  EXPO      806          La Cienega / Jefferson Station  34.026355   \n",
       "29  EXPO      806                     Culver City Station  34.027896   \n",
       "\n",
       "          LONG                         geometry  \n",
       "20 -118.273603  POINT (6478766.175 1833089.413)  \n",
       "21 -118.278118  POINT (6477391.116 1830549.740)  \n",
       "22 -118.285734  POINT (6475079.285 1829138.386)  \n",
       "23 -118.291540  POINT (6473319.888 1829149.989)  \n",
       "24 -118.308910  POINT (6468056.285 1829197.007)  \n",
       "25 -118.335078  POINT (6460131.596 1830749.046)  \n",
       "26 -118.346095  POINT (6456795.070 1831289.858)  \n",
       "27 -118.355159  POINT (6454049.620 1831598.579)  \n",
       "28 -118.372120  POINT (6448912.366 1832181.972)  \n",
       "29 -118.388986  POINT (6443804.075 1832762.116)  "
      ]
     },
     "execution_count": 34,
     "metadata": {},
     "output_type": "execute_result"
    }
   ],
   "source": [
    "# another way\n",
    "metro_trimmed.loc[metro_trimmed['LINE'] == 'EXPO']"
   ]
  },
  {
   "cell_type": "code",
   "execution_count": 36,
   "metadata": {
    "slideshow": {
     "slide_type": "slide"
    }
   },
   "outputs": [
    {
     "ename": "SyntaxError",
     "evalue": "invalid syntax (<unknown>, line 1)",
     "output_type": "error",
     "traceback": [
      "Traceback \u001b[0;36m(most recent call last)\u001b[0m:\n",
      "  File \u001b[1;32m\"/opt/conda/lib/python3.8/site-packages/IPython/core/interactiveshell.py\"\u001b[0m, line \u001b[1;32m3343\u001b[0m, in \u001b[1;35mrun_code\u001b[0m\n    exec(code_obj, self.user_global_ns, self.user_ns)\n",
      "  File \u001b[1;32m\"<ipython-input-36-6ed6c22d170f>\"\u001b[0m, line \u001b[1;32m2\u001b[0m, in \u001b[1;35m<module>\u001b[0m\n    metro_trimmed.query(\"LINE LIKE  '%EXPO%'\")\n",
      "  File \u001b[1;32m\"/opt/conda/lib/python3.8/site-packages/pandas/core/frame.py\"\u001b[0m, line \u001b[1;32m3231\u001b[0m, in \u001b[1;35mquery\u001b[0m\n    res = self.eval(expr, **kwargs)\n",
      "  File \u001b[1;32m\"/opt/conda/lib/python3.8/site-packages/pandas/core/frame.py\"\u001b[0m, line \u001b[1;32m3346\u001b[0m, in \u001b[1;35meval\u001b[0m\n    return _eval(expr, inplace=inplace, **kwargs)\n",
      "  File \u001b[1;32m\"/opt/conda/lib/python3.8/site-packages/pandas/core/computation/eval.py\"\u001b[0m, line \u001b[1;32m332\u001b[0m, in \u001b[1;35meval\u001b[0m\n    parsed_expr = Expr(expr, engine=engine, parser=parser, env=env)\n",
      "  File \u001b[1;32m\"/opt/conda/lib/python3.8/site-packages/pandas/core/computation/expr.py\"\u001b[0m, line \u001b[1;32m764\u001b[0m, in \u001b[1;35m__init__\u001b[0m\n    self.terms = self.parse()\n",
      "  File \u001b[1;32m\"/opt/conda/lib/python3.8/site-packages/pandas/core/computation/expr.py\"\u001b[0m, line \u001b[1;32m781\u001b[0m, in \u001b[1;35mparse\u001b[0m\n    return self._visitor.visit(self.expr)\n",
      "  File \u001b[1;32m\"/opt/conda/lib/python3.8/site-packages/pandas/core/computation/expr.py\"\u001b[0m, line \u001b[1;32m371\u001b[0m, in \u001b[1;35mvisit\u001b[0m\n    raise e\n",
      "  File \u001b[1;32m\"/opt/conda/lib/python3.8/site-packages/pandas/core/computation/expr.py\"\u001b[0m, line \u001b[1;32m367\u001b[0m, in \u001b[1;35mvisit\u001b[0m\n    node = ast.fix_missing_locations(ast.parse(clean))\n",
      "\u001b[0;36m  File \u001b[0;32m\"/opt/conda/lib/python3.8/ast.py\"\u001b[0;36m, line \u001b[0;32m47\u001b[0;36m, in \u001b[0;35mparse\u001b[0;36m\u001b[0m\n\u001b[0;31m    return compile(source, filename, mode, flags,\u001b[0m\n",
      "\u001b[0;36m  File \u001b[0;32m\"<unknown>\"\u001b[0;36m, line \u001b[0;32m1\u001b[0m\n\u001b[0;31m    LINE LIKE '%EXPO%'\u001b[0m\n\u001b[0m         ^\u001b[0m\n\u001b[0;31mSyntaxError\u001b[0m\u001b[0;31m:\u001b[0m invalid syntax\n"
     ]
    }
   ],
   "source": [
    "# another way\n",
    "metro_trimmed.query(\"LINE LIKE  '%EXPO%'\")"
   ]
  },
  {
   "cell_type": "code",
   "execution_count": null,
   "metadata": {
    "slideshow": {
     "slide_type": "slide"
    }
   },
   "outputs": [],
   "source": [
    "# try it yourself. Query the dataframe for other properties of interest\n"
   ]
  },
  {
   "cell_type": "markdown",
   "metadata": {
    "slideshow": {
     "slide_type": "slide"
    }
   },
   "source": [
    "## Plotting\n",
    "\n",
    "We have now imported a shapefile, trimmed it, and created a series of queried subsets. Let's visualize our data. First, simply pass it the `plot()` command to see what it looks like."
   ]
  },
  {
   "cell_type": "code",
   "execution_count": 37,
   "metadata": {
    "slideshow": {
     "slide_type": "fragment"
    }
   },
   "outputs": [
    {
     "data": {
      "text/plain": [
       "<matplotlib.axes._subplots.AxesSubplot at 0x7fca0eb202e0>"
      ]
     },
     "execution_count": 37,
     "metadata": {},
     "output_type": "execute_result"
    },
    {
     "data": {
      "image/png": "[encoded data removed]",
      "text/plain": [
       "<Figure size 432x288 with 1 Axes>"
      ]
     },
     "metadata": {
      "needs_background": "light"
     },
     "output_type": "display_data"
    }
   ],
   "source": [
    "metro_trimmed.plot()"
   ]
  },
  {
   "cell_type": "markdown",
   "metadata": {
    "slideshow": {
     "slide_type": "slide"
    }
   },
   "source": [
    "That's great! Very rewarding, with a single command. The reason it is able to plot the station points is because of the `geometry` column that is created from the shapefile."
   ]
  },
  {
   "cell_type": "code",
   "execution_count": 38,
   "metadata": {
    "slideshow": {
     "slide_type": "fragment"
    }
   },
   "outputs": [
    {
     "data": {
      "text/plain": [
       "0     POINT (6503030.095 1738033.828)\n",
       "1     POINT (6502796.262 1739558.050)\n",
       "2     POINT (6504114.567 1743039.068)\n",
       "3     POINT (6504120.152 1745681.179)\n",
       "4     POINT (6503995.170 1752228.119)\n",
       "                   ...               \n",
       "78    POINT (6516818.973 1874058.989)\n",
       "79    POINT (6517034.832 1876404.492)\n",
       "80    POINT (6521914.408 1877653.241)\n",
       "81    POINT (6527070.744 1877869.293)\n",
       "82    POINT (6537094.647 1876161.862)\n",
       "Name: geometry, Length: 83, dtype: geometry"
      ]
     },
     "execution_count": 38,
     "metadata": {},
     "output_type": "execute_result"
    }
   ],
   "source": [
    "metro_trimmed.geometry"
   ]
  },
  {
   "cell_type": "markdown",
   "metadata": {
    "slideshow": {
     "slide_type": "slide"
    }
   },
   "source": [
    "### A prettier plot"
   ]
  },
  {
   "cell_type": "code",
   "execution_count": 39,
   "metadata": {},
   "outputs": [
    {
     "data": {
      "text/plain": [
       "<matplotlib.axes._subplots.AxesSubplot at 0x7fca0eadfc70>"
      ]
     },
     "execution_count": 39,
     "metadata": {},
     "output_type": "execute_result"
    },
    {
     "data": {
      "image/png": "[encoded data removed]",
      "text/plain": [
       "<Figure size 1440x864 with 1 Axes>"
      ]
     },
     "metadata": {
      "needs_background": "light"
     },
     "output_type": "display_data"
    }
   ],
   "source": [
    "metro_trimmed.plot(\n",
    "            figsize=(20,12),   #size of the plot (a bit bigger than the default)\n",
    "            column = 'LINE',   # column that defines the color of the dots\n",
    "            legend = True,     # add a legend           \n",
    "            legend_kwds={\n",
    "               'loc': 'upper right',\n",
    "               'bbox_to_anchor':(1.3,1)\n",
    "            }                  # this puts the legend to the side\n",
    ") "
   ]
  },
  {
   "cell_type": "markdown",
   "metadata": {
    "slideshow": {
     "slide_type": "slide"
    }
   },
   "source": [
    "## Back to mapping\n",
    "We can't finish our lesson without a better looking map :). Let's go back to the original metro dataset that was the inspiration for this notebook. Recall that we used the module `geopandas` to define the data."
   ]
  },
  {
   "cell_type": "code",
   "execution_count": 40,
   "metadata": {},
   "outputs": [
    {
     "data": {
      "text/html": [
       "<div>\n",
       "<style scoped>\n",
       "    .dataframe tbody tr th:only-of-type {\n",
       "        vertical-align: middle;\n",
       "    }\n",
       "\n",
       "    .dataframe tbody tr th {\n",
       "        vertical-align: top;\n",
       "    }\n",
       "\n",
       "    .dataframe thead th {\n",
       "        text-align: right;\n",
       "    }\n",
       "</style>\n",
       "<table border=\"1\" class=\"dataframe\">\n",
       "  <thead>\n",
       "    <tr style=\"text-align: right;\">\n",
       "      <th></th>\n",
       "      <th>LINE</th>\n",
       "      <th>LINENUM</th>\n",
       "      <th>STATION</th>\n",
       "      <th>LAT</th>\n",
       "      <th>LONG</th>\n",
       "      <th>geometry</th>\n",
       "    </tr>\n",
       "  </thead>\n",
       "  <tbody>\n",
       "    <tr>\n",
       "      <th>0</th>\n",
       "      <td>Blue</td>\n",
       "      <td>801</td>\n",
       "      <td>Downtown Long Beach Station</td>\n",
       "      <td>33.768071</td>\n",
       "      <td>-118.192921</td>\n",
       "      <td>POINT (6503030.095 1738033.828)</td>\n",
       "    </tr>\n",
       "    <tr>\n",
       "      <th>1</th>\n",
       "      <td>Blue</td>\n",
       "      <td>801</td>\n",
       "      <td>Pacific Ave Station</td>\n",
       "      <td>33.772258</td>\n",
       "      <td>-118.193700</td>\n",
       "      <td>POINT (6502796.262 1739558.050)</td>\n",
       "    </tr>\n",
       "    <tr>\n",
       "      <th>2</th>\n",
       "      <td>Blue</td>\n",
       "      <td>801</td>\n",
       "      <td>Anaheim Street Station</td>\n",
       "      <td>33.781830</td>\n",
       "      <td>-118.189384</td>\n",
       "      <td>POINT (6504114.567 1743039.068)</td>\n",
       "    </tr>\n",
       "    <tr>\n",
       "      <th>3</th>\n",
       "      <td>Blue</td>\n",
       "      <td>801</td>\n",
       "      <td>Pacific Coast Hwy Station</td>\n",
       "      <td>33.789090</td>\n",
       "      <td>-118.189382</td>\n",
       "      <td>POINT (6504120.152 1745681.179)</td>\n",
       "    </tr>\n",
       "    <tr>\n",
       "      <th>4</th>\n",
       "      <td>Blue</td>\n",
       "      <td>801</td>\n",
       "      <td>Willow Street Station</td>\n",
       "      <td>33.807079</td>\n",
       "      <td>-118.189834</td>\n",
       "      <td>POINT (6503995.170 1752228.119)</td>\n",
       "    </tr>\n",
       "  </tbody>\n",
       "</table>\n",
       "</div>"
      ],
      "text/plain": [
       "   LINE  LINENUM                      STATION        LAT        LONG  \\\n",
       "0  Blue      801  Downtown Long Beach Station  33.768071 -118.192921   \n",
       "1  Blue      801          Pacific Ave Station  33.772258 -118.193700   \n",
       "2  Blue      801       Anaheim Street Station  33.781830 -118.189384   \n",
       "3  Blue      801    Pacific Coast Hwy Station  33.789090 -118.189382   \n",
       "4  Blue      801        Willow Street Station  33.807079 -118.189834   \n",
       "\n",
       "                          geometry  \n",
       "0  POINT (6503030.095 1738033.828)  \n",
       "1  POINT (6502796.262 1739558.050)  \n",
       "2  POINT (6504114.567 1743039.068)  \n",
       "3  POINT (6504120.152 1745681.179)  \n",
       "4  POINT (6503995.170 1752228.119)  "
      ]
     },
     "execution_count": 40,
     "metadata": {},
     "output_type": "execute_result"
    }
   ],
   "source": [
    "metro_trimmed.head()"
   ]
  },
  {
   "cell_type": "markdown",
   "metadata": {
    "slideshow": {
     "slide_type": "slide"
    }
   },
   "source": [
    "### Projections\n",
    "\n"
   ]
  },
  {
   "cell_type": "code",
   "execution_count": 41,
   "metadata": {},
   "outputs": [
    {
     "data": {
      "text/plain": [
       "<Projected CRS: EPSG:2874>\n",
       "Name: NAD83(HARN) / California zone 5 (ftUS)\n",
       "Axis Info [cartesian]:\n",
       "- X[east]: Easting (US survey foot)\n",
       "- Y[north]: Northing (US survey foot)\n",
       "Area of Use:\n",
       "- name: USA - California - SPCS83 - 5\n",
       "- bounds: (-121.42, 32.76, -114.12, 35.81)\n",
       "Coordinate Operation:\n",
       "- name: SPCS83 California zone 5 (US Survey feet)\n",
       "- method: Lambert Conic Conformal (2SP)\n",
       "Datum: NAD83 (High Accuracy Reference Network)\n",
       "- Ellipsoid: GRS 1980\n",
       "- Prime Meridian: Greenwich"
      ]
     },
     "execution_count": 41,
     "metadata": {},
     "output_type": "execute_result"
    }
   ],
   "source": [
    "# what is the projection?\n",
    "metro_trimmed.crs"
   ]
  },
  {
   "cell_type": "markdown",
   "metadata": {
    "slideshow": {
     "slide_type": "slide"
    }
   },
   "source": [
    "<img src=\"img/stateplane.png\" width=600>\n",
    "\n",
    "* [California State Plane Zones](https://www.conservation.ca.gov/cgs/Pages/Program-RGMP/california-state-plane-coordinate-system.aspx)"
   ]
  },
  {
   "cell_type": "markdown",
   "metadata": {},
   "source": [
    "The standard for GPS coordinates (i.e. decimal degrees in latitude and longitude coordinates) is a geographic coordiate system named `WGS84`.\n",
    "\n",
    "* [WGS84](https://en.wikipedia.org/wiki/World_Geodetic_System)\n",
    "\n",
    "We convert to WGS84 using its [EPSG code, 4326](https://en.wikipedia.org/wiki/EPSG_Geodetic_Parameter_Dataset):"
   ]
  },
  {
   "cell_type": "code",
   "execution_count": 42,
   "metadata": {
    "slideshow": {
     "slide_type": "slide"
    }
   },
   "outputs": [],
   "source": [
    "# let's reproject it to WGS84/EPSG4326\n",
    "metro_gcs = metro_trimmed.to_crs(\"EPSG:4326\")"
   ]
  },
  {
   "cell_type": "code",
   "execution_count": 43,
   "metadata": {
    "slideshow": {
     "slide_type": "slide"
    }
   },
   "outputs": [
    {
     "data": {
      "text/plain": [
       "<matplotlib.axes._subplots.AxesSubplot at 0x7fca0e550970>"
      ]
     },
     "execution_count": 43,
     "metadata": {},
     "output_type": "execute_result"
    },
    {
     "data": {
      "image/png": "[encoded data removed]",
      "text/plain": [
       "<Figure size 432x288 with 1 Axes>"
      ]
     },
     "metadata": {
      "needs_background": "light"
     },
     "output_type": "display_data"
    }
   ],
   "source": [
    "metro_gcs.plot()"
   ]
  },
  {
   "cell_type": "code",
   "execution_count": 44,
   "metadata": {
    "slideshow": {
     "slide_type": "fragment"
    }
   },
   "outputs": [
    {
     "data": {
      "text/plain": [
       "<matplotlib.axes._subplots.AxesSubplot at 0x7fca0ea313a0>"
      ]
     },
     "execution_count": 44,
     "metadata": {},
     "output_type": "execute_result"
    },
    {
     "data": {
      "image/png": "[encoded data removed]",
      "text/plain": [
       "<Figure size 432x288 with 1 Axes>"
      ]
     },
     "metadata": {
      "needs_background": "light"
     },
     "output_type": "display_data"
    }
   ],
   "source": [
    "# what did it look like before we reprojected it?\n",
    "metro_trimmed.plot()"
   ]
  },
  {
   "cell_type": "markdown",
   "metadata": {
    "slideshow": {
     "slide_type": "slide"
    }
   },
   "source": [
    "### Iterating through rows in a dataframe\n",
    "\n",
    "You learned how to loop through a python list. Looping over rows in a dataframe is similar, but the syntax is slightly different."
   ]
  },
  {
   "cell_type": "code",
   "execution_count": 45,
   "metadata": {
    "scrolled": true
   },
   "outputs": [
    {
     "name": "stdout",
     "output_type": "stream",
     "text": [
      "Downtown Long Beach Station\n",
      "Pacific Ave Station\n",
      "Anaheim Street Station\n",
      "Pacific Coast Hwy Station\n",
      "Willow Street Station\n",
      "Wardlow Station\n",
      "Del Amo Station\n",
      "Artesia Station\n",
      "Compton Station\n",
      "Willowbrook - Rosa Parks Station - Metro Blue Line\n",
      "103rd Street / Watts Towers  Station\n",
      "Firestone Station\n",
      "Florence Station\n",
      "Slauson Station\n",
      "Vernon Station\n",
      "Washington Station\n",
      "San Pedro Street Station\n",
      "Grand / LATTC Station\n",
      "Pico Station\n",
      "7th Street / Metro Center Station - Metro Blue & Expo Lines\n",
      "LATTC / Ortho Institute Station\n",
      "Jefferson / USC Station\n",
      "Expo Park / USC Station\n",
      "Expo / Vermont Station\n",
      "Expo / Western Station\n",
      "Expo / Crenshaw Station\n",
      "Farmdale Station\n",
      "Expo / La Brea / Ethel Bradley Station\n",
      "La Cienega / Jefferson Station\n",
      "Culver City Station\n",
      "1st Street Station\n",
      "5th Street Station\n",
      "North Hollywood Station\n",
      "Universal / Studio City Station\n",
      "Hollywood / Highland Station\n",
      "Hollywood / Vine Station\n",
      "Hollywood / Western Station\n",
      "Vermont / Sunset Station\n",
      "Vermont / Santa Monica Station\n",
      "Vermont / Beverly Station\n",
      "Wilshire / Vermont Station\n",
      "Westlake / MacArthur Park Station\n",
      "7th Street / Metro Center Station - Metro Red & Purple Lines\n",
      "Pershing Square Station\n",
      "Civic Center / Grand Park Station\n",
      "Union Station - Metro Red & Purple Lines\n",
      "Wilshire / Normandie Station\n",
      "Wilshire / Western Station\n",
      "Redondo Beach Station\n",
      "Douglas Station\n",
      "El Segundo Station\n",
      "Mariposa Station\n",
      "Aviation / LAX Station\n",
      "Hawthorne / Lennox Station\n",
      "Crenshaw Station\n",
      "Vermont / Athens Station\n",
      "Harbor Freeway Station\n",
      "Avalon Station\n",
      "Willowbrook - Rosa Parks Station - Metro Green Line\n",
      "Long Beach Blvd Station\n",
      "Lakewood Blvd Station\n",
      "Norwalk Station\n",
      "Atlantic Station\n",
      "East LA Civic Center Station\n",
      "Maravilla Station\n",
      "Indiana Station\n",
      "Soto Station\n",
      "Mariachi Plaza / Boyle Heights Station\n",
      "Pico / Aliso Station\n",
      "Little Tokyo / Arts District Station\n",
      "Union Station - Metro Gold Line\n",
      "Chinatown Station\n",
      "Lincoln Heights / Cypress Park Station\n",
      "Heritage Square / Arroyo Station\n",
      "Southwest Museum Station\n",
      "Highland Park Station\n",
      "South Pasadena Station\n",
      "Fillmore Station\n",
      "Del Mar Station\n",
      "Memorial Park Station\n",
      "Lake Station\n",
      "Allen Station\n",
      "Sierra Madre Villa Station\n"
     ]
    }
   ],
   "source": [
    "for index, row in metro_gcs.iterrows():\n",
    "    print(row.STATION)"
   ]
  },
  {
   "cell_type": "code",
   "execution_count": 46,
   "metadata": {
    "scrolled": true,
    "slideshow": {
     "slide_type": "slide"
    }
   },
   "outputs": [
    {
     "name": "stdout",
     "output_type": "stream",
     "text": [
      "Blue\n",
      "Blue\n",
      "Blue\n",
      "Blue\n",
      "Blue\n",
      "Blue\n",
      "Blue\n",
      "Blue\n",
      "Blue\n",
      "Blue\n",
      "Blue\n",
      "Blue\n",
      "Blue\n",
      "Blue\n",
      "Blue\n",
      "Blue\n",
      "Blue\n",
      "Blue\n",
      "Blue/EXPO\n",
      "Blue/EXPO\n",
      "EXPO\n",
      "EXPO\n",
      "EXPO\n",
      "EXPO\n",
      "EXPO\n",
      "EXPO\n",
      "EXPO\n",
      "EXPO\n",
      "EXPO\n",
      "EXPO\n",
      "Blue\n",
      "Blue\n",
      "Red\n",
      "Red\n",
      "Red\n",
      "Red\n",
      "Red\n",
      "Red\n",
      "Red\n",
      "Red\n",
      "Red/Purple\n",
      "Red/Purple\n",
      "Red/Purple\n",
      "Red/Purple\n",
      "Red/Purple\n",
      "Red/Purple\n",
      "Purple\n",
      "Purple\n",
      "Green\n",
      "Green\n",
      "Green\n",
      "Green\n",
      "Green\n",
      "Green\n",
      "Green\n",
      "Green\n",
      "Green\n",
      "Green\n",
      "Green\n",
      "Green\n",
      "Green\n",
      "Green\n",
      "Gold\n",
      "Gold\n",
      "Gold\n",
      "Gold\n",
      "Gold\n",
      "Gold\n",
      "Gold\n",
      "Gold\n",
      "Gold\n",
      "Gold\n",
      "Gold\n",
      "Gold\n",
      "Gold\n",
      "Gold\n",
      "Gold\n",
      "Gold\n",
      "Gold\n",
      "Gold\n",
      "Gold\n",
      "Gold\n",
      "Gold\n"
     ]
    }
   ],
   "source": [
    "# now it's your turn. create a loop that prints out the LINE for each row in the dataframe\n",
    "for index, row in metro_gcs.iterrows():\n",
    "    print(row.LINE)"
   ]
  },
  {
   "cell_type": "code",
   "execution_count": 47,
   "metadata": {
    "scrolled": true
   },
   "outputs": [
    {
     "name": "stdout",
     "output_type": "stream",
     "text": [
      "Blue Downtown Long Beach Station\n",
      "Blue Pacific Ave Station\n",
      "Blue Anaheim Street Station\n",
      "Blue Pacific Coast Hwy Station\n",
      "Blue Willow Street Station\n",
      "Blue Wardlow Station\n",
      "Blue Del Amo Station\n",
      "Blue Artesia Station\n",
      "Blue Compton Station\n",
      "Blue Willowbrook - Rosa Parks Station - Metro Blue Line\n",
      "Blue 103rd Street / Watts Towers  Station\n",
      "Blue Firestone Station\n",
      "Blue Florence Station\n",
      "Blue Slauson Station\n",
      "Blue Vernon Station\n",
      "Blue Washington Station\n",
      "Blue San Pedro Street Station\n",
      "Blue Grand / LATTC Station\n",
      "Blue/EXPO Pico Station\n",
      "Blue/EXPO 7th Street / Metro Center Station - Metro Blue & Expo Lines\n",
      "EXPO LATTC / Ortho Institute Station\n",
      "EXPO Jefferson / USC Station\n",
      "EXPO Expo Park / USC Station\n",
      "EXPO Expo / Vermont Station\n",
      "EXPO Expo / Western Station\n",
      "EXPO Expo / Crenshaw Station\n",
      "EXPO Farmdale Station\n",
      "EXPO Expo / La Brea / Ethel Bradley Station\n",
      "EXPO La Cienega / Jefferson Station\n",
      "EXPO Culver City Station\n",
      "Blue 1st Street Station\n",
      "Blue 5th Street Station\n",
      "Red North Hollywood Station\n",
      "Red Universal / Studio City Station\n",
      "Red Hollywood / Highland Station\n",
      "Red Hollywood / Vine Station\n",
      "Red Hollywood / Western Station\n",
      "Red Vermont / Sunset Station\n",
      "Red Vermont / Santa Monica Station\n",
      "Red Vermont / Beverly Station\n",
      "Red/Purple Wilshire / Vermont Station\n",
      "Red/Purple Westlake / MacArthur Park Station\n",
      "Red/Purple 7th Street / Metro Center Station - Metro Red & Purple Lines\n",
      "Red/Purple Pershing Square Station\n",
      "Red/Purple Civic Center / Grand Park Station\n",
      "Red/Purple Union Station - Metro Red & Purple Lines\n",
      "Purple Wilshire / Normandie Station\n",
      "Purple Wilshire / Western Station\n",
      "Green Redondo Beach Station\n",
      "Green Douglas Station\n",
      "Green El Segundo Station\n",
      "Green Mariposa Station\n",
      "Green Aviation / LAX Station\n",
      "Green Hawthorne / Lennox Station\n",
      "Green Crenshaw Station\n",
      "Green Vermont / Athens Station\n",
      "Green Harbor Freeway Station\n",
      "Green Avalon Station\n",
      "Green Willowbrook - Rosa Parks Station - Metro Green Line\n",
      "Green Long Beach Blvd Station\n",
      "Green Lakewood Blvd Station\n",
      "Green Norwalk Station\n",
      "Gold Atlantic Station\n",
      "Gold East LA Civic Center Station\n",
      "Gold Maravilla Station\n",
      "Gold Indiana Station\n",
      "Gold Soto Station\n",
      "Gold Mariachi Plaza / Boyle Heights Station\n",
      "Gold Pico / Aliso Station\n",
      "Gold Little Tokyo / Arts District Station\n",
      "Gold Union Station - Metro Gold Line\n",
      "Gold Chinatown Station\n",
      "Gold Lincoln Heights / Cypress Park Station\n",
      "Gold Heritage Square / Arroyo Station\n",
      "Gold Southwest Museum Station\n",
      "Gold Highland Park Station\n",
      "Gold South Pasadena Station\n",
      "Gold Fillmore Station\n",
      "Gold Del Mar Station\n",
      "Gold Memorial Park Station\n",
      "Gold Lake Station\n",
      "Gold Allen Station\n",
      "Gold Sierra Madre Villa Station\n"
     ]
    }
   ],
   "source": [
    "# now print out the LINE and the STATION\n",
    "for index, row in metro_gcs.iterrows():\n",
    "    print(row.LINE,row.STATION)"
   ]
  },
  {
   "cell_type": "markdown",
   "metadata": {
    "slideshow": {
     "slide_type": "slide"
    }
   },
   "source": [
    "### Get average lat/lon's"
   ]
  },
  {
   "cell_type": "code",
   "execution_count": 48,
   "metadata": {
    "slideshow": {
     "slide_type": "fragment"
    }
   },
   "outputs": [
    {
     "data": {
      "text/plain": [
       "34.00158291566265"
      ]
     },
     "execution_count": 48,
     "metadata": {},
     "output_type": "execute_result"
    }
   ],
   "source": [
    "# average latitude\n",
    "latitude = metro_trimmed.LAT.mean()\n",
    "latitude"
   ]
  },
  {
   "cell_type": "code",
   "execution_count": 49,
   "metadata": {
    "slideshow": {
     "slide_type": "fragment"
    }
   },
   "outputs": [
    {
     "data": {
      "text/plain": [
       "-118.251045313253"
      ]
     },
     "execution_count": 49,
     "metadata": {},
     "output_type": "execute_result"
    }
   ],
   "source": [
    "# average longitude\n",
    "longitude = metro_trimmed.LONG.mean()\n",
    "longitude"
   ]
  },
  {
   "cell_type": "markdown",
   "metadata": {
    "slideshow": {
     "slide_type": "slide"
    }
   },
   "source": [
    "## Mapping with folium"
   ]
  },
  {
   "cell_type": "markdown",
   "metadata": {
    "slideshow": {
     "slide_type": "-"
    }
   },
   "source": [
    "Now it's time for another module. Everybody, please welcome `folium`. Folium brings leaflet, an open source javascript mapping library into our Python environment, allowing you to create instant interactive maps. Try it:"
   ]
  },
  {
   "cell_type": "code",
   "execution_count": 50,
   "metadata": {},
   "outputs": [],
   "source": [
    "import folium"
   ]
  },
  {
   "cell_type": "code",
   "execution_count": 51,
   "metadata": {
    "slideshow": {
     "slide_type": "slide"
    }
   },
   "outputs": [
    {
     "data": {
      "text/html": [
       "<div style=\"width:100%;\"><div style=\"position:relative;width:100%;height:0;padding-bottom:60%;\"><span style=\"color:#565656\">Make this Notebook Trusted to load map: File -> Trust Notebook</span><iframe src=\"about:blank\" style=\"position:absolute;width:100%;height:100%;left:0;top:0;border:none !important;\" data-html=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 onload=\"this.contentDocument.open();this.contentDocument.write(atob(this.getAttribute('data-html')));this.contentDocument.close();\" allowfullscreen webkitallowfullscreen mozallowfullscreen></iframe></div></div>"
      ],
      "text/plain": [
       "<folium.folium.Map at 0x7fca0df14d30>"
      ]
     },
     "execution_count": 51,
     "metadata": {},
     "output_type": "execute_result"
    }
   ],
   "source": [
    "#initialize map\n",
    "m = folium.Map(location=[latitude,longitude], tiles='Stamen Terrain', zoom_start=10)\n",
    "m"
   ]
  },
  {
   "cell_type": "markdown",
   "metadata": {
    "slideshow": {
     "slide_type": "slide"
    }
   },
   "source": [
    "### Adding point markers\n",
    "\n",
    "How do you add a marker to a folium map?\n",
    "\n",
    "* [Folium quickstart](https://python-visualization.github.io/folium/quickstart.html)\n",
    "\n",
    "```\n",
    "folium.Marker([45.3288, -121.6625], popup='<i>Mt. Hood Meadows</i>', tooltip=tooltip).add_to(m)\n",
    "```\n",
    "\n",
    "Since we want to add a marker *for each station* in our dataframe, we do a for loop, and add the marker within the loop."
   ]
  },
  {
   "cell_type": "code",
   "execution_count": 52,
   "metadata": {
    "scrolled": false,
    "slideshow": {
     "slide_type": "slide"
    }
   },
   "outputs": [
    {
     "data": {
      "text/html": [
       "<div style=\"width:100%;\"><div style=\"position:relative;width:100%;height:0;padding-bottom:60%;\"><span style=\"color:#565656\">Make this Notebook Trusted to load map: File -> Trust Notebook</span><iframe src=\"about:blank\" style=\"position:absolute;width:100%;height:100%;left:0;top:0;border:none !important;\" data-html=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 onload=\"this.contentDocument.open();this.contentDocument.write(atob(this.getAttribute('data-html')));this.contentDocument.close();\" allowfullscreen webkitallowfullscreen mozallowfullscreen></iframe></div></div>"
      ],
      "text/plain": [
       "<folium.folium.Map at 0x7fca0df14d30>"
      ]
     },
     "execution_count": 52,
     "metadata": {},
     "output_type": "execute_result"
    }
   ],
   "source": [
    "# add the stations\n",
    "for index, row in metro_trimmed.iterrows():\n",
    "    folium.Marker(\n",
    "        [row.LAT,row.LONG], \n",
    "        popup=row.STATION+' '+str(row.LINENUM), \n",
    "        tooltip=row.STATION\n",
    ").add_to(m)\n",
    "m"
   ]
  },
  {
   "cell_type": "markdown",
   "metadata": {
    "slideshow": {
     "slide_type": "slide"
    }
   },
   "source": [
    "### Color code markers\n",
    "That's great, but can we color code the markers so that they correspond to their metro lines?\n",
    "\n",
    "To do so:\n",
    "\n",
    "1. create a new column `color`\n",
    "1. add a color of choice based on the LINE that each row represents"
   ]
  },
  {
   "cell_type": "code",
   "execution_count": 53,
   "metadata": {
    "slideshow": {
     "slide_type": "slide"
    }
   },
   "outputs": [
    {
     "name": "stderr",
     "output_type": "stream",
     "text": [
      "/opt/conda/lib/python3.8/site-packages/geopandas/geodataframe.py:853: SettingWithCopyWarning: \n",
      "A value is trying to be set on a copy of a slice from a DataFrame.\n",
      "Try using .loc[row_indexer,col_indexer] = value instead\n",
      "\n",
      "See the caveats in the documentation: https://pandas.pydata.org/pandas-docs/stable/user_guide/indexing.html#returning-a-view-versus-a-copy\n",
      "  super(GeoDataFrame, self).__setitem__(key, value)\n"
     ]
    }
   ],
   "source": [
    "# add a new column\n",
    "metro_trimmed['color'] = ''"
   ]
  },
  {
   "cell_type": "code",
   "execution_count": 54,
   "metadata": {
    "slideshow": {
     "slide_type": "fragment"
    }
   },
   "outputs": [
    {
     "data": {
      "text/html": [
       "<div>\n",
       "<style scoped>\n",
       "    .dataframe tbody tr th:only-of-type {\n",
       "        vertical-align: middle;\n",
       "    }\n",
       "\n",
       "    .dataframe tbody tr th {\n",
       "        vertical-align: top;\n",
       "    }\n",
       "\n",
       "    .dataframe thead th {\n",
       "        text-align: right;\n",
       "    }\n",
       "</style>\n",
       "<table border=\"1\" class=\"dataframe\">\n",
       "  <thead>\n",
       "    <tr style=\"text-align: right;\">\n",
       "      <th></th>\n",
       "      <th>LINE</th>\n",
       "      <th>LINENUM</th>\n",
       "      <th>STATION</th>\n",
       "      <th>LAT</th>\n",
       "      <th>LONG</th>\n",
       "      <th>geometry</th>\n",
       "      <th>color</th>\n",
       "    </tr>\n",
       "  </thead>\n",
       "  <tbody>\n",
       "    <tr>\n",
       "      <th>0</th>\n",
       "      <td>Blue</td>\n",
       "      <td>801</td>\n",
       "      <td>Downtown Long Beach Station</td>\n",
       "      <td>33.768071</td>\n",
       "      <td>-118.192921</td>\n",
       "      <td>POINT (6503030.095 1738033.828)</td>\n",
       "      <td></td>\n",
       "    </tr>\n",
       "    <tr>\n",
       "      <th>1</th>\n",
       "      <td>Blue</td>\n",
       "      <td>801</td>\n",
       "      <td>Pacific Ave Station</td>\n",
       "      <td>33.772258</td>\n",
       "      <td>-118.193700</td>\n",
       "      <td>POINT (6502796.262 1739558.050)</td>\n",
       "      <td></td>\n",
       "    </tr>\n",
       "    <tr>\n",
       "      <th>2</th>\n",
       "      <td>Blue</td>\n",
       "      <td>801</td>\n",
       "      <td>Anaheim Street Station</td>\n",
       "      <td>33.781830</td>\n",
       "      <td>-118.189384</td>\n",
       "      <td>POINT (6504114.567 1743039.068)</td>\n",
       "      <td></td>\n",
       "    </tr>\n",
       "    <tr>\n",
       "      <th>3</th>\n",
       "      <td>Blue</td>\n",
       "      <td>801</td>\n",
       "      <td>Pacific Coast Hwy Station</td>\n",
       "      <td>33.789090</td>\n",
       "      <td>-118.189382</td>\n",
       "      <td>POINT (6504120.152 1745681.179)</td>\n",
       "      <td></td>\n",
       "    </tr>\n",
       "    <tr>\n",
       "      <th>4</th>\n",
       "      <td>Blue</td>\n",
       "      <td>801</td>\n",
       "      <td>Willow Street Station</td>\n",
       "      <td>33.807079</td>\n",
       "      <td>-118.189834</td>\n",
       "      <td>POINT (6503995.170 1752228.119)</td>\n",
       "      <td></td>\n",
       "    </tr>\n",
       "  </tbody>\n",
       "</table>\n",
       "</div>"
      ],
      "text/plain": [
       "   LINE  LINENUM                      STATION        LAT        LONG  \\\n",
       "0  Blue      801  Downtown Long Beach Station  33.768071 -118.192921   \n",
       "1  Blue      801          Pacific Ave Station  33.772258 -118.193700   \n",
       "2  Blue      801       Anaheim Street Station  33.781830 -118.189384   \n",
       "3  Blue      801    Pacific Coast Hwy Station  33.789090 -118.189382   \n",
       "4  Blue      801        Willow Street Station  33.807079 -118.189834   \n",
       "\n",
       "                          geometry color  \n",
       "0  POINT (6503030.095 1738033.828)        \n",
       "1  POINT (6502796.262 1739558.050)        \n",
       "2  POINT (6504114.567 1743039.068)        \n",
       "3  POINT (6504120.152 1745681.179)        \n",
       "4  POINT (6503995.170 1752228.119)        "
      ]
     },
     "execution_count": 54,
     "metadata": {},
     "output_type": "execute_result"
    }
   ],
   "source": [
    "metro_trimmed.head()"
   ]
  },
  {
   "cell_type": "markdown",
   "metadata": {
    "slideshow": {
     "slide_type": "slide"
    }
   },
   "source": [
    "### Find unique values in a column"
   ]
  },
  {
   "cell_type": "code",
   "execution_count": 55,
   "metadata": {
    "slideshow": {
     "slide_type": "fragment"
    }
   },
   "outputs": [
    {
     "data": {
      "text/plain": [
       "array(['Blue', 'Blue/EXPO', 'EXPO', 'Red', 'Red/Purple', 'Purple',\n",
       "       'Green', 'Gold'], dtype=object)"
      ]
     },
     "execution_count": 55,
     "metadata": {},
     "output_type": "execute_result"
    }
   ],
   "source": [
    "# find unique values in the LINE column\n",
    "metro_trimmed.LINE.unique()"
   ]
  },
  {
   "cell_type": "markdown",
   "metadata": {
    "slideshow": {
     "slide_type": "slide"
    }
   },
   "source": [
    "### Update column based on a query on another column\n",
    "We now want to populate the newly created `color` column with values based on the LINE.\n",
    "\n",
    "Remember how you used the `loc` command to query the data. "
   ]
  },
  {
   "cell_type": "code",
   "execution_count": 56,
   "metadata": {
    "scrolled": true,
    "slideshow": {
     "slide_type": "slide"
    }
   },
   "outputs": [
    {
     "data": {
      "text/html": [
       "<div>\n",
       "<style scoped>\n",
       "    .dataframe tbody tr th:only-of-type {\n",
       "        vertical-align: middle;\n",
       "    }\n",
       "\n",
       "    .dataframe tbody tr th {\n",
       "        vertical-align: top;\n",
       "    }\n",
       "\n",
       "    .dataframe thead th {\n",
       "        text-align: right;\n",
       "    }\n",
       "</style>\n",
       "<table border=\"1\" class=\"dataframe\">\n",
       "  <thead>\n",
       "    <tr style=\"text-align: right;\">\n",
       "      <th></th>\n",
       "      <th>LINE</th>\n",
       "      <th>LINENUM</th>\n",
       "      <th>STATION</th>\n",
       "      <th>LAT</th>\n",
       "      <th>LONG</th>\n",
       "      <th>geometry</th>\n",
       "      <th>color</th>\n",
       "    </tr>\n",
       "  </thead>\n",
       "  <tbody>\n",
       "    <tr>\n",
       "      <th>20</th>\n",
       "      <td>EXPO</td>\n",
       "      <td>806</td>\n",
       "      <td>LATTC / Ortho Institute Station</td>\n",
       "      <td>34.029112</td>\n",
       "      <td>-118.273603</td>\n",
       "      <td>POINT (6478766.175 1833089.413)</td>\n",
       "      <td></td>\n",
       "    </tr>\n",
       "    <tr>\n",
       "      <th>21</th>\n",
       "      <td>EXPO</td>\n",
       "      <td>806</td>\n",
       "      <td>Jefferson / USC Station</td>\n",
       "      <td>34.022123</td>\n",
       "      <td>-118.278118</td>\n",
       "      <td>POINT (6477391.116 1830549.740)</td>\n",
       "      <td></td>\n",
       "    </tr>\n",
       "    <tr>\n",
       "      <th>22</th>\n",
       "      <td>EXPO</td>\n",
       "      <td>806</td>\n",
       "      <td>Expo Park / USC Station</td>\n",
       "      <td>34.018227</td>\n",
       "      <td>-118.285734</td>\n",
       "      <td>POINT (6475079.285 1829138.386)</td>\n",
       "      <td></td>\n",
       "    </tr>\n",
       "    <tr>\n",
       "      <th>23</th>\n",
       "      <td>EXPO</td>\n",
       "      <td>806</td>\n",
       "      <td>Expo / Vermont Station</td>\n",
       "      <td>34.018245</td>\n",
       "      <td>-118.291540</td>\n",
       "      <td>POINT (6473319.888 1829149.989)</td>\n",
       "      <td></td>\n",
       "    </tr>\n",
       "    <tr>\n",
       "      <th>24</th>\n",
       "      <td>EXPO</td>\n",
       "      <td>806</td>\n",
       "      <td>Expo / Western Station</td>\n",
       "      <td>34.018331</td>\n",
       "      <td>-118.308910</td>\n",
       "      <td>POINT (6468056.285 1829197.007)</td>\n",
       "      <td></td>\n",
       "    </tr>\n",
       "    <tr>\n",
       "      <th>25</th>\n",
       "      <td>EXPO</td>\n",
       "      <td>806</td>\n",
       "      <td>Expo / Crenshaw Station</td>\n",
       "      <td>34.022526</td>\n",
       "      <td>-118.335078</td>\n",
       "      <td>POINT (6460131.596 1830749.046)</td>\n",
       "      <td></td>\n",
       "    </tr>\n",
       "    <tr>\n",
       "      <th>26</th>\n",
       "      <td>EXPO</td>\n",
       "      <td>806</td>\n",
       "      <td>Farmdale Station</td>\n",
       "      <td>34.023981</td>\n",
       "      <td>-118.346095</td>\n",
       "      <td>POINT (6456795.070 1831289.858)</td>\n",
       "      <td></td>\n",
       "    </tr>\n",
       "    <tr>\n",
       "      <th>27</th>\n",
       "      <td>EXPO</td>\n",
       "      <td>806</td>\n",
       "      <td>Expo / La Brea / Ethel Bradley Station</td>\n",
       "      <td>34.024803</td>\n",
       "      <td>-118.355159</td>\n",
       "      <td>POINT (6454049.620 1831598.579)</td>\n",
       "      <td></td>\n",
       "    </tr>\n",
       "    <tr>\n",
       "      <th>28</th>\n",
       "      <td>EXPO</td>\n",
       "      <td>806</td>\n",
       "      <td>La Cienega / Jefferson Station</td>\n",
       "      <td>34.026355</td>\n",
       "      <td>-118.372120</td>\n",
       "      <td>POINT (6448912.366 1832181.972)</td>\n",
       "      <td></td>\n",
       "    </tr>\n",
       "    <tr>\n",
       "      <th>29</th>\n",
       "      <td>EXPO</td>\n",
       "      <td>806</td>\n",
       "      <td>Culver City Station</td>\n",
       "      <td>34.027896</td>\n",
       "      <td>-118.388986</td>\n",
       "      <td>POINT (6443804.075 1832762.116)</td>\n",
       "      <td></td>\n",
       "    </tr>\n",
       "  </tbody>\n",
       "</table>\n",
       "</div>"
      ],
      "text/plain": [
       "    LINE  LINENUM                                 STATION        LAT  \\\n",
       "20  EXPO      806         LATTC / Ortho Institute Station  34.029112   \n",
       "21  EXPO      806                 Jefferson / USC Station  34.022123   \n",
       "22  EXPO      806                 Expo Park / USC Station  34.018227   \n",
       "23  EXPO      806                  Expo / Vermont Station  34.018245   \n",
       "24  EXPO      806                  Expo / Western Station  34.018331   \n",
       "25  EXPO      806                 Expo / Crenshaw Station  34.022526   \n",
       "26  EXPO      806                        Farmdale Station  34.023981   \n",
       "27  EXPO      806  Expo / La Brea / Ethel Bradley Station  34.024803   \n",
       "28  EXPO      806          La Cienega / Jefferson Station  34.026355   \n",
       "29  EXPO      806                     Culver City Station  34.027896   \n",
       "\n",
       "          LONG                         geometry color  \n",
       "20 -118.273603  POINT (6478766.175 1833089.413)        \n",
       "21 -118.278118  POINT (6477391.116 1830549.740)        \n",
       "22 -118.285734  POINT (6475079.285 1829138.386)        \n",
       "23 -118.291540  POINT (6473319.888 1829149.989)        \n",
       "24 -118.308910  POINT (6468056.285 1829197.007)        \n",
       "25 -118.335078  POINT (6460131.596 1830749.046)        \n",
       "26 -118.346095  POINT (6456795.070 1831289.858)        \n",
       "27 -118.355159  POINT (6454049.620 1831598.579)        \n",
       "28 -118.372120  POINT (6448912.366 1832181.972)        \n",
       "29 -118.388986  POINT (6443804.075 1832762.116)        "
      ]
     },
     "execution_count": 56,
     "metadata": {},
     "output_type": "execute_result"
    }
   ],
   "source": [
    "# display rows that match a query\n",
    "metro_trimmed.loc[metro['LINE'] == 'EXPO']"
   ]
  },
  {
   "cell_type": "markdown",
   "metadata": {
    "slideshow": {
     "slide_type": "slide"
    }
   },
   "source": [
    "The `loc` command has additional functionalities. You can use it to update a field based on a query on *another* field. But first, note that folium accepts only a few named colors, according to their [documentation](https://python-visualization.github.io/folium/modules.html): \n",
    "\n",
    "```\n",
    "[‘red’, ‘blue’, ‘green’, ‘purple’, ‘orange’, ‘darkred’,’lightred’, ‘beige’, ‘darkblue’, ‘darkgreen’, ‘cadetblue’, ‘darkpurple’, ‘white’, ‘pink’, ‘lightblue’, ‘lightgreen’, ‘gray’, ‘black’, ‘lightgray’]\n",
    "```\n",
    "\n",
    "Using the `loc` command, we can update the color column for a single LINE:"
   ]
  },
  {
   "cell_type": "code",
   "execution_count": 57,
   "metadata": {
    "slideshow": {
     "slide_type": "fragment"
    }
   },
   "outputs": [
    {
     "name": "stderr",
     "output_type": "stream",
     "text": [
      "/opt/conda/lib/python3.8/site-packages/geopandas/geodataframe.py:853: SettingWithCopyWarning: \n",
      "A value is trying to be set on a copy of a slice from a DataFrame.\n",
      "Try using .loc[row_indexer,col_indexer] = value instead\n",
      "\n",
      "See the caveats in the documentation: https://pandas.pydata.org/pandas-docs/stable/user_guide/indexing.html#returning-a-view-versus-a-copy\n",
      "  super(GeoDataFrame, self).__setitem__(key, value)\n"
     ]
    }
   ],
   "source": [
    "metro_trimmed.loc[metro['LINE'] == 'EXPO', 'color'] = 'orange'"
   ]
  },
  {
   "cell_type": "markdown",
   "metadata": {
    "slideshow": {
     "slide_type": "slide"
    }
   },
   "source": [
    "Now it's your turn. Update the color column for all other metro LINE's in the cell below:"
   ]
  },
  {
   "cell_type": "code",
   "execution_count": 58,
   "metadata": {
    "slideshow": {
     "slide_type": "fragment"
    }
   },
   "outputs": [],
   "source": [
    "metro_trimmed.loc[metro['LINE'] == 'Blue', 'color'] = 'blue'\n",
    "metro_trimmed.loc[metro['LINE'] == 'Blue/EXPO', 'color'] = 'cadetblue'\n",
    "metro_trimmed.loc[metro['LINE'] == 'Red', 'color'] = 'red'\n",
    "metro_trimmed.loc[metro['LINE'] == 'Red/Purple', 'color'] = 'darkred'\n",
    "metro_trimmed.loc[metro['LINE'] == 'Purple', 'color'] = 'purple'\n",
    "metro_trimmed.loc[metro['LINE'] == 'Green', 'color'] = 'green'\n",
    "metro_trimmed.loc[metro['LINE'] == 'Gold', 'color'] = 'beige'"
   ]
  },
  {
   "cell_type": "code",
   "execution_count": 59,
   "metadata": {
    "slideshow": {
     "slide_type": "fragment"
    }
   },
   "outputs": [
    {
     "data": {
      "text/html": [
       "<div>\n",
       "<style scoped>\n",
       "    .dataframe tbody tr th:only-of-type {\n",
       "        vertical-align: middle;\n",
       "    }\n",
       "\n",
       "    .dataframe tbody tr th {\n",
       "        vertical-align: top;\n",
       "    }\n",
       "\n",
       "    .dataframe thead th {\n",
       "        text-align: right;\n",
       "    }\n",
       "</style>\n",
       "<table border=\"1\" class=\"dataframe\">\n",
       "  <thead>\n",
       "    <tr style=\"text-align: right;\">\n",
       "      <th></th>\n",
       "      <th>LINE</th>\n",
       "      <th>LINENUM</th>\n",
       "      <th>STATION</th>\n",
       "      <th>LAT</th>\n",
       "      <th>LONG</th>\n",
       "      <th>geometry</th>\n",
       "      <th>color</th>\n",
       "    </tr>\n",
       "  </thead>\n",
       "  <tbody>\n",
       "    <tr>\n",
       "      <th>22</th>\n",
       "      <td>EXPO</td>\n",
       "      <td>806</td>\n",
       "      <td>Expo Park / USC Station</td>\n",
       "      <td>34.018227</td>\n",
       "      <td>-118.285734</td>\n",
       "      <td>POINT (6475079.285 1829138.386)</td>\n",
       "      <td>orange</td>\n",
       "    </tr>\n",
       "    <tr>\n",
       "      <th>26</th>\n",
       "      <td>EXPO</td>\n",
       "      <td>806</td>\n",
       "      <td>Farmdale Station</td>\n",
       "      <td>34.023981</td>\n",
       "      <td>-118.346095</td>\n",
       "      <td>POINT (6456795.070 1831289.858)</td>\n",
       "      <td>orange</td>\n",
       "    </tr>\n",
       "    <tr>\n",
       "      <th>3</th>\n",
       "      <td>Blue</td>\n",
       "      <td>801</td>\n",
       "      <td>Pacific Coast Hwy Station</td>\n",
       "      <td>33.789090</td>\n",
       "      <td>-118.189382</td>\n",
       "      <td>POINT (6504120.152 1745681.179)</td>\n",
       "      <td>blue</td>\n",
       "    </tr>\n",
       "    <tr>\n",
       "      <th>27</th>\n",
       "      <td>EXPO</td>\n",
       "      <td>806</td>\n",
       "      <td>Expo / La Brea / Ethel Bradley Station</td>\n",
       "      <td>34.024803</td>\n",
       "      <td>-118.355159</td>\n",
       "      <td>POINT (6454049.620 1831598.579)</td>\n",
       "      <td>orange</td>\n",
       "    </tr>\n",
       "    <tr>\n",
       "      <th>78</th>\n",
       "      <td>Gold</td>\n",
       "      <td>804</td>\n",
       "      <td>Del Mar Station</td>\n",
       "      <td>34.141910</td>\n",
       "      <td>-118.148214</td>\n",
       "      <td>POINT (6516818.973 1874058.989)</td>\n",
       "      <td>beige</td>\n",
       "    </tr>\n",
       "  </tbody>\n",
       "</table>\n",
       "</div>"
      ],
      "text/plain": [
       "    LINE  LINENUM                                 STATION        LAT  \\\n",
       "22  EXPO      806                 Expo Park / USC Station  34.018227   \n",
       "26  EXPO      806                        Farmdale Station  34.023981   \n",
       "3   Blue      801               Pacific Coast Hwy Station  33.789090   \n",
       "27  EXPO      806  Expo / La Brea / Ethel Bradley Station  34.024803   \n",
       "78  Gold      804                         Del Mar Station  34.141910   \n",
       "\n",
       "          LONG                         geometry   color  \n",
       "22 -118.285734  POINT (6475079.285 1829138.386)  orange  \n",
       "26 -118.346095  POINT (6456795.070 1831289.858)  orange  \n",
       "3  -118.189382  POINT (6504120.152 1745681.179)    blue  \n",
       "27 -118.355159  POINT (6454049.620 1831598.579)  orange  \n",
       "78 -118.148214  POINT (6516818.973 1874058.989)   beige  "
      ]
     },
     "execution_count": 59,
     "metadata": {},
     "output_type": "execute_result"
    }
   ],
   "source": [
    "metro_trimmed.sample(5)"
   ]
  },
  {
   "cell_type": "code",
   "execution_count": 60,
   "metadata": {
    "slideshow": {
     "slide_type": "slide"
    }
   },
   "outputs": [
    {
     "data": {
      "text/html": [
       "<div style=\"width:100%;\"><div style=\"position:relative;width:100%;height:0;padding-bottom:60%;\"><span style=\"color:#565656\">Make this Notebook Trusted to load map: File -> Trust Notebook</span><iframe src=\"about:blank\" style=\"position:absolute;width:100%;height:100%;left:0;top:0;border:none !important;\" data-html=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 onload=\"this.contentDocument.open();this.contentDocument.write(atob(this.getAttribute('data-html')));this.contentDocument.close();\" allowfullscreen webkitallowfullscreen mozallowfullscreen></iframe></div></div>"
      ],
      "text/plain": [
       "<folium.folium.Map at 0x7fca0f630ca0>"
      ]
     },
     "execution_count": 60,
     "metadata": {},
     "output_type": "execute_result"
    }
   ],
   "source": [
    "# reset the map (you need to do this to erase previous layers)\n",
    "m = folium.Map(location=[latitude,longitude], tiles='Stamen Terrain', zoom_start=10)\n",
    "\n",
    "# add the stations with color icons\n",
    "for index, row in metro_trimmed.iterrows():\n",
    "    tooltip_text = row.LINE + ' Line: ' + row.STATION\n",
    "    folium.Marker(\n",
    "        [row.LAT,row.LONG], \n",
    "        popup=row.STATION, \n",
    "        tooltip=tooltip_text,\n",
    "        icon=folium.Icon(color=row.color)\n",
    "    ).add_to(m)\n",
    "\n",
    "# show the map\n",
    "m"
   ]
  },
  {
   "cell_type": "markdown",
   "metadata": {
    "slideshow": {
     "slide_type": "slide"
    }
   },
   "source": [
    "### Saving your folium map as an HTML file"
   ]
  },
  {
   "cell_type": "code",
   "execution_count": 61,
   "metadata": {
    "slideshow": {
     "slide_type": "-"
    }
   },
   "outputs": [],
   "source": [
    "# save the interactive maps as an html file\n",
    "m.save('metro.html')"
   ]
  },
  {
   "cell_type": "code",
   "execution_count": null,
   "metadata": {},
   "outputs": [],
   "source": []
  }
 ],
 "metadata": {
  "celltoolbar": "Slideshow",
  "kernelspec": {
   "display_name": "Python 3",
   "language": "python",
   "name": "python3"
  },
  "language_info": {
   "codemirror_mode": {
    "name": "ipython",
    "version": 3
   },
   "file_extension": ".py",
   "mimetype": "text/x-python",
   "name": "python",
   "nbconvert_exporter": "python",
   "pygments_lexer": "ipython3",
   "version": "3.8.5"
  },
  "toc": {
   "base_numbering": 1,
   "nav_menu": {},
   "number_sections": true,
   "sideBar": true,
   "skip_h1_title": false,
   "title_cell": "Table of Contents",
   "title_sidebar": "Contents",
   "toc_cell": true,
   "toc_position": {
    "height": "757px",
    "left": "523px",
    "top": "110px",
    "width": "384px"
   },
   "toc_section_display": true,
   "toc_window_display": false
  }
 },
 "nbformat": 4,
 "nbformat_minor": 4
}
