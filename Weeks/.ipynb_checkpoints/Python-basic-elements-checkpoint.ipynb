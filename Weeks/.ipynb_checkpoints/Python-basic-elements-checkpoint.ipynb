{
 "cells": [
  {
   "cell_type": "markdown",
   "metadata": {},
   "source": [
    "# Basic elements of Python\n",
    "\n",
    "In this lesson we will revisit data types, learn how data can be stored in Python lists, and about the concept of objects in programming."
   ]
  },
  {
   "cell_type": "markdown",
   "metadata": {},
   "source": [
    "## Sources\n",
    "\n",
    "Like the previous lesson, this lesson is inspired by the [Programming with Python lessons](https://swcarpentry.github.io/python-novice-inflammation/) from the [Software Carpentry organization](https://swcarpentry.github.io/)."
   ]
  },
  {
   "cell_type": "markdown",
   "metadata": {},
   "source": [
    "<div class=\"alert alert-info\">\n",
    "\n",
    "**Note**\n",
    "\n",
    "There are some Python cells in this notebook that *already* contain code. You just need to press **Shift**-**Enter** to run those cells. We're trying to avoid having you race to keep up typing in basic things for the lesson so you can focus on the main points :D.\n",
    "\n",
    "</div>"
   ]
  },
  {
   "cell_type": "code",
   "execution_count": 44,
   "metadata": {},
   "outputs": [],
   "source": [
    "import geopandas as gpd"
   ]
  },
  {
   "cell_type": "code",
   "execution_count": 45,
   "metadata": {},
   "outputs": [
    {
     "data": {
      "text/html": [
       "<div>\n",
       "<style scoped>\n",
       "    .dataframe tbody tr th:only-of-type {\n",
       "        vertical-align: middle;\n",
       "    }\n",
       "\n",
       "    .dataframe tbody tr th {\n",
       "        vertical-align: top;\n",
       "    }\n",
       "\n",
       "    .dataframe thead th {\n",
       "        text-align: right;\n",
       "    }\n",
       "</style>\n",
       "<table border=\"1\" class=\"dataframe\">\n",
       "  <thead>\n",
       "    <tr style=\"text-align: right;\">\n",
       "      <th></th>\n",
       "      <th>LINE</th>\n",
       "      <th>LINENUM</th>\n",
       "      <th>LINENUM2</th>\n",
       "      <th>STNSEQ</th>\n",
       "      <th>STNSEQ2</th>\n",
       "      <th>DIR</th>\n",
       "      <th>STOPNUM</th>\n",
       "      <th>STATION</th>\n",
       "      <th>LAT</th>\n",
       "      <th>LONG</th>\n",
       "      <th>TPIS_NAME</th>\n",
       "      <th>POINT_X</th>\n",
       "      <th>POINT_Y</th>\n",
       "      <th>geometry</th>\n",
       "    </tr>\n",
       "  </thead>\n",
       "  <tbody>\n",
       "    <tr>\n",
       "      <th>0</th>\n",
       "      <td>Blue/EXPO</td>\n",
       "      <td>801</td>\n",
       "      <td>806</td>\n",
       "      <td>2</td>\n",
       "      <td>11</td>\n",
       "      <td>None</td>\n",
       "      <td>80121</td>\n",
       "      <td>Pico Station</td>\n",
       "      <td>34.040735</td>\n",
       "      <td>-118.266118</td>\n",
       "      <td>Pico</td>\n",
       "      <td>6.481045e+06</td>\n",
       "      <td>1.837313e+06</td>\n",
       "      <td>POINT (-118.26612 34.04073)</td>\n",
       "    </tr>\n",
       "    <tr>\n",
       "      <th>1</th>\n",
       "      <td>Blue/EXPO</td>\n",
       "      <td>801</td>\n",
       "      <td>806</td>\n",
       "      <td>1</td>\n",
       "      <td>12</td>\n",
       "      <td>None</td>\n",
       "      <td>80122</td>\n",
       "      <td>7th St / Metro Center Station - Metro Blue &amp; E...</td>\n",
       "      <td>34.048610</td>\n",
       "      <td>-118.258822</td>\n",
       "      <td>7MC</td>\n",
       "      <td>6.483263e+06</td>\n",
       "      <td>1.840173e+06</td>\n",
       "      <td>POINT (-118.25882 34.04861)</td>\n",
       "    </tr>\n",
       "    <tr>\n",
       "      <th>2</th>\n",
       "      <td>EXPO</td>\n",
       "      <td>806</td>\n",
       "      <td>0</td>\n",
       "      <td>3</td>\n",
       "      <td>0</td>\n",
       "      <td>None</td>\n",
       "      <td>80123</td>\n",
       "      <td>LATTC / Ortho Institute Station</td>\n",
       "      <td>34.029112</td>\n",
       "      <td>-118.273603</td>\n",
       "      <td>LATTC/Ortho</td>\n",
       "      <td>6.478766e+06</td>\n",
       "      <td>1.833089e+06</td>\n",
       "      <td>POINT (-118.27360 34.02911)</td>\n",
       "    </tr>\n",
       "    <tr>\n",
       "      <th>3</th>\n",
       "      <td>EXPO</td>\n",
       "      <td>806</td>\n",
       "      <td>0</td>\n",
       "      <td>4</td>\n",
       "      <td>0</td>\n",
       "      <td>None</td>\n",
       "      <td>80124</td>\n",
       "      <td>Jefferson / USC Station</td>\n",
       "      <td>34.022123</td>\n",
       "      <td>-118.278118</td>\n",
       "      <td>Jeff/USC</td>\n",
       "      <td>6.477391e+06</td>\n",
       "      <td>1.830550e+06</td>\n",
       "      <td>POINT (-118.27812 34.02212)</td>\n",
       "    </tr>\n",
       "    <tr>\n",
       "      <th>4</th>\n",
       "      <td>EXPO</td>\n",
       "      <td>806</td>\n",
       "      <td>0</td>\n",
       "      <td>5</td>\n",
       "      <td>0</td>\n",
       "      <td>None</td>\n",
       "      <td>80125</td>\n",
       "      <td>Expo Park / USC Station</td>\n",
       "      <td>34.018227</td>\n",
       "      <td>-118.285734</td>\n",
       "      <td>Expo Pk</td>\n",
       "      <td>6.475079e+06</td>\n",
       "      <td>1.829138e+06</td>\n",
       "      <td>POINT (-118.28573 34.01823)</td>\n",
       "    </tr>\n",
       "    <tr>\n",
       "      <th>5</th>\n",
       "      <td>EXPO</td>\n",
       "      <td>806</td>\n",
       "      <td>0</td>\n",
       "      <td>6</td>\n",
       "      <td>0</td>\n",
       "      <td>None</td>\n",
       "      <td>80126</td>\n",
       "      <td>Expo / Vermont Station</td>\n",
       "      <td>34.018245</td>\n",
       "      <td>-118.291540</td>\n",
       "      <td>Ex/Vrmnt</td>\n",
       "      <td>6.473320e+06</td>\n",
       "      <td>1.829150e+06</td>\n",
       "      <td>POINT (-118.29154 34.01825)</td>\n",
       "    </tr>\n",
       "    <tr>\n",
       "      <th>6</th>\n",
       "      <td>EXPO</td>\n",
       "      <td>806</td>\n",
       "      <td>0</td>\n",
       "      <td>7</td>\n",
       "      <td>0</td>\n",
       "      <td>None</td>\n",
       "      <td>80127</td>\n",
       "      <td>Expo / Western Station</td>\n",
       "      <td>34.018331</td>\n",
       "      <td>-118.308910</td>\n",
       "      <td>Ex/Wstrn</td>\n",
       "      <td>6.468056e+06</td>\n",
       "      <td>1.829197e+06</td>\n",
       "      <td>POINT (-118.30891 34.01833)</td>\n",
       "    </tr>\n",
       "    <tr>\n",
       "      <th>7</th>\n",
       "      <td>EXPO</td>\n",
       "      <td>806</td>\n",
       "      <td>0</td>\n",
       "      <td>8</td>\n",
       "      <td>0</td>\n",
       "      <td>None</td>\n",
       "      <td>80128</td>\n",
       "      <td>Expo / Crenshaw Station</td>\n",
       "      <td>34.022526</td>\n",
       "      <td>-118.335078</td>\n",
       "      <td>Ex/Crnshw</td>\n",
       "      <td>6.460132e+06</td>\n",
       "      <td>1.830749e+06</td>\n",
       "      <td>POINT (-118.33508 34.02253)</td>\n",
       "    </tr>\n",
       "    <tr>\n",
       "      <th>8</th>\n",
       "      <td>EXPO</td>\n",
       "      <td>806</td>\n",
       "      <td>0</td>\n",
       "      <td>9</td>\n",
       "      <td>0</td>\n",
       "      <td>None</td>\n",
       "      <td>80129</td>\n",
       "      <td>Farmdale Station</td>\n",
       "      <td>34.023981</td>\n",
       "      <td>-118.346095</td>\n",
       "      <td>Farmdale</td>\n",
       "      <td>6.456795e+06</td>\n",
       "      <td>1.831290e+06</td>\n",
       "      <td>POINT (-118.34610 34.02398)</td>\n",
       "    </tr>\n",
       "    <tr>\n",
       "      <th>9</th>\n",
       "      <td>EXPO</td>\n",
       "      <td>806</td>\n",
       "      <td>0</td>\n",
       "      <td>10</td>\n",
       "      <td>0</td>\n",
       "      <td>None</td>\n",
       "      <td>80130</td>\n",
       "      <td>Expo / La Brea Station</td>\n",
       "      <td>34.024803</td>\n",
       "      <td>-118.355159</td>\n",
       "      <td>Ex/LBrea</td>\n",
       "      <td>6.454050e+06</td>\n",
       "      <td>1.831599e+06</td>\n",
       "      <td>POINT (-118.35516 34.02480)</td>\n",
       "    </tr>\n",
       "    <tr>\n",
       "      <th>10</th>\n",
       "      <td>EXPO</td>\n",
       "      <td>806</td>\n",
       "      <td>0</td>\n",
       "      <td>11</td>\n",
       "      <td>0</td>\n",
       "      <td>None</td>\n",
       "      <td>80131</td>\n",
       "      <td>La Cienega / Jefferson Station</td>\n",
       "      <td>34.026355</td>\n",
       "      <td>-118.372120</td>\n",
       "      <td>LCienega</td>\n",
       "      <td>6.448912e+06</td>\n",
       "      <td>1.832182e+06</td>\n",
       "      <td>POINT (-118.37212 34.02636)</td>\n",
       "    </tr>\n",
       "    <tr>\n",
       "      <th>11</th>\n",
       "      <td>EXPO</td>\n",
       "      <td>806</td>\n",
       "      <td>0</td>\n",
       "      <td>12</td>\n",
       "      <td>0</td>\n",
       "      <td>None</td>\n",
       "      <td>80132</td>\n",
       "      <td>Culver City Station</td>\n",
       "      <td>34.027896</td>\n",
       "      <td>-118.388986</td>\n",
       "      <td>CulvrCty</td>\n",
       "      <td>6.443804e+06</td>\n",
       "      <td>1.832762e+06</td>\n",
       "      <td>POINT (-118.38899 34.02790)</td>\n",
       "    </tr>\n",
       "    <tr>\n",
       "      <th>12</th>\n",
       "      <td>EXPO</td>\n",
       "      <td>806</td>\n",
       "      <td>0</td>\n",
       "      <td>13</td>\n",
       "      <td>0</td>\n",
       "      <td>None</td>\n",
       "      <td>80133</td>\n",
       "      <td>Palms Station</td>\n",
       "      <td>34.029323</td>\n",
       "      <td>-118.404255</td>\n",
       "      <td>Palms</td>\n",
       "      <td>6.439180e+06</td>\n",
       "      <td>1.833300e+06</td>\n",
       "      <td>POINT (-118.40426 34.02932)</td>\n",
       "    </tr>\n",
       "    <tr>\n",
       "      <th>13</th>\n",
       "      <td>EXPO</td>\n",
       "      <td>806</td>\n",
       "      <td>0</td>\n",
       "      <td>14</td>\n",
       "      <td>0</td>\n",
       "      <td>None</td>\n",
       "      <td>80134</td>\n",
       "      <td>Westwood / Rancho Park Station</td>\n",
       "      <td>34.036816</td>\n",
       "      <td>-118.424576</td>\n",
       "      <td>Westwood</td>\n",
       "      <td>6.433034e+06</td>\n",
       "      <td>1.836052e+06</td>\n",
       "      <td>POINT (-118.42458 34.03682)</td>\n",
       "    </tr>\n",
       "    <tr>\n",
       "      <th>14</th>\n",
       "      <td>EXPO</td>\n",
       "      <td>806</td>\n",
       "      <td>0</td>\n",
       "      <td>15</td>\n",
       "      <td>0</td>\n",
       "      <td>None</td>\n",
       "      <td>80135</td>\n",
       "      <td>Expo / Sepulveda Station</td>\n",
       "      <td>34.035408</td>\n",
       "      <td>-118.434234</td>\n",
       "      <td>Sepulveda</td>\n",
       "      <td>6.430106e+06</td>\n",
       "      <td>1.835552e+06</td>\n",
       "      <td>POINT (-118.43423 34.03541)</td>\n",
       "    </tr>\n",
       "    <tr>\n",
       "      <th>15</th>\n",
       "      <td>EXPO</td>\n",
       "      <td>806</td>\n",
       "      <td>0</td>\n",
       "      <td>16</td>\n",
       "      <td>0</td>\n",
       "      <td>None</td>\n",
       "      <td>80136</td>\n",
       "      <td>Expo / Bundy Station</td>\n",
       "      <td>34.031705</td>\n",
       "      <td>-118.452896</td>\n",
       "      <td>Bundy</td>\n",
       "      <td>6.424446e+06</td>\n",
       "      <td>1.834230e+06</td>\n",
       "      <td>POINT (-118.45290 34.03171)</td>\n",
       "    </tr>\n",
       "    <tr>\n",
       "      <th>16</th>\n",
       "      <td>EXPO</td>\n",
       "      <td>806</td>\n",
       "      <td>0</td>\n",
       "      <td>17</td>\n",
       "      <td>0</td>\n",
       "      <td>None</td>\n",
       "      <td>80137</td>\n",
       "      <td>26th St / Bergamot Station</td>\n",
       "      <td>34.027995</td>\n",
       "      <td>-118.469120</td>\n",
       "      <td>26th/Berg</td>\n",
       "      <td>6.419524e+06</td>\n",
       "      <td>1.832902e+06</td>\n",
       "      <td>POINT (-118.46912 34.02799)</td>\n",
       "    </tr>\n",
       "    <tr>\n",
       "      <th>17</th>\n",
       "      <td>EXPO</td>\n",
       "      <td>806</td>\n",
       "      <td>0</td>\n",
       "      <td>18</td>\n",
       "      <td>0</td>\n",
       "      <td>None</td>\n",
       "      <td>80138</td>\n",
       "      <td>17th St / SMC Station</td>\n",
       "      <td>34.023155</td>\n",
       "      <td>-118.480372</td>\n",
       "      <td>17th/SMC</td>\n",
       "      <td>6.416106e+06</td>\n",
       "      <td>1.831157e+06</td>\n",
       "      <td>POINT (-118.48037 34.02316)</td>\n",
       "    </tr>\n",
       "    <tr>\n",
       "      <th>18</th>\n",
       "      <td>EXPO</td>\n",
       "      <td>806</td>\n",
       "      <td>0</td>\n",
       "      <td>19</td>\n",
       "      <td>0</td>\n",
       "      <td>None</td>\n",
       "      <td>80139</td>\n",
       "      <td>Downtown Santa Monica Station</td>\n",
       "      <td>34.014010</td>\n",
       "      <td>-118.491384</td>\n",
       "      <td>S Monica</td>\n",
       "      <td>6.412753e+06</td>\n",
       "      <td>1.827845e+06</td>\n",
       "      <td>POINT (-118.49138 34.01401)</td>\n",
       "    </tr>\n",
       "  </tbody>\n",
       "</table>\n",
       "</div>"
      ],
      "text/plain": [
       "         LINE  LINENUM  LINENUM2  STNSEQ  STNSEQ2   DIR  STOPNUM  \\\n",
       "0   Blue/EXPO      801       806       2       11  None    80121   \n",
       "1   Blue/EXPO      801       806       1       12  None    80122   \n",
       "2        EXPO      806         0       3        0  None    80123   \n",
       "3        EXPO      806         0       4        0  None    80124   \n",
       "4        EXPO      806         0       5        0  None    80125   \n",
       "5        EXPO      806         0       6        0  None    80126   \n",
       "6        EXPO      806         0       7        0  None    80127   \n",
       "7        EXPO      806         0       8        0  None    80128   \n",
       "8        EXPO      806         0       9        0  None    80129   \n",
       "9        EXPO      806         0      10        0  None    80130   \n",
       "10       EXPO      806         0      11        0  None    80131   \n",
       "11       EXPO      806         0      12        0  None    80132   \n",
       "12       EXPO      806         0      13        0  None    80133   \n",
       "13       EXPO      806         0      14        0  None    80134   \n",
       "14       EXPO      806         0      15        0  None    80135   \n",
       "15       EXPO      806         0      16        0  None    80136   \n",
       "16       EXPO      806         0      17        0  None    80137   \n",
       "17       EXPO      806         0      18        0  None    80138   \n",
       "18       EXPO      806         0      19        0  None    80139   \n",
       "\n",
       "                                              STATION        LAT        LONG  \\\n",
       "0                                        Pico Station  34.040735 -118.266118   \n",
       "1   7th St / Metro Center Station - Metro Blue & E...  34.048610 -118.258822   \n",
       "2                     LATTC / Ortho Institute Station  34.029112 -118.273603   \n",
       "3                             Jefferson / USC Station  34.022123 -118.278118   \n",
       "4                             Expo Park / USC Station  34.018227 -118.285734   \n",
       "5                              Expo / Vermont Station  34.018245 -118.291540   \n",
       "6                              Expo / Western Station  34.018331 -118.308910   \n",
       "7                             Expo / Crenshaw Station  34.022526 -118.335078   \n",
       "8                                    Farmdale Station  34.023981 -118.346095   \n",
       "9                              Expo / La Brea Station  34.024803 -118.355159   \n",
       "10                     La Cienega / Jefferson Station  34.026355 -118.372120   \n",
       "11                                Culver City Station  34.027896 -118.388986   \n",
       "12                                      Palms Station  34.029323 -118.404255   \n",
       "13                     Westwood / Rancho Park Station  34.036816 -118.424576   \n",
       "14                           Expo / Sepulveda Station  34.035408 -118.434234   \n",
       "15                               Expo / Bundy Station  34.031705 -118.452896   \n",
       "16                         26th St / Bergamot Station  34.027995 -118.469120   \n",
       "17                              17th St / SMC Station  34.023155 -118.480372   \n",
       "18                      Downtown Santa Monica Station  34.014010 -118.491384   \n",
       "\n",
       "      TPIS_NAME       POINT_X       POINT_Y                     geometry  \n",
       "0          Pico  6.481045e+06  1.837313e+06  POINT (-118.26612 34.04073)  \n",
       "1           7MC  6.483263e+06  1.840173e+06  POINT (-118.25882 34.04861)  \n",
       "2   LATTC/Ortho  6.478766e+06  1.833089e+06  POINT (-118.27360 34.02911)  \n",
       "3      Jeff/USC  6.477391e+06  1.830550e+06  POINT (-118.27812 34.02212)  \n",
       "4       Expo Pk  6.475079e+06  1.829138e+06  POINT (-118.28573 34.01823)  \n",
       "5      Ex/Vrmnt  6.473320e+06  1.829150e+06  POINT (-118.29154 34.01825)  \n",
       "6      Ex/Wstrn  6.468056e+06  1.829197e+06  POINT (-118.30891 34.01833)  \n",
       "7     Ex/Crnshw  6.460132e+06  1.830749e+06  POINT (-118.33508 34.02253)  \n",
       "8      Farmdale  6.456795e+06  1.831290e+06  POINT (-118.34610 34.02398)  \n",
       "9      Ex/LBrea  6.454050e+06  1.831599e+06  POINT (-118.35516 34.02480)  \n",
       "10     LCienega  6.448912e+06  1.832182e+06  POINT (-118.37212 34.02636)  \n",
       "11     CulvrCty  6.443804e+06  1.832762e+06  POINT (-118.38899 34.02790)  \n",
       "12        Palms  6.439180e+06  1.833300e+06  POINT (-118.40426 34.02932)  \n",
       "13     Westwood  6.433034e+06  1.836052e+06  POINT (-118.42458 34.03682)  \n",
       "14    Sepulveda  6.430106e+06  1.835552e+06  POINT (-118.43423 34.03541)  \n",
       "15        Bundy  6.424446e+06  1.834230e+06  POINT (-118.45290 34.03171)  \n",
       "16    26th/Berg  6.419524e+06  1.832902e+06  POINT (-118.46912 34.02799)  \n",
       "17     17th/SMC  6.416106e+06  1.831157e+06  POINT (-118.48037 34.02316)  \n",
       "18     S Monica  6.412753e+06  1.827845e+06  POINT (-118.49138 34.01401)  "
      ]
     },
     "execution_count": 45,
     "metadata": {},
     "output_type": "execute_result"
    }
   ],
   "source": [
    "metro = gpd.read_file('../data/ExpoLine0316.shp')\n",
    "metro.head(100)"
   ]
  },
  {
   "cell_type": "markdown",
   "metadata": {},
   "source": [
    "## Data types revisited\n",
    "\n",
    "### Let's start with some data\n",
    "\n",
    "Let's look at some variables related to [metro stations in Los Angeles](https://developer.metro.net/). For each station, a number of pieces of information are given, including the name of the station, the line number (linenum), stop number (stopnum) its latitude (lat), its longitude (long). We can store this information and some additional information for a given station in Python as follows:"
   ]
  },
  {
   "cell_type": "code",
   "execution_count": 46,
   "metadata": {},
   "outputs": [],
   "source": [
    "station = 'Westwood / Rancho Park'"
   ]
  },
  {
   "cell_type": "code",
   "execution_count": 47,
   "metadata": {},
   "outputs": [],
   "source": [
    "linenum = 806"
   ]
  },
  {
   "cell_type": "code",
   "execution_count": 48,
   "metadata": {},
   "outputs": [],
   "source": [
    "stopnum = 80134"
   ]
  },
  {
   "cell_type": "code",
   "execution_count": 49,
   "metadata": {},
   "outputs": [],
   "source": [
    "lat = 34.0368"
   ]
  },
  {
   "cell_type": "code",
   "execution_count": 50,
   "metadata": {},
   "outputs": [],
   "source": [
    "long = -118.425"
   ]
  },
  {
   "cell_type": "markdown",
   "metadata": {},
   "source": [
    "Here we have 5 values assigned to variables related to a single observation station. Each variable has a unique name and they can store different types of data."
   ]
  },
  {
   "cell_type": "markdown",
   "metadata": {},
   "source": [
    "### Reminder: Data types and their compatibility\n",
    "\n",
    "We can explore the different types of data stored in variables using the `type()` function.\n",
    "Let's use the cells below to check the data types of the variables `station`, `linenum`, and `lat`."
   ]
  },
  {
   "cell_type": "code",
   "execution_count": 51,
   "metadata": {},
   "outputs": [
    {
     "data": {
      "text/plain": [
       "str"
      ]
     },
     "execution_count": 51,
     "metadata": {},
     "output_type": "execute_result"
    }
   ],
   "source": [
    "type(station)"
   ]
  },
  {
   "cell_type": "code",
   "execution_count": 52,
   "metadata": {},
   "outputs": [
    {
     "data": {
      "text/plain": [
       "int"
      ]
     },
     "execution_count": 52,
     "metadata": {},
     "output_type": "execute_result"
    }
   ],
   "source": [
    "type(linenum)"
   ]
  },
  {
   "cell_type": "code",
   "execution_count": 53,
   "metadata": {},
   "outputs": [
    {
     "data": {
      "text/plain": [
       "float"
      ]
     },
     "execution_count": 53,
     "metadata": {},
     "output_type": "execute_result"
    }
   ],
   "source": [
    "type(lat)"
   ]
  },
  {
   "cell_type": "markdown",
   "metadata": {},
   "source": [
    "As expected, we see that the `station_name` is a character string, the `station_id` is an integer, and the `station_lat` is a floating point number."
   ]
  },
  {
   "cell_type": "markdown",
   "metadata": {},
   "source": [
    "<div class=\"alert alert-info\">\n",
    "\n",
    "**Note**\n",
    "\n",
    "Remember, the data types are important because some are not compatible with one another. What happens when you try to add the variables `station` and `linenum` in the cell below?\n",
    "\n",
    "</div>"
   ]
  },
  {
   "cell_type": "code",
   "execution_count": 54,
   "metadata": {
    "tags": [
     "raises-exception"
    ]
   },
   "outputs": [
    {
     "ename": "TypeError",
     "evalue": "can only concatenate str (not \"int\") to str",
     "output_type": "error",
     "traceback": [
      "\u001b[1;31m---------------------------------------------------------------------------\u001b[0m",
      "\u001b[1;31mTypeError\u001b[0m                                 Traceback (most recent call last)",
      "\u001b[1;32m<ipython-input-54-ef22680e2ec1>\u001b[0m in \u001b[0;36m<module>\u001b[1;34m\u001b[0m\n\u001b[1;32m----> 1\u001b[1;33m \u001b[0mstation\u001b[0m \u001b[1;33m+\u001b[0m \u001b[0mlinenum\u001b[0m\u001b[1;33m\u001b[0m\u001b[1;33m\u001b[0m\u001b[0m\n\u001b[0m",
      "\u001b[1;31mTypeError\u001b[0m: can only concatenate str (not \"int\") to str"
     ]
    }
   ],
   "source": [
    "station + linenum"
   ]
  },
  {
   "cell_type": "markdown",
   "metadata": {},
   "source": [
    "Here we get a `TypeError` because Python does not know to combine a string of characters (`station`) with an integer value (`linenum`)."
   ]
  },
  {
   "cell_type": "markdown",
   "metadata": {},
   "source": [
    "### Converting data from one type to another\n",
    "\n",
    "It is not the case that things like the `station` and `linenum` cannot be combined at all, but in order to combine a character string with a number we need to perform a *data type conversion* to make them compatible. Let's convert `linenum` to a character string using the `str()` function. We can store the converted variable as `linenum_str`."
   ]
  },
  {
   "cell_type": "code",
   "execution_count": 55,
   "metadata": {},
   "outputs": [],
   "source": [
    "linenum_str = str(linenum)"
   ]
  },
  {
   "cell_type": "markdown",
   "metadata": {},
   "source": [
    "We can confirm the type has changed by checking the type of `linenum_str`, or by checking the output when you type the name of the variable into a cell and running it."
   ]
  },
  {
   "cell_type": "code",
   "execution_count": 56,
   "metadata": {},
   "outputs": [
    {
     "data": {
      "text/plain": [
       "str"
      ]
     },
     "execution_count": 56,
     "metadata": {},
     "output_type": "execute_result"
    }
   ],
   "source": [
    "type(linenum_str)"
   ]
  },
  {
   "cell_type": "code",
   "execution_count": 57,
   "metadata": {},
   "outputs": [
    {
     "data": {
      "text/plain": [
       "'806'"
      ]
     },
     "execution_count": 57,
     "metadata": {},
     "output_type": "execute_result"
    }
   ],
   "source": [
    "linenum_str"
   ]
  },
  {
   "cell_type": "markdown",
   "metadata": {},
   "source": [
    "As you can see, `str()` converts a numerical value into a character string with the same numbers as before."
   ]
  },
  {
   "cell_type": "markdown",
   "metadata": {},
   "source": [
    "<div class=\"alert alert-info\">\n",
    "\n",
    "**Note**\n",
    "\n",
    "Similar to using `str()` to convert numbers to character strings, `int()` can be used to convert strings or floating point numbers to integers and `float()` can be used to convert strings or integers to floating point numbers.\n",
    "\n",
    "</div>"
   ]
  },
  {
   "cell_type": "markdown",
   "metadata": {},
   "source": [
    "<div class=\"alert alert-warning\">\n",
    "\n",
    "**Attention**\n",
    "\n",
    "**Poll pause - Questions 2.2, 2.3**\n",
    "\n",
    "Please visit the [class polling page](https://geo-python.github.io/poll) to participate (*only for those present during the lecture time*).\n",
    "\n",
    "</div>"
   ]
  },
  {
   "cell_type": "markdown",
   "metadata": {},
   "source": [
    "### Combining text and numbers\n",
    "\n",
    "Although most mathematical operations operate on numerical values, a common way to combine character strings is using the addition operator `+`. Let's create a text string in the variable `station_name_and_id` that is the combination of the `station` and `linenum` variables. Once we define `station_name_and_id`, we can print it to the screen to see the result."
   ]
  },
  {
   "cell_type": "code",
   "execution_count": 58,
   "metadata": {},
   "outputs": [],
   "source": [
    "station_name_and_id = station + \": \" + str(linenum)"
   ]
  },
  {
   "cell_type": "code",
   "execution_count": 59,
   "metadata": {},
   "outputs": [
    {
     "name": "stdout",
     "output_type": "stream",
     "text": [
      "Westwood / Rancho Park: 806\n"
     ]
    }
   ],
   "source": [
    "print(station_name_and_id)"
   ]
  },
  {
   "cell_type": "markdown",
   "metadata": {},
   "source": [
    "Note that here we are converting `linenum` to a character string using the `str()` function within the assignment to the variable `station_name_and_id`. Alternatively, we could have simply added `station` and `linenum_str`."
   ]
  },
  {
   "cell_type": "markdown",
   "metadata": {},
   "source": [
    "## Lists and indices\n",
    "\n",
    "Above we have seen a bit of data related to one of the stations on the LA Metro Expo line. Rather than having individual variables for each of those stations, we can store many related values in a *collection*. The simplest type of collection in Python is a **list**."
   ]
  },
  {
   "cell_type": "markdown",
   "metadata": {},
   "source": [
    "### Creating a list\n",
    "\n",
    "Let’s first create a list of selected `station_name` values and print it to the screen."
   ]
  },
  {
   "cell_type": "code",
   "execution_count": 60,
   "metadata": {},
   "outputs": [],
   "source": [
    "station_names = ['Pico', 'Culver City', 'Westwood / Rancho Park', 'Downtown Santa Monica']"
   ]
  },
  {
   "cell_type": "code",
   "execution_count": 61,
   "metadata": {},
   "outputs": [
    {
     "name": "stdout",
     "output_type": "stream",
     "text": [
      "['Pico', 'Culver City', 'Westwood / Rancho Park', 'Downtown Santa Monica']\n"
     ]
    }
   ],
   "source": [
    "print(station_names)"
   ]
  },
  {
   "cell_type": "markdown",
   "metadata": {},
   "source": [
    "We can also check the type of the `station_names` list using the `type()` function."
   ]
  },
  {
   "cell_type": "code",
   "execution_count": 62,
   "metadata": {},
   "outputs": [
    {
     "data": {
      "text/plain": [
       "list"
      ]
     },
     "execution_count": 62,
     "metadata": {},
     "output_type": "execute_result"
    }
   ],
   "source": [
    "type(station_names)"
   ]
  },
  {
   "cell_type": "markdown",
   "metadata": {},
   "source": [
    "Here we have a list of 4 `station_name` values in a list called `station_names`. As you can see, the `type()` function recognizes this as a list. Lists can be created using the square brackets `[` and `]`, with commas separating the values in the list."
   ]
  },
  {
   "cell_type": "markdown",
   "metadata": {},
   "source": [
    "### Index values\n",
    "\n",
    "To access an individual value in the list we need to use an **index value**. An index value is a number that refers to a given position in the list. Let’s check out the first value in our list as an example by printing out `station_names[1]`:"
   ]
  },
  {
   "cell_type": "code",
   "execution_count": 63,
   "metadata": {},
   "outputs": [
    {
     "name": "stdout",
     "output_type": "stream",
     "text": [
      "Culver City\n"
     ]
    }
   ],
   "source": [
    "print(station_names[1])"
   ]
  },
  {
   "cell_type": "markdown",
   "metadata": {},
   "source": [
    "Wait, what? This is the second value in the list we’ve created, what is wrong? As it turns out, Python (and many other programming languages) start values stored in collections with the index value `0`. Thus, to get the value for the first item in the list, we must use index `0`. Let's print out the value at index `0` of `station_names` below."
   ]
  },
  {
   "cell_type": "code",
   "execution_count": 64,
   "metadata": {},
   "outputs": [
    {
     "name": "stdout",
     "output_type": "stream",
     "text": [
      "Pico\n"
     ]
    }
   ],
   "source": [
    "print(station_names[0])"
   ]
  },
  {
   "cell_type": "markdown",
   "metadata": {},
   "source": [
    "OK, that makes sense, but it may take some getting used to..."
   ]
  },
  {
   "cell_type": "markdown",
   "metadata": {},
   "source": [
    "### A useful analog - Bill the vending machine\n",
    "\n",
    "As it turns out, index values are extremely useful, common in many programming languages, yet often a point of confusion for new programmers. Thus, we need to have a trick for remembering what an index value is and how they are used. For this, we need to be introduced to Bill.\n",
    "\n",
    "![Bill the vending machine](img/bill-the-vending-machine.png)\n",
    "*Bill, the vending machine.*\n",
    "\n",
    "As you can see, Bill is a vending machine that contains 6 items. Like Python lists, the list of items available from Bill starts at 0 and increases in increments of 1.\n",
    "\n",
    "The way Bill works is that you insert your money, then select the location of the item you wish to receive. In an analogy to Python, we could say Bill is simply a list of food items and the buttons you push to get them are the index values. For example, if you would like to buy a taco from Bill, you would push button `3`. An equivalent operation in Python could simply be\n",
    "\n",
    "```python\n",
    "print(Bill[3])\n",
    "Taco\n",
    "```"
   ]
  },
  {
   "cell_type": "markdown",
   "metadata": {},
   "source": [
    "### Number of items in a list\n",
    "\n",
    "We can find the length of a list using the `len()` function. Use it below to check the length of the `station_names` list."
   ]
  },
  {
   "cell_type": "code",
   "execution_count": 65,
   "metadata": {},
   "outputs": [
    {
     "data": {
      "text/plain": [
       "4"
      ]
     },
     "execution_count": 65,
     "metadata": {},
     "output_type": "execute_result"
    }
   ],
   "source": [
    "len(station_names)"
   ]
  },
  {
   "cell_type": "markdown",
   "metadata": {},
   "source": [
    "Just as expected, there are 4 values in our list and `len(station_names)` returns a value of `4`."
   ]
  },
  {
   "cell_type": "markdown",
   "metadata": {},
   "source": [
    "### Index value tips\n",
    "\n",
    "If we know the length of the list, we can now use it to find the value of the last item in the list, right? What happens if you print the value from the `station_names` list at index `4`, the value of the length of the list?"
   ]
  },
  {
   "cell_type": "code",
   "execution_count": 66,
   "metadata": {
    "tags": [
     "raises-exception"
    ]
   },
   "outputs": [
    {
     "ename": "IndexError",
     "evalue": "list index out of range",
     "output_type": "error",
     "traceback": [
      "\u001b[1;31m---------------------------------------------------------------------------\u001b[0m",
      "\u001b[1;31mIndexError\u001b[0m                                Traceback (most recent call last)",
      "\u001b[1;32m<ipython-input-66-dc7905f18eab>\u001b[0m in \u001b[0;36m<module>\u001b[1;34m\u001b[0m\n\u001b[1;32m----> 1\u001b[1;33m \u001b[0mprint\u001b[0m\u001b[1;33m(\u001b[0m\u001b[0mstation_names\u001b[0m\u001b[1;33m[\u001b[0m\u001b[1;36m4\u001b[0m\u001b[1;33m]\u001b[0m\u001b[1;33m)\u001b[0m\u001b[1;33m\u001b[0m\u001b[1;33m\u001b[0m\u001b[0m\n\u001b[0m",
      "\u001b[1;31mIndexError\u001b[0m: list index out of range"
     ]
    }
   ],
   "source": [
    "print(station_names[4])"
   ]
  },
  {
   "cell_type": "markdown",
   "metadata": {},
   "source": [
    "An `IndexError`? That’s right, since our list starts with index `0` and has 4 values, the index of the last item in the list is `len(station_names) - 1`. That isn’t ideal, but fortunately there’s a nice trick in Python to find the last item in a list. Let's first print the `station_names` list to remind us of the values that are in it."
   ]
  },
  {
   "cell_type": "code",
   "execution_count": 67,
   "metadata": {},
   "outputs": [
    {
     "name": "stdout",
     "output_type": "stream",
     "text": [
      "['Pico', 'Culver City', 'Westwood / Rancho Park', 'Downtown Santa Monica']\n"
     ]
    }
   ],
   "source": [
    "print(station_names)"
   ]
  },
  {
   "cell_type": "markdown",
   "metadata": {},
   "source": [
    "To find the value at the end of the list, we can print the value at index `-1`. To go further up the list in reverse, we can simply use larger negative numbers, such as index `-4`. Let's print out the values at these indices below."
   ]
  },
  {
   "cell_type": "code",
   "execution_count": 68,
   "metadata": {},
   "outputs": [
    {
     "name": "stdout",
     "output_type": "stream",
     "text": [
      "Downtown Santa Monica\n"
     ]
    }
   ],
   "source": [
    "print(station_names[-1])"
   ]
  },
  {
   "cell_type": "code",
   "execution_count": 69,
   "metadata": {},
   "outputs": [
    {
     "name": "stdout",
     "output_type": "stream",
     "text": [
      "Pico\n"
     ]
    }
   ],
   "source": [
    "print(station_names[-4])"
   ]
  },
  {
   "cell_type": "markdown",
   "metadata": {},
   "source": [
    "Yes, in Python you can go backwards through lists by using negative index values. Index `-1` gives the last value in the list and index `-len(station_names)` would give the first. Of course, you still need to keep the index values within their ranges. What happens if you check the value at index `-5`?"
   ]
  },
  {
   "cell_type": "code",
   "execution_count": 70,
   "metadata": {
    "tags": [
     "raises-exception"
    ]
   },
   "outputs": [
    {
     "ename": "IndexError",
     "evalue": "list index out of range",
     "output_type": "error",
     "traceback": [
      "\u001b[1;31m---------------------------------------------------------------------------\u001b[0m",
      "\u001b[1;31mIndexError\u001b[0m                                Traceback (most recent call last)",
      "\u001b[1;32m<ipython-input-70-65170e33400a>\u001b[0m in \u001b[0;36m<module>\u001b[1;34m\u001b[0m\n\u001b[1;32m----> 1\u001b[1;33m \u001b[0mprint\u001b[0m\u001b[1;33m(\u001b[0m\u001b[0mstation_names\u001b[0m\u001b[1;33m[\u001b[0m\u001b[1;33m-\u001b[0m\u001b[1;36m5\u001b[0m\u001b[1;33m]\u001b[0m\u001b[1;33m)\u001b[0m\u001b[1;33m\u001b[0m\u001b[1;33m\u001b[0m\u001b[0m\n\u001b[0m",
      "\u001b[1;31mIndexError\u001b[0m: list index out of range"
     ]
    }
   ],
   "source": [
    "print(station_names[-5])"
   ]
  },
  {
   "cell_type": "markdown",
   "metadata": {},
   "source": [
    "### Modifying list values\n",
    "\n",
    "Another nice feature of lists is that they are *mutable*, meaning that the values in a list that has been defined can be modified. Consider a list of the observation station types corresponding to the station names in the `station_names` list."
   ]
  },
  {
   "cell_type": "markdown",
   "metadata": {},
   "source": [
    "Let's change the value for `station_names[1]` to be `'Palms'` and print out the `station_names` list again."
   ]
  },
  {
   "cell_type": "code",
   "execution_count": 71,
   "metadata": {},
   "outputs": [
    {
     "name": "stdout",
     "output_type": "stream",
     "text": [
      "['Pico', 'Palms', 'Westwood / Rancho Park', 'Downtown Santa Monica']\n"
     ]
    }
   ],
   "source": [
    "station_names[1] = 'Palms'\n",
    "print(station_names)"
   ]
  },
  {
   "cell_type": "markdown",
   "metadata": {},
   "source": [
    "### Data types in lists\n",
    "\n",
    "Lists can also store more than one type of data. Let’s consider that in addition to having a list of each station name, FMISID, latitude, etc. we would like to have a list of all of the values for station ‘Helsinki Kaivopuisto’."
   ]
  },
  {
   "cell_type": "code",
   "execution_count": 72,
   "metadata": {},
   "outputs": [
    {
     "name": "stdout",
     "output_type": "stream",
     "text": [
      "['Westwood / Rancho Park', 806, 34.0368, -118.425, 806]\n"
     ]
    }
   ],
   "source": [
    "station_westwood_rancho = [station, linenum, lat, long, linenum]\n",
    "print(station_westwood_rancho)"
   ]
  },
  {
   "cell_type": "markdown",
   "metadata": {},
   "source": [
    "Here we have one list with 3 different types of data in it. We can confirm this using the `type()` function. Let's check the type of `station_hel_kaivo`, then the types of the values at indices `0-2` in the cells below."
   ]
  },
  {
   "cell_type": "code",
   "execution_count": 73,
   "metadata": {},
   "outputs": [
    {
     "data": {
      "text/plain": [
       "list"
      ]
     },
     "execution_count": 73,
     "metadata": {},
     "output_type": "execute_result"
    }
   ],
   "source": [
    "type(station_westwood_rancho)"
   ]
  },
  {
   "cell_type": "code",
   "execution_count": 74,
   "metadata": {},
   "outputs": [
    {
     "data": {
      "text/plain": [
       "str"
      ]
     },
     "execution_count": 74,
     "metadata": {},
     "output_type": "execute_result"
    }
   ],
   "source": [
    "type(station_westwood_rancho[0])    # The station name"
   ]
  },
  {
   "cell_type": "code",
   "execution_count": 75,
   "metadata": {},
   "outputs": [
    {
     "data": {
      "text/plain": [
       "int"
      ]
     },
     "execution_count": 75,
     "metadata": {},
     "output_type": "execute_result"
    }
   ],
   "source": [
    "type(station_westwood_rancho[1])    # The FMISID"
   ]
  },
  {
   "cell_type": "code",
   "execution_count": 76,
   "metadata": {},
   "outputs": [
    {
     "data": {
      "text/plain": [
       "float"
      ]
     },
     "execution_count": 76,
     "metadata": {},
     "output_type": "execute_result"
    }
   ],
   "source": [
    "type(station_westwood_rancho[2])    # The station latitude"
   ]
  },
  {
   "cell_type": "markdown",
   "metadata": {},
   "source": [
    "### Adding and removing values from lists\n",
    "\n",
    "Finally, we can add and remove values from lists to change their lengths. Let’s consider that we no longer want to include the first value in the `station_names` list. Since we haven't see that list in a bit, let's first print it to the screen."
   ]
  },
  {
   "cell_type": "code",
   "execution_count": 77,
   "metadata": {},
   "outputs": [
    {
     "name": "stdout",
     "output_type": "stream",
     "text": [
      "['Pico', 'Palms', 'Westwood / Rancho Park', 'Downtown Santa Monica']\n"
     ]
    }
   ],
   "source": [
    "print(station_names)"
   ]
  },
  {
   "cell_type": "markdown",
   "metadata": {},
   "source": [
    "`del` allows values in lists to be removed. It can also be used to delete values from memory in Python. To remove the first value from the `station_names` list, we can simply type `del station_names[0]`. If you then print out the `station_names` list, you should see the first value has been removed."
   ]
  },
  {
   "cell_type": "code",
   "execution_count": 78,
   "metadata": {},
   "outputs": [],
   "source": [
    "del station_names[0]"
   ]
  },
  {
   "cell_type": "code",
   "execution_count": 79,
   "metadata": {},
   "outputs": [
    {
     "name": "stdout",
     "output_type": "stream",
     "text": [
      "['Palms', 'Westwood / Rancho Park', 'Downtown Santa Monica']\n"
     ]
    }
   ],
   "source": [
    "print(station_names)"
   ]
  },
  {
   "cell_type": "markdown",
   "metadata": {},
   "source": [
    "If we would instead like to add a few samples to the `station_names` list, we can type `station_names.append('List item to add')`, where `'List item to add'` would be the text that would be added to the list in this example. Let's add two values to our list in the cells below: `'Helsinki lighthouse'` and `'Helsinki Malmi airfield'`. After doing this, let's check the list contents by printing to the screen."
   ]
  },
  {
   "cell_type": "code",
   "execution_count": null,
   "metadata": {},
   "outputs": [],
   "source": []
  },
  {
   "cell_type": "code",
   "execution_count": null,
   "metadata": {},
   "outputs": [],
   "source": [
    "station_names.append('Helsinki lighthouse')\n",
    "station_names.append('Helsinki Malmi airfield')"
   ]
  },
  {
   "cell_type": "code",
   "execution_count": null,
   "metadata": {},
   "outputs": [],
   "source": [
    "print(station_names)"
   ]
  },
  {
   "cell_type": "markdown",
   "metadata": {},
   "source": [
    "As you can see, we add values one at a time using `station_names.append()`. `list.append()` is called a method in Python, which is a function that works for a given data type (a list in this case). We’ll see some other examples of useful list mtehods below."
   ]
  },
  {
   "cell_type": "markdown",
   "metadata": {},
   "source": [
    "### Appending to an integer? Not so fast...\n",
    "\n",
    "Let’s consider our list `station_names`. As we know, we already have data in the list `station_names`, and we can modify that data using built-in methods such as `station_names.append()`. In this case, the method `append()` is something that exists for lists, but not for other data types. It is intuitive that you might like to add (or append) things to a list, but perhaps it does not make sense to append to other data types. Below, let's create a variable `station_name_length` that we can use to store the length of the list `station_names`. We can then print the value of `station_name_length` to confirm the length is correct."
   ]
  },
  {
   "cell_type": "code",
   "execution_count": null,
   "metadata": {},
   "outputs": [],
   "source": [
    "station_name_length = len(station_names)"
   ]
  },
  {
   "cell_type": "code",
   "execution_count": null,
   "metadata": {},
   "outputs": [],
   "source": [
    "print(station_name_length)"
   ]
  },
  {
   "cell_type": "markdown",
   "metadata": {},
   "source": [
    "If we check the data type of `station_name_length`, we can see it is an integer value, as expected (do that below). What happens if you try to append the value `1` to `station_name_length`?"
   ]
  },
  {
   "cell_type": "code",
   "execution_count": null,
   "metadata": {},
   "outputs": [],
   "source": [
    "type(station_name_length)"
   ]
  },
  {
   "cell_type": "code",
   "execution_count": null,
   "metadata": {
    "tags": [
     "raises-exception"
    ]
   },
   "outputs": [],
   "source": [
    "station_name_length.append(1)"
   ]
  },
  {
   "cell_type": "markdown",
   "metadata": {},
   "source": [
    "Here we get an `AttributeError` because there is no method built in to the `int` data type to append to `int` data. While `append()` makes sense for `list` data, it is not sensible for `int` data, which is the reason no such method exists for `int` data."
   ]
  },
  {
   "cell_type": "markdown",
   "metadata": {},
   "source": [
    "### Some other useful list methods\n",
    "\n",
    "With lists we can do a number of useful things, such as count the number of times a value occurs in a list or where it occurs. The `list.count()` method can be used to find the number of instances of an item in a list. For instance, we can check to see how many times `'Helsinki Kumpula'` occurs in our list `station_names` by typing `station_names.count('Helsinki Kumpula')`."
   ]
  },
  {
   "cell_type": "code",
   "execution_count": null,
   "metadata": {},
   "outputs": [],
   "source": [
    "station_names.count('Helsinki Kumpula')    # The count method counts the number of occurences of a value"
   ]
  },
  {
   "cell_type": "markdown",
   "metadata": {},
   "source": [
    "Similarly, we can use the `list.index()` method to find the index value of a given item in a list. Let's use the cell below to find the index of `'Helsinki Kumpula'` in the `station_names` list."
   ]
  },
  {
   "cell_type": "code",
   "execution_count": null,
   "metadata": {},
   "outputs": [],
   "source": [
    "station_names.index('Helsinki Kumpula')    # The index method gives the index value of an item in a list"
   ]
  },
  {
   "cell_type": "markdown",
   "metadata": {},
   "source": [
    "The good news here is that our selected station name is only in the list once. Should we need to modify it for some reason, we also now know where it is in the list (index `2`)."
   ]
  },
  {
   "cell_type": "markdown",
   "metadata": {},
   "source": [
    "### Reversing a list\n",
    "\n",
    "There are two other common methods for lists that we need to see. First, there is the `list.reverse()` method, used to reverse the order of items in a list. Let's reverse our `station_names` list below and then print the results."
   ]
  },
  {
   "cell_type": "code",
   "execution_count": null,
   "metadata": {},
   "outputs": [],
   "source": [
    "station_names.reverse()"
   ]
  },
  {
   "cell_type": "code",
   "execution_count": null,
   "metadata": {},
   "outputs": [],
   "source": [
    "print(station_names)"
   ]
  },
  {
   "cell_type": "markdown",
   "metadata": {},
   "source": [
    "Yay, it works!"
   ]
  },
  {
   "cell_type": "markdown",
   "metadata": {},
   "source": [
    "<div class=\"alert alert-warning\">\n",
    "\n",
    "**Caution**\n",
    "\n",
    "A common mistake when sorting lists is to do something like `station_names = station_names.reverse()`. **Do not do this!** When reversing lists with `.reverse()` the `None` value is returned (this is why there is no screen ouput when running `station_names.reverse()`). If you then assign the output of `station_names.reverse()` to `station_names` you will reverse the list, but then overwrite its contents with the returned value `None`. This means you’ve deleted the contents of your list (!).\n",
    "\n",
    "</div>"
   ]
  },
  {
   "cell_type": "markdown",
   "metadata": {},
   "source": [
    "### Sorting a list\n",
    "\n",
    "The `list.sort()` method works the same way. Let's sort our `station_names` list and print its contents below."
   ]
  },
  {
   "cell_type": "code",
   "execution_count": null,
   "metadata": {},
   "outputs": [],
   "source": [
    "station_names.sort()   # Notice no output here..."
   ]
  },
  {
   "cell_type": "code",
   "execution_count": null,
   "metadata": {},
   "outputs": [],
   "source": [
    "print(station_names)"
   ]
  },
  {
   "cell_type": "markdown",
   "metadata": {},
   "source": [
    "As you can see, the list has been sorted alphabetically using the `list.sort()` method, but there is no screen output when this occurs. Again, if you were to assign that output to `station_names` the list would get sorted, but the contents would then be assigned `None`."
   ]
  },
  {
   "cell_type": "markdown",
   "metadata": {},
   "source": [
    "<div class=\"alert alert-info\">\n",
    "\n",
    "**Note**\n",
    "\n",
    "As you may have noticed, `Helsinki Malmi airfield` comes before `Helsinki lighthouse` in the sorted list. This is because alphabetical sorting in Python places capital letters before lowercase letters.\n",
    "\n",
    "</div>"
   ]
  }
 ],
 "metadata": {
  "kernelspec": {
   "display_name": "Python 3",
   "language": "python",
   "name": "python3"
  },
  "language_info": {
   "codemirror_mode": {
    "name": "ipython",
    "version": 3
   },
   "file_extension": ".py",
   "mimetype": "text/x-python",
   "name": "python",
   "nbconvert_exporter": "python",
   "pygments_lexer": "ipython3",
   "version": "3.8.5"
  },
  "toc": {
   "base_numbering": 1,
   "nav_menu": {},
   "number_sections": true,
   "sideBar": true,
   "skip_h1_title": false,
   "title_cell": "Table of Contents",
   "title_sidebar": "Contents",
   "toc_cell": false,
   "toc_position": {},
   "toc_section_display": true,
   "toc_window_display": false
  }
 },
 "nbformat": 4,
 "nbformat_minor": 4
}
